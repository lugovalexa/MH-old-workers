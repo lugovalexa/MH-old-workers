{
 "cells": [
  {
   "cell_type": "markdown",
   "metadata": {},
   "source": [
    "## 4 digits - Merging year and country wise"
   ]
  },
  {
   "cell_type": "markdown",
   "metadata": {},
   "source": [
    "### Waves 4,5,6"
   ]
  },
  {
   "cell_type": "code",
   "execution_count": 1,
   "metadata": {},
   "outputs": [],
   "source": [
    "import matplotlib.pyplot as plt\n",
    "import pandas as pd"
   ]
  },
  {
   "cell_type": "code",
   "execution_count": 2,
   "metadata": {},
   "outputs": [],
   "source": [
    "df = pd.read_csv(\n",
    "    \"/Users/alexandralugova/Documents/GitHub/MH-old-workers/data/datasets/results/data_clean_w456.csv\"\n",
    ")\n",
    "indexes = pd.read_csv(\n",
    "    \"/Users/alexandralugova/Documents/GitHub/MH-old-workers/data/datasets/results/work_quality_indexes_year_country.csv\"\n",
    ")"
   ]
  },
  {
   "cell_type": "code",
   "execution_count": 3,
   "metadata": {},
   "outputs": [],
   "source": [
    "df = df.merge(indexes, on=[\"year\", \"country\", \"isco\"], how=\"inner\")"
   ]
  },
  {
   "cell_type": "code",
   "execution_count": 4,
   "metadata": {},
   "outputs": [
    {
     "data": {
      "text/html": [
       "<div>\n",
       "<style scoped>\n",
       "    .dataframe tbody tr th:only-of-type {\n",
       "        vertical-align: middle;\n",
       "    }\n",
       "\n",
       "    .dataframe tbody tr th {\n",
       "        vertical-align: top;\n",
       "    }\n",
       "\n",
       "    .dataframe thead th {\n",
       "        text-align: right;\n",
       "    }\n",
       "</style>\n",
       "<table border=\"1\" class=\"dataframe\">\n",
       "  <thead>\n",
       "    <tr style=\"text-align: right;\">\n",
       "      <th></th>\n",
       "      <th>mergeid</th>\n",
       "      <th>wave</th>\n",
       "      <th>year</th>\n",
       "      <th>age</th>\n",
       "      <th>nb_children</th>\n",
       "      <th>partnerinhh</th>\n",
       "      <th>job_status</th>\n",
       "      <th>eurod</th>\n",
       "      <th>eurodcat</th>\n",
       "      <th>country</th>\n",
       "      <th>...</th>\n",
       "      <th>jqi_intensity</th>\n",
       "      <th>jqi_prospects</th>\n",
       "      <th>jqi_working_time_quality</th>\n",
       "      <th>jqi_monthly_earnings_weighted</th>\n",
       "      <th>jqi_skills_discretion_weighted</th>\n",
       "      <th>jqi_social_environment_weighted</th>\n",
       "      <th>jqi_physical_environment_weighted</th>\n",
       "      <th>jqi_intensity_weighted</th>\n",
       "      <th>jqi_prospects_weighted</th>\n",
       "      <th>jqi_working_time_quality_weighted</th>\n",
       "    </tr>\n",
       "  </thead>\n",
       "  <tbody>\n",
       "    <tr>\n",
       "      <th>0</th>\n",
       "      <td>AT-011070-01</td>\n",
       "      <td>4</td>\n",
       "      <td>2011</td>\n",
       "      <td>59.0</td>\n",
       "      <td>2.0</td>\n",
       "      <td>1</td>\n",
       "      <td>Civil servant</td>\n",
       "      <td>2.0</td>\n",
       "      <td>0</td>\n",
       "      <td>Austria</td>\n",
       "      <td>...</td>\n",
       "      <td>60.465116</td>\n",
       "      <td>29.687500</td>\n",
       "      <td>82.291667</td>\n",
       "      <td>2018.544145</td>\n",
       "      <td>80.457574</td>\n",
       "      <td>79.867051</td>\n",
       "      <td>97.823588</td>\n",
       "      <td>64.575931</td>\n",
       "      <td>31.119540</td>\n",
       "      <td>86.453532</td>\n",
       "    </tr>\n",
       "    <tr>\n",
       "      <th>1</th>\n",
       "      <td>AT-326780-02</td>\n",
       "      <td>4</td>\n",
       "      <td>2011</td>\n",
       "      <td>57.0</td>\n",
       "      <td>2.0</td>\n",
       "      <td>1</td>\n",
       "      <td>Civil servant</td>\n",
       "      <td>5.0</td>\n",
       "      <td>1</td>\n",
       "      <td>Austria</td>\n",
       "      <td>...</td>\n",
       "      <td>60.465116</td>\n",
       "      <td>29.687500</td>\n",
       "      <td>82.291667</td>\n",
       "      <td>2018.544145</td>\n",
       "      <td>80.457574</td>\n",
       "      <td>79.867051</td>\n",
       "      <td>97.823588</td>\n",
       "      <td>64.575931</td>\n",
       "      <td>31.119540</td>\n",
       "      <td>86.453532</td>\n",
       "    </tr>\n",
       "    <tr>\n",
       "      <th>2</th>\n",
       "      <td>AT-413796-01</td>\n",
       "      <td>4</td>\n",
       "      <td>2011</td>\n",
       "      <td>55.0</td>\n",
       "      <td>1.0</td>\n",
       "      <td>1</td>\n",
       "      <td>Civil servant</td>\n",
       "      <td>2.0</td>\n",
       "      <td>0</td>\n",
       "      <td>Austria</td>\n",
       "      <td>...</td>\n",
       "      <td>60.465116</td>\n",
       "      <td>29.687500</td>\n",
       "      <td>82.291667</td>\n",
       "      <td>2018.544145</td>\n",
       "      <td>80.457574</td>\n",
       "      <td>79.867051</td>\n",
       "      <td>97.823588</td>\n",
       "      <td>64.575931</td>\n",
       "      <td>31.119540</td>\n",
       "      <td>86.453532</td>\n",
       "    </tr>\n",
       "    <tr>\n",
       "      <th>3</th>\n",
       "      <td>AT-433002-01</td>\n",
       "      <td>4</td>\n",
       "      <td>2011</td>\n",
       "      <td>55.0</td>\n",
       "      <td>1.0</td>\n",
       "      <td>0</td>\n",
       "      <td>Civil servant</td>\n",
       "      <td>6.0</td>\n",
       "      <td>1</td>\n",
       "      <td>Austria</td>\n",
       "      <td>...</td>\n",
       "      <td>60.465116</td>\n",
       "      <td>29.687500</td>\n",
       "      <td>82.291667</td>\n",
       "      <td>2018.544145</td>\n",
       "      <td>80.457574</td>\n",
       "      <td>79.867051</td>\n",
       "      <td>97.823588</td>\n",
       "      <td>64.575931</td>\n",
       "      <td>31.119540</td>\n",
       "      <td>86.453532</td>\n",
       "    </tr>\n",
       "    <tr>\n",
       "      <th>4</th>\n",
       "      <td>AT-594803-02</td>\n",
       "      <td>4</td>\n",
       "      <td>2011</td>\n",
       "      <td>57.0</td>\n",
       "      <td>1.0</td>\n",
       "      <td>1</td>\n",
       "      <td>Civil servant</td>\n",
       "      <td>4.0</td>\n",
       "      <td>1</td>\n",
       "      <td>Austria</td>\n",
       "      <td>...</td>\n",
       "      <td>60.465116</td>\n",
       "      <td>29.687500</td>\n",
       "      <td>82.291667</td>\n",
       "      <td>2018.544145</td>\n",
       "      <td>80.457574</td>\n",
       "      <td>79.867051</td>\n",
       "      <td>97.823588</td>\n",
       "      <td>64.575931</td>\n",
       "      <td>31.119540</td>\n",
       "      <td>86.453532</td>\n",
       "    </tr>\n",
       "    <tr>\n",
       "      <th>...</th>\n",
       "      <td>...</td>\n",
       "      <td>...</td>\n",
       "      <td>...</td>\n",
       "      <td>...</td>\n",
       "      <td>...</td>\n",
       "      <td>...</td>\n",
       "      <td>...</td>\n",
       "      <td>...</td>\n",
       "      <td>...</td>\n",
       "      <td>...</td>\n",
       "      <td>...</td>\n",
       "      <td>...</td>\n",
       "      <td>...</td>\n",
       "      <td>...</td>\n",
       "      <td>...</td>\n",
       "      <td>...</td>\n",
       "      <td>...</td>\n",
       "      <td>...</td>\n",
       "      <td>...</td>\n",
       "      <td>...</td>\n",
       "      <td>...</td>\n",
       "    </tr>\n",
       "    <tr>\n",
       "      <th>7781</th>\n",
       "      <td>SI-951611-02</td>\n",
       "      <td>6</td>\n",
       "      <td>2015</td>\n",
       "      <td>54.0</td>\n",
       "      <td>2.0</td>\n",
       "      <td>1</td>\n",
       "      <td>Public sector employee</td>\n",
       "      <td>3.0</td>\n",
       "      <td>0</td>\n",
       "      <td>Slovenia</td>\n",
       "      <td>...</td>\n",
       "      <td>58.139535</td>\n",
       "      <td>31.250000</td>\n",
       "      <td>96.875000</td>\n",
       "      <td>554.748656</td>\n",
       "      <td>29.678305</td>\n",
       "      <td>24.060877</td>\n",
       "      <td>40.734421</td>\n",
       "      <td>26.460570</td>\n",
       "      <td>17.093089</td>\n",
       "      <td>49.651581</td>\n",
       "    </tr>\n",
       "    <tr>\n",
       "      <th>7782</th>\n",
       "      <td>SI-966058-01</td>\n",
       "      <td>6</td>\n",
       "      <td>2015</td>\n",
       "      <td>57.0</td>\n",
       "      <td>2.0</td>\n",
       "      <td>0</td>\n",
       "      <td>Public sector employee</td>\n",
       "      <td>4.0</td>\n",
       "      <td>1</td>\n",
       "      <td>Slovenia</td>\n",
       "      <td>...</td>\n",
       "      <td>63.565891</td>\n",
       "      <td>42.857143</td>\n",
       "      <td>89.389706</td>\n",
       "      <td>659.185057</td>\n",
       "      <td>43.628426</td>\n",
       "      <td>68.433711</td>\n",
       "      <td>61.778573</td>\n",
       "      <td>39.993333</td>\n",
       "      <td>35.662705</td>\n",
       "      <td>63.517250</td>\n",
       "    </tr>\n",
       "    <tr>\n",
       "      <th>7783</th>\n",
       "      <td>SI-974683-01</td>\n",
       "      <td>6</td>\n",
       "      <td>2015</td>\n",
       "      <td>57.0</td>\n",
       "      <td>2.0</td>\n",
       "      <td>1</td>\n",
       "      <td>Public sector employee</td>\n",
       "      <td>1.0</td>\n",
       "      <td>0</td>\n",
       "      <td>Slovenia</td>\n",
       "      <td>...</td>\n",
       "      <td>41.860465</td>\n",
       "      <td>58.653846</td>\n",
       "      <td>91.523438</td>\n",
       "      <td>383.575878</td>\n",
       "      <td>18.783260</td>\n",
       "      <td>35.997276</td>\n",
       "      <td>36.763208</td>\n",
       "      <td>25.365239</td>\n",
       "      <td>29.883727</td>\n",
       "      <td>42.851541</td>\n",
       "    </tr>\n",
       "    <tr>\n",
       "      <th>7784</th>\n",
       "      <td>SI-988814-02</td>\n",
       "      <td>6</td>\n",
       "      <td>2015</td>\n",
       "      <td>59.0</td>\n",
       "      <td>3.0</td>\n",
       "      <td>1</td>\n",
       "      <td>Private sector employee</td>\n",
       "      <td>0.0</td>\n",
       "      <td>0</td>\n",
       "      <td>Slovenia</td>\n",
       "      <td>...</td>\n",
       "      <td>37.790698</td>\n",
       "      <td>75.000000</td>\n",
       "      <td>94.000000</td>\n",
       "      <td>2026.117064</td>\n",
       "      <td>118.743503</td>\n",
       "      <td>142.708718</td>\n",
       "      <td>138.440094</td>\n",
       "      <td>63.146188</td>\n",
       "      <td>120.958226</td>\n",
       "      <td>149.977384</td>\n",
       "    </tr>\n",
       "    <tr>\n",
       "      <th>7785</th>\n",
       "      <td>SI-993306-01</td>\n",
       "      <td>6</td>\n",
       "      <td>2015</td>\n",
       "      <td>58.0</td>\n",
       "      <td>2.0</td>\n",
       "      <td>1</td>\n",
       "      <td>Private sector employee</td>\n",
       "      <td>0.0</td>\n",
       "      <td>0</td>\n",
       "      <td>Slovenia</td>\n",
       "      <td>...</td>\n",
       "      <td>34.883721</td>\n",
       "      <td>65.625000</td>\n",
       "      <td>87.218750</td>\n",
       "      <td>1362.293571</td>\n",
       "      <td>53.340451</td>\n",
       "      <td>114.322871</td>\n",
       "      <td>120.851356</td>\n",
       "      <td>67.826895</td>\n",
       "      <td>99.247572</td>\n",
       "      <td>129.201552</td>\n",
       "    </tr>\n",
       "  </tbody>\n",
       "</table>\n",
       "<p>7786 rows × 35 columns</p>\n",
       "</div>"
      ],
      "text/plain": [
       "           mergeid  wave  year   age  nb_children  partnerinhh  \\\n",
       "0     AT-011070-01     4  2011  59.0          2.0            1   \n",
       "1     AT-326780-02     4  2011  57.0          2.0            1   \n",
       "2     AT-413796-01     4  2011  55.0          1.0            1   \n",
       "3     AT-433002-01     4  2011  55.0          1.0            0   \n",
       "4     AT-594803-02     4  2011  57.0          1.0            1   \n",
       "...            ...   ...   ...   ...          ...          ...   \n",
       "7781  SI-951611-02     6  2015  54.0          2.0            1   \n",
       "7782  SI-966058-01     6  2015  57.0          2.0            0   \n",
       "7783  SI-974683-01     6  2015  57.0          2.0            1   \n",
       "7784  SI-988814-02     6  2015  59.0          3.0            1   \n",
       "7785  SI-993306-01     6  2015  58.0          2.0            1   \n",
       "\n",
       "                   job_status  eurod  eurodcat   country  ...  jqi_intensity  \\\n",
       "0               Civil servant    2.0         0   Austria  ...      60.465116   \n",
       "1               Civil servant    5.0         1   Austria  ...      60.465116   \n",
       "2               Civil servant    2.0         0   Austria  ...      60.465116   \n",
       "3               Civil servant    6.0         1   Austria  ...      60.465116   \n",
       "4               Civil servant    4.0         1   Austria  ...      60.465116   \n",
       "...                       ...    ...       ...       ...  ...            ...   \n",
       "7781   Public sector employee    3.0         0  Slovenia  ...      58.139535   \n",
       "7782   Public sector employee    4.0         1  Slovenia  ...      63.565891   \n",
       "7783   Public sector employee    1.0         0  Slovenia  ...      41.860465   \n",
       "7784  Private sector employee    0.0         0  Slovenia  ...      37.790698   \n",
       "7785  Private sector employee    0.0         0  Slovenia  ...      34.883721   \n",
       "\n",
       "      jqi_prospects  jqi_working_time_quality  jqi_monthly_earnings_weighted  \\\n",
       "0         29.687500                 82.291667                    2018.544145   \n",
       "1         29.687500                 82.291667                    2018.544145   \n",
       "2         29.687500                 82.291667                    2018.544145   \n",
       "3         29.687500                 82.291667                    2018.544145   \n",
       "4         29.687500                 82.291667                    2018.544145   \n",
       "...             ...                       ...                            ...   \n",
       "7781      31.250000                 96.875000                     554.748656   \n",
       "7782      42.857143                 89.389706                     659.185057   \n",
       "7783      58.653846                 91.523438                     383.575878   \n",
       "7784      75.000000                 94.000000                    2026.117064   \n",
       "7785      65.625000                 87.218750                    1362.293571   \n",
       "\n",
       "      jqi_skills_discretion_weighted  jqi_social_environment_weighted  \\\n",
       "0                          80.457574                        79.867051   \n",
       "1                          80.457574                        79.867051   \n",
       "2                          80.457574                        79.867051   \n",
       "3                          80.457574                        79.867051   \n",
       "4                          80.457574                        79.867051   \n",
       "...                              ...                              ...   \n",
       "7781                       29.678305                        24.060877   \n",
       "7782                       43.628426                        68.433711   \n",
       "7783                       18.783260                        35.997276   \n",
       "7784                      118.743503                       142.708718   \n",
       "7785                       53.340451                       114.322871   \n",
       "\n",
       "      jqi_physical_environment_weighted  jqi_intensity_weighted  \\\n",
       "0                             97.823588               64.575931   \n",
       "1                             97.823588               64.575931   \n",
       "2                             97.823588               64.575931   \n",
       "3                             97.823588               64.575931   \n",
       "4                             97.823588               64.575931   \n",
       "...                                 ...                     ...   \n",
       "7781                          40.734421               26.460570   \n",
       "7782                          61.778573               39.993333   \n",
       "7783                          36.763208               25.365239   \n",
       "7784                         138.440094               63.146188   \n",
       "7785                         120.851356               67.826895   \n",
       "\n",
       "      jqi_prospects_weighted  jqi_working_time_quality_weighted  \n",
       "0                  31.119540                          86.453532  \n",
       "1                  31.119540                          86.453532  \n",
       "2                  31.119540                          86.453532  \n",
       "3                  31.119540                          86.453532  \n",
       "4                  31.119540                          86.453532  \n",
       "...                      ...                                ...  \n",
       "7781               17.093089                          49.651581  \n",
       "7782               35.662705                          63.517250  \n",
       "7783               29.883727                          42.851541  \n",
       "7784              120.958226                         149.977384  \n",
       "7785               99.247572                         129.201552  \n",
       "\n",
       "[7786 rows x 35 columns]"
      ]
     },
     "execution_count": 4,
     "metadata": {},
     "output_type": "execute_result"
    }
   ],
   "source": [
    "df"
   ]
  },
  {
   "cell_type": "code",
   "execution_count": 5,
   "metadata": {},
   "outputs": [
    {
     "data": {
      "text/plain": [
       "4761"
      ]
     },
     "execution_count": 5,
     "metadata": {},
     "output_type": "execute_result"
    }
   ],
   "source": [
    "df.mergeid.nunique()"
   ]
  },
  {
   "cell_type": "code",
   "execution_count": 6,
   "metadata": {},
   "outputs": [
    {
     "data": {
      "text/plain": [
       "country\n",
       "Austria           257\n",
       "Belgium           735\n",
       "Czech Republic    339\n",
       "Denmark           389\n",
       "Estonia           555\n",
       "France            356\n",
       "Germany           581\n",
       "Italy             429\n",
       "Slovenia          289\n",
       "Spain             576\n",
       "Switzerland       255\n",
       "Name: mergeid, dtype: int64"
      ]
     },
     "execution_count": 6,
     "metadata": {},
     "output_type": "execute_result"
    }
   ],
   "source": [
    "df.groupby(\"country\").mergeid.nunique()"
   ]
  },
  {
   "cell_type": "code",
   "execution_count": 7,
   "metadata": {},
   "outputs": [
    {
     "data": {
      "text/plain": [
       "year\n",
       "2011    2226\n",
       "2013    2464\n",
       "2015    3096\n",
       "Name: mergeid, dtype: int64"
      ]
     },
     "execution_count": 7,
     "metadata": {},
     "output_type": "execute_result"
    }
   ],
   "source": [
    "df.groupby(\"year\").mergeid.nunique()"
   ]
  },
  {
   "cell_type": "code",
   "execution_count": 8,
   "metadata": {},
   "outputs": [],
   "source": [
    "df.to_csv(\n",
    "    \"/Users/alexandralugova/Documents/GitHub/MH-old-workers/data/datasets/results/4digits_w456_year_country.csv\",\n",
    "    index=False,\n",
    ")"
   ]
  },
  {
   "cell_type": "markdown",
   "metadata": {},
   "source": [
    "### Some descriptive stats"
   ]
  },
  {
   "cell_type": "code",
   "execution_count": 9,
   "metadata": {},
   "outputs": [
    {
     "data": {
      "text/html": [
       "<div>\n",
       "<style scoped>\n",
       "    .dataframe tbody tr th:only-of-type {\n",
       "        vertical-align: middle;\n",
       "    }\n",
       "\n",
       "    .dataframe tbody tr th {\n",
       "        vertical-align: top;\n",
       "    }\n",
       "\n",
       "    .dataframe thead th {\n",
       "        text-align: right;\n",
       "    }\n",
       "</style>\n",
       "<table border=\"1\" class=\"dataframe\">\n",
       "  <thead>\n",
       "    <tr style=\"text-align: right;\">\n",
       "      <th></th>\n",
       "      <th>age</th>\n",
       "      <th>gender</th>\n",
       "      <th>nb_children</th>\n",
       "      <th>yrseducation</th>\n",
       "    </tr>\n",
       "  </thead>\n",
       "  <tbody>\n",
       "    <tr>\n",
       "      <th>count</th>\n",
       "      <td>7786.00</td>\n",
       "      <td>7786.00</td>\n",
       "      <td>7786.00</td>\n",
       "      <td>7786.00</td>\n",
       "    </tr>\n",
       "    <tr>\n",
       "      <th>mean</th>\n",
       "      <td>56.39</td>\n",
       "      <td>0.56</td>\n",
       "      <td>1.77</td>\n",
       "      <td>12.96</td>\n",
       "    </tr>\n",
       "    <tr>\n",
       "      <th>std</th>\n",
       "      <td>3.15</td>\n",
       "      <td>0.50</td>\n",
       "      <td>1.26</td>\n",
       "      <td>4.28</td>\n",
       "    </tr>\n",
       "    <tr>\n",
       "      <th>min</th>\n",
       "      <td>50.00</td>\n",
       "      <td>0.00</td>\n",
       "      <td>0.00</td>\n",
       "      <td>0.00</td>\n",
       "    </tr>\n",
       "    <tr>\n",
       "      <th>25%</th>\n",
       "      <td>54.00</td>\n",
       "      <td>0.00</td>\n",
       "      <td>1.00</td>\n",
       "      <td>11.00</td>\n",
       "    </tr>\n",
       "    <tr>\n",
       "      <th>50%</th>\n",
       "      <td>56.00</td>\n",
       "      <td>1.00</td>\n",
       "      <td>2.00</td>\n",
       "      <td>13.00</td>\n",
       "    </tr>\n",
       "    <tr>\n",
       "      <th>75%</th>\n",
       "      <td>59.00</td>\n",
       "      <td>1.00</td>\n",
       "      <td>2.00</td>\n",
       "      <td>16.00</td>\n",
       "    </tr>\n",
       "    <tr>\n",
       "      <th>max</th>\n",
       "      <td>65.00</td>\n",
       "      <td>1.00</td>\n",
       "      <td>10.00</td>\n",
       "      <td>39.00</td>\n",
       "    </tr>\n",
       "  </tbody>\n",
       "</table>\n",
       "</div>"
      ],
      "text/plain": [
       "           age   gender  nb_children  yrseducation\n",
       "count  7786.00  7786.00      7786.00       7786.00\n",
       "mean     56.39     0.56         1.77         12.96\n",
       "std       3.15     0.50         1.26          4.28\n",
       "min      50.00     0.00         0.00          0.00\n",
       "25%      54.00     0.00         1.00         11.00\n",
       "50%      56.00     1.00         2.00         13.00\n",
       "75%      59.00     1.00         2.00         16.00\n",
       "max      65.00     1.00        10.00         39.00"
      ]
     },
     "execution_count": 9,
     "metadata": {},
     "output_type": "execute_result"
    }
   ],
   "source": [
    "round(df[[\"age\", \"gender\", \"nb_children\", \"yrseducation\"]].describe(), 2)"
   ]
  },
  {
   "cell_type": "code",
   "execution_count": 10,
   "metadata": {},
   "outputs": [
    {
     "data": {
      "image/png": "[encoded data removed]",
      "text/plain": [
       "<Figure size 700x500 with 4 Axes>"
      ]
     },
     "metadata": {},
     "output_type": "display_data"
    }
   ],
   "source": [
    "fig, axs = plt.subplots(2, 2, figsize=(7, 5))\n",
    "\n",
    "axs[0, 0].hist(df[\"age\"], bins=30, color=\"skyblue\", alpha=0.7)\n",
    "axs[0, 0].set_title(\"Age\")\n",
    "\n",
    "axs[0, 1].hist(df[\"gender\"], bins=30, color=\"salmon\", alpha=0.7)\n",
    "axs[0, 1].set_title(\"Gender\")\n",
    "\n",
    "axs[1, 0].hist(df[\"nb_children\"], bins=30, color=\"lightgreen\", alpha=0.7)\n",
    "axs[1, 0].set_title(\"Number of children\")\n",
    "\n",
    "axs[1, 1].hist(df[\"yrseducation\"], bins=30, color=\"gold\", alpha=0.7)\n",
    "axs[1, 1].set_title(\"Years of education\")\n",
    "\n",
    "plt.tight_layout()\n",
    "\n",
    "plt.show()"
   ]
  },
  {
   "cell_type": "code",
   "execution_count": 11,
   "metadata": {},
   "outputs": [
    {
     "data": {
      "text/plain": [
       "job_status\n",
       "Private sector employee    0.39\n",
       "Public sector employee     0.24\n",
       "Employee                   0.20\n",
       "Self-employed              0.12\n",
       "Civil servant              0.05\n",
       "Name: proportion, dtype: float64"
      ]
     },
     "execution_count": 11,
     "metadata": {},
     "output_type": "execute_result"
    }
   ],
   "source": [
    "round(df[\"job_status\"].value_counts(normalize=True), 2)"
   ]
  },
  {
   "cell_type": "code",
   "execution_count": 12,
   "metadata": {},
   "outputs": [
    {
     "data": {
      "text/html": [
       "<div>\n",
       "<style scoped>\n",
       "    .dataframe tbody tr th:only-of-type {\n",
       "        vertical-align: middle;\n",
       "    }\n",
       "\n",
       "    .dataframe tbody tr th {\n",
       "        vertical-align: top;\n",
       "    }\n",
       "\n",
       "    .dataframe thead th {\n",
       "        text-align: right;\n",
       "    }\n",
       "</style>\n",
       "<table border=\"1\" class=\"dataframe\">\n",
       "  <thead>\n",
       "    <tr style=\"text-align: right;\">\n",
       "      <th></th>\n",
       "      <th>yrscontribution</th>\n",
       "      <th>retirement_age</th>\n",
       "      <th>work_horizon</th>\n",
       "      <th>work_horizon_change</th>\n",
       "    </tr>\n",
       "  </thead>\n",
       "  <tbody>\n",
       "    <tr>\n",
       "      <th>count</th>\n",
       "      <td>7786.00</td>\n",
       "      <td>7786.00</td>\n",
       "      <td>7786.00</td>\n",
       "      <td>7786.00</td>\n",
       "    </tr>\n",
       "    <tr>\n",
       "      <th>mean</th>\n",
       "      <td>35.86</td>\n",
       "      <td>63.29</td>\n",
       "      <td>6.90</td>\n",
       "      <td>0.24</td>\n",
       "    </tr>\n",
       "    <tr>\n",
       "      <th>std</th>\n",
       "      <td>6.10</td>\n",
       "      <td>2.17</td>\n",
       "      <td>3.41</td>\n",
       "      <td>0.57</td>\n",
       "    </tr>\n",
       "    <tr>\n",
       "      <th>min</th>\n",
       "      <td>6.00</td>\n",
       "      <td>57.00</td>\n",
       "      <td>0.08</td>\n",
       "      <td>0.00</td>\n",
       "    </tr>\n",
       "    <tr>\n",
       "      <th>25%</th>\n",
       "      <td>33.00</td>\n",
       "      <td>62.00</td>\n",
       "      <td>4.00</td>\n",
       "      <td>0.00</td>\n",
       "    </tr>\n",
       "    <tr>\n",
       "      <th>50%</th>\n",
       "      <td>36.00</td>\n",
       "      <td>65.00</td>\n",
       "      <td>7.00</td>\n",
       "      <td>0.00</td>\n",
       "    </tr>\n",
       "    <tr>\n",
       "      <th>75%</th>\n",
       "      <td>40.00</td>\n",
       "      <td>65.00</td>\n",
       "      <td>9.17</td>\n",
       "      <td>0.08</td>\n",
       "    </tr>\n",
       "    <tr>\n",
       "      <th>max</th>\n",
       "      <td>55.00</td>\n",
       "      <td>68.00</td>\n",
       "      <td>17.00</td>\n",
       "      <td>4.00</td>\n",
       "    </tr>\n",
       "  </tbody>\n",
       "</table>\n",
       "</div>"
      ],
      "text/plain": [
       "       yrscontribution  retirement_age  work_horizon  work_horizon_change\n",
       "count          7786.00         7786.00       7786.00              7786.00\n",
       "mean             35.86           63.29          6.90                 0.24\n",
       "std               6.10            2.17          3.41                 0.57\n",
       "min               6.00           57.00          0.08                 0.00\n",
       "25%              33.00           62.00          4.00                 0.00\n",
       "50%              36.00           65.00          7.00                 0.00\n",
       "75%              40.00           65.00          9.17                 0.08\n",
       "max              55.00           68.00         17.00                 4.00"
      ]
     },
     "execution_count": 12,
     "metadata": {},
     "output_type": "execute_result"
    }
   ],
   "source": [
    "round(\n",
    "    df[\n",
    "        [\"yrscontribution\", \"retirement_age\", \"work_horizon\", \"work_horizon_change\"]\n",
    "    ].describe(),\n",
    "    2,\n",
    ")"
   ]
  },
  {
   "cell_type": "code",
   "execution_count": 13,
   "metadata": {},
   "outputs": [
    {
     "data": {
      "image/png": "[encoded data removed]",
      "text/plain": [
       "<Figure size 700x500 with 4 Axes>"
      ]
     },
     "metadata": {},
     "output_type": "display_data"
    }
   ],
   "source": [
    "fig, axs = plt.subplots(2, 2, figsize=(7, 5))\n",
    "\n",
    "axs[0, 0].hist(df[\"yrscontribution\"], bins=30, color=\"skyblue\", alpha=0.7)\n",
    "axs[0, 0].set_title(\"Years of contribution\")\n",
    "\n",
    "axs[0, 1].hist(df[\"retirement_age\"], bins=30, color=\"salmon\", alpha=0.7)\n",
    "axs[0, 1].set_title(\"Retirement age\")\n",
    "\n",
    "axs[1, 0].hist(df[\"work_horizon\"], bins=30, color=\"lightgreen\", alpha=0.7)\n",
    "axs[1, 0].set_title(\"Work horizon, years\")\n",
    "\n",
    "axs[1, 1].hist(df[\"work_horizon_change\"], bins=30, color=\"gold\", alpha=0.7)\n",
    "axs[1, 1].set_title(\"Work horizon change by reform\")\n",
    "\n",
    "plt.tight_layout()\n",
    "\n",
    "plt.show()"
   ]
  },
  {
   "cell_type": "code",
   "execution_count": 14,
   "metadata": {},
   "outputs": [
    {
     "data": {
      "text/plain": [
       "eurodcat\n",
       "0    0.8\n",
       "1    0.2\n",
       "Name: proportion, dtype: float64"
      ]
     },
     "execution_count": 14,
     "metadata": {},
     "output_type": "execute_result"
    }
   ],
   "source": [
    "round(df[\"eurodcat\"].value_counts(normalize=True), 2)"
   ]
  },
  {
   "cell_type": "code",
   "execution_count": 15,
   "metadata": {},
   "outputs": [
    {
     "data": {
      "text/plain": [
       "eurod\n",
       "0.0     1990\n",
       "1.0     1892\n",
       "2.0     1396\n",
       "3.0      972\n",
       "4.0      693\n",
       "5.0      411\n",
       "6.0      217\n",
       "7.0      121\n",
       "8.0       47\n",
       "9.0       33\n",
       "10.0      10\n",
       "11.0       4\n",
       "Name: count, dtype: int64"
      ]
     },
     "execution_count": 15,
     "metadata": {},
     "output_type": "execute_result"
    }
   ],
   "source": [
    "df[\"eurod\"].value_counts()"
   ]
  },
  {
   "cell_type": "code",
   "execution_count": 16,
   "metadata": {},
   "outputs": [
    {
     "data": {
      "image/png": "[encoded data removed]",
      "text/plain": [
       "<Figure size 600x400 with 1 Axes>"
      ]
     },
     "metadata": {},
     "output_type": "display_data"
    }
   ],
   "source": [
    "plt.figure(figsize=(6, 4))\n",
    "plt.hist(df[\"eurod\"], bins=13, color=\"skyblue\", alpha=0.7)\n",
    "plt.title(\"EuroD scale score\")\n",
    "plt.xlabel(\"Values\")\n",
    "plt.ylabel(\"Frequency\")\n",
    "plt.grid(True)\n",
    "plt.show()"
   ]
  },
  {
   "cell_type": "code",
   "execution_count": 17,
   "metadata": {},
   "outputs": [
    {
     "data": {
      "text/html": [
       "<div>\n",
       "<style scoped>\n",
       "    .dataframe tbody tr th:only-of-type {\n",
       "        vertical-align: middle;\n",
       "    }\n",
       "\n",
       "    .dataframe tbody tr th {\n",
       "        vertical-align: top;\n",
       "    }\n",
       "\n",
       "    .dataframe thead th {\n",
       "        text-align: right;\n",
       "    }\n",
       "</style>\n",
       "<table border=\"1\" class=\"dataframe\">\n",
       "  <thead>\n",
       "    <tr style=\"text-align: right;\">\n",
       "      <th></th>\n",
       "      <th>jqi_monthly_earnings</th>\n",
       "      <th>jqi_skills_discretion</th>\n",
       "      <th>jqi_social_environment</th>\n",
       "      <th>jqi_physical_environment</th>\n",
       "      <th>jqi_intensity</th>\n",
       "      <th>jqi_prospects</th>\n",
       "      <th>jqi_working_time_quality</th>\n",
       "    </tr>\n",
       "  </thead>\n",
       "  <tbody>\n",
       "    <tr>\n",
       "      <th>count</th>\n",
       "      <td>7786.00</td>\n",
       "      <td>7786.00</td>\n",
       "      <td>7786.00</td>\n",
       "      <td>7786.00</td>\n",
       "      <td>7786.00</td>\n",
       "      <td>7786.00</td>\n",
       "      <td>7786.00</td>\n",
       "    </tr>\n",
       "    <tr>\n",
       "      <th>mean</th>\n",
       "      <td>1507.95</td>\n",
       "      <td>58.36</td>\n",
       "      <td>79.96</td>\n",
       "      <td>85.08</td>\n",
       "      <td>49.94</td>\n",
       "      <td>41.42</td>\n",
       "      <td>87.19</td>\n",
       "    </tr>\n",
       "    <tr>\n",
       "      <th>std</th>\n",
       "      <td>689.91</td>\n",
       "      <td>14.46</td>\n",
       "      <td>7.56</td>\n",
       "      <td>9.30</td>\n",
       "      <td>8.32</td>\n",
       "      <td>13.36</td>\n",
       "      <td>11.41</td>\n",
       "    </tr>\n",
       "    <tr>\n",
       "      <th>min</th>\n",
       "      <td>39.50</td>\n",
       "      <td>10.67</td>\n",
       "      <td>40.91</td>\n",
       "      <td>34.62</td>\n",
       "      <td>11.63</td>\n",
       "      <td>0.00</td>\n",
       "      <td>15.62</td>\n",
       "    </tr>\n",
       "    <tr>\n",
       "      <th>25%</th>\n",
       "      <td>1061.78</td>\n",
       "      <td>47.51</td>\n",
       "      <td>75.00</td>\n",
       "      <td>79.57</td>\n",
       "      <td>44.77</td>\n",
       "      <td>33.33</td>\n",
       "      <td>81.60</td>\n",
       "    </tr>\n",
       "    <tr>\n",
       "      <th>50%</th>\n",
       "      <td>1408.51</td>\n",
       "      <td>57.66</td>\n",
       "      <td>80.29</td>\n",
       "      <td>88.03</td>\n",
       "      <td>50.03</td>\n",
       "      <td>40.54</td>\n",
       "      <td>89.88</td>\n",
       "    </tr>\n",
       "    <tr>\n",
       "      <th>75%</th>\n",
       "      <td>1808.32</td>\n",
       "      <td>70.71</td>\n",
       "      <td>84.85</td>\n",
       "      <td>92.06</td>\n",
       "      <td>54.65</td>\n",
       "      <td>50.00</td>\n",
       "      <td>95.89</td>\n",
       "    </tr>\n",
       "    <tr>\n",
       "      <th>max</th>\n",
       "      <td>12267.43</td>\n",
       "      <td>93.62</td>\n",
       "      <td>100.00</td>\n",
       "      <td>100.00</td>\n",
       "      <td>83.72</td>\n",
       "      <td>100.00</td>\n",
       "      <td>100.00</td>\n",
       "    </tr>\n",
       "  </tbody>\n",
       "</table>\n",
       "</div>"
      ],
      "text/plain": [
       "       jqi_monthly_earnings  jqi_skills_discretion  jqi_social_environment  \\\n",
       "count               7786.00                7786.00                 7786.00   \n",
       "mean                1507.95                  58.36                   79.96   \n",
       "std                  689.91                  14.46                    7.56   \n",
       "min                   39.50                  10.67                   40.91   \n",
       "25%                 1061.78                  47.51                   75.00   \n",
       "50%                 1408.51                  57.66                   80.29   \n",
       "75%                 1808.32                  70.71                   84.85   \n",
       "max                12267.43                  93.62                  100.00   \n",
       "\n",
       "       jqi_physical_environment  jqi_intensity  jqi_prospects  \\\n",
       "count                   7786.00        7786.00        7786.00   \n",
       "mean                      85.08          49.94          41.42   \n",
       "std                        9.30           8.32          13.36   \n",
       "min                       34.62          11.63           0.00   \n",
       "25%                       79.57          44.77          33.33   \n",
       "50%                       88.03          50.03          40.54   \n",
       "75%                       92.06          54.65          50.00   \n",
       "max                      100.00          83.72         100.00   \n",
       "\n",
       "       jqi_working_time_quality  \n",
       "count                   7786.00  \n",
       "mean                      87.19  \n",
       "std                       11.41  \n",
       "min                       15.62  \n",
       "25%                       81.60  \n",
       "50%                       89.88  \n",
       "75%                       95.89  \n",
       "max                      100.00  "
      ]
     },
     "execution_count": 17,
     "metadata": {},
     "output_type": "execute_result"
    }
   ],
   "source": [
    "round(\n",
    "    df[\n",
    "        [\n",
    "            \"jqi_monthly_earnings\",\n",
    "            \"jqi_skills_discretion\",\n",
    "            \"jqi_social_environment\",\n",
    "            \"jqi_physical_environment\",\n",
    "            \"jqi_intensity\",\n",
    "            \"jqi_prospects\",\n",
    "            \"jqi_working_time_quality\",\n",
    "        ]\n",
    "    ].describe(),\n",
    "    2,\n",
    ")"
   ]
  },
  {
   "cell_type": "markdown",
   "metadata": {},
   "source": [
    "### Waves 4,5,6 common individuals"
   ]
  },
  {
   "cell_type": "code",
   "execution_count": 18,
   "metadata": {},
   "outputs": [
    {
     "data": {
      "text/plain": [
       "4761"
      ]
     },
     "execution_count": 18,
     "metadata": {},
     "output_type": "execute_result"
    }
   ],
   "source": [
    "df.mergeid.nunique()"
   ]
  },
  {
   "cell_type": "code",
   "execution_count": 19,
   "metadata": {},
   "outputs": [
    {
     "data": {
      "text/plain": [
       "815"
      ]
     },
     "execution_count": 19,
     "metadata": {},
     "output_type": "execute_result"
    }
   ],
   "source": [
    "unique_mergeid_w4 = set(df[df.wave == 4][\"mergeid\"].unique())\n",
    "unique_mergeid_w5 = set(df[df.wave == 5][\"mergeid\"].unique())\n",
    "unique_mergeid_w6 = set(df[df.wave == 6][\"mergeid\"].unique())\n",
    "intersection_ids = unique_mergeid_w4.intersection(unique_mergeid_w5).intersection(\n",
    "    unique_mergeid_w6\n",
    ")\n",
    "len(intersection_ids)"
   ]
  },
  {
   "cell_type": "code",
   "execution_count": 20,
   "metadata": {},
   "outputs": [],
   "source": [
    "w456_common = df[df[\"mergeid\"].isin(intersection_ids)].reset_index(drop=True)"
   ]
  },
  {
   "cell_type": "markdown",
   "metadata": {},
   "source": [
    "isco = w456_common[\"isco\"].value_counts().to_frame().reset_index()\n",
    "isco = isco[isco[\"count\"] >= 10]\n",
    "w456_common = w456_common[w456_common[\"isco\"].isin(isco[\"isco\"].unique())].reset_index(\n",
    "    drop=True\n",
    ")"
   ]
  },
  {
   "cell_type": "code",
   "execution_count": 21,
   "metadata": {},
   "outputs": [
    {
     "data": {
      "text/plain": [
       "country\n",
       "Austria            64\n",
       "Belgium           195\n",
       "Czech Republic     56\n",
       "Denmark            89\n",
       "Estonia           124\n",
       "France            105\n",
       "Germany            12\n",
       "Italy              64\n",
       "Slovenia           45\n",
       "Spain              61\n",
       "Name: mergeid, dtype: int64"
      ]
     },
     "execution_count": 21,
     "metadata": {},
     "output_type": "execute_result"
    }
   ],
   "source": [
    "w456_common.groupby(\"country\").mergeid.nunique()"
   ]
  },
  {
   "cell_type": "code",
   "execution_count": 22,
   "metadata": {},
   "outputs": [],
   "source": [
    "# Delete Germany as too few individuals\n",
    "w456_common = w456_common[w456_common.country != \"Germany\"].reset_index(drop=True)"
   ]
  },
  {
   "cell_type": "code",
   "execution_count": 23,
   "metadata": {},
   "outputs": [],
   "source": [
    "w456_common.to_csv(\n",
    "    \"/Users/alexandralugova/Documents/GitHub/MH-old-workers/data/datasets/results/4digits_w456_year_country_common.csv\",\n",
    "    index=False,\n",
    ")"
   ]
  },
  {
   "cell_type": "markdown",
   "metadata": {},
   "source": [
    "### Waves 4 and 6"
   ]
  },
  {
   "cell_type": "code",
   "execution_count": 24,
   "metadata": {},
   "outputs": [],
   "source": [
    "result = (\n",
    "    df[df[\"year\"].isin([2013, 2015])]\n",
    "    .groupby(\"mergeid\")[\"work_horizon_change\"]\n",
    "    .sum()\n",
    "    .reset_index()\n",
    ")\n",
    "result[\"year\"] = 2015\n",
    "\n",
    "df = df.drop(columns=\"work_horizon_change\")\n",
    "df = df.merge(result, on=[\"mergeid\", \"year\"], how=\"left\")\n",
    "\n",
    "df[\"work_horizon_change\"] = df[\"work_horizon_change\"].fillna(0)"
   ]
  },
  {
   "cell_type": "code",
   "execution_count": 25,
   "metadata": {},
   "outputs": [],
   "source": [
    "w46 = df[(df.wave == 4) | (df.wave == 6)].reset_index(drop=True)"
   ]
  },
  {
   "cell_type": "code",
   "execution_count": 26,
   "metadata": {},
   "outputs": [
    {
     "data": {
      "text/plain": [
       "4360"
      ]
     },
     "execution_count": 26,
     "metadata": {},
     "output_type": "execute_result"
    }
   ],
   "source": [
    "w46.mergeid.nunique()"
   ]
  },
  {
   "cell_type": "code",
   "execution_count": 27,
   "metadata": {},
   "outputs": [
    {
     "data": {
      "text/plain": [
       "country\n",
       "Austria           253\n",
       "Belgium           668\n",
       "Czech Republic    312\n",
       "Denmark           363\n",
       "Estonia           536\n",
       "France            345\n",
       "Germany           477\n",
       "Italy             389\n",
       "Slovenia          270\n",
       "Spain             492\n",
       "Switzerland       255\n",
       "Name: mergeid, dtype: int64"
      ]
     },
     "execution_count": 27,
     "metadata": {},
     "output_type": "execute_result"
    }
   ],
   "source": [
    "w46.groupby(\"country\").mergeid.nunique()"
   ]
  },
  {
   "cell_type": "code",
   "execution_count": 28,
   "metadata": {},
   "outputs": [
    {
     "data": {
      "text/plain": [
       "wave\n",
       "4    2226\n",
       "6    3096\n",
       "Name: mergeid, dtype: int64"
      ]
     },
     "execution_count": 28,
     "metadata": {},
     "output_type": "execute_result"
    }
   ],
   "source": [
    "w46.groupby(\"wave\").mergeid.nunique()"
   ]
  },
  {
   "cell_type": "code",
   "execution_count": 29,
   "metadata": {},
   "outputs": [],
   "source": [
    "w46.to_csv(\n",
    "    \"/Users/alexandralugova/Documents/GitHub/MH-old-workers/data/datasets/results/4digits_w46_year_country.csv\",\n",
    "    index=False,\n",
    ")"
   ]
  },
  {
   "cell_type": "markdown",
   "metadata": {},
   "source": [
    "### Waves 4 and 6 common individuals"
   ]
  },
  {
   "cell_type": "code",
   "execution_count": 30,
   "metadata": {},
   "outputs": [
    {
     "data": {
      "text/plain": [
       "962"
      ]
     },
     "execution_count": 30,
     "metadata": {},
     "output_type": "execute_result"
    }
   ],
   "source": [
    "unique_mergeid_w4 = set(w46[w46.wave == 4][\"mergeid\"].unique())\n",
    "unique_mergeid_w6 = set(w46[w46.wave == 6][\"mergeid\"].unique())\n",
    "intersection_ids = unique_mergeid_w4.intersection(unique_mergeid_w6)\n",
    "len(intersection_ids)"
   ]
  },
  {
   "cell_type": "code",
   "execution_count": 31,
   "metadata": {},
   "outputs": [],
   "source": [
    "w46_common = w46[w46[\"mergeid\"].isin(intersection_ids)].reset_index(drop=True)"
   ]
  },
  {
   "cell_type": "code",
   "execution_count": 32,
   "metadata": {},
   "outputs": [
    {
     "data": {
      "text/plain": [
       "country\n",
       "Austria            74\n",
       "Belgium           234\n",
       "Czech Republic     69\n",
       "Denmark            96\n",
       "Estonia           141\n",
       "France            119\n",
       "Germany            15\n",
       "Italy              83\n",
       "Slovenia           57\n",
       "Spain              74\n",
       "Name: mergeid, dtype: int64"
      ]
     },
     "execution_count": 32,
     "metadata": {},
     "output_type": "execute_result"
    }
   ],
   "source": [
    "w46_common.groupby(\"country\").mergeid.nunique()"
   ]
  },
  {
   "cell_type": "code",
   "execution_count": 33,
   "metadata": {},
   "outputs": [],
   "source": [
    "# Delete Germany as too few individuals\n",
    "w456_common = w456_common[w456_common.country != \"Germany\"].reset_index(drop=True)"
   ]
  },
  {
   "cell_type": "code",
   "execution_count": 34,
   "metadata": {},
   "outputs": [],
   "source": [
    "w46_common.to_csv(\n",
    "    \"/Users/alexandralugova/Documents/GitHub/MH-old-workers/data/datasets/results/4digits_w46_year_country_common.csv\",\n",
    "    index=False,\n",
    ")"
   ]
  }
 ],
 "metadata": {
  "kernelspec": {
   "display_name": "mhold",
   "language": "python",
   "name": "python3"
  },
  "language_info": {
   "codemirror_mode": {
    "name": "ipython",
    "version": 3
   },
   "file_extension": ".py",
   "mimetype": "text/x-python",
   "name": "python",
   "nbconvert_exporter": "python",
   "pygments_lexer": "ipython3",
   "version": "3.11.5"
  }
 },
 "nbformat": 4,
 "nbformat_minor": 2
}
