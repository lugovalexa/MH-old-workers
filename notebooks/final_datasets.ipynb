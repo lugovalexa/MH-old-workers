{
 "cells": [
  {
   "cell_type": "markdown",
   "metadata": {},
   "source": [
    "### Waves 4,5,6"
   ]
  },
  {
   "cell_type": "code",
   "execution_count": 1,
   "metadata": {},
   "outputs": [],
   "source": [
    "import pandas as pd"
   ]
  },
  {
   "cell_type": "code",
   "execution_count": 2,
   "metadata": {},
   "outputs": [],
   "source": [
    "df = pd.read_csv(\n",
    "    \"/Users/alexandralugova/Documents/GitHub/MH-old-workers/data/datasets/data_clean_w456.csv\"\n",
    ")\n",
    "indexes = pd.read_csv(\n",
    "    \"/Users/alexandralugova/Documents/GitHub/MH-old-workers/data/datasets/work_quality_indexes.csv\"\n",
    ")"
   ]
  },
  {
   "cell_type": "code",
   "execution_count": 3,
   "metadata": {},
   "outputs": [],
   "source": [
    "df = df.merge(indexes, on=[\"country\", \"year\", \"isco\"], how=\"inner\")"
   ]
  },
  {
   "cell_type": "code",
   "execution_count": 4,
   "metadata": {},
   "outputs": [
    {
     "data": {
      "text/html": [
       "<div>\n",
       "<style scoped>\n",
       "    .dataframe tbody tr th:only-of-type {\n",
       "        vertical-align: middle;\n",
       "    }\n",
       "\n",
       "    .dataframe tbody tr th {\n",
       "        vertical-align: top;\n",
       "    }\n",
       "\n",
       "    .dataframe thead th {\n",
       "        text-align: right;\n",
       "    }\n",
       "</style>\n",
       "<table border=\"1\" class=\"dataframe\">\n",
       "  <thead>\n",
       "    <tr style=\"text-align: right;\">\n",
       "      <th></th>\n",
       "      <th>mergeid</th>\n",
       "      <th>wave</th>\n",
       "      <th>year</th>\n",
       "      <th>age</th>\n",
       "      <th>nb_children</th>\n",
       "      <th>partnerinhh</th>\n",
       "      <th>job_status</th>\n",
       "      <th>eurod</th>\n",
       "      <th>eurodcat</th>\n",
       "      <th>country</th>\n",
       "      <th>...</th>\n",
       "      <th>jqi_intensity</th>\n",
       "      <th>jqi_prospects</th>\n",
       "      <th>jqi_working_time_quality</th>\n",
       "      <th>jqi_monthly_earnings_weighted</th>\n",
       "      <th>jqi_skills_discretion_weighted</th>\n",
       "      <th>jqi_social_environment_weighted</th>\n",
       "      <th>jqi_physical_environment_weighted</th>\n",
       "      <th>jqi_intensity_weighted</th>\n",
       "      <th>jqi_prospects_weighted</th>\n",
       "      <th>jqi_working_time_quality_weighted</th>\n",
       "    </tr>\n",
       "  </thead>\n",
       "  <tbody>\n",
       "    <tr>\n",
       "      <th>0</th>\n",
       "      <td>AT-011070-01</td>\n",
       "      <td>4</td>\n",
       "      <td>2011</td>\n",
       "      <td>59.0</td>\n",
       "      <td>2.0</td>\n",
       "      <td>1</td>\n",
       "      <td>Civil servant</td>\n",
       "      <td>2.0</td>\n",
       "      <td>0</td>\n",
       "      <td>Austria</td>\n",
       "      <td>...</td>\n",
       "      <td>33.086420</td>\n",
       "      <td>31.155303</td>\n",
       "      <td>85.271991</td>\n",
       "      <td>1943.392006</td>\n",
       "      <td>81.715087</td>\n",
       "      <td>81.799510</td>\n",
       "      <td>97.635841</td>\n",
       "      <td>33.969729</td>\n",
       "      <td>32.709902</td>\n",
       "      <td>92.131193</td>\n",
       "    </tr>\n",
       "    <tr>\n",
       "      <th>1</th>\n",
       "      <td>AT-326780-02</td>\n",
       "      <td>4</td>\n",
       "      <td>2011</td>\n",
       "      <td>57.0</td>\n",
       "      <td>2.0</td>\n",
       "      <td>1</td>\n",
       "      <td>Civil servant</td>\n",
       "      <td>5.0</td>\n",
       "      <td>1</td>\n",
       "      <td>Austria</td>\n",
       "      <td>...</td>\n",
       "      <td>33.086420</td>\n",
       "      <td>31.155303</td>\n",
       "      <td>85.271991</td>\n",
       "      <td>1943.392006</td>\n",
       "      <td>81.715087</td>\n",
       "      <td>81.799510</td>\n",
       "      <td>97.635841</td>\n",
       "      <td>33.969729</td>\n",
       "      <td>32.709902</td>\n",
       "      <td>92.131193</td>\n",
       "    </tr>\n",
       "    <tr>\n",
       "      <th>2</th>\n",
       "      <td>AT-413796-01</td>\n",
       "      <td>4</td>\n",
       "      <td>2011</td>\n",
       "      <td>55.0</td>\n",
       "      <td>1.0</td>\n",
       "      <td>1</td>\n",
       "      <td>Civil servant</td>\n",
       "      <td>2.0</td>\n",
       "      <td>0</td>\n",
       "      <td>Austria</td>\n",
       "      <td>...</td>\n",
       "      <td>33.086420</td>\n",
       "      <td>31.155303</td>\n",
       "      <td>85.271991</td>\n",
       "      <td>1943.392006</td>\n",
       "      <td>81.715087</td>\n",
       "      <td>81.799510</td>\n",
       "      <td>97.635841</td>\n",
       "      <td>33.969729</td>\n",
       "      <td>32.709902</td>\n",
       "      <td>92.131193</td>\n",
       "    </tr>\n",
       "    <tr>\n",
       "      <th>3</th>\n",
       "      <td>AT-433002-01</td>\n",
       "      <td>4</td>\n",
       "      <td>2011</td>\n",
       "      <td>55.0</td>\n",
       "      <td>1.0</td>\n",
       "      <td>0</td>\n",
       "      <td>Civil servant</td>\n",
       "      <td>6.0</td>\n",
       "      <td>1</td>\n",
       "      <td>Austria</td>\n",
       "      <td>...</td>\n",
       "      <td>33.086420</td>\n",
       "      <td>31.155303</td>\n",
       "      <td>85.271991</td>\n",
       "      <td>1943.392006</td>\n",
       "      <td>81.715087</td>\n",
       "      <td>81.799510</td>\n",
       "      <td>97.635841</td>\n",
       "      <td>33.969729</td>\n",
       "      <td>32.709902</td>\n",
       "      <td>92.131193</td>\n",
       "    </tr>\n",
       "    <tr>\n",
       "      <th>4</th>\n",
       "      <td>AT-594803-02</td>\n",
       "      <td>4</td>\n",
       "      <td>2011</td>\n",
       "      <td>57.0</td>\n",
       "      <td>1.0</td>\n",
       "      <td>1</td>\n",
       "      <td>Civil servant</td>\n",
       "      <td>4.0</td>\n",
       "      <td>1</td>\n",
       "      <td>Austria</td>\n",
       "      <td>...</td>\n",
       "      <td>33.086420</td>\n",
       "      <td>31.155303</td>\n",
       "      <td>85.271991</td>\n",
       "      <td>1943.392006</td>\n",
       "      <td>81.715087</td>\n",
       "      <td>81.799510</td>\n",
       "      <td>97.635841</td>\n",
       "      <td>33.969729</td>\n",
       "      <td>32.709902</td>\n",
       "      <td>92.131193</td>\n",
       "    </tr>\n",
       "    <tr>\n",
       "      <th>...</th>\n",
       "      <td>...</td>\n",
       "      <td>...</td>\n",
       "      <td>...</td>\n",
       "      <td>...</td>\n",
       "      <td>...</td>\n",
       "      <td>...</td>\n",
       "      <td>...</td>\n",
       "      <td>...</td>\n",
       "      <td>...</td>\n",
       "      <td>...</td>\n",
       "      <td>...</td>\n",
       "      <td>...</td>\n",
       "      <td>...</td>\n",
       "      <td>...</td>\n",
       "      <td>...</td>\n",
       "      <td>...</td>\n",
       "      <td>...</td>\n",
       "      <td>...</td>\n",
       "      <td>...</td>\n",
       "      <td>...</td>\n",
       "      <td>...</td>\n",
       "    </tr>\n",
       "    <tr>\n",
       "      <th>8474</th>\n",
       "      <td>SI-951611-02</td>\n",
       "      <td>6</td>\n",
       "      <td>2015</td>\n",
       "      <td>54.0</td>\n",
       "      <td>2.0</td>\n",
       "      <td>1</td>\n",
       "      <td>Public sector employee</td>\n",
       "      <td>3.0</td>\n",
       "      <td>0</td>\n",
       "      <td>Slovenia</td>\n",
       "      <td>...</td>\n",
       "      <td>38.888890</td>\n",
       "      <td>31.250000</td>\n",
       "      <td>96.875000</td>\n",
       "      <td>554.748656</td>\n",
       "      <td>29.678305</td>\n",
       "      <td>24.060877</td>\n",
       "      <td>40.734421</td>\n",
       "      <td>20.761083</td>\n",
       "      <td>17.093089</td>\n",
       "      <td>49.651581</td>\n",
       "    </tr>\n",
       "    <tr>\n",
       "      <th>8475</th>\n",
       "      <td>SI-966058-01</td>\n",
       "      <td>6</td>\n",
       "      <td>2015</td>\n",
       "      <td>57.0</td>\n",
       "      <td>2.0</td>\n",
       "      <td>0</td>\n",
       "      <td>Public sector employee</td>\n",
       "      <td>4.0</td>\n",
       "      <td>1</td>\n",
       "      <td>Slovenia</td>\n",
       "      <td>...</td>\n",
       "      <td>27.450981</td>\n",
       "      <td>42.857143</td>\n",
       "      <td>89.389706</td>\n",
       "      <td>659.185057</td>\n",
       "      <td>43.628426</td>\n",
       "      <td>68.433711</td>\n",
       "      <td>61.778573</td>\n",
       "      <td>19.884055</td>\n",
       "      <td>35.662705</td>\n",
       "      <td>63.517250</td>\n",
       "    </tr>\n",
       "    <tr>\n",
       "      <th>8476</th>\n",
       "      <td>SI-974683-01</td>\n",
       "      <td>6</td>\n",
       "      <td>2015</td>\n",
       "      <td>57.0</td>\n",
       "      <td>2.0</td>\n",
       "      <td>1</td>\n",
       "      <td>Public sector employee</td>\n",
       "      <td>1.0</td>\n",
       "      <td>0</td>\n",
       "      <td>Slovenia</td>\n",
       "      <td>...</td>\n",
       "      <td>67.430555</td>\n",
       "      <td>58.653846</td>\n",
       "      <td>91.523438</td>\n",
       "      <td>383.575878</td>\n",
       "      <td>18.783260</td>\n",
       "      <td>35.997276</td>\n",
       "      <td>36.763208</td>\n",
       "      <td>31.137998</td>\n",
       "      <td>29.883727</td>\n",
       "      <td>42.851541</td>\n",
       "    </tr>\n",
       "    <tr>\n",
       "      <th>8477</th>\n",
       "      <td>SI-988814-02</td>\n",
       "      <td>6</td>\n",
       "      <td>2015</td>\n",
       "      <td>59.0</td>\n",
       "      <td>3.0</td>\n",
       "      <td>1</td>\n",
       "      <td>Private sector employee</td>\n",
       "      <td>0.0</td>\n",
       "      <td>0</td>\n",
       "      <td>Slovenia</td>\n",
       "      <td>...</td>\n",
       "      <td>56.388888</td>\n",
       "      <td>75.000000</td>\n",
       "      <td>94.000000</td>\n",
       "      <td>2026.117064</td>\n",
       "      <td>118.743503</td>\n",
       "      <td>142.708718</td>\n",
       "      <td>138.440094</td>\n",
       "      <td>92.995347</td>\n",
       "      <td>120.958226</td>\n",
       "      <td>149.977384</td>\n",
       "    </tr>\n",
       "    <tr>\n",
       "      <th>8478</th>\n",
       "      <td>SI-993306-01</td>\n",
       "      <td>6</td>\n",
       "      <td>2015</td>\n",
       "      <td>58.0</td>\n",
       "      <td>2.0</td>\n",
       "      <td>1</td>\n",
       "      <td>Private sector employee</td>\n",
       "      <td>0.0</td>\n",
       "      <td>0</td>\n",
       "      <td>Slovenia</td>\n",
       "      <td>...</td>\n",
       "      <td>70.000000</td>\n",
       "      <td>65.625000</td>\n",
       "      <td>87.218750</td>\n",
       "      <td>1362.293571</td>\n",
       "      <td>53.340451</td>\n",
       "      <td>114.322871</td>\n",
       "      <td>120.851356</td>\n",
       "      <td>96.061363</td>\n",
       "      <td>99.247572</td>\n",
       "      <td>129.201552</td>\n",
       "    </tr>\n",
       "  </tbody>\n",
       "</table>\n",
       "<p>8479 rows × 35 columns</p>\n",
       "</div>"
      ],
      "text/plain": [
       "           mergeid  wave  year   age  nb_children  partnerinhh  \\\n",
       "0     AT-011070-01     4  2011  59.0          2.0            1   \n",
       "1     AT-326780-02     4  2011  57.0          2.0            1   \n",
       "2     AT-413796-01     4  2011  55.0          1.0            1   \n",
       "3     AT-433002-01     4  2011  55.0          1.0            0   \n",
       "4     AT-594803-02     4  2011  57.0          1.0            1   \n",
       "...            ...   ...   ...   ...          ...          ...   \n",
       "8474  SI-951611-02     6  2015  54.0          2.0            1   \n",
       "8475  SI-966058-01     6  2015  57.0          2.0            0   \n",
       "8476  SI-974683-01     6  2015  57.0          2.0            1   \n",
       "8477  SI-988814-02     6  2015  59.0          3.0            1   \n",
       "8478  SI-993306-01     6  2015  58.0          2.0            1   \n",
       "\n",
       "                   job_status  eurod  eurodcat   country  ...  jqi_intensity  \\\n",
       "0               Civil servant    2.0         0   Austria  ...      33.086420   \n",
       "1               Civil servant    5.0         1   Austria  ...      33.086420   \n",
       "2               Civil servant    2.0         0   Austria  ...      33.086420   \n",
       "3               Civil servant    6.0         1   Austria  ...      33.086420   \n",
       "4               Civil servant    4.0         1   Austria  ...      33.086420   \n",
       "...                       ...    ...       ...       ...  ...            ...   \n",
       "8474   Public sector employee    3.0         0  Slovenia  ...      38.888890   \n",
       "8475   Public sector employee    4.0         1  Slovenia  ...      27.450981   \n",
       "8476   Public sector employee    1.0         0  Slovenia  ...      67.430555   \n",
       "8477  Private sector employee    0.0         0  Slovenia  ...      56.388888   \n",
       "8478  Private sector employee    0.0         0  Slovenia  ...      70.000000   \n",
       "\n",
       "      jqi_prospects  jqi_working_time_quality  jqi_monthly_earnings_weighted  \\\n",
       "0         31.155303                 85.271991                    1943.392006   \n",
       "1         31.155303                 85.271991                    1943.392006   \n",
       "2         31.155303                 85.271991                    1943.392006   \n",
       "3         31.155303                 85.271991                    1943.392006   \n",
       "4         31.155303                 85.271991                    1943.392006   \n",
       "...             ...                       ...                            ...   \n",
       "8474      31.250000                 96.875000                     554.748656   \n",
       "8475      42.857143                 89.389706                     659.185057   \n",
       "8476      58.653846                 91.523438                     383.575878   \n",
       "8477      75.000000                 94.000000                    2026.117064   \n",
       "8478      65.625000                 87.218750                    1362.293571   \n",
       "\n",
       "      jqi_skills_discretion_weighted  jqi_social_environment_weighted  \\\n",
       "0                          81.715087                        81.799510   \n",
       "1                          81.715087                        81.799510   \n",
       "2                          81.715087                        81.799510   \n",
       "3                          81.715087                        81.799510   \n",
       "4                          81.715087                        81.799510   \n",
       "...                              ...                              ...   \n",
       "8474                       29.678305                        24.060877   \n",
       "8475                       43.628426                        68.433711   \n",
       "8476                       18.783260                        35.997276   \n",
       "8477                      118.743503                       142.708718   \n",
       "8478                       53.340451                       114.322871   \n",
       "\n",
       "      jqi_physical_environment_weighted  jqi_intensity_weighted  \\\n",
       "0                             97.635841               33.969729   \n",
       "1                             97.635841               33.969729   \n",
       "2                             97.635841               33.969729   \n",
       "3                             97.635841               33.969729   \n",
       "4                             97.635841               33.969729   \n",
       "...                                 ...                     ...   \n",
       "8474                          40.734421               20.761083   \n",
       "8475                          61.778573               19.884055   \n",
       "8476                          36.763208               31.137998   \n",
       "8477                         138.440094               92.995347   \n",
       "8478                         120.851356               96.061363   \n",
       "\n",
       "      jqi_prospects_weighted  jqi_working_time_quality_weighted  \n",
       "0                  32.709902                          92.131193  \n",
       "1                  32.709902                          92.131193  \n",
       "2                  32.709902                          92.131193  \n",
       "3                  32.709902                          92.131193  \n",
       "4                  32.709902                          92.131193  \n",
       "...                      ...                                ...  \n",
       "8474               17.093089                          49.651581  \n",
       "8475               35.662705                          63.517250  \n",
       "8476               29.883727                          42.851541  \n",
       "8477              120.958226                         149.977384  \n",
       "8478               99.247572                         129.201552  \n",
       "\n",
       "[8479 rows x 35 columns]"
      ]
     },
     "execution_count": 4,
     "metadata": {},
     "output_type": "execute_result"
    }
   ],
   "source": [
    "df"
   ]
  },
  {
   "cell_type": "code",
   "execution_count": 5,
   "metadata": {},
   "outputs": [
    {
     "data": {
      "text/plain": [
       "4968"
      ]
     },
     "execution_count": 5,
     "metadata": {},
     "output_type": "execute_result"
    }
   ],
   "source": [
    "df.mergeid.nunique()"
   ]
  },
  {
   "cell_type": "code",
   "execution_count": 6,
   "metadata": {},
   "outputs": [
    {
     "data": {
      "text/plain": [
       "country\n",
       "Austria           268\n",
       "Belgium           721\n",
       "Czech Republic    355\n",
       "Denmark           409\n",
       "Estonia           563\n",
       "France            339\n",
       "Germany           655\n",
       "Italy             470\n",
       "Slovenia          318\n",
       "Spain             591\n",
       "Switzerland       279\n",
       "Name: mergeid, dtype: int64"
      ]
     },
     "execution_count": 6,
     "metadata": {},
     "output_type": "execute_result"
    }
   ],
   "source": [
    "df.groupby(\"country\").mergeid.nunique()"
   ]
  },
  {
   "cell_type": "code",
   "execution_count": 7,
   "metadata": {},
   "outputs": [
    {
     "data": {
      "text/plain": [
       "year\n",
       "2011    2034\n",
       "2013    2868\n",
       "2015    3577\n",
       "Name: mergeid, dtype: int64"
      ]
     },
     "execution_count": 7,
     "metadata": {},
     "output_type": "execute_result"
    }
   ],
   "source": [
    "df.groupby(\"year\").mergeid.nunique()"
   ]
  },
  {
   "cell_type": "code",
   "execution_count": 8,
   "metadata": {},
   "outputs": [],
   "source": [
    "df.to_csv(\n",
    "    \"/Users/alexandralugova/Documents/GitHub/MH-old-workers/data/datasets/final_w456.csv\",\n",
    "    index=False,\n",
    ")"
   ]
  },
  {
   "cell_type": "markdown",
   "metadata": {},
   "source": [
    "### Waves 4,5,6 common individuals"
   ]
  },
  {
   "cell_type": "code",
   "execution_count": 9,
   "metadata": {},
   "outputs": [
    {
     "data": {
      "text/plain": [
       "4968"
      ]
     },
     "execution_count": 9,
     "metadata": {},
     "output_type": "execute_result"
    }
   ],
   "source": [
    "df.mergeid.nunique()"
   ]
  },
  {
   "cell_type": "code",
   "execution_count": 10,
   "metadata": {},
   "outputs": [
    {
     "data": {
      "text/plain": [
       "947"
      ]
     },
     "execution_count": 10,
     "metadata": {},
     "output_type": "execute_result"
    }
   ],
   "source": [
    "unique_mergeid_w4 = set(df[df.wave == 4][\"mergeid\"].unique())\n",
    "unique_mergeid_w5 = set(df[df.wave == 5][\"mergeid\"].unique())\n",
    "unique_mergeid_w6 = set(df[df.wave == 6][\"mergeid\"].unique())\n",
    "intersection_ids = unique_mergeid_w4.intersection(unique_mergeid_w5).intersection(\n",
    "    unique_mergeid_w6\n",
    ")\n",
    "len(intersection_ids)"
   ]
  },
  {
   "cell_type": "code",
   "execution_count": 11,
   "metadata": {},
   "outputs": [],
   "source": [
    "w456_common = df[df[\"mergeid\"].isin(intersection_ids)].reset_index(drop=True)"
   ]
  },
  {
   "cell_type": "markdown",
   "metadata": {},
   "source": [
    "isco = w456_common[\"isco\"].value_counts().to_frame().reset_index()\n",
    "isco = isco[isco[\"count\"] >= 10]\n",
    "w456_common = w456_common[w456_common[\"isco\"].isin(isco[\"isco\"].unique())].reset_index(\n",
    "    drop=True\n",
    ")"
   ]
  },
  {
   "cell_type": "code",
   "execution_count": 12,
   "metadata": {},
   "outputs": [
    {
     "data": {
      "text/plain": [
       "947"
      ]
     },
     "execution_count": 12,
     "metadata": {},
     "output_type": "execute_result"
    }
   ],
   "source": [
    "w456_common.mergeid.nunique()"
   ]
  },
  {
   "cell_type": "code",
   "execution_count": 13,
   "metadata": {},
   "outputs": [
    {
     "data": {
      "text/plain": [
       "country\n",
       "Austria            75\n",
       "Belgium           201\n",
       "Czech Republic     74\n",
       "Denmark           111\n",
       "Estonia           168\n",
       "France            116\n",
       "Germany            13\n",
       "Italy              69\n",
       "Slovenia           59\n",
       "Spain              61\n",
       "Name: mergeid, dtype: int64"
      ]
     },
     "execution_count": 13,
     "metadata": {},
     "output_type": "execute_result"
    }
   ],
   "source": [
    "w456_common.groupby(\"country\").mergeid.nunique()"
   ]
  },
  {
   "cell_type": "code",
   "execution_count": 14,
   "metadata": {},
   "outputs": [],
   "source": [
    "# Delete Germany as too few individuals\n",
    "w456_common = w456_common[w456_common.country != \"Germany\"].reset_index(drop=True)"
   ]
  },
  {
   "cell_type": "code",
   "execution_count": 15,
   "metadata": {},
   "outputs": [],
   "source": [
    "w456_common.to_csv(\n",
    "    \"/Users/alexandralugova/Documents/GitHub/MH-old-workers/data/datasets/data_clean_w456_common.csv\",\n",
    "    index=False,\n",
    ")"
   ]
  },
  {
   "cell_type": "markdown",
   "metadata": {},
   "source": [
    "### Waves 4 and 6"
   ]
  },
  {
   "cell_type": "code",
   "execution_count": 16,
   "metadata": {},
   "outputs": [],
   "source": [
    "w46 = df[(df.wave == 4) | (df.wave == 6)].reset_index(drop=True)"
   ]
  },
  {
   "cell_type": "code",
   "execution_count": 17,
   "metadata": {},
   "outputs": [
    {
     "data": {
      "text/plain": [
       "4497"
      ]
     },
     "execution_count": 17,
     "metadata": {},
     "output_type": "execute_result"
    }
   ],
   "source": [
    "w46.mergeid.nunique()"
   ]
  },
  {
   "cell_type": "code",
   "execution_count": 18,
   "metadata": {},
   "outputs": [
    {
     "data": {
      "text/plain": [
       "country\n",
       "Austria           262\n",
       "Belgium           650\n",
       "Czech Republic    315\n",
       "Denmark           369\n",
       "Estonia           537\n",
       "France            327\n",
       "Germany           532\n",
       "Italy             424\n",
       "Slovenia          297\n",
       "Spain             505\n",
       "Switzerland       279\n",
       "Name: mergeid, dtype: int64"
      ]
     },
     "execution_count": 18,
     "metadata": {},
     "output_type": "execute_result"
    }
   ],
   "source": [
    "w46.groupby(\"country\").mergeid.nunique()"
   ]
  },
  {
   "cell_type": "code",
   "execution_count": 19,
   "metadata": {},
   "outputs": [
    {
     "data": {
      "text/plain": [
       "wave\n",
       "4    2034\n",
       "6    3577\n",
       "Name: mergeid, dtype: int64"
      ]
     },
     "execution_count": 19,
     "metadata": {},
     "output_type": "execute_result"
    }
   ],
   "source": [
    "w46.groupby(\"wave\").mergeid.nunique()"
   ]
  },
  {
   "cell_type": "code",
   "execution_count": 20,
   "metadata": {},
   "outputs": [],
   "source": [
    "w46.to_csv(\n",
    "    \"/Users/alexandralugova/Documents/GitHub/MH-old-workers/data/datasets/data_clean_w46.csv\",\n",
    "    index=False,\n",
    ")"
   ]
  },
  {
   "cell_type": "markdown",
   "metadata": {},
   "source": [
    "### Waves 4 and 6 common individuals"
   ]
  },
  {
   "cell_type": "code",
   "execution_count": 21,
   "metadata": {},
   "outputs": [
    {
     "data": {
      "text/plain": [
       "1114"
      ]
     },
     "execution_count": 21,
     "metadata": {},
     "output_type": "execute_result"
    }
   ],
   "source": [
    "unique_mergeid_w4 = set(w46[w46.wave == 4][\"mergeid\"].unique())\n",
    "unique_mergeid_w6 = set(w46[w46.wave == 6][\"mergeid\"].unique())\n",
    "intersection_ids = unique_mergeid_w4.intersection(unique_mergeid_w6)\n",
    "len(intersection_ids)"
   ]
  },
  {
   "cell_type": "code",
   "execution_count": 22,
   "metadata": {},
   "outputs": [],
   "source": [
    "w46_common = w46[w46[\"mergeid\"].isin(intersection_ids)].reset_index(drop=True)"
   ]
  },
  {
   "cell_type": "code",
   "execution_count": 23,
   "metadata": {},
   "outputs": [
    {
     "data": {
      "text/plain": [
       "country\n",
       "Austria            88\n",
       "Belgium           240\n",
       "Czech Republic     89\n",
       "Denmark           121\n",
       "Estonia           190\n",
       "France            133\n",
       "Germany            16\n",
       "Italy              89\n",
       "Slovenia           74\n",
       "Spain              74\n",
       "Name: mergeid, dtype: int64"
      ]
     },
     "execution_count": 23,
     "metadata": {},
     "output_type": "execute_result"
    }
   ],
   "source": [
    "w46_common.groupby(\"country\").mergeid.nunique()"
   ]
  },
  {
   "cell_type": "code",
   "execution_count": 24,
   "metadata": {},
   "outputs": [],
   "source": [
    "# Delete Germany as too few individuals\n",
    "w456_common = w456_common[w456_common.country != \"Germany\"].reset_index(drop=True)"
   ]
  },
  {
   "cell_type": "code",
   "execution_count": 25,
   "metadata": {},
   "outputs": [],
   "source": [
    "w46_common.to_csv(\n",
    "    \"/Users/alexandralugova/Documents/GitHub/MH-old-workers/data/datasets/data_clean_w46_common.csv\",\n",
    "    index=False,\n",
    ")"
   ]
  }
 ],
 "metadata": {
  "kernelspec": {
   "display_name": "mhold",
   "language": "python",
   "name": "python3"
  },
  "language_info": {
   "codemirror_mode": {
    "name": "ipython",
    "version": 3
   },
   "file_extension": ".py",
   "mimetype": "text/x-python",
   "name": "python",
   "nbconvert_exporter": "python",
   "pygments_lexer": "ipython3",
   "version": "3.11.5"
  }
 },
 "nbformat": 4,
 "nbformat_minor": 2
}
