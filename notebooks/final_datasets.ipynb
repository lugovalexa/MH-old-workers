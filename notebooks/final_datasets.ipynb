{
 "cells": [
  {
   "cell_type": "markdown",
   "metadata": {},
   "source": [
    "### Waves 4,5,6"
   ]
  },
  {
   "cell_type": "code",
   "execution_count": 36,
   "metadata": {},
   "outputs": [],
   "source": [
    "import matplotlib.pyplot as plt\n",
    "import pandas as pd"
   ]
  },
  {
   "cell_type": "code",
   "execution_count": 37,
   "metadata": {},
   "outputs": [],
   "source": [
    "df = pd.read_csv(\n",
    "    \"/Users/alexandralugova/Documents/GitHub/MH-old-workers/data/datasets/data_clean_w456.csv\"\n",
    ")\n",
    "indexes = pd.read_csv(\n",
    "    \"/Users/alexandralugova/Documents/GitHub/MH-old-workers/data/datasets/work_quality_indexes.csv\"\n",
    ")"
   ]
  },
  {
   "cell_type": "code",
   "execution_count": 38,
   "metadata": {},
   "outputs": [],
   "source": [
    "df = df.merge(indexes, on=[\"country\", \"year\", \"isco\"], how=\"inner\")"
   ]
  },
  {
   "cell_type": "code",
   "execution_count": 39,
   "metadata": {},
   "outputs": [
    {
     "data": {
      "text/html": [
       "<div>\n",
       "<style scoped>\n",
       "    .dataframe tbody tr th:only-of-type {\n",
       "        vertical-align: middle;\n",
       "    }\n",
       "\n",
       "    .dataframe tbody tr th {\n",
       "        vertical-align: top;\n",
       "    }\n",
       "\n",
       "    .dataframe thead th {\n",
       "        text-align: right;\n",
       "    }\n",
       "</style>\n",
       "<table border=\"1\" class=\"dataframe\">\n",
       "  <thead>\n",
       "    <tr style=\"text-align: right;\">\n",
       "      <th></th>\n",
       "      <th>mergeid</th>\n",
       "      <th>wave</th>\n",
       "      <th>year</th>\n",
       "      <th>age</th>\n",
       "      <th>nb_children</th>\n",
       "      <th>partnerinhh</th>\n",
       "      <th>job_status</th>\n",
       "      <th>eurod</th>\n",
       "      <th>eurodcat</th>\n",
       "      <th>country</th>\n",
       "      <th>...</th>\n",
       "      <th>jqi_intensity</th>\n",
       "      <th>jqi_prospects</th>\n",
       "      <th>jqi_working_time_quality</th>\n",
       "      <th>jqi_monthly_earnings_weighted</th>\n",
       "      <th>jqi_skills_discretion_weighted</th>\n",
       "      <th>jqi_social_environment_weighted</th>\n",
       "      <th>jqi_physical_environment_weighted</th>\n",
       "      <th>jqi_intensity_weighted</th>\n",
       "      <th>jqi_prospects_weighted</th>\n",
       "      <th>jqi_working_time_quality_weighted</th>\n",
       "    </tr>\n",
       "  </thead>\n",
       "  <tbody>\n",
       "    <tr>\n",
       "      <th>0</th>\n",
       "      <td>AT-011070-01</td>\n",
       "      <td>4</td>\n",
       "      <td>2011</td>\n",
       "      <td>59.0</td>\n",
       "      <td>2.0</td>\n",
       "      <td>1</td>\n",
       "      <td>Civil servant</td>\n",
       "      <td>2.0</td>\n",
       "      <td>0</td>\n",
       "      <td>Austria</td>\n",
       "      <td>...</td>\n",
       "      <td>33.086420</td>\n",
       "      <td>31.155303</td>\n",
       "      <td>85.271991</td>\n",
       "      <td>1943.392006</td>\n",
       "      <td>81.715087</td>\n",
       "      <td>81.799510</td>\n",
       "      <td>97.635841</td>\n",
       "      <td>33.969729</td>\n",
       "      <td>32.709902</td>\n",
       "      <td>92.131193</td>\n",
       "    </tr>\n",
       "    <tr>\n",
       "      <th>1</th>\n",
       "      <td>AT-326780-02</td>\n",
       "      <td>4</td>\n",
       "      <td>2011</td>\n",
       "      <td>57.0</td>\n",
       "      <td>2.0</td>\n",
       "      <td>1</td>\n",
       "      <td>Civil servant</td>\n",
       "      <td>5.0</td>\n",
       "      <td>1</td>\n",
       "      <td>Austria</td>\n",
       "      <td>...</td>\n",
       "      <td>33.086420</td>\n",
       "      <td>31.155303</td>\n",
       "      <td>85.271991</td>\n",
       "      <td>1943.392006</td>\n",
       "      <td>81.715087</td>\n",
       "      <td>81.799510</td>\n",
       "      <td>97.635841</td>\n",
       "      <td>33.969729</td>\n",
       "      <td>32.709902</td>\n",
       "      <td>92.131193</td>\n",
       "    </tr>\n",
       "    <tr>\n",
       "      <th>2</th>\n",
       "      <td>AT-413796-01</td>\n",
       "      <td>4</td>\n",
       "      <td>2011</td>\n",
       "      <td>55.0</td>\n",
       "      <td>1.0</td>\n",
       "      <td>1</td>\n",
       "      <td>Civil servant</td>\n",
       "      <td>2.0</td>\n",
       "      <td>0</td>\n",
       "      <td>Austria</td>\n",
       "      <td>...</td>\n",
       "      <td>33.086420</td>\n",
       "      <td>31.155303</td>\n",
       "      <td>85.271991</td>\n",
       "      <td>1943.392006</td>\n",
       "      <td>81.715087</td>\n",
       "      <td>81.799510</td>\n",
       "      <td>97.635841</td>\n",
       "      <td>33.969729</td>\n",
       "      <td>32.709902</td>\n",
       "      <td>92.131193</td>\n",
       "    </tr>\n",
       "    <tr>\n",
       "      <th>3</th>\n",
       "      <td>AT-433002-01</td>\n",
       "      <td>4</td>\n",
       "      <td>2011</td>\n",
       "      <td>55.0</td>\n",
       "      <td>1.0</td>\n",
       "      <td>0</td>\n",
       "      <td>Civil servant</td>\n",
       "      <td>6.0</td>\n",
       "      <td>1</td>\n",
       "      <td>Austria</td>\n",
       "      <td>...</td>\n",
       "      <td>33.086420</td>\n",
       "      <td>31.155303</td>\n",
       "      <td>85.271991</td>\n",
       "      <td>1943.392006</td>\n",
       "      <td>81.715087</td>\n",
       "      <td>81.799510</td>\n",
       "      <td>97.635841</td>\n",
       "      <td>33.969729</td>\n",
       "      <td>32.709902</td>\n",
       "      <td>92.131193</td>\n",
       "    </tr>\n",
       "    <tr>\n",
       "      <th>4</th>\n",
       "      <td>AT-594803-02</td>\n",
       "      <td>4</td>\n",
       "      <td>2011</td>\n",
       "      <td>57.0</td>\n",
       "      <td>1.0</td>\n",
       "      <td>1</td>\n",
       "      <td>Civil servant</td>\n",
       "      <td>4.0</td>\n",
       "      <td>1</td>\n",
       "      <td>Austria</td>\n",
       "      <td>...</td>\n",
       "      <td>33.086420</td>\n",
       "      <td>31.155303</td>\n",
       "      <td>85.271991</td>\n",
       "      <td>1943.392006</td>\n",
       "      <td>81.715087</td>\n",
       "      <td>81.799510</td>\n",
       "      <td>97.635841</td>\n",
       "      <td>33.969729</td>\n",
       "      <td>32.709902</td>\n",
       "      <td>92.131193</td>\n",
       "    </tr>\n",
       "    <tr>\n",
       "      <th>...</th>\n",
       "      <td>...</td>\n",
       "      <td>...</td>\n",
       "      <td>...</td>\n",
       "      <td>...</td>\n",
       "      <td>...</td>\n",
       "      <td>...</td>\n",
       "      <td>...</td>\n",
       "      <td>...</td>\n",
       "      <td>...</td>\n",
       "      <td>...</td>\n",
       "      <td>...</td>\n",
       "      <td>...</td>\n",
       "      <td>...</td>\n",
       "      <td>...</td>\n",
       "      <td>...</td>\n",
       "      <td>...</td>\n",
       "      <td>...</td>\n",
       "      <td>...</td>\n",
       "      <td>...</td>\n",
       "      <td>...</td>\n",
       "      <td>...</td>\n",
       "    </tr>\n",
       "    <tr>\n",
       "      <th>8474</th>\n",
       "      <td>SI-951611-02</td>\n",
       "      <td>6</td>\n",
       "      <td>2015</td>\n",
       "      <td>54.0</td>\n",
       "      <td>2.0</td>\n",
       "      <td>1</td>\n",
       "      <td>Public sector employee</td>\n",
       "      <td>3.0</td>\n",
       "      <td>0</td>\n",
       "      <td>Slovenia</td>\n",
       "      <td>...</td>\n",
       "      <td>38.888890</td>\n",
       "      <td>31.250000</td>\n",
       "      <td>96.875000</td>\n",
       "      <td>554.748656</td>\n",
       "      <td>29.678305</td>\n",
       "      <td>24.060877</td>\n",
       "      <td>40.734421</td>\n",
       "      <td>20.761083</td>\n",
       "      <td>17.093089</td>\n",
       "      <td>49.651581</td>\n",
       "    </tr>\n",
       "    <tr>\n",
       "      <th>8475</th>\n",
       "      <td>SI-966058-01</td>\n",
       "      <td>6</td>\n",
       "      <td>2015</td>\n",
       "      <td>57.0</td>\n",
       "      <td>2.0</td>\n",
       "      <td>0</td>\n",
       "      <td>Public sector employee</td>\n",
       "      <td>4.0</td>\n",
       "      <td>1</td>\n",
       "      <td>Slovenia</td>\n",
       "      <td>...</td>\n",
       "      <td>27.450981</td>\n",
       "      <td>42.857143</td>\n",
       "      <td>89.389706</td>\n",
       "      <td>659.185057</td>\n",
       "      <td>43.628426</td>\n",
       "      <td>68.433711</td>\n",
       "      <td>61.778573</td>\n",
       "      <td>19.884055</td>\n",
       "      <td>35.662705</td>\n",
       "      <td>63.517250</td>\n",
       "    </tr>\n",
       "    <tr>\n",
       "      <th>8476</th>\n",
       "      <td>SI-974683-01</td>\n",
       "      <td>6</td>\n",
       "      <td>2015</td>\n",
       "      <td>57.0</td>\n",
       "      <td>2.0</td>\n",
       "      <td>1</td>\n",
       "      <td>Public sector employee</td>\n",
       "      <td>1.0</td>\n",
       "      <td>0</td>\n",
       "      <td>Slovenia</td>\n",
       "      <td>...</td>\n",
       "      <td>67.430555</td>\n",
       "      <td>58.653846</td>\n",
       "      <td>91.523438</td>\n",
       "      <td>383.575878</td>\n",
       "      <td>18.783260</td>\n",
       "      <td>35.997276</td>\n",
       "      <td>36.763208</td>\n",
       "      <td>31.137998</td>\n",
       "      <td>29.883727</td>\n",
       "      <td>42.851541</td>\n",
       "    </tr>\n",
       "    <tr>\n",
       "      <th>8477</th>\n",
       "      <td>SI-988814-02</td>\n",
       "      <td>6</td>\n",
       "      <td>2015</td>\n",
       "      <td>59.0</td>\n",
       "      <td>3.0</td>\n",
       "      <td>1</td>\n",
       "      <td>Private sector employee</td>\n",
       "      <td>0.0</td>\n",
       "      <td>0</td>\n",
       "      <td>Slovenia</td>\n",
       "      <td>...</td>\n",
       "      <td>56.388888</td>\n",
       "      <td>75.000000</td>\n",
       "      <td>94.000000</td>\n",
       "      <td>2026.117064</td>\n",
       "      <td>118.743503</td>\n",
       "      <td>142.708718</td>\n",
       "      <td>138.440094</td>\n",
       "      <td>92.995347</td>\n",
       "      <td>120.958226</td>\n",
       "      <td>149.977384</td>\n",
       "    </tr>\n",
       "    <tr>\n",
       "      <th>8478</th>\n",
       "      <td>SI-993306-01</td>\n",
       "      <td>6</td>\n",
       "      <td>2015</td>\n",
       "      <td>58.0</td>\n",
       "      <td>2.0</td>\n",
       "      <td>1</td>\n",
       "      <td>Private sector employee</td>\n",
       "      <td>0.0</td>\n",
       "      <td>0</td>\n",
       "      <td>Slovenia</td>\n",
       "      <td>...</td>\n",
       "      <td>70.000000</td>\n",
       "      <td>65.625000</td>\n",
       "      <td>87.218750</td>\n",
       "      <td>1362.293571</td>\n",
       "      <td>53.340451</td>\n",
       "      <td>114.322871</td>\n",
       "      <td>120.851356</td>\n",
       "      <td>96.061363</td>\n",
       "      <td>99.247572</td>\n",
       "      <td>129.201552</td>\n",
       "    </tr>\n",
       "  </tbody>\n",
       "</table>\n",
       "<p>8479 rows × 35 columns</p>\n",
       "</div>"
      ],
      "text/plain": [
       "           mergeid  wave  year   age  nb_children  partnerinhh  \\\n",
       "0     AT-011070-01     4  2011  59.0          2.0            1   \n",
       "1     AT-326780-02     4  2011  57.0          2.0            1   \n",
       "2     AT-413796-01     4  2011  55.0          1.0            1   \n",
       "3     AT-433002-01     4  2011  55.0          1.0            0   \n",
       "4     AT-594803-02     4  2011  57.0          1.0            1   \n",
       "...            ...   ...   ...   ...          ...          ...   \n",
       "8474  SI-951611-02     6  2015  54.0          2.0            1   \n",
       "8475  SI-966058-01     6  2015  57.0          2.0            0   \n",
       "8476  SI-974683-01     6  2015  57.0          2.0            1   \n",
       "8477  SI-988814-02     6  2015  59.0          3.0            1   \n",
       "8478  SI-993306-01     6  2015  58.0          2.0            1   \n",
       "\n",
       "                   job_status  eurod  eurodcat   country  ...  jqi_intensity  \\\n",
       "0               Civil servant    2.0         0   Austria  ...      33.086420   \n",
       "1               Civil servant    5.0         1   Austria  ...      33.086420   \n",
       "2               Civil servant    2.0         0   Austria  ...      33.086420   \n",
       "3               Civil servant    6.0         1   Austria  ...      33.086420   \n",
       "4               Civil servant    4.0         1   Austria  ...      33.086420   \n",
       "...                       ...    ...       ...       ...  ...            ...   \n",
       "8474   Public sector employee    3.0         0  Slovenia  ...      38.888890   \n",
       "8475   Public sector employee    4.0         1  Slovenia  ...      27.450981   \n",
       "8476   Public sector employee    1.0         0  Slovenia  ...      67.430555   \n",
       "8477  Private sector employee    0.0         0  Slovenia  ...      56.388888   \n",
       "8478  Private sector employee    0.0         0  Slovenia  ...      70.000000   \n",
       "\n",
       "      jqi_prospects  jqi_working_time_quality  jqi_monthly_earnings_weighted  \\\n",
       "0         31.155303                 85.271991                    1943.392006   \n",
       "1         31.155303                 85.271991                    1943.392006   \n",
       "2         31.155303                 85.271991                    1943.392006   \n",
       "3         31.155303                 85.271991                    1943.392006   \n",
       "4         31.155303                 85.271991                    1943.392006   \n",
       "...             ...                       ...                            ...   \n",
       "8474      31.250000                 96.875000                     554.748656   \n",
       "8475      42.857143                 89.389706                     659.185057   \n",
       "8476      58.653846                 91.523438                     383.575878   \n",
       "8477      75.000000                 94.000000                    2026.117064   \n",
       "8478      65.625000                 87.218750                    1362.293571   \n",
       "\n",
       "      jqi_skills_discretion_weighted  jqi_social_environment_weighted  \\\n",
       "0                          81.715087                        81.799510   \n",
       "1                          81.715087                        81.799510   \n",
       "2                          81.715087                        81.799510   \n",
       "3                          81.715087                        81.799510   \n",
       "4                          81.715087                        81.799510   \n",
       "...                              ...                              ...   \n",
       "8474                       29.678305                        24.060877   \n",
       "8475                       43.628426                        68.433711   \n",
       "8476                       18.783260                        35.997276   \n",
       "8477                      118.743503                       142.708718   \n",
       "8478                       53.340451                       114.322871   \n",
       "\n",
       "      jqi_physical_environment_weighted  jqi_intensity_weighted  \\\n",
       "0                             97.635841               33.969729   \n",
       "1                             97.635841               33.969729   \n",
       "2                             97.635841               33.969729   \n",
       "3                             97.635841               33.969729   \n",
       "4                             97.635841               33.969729   \n",
       "...                                 ...                     ...   \n",
       "8474                          40.734421               20.761083   \n",
       "8475                          61.778573               19.884055   \n",
       "8476                          36.763208               31.137998   \n",
       "8477                         138.440094               92.995347   \n",
       "8478                         120.851356               96.061363   \n",
       "\n",
       "      jqi_prospects_weighted  jqi_working_time_quality_weighted  \n",
       "0                  32.709902                          92.131193  \n",
       "1                  32.709902                          92.131193  \n",
       "2                  32.709902                          92.131193  \n",
       "3                  32.709902                          92.131193  \n",
       "4                  32.709902                          92.131193  \n",
       "...                      ...                                ...  \n",
       "8474               17.093089                          49.651581  \n",
       "8475               35.662705                          63.517250  \n",
       "8476               29.883727                          42.851541  \n",
       "8477              120.958226                         149.977384  \n",
       "8478               99.247572                         129.201552  \n",
       "\n",
       "[8479 rows x 35 columns]"
      ]
     },
     "execution_count": 39,
     "metadata": {},
     "output_type": "execute_result"
    }
   ],
   "source": [
    "df"
   ]
  },
  {
   "cell_type": "code",
   "execution_count": 40,
   "metadata": {},
   "outputs": [
    {
     "data": {
      "text/plain": [
       "4968"
      ]
     },
     "execution_count": 40,
     "metadata": {},
     "output_type": "execute_result"
    }
   ],
   "source": [
    "df.mergeid.nunique()"
   ]
  },
  {
   "cell_type": "code",
   "execution_count": 41,
   "metadata": {},
   "outputs": [
    {
     "data": {
      "text/plain": [
       "country\n",
       "Austria           268\n",
       "Belgium           721\n",
       "Czech Republic    355\n",
       "Denmark           409\n",
       "Estonia           563\n",
       "France            339\n",
       "Germany           655\n",
       "Italy             470\n",
       "Slovenia          318\n",
       "Spain             591\n",
       "Switzerland       279\n",
       "Name: mergeid, dtype: int64"
      ]
     },
     "execution_count": 41,
     "metadata": {},
     "output_type": "execute_result"
    }
   ],
   "source": [
    "df.groupby(\"country\").mergeid.nunique()"
   ]
  },
  {
   "cell_type": "code",
   "execution_count": 42,
   "metadata": {},
   "outputs": [
    {
     "data": {
      "text/plain": [
       "year\n",
       "2011    2034\n",
       "2013    2868\n",
       "2015    3577\n",
       "Name: mergeid, dtype: int64"
      ]
     },
     "execution_count": 42,
     "metadata": {},
     "output_type": "execute_result"
    }
   ],
   "source": [
    "df.groupby(\"year\").mergeid.nunique()"
   ]
  },
  {
   "cell_type": "code",
   "execution_count": 43,
   "metadata": {},
   "outputs": [],
   "source": [
    "df.to_csv(\n",
    "    \"/Users/alexandralugova/Documents/GitHub/MH-old-workers/data/datasets/final_w456.csv\",\n",
    "    index=False,\n",
    ")"
   ]
  },
  {
   "cell_type": "markdown",
   "metadata": {},
   "source": [
    "### Some descriptive stats"
   ]
  },
  {
   "cell_type": "code",
   "execution_count": 44,
   "metadata": {},
   "outputs": [
    {
     "data": {
      "text/html": [
       "<div>\n",
       "<style scoped>\n",
       "    .dataframe tbody tr th:only-of-type {\n",
       "        vertical-align: middle;\n",
       "    }\n",
       "\n",
       "    .dataframe tbody tr th {\n",
       "        vertical-align: top;\n",
       "    }\n",
       "\n",
       "    .dataframe thead th {\n",
       "        text-align: right;\n",
       "    }\n",
       "</style>\n",
       "<table border=\"1\" class=\"dataframe\">\n",
       "  <thead>\n",
       "    <tr style=\"text-align: right;\">\n",
       "      <th></th>\n",
       "      <th>age</th>\n",
       "      <th>gender</th>\n",
       "      <th>nb_children</th>\n",
       "      <th>yrseducation</th>\n",
       "    </tr>\n",
       "  </thead>\n",
       "  <tbody>\n",
       "    <tr>\n",
       "      <th>count</th>\n",
       "      <td>8479.00</td>\n",
       "      <td>8479.00</td>\n",
       "      <td>8479.00</td>\n",
       "      <td>8479.00</td>\n",
       "    </tr>\n",
       "    <tr>\n",
       "      <th>mean</th>\n",
       "      <td>56.50</td>\n",
       "      <td>0.55</td>\n",
       "      <td>1.78</td>\n",
       "      <td>12.93</td>\n",
       "    </tr>\n",
       "    <tr>\n",
       "      <th>std</th>\n",
       "      <td>3.12</td>\n",
       "      <td>0.50</td>\n",
       "      <td>1.27</td>\n",
       "      <td>4.29</td>\n",
       "    </tr>\n",
       "    <tr>\n",
       "      <th>min</th>\n",
       "      <td>50.00</td>\n",
       "      <td>0.00</td>\n",
       "      <td>0.00</td>\n",
       "      <td>0.00</td>\n",
       "    </tr>\n",
       "    <tr>\n",
       "      <th>25%</th>\n",
       "      <td>54.00</td>\n",
       "      <td>0.00</td>\n",
       "      <td>1.00</td>\n",
       "      <td>11.00</td>\n",
       "    </tr>\n",
       "    <tr>\n",
       "      <th>50%</th>\n",
       "      <td>56.00</td>\n",
       "      <td>1.00</td>\n",
       "      <td>2.00</td>\n",
       "      <td>13.00</td>\n",
       "    </tr>\n",
       "    <tr>\n",
       "      <th>75%</th>\n",
       "      <td>59.00</td>\n",
       "      <td>1.00</td>\n",
       "      <td>2.00</td>\n",
       "      <td>16.00</td>\n",
       "    </tr>\n",
       "    <tr>\n",
       "      <th>max</th>\n",
       "      <td>65.00</td>\n",
       "      <td>1.00</td>\n",
       "      <td>10.00</td>\n",
       "      <td>39.00</td>\n",
       "    </tr>\n",
       "  </tbody>\n",
       "</table>\n",
       "</div>"
      ],
      "text/plain": [
       "           age   gender  nb_children  yrseducation\n",
       "count  8479.00  8479.00      8479.00       8479.00\n",
       "mean     56.50     0.55         1.78         12.93\n",
       "std       3.12     0.50         1.27          4.29\n",
       "min      50.00     0.00         0.00          0.00\n",
       "25%      54.00     0.00         1.00         11.00\n",
       "50%      56.00     1.00         2.00         13.00\n",
       "75%      59.00     1.00         2.00         16.00\n",
       "max      65.00     1.00        10.00         39.00"
      ]
     },
     "execution_count": 44,
     "metadata": {},
     "output_type": "execute_result"
    }
   ],
   "source": [
    "round(df[[\"age\", \"gender\", \"nb_children\", \"yrseducation\"]].describe(), 2)"
   ]
  },
  {
   "cell_type": "code",
   "execution_count": 45,
   "metadata": {},
   "outputs": [
    {
     "data": {
      "image/png": "[encoded data removed]",
      "text/plain": [
       "<Figure size 700x500 with 4 Axes>"
      ]
     },
     "metadata": {},
     "output_type": "display_data"
    }
   ],
   "source": [
    "fig, axs = plt.subplots(2, 2, figsize=(7, 5))\n",
    "\n",
    "axs[0, 0].hist(df[\"age\"], bins=30, color=\"skyblue\", alpha=0.7)\n",
    "axs[0, 0].set_title(\"Age\")\n",
    "\n",
    "axs[0, 1].hist(df[\"gender\"], bins=30, color=\"salmon\", alpha=0.7)\n",
    "axs[0, 1].set_title(\"Gender\")\n",
    "\n",
    "axs[1, 0].hist(df[\"nb_children\"], bins=30, color=\"lightgreen\", alpha=0.7)\n",
    "axs[1, 0].set_title(\"Number of children\")\n",
    "\n",
    "axs[1, 1].hist(df[\"yrseducation\"], bins=30, color=\"gold\", alpha=0.7)\n",
    "axs[1, 1].set_title(\"Years of education\")\n",
    "\n",
    "plt.tight_layout()\n",
    "\n",
    "plt.show()"
   ]
  },
  {
   "cell_type": "code",
   "execution_count": 46,
   "metadata": {},
   "outputs": [
    {
     "data": {
      "text/plain": [
       "job_status\n",
       "Private sector employee    0.42\n",
       "Public sector employee     0.25\n",
       "Employee                   0.17\n",
       "Self-employed              0.12\n",
       "Civil servant              0.04\n",
       "Name: proportion, dtype: float64"
      ]
     },
     "execution_count": 46,
     "metadata": {},
     "output_type": "execute_result"
    }
   ],
   "source": [
    "round(df[\"job_status\"].value_counts(normalize=True), 2)"
   ]
  },
  {
   "cell_type": "code",
   "execution_count": 47,
   "metadata": {},
   "outputs": [
    {
     "data": {
      "text/html": [
       "<div>\n",
       "<style scoped>\n",
       "    .dataframe tbody tr th:only-of-type {\n",
       "        vertical-align: middle;\n",
       "    }\n",
       "\n",
       "    .dataframe tbody tr th {\n",
       "        vertical-align: top;\n",
       "    }\n",
       "\n",
       "    .dataframe thead th {\n",
       "        text-align: right;\n",
       "    }\n",
       "</style>\n",
       "<table border=\"1\" class=\"dataframe\">\n",
       "  <thead>\n",
       "    <tr style=\"text-align: right;\">\n",
       "      <th></th>\n",
       "      <th>yrscontribution</th>\n",
       "      <th>retirement_age</th>\n",
       "      <th>work_horizon</th>\n",
       "      <th>work_horizon_change</th>\n",
       "    </tr>\n",
       "  </thead>\n",
       "  <tbody>\n",
       "    <tr>\n",
       "      <th>count</th>\n",
       "      <td>8479.00</td>\n",
       "      <td>8479.00</td>\n",
       "      <td>8479.00</td>\n",
       "      <td>8479.00</td>\n",
       "    </tr>\n",
       "    <tr>\n",
       "      <th>mean</th>\n",
       "      <td>36.03</td>\n",
       "      <td>63.28</td>\n",
       "      <td>6.77</td>\n",
       "      <td>0.38</td>\n",
       "    </tr>\n",
       "    <tr>\n",
       "      <th>std</th>\n",
       "      <td>6.08</td>\n",
       "      <td>2.15</td>\n",
       "      <td>3.42</td>\n",
       "      <td>0.65</td>\n",
       "    </tr>\n",
       "    <tr>\n",
       "      <th>min</th>\n",
       "      <td>6.00</td>\n",
       "      <td>57.00</td>\n",
       "      <td>0.08</td>\n",
       "      <td>0.00</td>\n",
       "    </tr>\n",
       "    <tr>\n",
       "      <th>25%</th>\n",
       "      <td>33.00</td>\n",
       "      <td>62.00</td>\n",
       "      <td>4.00</td>\n",
       "      <td>0.00</td>\n",
       "    </tr>\n",
       "    <tr>\n",
       "      <th>50%</th>\n",
       "      <td>37.00</td>\n",
       "      <td>65.00</td>\n",
       "      <td>7.00</td>\n",
       "      <td>0.00</td>\n",
       "    </tr>\n",
       "    <tr>\n",
       "      <th>75%</th>\n",
       "      <td>40.00</td>\n",
       "      <td>65.00</td>\n",
       "      <td>9.00</td>\n",
       "      <td>0.50</td>\n",
       "    </tr>\n",
       "    <tr>\n",
       "      <th>max</th>\n",
       "      <td>55.00</td>\n",
       "      <td>68.00</td>\n",
       "      <td>17.00</td>\n",
       "      <td>4.00</td>\n",
       "    </tr>\n",
       "  </tbody>\n",
       "</table>\n",
       "</div>"
      ],
      "text/plain": [
       "       yrscontribution  retirement_age  work_horizon  work_horizon_change\n",
       "count          8479.00         8479.00       8479.00              8479.00\n",
       "mean             36.03           63.28          6.77                 0.38\n",
       "std               6.08            2.15          3.42                 0.65\n",
       "min               6.00           57.00          0.08                 0.00\n",
       "25%              33.00           62.00          4.00                 0.00\n",
       "50%              37.00           65.00          7.00                 0.00\n",
       "75%              40.00           65.00          9.00                 0.50\n",
       "max              55.00           68.00         17.00                 4.00"
      ]
     },
     "execution_count": 47,
     "metadata": {},
     "output_type": "execute_result"
    }
   ],
   "source": [
    "round(\n",
    "    df[\n",
    "        [\"yrscontribution\", \"retirement_age\", \"work_horizon\", \"work_horizon_change\"]\n",
    "    ].describe(),\n",
    "    2,\n",
    ")"
   ]
  },
  {
   "cell_type": "code",
   "execution_count": 48,
   "metadata": {},
   "outputs": [
    {
     "data": {
      "image/png": "[encoded data removed]",
      "text/plain": [
       "<Figure size 700x500 with 4 Axes>"
      ]
     },
     "metadata": {},
     "output_type": "display_data"
    }
   ],
   "source": [
    "fig, axs = plt.subplots(2, 2, figsize=(7, 5))\n",
    "\n",
    "axs[0, 0].hist(df[\"yrscontribution\"], bins=30, color=\"skyblue\", alpha=0.7)\n",
    "axs[0, 0].set_title(\"Years of contribution\")\n",
    "\n",
    "axs[0, 1].hist(df[\"retirement_age\"], bins=30, color=\"salmon\", alpha=0.7)\n",
    "axs[0, 1].set_title(\"Retirement age\")\n",
    "\n",
    "axs[1, 0].hist(df[\"work_horizon\"], bins=30, color=\"lightgreen\", alpha=0.7)\n",
    "axs[1, 0].set_title(\"Work horizon, years\")\n",
    "\n",
    "axs[1, 1].hist(df[\"work_horizon_change\"], bins=30, color=\"gold\", alpha=0.7)\n",
    "axs[1, 1].set_title(\"Work horizon change by reform\")\n",
    "\n",
    "plt.tight_layout()\n",
    "\n",
    "plt.show()"
   ]
  },
  {
   "cell_type": "code",
   "execution_count": 49,
   "metadata": {},
   "outputs": [
    {
     "data": {
      "text/plain": [
       "eurodcat\n",
       "0    0.81\n",
       "1    0.19\n",
       "Name: proportion, dtype: float64"
      ]
     },
     "execution_count": 49,
     "metadata": {},
     "output_type": "execute_result"
    }
   ],
   "source": [
    "round(df[\"eurodcat\"].value_counts(normalize=True), 2)"
   ]
  },
  {
   "cell_type": "code",
   "execution_count": 50,
   "metadata": {},
   "outputs": [
    {
     "data": {
      "text/plain": [
       "eurod\n",
       "0.0     2202\n",
       "1.0     2046\n",
       "2.0     1520\n",
       "3.0     1061\n",
       "4.0      751\n",
       "5.0      438\n",
       "6.0      234\n",
       "7.0      123\n",
       "8.0       53\n",
       "9.0       36\n",
       "10.0      11\n",
       "11.0       4\n",
       "Name: count, dtype: int64"
      ]
     },
     "execution_count": 50,
     "metadata": {},
     "output_type": "execute_result"
    }
   ],
   "source": [
    "df[\"eurod\"].value_counts()"
   ]
  },
  {
   "cell_type": "code",
   "execution_count": 51,
   "metadata": {},
   "outputs": [
    {
     "data": {
      "image/png": "[encoded data removed]",
      "text/plain": [
       "<Figure size 600x400 with 1 Axes>"
      ]
     },
     "metadata": {},
     "output_type": "display_data"
    }
   ],
   "source": [
    "plt.figure(figsize=(6, 4))\n",
    "plt.hist(df[\"eurod\"], bins=13, color=\"skyblue\", alpha=0.7)\n",
    "plt.title(\"EuroD scale score\")\n",
    "plt.xlabel(\"Values\")\n",
    "plt.ylabel(\"Frequency\")\n",
    "plt.grid(True)\n",
    "plt.show()"
   ]
  },
  {
   "cell_type": "code",
   "execution_count": 52,
   "metadata": {},
   "outputs": [
    {
     "data": {
      "text/html": [
       "<div>\n",
       "<style scoped>\n",
       "    .dataframe tbody tr th:only-of-type {\n",
       "        vertical-align: middle;\n",
       "    }\n",
       "\n",
       "    .dataframe tbody tr th {\n",
       "        vertical-align: top;\n",
       "    }\n",
       "\n",
       "    .dataframe thead th {\n",
       "        text-align: right;\n",
       "    }\n",
       "</style>\n",
       "<table border=\"1\" class=\"dataframe\">\n",
       "  <thead>\n",
       "    <tr style=\"text-align: right;\">\n",
       "      <th></th>\n",
       "      <th>jqi_monthly_earnings</th>\n",
       "      <th>jqi_skills_discretion</th>\n",
       "      <th>jqi_social_environment</th>\n",
       "      <th>jqi_physical_environment</th>\n",
       "      <th>jqi_intensity</th>\n",
       "      <th>jqi_prospects</th>\n",
       "      <th>jqi_working_time_quality</th>\n",
       "    </tr>\n",
       "  </thead>\n",
       "  <tbody>\n",
       "    <tr>\n",
       "      <th>count</th>\n",
       "      <td>8479.00</td>\n",
       "      <td>8479.00</td>\n",
       "      <td>8479.00</td>\n",
       "      <td>8479.00</td>\n",
       "      <td>8479.00</td>\n",
       "      <td>8479.00</td>\n",
       "      <td>8479.00</td>\n",
       "    </tr>\n",
       "    <tr>\n",
       "      <th>mean</th>\n",
       "      <td>1515.77</td>\n",
       "      <td>58.21</td>\n",
       "      <td>79.81</td>\n",
       "      <td>84.88</td>\n",
       "      <td>40.60</td>\n",
       "      <td>40.71</td>\n",
       "      <td>87.12</td>\n",
       "    </tr>\n",
       "    <tr>\n",
       "      <th>std</th>\n",
       "      <td>689.44</td>\n",
       "      <td>14.83</td>\n",
       "      <td>7.64</td>\n",
       "      <td>9.51</td>\n",
       "      <td>12.90</td>\n",
       "      <td>13.52</td>\n",
       "      <td>11.29</td>\n",
       "    </tr>\n",
       "    <tr>\n",
       "      <th>min</th>\n",
       "      <td>98.72</td>\n",
       "      <td>4.63</td>\n",
       "      <td>27.27</td>\n",
       "      <td>39.74</td>\n",
       "      <td>0.00</td>\n",
       "      <td>0.00</td>\n",
       "      <td>15.62</td>\n",
       "    </tr>\n",
       "    <tr>\n",
       "      <th>25%</th>\n",
       "      <td>1073.27</td>\n",
       "      <td>47.32</td>\n",
       "      <td>75.00</td>\n",
       "      <td>79.40</td>\n",
       "      <td>32.31</td>\n",
       "      <td>33.02</td>\n",
       "      <td>81.51</td>\n",
       "    </tr>\n",
       "    <tr>\n",
       "      <th>50%</th>\n",
       "      <td>1422.96</td>\n",
       "      <td>57.62</td>\n",
       "      <td>80.20</td>\n",
       "      <td>87.87</td>\n",
       "      <td>40.00</td>\n",
       "      <td>40.27</td>\n",
       "      <td>89.78</td>\n",
       "    </tr>\n",
       "    <tr>\n",
       "      <th>75%</th>\n",
       "      <td>1814.51</td>\n",
       "      <td>70.80</td>\n",
       "      <td>84.85</td>\n",
       "      <td>92.01</td>\n",
       "      <td>48.01</td>\n",
       "      <td>49.70</td>\n",
       "      <td>95.75</td>\n",
       "    </tr>\n",
       "    <tr>\n",
       "      <th>max</th>\n",
       "      <td>12267.43</td>\n",
       "      <td>97.47</td>\n",
       "      <td>100.00</td>\n",
       "      <td>100.00</td>\n",
       "      <td>100.00</td>\n",
       "      <td>100.00</td>\n",
       "      <td>100.00</td>\n",
       "    </tr>\n",
       "  </tbody>\n",
       "</table>\n",
       "</div>"
      ],
      "text/plain": [
       "       jqi_monthly_earnings  jqi_skills_discretion  jqi_social_environment  \\\n",
       "count               8479.00                8479.00                 8479.00   \n",
       "mean                1515.77                  58.21                   79.81   \n",
       "std                  689.44                  14.83                    7.64   \n",
       "min                   98.72                   4.63                   27.27   \n",
       "25%                 1073.27                  47.32                   75.00   \n",
       "50%                 1422.96                  57.62                   80.20   \n",
       "75%                 1814.51                  70.80                   84.85   \n",
       "max                12267.43                  97.47                  100.00   \n",
       "\n",
       "       jqi_physical_environment  jqi_intensity  jqi_prospects  \\\n",
       "count                   8479.00        8479.00        8479.00   \n",
       "mean                      84.88          40.60          40.71   \n",
       "std                        9.51          12.90          13.52   \n",
       "min                       39.74           0.00           0.00   \n",
       "25%                       79.40          32.31          33.02   \n",
       "50%                       87.87          40.00          40.27   \n",
       "75%                       92.01          48.01          49.70   \n",
       "max                      100.00         100.00         100.00   \n",
       "\n",
       "       jqi_working_time_quality  \n",
       "count                   8479.00  \n",
       "mean                      87.12  \n",
       "std                       11.29  \n",
       "min                       15.62  \n",
       "25%                       81.51  \n",
       "50%                       89.78  \n",
       "75%                       95.75  \n",
       "max                      100.00  "
      ]
     },
     "execution_count": 52,
     "metadata": {},
     "output_type": "execute_result"
    }
   ],
   "source": [
    "round(\n",
    "    df[\n",
    "        [\n",
    "            \"jqi_monthly_earnings\",\n",
    "            \"jqi_skills_discretion\",\n",
    "            \"jqi_social_environment\",\n",
    "            \"jqi_physical_environment\",\n",
    "            \"jqi_intensity\",\n",
    "            \"jqi_prospects\",\n",
    "            \"jqi_working_time_quality\",\n",
    "        ]\n",
    "    ].describe(),\n",
    "    2,\n",
    ")"
   ]
  },
  {
   "cell_type": "markdown",
   "metadata": {},
   "source": [
    "### Waves 4,5,6 common individuals"
   ]
  },
  {
   "cell_type": "code",
   "execution_count": 9,
   "metadata": {},
   "outputs": [
    {
     "data": {
      "text/plain": [
       "4968"
      ]
     },
     "execution_count": 9,
     "metadata": {},
     "output_type": "execute_result"
    }
   ],
   "source": [
    "df.mergeid.nunique()"
   ]
  },
  {
   "cell_type": "code",
   "execution_count": 10,
   "metadata": {},
   "outputs": [
    {
     "data": {
      "text/plain": [
       "947"
      ]
     },
     "execution_count": 10,
     "metadata": {},
     "output_type": "execute_result"
    }
   ],
   "source": [
    "unique_mergeid_w4 = set(df[df.wave == 4][\"mergeid\"].unique())\n",
    "unique_mergeid_w5 = set(df[df.wave == 5][\"mergeid\"].unique())\n",
    "unique_mergeid_w6 = set(df[df.wave == 6][\"mergeid\"].unique())\n",
    "intersection_ids = unique_mergeid_w4.intersection(unique_mergeid_w5).intersection(\n",
    "    unique_mergeid_w6\n",
    ")\n",
    "len(intersection_ids)"
   ]
  },
  {
   "cell_type": "code",
   "execution_count": 11,
   "metadata": {},
   "outputs": [],
   "source": [
    "w456_common = df[df[\"mergeid\"].isin(intersection_ids)].reset_index(drop=True)"
   ]
  },
  {
   "cell_type": "markdown",
   "metadata": {},
   "source": [
    "isco = w456_common[\"isco\"].value_counts().to_frame().reset_index()\n",
    "isco = isco[isco[\"count\"] >= 10]\n",
    "w456_common = w456_common[w456_common[\"isco\"].isin(isco[\"isco\"].unique())].reset_index(\n",
    "    drop=True\n",
    ")"
   ]
  },
  {
   "cell_type": "code",
   "execution_count": 12,
   "metadata": {},
   "outputs": [
    {
     "data": {
      "text/plain": [
       "947"
      ]
     },
     "execution_count": 12,
     "metadata": {},
     "output_type": "execute_result"
    }
   ],
   "source": [
    "w456_common.mergeid.nunique()"
   ]
  },
  {
   "cell_type": "code",
   "execution_count": 13,
   "metadata": {},
   "outputs": [
    {
     "data": {
      "text/plain": [
       "country\n",
       "Austria            75\n",
       "Belgium           201\n",
       "Czech Republic     74\n",
       "Denmark           111\n",
       "Estonia           168\n",
       "France            116\n",
       "Germany            13\n",
       "Italy              69\n",
       "Slovenia           59\n",
       "Spain              61\n",
       "Name: mergeid, dtype: int64"
      ]
     },
     "execution_count": 13,
     "metadata": {},
     "output_type": "execute_result"
    }
   ],
   "source": [
    "w456_common.groupby(\"country\").mergeid.nunique()"
   ]
  },
  {
   "cell_type": "code",
   "execution_count": 14,
   "metadata": {},
   "outputs": [],
   "source": [
    "# Delete Germany as too few individuals\n",
    "w456_common = w456_common[w456_common.country != \"Germany\"].reset_index(drop=True)"
   ]
  },
  {
   "cell_type": "code",
   "execution_count": 15,
   "metadata": {},
   "outputs": [],
   "source": [
    "w456_common.to_csv(\n",
    "    \"/Users/alexandralugova/Documents/GitHub/MH-old-workers/data/datasets/data_clean_w456_common.csv\",\n",
    "    index=False,\n",
    ")"
   ]
  },
  {
   "cell_type": "markdown",
   "metadata": {},
   "source": [
    "### Waves 4 and 6"
   ]
  },
  {
   "cell_type": "code",
   "execution_count": 16,
   "metadata": {},
   "outputs": [],
   "source": [
    "w46 = df[(df.wave == 4) | (df.wave == 6)].reset_index(drop=True)"
   ]
  },
  {
   "cell_type": "code",
   "execution_count": 17,
   "metadata": {},
   "outputs": [
    {
     "data": {
      "text/plain": [
       "4497"
      ]
     },
     "execution_count": 17,
     "metadata": {},
     "output_type": "execute_result"
    }
   ],
   "source": [
    "w46.mergeid.nunique()"
   ]
  },
  {
   "cell_type": "code",
   "execution_count": 18,
   "metadata": {},
   "outputs": [
    {
     "data": {
      "text/plain": [
       "country\n",
       "Austria           262\n",
       "Belgium           650\n",
       "Czech Republic    315\n",
       "Denmark           369\n",
       "Estonia           537\n",
       "France            327\n",
       "Germany           532\n",
       "Italy             424\n",
       "Slovenia          297\n",
       "Spain             505\n",
       "Switzerland       279\n",
       "Name: mergeid, dtype: int64"
      ]
     },
     "execution_count": 18,
     "metadata": {},
     "output_type": "execute_result"
    }
   ],
   "source": [
    "w46.groupby(\"country\").mergeid.nunique()"
   ]
  },
  {
   "cell_type": "code",
   "execution_count": 19,
   "metadata": {},
   "outputs": [
    {
     "data": {
      "text/plain": [
       "wave\n",
       "4    2034\n",
       "6    3577\n",
       "Name: mergeid, dtype: int64"
      ]
     },
     "execution_count": 19,
     "metadata": {},
     "output_type": "execute_result"
    }
   ],
   "source": [
    "w46.groupby(\"wave\").mergeid.nunique()"
   ]
  },
  {
   "cell_type": "code",
   "execution_count": 20,
   "metadata": {},
   "outputs": [],
   "source": [
    "w46.to_csv(\n",
    "    \"/Users/alexandralugova/Documents/GitHub/MH-old-workers/data/datasets/data_clean_w46.csv\",\n",
    "    index=False,\n",
    ")"
   ]
  },
  {
   "cell_type": "markdown",
   "metadata": {},
   "source": [
    "### Waves 4 and 6 common individuals"
   ]
  },
  {
   "cell_type": "code",
   "execution_count": 21,
   "metadata": {},
   "outputs": [
    {
     "data": {
      "text/plain": [
       "1114"
      ]
     },
     "execution_count": 21,
     "metadata": {},
     "output_type": "execute_result"
    }
   ],
   "source": [
    "unique_mergeid_w4 = set(w46[w46.wave == 4][\"mergeid\"].unique())\n",
    "unique_mergeid_w6 = set(w46[w46.wave == 6][\"mergeid\"].unique())\n",
    "intersection_ids = unique_mergeid_w4.intersection(unique_mergeid_w6)\n",
    "len(intersection_ids)"
   ]
  },
  {
   "cell_type": "code",
   "execution_count": 22,
   "metadata": {},
   "outputs": [],
   "source": [
    "w46_common = w46[w46[\"mergeid\"].isin(intersection_ids)].reset_index(drop=True)"
   ]
  },
  {
   "cell_type": "code",
   "execution_count": 23,
   "metadata": {},
   "outputs": [
    {
     "data": {
      "text/plain": [
       "country\n",
       "Austria            88\n",
       "Belgium           240\n",
       "Czech Republic     89\n",
       "Denmark           121\n",
       "Estonia           190\n",
       "France            133\n",
       "Germany            16\n",
       "Italy              89\n",
       "Slovenia           74\n",
       "Spain              74\n",
       "Name: mergeid, dtype: int64"
      ]
     },
     "execution_count": 23,
     "metadata": {},
     "output_type": "execute_result"
    }
   ],
   "source": [
    "w46_common.groupby(\"country\").mergeid.nunique()"
   ]
  },
  {
   "cell_type": "code",
   "execution_count": 24,
   "metadata": {},
   "outputs": [],
   "source": [
    "# Delete Germany as too few individuals\n",
    "w456_common = w456_common[w456_common.country != \"Germany\"].reset_index(drop=True)"
   ]
  },
  {
   "cell_type": "code",
   "execution_count": 25,
   "metadata": {},
   "outputs": [],
   "source": [
    "w46_common.to_csv(\n",
    "    \"/Users/alexandralugova/Documents/GitHub/MH-old-workers/data/datasets/data_clean_w46_common.csv\",\n",
    "    index=False,\n",
    ")"
   ]
  }
 ],
 "metadata": {
  "kernelspec": {
   "display_name": "mhold",
   "language": "python",
   "name": "python3"
  },
  "language_info": {
   "codemirror_mode": {
    "name": "ipython",
    "version": 3
   },
   "file_extension": ".py",
   "mimetype": "text/x-python",
   "name": "python",
   "nbconvert_exporter": "python",
   "pygments_lexer": "ipython3",
   "version": "3.11.5"
  }
 },
 "nbformat": 4,
 "nbformat_minor": 2
}
