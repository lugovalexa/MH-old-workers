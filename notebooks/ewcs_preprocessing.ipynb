{
 "cells": [
  {
   "cell_type": "markdown",
   "metadata": {},
   "source": [
    "# MH of older workers, retirement age and working conditions"
   ]
  },
  {
   "cell_type": "markdown",
   "metadata": {},
   "source": [
    "## Preprocessing EWCS data"
   ]
  },
  {
   "cell_type": "markdown",
   "metadata": {},
   "source": [
    "Load libraries"
   ]
  },
  {
   "cell_type": "code",
   "execution_count": 1,
   "metadata": {},
   "outputs": [],
   "source": [
    "import os\n",
    "import sys\n",
    "\n",
    "src_path = os.path.abspath(\"../\")\n",
    "sys.path.append(src_path)\n",
    "\n",
    "from utils.common import *\n",
    "from utils.ewcs import *\n",
    "\n",
    "import_libraries()\n",
    "import pyreadstat"
   ]
  },
  {
   "cell_type": "markdown",
   "metadata": {},
   "source": [
    "Load data"
   ]
  },
  {
   "cell_type": "code",
   "execution_count": 2,
   "metadata": {},
   "outputs": [],
   "source": [
    "ewcs, meta_ewcs = pyreadstat.read_dta(\n",
    "    \"/Users/alexandralugova/Documents/GitHub/MH-old-workers/data/datasets/EWCS 1991-2015 UKDA ISCO.DTA\"\n",
    ")\n",
    "df10, meta_df10 = pyreadstat.read_dta(\n",
    "    \"/Users/alexandralugova/Documents/GitHub/MH-old-workers/data/datasets/UKDA-2010/stata/stata11/ewcs_2010_version_ukda_6_dec_2011.dta\"\n",
    ")"
   ]
  },
  {
   "cell_type": "markdown",
   "metadata": {},
   "source": [
    "Apply some initial formatting"
   ]
  },
  {
   "cell_type": "code",
   "execution_count": 3,
   "metadata": {},
   "outputs": [],
   "source": [
    "ewcs = ewcs_preprocessing(ewcs, meta_ewcs)"
   ]
  },
  {
   "cell_type": "markdown",
   "metadata": {},
   "source": [
    "Calculate social environment index"
   ]
  },
  {
   "cell_type": "code",
   "execution_count": 4,
   "metadata": {},
   "outputs": [
    {
     "name": "stdout",
     "output_type": "stream",
     "text": [
      "JQI social environment\n",
      "        count       mean        std        min        25%        50%  \\\n",
      "year                                                                   \n",
      "2010  30836.0  82.983566  14.530474  12.500000  75.000000  87.500000   \n",
      "2015  32121.0  81.258367  15.335162   4.545455  72.727273  81.818182   \n",
      "\n",
      "            75%    max  \n",
      "year                    \n",
      "2010  93.750000  100.0  \n",
      "2015  90.909091  100.0  \n"
     ]
    }
   ],
   "source": [
    "soc = social_environment_index(ewcs, df10)\n",
    "ewcs = ewcs.merge(soc, on=[\"id\", \"year\"], how=\"left\")"
   ]
  },
  {
   "cell_type": "markdown",
   "metadata": {},
   "source": [
    "Calculate prospects index"
   ]
  },
  {
   "cell_type": "code",
   "execution_count": 5,
   "metadata": {},
   "outputs": [
    {
     "name": "stdout",
     "output_type": "stream",
     "text": [
      "JQI prospects\n",
      "        count       mean        std  min   25%   50%   75%    max\n",
      "year                                                             \n",
      "2010  38556.0  55.655086  23.024819  0.0  37.5  50.0  75.0  100.0\n",
      "2015  75016.0  58.081776  24.106244  0.0  50.0  62.5  75.0  100.0\n"
     ]
    }
   ],
   "source": [
    "pro = prospects_index(ewcs, df10)\n",
    "ewcs = ewcs.merge(pro, on=[\"id\", \"year\"], how=\"left\")"
   ]
  },
  {
   "cell_type": "markdown",
   "metadata": {},
   "source": [
    "Calculate intensity index (greater index - lower intensity, inverse to original)"
   ]
  },
  {
   "cell_type": "code",
   "execution_count": 6,
   "metadata": {},
   "outputs": [
    {
     "name": "stdout",
     "output_type": "stream",
     "text": [
      "JQI intensity\n",
      "        count       mean        std       min        25%        50%  \\\n",
      "year                                                                  \n",
      "2010  27063.0  56.353951  15.846348  4.651163  46.511628  58.139535   \n",
      "2015  29742.0  46.339840  13.663985  2.325581  37.209302  46.511628   \n",
      "\n",
      "            75%        max  \n",
      "year                        \n",
      "2010  67.441860  95.348837  \n",
      "2015  55.813953  83.720930  \n"
     ]
    }
   ],
   "source": [
    "int = intensity_index(ewcs, df10)\n",
    "ewcs = ewcs.merge(int, on=[\"id\", \"year\"], how=\"left\")"
   ]
  },
  {
   "cell_type": "markdown",
   "metadata": {},
   "source": [
    "Add intensity slim original"
   ]
  },
  {
   "cell_type": "code",
   "execution_count": 7,
   "metadata": {},
   "outputs": [],
   "source": [
    "ewcs = ewcs.rename(columns={\"intens_slim\": \"jqi_intensity_slim\"})"
   ]
  },
  {
   "cell_type": "markdown",
   "metadata": {},
   "source": [
    "Adjust indexes with design weights"
   ]
  },
  {
   "cell_type": "code",
   "execution_count": 8,
   "metadata": {},
   "outputs": [],
   "source": [
    "indexes = [col for col in ewcs.columns if col.startswith(\"jqi\")]\n",
    "\n",
    "for index in indexes:\n",
    "    ewcs[f\"{index}_w\"] = ewcs[f\"{index}\"] * ewcs[\"w4\"]\n",
    "\n",
    "    old_min = ewcs[f\"{index}_w\"].min()\n",
    "    old_max = ewcs[f\"{index}_w\"].max()\n",
    "    new_min = 0\n",
    "    new_max = 100\n",
    "\n",
    "    # ewcs[f\"{index}_w\"] = (\n",
    "    #    (ewcs[f\"{index}_w\"] - old_min) / (old_max - old_min)\n",
    "    # ) * (new_max - new_min) + new_min"
   ]
  },
  {
   "cell_type": "markdown",
   "metadata": {},
   "source": [
    "Calculate overall work quality index, normal and weighted"
   ]
  },
  {
   "cell_type": "code",
   "execution_count": 9,
   "metadata": {},
   "outputs": [
    {
     "name": "stdout",
     "output_type": "stream",
     "text": [
      "JQI working quality index (no weights applied)\n",
      "count    32404.000000\n",
      "mean        64.073738\n",
      "std         14.215559\n",
      "min          0.000000\n",
      "25%         55.306274\n",
      "50%         65.647126\n",
      "75%         74.489796\n",
      "max        100.000000\n",
      "Name: jqi_sum, dtype: float64\n"
     ]
    }
   ],
   "source": [
    "ewcs = sum_wq_index(ewcs)"
   ]
  },
  {
   "cell_type": "markdown",
   "metadata": {},
   "source": [
    "Aggregate by country and isco"
   ]
  },
  {
   "cell_type": "code",
   "execution_count": 10,
   "metadata": {},
   "outputs": [],
   "source": [
    "indexes = [col for col in ewcs.columns if col.startswith(\"jqi\")]\n",
    "ewcs = ewcs[[\"country\", \"isco\"] + indexes]  # choose columns\n",
    "\n",
    "# 4 digits\n",
    "ewcs_4digits = (\n",
    "    ewcs.groupby([\"country\", \"isco\"]).mean().reset_index(drop=False)\n",
    ")  # aggregate on year-country-isco level\n",
    "ewcs_4digits = ewcs_4digits.dropna().reset_index(drop=True)  # drop missing values\n",
    "\n",
    "# 3 digits\n",
    "ewcs[\"isco\"] = ewcs[\"isco\"] // 10\n",
    "ewcs_3digits = (\n",
    "    ewcs.groupby([\"country\", \"isco\"]).mean().reset_index(drop=False)\n",
    ")  # aggregate on year-country-isco level\n",
    "ewcs_3digits = ewcs_3digits.dropna().reset_index(drop=True)  # drop missing values"
   ]
  },
  {
   "cell_type": "markdown",
   "metadata": {},
   "source": [
    "Delete isco codes with less than 10 observations"
   ]
  },
  {
   "cell_type": "code",
   "execution_count": 11,
   "metadata": {},
   "outputs": [
    {
     "name": "stdout",
     "output_type": "stream",
     "text": [
      "4 digit isco codes: 301 out of 436\n",
      "3 digit isco codes: 120 out of 130\n"
     ]
    }
   ],
   "source": [
    "# 4 digits\n",
    "isco_counts = ewcs_4digits[\"isco\"].value_counts()\n",
    "values_to_keep = isco_counts[isco_counts >= 10].index\n",
    "ewcs_4digits = ewcs_4digits[ewcs_4digits[\"isco\"].isin(values_to_keep)]\n",
    "print(f\"4 digit isco codes: {ewcs_4digits.isco.nunique()} out of 436\")\n",
    "# 3 digits\n",
    "isco_counts = ewcs_3digits[\"isco\"].value_counts()\n",
    "values_to_keep = isco_counts[isco_counts >= 10].index\n",
    "ewcs_3digits = ewcs_3digits[ewcs_3digits[\"isco\"].isin(values_to_keep)]\n",
    "print(f\"3 digit isco codes: {ewcs_3digits.isco.nunique()} out of 130\")"
   ]
  },
  {
   "cell_type": "code",
   "execution_count": 12,
   "metadata": {},
   "outputs": [
    {
     "data": {
      "text/plain": [
       "0.6903669724770642"
      ]
     },
     "execution_count": 12,
     "metadata": {},
     "output_type": "execute_result"
    }
   ],
   "source": [
    "301 / 436"
   ]
  },
  {
   "cell_type": "code",
   "execution_count": 13,
   "metadata": {},
   "outputs": [
    {
     "data": {
      "text/plain": [
       "0.9230769230769231"
      ]
     },
     "execution_count": 13,
     "metadata": {},
     "output_type": "execute_result"
    }
   ],
   "source": [
    "120 / 130"
   ]
  },
  {
   "cell_type": "markdown",
   "metadata": {},
   "source": [
    "Final steps"
   ]
  },
  {
   "cell_type": "code",
   "execution_count": 14,
   "metadata": {},
   "outputs": [],
   "source": [
    "ewcs_4digits.to_csv(\n",
    "    \"/Users/alexandralugova/Documents/GitHub/MH-old-workers/data/datasets/results/work_quality_indexes_country_4digits.csv\",\n",
    "    index=False,\n",
    ")  # save resulting dataset\n",
    "\n",
    "ewcs_3digits.to_csv(\n",
    "    \"/Users/alexandralugova/Documents/GitHub/MH-old-workers/data/datasets/results/work_quality_indexes_country_3digits.csv\",\n",
    "    index=False,\n",
    ")  # save resulting dataset"
   ]
  }
 ],
 "metadata": {
  "kernelspec": {
   "display_name": "mhold",
   "language": "python",
   "name": "python3"
  },
  "language_info": {
   "codemirror_mode": {
    "name": "ipython",
    "version": 3
   },
   "file_extension": ".py",
   "mimetype": "text/x-python",
   "name": "python",
   "nbconvert_exporter": "python",
   "pygments_lexer": "ipython3",
   "version": "3.11.5"
  }
 },
 "nbformat": 4,
 "nbformat_minor": 2
}
