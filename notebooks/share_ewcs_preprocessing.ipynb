{
 "cells": [
  {
   "cell_type": "markdown",
   "metadata": {},
   "source": [
    "# MH of older workers, retirement age and working conditions"
   ]
  },
  {
   "cell_type": "markdown",
   "metadata": {},
   "source": [
    "## Preprocessing EWCS data"
   ]
  },
  {
   "cell_type": "code",
   "execution_count": 1,
   "metadata": {},
   "outputs": [],
   "source": [
    "import os\n",
    "import sys\n",
    "\n",
    "src_path = os.path.abspath(\"../\")\n",
    "sys.path.append(src_path)\n",
    "\n",
    "from utils.common import *\n",
    "from utils.ewcs import *\n",
    "from utils.retirement import *\n",
    "from utils.share import *\n",
    "\n",
    "import_libraries()"
   ]
  },
  {
   "cell_type": "markdown",
   "metadata": {},
   "source": [
    "## EWCS data"
   ]
  },
  {
   "cell_type": "code",
   "execution_count": 2,
   "metadata": {},
   "outputs": [],
   "source": [
    "ewcs, meta_ewcs = pyreadstat.read_dta(\n",
    "    \"/Users/alexandralugova/Documents/GitHub/MH-old-workers/data/datasets/EWCS 1991-2015 UKDA ISCO.DTA\"\n",
    ")"
   ]
  },
  {
   "cell_type": "code",
   "execution_count": 3,
   "metadata": {},
   "outputs": [],
   "source": [
    "ewcs = ewcs_preprocessing(ewcs, meta_ewcs)"
   ]
  },
  {
   "cell_type": "code",
   "execution_count": 4,
   "metadata": {},
   "outputs": [],
   "source": [
    "df10, meta_df10 = pyreadstat.read_dta(\n",
    "    \"/Users/alexandralugova/Documents/GitHub/MH-old-workers/data/datasets/UKDA-2010/stata/stata11/ewcs_2010_version_ukda_6_dec_2011.dta\"\n",
    ")"
   ]
  },
  {
   "cell_type": "code",
   "execution_count": 5,
   "metadata": {},
   "outputs": [
    {
     "name": "stdout",
     "output_type": "stream",
     "text": [
      "JQI social environment\n",
      "        count       mean        std        min        25%        50%  \\\n",
      "year                                                                   \n",
      "2010  30836.0  82.983566  14.530474  12.500000  75.000000  87.500000   \n",
      "2015  13279.0  79.869788  15.768143   9.090909  72.727273  81.818182   \n",
      "\n",
      "            75%    max  \n",
      "year                    \n",
      "2010  93.750000  100.0  \n",
      "2015  90.909091  100.0  \n"
     ]
    }
   ],
   "source": [
    "soc = social_environment_index(ewcs, df10)\n",
    "ewcs = ewcs.merge(soc, on=[\"id\", \"year\"], how=\"left\")"
   ]
  },
  {
   "cell_type": "code",
   "execution_count": 6,
   "metadata": {},
   "outputs": [
    {
     "name": "stdout",
     "output_type": "stream",
     "text": [
      "JQI prospects\n",
      "        count       mean        std  min   25%   50%   75%    max\n",
      "year                                                             \n",
      "2010  38556.0  55.655086  23.024819  0.0  37.5  50.0  75.0  100.0\n",
      "2015  30073.0  57.977255  24.018895  0.0  50.0  62.5  75.0  100.0\n"
     ]
    }
   ],
   "source": [
    "pro = prospects_index(ewcs, df10)\n",
    "ewcs = ewcs.merge(pro, on=[\"id\", \"year\"], how=\"left\")"
   ]
  },
  {
   "cell_type": "code",
   "execution_count": 7,
   "metadata": {},
   "outputs": [
    {
     "name": "stdout",
     "output_type": "stream",
     "text": [
      "JQI intensity\n",
      "        count       mean        std       min        25%        50%  \\\n",
      "year                                                                  \n",
      "2010  27063.0  56.353951  15.846348  4.651163  46.511628  58.139535   \n",
      "2015  12947.0  46.274705  13.852596  2.325581  37.209302  46.511628   \n",
      "\n",
      "            75%        max  \n",
      "year                        \n",
      "2010  67.441860  95.348837  \n",
      "2015  55.813953  83.720930  \n"
     ]
    }
   ],
   "source": [
    "int = intensity_index(ewcs, df10)\n",
    "ewcs = ewcs.merge(int, on=[\"id\", \"year\"], how=\"left\")"
   ]
  },
  {
   "cell_type": "code",
   "execution_count": 8,
   "metadata": {},
   "outputs": [],
   "source": [
    "indexes = [col for col in ewcs.columns if col.startswith(\"jqi\")]\n",
    "\n",
    "for index in indexes:\n",
    "    ewcs[f\"{index}_weighted\"] = ewcs[index] * ewcs[\"w4\"]"
   ]
  },
  {
   "cell_type": "code",
   "execution_count": 9,
   "metadata": {},
   "outputs": [
    {
     "name": "stdout",
     "output_type": "stream",
     "text": [
      "JQI working quality index\n",
      "       count        mean        std         min         25%         50%  \\\n",
      "year                                                                      \n",
      "2010  8692.0  422.290177  58.719339  181.754106  386.940634  428.266737   \n",
      "2015  5234.0  415.680452  61.528587  133.185597  379.178912  422.432728   \n",
      "\n",
      "             75%         max  \n",
      "year                          \n",
      "2010  464.941052  575.941286  \n",
      "2015  460.123278  555.676416  \n"
     ]
    }
   ],
   "source": [
    "ewcs = sum_wq_index(ewcs)"
   ]
  },
  {
   "cell_type": "code",
   "execution_count": 10,
   "metadata": {},
   "outputs": [],
   "source": [
    "ewcs = ewcs[[\"country\", \"year\", \"isco\"] + indexes]\n",
    "\n",
    "ewcs = ewcs.groupby([\"country\", \"year\", \"isco\"]).mean().reset_index(drop=False)\n",
    "\n",
    "ewcs = ewcs.dropna().reset_index(drop=True)"
   ]
  },
  {
   "cell_type": "code",
   "execution_count": 13,
   "metadata": {},
   "outputs": [],
   "source": [
    "ewcs = interpolate2013(ewcs)"
   ]
  },
  {
   "cell_type": "code",
   "execution_count": 15,
   "metadata": {},
   "outputs": [],
   "source": [
    "ewcs[\"year\"] = ewcs[\"year\"].replace({2010: 2011})"
   ]
  },
  {
   "cell_type": "code",
   "execution_count": 16,
   "metadata": {},
   "outputs": [
    {
     "data": {
      "text/plain": [
       "country                     0\n",
       "year                        0\n",
       "isco                        0\n",
       "jqi_monthly_earnings        0\n",
       "jqi_skills_discretion       0\n",
       "jqi_physical_environment    0\n",
       "jqi_working_time_quality    0\n",
       "jqi_social_environment      0\n",
       "jqi_prospects               0\n",
       "jqi_intensity               0\n",
       "dtype: int64"
      ]
     },
     "execution_count": 16,
     "metadata": {},
     "output_type": "execute_result"
    }
   ],
   "source": [
    "ewcs.isna().sum()"
   ]
  },
  {
   "cell_type": "code",
   "execution_count": 17,
   "metadata": {},
   "outputs": [],
   "source": [
    "ewcs.to_csv(\n",
    "    \"/Users/alexandralugova/Documents/GitHub/MH-old-workers/data/datasets/results/work_quality_indexes_year_country.csv\",\n",
    "    index=False,\n",
    ")"
   ]
  },
  {
   "cell_type": "code",
   "execution_count": null,
   "metadata": {},
   "outputs": [],
   "source": []
  }
 ],
 "metadata": {
  "kernelspec": {
   "display_name": "mhold",
   "language": "python",
   "name": "python3"
  },
  "language_info": {
   "codemirror_mode": {
    "name": "ipython",
    "version": 3
   },
   "file_extension": ".py",
   "mimetype": "text/x-python",
   "name": "python",
   "nbconvert_exporter": "python",
   "pygments_lexer": "ipython3",
   "version": "3.11.5"
  }
 },
 "nbformat": 4,
 "nbformat_minor": 2
}
