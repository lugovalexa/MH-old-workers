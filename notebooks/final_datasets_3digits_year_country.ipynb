{
 "cells": [
  {
   "cell_type": "markdown",
   "metadata": {},
   "source": [
    "## 3 digits - Merging year and country wise"
   ]
  },
  {
   "cell_type": "markdown",
   "metadata": {},
   "source": [
    "### Waves 4,5,6"
   ]
  },
  {
   "cell_type": "code",
   "execution_count": 1,
   "metadata": {},
   "outputs": [],
   "source": [
    "import matplotlib.pyplot as plt\n",
    "import pandas as pd"
   ]
  },
  {
   "cell_type": "code",
   "execution_count": 2,
   "metadata": {},
   "outputs": [],
   "source": [
    "df = pd.read_csv(\n",
    "    \"/Users/alexandralugova/Documents/GitHub/MH-old-workers/data/datasets/results/data_clean_w456.csv\"\n",
    ")\n",
    "indexes = pd.read_csv(\n",
    "    \"/Users/alexandralugova/Documents/GitHub/MH-old-workers/data/datasets/results/work_quality_indexes_year_country.csv\"\n",
    ")"
   ]
  },
  {
   "cell_type": "code",
   "execution_count": 3,
   "metadata": {},
   "outputs": [],
   "source": [
    "def convert_to_3_digits(number):\n",
    "    return int(str(number)[:-1]) if number >= 1000 else number\n",
    "\n",
    "\n",
    "df[\"isco\"] = df[\"isco\"].apply(lambda x: convert_to_3_digits(x))\n",
    "indexes[\"isco\"] = indexes[\"isco\"].apply(lambda x: convert_to_3_digits(x))"
   ]
  },
  {
   "cell_type": "code",
   "execution_count": 4,
   "metadata": {},
   "outputs": [],
   "source": [
    "df = df.merge(indexes, on=[\"year\", \"country\", \"isco\"], how=\"inner\")"
   ]
  },
  {
   "cell_type": "code",
   "execution_count": 5,
   "metadata": {},
   "outputs": [
    {
     "data": {
      "text/html": [
       "<div>\n",
       "<style scoped>\n",
       "    .dataframe tbody tr th:only-of-type {\n",
       "        vertical-align: middle;\n",
       "    }\n",
       "\n",
       "    .dataframe tbody tr th {\n",
       "        vertical-align: top;\n",
       "    }\n",
       "\n",
       "    .dataframe thead th {\n",
       "        text-align: right;\n",
       "    }\n",
       "</style>\n",
       "<table border=\"1\" class=\"dataframe\">\n",
       "  <thead>\n",
       "    <tr style=\"text-align: right;\">\n",
       "      <th></th>\n",
       "      <th>mergeid</th>\n",
       "      <th>wave</th>\n",
       "      <th>year</th>\n",
       "      <th>age</th>\n",
       "      <th>nb_children</th>\n",
       "      <th>partnerinhh</th>\n",
       "      <th>job_status</th>\n",
       "      <th>eurod</th>\n",
       "      <th>eurodcat</th>\n",
       "      <th>country</th>\n",
       "      <th>...</th>\n",
       "      <th>jqi_intensity</th>\n",
       "      <th>jqi_prospects</th>\n",
       "      <th>jqi_working_time_quality</th>\n",
       "      <th>jqi_monthly_earnings_weighted</th>\n",
       "      <th>jqi_skills_discretion_weighted</th>\n",
       "      <th>jqi_social_environment_weighted</th>\n",
       "      <th>jqi_physical_environment_weighted</th>\n",
       "      <th>jqi_intensity_weighted</th>\n",
       "      <th>jqi_prospects_weighted</th>\n",
       "      <th>jqi_working_time_quality_weighted</th>\n",
       "    </tr>\n",
       "  </thead>\n",
       "  <tbody>\n",
       "    <tr>\n",
       "      <th>0</th>\n",
       "      <td>AT-009376-01</td>\n",
       "      <td>4</td>\n",
       "      <td>2011</td>\n",
       "      <td>53.0</td>\n",
       "      <td>2.0</td>\n",
       "      <td>1</td>\n",
       "      <td>Civil servant</td>\n",
       "      <td>0.0</td>\n",
       "      <td>0</td>\n",
       "      <td>Austria</td>\n",
       "      <td>...</td>\n",
       "      <td>42.441860</td>\n",
       "      <td>37.500000</td>\n",
       "      <td>99.375000</td>\n",
       "      <td>2255.757532</td>\n",
       "      <td>99.866122</td>\n",
       "      <td>107.927235</td>\n",
       "      <td>125.510628</td>\n",
       "      <td>54.767774</td>\n",
       "      <td>54.304747</td>\n",
       "      <td>142.426610</td>\n",
       "    </tr>\n",
       "    <tr>\n",
       "      <th>1</th>\n",
       "      <td>AT-036427-02</td>\n",
       "      <td>4</td>\n",
       "      <td>2011</td>\n",
       "      <td>54.0</td>\n",
       "      <td>2.0</td>\n",
       "      <td>1</td>\n",
       "      <td>Self-employed</td>\n",
       "      <td>0.0</td>\n",
       "      <td>0</td>\n",
       "      <td>Austria</td>\n",
       "      <td>...</td>\n",
       "      <td>42.441860</td>\n",
       "      <td>37.500000</td>\n",
       "      <td>99.375000</td>\n",
       "      <td>2255.757532</td>\n",
       "      <td>99.866122</td>\n",
       "      <td>107.927235</td>\n",
       "      <td>125.510628</td>\n",
       "      <td>54.767774</td>\n",
       "      <td>54.304747</td>\n",
       "      <td>142.426610</td>\n",
       "    </tr>\n",
       "    <tr>\n",
       "      <th>2</th>\n",
       "      <td>AT-011070-01</td>\n",
       "      <td>4</td>\n",
       "      <td>2011</td>\n",
       "      <td>59.0</td>\n",
       "      <td>2.0</td>\n",
       "      <td>1</td>\n",
       "      <td>Civil servant</td>\n",
       "      <td>2.0</td>\n",
       "      <td>0</td>\n",
       "      <td>Austria</td>\n",
       "      <td>...</td>\n",
       "      <td>60.465116</td>\n",
       "      <td>29.687500</td>\n",
       "      <td>82.291667</td>\n",
       "      <td>2018.544145</td>\n",
       "      <td>80.457574</td>\n",
       "      <td>79.867051</td>\n",
       "      <td>97.823588</td>\n",
       "      <td>64.575931</td>\n",
       "      <td>31.119540</td>\n",
       "      <td>86.453532</td>\n",
       "    </tr>\n",
       "    <tr>\n",
       "      <th>3</th>\n",
       "      <td>AT-326780-02</td>\n",
       "      <td>4</td>\n",
       "      <td>2011</td>\n",
       "      <td>57.0</td>\n",
       "      <td>2.0</td>\n",
       "      <td>1</td>\n",
       "      <td>Civil servant</td>\n",
       "      <td>5.0</td>\n",
       "      <td>1</td>\n",
       "      <td>Austria</td>\n",
       "      <td>...</td>\n",
       "      <td>60.465116</td>\n",
       "      <td>29.687500</td>\n",
       "      <td>82.291667</td>\n",
       "      <td>2018.544145</td>\n",
       "      <td>80.457574</td>\n",
       "      <td>79.867051</td>\n",
       "      <td>97.823588</td>\n",
       "      <td>64.575931</td>\n",
       "      <td>31.119540</td>\n",
       "      <td>86.453532</td>\n",
       "    </tr>\n",
       "    <tr>\n",
       "      <th>4</th>\n",
       "      <td>AT-413796-01</td>\n",
       "      <td>4</td>\n",
       "      <td>2011</td>\n",
       "      <td>55.0</td>\n",
       "      <td>1.0</td>\n",
       "      <td>1</td>\n",
       "      <td>Civil servant</td>\n",
       "      <td>2.0</td>\n",
       "      <td>0</td>\n",
       "      <td>Austria</td>\n",
       "      <td>...</td>\n",
       "      <td>60.465116</td>\n",
       "      <td>29.687500</td>\n",
       "      <td>82.291667</td>\n",
       "      <td>2018.544145</td>\n",
       "      <td>80.457574</td>\n",
       "      <td>79.867051</td>\n",
       "      <td>97.823588</td>\n",
       "      <td>64.575931</td>\n",
       "      <td>31.119540</td>\n",
       "      <td>86.453532</td>\n",
       "    </tr>\n",
       "    <tr>\n",
       "      <th>...</th>\n",
       "      <td>...</td>\n",
       "      <td>...</td>\n",
       "      <td>...</td>\n",
       "      <td>...</td>\n",
       "      <td>...</td>\n",
       "      <td>...</td>\n",
       "      <td>...</td>\n",
       "      <td>...</td>\n",
       "      <td>...</td>\n",
       "      <td>...</td>\n",
       "      <td>...</td>\n",
       "      <td>...</td>\n",
       "      <td>...</td>\n",
       "      <td>...</td>\n",
       "      <td>...</td>\n",
       "      <td>...</td>\n",
       "      <td>...</td>\n",
       "      <td>...</td>\n",
       "      <td>...</td>\n",
       "      <td>...</td>\n",
       "      <td>...</td>\n",
       "    </tr>\n",
       "    <tr>\n",
       "      <th>20297</th>\n",
       "      <td>SI-945439-01</td>\n",
       "      <td>6</td>\n",
       "      <td>2015</td>\n",
       "      <td>60.0</td>\n",
       "      <td>0.0</td>\n",
       "      <td>1</td>\n",
       "      <td>Private sector employee</td>\n",
       "      <td>0.0</td>\n",
       "      <td>0</td>\n",
       "      <td>Slovenia</td>\n",
       "      <td>...</td>\n",
       "      <td>60.465116</td>\n",
       "      <td>12.500000</td>\n",
       "      <td>96.875000</td>\n",
       "      <td>870.142627</td>\n",
       "      <td>52.528371</td>\n",
       "      <td>68.939004</td>\n",
       "      <td>63.859428</td>\n",
       "      <td>41.073687</td>\n",
       "      <td>8.594993</td>\n",
       "      <td>67.130822</td>\n",
       "    </tr>\n",
       "    <tr>\n",
       "      <th>20298</th>\n",
       "      <td>SI-945439-01</td>\n",
       "      <td>6</td>\n",
       "      <td>2015</td>\n",
       "      <td>60.0</td>\n",
       "      <td>0.0</td>\n",
       "      <td>1</td>\n",
       "      <td>Private sector employee</td>\n",
       "      <td>0.0</td>\n",
       "      <td>0</td>\n",
       "      <td>Slovenia</td>\n",
       "      <td>...</td>\n",
       "      <td>51.162791</td>\n",
       "      <td>50.000000</td>\n",
       "      <td>56.750000</td>\n",
       "      <td>3266.650022</td>\n",
       "      <td>117.966099</td>\n",
       "      <td>148.941248</td>\n",
       "      <td>149.266272</td>\n",
       "      <td>104.263986</td>\n",
       "      <td>69.717175</td>\n",
       "      <td>103.583647</td>\n",
       "    </tr>\n",
       "    <tr>\n",
       "      <th>20299</th>\n",
       "      <td>SI-966058-01</td>\n",
       "      <td>6</td>\n",
       "      <td>2015</td>\n",
       "      <td>57.0</td>\n",
       "      <td>2.0</td>\n",
       "      <td>0</td>\n",
       "      <td>Public sector employee</td>\n",
       "      <td>4.0</td>\n",
       "      <td>1</td>\n",
       "      <td>Slovenia</td>\n",
       "      <td>...</td>\n",
       "      <td>53.488372</td>\n",
       "      <td>41.666667</td>\n",
       "      <td>76.708333</td>\n",
       "      <td>662.646287</td>\n",
       "      <td>36.340236</td>\n",
       "      <td>60.451077</td>\n",
       "      <td>48.139088</td>\n",
       "      <td>21.415786</td>\n",
       "      <td>32.360754</td>\n",
       "      <td>53.498362</td>\n",
       "    </tr>\n",
       "    <tr>\n",
       "      <th>20300</th>\n",
       "      <td>SI-966058-01</td>\n",
       "      <td>6</td>\n",
       "      <td>2015</td>\n",
       "      <td>57.0</td>\n",
       "      <td>2.0</td>\n",
       "      <td>0</td>\n",
       "      <td>Public sector employee</td>\n",
       "      <td>4.0</td>\n",
       "      <td>1</td>\n",
       "      <td>Slovenia</td>\n",
       "      <td>...</td>\n",
       "      <td>63.565891</td>\n",
       "      <td>42.857143</td>\n",
       "      <td>89.389706</td>\n",
       "      <td>659.185057</td>\n",
       "      <td>43.628426</td>\n",
       "      <td>68.433711</td>\n",
       "      <td>61.778573</td>\n",
       "      <td>39.993333</td>\n",
       "      <td>35.662705</td>\n",
       "      <td>63.517250</td>\n",
       "    </tr>\n",
       "    <tr>\n",
       "      <th>20301</th>\n",
       "      <td>SI-974683-01</td>\n",
       "      <td>6</td>\n",
       "      <td>2015</td>\n",
       "      <td>57.0</td>\n",
       "      <td>2.0</td>\n",
       "      <td>1</td>\n",
       "      <td>Public sector employee</td>\n",
       "      <td>1.0</td>\n",
       "      <td>0</td>\n",
       "      <td>Slovenia</td>\n",
       "      <td>...</td>\n",
       "      <td>41.860465</td>\n",
       "      <td>58.653846</td>\n",
       "      <td>91.523438</td>\n",
       "      <td>383.575878</td>\n",
       "      <td>18.783260</td>\n",
       "      <td>35.997276</td>\n",
       "      <td>36.763208</td>\n",
       "      <td>25.365239</td>\n",
       "      <td>29.883727</td>\n",
       "      <td>42.851541</td>\n",
       "    </tr>\n",
       "  </tbody>\n",
       "</table>\n",
       "<p>20302 rows × 35 columns</p>\n",
       "</div>"
      ],
      "text/plain": [
       "            mergeid  wave  year   age  nb_children  partnerinhh  \\\n",
       "0      AT-009376-01     4  2011  53.0          2.0            1   \n",
       "1      AT-036427-02     4  2011  54.0          2.0            1   \n",
       "2      AT-011070-01     4  2011  59.0          2.0            1   \n",
       "3      AT-326780-02     4  2011  57.0          2.0            1   \n",
       "4      AT-413796-01     4  2011  55.0          1.0            1   \n",
       "...             ...   ...   ...   ...          ...          ...   \n",
       "20297  SI-945439-01     6  2015  60.0          0.0            1   \n",
       "20298  SI-945439-01     6  2015  60.0          0.0            1   \n",
       "20299  SI-966058-01     6  2015  57.0          2.0            0   \n",
       "20300  SI-966058-01     6  2015  57.0          2.0            0   \n",
       "20301  SI-974683-01     6  2015  57.0          2.0            1   \n",
       "\n",
       "                    job_status  eurod  eurodcat   country  ...  jqi_intensity  \\\n",
       "0                Civil servant    0.0         0   Austria  ...      42.441860   \n",
       "1                Self-employed    0.0         0   Austria  ...      42.441860   \n",
       "2                Civil servant    2.0         0   Austria  ...      60.465116   \n",
       "3                Civil servant    5.0         1   Austria  ...      60.465116   \n",
       "4                Civil servant    2.0         0   Austria  ...      60.465116   \n",
       "...                        ...    ...       ...       ...  ...            ...   \n",
       "20297  Private sector employee    0.0         0  Slovenia  ...      60.465116   \n",
       "20298  Private sector employee    0.0         0  Slovenia  ...      51.162791   \n",
       "20299   Public sector employee    4.0         1  Slovenia  ...      53.488372   \n",
       "20300   Public sector employee    4.0         1  Slovenia  ...      63.565891   \n",
       "20301   Public sector employee    1.0         0  Slovenia  ...      41.860465   \n",
       "\n",
       "       jqi_prospects  jqi_working_time_quality  jqi_monthly_earnings_weighted  \\\n",
       "0          37.500000                 99.375000                    2255.757532   \n",
       "1          37.500000                 99.375000                    2255.757532   \n",
       "2          29.687500                 82.291667                    2018.544145   \n",
       "3          29.687500                 82.291667                    2018.544145   \n",
       "4          29.687500                 82.291667                    2018.544145   \n",
       "...              ...                       ...                            ...   \n",
       "20297      12.500000                 96.875000                     870.142627   \n",
       "20298      50.000000                 56.750000                    3266.650022   \n",
       "20299      41.666667                 76.708333                     662.646287   \n",
       "20300      42.857143                 89.389706                     659.185057   \n",
       "20301      58.653846                 91.523438                     383.575878   \n",
       "\n",
       "       jqi_skills_discretion_weighted  jqi_social_environment_weighted  \\\n",
       "0                           99.866122                       107.927235   \n",
       "1                           99.866122                       107.927235   \n",
       "2                           80.457574                        79.867051   \n",
       "3                           80.457574                        79.867051   \n",
       "4                           80.457574                        79.867051   \n",
       "...                               ...                              ...   \n",
       "20297                       52.528371                        68.939004   \n",
       "20298                      117.966099                       148.941248   \n",
       "20299                       36.340236                        60.451077   \n",
       "20300                       43.628426                        68.433711   \n",
       "20301                       18.783260                        35.997276   \n",
       "\n",
       "       jqi_physical_environment_weighted  jqi_intensity_weighted  \\\n",
       "0                             125.510628               54.767774   \n",
       "1                             125.510628               54.767774   \n",
       "2                              97.823588               64.575931   \n",
       "3                              97.823588               64.575931   \n",
       "4                              97.823588               64.575931   \n",
       "...                                  ...                     ...   \n",
       "20297                          63.859428               41.073687   \n",
       "20298                         149.266272              104.263986   \n",
       "20299                          48.139088               21.415786   \n",
       "20300                          61.778573               39.993333   \n",
       "20301                          36.763208               25.365239   \n",
       "\n",
       "       jqi_prospects_weighted  jqi_working_time_quality_weighted  \n",
       "0                   54.304747                         142.426610  \n",
       "1                   54.304747                         142.426610  \n",
       "2                   31.119540                          86.453532  \n",
       "3                   31.119540                          86.453532  \n",
       "4                   31.119540                          86.453532  \n",
       "...                       ...                                ...  \n",
       "20297                8.594993                          67.130822  \n",
       "20298               69.717175                         103.583647  \n",
       "20299               32.360754                          53.498362  \n",
       "20300               35.662705                          63.517250  \n",
       "20301               29.883727                          42.851541  \n",
       "\n",
       "[20302 rows x 35 columns]"
      ]
     },
     "execution_count": 5,
     "metadata": {},
     "output_type": "execute_result"
    }
   ],
   "source": [
    "df"
   ]
  },
  {
   "cell_type": "code",
   "execution_count": 6,
   "metadata": {},
   "outputs": [
    {
     "data": {
      "text/plain": [
       "5837"
      ]
     },
     "execution_count": 6,
     "metadata": {},
     "output_type": "execute_result"
    }
   ],
   "source": [
    "df.mergeid.nunique()"
   ]
  },
  {
   "cell_type": "code",
   "execution_count": 7,
   "metadata": {},
   "outputs": [
    {
     "data": {
      "text/plain": [
       "country\n",
       "Austria           322\n",
       "Belgium           816\n",
       "Czech Republic    414\n",
       "Denmark           472\n",
       "Estonia           710\n",
       "France            417\n",
       "Germany           739\n",
       "Italy             542\n",
       "Slovenia          364\n",
       "Spain             712\n",
       "Switzerland       329\n",
       "Name: mergeid, dtype: int64"
      ]
     },
     "execution_count": 7,
     "metadata": {},
     "output_type": "execute_result"
    }
   ],
   "source": [
    "df.groupby(\"country\").mergeid.nunique()"
   ]
  },
  {
   "cell_type": "code",
   "execution_count": 8,
   "metadata": {},
   "outputs": [
    {
     "data": {
      "text/plain": [
       "year\n",
       "2011    2778\n",
       "2013    3381\n",
       "2015    3882\n",
       "Name: mergeid, dtype: int64"
      ]
     },
     "execution_count": 8,
     "metadata": {},
     "output_type": "execute_result"
    }
   ],
   "source": [
    "df.groupby(\"year\").mergeid.nunique()"
   ]
  },
  {
   "cell_type": "code",
   "execution_count": 9,
   "metadata": {},
   "outputs": [],
   "source": [
    "df.to_csv(\n",
    "    \"/Users/alexandralugova/Documents/GitHub/MH-old-workers/data/datasets/results/3digits_w456_year_country.csv\",\n",
    "    index=False,\n",
    ")"
   ]
  },
  {
   "cell_type": "markdown",
   "metadata": {},
   "source": [
    "### Some descriptive stats"
   ]
  },
  {
   "cell_type": "code",
   "execution_count": 10,
   "metadata": {},
   "outputs": [
    {
     "data": {
      "text/html": [
       "<div>\n",
       "<style scoped>\n",
       "    .dataframe tbody tr th:only-of-type {\n",
       "        vertical-align: middle;\n",
       "    }\n",
       "\n",
       "    .dataframe tbody tr th {\n",
       "        vertical-align: top;\n",
       "    }\n",
       "\n",
       "    .dataframe thead th {\n",
       "        text-align: right;\n",
       "    }\n",
       "</style>\n",
       "<table border=\"1\" class=\"dataframe\">\n",
       "  <thead>\n",
       "    <tr style=\"text-align: right;\">\n",
       "      <th></th>\n",
       "      <th>age</th>\n",
       "      <th>gender</th>\n",
       "      <th>nb_children</th>\n",
       "      <th>yrseducation</th>\n",
       "    </tr>\n",
       "  </thead>\n",
       "  <tbody>\n",
       "    <tr>\n",
       "      <th>count</th>\n",
       "      <td>20302.00</td>\n",
       "      <td>20302.00</td>\n",
       "      <td>20302.00</td>\n",
       "      <td>20302.00</td>\n",
       "    </tr>\n",
       "    <tr>\n",
       "      <th>mean</th>\n",
       "      <td>56.41</td>\n",
       "      <td>0.53</td>\n",
       "      <td>1.78</td>\n",
       "      <td>13.02</td>\n",
       "    </tr>\n",
       "    <tr>\n",
       "      <th>std</th>\n",
       "      <td>3.16</td>\n",
       "      <td>0.50</td>\n",
       "      <td>1.26</td>\n",
       "      <td>4.26</td>\n",
       "    </tr>\n",
       "    <tr>\n",
       "      <th>min</th>\n",
       "      <td>50.00</td>\n",
       "      <td>0.00</td>\n",
       "      <td>0.00</td>\n",
       "      <td>0.00</td>\n",
       "    </tr>\n",
       "    <tr>\n",
       "      <th>25%</th>\n",
       "      <td>54.00</td>\n",
       "      <td>0.00</td>\n",
       "      <td>1.00</td>\n",
       "      <td>11.00</td>\n",
       "    </tr>\n",
       "    <tr>\n",
       "      <th>50%</th>\n",
       "      <td>56.00</td>\n",
       "      <td>1.00</td>\n",
       "      <td>2.00</td>\n",
       "      <td>13.00</td>\n",
       "    </tr>\n",
       "    <tr>\n",
       "      <th>75%</th>\n",
       "      <td>59.00</td>\n",
       "      <td>1.00</td>\n",
       "      <td>2.00</td>\n",
       "      <td>16.00</td>\n",
       "    </tr>\n",
       "    <tr>\n",
       "      <th>max</th>\n",
       "      <td>65.00</td>\n",
       "      <td>1.00</td>\n",
       "      <td>10.00</td>\n",
       "      <td>39.00</td>\n",
       "    </tr>\n",
       "  </tbody>\n",
       "</table>\n",
       "</div>"
      ],
      "text/plain": [
       "            age    gender  nb_children  yrseducation\n",
       "count  20302.00  20302.00     20302.00      20302.00\n",
       "mean      56.41      0.53         1.78         13.02\n",
       "std        3.16      0.50         1.26          4.26\n",
       "min       50.00      0.00         0.00          0.00\n",
       "25%       54.00      0.00         1.00         11.00\n",
       "50%       56.00      1.00         2.00         13.00\n",
       "75%       59.00      1.00         2.00         16.00\n",
       "max       65.00      1.00        10.00         39.00"
      ]
     },
     "execution_count": 10,
     "metadata": {},
     "output_type": "execute_result"
    }
   ],
   "source": [
    "round(df[[\"age\", \"gender\", \"nb_children\", \"yrseducation\"]].describe(), 2)"
   ]
  },
  {
   "cell_type": "code",
   "execution_count": 11,
   "metadata": {},
   "outputs": [
    {
     "data": {
      "image/png": "[encoded data removed]",
      "text/plain": [
       "<Figure size 700x500 with 4 Axes>"
      ]
     },
     "metadata": {},
     "output_type": "display_data"
    }
   ],
   "source": [
    "fig, axs = plt.subplots(2, 2, figsize=(7, 5))\n",
    "\n",
    "axs[0, 0].hist(df[\"age\"], bins=30, color=\"skyblue\", alpha=0.7)\n",
    "axs[0, 0].set_title(\"Age\")\n",
    "\n",
    "axs[0, 1].hist(df[\"gender\"], bins=30, color=\"salmon\", alpha=0.7)\n",
    "axs[0, 1].set_title(\"Gender\")\n",
    "\n",
    "axs[1, 0].hist(df[\"nb_children\"], bins=30, color=\"lightgreen\", alpha=0.7)\n",
    "axs[1, 0].set_title(\"Number of children\")\n",
    "\n",
    "axs[1, 1].hist(df[\"yrseducation\"], bins=30, color=\"gold\", alpha=0.7)\n",
    "axs[1, 1].set_title(\"Years of education\")\n",
    "\n",
    "plt.tight_layout()\n",
    "\n",
    "plt.show()"
   ]
  },
  {
   "cell_type": "code",
   "execution_count": 12,
   "metadata": {},
   "outputs": [
    {
     "data": {
      "text/plain": [
       "job_status\n",
       "Private sector employee    0.38\n",
       "Public sector employee     0.23\n",
       "Employee                   0.21\n",
       "Self-employed              0.13\n",
       "Civil servant              0.05\n",
       "Name: proportion, dtype: float64"
      ]
     },
     "execution_count": 12,
     "metadata": {},
     "output_type": "execute_result"
    }
   ],
   "source": [
    "round(df[\"job_status\"].value_counts(normalize=True), 2)"
   ]
  },
  {
   "cell_type": "code",
   "execution_count": 13,
   "metadata": {},
   "outputs": [
    {
     "data": {
      "text/html": [
       "<div>\n",
       "<style scoped>\n",
       "    .dataframe tbody tr th:only-of-type {\n",
       "        vertical-align: middle;\n",
       "    }\n",
       "\n",
       "    .dataframe tbody tr th {\n",
       "        vertical-align: top;\n",
       "    }\n",
       "\n",
       "    .dataframe thead th {\n",
       "        text-align: right;\n",
       "    }\n",
       "</style>\n",
       "<table border=\"1\" class=\"dataframe\">\n",
       "  <thead>\n",
       "    <tr style=\"text-align: right;\">\n",
       "      <th></th>\n",
       "      <th>yrscontribution</th>\n",
       "      <th>retirement_age</th>\n",
       "      <th>work_horizon</th>\n",
       "      <th>work_horizon_change</th>\n",
       "    </tr>\n",
       "  </thead>\n",
       "  <tbody>\n",
       "    <tr>\n",
       "      <th>count</th>\n",
       "      <td>20302.00</td>\n",
       "      <td>20302.00</td>\n",
       "      <td>20302.00</td>\n",
       "      <td>20302.00</td>\n",
       "    </tr>\n",
       "    <tr>\n",
       "      <th>mean</th>\n",
       "      <td>35.99</td>\n",
       "      <td>63.43</td>\n",
       "      <td>7.01</td>\n",
       "      <td>0.20</td>\n",
       "    </tr>\n",
       "    <tr>\n",
       "      <th>std</th>\n",
       "      <td>6.03</td>\n",
       "      <td>2.15</td>\n",
       "      <td>3.42</td>\n",
       "      <td>0.54</td>\n",
       "    </tr>\n",
       "    <tr>\n",
       "      <th>min</th>\n",
       "      <td>6.00</td>\n",
       "      <td>57.00</td>\n",
       "      <td>0.08</td>\n",
       "      <td>0.00</td>\n",
       "    </tr>\n",
       "    <tr>\n",
       "      <th>25%</th>\n",
       "      <td>33.00</td>\n",
       "      <td>62.00</td>\n",
       "      <td>4.08</td>\n",
       "      <td>0.00</td>\n",
       "    </tr>\n",
       "    <tr>\n",
       "      <th>50%</th>\n",
       "      <td>37.00</td>\n",
       "      <td>65.00</td>\n",
       "      <td>7.00</td>\n",
       "      <td>0.00</td>\n",
       "    </tr>\n",
       "    <tr>\n",
       "      <th>75%</th>\n",
       "      <td>40.00</td>\n",
       "      <td>65.00</td>\n",
       "      <td>10.00</td>\n",
       "      <td>0.08</td>\n",
       "    </tr>\n",
       "    <tr>\n",
       "      <th>max</th>\n",
       "      <td>55.00</td>\n",
       "      <td>68.00</td>\n",
       "      <td>17.00</td>\n",
       "      <td>4.00</td>\n",
       "    </tr>\n",
       "  </tbody>\n",
       "</table>\n",
       "</div>"
      ],
      "text/plain": [
       "       yrscontribution  retirement_age  work_horizon  work_horizon_change\n",
       "count         20302.00        20302.00      20302.00             20302.00\n",
       "mean             35.99           63.43          7.01                 0.20\n",
       "std               6.03            2.15          3.42                 0.54\n",
       "min               6.00           57.00          0.08                 0.00\n",
       "25%              33.00           62.00          4.08                 0.00\n",
       "50%              37.00           65.00          7.00                 0.00\n",
       "75%              40.00           65.00         10.00                 0.08\n",
       "max              55.00           68.00         17.00                 4.00"
      ]
     },
     "execution_count": 13,
     "metadata": {},
     "output_type": "execute_result"
    }
   ],
   "source": [
    "round(\n",
    "    df[\n",
    "        [\"yrscontribution\", \"retirement_age\", \"work_horizon\", \"work_horizon_change\"]\n",
    "    ].describe(),\n",
    "    2,\n",
    ")"
   ]
  },
  {
   "cell_type": "code",
   "execution_count": 14,
   "metadata": {},
   "outputs": [
    {
     "data": {
      "image/png": "[encoded data removed]",
      "text/plain": [
       "<Figure size 700x500 with 4 Axes>"
      ]
     },
     "metadata": {},
     "output_type": "display_data"
    }
   ],
   "source": [
    "fig, axs = plt.subplots(2, 2, figsize=(7, 5))\n",
    "\n",
    "axs[0, 0].hist(df[\"yrscontribution\"], bins=30, color=\"skyblue\", alpha=0.7)\n",
    "axs[0, 0].set_title(\"Years of contribution\")\n",
    "\n",
    "axs[0, 1].hist(df[\"retirement_age\"], bins=30, color=\"salmon\", alpha=0.7)\n",
    "axs[0, 1].set_title(\"Retirement age\")\n",
    "\n",
    "axs[1, 0].hist(df[\"work_horizon\"], bins=30, color=\"lightgreen\", alpha=0.7)\n",
    "axs[1, 0].set_title(\"Work horizon, years\")\n",
    "\n",
    "axs[1, 1].hist(df[\"work_horizon_change\"], bins=30, color=\"gold\", alpha=0.7)\n",
    "axs[1, 1].set_title(\"Work horizon change by reform\")\n",
    "\n",
    "plt.tight_layout()\n",
    "\n",
    "plt.show()"
   ]
  },
  {
   "cell_type": "code",
   "execution_count": 15,
   "metadata": {},
   "outputs": [
    {
     "data": {
      "text/plain": [
       "eurodcat\n",
       "0    0.81\n",
       "1    0.19\n",
       "Name: proportion, dtype: float64"
      ]
     },
     "execution_count": 15,
     "metadata": {},
     "output_type": "execute_result"
    }
   ],
   "source": [
    "round(df[\"eurodcat\"].value_counts(normalize=True), 2)"
   ]
  },
  {
   "cell_type": "code",
   "execution_count": 16,
   "metadata": {},
   "outputs": [
    {
     "data": {
      "text/plain": [
       "eurod\n",
       "0.0     5293\n",
       "1.0     4968\n",
       "2.0     3646\n",
       "3.0     2542\n",
       "4.0     1693\n",
       "5.0      997\n",
       "6.0      573\n",
       "7.0      340\n",
       "8.0      131\n",
       "9.0       78\n",
       "10.0      33\n",
       "11.0       8\n",
       "Name: count, dtype: int64"
      ]
     },
     "execution_count": 16,
     "metadata": {},
     "output_type": "execute_result"
    }
   ],
   "source": [
    "df[\"eurod\"].value_counts()"
   ]
  },
  {
   "cell_type": "code",
   "execution_count": 17,
   "metadata": {},
   "outputs": [
    {
     "data": {
      "image/png": "[encoded data removed]",
      "text/plain": [
       "<Figure size 600x400 with 1 Axes>"
      ]
     },
     "metadata": {},
     "output_type": "display_data"
    }
   ],
   "source": [
    "plt.figure(figsize=(6, 4))\n",
    "plt.hist(df[\"eurod\"], bins=13, color=\"skyblue\", alpha=0.7)\n",
    "plt.title(\"EuroD scale score\")\n",
    "plt.xlabel(\"Values\")\n",
    "plt.ylabel(\"Frequency\")\n",
    "plt.grid(True)\n",
    "plt.show()"
   ]
  },
  {
   "cell_type": "code",
   "execution_count": 18,
   "metadata": {},
   "outputs": [
    {
     "data": {
      "text/html": [
       "<div>\n",
       "<style scoped>\n",
       "    .dataframe tbody tr th:only-of-type {\n",
       "        vertical-align: middle;\n",
       "    }\n",
       "\n",
       "    .dataframe tbody tr th {\n",
       "        vertical-align: top;\n",
       "    }\n",
       "\n",
       "    .dataframe thead th {\n",
       "        text-align: right;\n",
       "    }\n",
       "</style>\n",
       "<table border=\"1\" class=\"dataframe\">\n",
       "  <thead>\n",
       "    <tr style=\"text-align: right;\">\n",
       "      <th></th>\n",
       "      <th>jqi_monthly_earnings</th>\n",
       "      <th>jqi_skills_discretion</th>\n",
       "      <th>jqi_social_environment</th>\n",
       "      <th>jqi_physical_environment</th>\n",
       "      <th>jqi_intensity</th>\n",
       "      <th>jqi_prospects</th>\n",
       "      <th>jqi_working_time_quality</th>\n",
       "    </tr>\n",
       "  </thead>\n",
       "  <tbody>\n",
       "    <tr>\n",
       "      <th>count</th>\n",
       "      <td>20302.00</td>\n",
       "      <td>20302.00</td>\n",
       "      <td>20302.00</td>\n",
       "      <td>20302.00</td>\n",
       "      <td>20302.00</td>\n",
       "      <td>20302.00</td>\n",
       "      <td>20302.00</td>\n",
       "    </tr>\n",
       "    <tr>\n",
       "      <th>mean</th>\n",
       "      <td>1567.45</td>\n",
       "      <td>59.80</td>\n",
       "      <td>80.35</td>\n",
       "      <td>84.44</td>\n",
       "      <td>49.56</td>\n",
       "      <td>40.54</td>\n",
       "      <td>87.21</td>\n",
       "    </tr>\n",
       "    <tr>\n",
       "      <th>std</th>\n",
       "      <td>707.54</td>\n",
       "      <td>15.11</td>\n",
       "      <td>8.46</td>\n",
       "      <td>10.24</td>\n",
       "      <td>9.06</td>\n",
       "      <td>14.57</td>\n",
       "      <td>11.91</td>\n",
       "    </tr>\n",
       "    <tr>\n",
       "      <th>min</th>\n",
       "      <td>39.50</td>\n",
       "      <td>2.33</td>\n",
       "      <td>37.50</td>\n",
       "      <td>25.64</td>\n",
       "      <td>11.63</td>\n",
       "      <td>0.00</td>\n",
       "      <td>7.25</td>\n",
       "    </tr>\n",
       "    <tr>\n",
       "      <th>25%</th>\n",
       "      <td>1096.89</td>\n",
       "      <td>48.23</td>\n",
       "      <td>75.00</td>\n",
       "      <td>78.97</td>\n",
       "      <td>44.19</td>\n",
       "      <td>31.25</td>\n",
       "      <td>81.43</td>\n",
       "    </tr>\n",
       "    <tr>\n",
       "      <th>50%</th>\n",
       "      <td>1459.73</td>\n",
       "      <td>60.22</td>\n",
       "      <td>80.68</td>\n",
       "      <td>87.44</td>\n",
       "      <td>49.61</td>\n",
       "      <td>39.84</td>\n",
       "      <td>90.46</td>\n",
       "    </tr>\n",
       "    <tr>\n",
       "      <th>75%</th>\n",
       "      <td>1877.15</td>\n",
       "      <td>72.13</td>\n",
       "      <td>86.15</td>\n",
       "      <td>91.95</td>\n",
       "      <td>55.04</td>\n",
       "      <td>50.00</td>\n",
       "      <td>96.35</td>\n",
       "    </tr>\n",
       "    <tr>\n",
       "      <th>max</th>\n",
       "      <td>12267.43</td>\n",
       "      <td>97.47</td>\n",
       "      <td>100.00</td>\n",
       "      <td>100.00</td>\n",
       "      <td>83.72</td>\n",
       "      <td>100.00</td>\n",
       "      <td>100.00</td>\n",
       "    </tr>\n",
       "  </tbody>\n",
       "</table>\n",
       "</div>"
      ],
      "text/plain": [
       "       jqi_monthly_earnings  jqi_skills_discretion  jqi_social_environment  \\\n",
       "count              20302.00               20302.00                20302.00   \n",
       "mean                1567.45                  59.80                   80.35   \n",
       "std                  707.54                  15.11                    8.46   \n",
       "min                   39.50                   2.33                   37.50   \n",
       "25%                 1096.89                  48.23                   75.00   \n",
       "50%                 1459.73                  60.22                   80.68   \n",
       "75%                 1877.15                  72.13                   86.15   \n",
       "max                12267.43                  97.47                  100.00   \n",
       "\n",
       "       jqi_physical_environment  jqi_intensity  jqi_prospects  \\\n",
       "count                  20302.00       20302.00       20302.00   \n",
       "mean                      84.44          49.56          40.54   \n",
       "std                       10.24           9.06          14.57   \n",
       "min                       25.64          11.63           0.00   \n",
       "25%                       78.97          44.19          31.25   \n",
       "50%                       87.44          49.61          39.84   \n",
       "75%                       91.95          55.04          50.00   \n",
       "max                      100.00          83.72         100.00   \n",
       "\n",
       "       jqi_working_time_quality  \n",
       "count                  20302.00  \n",
       "mean                      87.21  \n",
       "std                       11.91  \n",
       "min                        7.25  \n",
       "25%                       81.43  \n",
       "50%                       90.46  \n",
       "75%                       96.35  \n",
       "max                      100.00  "
      ]
     },
     "execution_count": 18,
     "metadata": {},
     "output_type": "execute_result"
    }
   ],
   "source": [
    "round(\n",
    "    df[\n",
    "        [\n",
    "            \"jqi_monthly_earnings\",\n",
    "            \"jqi_skills_discretion\",\n",
    "            \"jqi_social_environment\",\n",
    "            \"jqi_physical_environment\",\n",
    "            \"jqi_intensity\",\n",
    "            \"jqi_prospects\",\n",
    "            \"jqi_working_time_quality\",\n",
    "        ]\n",
    "    ].describe(),\n",
    "    2,\n",
    ")"
   ]
  },
  {
   "cell_type": "markdown",
   "metadata": {},
   "source": [
    "### Waves 4,5,6 common individuals"
   ]
  },
  {
   "cell_type": "code",
   "execution_count": 19,
   "metadata": {},
   "outputs": [
    {
     "data": {
      "text/plain": [
       "5837"
      ]
     },
     "execution_count": 19,
     "metadata": {},
     "output_type": "execute_result"
    }
   ],
   "source": [
    "df.mergeid.nunique()"
   ]
  },
  {
   "cell_type": "code",
   "execution_count": 20,
   "metadata": {},
   "outputs": [
    {
     "data": {
      "text/plain": [
       "1108"
      ]
     },
     "execution_count": 20,
     "metadata": {},
     "output_type": "execute_result"
    }
   ],
   "source": [
    "unique_mergeid_w4 = set(df[df.wave == 4][\"mergeid\"].unique())\n",
    "unique_mergeid_w5 = set(df[df.wave == 5][\"mergeid\"].unique())\n",
    "unique_mergeid_w6 = set(df[df.wave == 6][\"mergeid\"].unique())\n",
    "intersection_ids = unique_mergeid_w4.intersection(unique_mergeid_w5).intersection(\n",
    "    unique_mergeid_w6\n",
    ")\n",
    "len(intersection_ids)"
   ]
  },
  {
   "cell_type": "code",
   "execution_count": 21,
   "metadata": {},
   "outputs": [],
   "source": [
    "w456_common = df[df[\"mergeid\"].isin(intersection_ids)].reset_index(drop=True)"
   ]
  },
  {
   "cell_type": "markdown",
   "metadata": {},
   "source": [
    "isco = w456_common[\"isco\"].value_counts().to_frame().reset_index()\n",
    "isco = isco[isco[\"count\"] >= 10]\n",
    "w456_common = w456_common[w456_common[\"isco\"].isin(isco[\"isco\"].unique())].reset_index(\n",
    "    drop=True\n",
    ")"
   ]
  },
  {
   "cell_type": "code",
   "execution_count": 22,
   "metadata": {},
   "outputs": [
    {
     "data": {
      "text/plain": [
       "country\n",
       "Austria            86\n",
       "Belgium           226\n",
       "Czech Republic     78\n",
       "Denmark           122\n",
       "Estonia           188\n",
       "France            137\n",
       "Germany            22\n",
       "Italy              89\n",
       "Slovenia           68\n",
       "Spain              92\n",
       "Name: mergeid, dtype: int64"
      ]
     },
     "execution_count": 22,
     "metadata": {},
     "output_type": "execute_result"
    }
   ],
   "source": [
    "w456_common.groupby(\"country\").mergeid.nunique()"
   ]
  },
  {
   "cell_type": "code",
   "execution_count": 23,
   "metadata": {},
   "outputs": [],
   "source": [
    "# Delete Germany as too few individuals\n",
    "w456_common = w456_common[w456_common.country != \"Germany\"].reset_index(drop=True)"
   ]
  },
  {
   "cell_type": "code",
   "execution_count": 24,
   "metadata": {},
   "outputs": [],
   "source": [
    "w456_common.to_csv(\n",
    "    \"/Users/alexandralugova/Documents/GitHub/MH-old-workers/data/datasets/results/3digits_w456_year_country_common.csv\",\n",
    "    index=False,\n",
    ")"
   ]
  },
  {
   "cell_type": "markdown",
   "metadata": {},
   "source": [
    "### Waves 4 and 6"
   ]
  },
  {
   "cell_type": "code",
   "execution_count": 25,
   "metadata": {},
   "outputs": [],
   "source": [
    "result = (\n",
    "    df[df[\"year\"].isin([2013, 2015])]\n",
    "    .groupby(\"mergeid\")[\"work_horizon_change\"]\n",
    "    .sum()\n",
    "    .reset_index()\n",
    ")\n",
    "result[\"year\"] = 2015\n",
    "\n",
    "df = df.drop(columns=\"work_horizon_change\")\n",
    "df = df.merge(result, on=[\"mergeid\", \"year\"], how=\"left\")\n",
    "\n",
    "df[\"work_horizon_change\"] = df[\"work_horizon_change\"].fillna(0)"
   ]
  },
  {
   "cell_type": "code",
   "execution_count": 26,
   "metadata": {},
   "outputs": [],
   "source": [
    "w46 = df[(df.wave == 4) | (df.wave == 6)].reset_index(drop=True)"
   ]
  },
  {
   "cell_type": "code",
   "execution_count": 27,
   "metadata": {},
   "outputs": [
    {
     "data": {
      "text/plain": [
       "5274"
      ]
     },
     "execution_count": 27,
     "metadata": {},
     "output_type": "execute_result"
    }
   ],
   "source": [
    "w46.mergeid.nunique()"
   ]
  },
  {
   "cell_type": "code",
   "execution_count": 28,
   "metadata": {},
   "outputs": [
    {
     "data": {
      "text/plain": [
       "country\n",
       "Austria           313\n",
       "Belgium           735\n",
       "Czech Republic    376\n",
       "Denmark           430\n",
       "Estonia           685\n",
       "France            402\n",
       "Germany           590\n",
       "Italy             488\n",
       "Slovenia          340\n",
       "Spain             586\n",
       "Switzerland       329\n",
       "Name: mergeid, dtype: int64"
      ]
     },
     "execution_count": 28,
     "metadata": {},
     "output_type": "execute_result"
    }
   ],
   "source": [
    "w46.groupby(\"country\").mergeid.nunique()"
   ]
  },
  {
   "cell_type": "code",
   "execution_count": 29,
   "metadata": {},
   "outputs": [
    {
     "data": {
      "text/plain": [
       "wave\n",
       "4    2778\n",
       "6    3882\n",
       "Name: mergeid, dtype: int64"
      ]
     },
     "execution_count": 29,
     "metadata": {},
     "output_type": "execute_result"
    }
   ],
   "source": [
    "w46.groupby(\"wave\").mergeid.nunique()"
   ]
  },
  {
   "cell_type": "code",
   "execution_count": 30,
   "metadata": {},
   "outputs": [],
   "source": [
    "w46.to_csv(\n",
    "    \"/Users/alexandralugova/Documents/GitHub/MH-old-workers/data/datasets/results/3digits_w46_year_country.csv\",\n",
    "    index=False,\n",
    ")"
   ]
  },
  {
   "cell_type": "markdown",
   "metadata": {},
   "source": [
    "### Waves 4 and 6 common individuals"
   ]
  },
  {
   "cell_type": "code",
   "execution_count": 31,
   "metadata": {},
   "outputs": [
    {
     "data": {
      "text/plain": [
       "1386"
      ]
     },
     "execution_count": 31,
     "metadata": {},
     "output_type": "execute_result"
    }
   ],
   "source": [
    "unique_mergeid_w4 = set(w46[w46.wave == 4][\"mergeid\"].unique())\n",
    "unique_mergeid_w6 = set(w46[w46.wave == 6][\"mergeid\"].unique())\n",
    "intersection_ids = unique_mergeid_w4.intersection(unique_mergeid_w6)\n",
    "len(intersection_ids)"
   ]
  },
  {
   "cell_type": "code",
   "execution_count": 32,
   "metadata": {},
   "outputs": [],
   "source": [
    "w46_common = w46[w46[\"mergeid\"].isin(intersection_ids)].reset_index(drop=True)"
   ]
  },
  {
   "cell_type": "code",
   "execution_count": 33,
   "metadata": {},
   "outputs": [
    {
     "data": {
      "text/plain": [
       "country\n",
       "Austria           115\n",
       "Belgium           271\n",
       "Czech Republic    109\n",
       "Denmark           133\n",
       "Estonia           247\n",
       "France            165\n",
       "Germany            28\n",
       "Italy             119\n",
       "Slovenia           88\n",
       "Spain             111\n",
       "Name: mergeid, dtype: int64"
      ]
     },
     "execution_count": 33,
     "metadata": {},
     "output_type": "execute_result"
    }
   ],
   "source": [
    "w46_common.groupby(\"country\").mergeid.nunique()"
   ]
  },
  {
   "cell_type": "code",
   "execution_count": 34,
   "metadata": {},
   "outputs": [],
   "source": [
    "# Delete Germany as too few individuals\n",
    "w456_common = w456_common[w456_common.country != \"Germany\"].reset_index(drop=True)"
   ]
  },
  {
   "cell_type": "code",
   "execution_count": 35,
   "metadata": {},
   "outputs": [],
   "source": [
    "w46_common.to_csv(\n",
    "    \"/Users/alexandralugova/Documents/GitHub/MH-old-workers/data/datasets/results/3digits_w46_year_country_common.csv\",\n",
    "    index=False,\n",
    ")"
   ]
  }
 ],
 "metadata": {
  "kernelspec": {
   "display_name": "mhold",
   "language": "python",
   "name": "python3"
  },
  "language_info": {
   "codemirror_mode": {
    "name": "ipython",
    "version": 3
   },
   "file_extension": ".py",
   "mimetype": "text/x-python",
   "name": "python",
   "nbconvert_exporter": "python",
   "pygments_lexer": "ipython3",
   "version": "3.11.5"
  }
 },
 "nbformat": 4,
 "nbformat_minor": 2
}
