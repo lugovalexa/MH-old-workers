{
 "cells": [
  {
   "cell_type": "markdown",
   "metadata": {},
   "source": [
    "## 4 digits - Merging only year wise"
   ]
  },
  {
   "cell_type": "markdown",
   "metadata": {},
   "source": [
    "### Waves 4,5,6"
   ]
  },
  {
   "cell_type": "code",
   "execution_count": 1,
   "metadata": {},
   "outputs": [],
   "source": [
    "import matplotlib.pyplot as plt\n",
    "import pandas as pd"
   ]
  },
  {
   "cell_type": "code",
   "execution_count": 2,
   "metadata": {},
   "outputs": [],
   "source": [
    "df = pd.read_csv(\n",
    "    \"/Users/alexandralugova/Documents/GitHub/MH-old-workers/data/datasets/results/data_clean_w456.csv\"\n",
    ")\n",
    "indexes = pd.read_csv(\n",
    "    \"/Users/alexandralugova/Documents/GitHub/MH-old-workers/data/datasets/results/work_quality_indexes_year.csv\"\n",
    ")"
   ]
  },
  {
   "cell_type": "code",
   "execution_count": 3,
   "metadata": {},
   "outputs": [],
   "source": [
    "df = df.merge(indexes, on=[\"year\", \"isco\"], how=\"inner\")"
   ]
  },
  {
   "cell_type": "code",
   "execution_count": 4,
   "metadata": {},
   "outputs": [
    {
     "data": {
      "text/html": [
       "<div>\n",
       "<style scoped>\n",
       "    .dataframe tbody tr th:only-of-type {\n",
       "        vertical-align: middle;\n",
       "    }\n",
       "\n",
       "    .dataframe tbody tr th {\n",
       "        vertical-align: top;\n",
       "    }\n",
       "\n",
       "    .dataframe thead th {\n",
       "        text-align: right;\n",
       "    }\n",
       "</style>\n",
       "<table border=\"1\" class=\"dataframe\">\n",
       "  <thead>\n",
       "    <tr style=\"text-align: right;\">\n",
       "      <th></th>\n",
       "      <th>mergeid</th>\n",
       "      <th>wave</th>\n",
       "      <th>year</th>\n",
       "      <th>age</th>\n",
       "      <th>nb_children</th>\n",
       "      <th>partnerinhh</th>\n",
       "      <th>job_status</th>\n",
       "      <th>eurod</th>\n",
       "      <th>eurodcat</th>\n",
       "      <th>country</th>\n",
       "      <th>...</th>\n",
       "      <th>jqi_intensity</th>\n",
       "      <th>jqi_prospects</th>\n",
       "      <th>jqi_working_time_quality</th>\n",
       "      <th>jqi_monthly_earnings_weighted</th>\n",
       "      <th>jqi_skills_discretion_weighted</th>\n",
       "      <th>jqi_social_environment_weighted</th>\n",
       "      <th>jqi_physical_environment_weighted</th>\n",
       "      <th>jqi_intensity_weighted</th>\n",
       "      <th>jqi_prospects_weighted</th>\n",
       "      <th>jqi_working_time_quality_weighted</th>\n",
       "    </tr>\n",
       "  </thead>\n",
       "  <tbody>\n",
       "    <tr>\n",
       "      <th>0</th>\n",
       "      <td>AT-009262-01</td>\n",
       "      <td>4</td>\n",
       "      <td>2011</td>\n",
       "      <td>56.0</td>\n",
       "      <td>1.0</td>\n",
       "      <td>1</td>\n",
       "      <td>Self-employed</td>\n",
       "      <td>1.0</td>\n",
       "      <td>0</td>\n",
       "      <td>Austria</td>\n",
       "      <td>...</td>\n",
       "      <td>60.077519</td>\n",
       "      <td>53.703704</td>\n",
       "      <td>76.205645</td>\n",
       "      <td>413.279438</td>\n",
       "      <td>24.372010</td>\n",
       "      <td>37.764297</td>\n",
       "      <td>51.406949</td>\n",
       "      <td>40.900921</td>\n",
       "      <td>30.425927</td>\n",
       "      <td>42.481878</td>\n",
       "    </tr>\n",
       "    <tr>\n",
       "      <th>1</th>\n",
       "      <td>AT-329641-01</td>\n",
       "      <td>4</td>\n",
       "      <td>2011</td>\n",
       "      <td>55.0</td>\n",
       "      <td>2.0</td>\n",
       "      <td>0</td>\n",
       "      <td>Employee</td>\n",
       "      <td>0.0</td>\n",
       "      <td>0</td>\n",
       "      <td>Austria</td>\n",
       "      <td>...</td>\n",
       "      <td>60.077519</td>\n",
       "      <td>53.703704</td>\n",
       "      <td>76.205645</td>\n",
       "      <td>413.279438</td>\n",
       "      <td>24.372010</td>\n",
       "      <td>37.764297</td>\n",
       "      <td>51.406949</td>\n",
       "      <td>40.900921</td>\n",
       "      <td>30.425927</td>\n",
       "      <td>42.481878</td>\n",
       "    </tr>\n",
       "    <tr>\n",
       "      <th>2</th>\n",
       "      <td>Bf-339845-02</td>\n",
       "      <td>4</td>\n",
       "      <td>2011</td>\n",
       "      <td>50.0</td>\n",
       "      <td>2.0</td>\n",
       "      <td>1</td>\n",
       "      <td>Employee</td>\n",
       "      <td>1.0</td>\n",
       "      <td>0</td>\n",
       "      <td>Belgium</td>\n",
       "      <td>...</td>\n",
       "      <td>60.077519</td>\n",
       "      <td>53.703704</td>\n",
       "      <td>76.205645</td>\n",
       "      <td>413.279438</td>\n",
       "      <td>24.372010</td>\n",
       "      <td>37.764297</td>\n",
       "      <td>51.406949</td>\n",
       "      <td>40.900921</td>\n",
       "      <td>30.425927</td>\n",
       "      <td>42.481878</td>\n",
       "    </tr>\n",
       "    <tr>\n",
       "      <th>3</th>\n",
       "      <td>Cg-816797-01</td>\n",
       "      <td>4</td>\n",
       "      <td>2011</td>\n",
       "      <td>55.0</td>\n",
       "      <td>2.0</td>\n",
       "      <td>1</td>\n",
       "      <td>Employee</td>\n",
       "      <td>3.0</td>\n",
       "      <td>0</td>\n",
       "      <td>Switzerland</td>\n",
       "      <td>...</td>\n",
       "      <td>60.077519</td>\n",
       "      <td>53.703704</td>\n",
       "      <td>76.205645</td>\n",
       "      <td>413.279438</td>\n",
       "      <td>24.372010</td>\n",
       "      <td>37.764297</td>\n",
       "      <td>51.406949</td>\n",
       "      <td>40.900921</td>\n",
       "      <td>30.425927</td>\n",
       "      <td>42.481878</td>\n",
       "    </tr>\n",
       "    <tr>\n",
       "      <th>4</th>\n",
       "      <td>Cg-826059-01</td>\n",
       "      <td>4</td>\n",
       "      <td>2011</td>\n",
       "      <td>53.0</td>\n",
       "      <td>1.0</td>\n",
       "      <td>0</td>\n",
       "      <td>Employee</td>\n",
       "      <td>1.0</td>\n",
       "      <td>0</td>\n",
       "      <td>Switzerland</td>\n",
       "      <td>...</td>\n",
       "      <td>60.077519</td>\n",
       "      <td>53.703704</td>\n",
       "      <td>76.205645</td>\n",
       "      <td>413.279438</td>\n",
       "      <td>24.372010</td>\n",
       "      <td>37.764297</td>\n",
       "      <td>51.406949</td>\n",
       "      <td>40.900921</td>\n",
       "      <td>30.425927</td>\n",
       "      <td>42.481878</td>\n",
       "    </tr>\n",
       "    <tr>\n",
       "      <th>...</th>\n",
       "      <td>...</td>\n",
       "      <td>...</td>\n",
       "      <td>...</td>\n",
       "      <td>...</td>\n",
       "      <td>...</td>\n",
       "      <td>...</td>\n",
       "      <td>...</td>\n",
       "      <td>...</td>\n",
       "      <td>...</td>\n",
       "      <td>...</td>\n",
       "      <td>...</td>\n",
       "      <td>...</td>\n",
       "      <td>...</td>\n",
       "      <td>...</td>\n",
       "      <td>...</td>\n",
       "      <td>...</td>\n",
       "      <td>...</td>\n",
       "      <td>...</td>\n",
       "      <td>...</td>\n",
       "      <td>...</td>\n",
       "      <td>...</td>\n",
       "    </tr>\n",
       "    <tr>\n",
       "      <th>12700</th>\n",
       "      <td>IT-441831-01</td>\n",
       "      <td>6</td>\n",
       "      <td>2015</td>\n",
       "      <td>56.0</td>\n",
       "      <td>3.0</td>\n",
       "      <td>1</td>\n",
       "      <td>Private sector employee</td>\n",
       "      <td>0.0</td>\n",
       "      <td>0</td>\n",
       "      <td>Italy</td>\n",
       "      <td>...</td>\n",
       "      <td>44.186047</td>\n",
       "      <td>62.500000</td>\n",
       "      <td>80.468750</td>\n",
       "      <td>1129.806589</td>\n",
       "      <td>41.504018</td>\n",
       "      <td>95.223384</td>\n",
       "      <td>83.853885</td>\n",
       "      <td>23.652318</td>\n",
       "      <td>89.914258</td>\n",
       "      <td>86.058510</td>\n",
       "    </tr>\n",
       "    <tr>\n",
       "      <th>12701</th>\n",
       "      <td>IT-444601-01</td>\n",
       "      <td>6</td>\n",
       "      <td>2015</td>\n",
       "      <td>58.0</td>\n",
       "      <td>3.0</td>\n",
       "      <td>1</td>\n",
       "      <td>Private sector employee</td>\n",
       "      <td>5.0</td>\n",
       "      <td>1</td>\n",
       "      <td>Italy</td>\n",
       "      <td>...</td>\n",
       "      <td>32.558140</td>\n",
       "      <td>41.666667</td>\n",
       "      <td>80.925000</td>\n",
       "      <td>2383.498774</td>\n",
       "      <td>56.218396</td>\n",
       "      <td>71.424954</td>\n",
       "      <td>62.565819</td>\n",
       "      <td>27.048906</td>\n",
       "      <td>38.199062</td>\n",
       "      <td>65.543946</td>\n",
       "    </tr>\n",
       "    <tr>\n",
       "      <th>12702</th>\n",
       "      <td>IT-596184-03</td>\n",
       "      <td>6</td>\n",
       "      <td>2015</td>\n",
       "      <td>56.0</td>\n",
       "      <td>1.0</td>\n",
       "      <td>1</td>\n",
       "      <td>Private sector employee</td>\n",
       "      <td>3.0</td>\n",
       "      <td>0</td>\n",
       "      <td>Italy</td>\n",
       "      <td>...</td>\n",
       "      <td>41.860465</td>\n",
       "      <td>46.875000</td>\n",
       "      <td>89.916667</td>\n",
       "      <td>1111.669964</td>\n",
       "      <td>36.688529</td>\n",
       "      <td>89.571073</td>\n",
       "      <td>72.964777</td>\n",
       "      <td>45.205521</td>\n",
       "      <td>58.021125</td>\n",
       "      <td>91.010655</td>\n",
       "    </tr>\n",
       "    <tr>\n",
       "      <th>12703</th>\n",
       "      <td>IT-713545-04</td>\n",
       "      <td>6</td>\n",
       "      <td>2015</td>\n",
       "      <td>56.0</td>\n",
       "      <td>2.0</td>\n",
       "      <td>1</td>\n",
       "      <td>Public sector employee</td>\n",
       "      <td>4.0</td>\n",
       "      <td>1</td>\n",
       "      <td>Italy</td>\n",
       "      <td>...</td>\n",
       "      <td>51.162791</td>\n",
       "      <td>25.000000</td>\n",
       "      <td>70.750000</td>\n",
       "      <td>3656.267886</td>\n",
       "      <td>96.116830</td>\n",
       "      <td>154.425868</td>\n",
       "      <td>132.960457</td>\n",
       "      <td>91.483623</td>\n",
       "      <td>44.702225</td>\n",
       "      <td>126.507297</td>\n",
       "    </tr>\n",
       "    <tr>\n",
       "      <th>12704</th>\n",
       "      <td>SI-993306-01</td>\n",
       "      <td>6</td>\n",
       "      <td>2015</td>\n",
       "      <td>58.0</td>\n",
       "      <td>2.0</td>\n",
       "      <td>1</td>\n",
       "      <td>Private sector employee</td>\n",
       "      <td>0.0</td>\n",
       "      <td>0</td>\n",
       "      <td>Slovenia</td>\n",
       "      <td>...</td>\n",
       "      <td>40.310078</td>\n",
       "      <td>58.035714</td>\n",
       "      <td>84.966667</td>\n",
       "      <td>1558.440706</td>\n",
       "      <td>45.101523</td>\n",
       "      <td>83.100226</td>\n",
       "      <td>89.193943</td>\n",
       "      <td>53.219103</td>\n",
       "      <td>75.527096</td>\n",
       "      <td>101.604526</td>\n",
       "    </tr>\n",
       "  </tbody>\n",
       "</table>\n",
       "<p>12705 rows × 35 columns</p>\n",
       "</div>"
      ],
      "text/plain": [
       "            mergeid  wave  year   age  nb_children  partnerinhh  \\\n",
       "0      AT-009262-01     4  2011  56.0          1.0            1   \n",
       "1      AT-329641-01     4  2011  55.0          2.0            0   \n",
       "2      Bf-339845-02     4  2011  50.0          2.0            1   \n",
       "3      Cg-816797-01     4  2011  55.0          2.0            1   \n",
       "4      Cg-826059-01     4  2011  53.0          1.0            0   \n",
       "...             ...   ...   ...   ...          ...          ...   \n",
       "12700  IT-441831-01     6  2015  56.0          3.0            1   \n",
       "12701  IT-444601-01     6  2015  58.0          3.0            1   \n",
       "12702  IT-596184-03     6  2015  56.0          1.0            1   \n",
       "12703  IT-713545-04     6  2015  56.0          2.0            1   \n",
       "12704  SI-993306-01     6  2015  58.0          2.0            1   \n",
       "\n",
       "                    job_status  eurod  eurodcat      country  ...  \\\n",
       "0                Self-employed    1.0         0      Austria  ...   \n",
       "1                     Employee    0.0         0      Austria  ...   \n",
       "2                     Employee    1.0         0      Belgium  ...   \n",
       "3                     Employee    3.0         0  Switzerland  ...   \n",
       "4                     Employee    1.0         0  Switzerland  ...   \n",
       "...                        ...    ...       ...          ...  ...   \n",
       "12700  Private sector employee    0.0         0        Italy  ...   \n",
       "12701  Private sector employee    5.0         1        Italy  ...   \n",
       "12702  Private sector employee    3.0         0        Italy  ...   \n",
       "12703   Public sector employee    4.0         1        Italy  ...   \n",
       "12704  Private sector employee    0.0         0     Slovenia  ...   \n",
       "\n",
       "       jqi_intensity  jqi_prospects  jqi_working_time_quality  \\\n",
       "0          60.077519      53.703704                 76.205645   \n",
       "1          60.077519      53.703704                 76.205645   \n",
       "2          60.077519      53.703704                 76.205645   \n",
       "3          60.077519      53.703704                 76.205645   \n",
       "4          60.077519      53.703704                 76.205645   \n",
       "...              ...            ...                       ...   \n",
       "12700      44.186047      62.500000                 80.468750   \n",
       "12701      32.558140      41.666667                 80.925000   \n",
       "12702      41.860465      46.875000                 89.916667   \n",
       "12703      51.162791      25.000000                 70.750000   \n",
       "12704      40.310078      58.035714                 84.966667   \n",
       "\n",
       "       jqi_monthly_earnings_weighted  jqi_skills_discretion_weighted  \\\n",
       "0                         413.279438                       24.372010   \n",
       "1                         413.279438                       24.372010   \n",
       "2                         413.279438                       24.372010   \n",
       "3                         413.279438                       24.372010   \n",
       "4                         413.279438                       24.372010   \n",
       "...                              ...                             ...   \n",
       "12700                    1129.806589                       41.504018   \n",
       "12701                    2383.498774                       56.218396   \n",
       "12702                    1111.669964                       36.688529   \n",
       "12703                    3656.267886                       96.116830   \n",
       "12704                    1558.440706                       45.101523   \n",
       "\n",
       "       jqi_social_environment_weighted  jqi_physical_environment_weighted  \\\n",
       "0                            37.764297                          51.406949   \n",
       "1                            37.764297                          51.406949   \n",
       "2                            37.764297                          51.406949   \n",
       "3                            37.764297                          51.406949   \n",
       "4                            37.764297                          51.406949   \n",
       "...                                ...                                ...   \n",
       "12700                        95.223384                          83.853885   \n",
       "12701                        71.424954                          62.565819   \n",
       "12702                        89.571073                          72.964777   \n",
       "12703                       154.425868                         132.960457   \n",
       "12704                        83.100226                          89.193943   \n",
       "\n",
       "       jqi_intensity_weighted  jqi_prospects_weighted  \\\n",
       "0                   40.900921               30.425927   \n",
       "1                   40.900921               30.425927   \n",
       "2                   40.900921               30.425927   \n",
       "3                   40.900921               30.425927   \n",
       "4                   40.900921               30.425927   \n",
       "...                       ...                     ...   \n",
       "12700               23.652318               89.914258   \n",
       "12701               27.048906               38.199062   \n",
       "12702               45.205521               58.021125   \n",
       "12703               91.483623               44.702225   \n",
       "12704               53.219103               75.527096   \n",
       "\n",
       "       jqi_working_time_quality_weighted  \n",
       "0                              42.481878  \n",
       "1                              42.481878  \n",
       "2                              42.481878  \n",
       "3                              42.481878  \n",
       "4                              42.481878  \n",
       "...                                  ...  \n",
       "12700                          86.058510  \n",
       "12701                          65.543946  \n",
       "12702                          91.010655  \n",
       "12703                         126.507297  \n",
       "12704                         101.604526  \n",
       "\n",
       "[12705 rows x 35 columns]"
      ]
     },
     "execution_count": 4,
     "metadata": {},
     "output_type": "execute_result"
    }
   ],
   "source": [
    "df"
   ]
  },
  {
   "cell_type": "code",
   "execution_count": 5,
   "metadata": {},
   "outputs": [
    {
     "data": {
      "text/plain": [
       "6694"
      ]
     },
     "execution_count": 5,
     "metadata": {},
     "output_type": "execute_result"
    }
   ],
   "source": [
    "df.mergeid.nunique()"
   ]
  },
  {
   "cell_type": "code",
   "execution_count": 6,
   "metadata": {},
   "outputs": [
    {
     "data": {
      "text/plain": [
       "country\n",
       "Austria           389\n",
       "Belgium           819\n",
       "Czech Republic    531\n",
       "Denmark           518\n",
       "Estonia           796\n",
       "France            446\n",
       "Germany           832\n",
       "Italy             630\n",
       "Slovenia          386\n",
       "Spain             777\n",
       "Switzerland       570\n",
       "Name: mergeid, dtype: int64"
      ]
     },
     "execution_count": 6,
     "metadata": {},
     "output_type": "execute_result"
    }
   ],
   "source": [
    "df.groupby(\"country\").mergeid.nunique()"
   ]
  },
  {
   "cell_type": "code",
   "execution_count": 7,
   "metadata": {},
   "outputs": [
    {
     "data": {
      "text/plain": [
       "year\n",
       "2011    3594\n",
       "2013    4784\n",
       "2015    4327\n",
       "Name: mergeid, dtype: int64"
      ]
     },
     "execution_count": 7,
     "metadata": {},
     "output_type": "execute_result"
    }
   ],
   "source": [
    "df.groupby(\"year\").mergeid.nunique()"
   ]
  },
  {
   "cell_type": "code",
   "execution_count": 8,
   "metadata": {},
   "outputs": [],
   "source": [
    "df.to_csv(\n",
    "    \"/Users/alexandralugova/Documents/GitHub/MH-old-workers/data/datasets/results/4digits_w456_year.csv\",\n",
    "    index=False,\n",
    ")"
   ]
  },
  {
   "cell_type": "markdown",
   "metadata": {},
   "source": [
    "### Some descriptive stats"
   ]
  },
  {
   "cell_type": "code",
   "execution_count": 9,
   "metadata": {},
   "outputs": [
    {
     "data": {
      "text/html": [
       "<div>\n",
       "<style scoped>\n",
       "    .dataframe tbody tr th:only-of-type {\n",
       "        vertical-align: middle;\n",
       "    }\n",
       "\n",
       "    .dataframe tbody tr th {\n",
       "        vertical-align: top;\n",
       "    }\n",
       "\n",
       "    .dataframe thead th {\n",
       "        text-align: right;\n",
       "    }\n",
       "</style>\n",
       "<table border=\"1\" class=\"dataframe\">\n",
       "  <thead>\n",
       "    <tr style=\"text-align: right;\">\n",
       "      <th></th>\n",
       "      <th>age</th>\n",
       "      <th>gender</th>\n",
       "      <th>nb_children</th>\n",
       "      <th>yrseducation</th>\n",
       "    </tr>\n",
       "  </thead>\n",
       "  <tbody>\n",
       "    <tr>\n",
       "      <th>count</th>\n",
       "      <td>12705.00</td>\n",
       "      <td>12705.00</td>\n",
       "      <td>12705.00</td>\n",
       "      <td>12705.00</td>\n",
       "    </tr>\n",
       "    <tr>\n",
       "      <th>mean</th>\n",
       "      <td>56.43</td>\n",
       "      <td>0.53</td>\n",
       "      <td>1.77</td>\n",
       "      <td>12.60</td>\n",
       "    </tr>\n",
       "    <tr>\n",
       "      <th>std</th>\n",
       "      <td>3.14</td>\n",
       "      <td>0.50</td>\n",
       "      <td>1.27</td>\n",
       "      <td>4.59</td>\n",
       "    </tr>\n",
       "    <tr>\n",
       "      <th>min</th>\n",
       "      <td>50.00</td>\n",
       "      <td>0.00</td>\n",
       "      <td>0.00</td>\n",
       "      <td>0.00</td>\n",
       "    </tr>\n",
       "    <tr>\n",
       "      <th>25%</th>\n",
       "      <td>54.00</td>\n",
       "      <td>0.00</td>\n",
       "      <td>1.00</td>\n",
       "      <td>10.00</td>\n",
       "    </tr>\n",
       "    <tr>\n",
       "      <th>50%</th>\n",
       "      <td>56.00</td>\n",
       "      <td>1.00</td>\n",
       "      <td>2.00</td>\n",
       "      <td>13.00</td>\n",
       "    </tr>\n",
       "    <tr>\n",
       "      <th>75%</th>\n",
       "      <td>59.00</td>\n",
       "      <td>1.00</td>\n",
       "      <td>2.00</td>\n",
       "      <td>16.00</td>\n",
       "    </tr>\n",
       "    <tr>\n",
       "      <th>max</th>\n",
       "      <td>65.00</td>\n",
       "      <td>1.00</td>\n",
       "      <td>11.00</td>\n",
       "      <td>39.00</td>\n",
       "    </tr>\n",
       "  </tbody>\n",
       "</table>\n",
       "</div>"
      ],
      "text/plain": [
       "            age    gender  nb_children  yrseducation\n",
       "count  12705.00  12705.00     12705.00      12705.00\n",
       "mean      56.43      0.53         1.77         12.60\n",
       "std        3.14      0.50         1.27          4.59\n",
       "min       50.00      0.00         0.00          0.00\n",
       "25%       54.00      0.00         1.00         10.00\n",
       "50%       56.00      1.00         2.00         13.00\n",
       "75%       59.00      1.00         2.00         16.00\n",
       "max       65.00      1.00        11.00         39.00"
      ]
     },
     "execution_count": 9,
     "metadata": {},
     "output_type": "execute_result"
    }
   ],
   "source": [
    "round(df[[\"age\", \"gender\", \"nb_children\", \"yrseducation\"]].describe(), 2)"
   ]
  },
  {
   "cell_type": "code",
   "execution_count": 10,
   "metadata": {},
   "outputs": [
    {
     "data": {
      "image/png": "[encoded data removed]",
      "text/plain": [
       "<Figure size 700x500 with 4 Axes>"
      ]
     },
     "metadata": {},
     "output_type": "display_data"
    }
   ],
   "source": [
    "fig, axs = plt.subplots(2, 2, figsize=(7, 5))\n",
    "\n",
    "axs[0, 0].hist(df[\"age\"], bins=30, color=\"skyblue\", alpha=0.7)\n",
    "axs[0, 0].set_title(\"Age\")\n",
    "\n",
    "axs[0, 1].hist(df[\"gender\"], bins=30, color=\"salmon\", alpha=0.7)\n",
    "axs[0, 1].set_title(\"Gender\")\n",
    "\n",
    "axs[1, 0].hist(df[\"nb_children\"], bins=30, color=\"lightgreen\", alpha=0.7)\n",
    "axs[1, 0].set_title(\"Number of children\")\n",
    "\n",
    "axs[1, 1].hist(df[\"yrseducation\"], bins=30, color=\"gold\", alpha=0.7)\n",
    "axs[1, 1].set_title(\"Years of education\")\n",
    "\n",
    "plt.tight_layout()\n",
    "\n",
    "plt.show()"
   ]
  },
  {
   "cell_type": "code",
   "execution_count": 11,
   "metadata": {},
   "outputs": [
    {
     "data": {
      "text/plain": [
       "job_status\n",
       "Private sector employee    0.39\n",
       "Public sector employee     0.23\n",
       "Employee                   0.20\n",
       "Self-employed              0.14\n",
       "Civil servant              0.04\n",
       "Name: proportion, dtype: float64"
      ]
     },
     "execution_count": 11,
     "metadata": {},
     "output_type": "execute_result"
    }
   ],
   "source": [
    "round(df[\"job_status\"].value_counts(normalize=True), 2)"
   ]
  },
  {
   "cell_type": "code",
   "execution_count": 12,
   "metadata": {},
   "outputs": [
    {
     "data": {
      "text/html": [
       "<div>\n",
       "<style scoped>\n",
       "    .dataframe tbody tr th:only-of-type {\n",
       "        vertical-align: middle;\n",
       "    }\n",
       "\n",
       "    .dataframe tbody tr th {\n",
       "        vertical-align: top;\n",
       "    }\n",
       "\n",
       "    .dataframe thead th {\n",
       "        text-align: right;\n",
       "    }\n",
       "</style>\n",
       "<table border=\"1\" class=\"dataframe\">\n",
       "  <thead>\n",
       "    <tr style=\"text-align: right;\">\n",
       "      <th></th>\n",
       "      <th>yrscontribution</th>\n",
       "      <th>retirement_age</th>\n",
       "      <th>work_horizon</th>\n",
       "      <th>work_horizon_change</th>\n",
       "    </tr>\n",
       "  </thead>\n",
       "  <tbody>\n",
       "    <tr>\n",
       "      <th>count</th>\n",
       "      <td>12705.00</td>\n",
       "      <td>12705.00</td>\n",
       "      <td>12705.00</td>\n",
       "      <td>12705.00</td>\n",
       "    </tr>\n",
       "    <tr>\n",
       "      <th>mean</th>\n",
       "      <td>35.91</td>\n",
       "      <td>63.12</td>\n",
       "      <td>6.69</td>\n",
       "      <td>0.26</td>\n",
       "    </tr>\n",
       "    <tr>\n",
       "      <th>std</th>\n",
       "      <td>6.12</td>\n",
       "      <td>2.11</td>\n",
       "      <td>3.40</td>\n",
       "      <td>0.60</td>\n",
       "    </tr>\n",
       "    <tr>\n",
       "      <th>min</th>\n",
       "      <td>6.00</td>\n",
       "      <td>57.00</td>\n",
       "      <td>0.08</td>\n",
       "      <td>0.00</td>\n",
       "    </tr>\n",
       "    <tr>\n",
       "      <th>25%</th>\n",
       "      <td>33.00</td>\n",
       "      <td>62.00</td>\n",
       "      <td>4.00</td>\n",
       "      <td>0.00</td>\n",
       "    </tr>\n",
       "    <tr>\n",
       "      <th>50%</th>\n",
       "      <td>36.00</td>\n",
       "      <td>63.00</td>\n",
       "      <td>7.00</td>\n",
       "      <td>0.00</td>\n",
       "    </tr>\n",
       "    <tr>\n",
       "      <th>75%</th>\n",
       "      <td>40.00</td>\n",
       "      <td>65.00</td>\n",
       "      <td>9.00</td>\n",
       "      <td>0.08</td>\n",
       "    </tr>\n",
       "    <tr>\n",
       "      <th>max</th>\n",
       "      <td>55.00</td>\n",
       "      <td>68.00</td>\n",
       "      <td>17.00</td>\n",
       "      <td>4.00</td>\n",
       "    </tr>\n",
       "  </tbody>\n",
       "</table>\n",
       "</div>"
      ],
      "text/plain": [
       "       yrscontribution  retirement_age  work_horizon  work_horizon_change\n",
       "count         12705.00        12705.00      12705.00             12705.00\n",
       "mean             35.91           63.12          6.69                 0.26\n",
       "std               6.12            2.11          3.40                 0.60\n",
       "min               6.00           57.00          0.08                 0.00\n",
       "25%              33.00           62.00          4.00                 0.00\n",
       "50%              36.00           63.00          7.00                 0.00\n",
       "75%              40.00           65.00          9.00                 0.08\n",
       "max              55.00           68.00         17.00                 4.00"
      ]
     },
     "execution_count": 12,
     "metadata": {},
     "output_type": "execute_result"
    }
   ],
   "source": [
    "round(\n",
    "    df[\n",
    "        [\"yrscontribution\", \"retirement_age\", \"work_horizon\", \"work_horizon_change\"]\n",
    "    ].describe(),\n",
    "    2,\n",
    ")"
   ]
  },
  {
   "cell_type": "code",
   "execution_count": 13,
   "metadata": {},
   "outputs": [
    {
     "data": {
      "image/png": "[encoded data removed]",
      "text/plain": [
       "<Figure size 700x500 with 4 Axes>"
      ]
     },
     "metadata": {},
     "output_type": "display_data"
    }
   ],
   "source": [
    "fig, axs = plt.subplots(2, 2, figsize=(7, 5))\n",
    "\n",
    "axs[0, 0].hist(df[\"yrscontribution\"], bins=30, color=\"skyblue\", alpha=0.7)\n",
    "axs[0, 0].set_title(\"Years of contribution\")\n",
    "\n",
    "axs[0, 1].hist(df[\"retirement_age\"], bins=30, color=\"salmon\", alpha=0.7)\n",
    "axs[0, 1].set_title(\"Retirement age\")\n",
    "\n",
    "axs[1, 0].hist(df[\"work_horizon\"], bins=30, color=\"lightgreen\", alpha=0.7)\n",
    "axs[1, 0].set_title(\"Work horizon, years\")\n",
    "\n",
    "axs[1, 1].hist(df[\"work_horizon_change\"], bins=30, color=\"gold\", alpha=0.7)\n",
    "axs[1, 1].set_title(\"Work horizon change by reform\")\n",
    "\n",
    "plt.tight_layout()\n",
    "\n",
    "plt.show()"
   ]
  },
  {
   "cell_type": "code",
   "execution_count": 14,
   "metadata": {},
   "outputs": [
    {
     "data": {
      "text/plain": [
       "eurodcat\n",
       "0    0.81\n",
       "1    0.19\n",
       "Name: proportion, dtype: float64"
      ]
     },
     "execution_count": 14,
     "metadata": {},
     "output_type": "execute_result"
    }
   ],
   "source": [
    "round(df[\"eurodcat\"].value_counts(normalize=True), 2)"
   ]
  },
  {
   "cell_type": "code",
   "execution_count": 15,
   "metadata": {},
   "outputs": [
    {
     "data": {
      "text/plain": [
       "eurod\n",
       "0.0     3365\n",
       "1.0     3097\n",
       "2.0     2297\n",
       "3.0     1579\n",
       "4.0     1080\n",
       "5.0      627\n",
       "6.0      345\n",
       "7.0      178\n",
       "8.0       72\n",
       "9.0       47\n",
       "10.0      12\n",
       "11.0       5\n",
       "12.0       1\n",
       "Name: count, dtype: int64"
      ]
     },
     "execution_count": 15,
     "metadata": {},
     "output_type": "execute_result"
    }
   ],
   "source": [
    "df[\"eurod\"].value_counts()"
   ]
  },
  {
   "cell_type": "code",
   "execution_count": 16,
   "metadata": {},
   "outputs": [
    {
     "data": {
      "image/png": "[encoded data removed]",
      "text/plain": [
       "<Figure size 600x400 with 1 Axes>"
      ]
     },
     "metadata": {},
     "output_type": "display_data"
    }
   ],
   "source": [
    "plt.figure(figsize=(6, 4))\n",
    "plt.hist(df[\"eurod\"], bins=13, color=\"skyblue\", alpha=0.7)\n",
    "plt.title(\"EuroD scale score\")\n",
    "plt.xlabel(\"Values\")\n",
    "plt.ylabel(\"Frequency\")\n",
    "plt.grid(True)\n",
    "plt.show()"
   ]
  },
  {
   "cell_type": "code",
   "execution_count": 17,
   "metadata": {},
   "outputs": [
    {
     "data": {
      "text/html": [
       "<div>\n",
       "<style scoped>\n",
       "    .dataframe tbody tr th:only-of-type {\n",
       "        vertical-align: middle;\n",
       "    }\n",
       "\n",
       "    .dataframe tbody tr th {\n",
       "        vertical-align: top;\n",
       "    }\n",
       "\n",
       "    .dataframe thead th {\n",
       "        text-align: right;\n",
       "    }\n",
       "</style>\n",
       "<table border=\"1\" class=\"dataframe\">\n",
       "  <thead>\n",
       "    <tr style=\"text-align: right;\">\n",
       "      <th></th>\n",
       "      <th>jqi_monthly_earnings</th>\n",
       "      <th>jqi_skills_discretion</th>\n",
       "      <th>jqi_social_environment</th>\n",
       "      <th>jqi_physical_environment</th>\n",
       "      <th>jqi_intensity</th>\n",
       "      <th>jqi_prospects</th>\n",
       "      <th>jqi_working_time_quality</th>\n",
       "    </tr>\n",
       "  </thead>\n",
       "  <tbody>\n",
       "    <tr>\n",
       "      <th>count</th>\n",
       "      <td>12705.00</td>\n",
       "      <td>12705.00</td>\n",
       "      <td>12705.00</td>\n",
       "      <td>12705.00</td>\n",
       "      <td>12705.00</td>\n",
       "      <td>12705.00</td>\n",
       "      <td>12705.00</td>\n",
       "    </tr>\n",
       "    <tr>\n",
       "      <th>mean</th>\n",
       "      <td>1569.71</td>\n",
       "      <td>58.49</td>\n",
       "      <td>80.56</td>\n",
       "      <td>84.42</td>\n",
       "      <td>49.68</td>\n",
       "      <td>40.26</td>\n",
       "      <td>86.33</td>\n",
       "    </tr>\n",
       "    <tr>\n",
       "      <th>std</th>\n",
       "      <td>467.31</td>\n",
       "      <td>13.60</td>\n",
       "      <td>3.87</td>\n",
       "      <td>8.32</td>\n",
       "      <td>5.72</td>\n",
       "      <td>8.58</td>\n",
       "      <td>9.40</td>\n",
       "    </tr>\n",
       "    <tr>\n",
       "      <th>min</th>\n",
       "      <td>318.22</td>\n",
       "      <td>5.41</td>\n",
       "      <td>40.91</td>\n",
       "      <td>42.82</td>\n",
       "      <td>18.60</td>\n",
       "      <td>12.50</td>\n",
       "      <td>39.96</td>\n",
       "    </tr>\n",
       "    <tr>\n",
       "      <th>25%</th>\n",
       "      <td>1262.36</td>\n",
       "      <td>47.98</td>\n",
       "      <td>78.74</td>\n",
       "      <td>78.08</td>\n",
       "      <td>46.51</td>\n",
       "      <td>34.55</td>\n",
       "      <td>81.51</td>\n",
       "    </tr>\n",
       "    <tr>\n",
       "      <th>50%</th>\n",
       "      <td>1495.98</td>\n",
       "      <td>57.75</td>\n",
       "      <td>80.66</td>\n",
       "      <td>87.20</td>\n",
       "      <td>49.48</td>\n",
       "      <td>39.66</td>\n",
       "      <td>88.76</td>\n",
       "    </tr>\n",
       "    <tr>\n",
       "      <th>75%</th>\n",
       "      <td>1789.99</td>\n",
       "      <td>70.24</td>\n",
       "      <td>82.63</td>\n",
       "      <td>91.57</td>\n",
       "      <td>52.83</td>\n",
       "      <td>45.93</td>\n",
       "      <td>93.14</td>\n",
       "    </tr>\n",
       "    <tr>\n",
       "      <th>max</th>\n",
       "      <td>6766.63</td>\n",
       "      <td>89.61</td>\n",
       "      <td>100.00</td>\n",
       "      <td>99.36</td>\n",
       "      <td>83.72</td>\n",
       "      <td>87.50</td>\n",
       "      <td>100.00</td>\n",
       "    </tr>\n",
       "  </tbody>\n",
       "</table>\n",
       "</div>"
      ],
      "text/plain": [
       "       jqi_monthly_earnings  jqi_skills_discretion  jqi_social_environment  \\\n",
       "count              12705.00               12705.00                12705.00   \n",
       "mean                1569.71                  58.49                   80.56   \n",
       "std                  467.31                  13.60                    3.87   \n",
       "min                  318.22                   5.41                   40.91   \n",
       "25%                 1262.36                  47.98                   78.74   \n",
       "50%                 1495.98                  57.75                   80.66   \n",
       "75%                 1789.99                  70.24                   82.63   \n",
       "max                 6766.63                  89.61                  100.00   \n",
       "\n",
       "       jqi_physical_environment  jqi_intensity  jqi_prospects  \\\n",
       "count                  12705.00       12705.00       12705.00   \n",
       "mean                      84.42          49.68          40.26   \n",
       "std                        8.32           5.72           8.58   \n",
       "min                       42.82          18.60          12.50   \n",
       "25%                       78.08          46.51          34.55   \n",
       "50%                       87.20          49.48          39.66   \n",
       "75%                       91.57          52.83          45.93   \n",
       "max                       99.36          83.72          87.50   \n",
       "\n",
       "       jqi_working_time_quality  \n",
       "count                  12705.00  \n",
       "mean                      86.33  \n",
       "std                        9.40  \n",
       "min                       39.96  \n",
       "25%                       81.51  \n",
       "50%                       88.76  \n",
       "75%                       93.14  \n",
       "max                      100.00  "
      ]
     },
     "execution_count": 17,
     "metadata": {},
     "output_type": "execute_result"
    }
   ],
   "source": [
    "round(\n",
    "    df[\n",
    "        [\n",
    "            \"jqi_monthly_earnings\",\n",
    "            \"jqi_skills_discretion\",\n",
    "            \"jqi_social_environment\",\n",
    "            \"jqi_physical_environment\",\n",
    "            \"jqi_intensity\",\n",
    "            \"jqi_prospects\",\n",
    "            \"jqi_working_time_quality\",\n",
    "        ]\n",
    "    ].describe(),\n",
    "    2,\n",
    ")"
   ]
  },
  {
   "cell_type": "markdown",
   "metadata": {},
   "source": [
    "### Waves 4,5,6 common individuals"
   ]
  },
  {
   "cell_type": "code",
   "execution_count": 18,
   "metadata": {},
   "outputs": [
    {
     "data": {
      "text/plain": [
       "6694"
      ]
     },
     "execution_count": 18,
     "metadata": {},
     "output_type": "execute_result"
    }
   ],
   "source": [
    "df.mergeid.nunique()"
   ]
  },
  {
   "cell_type": "code",
   "execution_count": 19,
   "metadata": {},
   "outputs": [
    {
     "data": {
      "text/plain": [
       "1709"
      ]
     },
     "execution_count": 19,
     "metadata": {},
     "output_type": "execute_result"
    }
   ],
   "source": [
    "unique_mergeid_w4 = set(df[df.wave == 4][\"mergeid\"].unique())\n",
    "unique_mergeid_w5 = set(df[df.wave == 5][\"mergeid\"].unique())\n",
    "unique_mergeid_w6 = set(df[df.wave == 6][\"mergeid\"].unique())\n",
    "intersection_ids = unique_mergeid_w4.intersection(unique_mergeid_w5).intersection(\n",
    "    unique_mergeid_w6\n",
    ")\n",
    "len(intersection_ids)"
   ]
  },
  {
   "cell_type": "code",
   "execution_count": 20,
   "metadata": {},
   "outputs": [],
   "source": [
    "w456_common = df[df[\"mergeid\"].isin(intersection_ids)].reset_index(drop=True)"
   ]
  },
  {
   "cell_type": "markdown",
   "metadata": {},
   "source": [
    "isco = w456_common[\"isco\"].value_counts().to_frame().reset_index()\n",
    "isco = isco[isco[\"count\"] >= 10]\n",
    "w456_common = w456_common[w456_common[\"isco\"].isin(isco[\"isco\"].unique())].reset_index(\n",
    "    drop=True\n",
    ")"
   ]
  },
  {
   "cell_type": "code",
   "execution_count": 21,
   "metadata": {},
   "outputs": [
    {
     "data": {
      "text/plain": [
       "country\n",
       "Austria           129\n",
       "Belgium           231\n",
       "Czech Republic    130\n",
       "Denmark           152\n",
       "Estonia           280\n",
       "France            158\n",
       "Germany            26\n",
       "Italy             113\n",
       "Slovenia           79\n",
       "Spain             109\n",
       "Switzerland       302\n",
       "Name: mergeid, dtype: int64"
      ]
     },
     "execution_count": 21,
     "metadata": {},
     "output_type": "execute_result"
    }
   ],
   "source": [
    "w456_common.groupby(\"country\").mergeid.nunique()"
   ]
  },
  {
   "cell_type": "code",
   "execution_count": 22,
   "metadata": {},
   "outputs": [],
   "source": [
    "# Delete Germany as too few individuals\n",
    "w456_common = w456_common[w456_common.country != \"Germany\"].reset_index(drop=True)"
   ]
  },
  {
   "cell_type": "code",
   "execution_count": 23,
   "metadata": {},
   "outputs": [],
   "source": [
    "w456_common.to_csv(\n",
    "    \"/Users/alexandralugova/Documents/GitHub/MH-old-workers/data/datasets/results/4digits_w456_year_common.csv\",\n",
    "    index=False,\n",
    ")"
   ]
  },
  {
   "cell_type": "markdown",
   "metadata": {},
   "source": [
    "### Waves 4 and 6"
   ]
  },
  {
   "cell_type": "code",
   "execution_count": 24,
   "metadata": {},
   "outputs": [],
   "source": [
    "result = (\n",
    "    df[df[\"year\"].isin([2013, 2015])]\n",
    "    .groupby(\"mergeid\")[\"work_horizon_change\"]\n",
    "    .sum()\n",
    "    .reset_index()\n",
    ")\n",
    "result[\"year\"] = 2015\n",
    "\n",
    "df = df.drop(columns=\"work_horizon_change\")\n",
    "df = df.merge(result, on=[\"mergeid\", \"year\"], how=\"left\")\n",
    "\n",
    "df[\"work_horizon_change\"] = df[\"work_horizon_change\"].fillna(0)"
   ]
  },
  {
   "cell_type": "code",
   "execution_count": 25,
   "metadata": {},
   "outputs": [],
   "source": [
    "w46 = df[(df.wave == 4) | (df.wave == 6)].reset_index(drop=True)"
   ]
  },
  {
   "cell_type": "code",
   "execution_count": 26,
   "metadata": {},
   "outputs": [
    {
     "data": {
      "text/plain": [
       "5951"
      ]
     },
     "execution_count": 26,
     "metadata": {},
     "output_type": "execute_result"
    }
   ],
   "source": [
    "w46.mergeid.nunique()"
   ]
  },
  {
   "cell_type": "code",
   "execution_count": 27,
   "metadata": {},
   "outputs": [
    {
     "data": {
      "text/plain": [
       "country\n",
       "Austria           372\n",
       "Belgium           737\n",
       "Czech Republic    462\n",
       "Denmark           464\n",
       "Estonia           754\n",
       "France            428\n",
       "Germany           657\n",
       "Italy             548\n",
       "Slovenia          358\n",
       "Spain             612\n",
       "Switzerland       559\n",
       "Name: mergeid, dtype: int64"
      ]
     },
     "execution_count": 27,
     "metadata": {},
     "output_type": "execute_result"
    }
   ],
   "source": [
    "w46.groupby(\"country\").mergeid.nunique()"
   ]
  },
  {
   "cell_type": "code",
   "execution_count": 28,
   "metadata": {},
   "outputs": [
    {
     "data": {
      "text/plain": [
       "wave\n",
       "4    3594\n",
       "6    4327\n",
       "Name: mergeid, dtype: int64"
      ]
     },
     "execution_count": 28,
     "metadata": {},
     "output_type": "execute_result"
    }
   ],
   "source": [
    "w46.groupby(\"wave\").mergeid.nunique()"
   ]
  },
  {
   "cell_type": "code",
   "execution_count": 29,
   "metadata": {},
   "outputs": [],
   "source": [
    "w46.to_csv(\n",
    "    \"/Users/alexandralugova/Documents/GitHub/MH-old-workers/data/datasets/results/4digits_w46_year.csv\",\n",
    "    index=False,\n",
    ")"
   ]
  },
  {
   "cell_type": "markdown",
   "metadata": {},
   "source": [
    "### Waves 4 and 6 common individuals"
   ]
  },
  {
   "cell_type": "code",
   "execution_count": 30,
   "metadata": {},
   "outputs": [
    {
     "data": {
      "text/plain": [
       "1970"
      ]
     },
     "execution_count": 30,
     "metadata": {},
     "output_type": "execute_result"
    }
   ],
   "source": [
    "unique_mergeid_w4 = set(w46[w46.wave == 4][\"mergeid\"].unique())\n",
    "unique_mergeid_w6 = set(w46[w46.wave == 6][\"mergeid\"].unique())\n",
    "intersection_ids = unique_mergeid_w4.intersection(unique_mergeid_w6)\n",
    "len(intersection_ids)"
   ]
  },
  {
   "cell_type": "code",
   "execution_count": 31,
   "metadata": {},
   "outputs": [],
   "source": [
    "w46_common = w46[w46[\"mergeid\"].isin(intersection_ids)].reset_index(drop=True)"
   ]
  },
  {
   "cell_type": "code",
   "execution_count": 32,
   "metadata": {},
   "outputs": [
    {
     "data": {
      "text/plain": [
       "country\n",
       "Austria           152\n",
       "Belgium           273\n",
       "Czech Republic    158\n",
       "Denmark           163\n",
       "Estonia           318\n",
       "France            180\n",
       "Germany            29\n",
       "Italy             140\n",
       "Slovenia           98\n",
       "Spain             127\n",
       "Switzerland       332\n",
       "Name: mergeid, dtype: int64"
      ]
     },
     "execution_count": 32,
     "metadata": {},
     "output_type": "execute_result"
    }
   ],
   "source": [
    "w46_common.groupby(\"country\").mergeid.nunique()"
   ]
  },
  {
   "cell_type": "code",
   "execution_count": 33,
   "metadata": {},
   "outputs": [],
   "source": [
    "# Delete Germany as too few individuals\n",
    "w456_common = w456_common[w456_common.country != \"Germany\"].reset_index(drop=True)"
   ]
  },
  {
   "cell_type": "code",
   "execution_count": 34,
   "metadata": {},
   "outputs": [],
   "source": [
    "w46_common.to_csv(\n",
    "    \"/Users/alexandralugova/Documents/GitHub/MH-old-workers/data/datasets/results/4digits_w46_year_common.csv\",\n",
    "    index=False,\n",
    ")"
   ]
  }
 ],
 "metadata": {
  "kernelspec": {
   "display_name": "mhold",
   "language": "python",
   "name": "python3"
  },
  "language_info": {
   "codemirror_mode": {
    "name": "ipython",
    "version": 3
   },
   "file_extension": ".py",
   "mimetype": "text/x-python",
   "name": "python",
   "nbconvert_exporter": "python",
   "pygments_lexer": "ipython3",
   "version": "3.11.5"
  }
 },
 "nbformat": 4,
 "nbformat_minor": 2
}
