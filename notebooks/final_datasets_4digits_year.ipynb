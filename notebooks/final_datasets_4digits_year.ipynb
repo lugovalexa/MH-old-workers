{
 "cells": [
  {
   "cell_type": "markdown",
   "metadata": {},
   "source": [
    "## 4 digits - Merging only year wise"
   ]
  },
  {
   "cell_type": "markdown",
   "metadata": {},
   "source": [
    "### Waves 4,5,6"
   ]
  },
  {
   "cell_type": "code",
   "execution_count": 35,
   "metadata": {},
   "outputs": [],
   "source": [
    "import matplotlib.pyplot as plt\n",
    "import pandas as pd"
   ]
  },
  {
   "cell_type": "code",
   "execution_count": 36,
   "metadata": {},
   "outputs": [],
   "source": [
    "df = pd.read_csv(\n",
    "    \"/Users/alexandralugova/Documents/GitHub/MH-old-workers/data/datasets/results/data_clean_w456.csv\"\n",
    ")\n",
    "indexes = pd.read_csv(\n",
    "    \"/Users/alexandralugova/Documents/GitHub/MH-old-workers/data/datasets/results/work_quality_indexes_year.csv\"\n",
    ")"
   ]
  },
  {
   "cell_type": "code",
   "execution_count": 37,
   "metadata": {},
   "outputs": [],
   "source": [
    "df = df.merge(indexes, on=[\"year\", \"isco\"], how=\"inner\")"
   ]
  },
  {
   "cell_type": "code",
   "execution_count": 38,
   "metadata": {},
   "outputs": [
    {
     "data": {
      "text/html": [
       "<div>\n",
       "<style scoped>\n",
       "    .dataframe tbody tr th:only-of-type {\n",
       "        vertical-align: middle;\n",
       "    }\n",
       "\n",
       "    .dataframe tbody tr th {\n",
       "        vertical-align: top;\n",
       "    }\n",
       "\n",
       "    .dataframe thead th {\n",
       "        text-align: right;\n",
       "    }\n",
       "</style>\n",
       "<table border=\"1\" class=\"dataframe\">\n",
       "  <thead>\n",
       "    <tr style=\"text-align: right;\">\n",
       "      <th></th>\n",
       "      <th>mergeid</th>\n",
       "      <th>wave</th>\n",
       "      <th>year</th>\n",
       "      <th>age</th>\n",
       "      <th>nb_children</th>\n",
       "      <th>nb_grandchildren</th>\n",
       "      <th>partnerinhh</th>\n",
       "      <th>job_status</th>\n",
       "      <th>industry</th>\n",
       "      <th>thinc</th>\n",
       "      <th>...</th>\n",
       "      <th>jqi_working_time_quality</th>\n",
       "      <th>jqi_monthly_earnings_weighted</th>\n",
       "      <th>jqi_skills_discretion_weighted</th>\n",
       "      <th>jqi_social_environment_weighted</th>\n",
       "      <th>jqi_physical_environment_weighted</th>\n",
       "      <th>jqi_intensity_weighted</th>\n",
       "      <th>jqi_prospects_weighted</th>\n",
       "      <th>jqi_working_time_quality_weighted</th>\n",
       "      <th>jqi_sum</th>\n",
       "      <th>jqi_sum_weighted</th>\n",
       "    </tr>\n",
       "  </thead>\n",
       "  <tbody>\n",
       "    <tr>\n",
       "      <th>0</th>\n",
       "      <td>AT-009262-01</td>\n",
       "      <td>4</td>\n",
       "      <td>2011</td>\n",
       "      <td>56.0</td>\n",
       "      <td>1.0</td>\n",
       "      <td>2.0</td>\n",
       "      <td>1</td>\n",
       "      <td>Self-employed</td>\n",
       "      <td>Wholesale and retail trade</td>\n",
       "      <td>29620.0</td>\n",
       "      <td>...</td>\n",
       "      <td>76.205645</td>\n",
       "      <td>413.279438</td>\n",
       "      <td>24.372010</td>\n",
       "      <td>37.764297</td>\n",
       "      <td>51.406949</td>\n",
       "      <td>43.653205</td>\n",
       "      <td>28.364955</td>\n",
       "      <td>42.481878</td>\n",
       "      <td>429.722920</td>\n",
       "      <td>219.308017</td>\n",
       "    </tr>\n",
       "    <tr>\n",
       "      <th>1</th>\n",
       "      <td>AT-009262-01</td>\n",
       "      <td>4</td>\n",
       "      <td>2011</td>\n",
       "      <td>56.0</td>\n",
       "      <td>1.0</td>\n",
       "      <td>2.0</td>\n",
       "      <td>1</td>\n",
       "      <td>Self-employed</td>\n",
       "      <td>Wholesale and retail trade</td>\n",
       "      <td>29620.0</td>\n",
       "      <td>...</td>\n",
       "      <td>76.205645</td>\n",
       "      <td>413.279438</td>\n",
       "      <td>24.372010</td>\n",
       "      <td>37.764297</td>\n",
       "      <td>51.406949</td>\n",
       "      <td>43.653205</td>\n",
       "      <td>28.364955</td>\n",
       "      <td>42.481878</td>\n",
       "      <td>429.722920</td>\n",
       "      <td>219.308017</td>\n",
       "    </tr>\n",
       "    <tr>\n",
       "      <th>2</th>\n",
       "      <td>AT-009262-01</td>\n",
       "      <td>4</td>\n",
       "      <td>2011</td>\n",
       "      <td>56.0</td>\n",
       "      <td>1.0</td>\n",
       "      <td>2.0</td>\n",
       "      <td>1</td>\n",
       "      <td>Self-employed</td>\n",
       "      <td>Wholesale and retail trade</td>\n",
       "      <td>29620.0</td>\n",
       "      <td>...</td>\n",
       "      <td>76.205645</td>\n",
       "      <td>413.279438</td>\n",
       "      <td>24.372010</td>\n",
       "      <td>37.764297</td>\n",
       "      <td>51.406949</td>\n",
       "      <td>43.653205</td>\n",
       "      <td>28.364955</td>\n",
       "      <td>42.481878</td>\n",
       "      <td>429.722920</td>\n",
       "      <td>219.308017</td>\n",
       "    </tr>\n",
       "    <tr>\n",
       "      <th>3</th>\n",
       "      <td>AT-009262-01</td>\n",
       "      <td>4</td>\n",
       "      <td>2011</td>\n",
       "      <td>56.0</td>\n",
       "      <td>1.0</td>\n",
       "      <td>2.0</td>\n",
       "      <td>1</td>\n",
       "      <td>Self-employed</td>\n",
       "      <td>Wholesale and retail trade</td>\n",
       "      <td>29620.0</td>\n",
       "      <td>...</td>\n",
       "      <td>76.205645</td>\n",
       "      <td>413.279438</td>\n",
       "      <td>24.372010</td>\n",
       "      <td>37.764297</td>\n",
       "      <td>51.406949</td>\n",
       "      <td>43.653205</td>\n",
       "      <td>28.364955</td>\n",
       "      <td>42.481878</td>\n",
       "      <td>429.722920</td>\n",
       "      <td>219.308017</td>\n",
       "    </tr>\n",
       "    <tr>\n",
       "      <th>4</th>\n",
       "      <td>AT-009262-01</td>\n",
       "      <td>4</td>\n",
       "      <td>2011</td>\n",
       "      <td>56.0</td>\n",
       "      <td>1.0</td>\n",
       "      <td>2.0</td>\n",
       "      <td>1</td>\n",
       "      <td>Self-employed</td>\n",
       "      <td>Wholesale and retail trade</td>\n",
       "      <td>29620.0</td>\n",
       "      <td>...</td>\n",
       "      <td>76.205645</td>\n",
       "      <td>413.279438</td>\n",
       "      <td>24.372010</td>\n",
       "      <td>37.764297</td>\n",
       "      <td>51.406949</td>\n",
       "      <td>43.653205</td>\n",
       "      <td>28.364955</td>\n",
       "      <td>42.481878</td>\n",
       "      <td>429.722920</td>\n",
       "      <td>219.308017</td>\n",
       "    </tr>\n",
       "    <tr>\n",
       "      <th>...</th>\n",
       "      <td>...</td>\n",
       "      <td>...</td>\n",
       "      <td>...</td>\n",
       "      <td>...</td>\n",
       "      <td>...</td>\n",
       "      <td>...</td>\n",
       "      <td>...</td>\n",
       "      <td>...</td>\n",
       "      <td>...</td>\n",
       "      <td>...</td>\n",
       "      <td>...</td>\n",
       "      <td>...</td>\n",
       "      <td>...</td>\n",
       "      <td>...</td>\n",
       "      <td>...</td>\n",
       "      <td>...</td>\n",
       "      <td>...</td>\n",
       "      <td>...</td>\n",
       "      <td>...</td>\n",
       "      <td>...</td>\n",
       "      <td>...</td>\n",
       "    </tr>\n",
       "    <tr>\n",
       "      <th>62300</th>\n",
       "      <td>SI-993306-01</td>\n",
       "      <td>6</td>\n",
       "      <td>2015</td>\n",
       "      <td>58.0</td>\n",
       "      <td>2.0</td>\n",
       "      <td>2.0</td>\n",
       "      <td>1</td>\n",
       "      <td>Private sector employee</td>\n",
       "      <td>Transport, storage and communication</td>\n",
       "      <td>11000.0</td>\n",
       "      <td>...</td>\n",
       "      <td>84.966667</td>\n",
       "      <td>1558.440706</td>\n",
       "      <td>45.101523</td>\n",
       "      <td>83.100226</td>\n",
       "      <td>89.193943</td>\n",
       "      <td>53.219103</td>\n",
       "      <td>49.092905</td>\n",
       "      <td>101.604526</td>\n",
       "      <td>349.962591</td>\n",
       "      <td>471.060033</td>\n",
       "    </tr>\n",
       "    <tr>\n",
       "      <th>62301</th>\n",
       "      <td>SI-993306-01</td>\n",
       "      <td>6</td>\n",
       "      <td>2015</td>\n",
       "      <td>58.0</td>\n",
       "      <td>2.0</td>\n",
       "      <td>2.0</td>\n",
       "      <td>1</td>\n",
       "      <td>Private sector employee</td>\n",
       "      <td>Transport, storage and communication</td>\n",
       "      <td>11000.0</td>\n",
       "      <td>...</td>\n",
       "      <td>84.966667</td>\n",
       "      <td>1558.440706</td>\n",
       "      <td>45.101523</td>\n",
       "      <td>83.100226</td>\n",
       "      <td>89.193943</td>\n",
       "      <td>53.219103</td>\n",
       "      <td>49.092905</td>\n",
       "      <td>101.604526</td>\n",
       "      <td>349.962591</td>\n",
       "      <td>471.060033</td>\n",
       "    </tr>\n",
       "    <tr>\n",
       "      <th>62302</th>\n",
       "      <td>SI-993306-01</td>\n",
       "      <td>6</td>\n",
       "      <td>2015</td>\n",
       "      <td>58.0</td>\n",
       "      <td>2.0</td>\n",
       "      <td>2.0</td>\n",
       "      <td>1</td>\n",
       "      <td>Private sector employee</td>\n",
       "      <td>Transport, storage and communication</td>\n",
       "      <td>11000.0</td>\n",
       "      <td>...</td>\n",
       "      <td>84.966667</td>\n",
       "      <td>1558.440706</td>\n",
       "      <td>45.101523</td>\n",
       "      <td>83.100226</td>\n",
       "      <td>89.193943</td>\n",
       "      <td>53.219103</td>\n",
       "      <td>49.092905</td>\n",
       "      <td>101.604526</td>\n",
       "      <td>349.962591</td>\n",
       "      <td>471.060033</td>\n",
       "    </tr>\n",
       "    <tr>\n",
       "      <th>62303</th>\n",
       "      <td>SI-993306-01</td>\n",
       "      <td>6</td>\n",
       "      <td>2015</td>\n",
       "      <td>58.0</td>\n",
       "      <td>2.0</td>\n",
       "      <td>2.0</td>\n",
       "      <td>1</td>\n",
       "      <td>Private sector employee</td>\n",
       "      <td>Transport, storage and communication</td>\n",
       "      <td>11000.0</td>\n",
       "      <td>...</td>\n",
       "      <td>84.966667</td>\n",
       "      <td>1558.440706</td>\n",
       "      <td>45.101523</td>\n",
       "      <td>83.100226</td>\n",
       "      <td>89.193943</td>\n",
       "      <td>53.219103</td>\n",
       "      <td>49.092905</td>\n",
       "      <td>101.604526</td>\n",
       "      <td>349.962591</td>\n",
       "      <td>471.060033</td>\n",
       "    </tr>\n",
       "    <tr>\n",
       "      <th>62304</th>\n",
       "      <td>SI-993306-01</td>\n",
       "      <td>6</td>\n",
       "      <td>2015</td>\n",
       "      <td>58.0</td>\n",
       "      <td>2.0</td>\n",
       "      <td>2.0</td>\n",
       "      <td>1</td>\n",
       "      <td>Private sector employee</td>\n",
       "      <td>Transport, storage and communication</td>\n",
       "      <td>11000.0</td>\n",
       "      <td>...</td>\n",
       "      <td>84.966667</td>\n",
       "      <td>1558.440706</td>\n",
       "      <td>45.101523</td>\n",
       "      <td>83.100226</td>\n",
       "      <td>89.193943</td>\n",
       "      <td>53.219103</td>\n",
       "      <td>49.092905</td>\n",
       "      <td>101.604526</td>\n",
       "      <td>349.962591</td>\n",
       "      <td>471.060033</td>\n",
       "    </tr>\n",
       "  </tbody>\n",
       "</table>\n",
       "<p>62305 rows × 49 columns</p>\n",
       "</div>"
      ],
      "text/plain": [
       "            mergeid  wave  year   age  nb_children  nb_grandchildren  \\\n",
       "0      AT-009262-01     4  2011  56.0          1.0               2.0   \n",
       "1      AT-009262-01     4  2011  56.0          1.0               2.0   \n",
       "2      AT-009262-01     4  2011  56.0          1.0               2.0   \n",
       "3      AT-009262-01     4  2011  56.0          1.0               2.0   \n",
       "4      AT-009262-01     4  2011  56.0          1.0               2.0   \n",
       "...             ...   ...   ...   ...          ...               ...   \n",
       "62300  SI-993306-01     6  2015  58.0          2.0               2.0   \n",
       "62301  SI-993306-01     6  2015  58.0          2.0               2.0   \n",
       "62302  SI-993306-01     6  2015  58.0          2.0               2.0   \n",
       "62303  SI-993306-01     6  2015  58.0          2.0               2.0   \n",
       "62304  SI-993306-01     6  2015  58.0          2.0               2.0   \n",
       "\n",
       "       partnerinhh               job_status  \\\n",
       "0                1            Self-employed   \n",
       "1                1            Self-employed   \n",
       "2                1            Self-employed   \n",
       "3                1            Self-employed   \n",
       "4                1            Self-employed   \n",
       "...            ...                      ...   \n",
       "62300            1  Private sector employee   \n",
       "62301            1  Private sector employee   \n",
       "62302            1  Private sector employee   \n",
       "62303            1  Private sector employee   \n",
       "62304            1  Private sector employee   \n",
       "\n",
       "                                   industry    thinc  ...  \\\n",
       "0                Wholesale and retail trade  29620.0  ...   \n",
       "1                Wholesale and retail trade  29620.0  ...   \n",
       "2                Wholesale and retail trade  29620.0  ...   \n",
       "3                Wholesale and retail trade  29620.0  ...   \n",
       "4                Wholesale and retail trade  29620.0  ...   \n",
       "...                                     ...      ...  ...   \n",
       "62300  Transport, storage and communication  11000.0  ...   \n",
       "62301  Transport, storage and communication  11000.0  ...   \n",
       "62302  Transport, storage and communication  11000.0  ...   \n",
       "62303  Transport, storage and communication  11000.0  ...   \n",
       "62304  Transport, storage and communication  11000.0  ...   \n",
       "\n",
       "       jqi_working_time_quality  jqi_monthly_earnings_weighted  \\\n",
       "0                     76.205645                     413.279438   \n",
       "1                     76.205645                     413.279438   \n",
       "2                     76.205645                     413.279438   \n",
       "3                     76.205645                     413.279438   \n",
       "4                     76.205645                     413.279438   \n",
       "...                         ...                            ...   \n",
       "62300                 84.966667                    1558.440706   \n",
       "62301                 84.966667                    1558.440706   \n",
       "62302                 84.966667                    1558.440706   \n",
       "62303                 84.966667                    1558.440706   \n",
       "62304                 84.966667                    1558.440706   \n",
       "\n",
       "       jqi_skills_discretion_weighted  jqi_social_environment_weighted  \\\n",
       "0                           24.372010                        37.764297   \n",
       "1                           24.372010                        37.764297   \n",
       "2                           24.372010                        37.764297   \n",
       "3                           24.372010                        37.764297   \n",
       "4                           24.372010                        37.764297   \n",
       "...                               ...                              ...   \n",
       "62300                       45.101523                        83.100226   \n",
       "62301                       45.101523                        83.100226   \n",
       "62302                       45.101523                        83.100226   \n",
       "62303                       45.101523                        83.100226   \n",
       "62304                       45.101523                        83.100226   \n",
       "\n",
       "       jqi_physical_environment_weighted  jqi_intensity_weighted  \\\n",
       "0                              51.406949               43.653205   \n",
       "1                              51.406949               43.653205   \n",
       "2                              51.406949               43.653205   \n",
       "3                              51.406949               43.653205   \n",
       "4                              51.406949               43.653205   \n",
       "...                                  ...                     ...   \n",
       "62300                          89.193943               53.219103   \n",
       "62301                          89.193943               53.219103   \n",
       "62302                          89.193943               53.219103   \n",
       "62303                          89.193943               53.219103   \n",
       "62304                          89.193943               53.219103   \n",
       "\n",
       "       jqi_prospects_weighted  jqi_working_time_quality_weighted     jqi_sum  \\\n",
       "0                   28.364955                          42.481878  429.722920   \n",
       "1                   28.364955                          42.481878  429.722920   \n",
       "2                   28.364955                          42.481878  429.722920   \n",
       "3                   28.364955                          42.481878  429.722920   \n",
       "4                   28.364955                          42.481878  429.722920   \n",
       "...                       ...                                ...         ...   \n",
       "62300               49.092905                         101.604526  349.962591   \n",
       "62301               49.092905                         101.604526  349.962591   \n",
       "62302               49.092905                         101.604526  349.962591   \n",
       "62303               49.092905                         101.604526  349.962591   \n",
       "62304               49.092905                         101.604526  349.962591   \n",
       "\n",
       "       jqi_sum_weighted  \n",
       "0            219.308017  \n",
       "1            219.308017  \n",
       "2            219.308017  \n",
       "3            219.308017  \n",
       "4            219.308017  \n",
       "...                 ...  \n",
       "62300        471.060033  \n",
       "62301        471.060033  \n",
       "62302        471.060033  \n",
       "62303        471.060033  \n",
       "62304        471.060033  \n",
       "\n",
       "[62305 rows x 49 columns]"
      ]
     },
     "execution_count": 38,
     "metadata": {},
     "output_type": "execute_result"
    }
   ],
   "source": [
    "df"
   ]
  },
  {
   "cell_type": "code",
   "execution_count": 39,
   "metadata": {},
   "outputs": [
    {
     "data": {
      "text/plain": [
       "6590"
      ]
     },
     "execution_count": 39,
     "metadata": {},
     "output_type": "execute_result"
    }
   ],
   "source": [
    "df.mergeid.nunique()"
   ]
  },
  {
   "cell_type": "code",
   "execution_count": 40,
   "metadata": {},
   "outputs": [
    {
     "data": {
      "text/plain": [
       "country\n",
       "Austria           389\n",
       "Belgium           803\n",
       "Czech Republic    524\n",
       "Denmark           514\n",
       "Estonia           788\n",
       "France            442\n",
       "Germany           816\n",
       "Italy             617\n",
       "Slovenia          374\n",
       "Spain             758\n",
       "Switzerland       565\n",
       "Name: mergeid, dtype: int64"
      ]
     },
     "execution_count": 40,
     "metadata": {},
     "output_type": "execute_result"
    }
   ],
   "source": [
    "df.groupby(\"country\").mergeid.nunique()"
   ]
  },
  {
   "cell_type": "code",
   "execution_count": 41,
   "metadata": {},
   "outputs": [
    {
     "data": {
      "text/plain": [
       "year\n",
       "2011    3574\n",
       "2013    4670\n",
       "2015    4217\n",
       "Name: mergeid, dtype: int64"
      ]
     },
     "execution_count": 41,
     "metadata": {},
     "output_type": "execute_result"
    }
   ],
   "source": [
    "df.groupby(\"year\").mergeid.nunique()"
   ]
  },
  {
   "cell_type": "code",
   "execution_count": 42,
   "metadata": {},
   "outputs": [],
   "source": [
    "df.to_csv(\n",
    "    \"/Users/alexandralugova/Documents/GitHub/MH-old-workers/data/datasets/results/4digits_w456_year.csv\",\n",
    "    index=False,\n",
    ")"
   ]
  },
  {
   "cell_type": "markdown",
   "metadata": {},
   "source": [
    "### Some descriptive stats"
   ]
  },
  {
   "cell_type": "code",
   "execution_count": 43,
   "metadata": {},
   "outputs": [
    {
     "data": {
      "text/html": [
       "<div>\n",
       "<style scoped>\n",
       "    .dataframe tbody tr th:only-of-type {\n",
       "        vertical-align: middle;\n",
       "    }\n",
       "\n",
       "    .dataframe tbody tr th {\n",
       "        vertical-align: top;\n",
       "    }\n",
       "\n",
       "    .dataframe thead th {\n",
       "        text-align: right;\n",
       "    }\n",
       "</style>\n",
       "<table border=\"1\" class=\"dataframe\">\n",
       "  <thead>\n",
       "    <tr style=\"text-align: right;\">\n",
       "      <th></th>\n",
       "      <th>age</th>\n",
       "      <th>gender</th>\n",
       "      <th>nb_children</th>\n",
       "      <th>yrseducation</th>\n",
       "    </tr>\n",
       "  </thead>\n",
       "  <tbody>\n",
       "    <tr>\n",
       "      <th>count</th>\n",
       "      <td>62305.00</td>\n",
       "      <td>62305.00</td>\n",
       "      <td>62305.00</td>\n",
       "      <td>62305.00</td>\n",
       "    </tr>\n",
       "    <tr>\n",
       "      <th>mean</th>\n",
       "      <td>56.42</td>\n",
       "      <td>0.53</td>\n",
       "      <td>1.77</td>\n",
       "      <td>12.61</td>\n",
       "    </tr>\n",
       "    <tr>\n",
       "      <th>std</th>\n",
       "      <td>3.14</td>\n",
       "      <td>0.50</td>\n",
       "      <td>1.27</td>\n",
       "      <td>4.58</td>\n",
       "    </tr>\n",
       "    <tr>\n",
       "      <th>min</th>\n",
       "      <td>50.00</td>\n",
       "      <td>0.00</td>\n",
       "      <td>0.00</td>\n",
       "      <td>0.00</td>\n",
       "    </tr>\n",
       "    <tr>\n",
       "      <th>25%</th>\n",
       "      <td>54.00</td>\n",
       "      <td>0.00</td>\n",
       "      <td>1.00</td>\n",
       "      <td>10.00</td>\n",
       "    </tr>\n",
       "    <tr>\n",
       "      <th>50%</th>\n",
       "      <td>56.00</td>\n",
       "      <td>1.00</td>\n",
       "      <td>2.00</td>\n",
       "      <td>13.00</td>\n",
       "    </tr>\n",
       "    <tr>\n",
       "      <th>75%</th>\n",
       "      <td>59.00</td>\n",
       "      <td>1.00</td>\n",
       "      <td>2.00</td>\n",
       "      <td>16.00</td>\n",
       "    </tr>\n",
       "    <tr>\n",
       "      <th>max</th>\n",
       "      <td>65.00</td>\n",
       "      <td>1.00</td>\n",
       "      <td>11.00</td>\n",
       "      <td>39.00</td>\n",
       "    </tr>\n",
       "  </tbody>\n",
       "</table>\n",
       "</div>"
      ],
      "text/plain": [
       "            age    gender  nb_children  yrseducation\n",
       "count  62305.00  62305.00     62305.00      62305.00\n",
       "mean      56.42      0.53         1.77         12.61\n",
       "std        3.14      0.50         1.27          4.58\n",
       "min       50.00      0.00         0.00          0.00\n",
       "25%       54.00      0.00         1.00         10.00\n",
       "50%       56.00      1.00         2.00         13.00\n",
       "75%       59.00      1.00         2.00         16.00\n",
       "max       65.00      1.00        11.00         39.00"
      ]
     },
     "execution_count": 43,
     "metadata": {},
     "output_type": "execute_result"
    }
   ],
   "source": [
    "round(df[[\"age\", \"gender\", \"nb_children\", \"yrseducation\"]].describe(), 2)"
   ]
  },
  {
   "cell_type": "code",
   "execution_count": 44,
   "metadata": {},
   "outputs": [
    {
     "data": {
      "image/png": "[encoded data removed]",
      "text/plain": [
       "<Figure size 700x500 with 4 Axes>"
      ]
     },
     "metadata": {},
     "output_type": "display_data"
    }
   ],
   "source": [
    "fig, axs = plt.subplots(2, 2, figsize=(7, 5))\n",
    "\n",
    "axs[0, 0].hist(df[\"age\"], bins=30, color=\"skyblue\", alpha=0.7)\n",
    "axs[0, 0].set_title(\"Age\")\n",
    "\n",
    "axs[0, 1].hist(df[\"gender\"], bins=30, color=\"salmon\", alpha=0.7)\n",
    "axs[0, 1].set_title(\"Gender\")\n",
    "\n",
    "axs[1, 0].hist(df[\"nb_children\"], bins=30, color=\"lightgreen\", alpha=0.7)\n",
    "axs[1, 0].set_title(\"Number of children\")\n",
    "\n",
    "axs[1, 1].hist(df[\"yrseducation\"], bins=30, color=\"gold\", alpha=0.7)\n",
    "axs[1, 1].set_title(\"Years of education\")\n",
    "\n",
    "plt.tight_layout()\n",
    "\n",
    "plt.show()"
   ]
  },
  {
   "cell_type": "code",
   "execution_count": 45,
   "metadata": {},
   "outputs": [
    {
     "data": {
      "text/plain": [
       "job_status\n",
       "Private sector employee    0.39\n",
       "Public sector employee     0.23\n",
       "Employee                   0.20\n",
       "Self-employed              0.13\n",
       "Civil servant              0.04\n",
       "Name: proportion, dtype: float64"
      ]
     },
     "execution_count": 45,
     "metadata": {},
     "output_type": "execute_result"
    }
   ],
   "source": [
    "round(df[\"job_status\"].value_counts(normalize=True), 2)"
   ]
  },
  {
   "cell_type": "code",
   "execution_count": 46,
   "metadata": {},
   "outputs": [
    {
     "data": {
      "text/html": [
       "<div>\n",
       "<style scoped>\n",
       "    .dataframe tbody tr th:only-of-type {\n",
       "        vertical-align: middle;\n",
       "    }\n",
       "\n",
       "    .dataframe tbody tr th {\n",
       "        vertical-align: top;\n",
       "    }\n",
       "\n",
       "    .dataframe thead th {\n",
       "        text-align: right;\n",
       "    }\n",
       "</style>\n",
       "<table border=\"1\" class=\"dataframe\">\n",
       "  <thead>\n",
       "    <tr style=\"text-align: right;\">\n",
       "      <th></th>\n",
       "      <th>yrscontribution</th>\n",
       "      <th>retirement_age</th>\n",
       "      <th>work_horizon</th>\n",
       "      <th>work_horizon_change</th>\n",
       "    </tr>\n",
       "  </thead>\n",
       "  <tbody>\n",
       "    <tr>\n",
       "      <th>count</th>\n",
       "      <td>62305.00</td>\n",
       "      <td>62305.00</td>\n",
       "      <td>62305.00</td>\n",
       "      <td>62305.00</td>\n",
       "    </tr>\n",
       "    <tr>\n",
       "      <th>mean</th>\n",
       "      <td>35.92</td>\n",
       "      <td>63.12</td>\n",
       "      <td>6.69</td>\n",
       "      <td>0.26</td>\n",
       "    </tr>\n",
       "    <tr>\n",
       "      <th>std</th>\n",
       "      <td>6.12</td>\n",
       "      <td>2.11</td>\n",
       "      <td>3.40</td>\n",
       "      <td>0.60</td>\n",
       "    </tr>\n",
       "    <tr>\n",
       "      <th>min</th>\n",
       "      <td>6.00</td>\n",
       "      <td>57.00</td>\n",
       "      <td>0.08</td>\n",
       "      <td>0.00</td>\n",
       "    </tr>\n",
       "    <tr>\n",
       "      <th>25%</th>\n",
       "      <td>33.00</td>\n",
       "      <td>62.00</td>\n",
       "      <td>4.00</td>\n",
       "      <td>0.00</td>\n",
       "    </tr>\n",
       "    <tr>\n",
       "      <th>50%</th>\n",
       "      <td>37.00</td>\n",
       "      <td>63.00</td>\n",
       "      <td>7.00</td>\n",
       "      <td>0.00</td>\n",
       "    </tr>\n",
       "    <tr>\n",
       "      <th>75%</th>\n",
       "      <td>40.00</td>\n",
       "      <td>65.00</td>\n",
       "      <td>9.00</td>\n",
       "      <td>0.08</td>\n",
       "    </tr>\n",
       "    <tr>\n",
       "      <th>max</th>\n",
       "      <td>55.00</td>\n",
       "      <td>68.00</td>\n",
       "      <td>17.00</td>\n",
       "      <td>4.00</td>\n",
       "    </tr>\n",
       "  </tbody>\n",
       "</table>\n",
       "</div>"
      ],
      "text/plain": [
       "       yrscontribution  retirement_age  work_horizon  work_horizon_change\n",
       "count         62305.00        62305.00      62305.00             62305.00\n",
       "mean             35.92           63.12          6.69                 0.26\n",
       "std               6.12            2.11          3.40                 0.60\n",
       "min               6.00           57.00          0.08                 0.00\n",
       "25%              33.00           62.00          4.00                 0.00\n",
       "50%              37.00           63.00          7.00                 0.00\n",
       "75%              40.00           65.00          9.00                 0.08\n",
       "max              55.00           68.00         17.00                 4.00"
      ]
     },
     "execution_count": 46,
     "metadata": {},
     "output_type": "execute_result"
    }
   ],
   "source": [
    "round(\n",
    "    df[\n",
    "        [\"yrscontribution\", \"retirement_age\", \"work_horizon\", \"work_horizon_change\"]\n",
    "    ].describe(),\n",
    "    2,\n",
    ")"
   ]
  },
  {
   "cell_type": "code",
   "execution_count": 47,
   "metadata": {},
   "outputs": [
    {
     "data": {
      "image/png": "[encoded data removed]",
      "text/plain": [
       "<Figure size 700x500 with 4 Axes>"
      ]
     },
     "metadata": {},
     "output_type": "display_data"
    }
   ],
   "source": [
    "fig, axs = plt.subplots(2, 2, figsize=(7, 5))\n",
    "\n",
    "axs[0, 0].hist(df[\"yrscontribution\"], bins=30, color=\"skyblue\", alpha=0.7)\n",
    "axs[0, 0].set_title(\"Years of contribution\")\n",
    "\n",
    "axs[0, 1].hist(df[\"retirement_age\"], bins=30, color=\"salmon\", alpha=0.7)\n",
    "axs[0, 1].set_title(\"Retirement age\")\n",
    "\n",
    "axs[1, 0].hist(df[\"work_horizon\"], bins=30, color=\"lightgreen\", alpha=0.7)\n",
    "axs[1, 0].set_title(\"Work horizon, years\")\n",
    "\n",
    "axs[1, 1].hist(df[\"work_horizon_change\"], bins=30, color=\"gold\", alpha=0.7)\n",
    "axs[1, 1].set_title(\"Work horizon change by reform\")\n",
    "\n",
    "plt.tight_layout()\n",
    "\n",
    "plt.show()"
   ]
  },
  {
   "cell_type": "code",
   "execution_count": 48,
   "metadata": {},
   "outputs": [
    {
     "data": {
      "text/plain": [
       "eurodcat\n",
       "0    0.81\n",
       "1    0.19\n",
       "Name: proportion, dtype: float64"
      ]
     },
     "execution_count": 48,
     "metadata": {},
     "output_type": "execute_result"
    }
   ],
   "source": [
    "round(df[\"eurodcat\"].value_counts(normalize=True), 2)"
   ]
  },
  {
   "cell_type": "code",
   "execution_count": 49,
   "metadata": {},
   "outputs": [
    {
     "data": {
      "text/plain": [
       "eurod\n",
       "0.0     16515\n",
       "1.0     15210\n",
       "2.0     11240\n",
       "3.0      7730\n",
       "4.0      5315\n",
       "5.0      3085\n",
       "6.0      1685\n",
       "7.0       855\n",
       "8.0       360\n",
       "9.0       225\n",
       "10.0       60\n",
       "11.0       20\n",
       "12.0        5\n",
       "Name: count, dtype: int64"
      ]
     },
     "execution_count": 49,
     "metadata": {},
     "output_type": "execute_result"
    }
   ],
   "source": [
    "df[\"eurod\"].value_counts()"
   ]
  },
  {
   "cell_type": "code",
   "execution_count": 50,
   "metadata": {},
   "outputs": [
    {
     "data": {
      "image/png": "[encoded data removed]",
      "text/plain": [
       "<Figure size 600x400 with 1 Axes>"
      ]
     },
     "metadata": {},
     "output_type": "display_data"
    }
   ],
   "source": [
    "plt.figure(figsize=(6, 4))\n",
    "plt.hist(df[\"eurod\"], bins=13, color=\"skyblue\", alpha=0.7)\n",
    "plt.title(\"EuroD scale score\")\n",
    "plt.xlabel(\"Values\")\n",
    "plt.ylabel(\"Frequency\")\n",
    "plt.grid(True)\n",
    "plt.show()"
   ]
  },
  {
   "cell_type": "code",
   "execution_count": 51,
   "metadata": {},
   "outputs": [
    {
     "data": {
      "text/html": [
       "<div>\n",
       "<style scoped>\n",
       "    .dataframe tbody tr th:only-of-type {\n",
       "        vertical-align: middle;\n",
       "    }\n",
       "\n",
       "    .dataframe tbody tr th {\n",
       "        vertical-align: top;\n",
       "    }\n",
       "\n",
       "    .dataframe thead th {\n",
       "        text-align: right;\n",
       "    }\n",
       "</style>\n",
       "<table border=\"1\" class=\"dataframe\">\n",
       "  <thead>\n",
       "    <tr style=\"text-align: right;\">\n",
       "      <th></th>\n",
       "      <th>jqi_monthly_earnings</th>\n",
       "      <th>jqi_skills_discretion</th>\n",
       "      <th>jqi_social_environment</th>\n",
       "      <th>jqi_physical_environment</th>\n",
       "      <th>jqi_intensity</th>\n",
       "      <th>jqi_prospects</th>\n",
       "      <th>jqi_working_time_quality</th>\n",
       "    </tr>\n",
       "  </thead>\n",
       "  <tbody>\n",
       "    <tr>\n",
       "      <th>count</th>\n",
       "      <td>62305.00</td>\n",
       "      <td>62305.00</td>\n",
       "      <td>62305.00</td>\n",
       "      <td>62305.00</td>\n",
       "      <td>62305.00</td>\n",
       "      <td>62305.00</td>\n",
       "      <td>62305.00</td>\n",
       "    </tr>\n",
       "    <tr>\n",
       "      <th>mean</th>\n",
       "      <td>1573.13</td>\n",
       "      <td>58.53</td>\n",
       "      <td>80.49</td>\n",
       "      <td>84.48</td>\n",
       "      <td>50.94</td>\n",
       "      <td>59.82</td>\n",
       "      <td>86.41</td>\n",
       "    </tr>\n",
       "    <tr>\n",
       "      <th>std</th>\n",
       "      <td>467.56</td>\n",
       "      <td>13.66</td>\n",
       "      <td>3.77</td>\n",
       "      <td>8.31</td>\n",
       "      <td>6.49</td>\n",
       "      <td>8.56</td>\n",
       "      <td>9.37</td>\n",
       "    </tr>\n",
       "    <tr>\n",
       "      <th>min</th>\n",
       "      <td>318.22</td>\n",
       "      <td>5.41</td>\n",
       "      <td>40.91</td>\n",
       "      <td>42.82</td>\n",
       "      <td>20.16</td>\n",
       "      <td>12.50</td>\n",
       "      <td>39.96</td>\n",
       "    </tr>\n",
       "    <tr>\n",
       "      <th>25%</th>\n",
       "      <td>1265.73</td>\n",
       "      <td>47.88</td>\n",
       "      <td>78.72</td>\n",
       "      <td>78.14</td>\n",
       "      <td>46.84</td>\n",
       "      <td>54.33</td>\n",
       "      <td>81.63</td>\n",
       "    </tr>\n",
       "    <tr>\n",
       "      <th>50%</th>\n",
       "      <td>1502.92</td>\n",
       "      <td>57.83</td>\n",
       "      <td>80.66</td>\n",
       "      <td>87.26</td>\n",
       "      <td>50.39</td>\n",
       "      <td>60.42</td>\n",
       "      <td>88.77</td>\n",
       "    </tr>\n",
       "    <tr>\n",
       "      <th>75%</th>\n",
       "      <td>1789.99</td>\n",
       "      <td>70.31</td>\n",
       "      <td>82.62</td>\n",
       "      <td>91.57</td>\n",
       "      <td>54.65</td>\n",
       "      <td>65.53</td>\n",
       "      <td>93.26</td>\n",
       "    </tr>\n",
       "    <tr>\n",
       "      <th>max</th>\n",
       "      <td>6766.63</td>\n",
       "      <td>89.61</td>\n",
       "      <td>100.00</td>\n",
       "      <td>98.90</td>\n",
       "      <td>88.37</td>\n",
       "      <td>87.50</td>\n",
       "      <td>100.00</td>\n",
       "    </tr>\n",
       "  </tbody>\n",
       "</table>\n",
       "</div>"
      ],
      "text/plain": [
       "       jqi_monthly_earnings  jqi_skills_discretion  jqi_social_environment  \\\n",
       "count              62305.00               62305.00                62305.00   \n",
       "mean                1573.13                  58.53                   80.49   \n",
       "std                  467.56                  13.66                    3.77   \n",
       "min                  318.22                   5.41                   40.91   \n",
       "25%                 1265.73                  47.88                   78.72   \n",
       "50%                 1502.92                  57.83                   80.66   \n",
       "75%                 1789.99                  70.31                   82.62   \n",
       "max                 6766.63                  89.61                  100.00   \n",
       "\n",
       "       jqi_physical_environment  jqi_intensity  jqi_prospects  \\\n",
       "count                  62305.00       62305.00       62305.00   \n",
       "mean                      84.48          50.94          59.82   \n",
       "std                        8.31           6.49           8.56   \n",
       "min                       42.82          20.16          12.50   \n",
       "25%                       78.14          46.84          54.33   \n",
       "50%                       87.26          50.39          60.42   \n",
       "75%                       91.57          54.65          65.53   \n",
       "max                       98.90          88.37          87.50   \n",
       "\n",
       "       jqi_working_time_quality  \n",
       "count                  62305.00  \n",
       "mean                      86.41  \n",
       "std                        9.37  \n",
       "min                       39.96  \n",
       "25%                       81.63  \n",
       "50%                       88.77  \n",
       "75%                       93.26  \n",
       "max                      100.00  "
      ]
     },
     "execution_count": 51,
     "metadata": {},
     "output_type": "execute_result"
    }
   ],
   "source": [
    "round(\n",
    "    df[\n",
    "        [\n",
    "            \"jqi_monthly_earnings\",\n",
    "            \"jqi_skills_discretion\",\n",
    "            \"jqi_social_environment\",\n",
    "            \"jqi_physical_environment\",\n",
    "            \"jqi_intensity\",\n",
    "            \"jqi_prospects\",\n",
    "            \"jqi_working_time_quality\",\n",
    "        ]\n",
    "    ].describe(),\n",
    "    2,\n",
    ")"
   ]
  },
  {
   "cell_type": "markdown",
   "metadata": {},
   "source": [
    "### Waves 4,5,6 common individuals"
   ]
  },
  {
   "cell_type": "code",
   "execution_count": 52,
   "metadata": {},
   "outputs": [
    {
     "data": {
      "text/plain": [
       "6590"
      ]
     },
     "execution_count": 52,
     "metadata": {},
     "output_type": "execute_result"
    }
   ],
   "source": [
    "df.mergeid.nunique()"
   ]
  },
  {
   "cell_type": "code",
   "execution_count": 53,
   "metadata": {},
   "outputs": [
    {
     "data": {
      "text/plain": [
       "1670"
      ]
     },
     "execution_count": 53,
     "metadata": {},
     "output_type": "execute_result"
    }
   ],
   "source": [
    "unique_mergeid_w4 = set(df[df.wave == 4][\"mergeid\"].unique())\n",
    "unique_mergeid_w5 = set(df[df.wave == 5][\"mergeid\"].unique())\n",
    "unique_mergeid_w6 = set(df[df.wave == 6][\"mergeid\"].unique())\n",
    "intersection_ids = unique_mergeid_w4.intersection(unique_mergeid_w5).intersection(\n",
    "    unique_mergeid_w6\n",
    ")\n",
    "len(intersection_ids)"
   ]
  },
  {
   "cell_type": "code",
   "execution_count": 54,
   "metadata": {},
   "outputs": [],
   "source": [
    "w456_common = df[df[\"mergeid\"].isin(intersection_ids)].reset_index(drop=True)"
   ]
  },
  {
   "cell_type": "markdown",
   "metadata": {},
   "source": [
    "isco = w456_common[\"isco\"].value_counts().to_frame().reset_index()\n",
    "isco = isco[isco[\"count\"] >= 10]\n",
    "w456_common = w456_common[w456_common[\"isco\"].isin(isco[\"isco\"].unique())].reset_index(\n",
    "    drop=True\n",
    ")"
   ]
  },
  {
   "cell_type": "code",
   "execution_count": 55,
   "metadata": {},
   "outputs": [
    {
     "data": {
      "text/plain": [
       "country\n",
       "Austria           127\n",
       "Belgium           225\n",
       "Czech Republic    126\n",
       "Denmark           152\n",
       "Estonia           278\n",
       "France            156\n",
       "Germany            24\n",
       "Italy             111\n",
       "Slovenia           74\n",
       "Spain             107\n",
       "Switzerland       290\n",
       "Name: mergeid, dtype: int64"
      ]
     },
     "execution_count": 55,
     "metadata": {},
     "output_type": "execute_result"
    }
   ],
   "source": [
    "w456_common.groupby(\"country\").mergeid.nunique()"
   ]
  },
  {
   "cell_type": "code",
   "execution_count": 56,
   "metadata": {},
   "outputs": [],
   "source": [
    "# Delete Germany as too few individuals\n",
    "w456_common = w456_common[w456_common.country != \"Germany\"].reset_index(drop=True)"
   ]
  },
  {
   "cell_type": "code",
   "execution_count": 57,
   "metadata": {},
   "outputs": [],
   "source": [
    "w456_common.to_csv(\n",
    "    \"/Users/alexandralugova/Documents/GitHub/MH-old-workers/data/datasets/results/4digits_w456_year_common.csv\",\n",
    "    index=False,\n",
    ")"
   ]
  },
  {
   "cell_type": "markdown",
   "metadata": {},
   "source": [
    "### Waves 4 and 6"
   ]
  },
  {
   "cell_type": "code",
   "execution_count": 58,
   "metadata": {},
   "outputs": [],
   "source": [
    "result = (\n",
    "    df[df[\"year\"].isin([2013, 2015])]\n",
    "    .groupby(\"mergeid\")[\"work_horizon_change\"]\n",
    "    .sum()\n",
    "    .reset_index()\n",
    ")\n",
    "result[\"year\"] = 2015\n",
    "\n",
    "df = df.drop(columns=\"work_horizon_change\")\n",
    "df = df.merge(result, on=[\"mergeid\", \"year\"], how=\"left\")\n",
    "\n",
    "df[\"work_horizon_change\"] = df[\"work_horizon_change\"].fillna(0)"
   ]
  },
  {
   "cell_type": "code",
   "execution_count": 59,
   "metadata": {},
   "outputs": [],
   "source": [
    "w46 = df[(df.wave == 4) | (df.wave == 6)].reset_index(drop=True)"
   ]
  },
  {
   "cell_type": "code",
   "execution_count": 60,
   "metadata": {},
   "outputs": [
    {
     "data": {
      "text/plain": [
       "5863"
      ]
     },
     "execution_count": 60,
     "metadata": {},
     "output_type": "execute_result"
    }
   ],
   "source": [
    "w46.mergeid.nunique()"
   ]
  },
  {
   "cell_type": "code",
   "execution_count": 61,
   "metadata": {},
   "outputs": [
    {
     "data": {
      "text/plain": [
       "country\n",
       "Austria           372\n",
       "Belgium           721\n",
       "Czech Republic    455\n",
       "Denmark           460\n",
       "Estonia           746\n",
       "France            425\n",
       "Germany           645\n",
       "Italy             537\n",
       "Slovenia          346\n",
       "Spain             600\n",
       "Switzerland       556\n",
       "Name: mergeid, dtype: int64"
      ]
     },
     "execution_count": 61,
     "metadata": {},
     "output_type": "execute_result"
    }
   ],
   "source": [
    "w46.groupby(\"country\").mergeid.nunique()"
   ]
  },
  {
   "cell_type": "code",
   "execution_count": 62,
   "metadata": {},
   "outputs": [
    {
     "data": {
      "text/plain": [
       "wave\n",
       "4    3574\n",
       "6    4217\n",
       "Name: mergeid, dtype: int64"
      ]
     },
     "execution_count": 62,
     "metadata": {},
     "output_type": "execute_result"
    }
   ],
   "source": [
    "w46.groupby(\"wave\").mergeid.nunique()"
   ]
  },
  {
   "cell_type": "code",
   "execution_count": 63,
   "metadata": {},
   "outputs": [],
   "source": [
    "w46.to_csv(\n",
    "    \"/Users/alexandralugova/Documents/GitHub/MH-old-workers/data/datasets/results/4digits_w46_year.csv\",\n",
    "    index=False,\n",
    ")"
   ]
  },
  {
   "cell_type": "markdown",
   "metadata": {},
   "source": [
    "### Waves 4 and 6 common individuals"
   ]
  },
  {
   "cell_type": "code",
   "execution_count": 64,
   "metadata": {},
   "outputs": [
    {
     "data": {
      "text/plain": [
       "1928"
      ]
     },
     "execution_count": 64,
     "metadata": {},
     "output_type": "execute_result"
    }
   ],
   "source": [
    "unique_mergeid_w4 = set(w46[w46.wave == 4][\"mergeid\"].unique())\n",
    "unique_mergeid_w6 = set(w46[w46.wave == 6][\"mergeid\"].unique())\n",
    "intersection_ids = unique_mergeid_w4.intersection(unique_mergeid_w6)\n",
    "len(intersection_ids)"
   ]
  },
  {
   "cell_type": "code",
   "execution_count": 65,
   "metadata": {},
   "outputs": [],
   "source": [
    "w46_common = w46[w46[\"mergeid\"].isin(intersection_ids)].reset_index(drop=True)"
   ]
  },
  {
   "cell_type": "code",
   "execution_count": 66,
   "metadata": {},
   "outputs": [
    {
     "data": {
      "text/plain": [
       "country\n",
       "Austria           149\n",
       "Belgium           267\n",
       "Czech Republic    155\n",
       "Denmark           163\n",
       "Estonia           316\n",
       "France            178\n",
       "Germany            27\n",
       "Italy             137\n",
       "Slovenia           91\n",
       "Spain             125\n",
       "Switzerland       320\n",
       "Name: mergeid, dtype: int64"
      ]
     },
     "execution_count": 66,
     "metadata": {},
     "output_type": "execute_result"
    }
   ],
   "source": [
    "w46_common.groupby(\"country\").mergeid.nunique()"
   ]
  },
  {
   "cell_type": "code",
   "execution_count": 67,
   "metadata": {},
   "outputs": [],
   "source": [
    "# Delete Germany as too few individuals\n",
    "w456_common = w456_common[w456_common.country != \"Germany\"].reset_index(drop=True)"
   ]
  },
  {
   "cell_type": "code",
   "execution_count": 68,
   "metadata": {},
   "outputs": [],
   "source": [
    "w46_common.to_csv(\n",
    "    \"/Users/alexandralugova/Documents/GitHub/MH-old-workers/data/datasets/results/4digits_w46_year_common.csv\",\n",
    "    index=False,\n",
    ")"
   ]
  }
 ],
 "metadata": {
  "kernelspec": {
   "display_name": "mhold",
   "language": "python",
   "name": "python3"
  },
  "language_info": {
   "codemirror_mode": {
    "name": "ipython",
    "version": 3
   },
   "file_extension": ".py",
   "mimetype": "text/x-python",
   "name": "python",
   "nbconvert_exporter": "python",
   "pygments_lexer": "ipython3",
   "version": "3.11.5"
  }
 },
 "nbformat": 4,
 "nbformat_minor": 2
}
