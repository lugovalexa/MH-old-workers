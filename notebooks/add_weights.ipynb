{
 "cells": [
  {
   "cell_type": "code",
   "execution_count": 5,
   "metadata": {},
   "outputs": [],
   "source": [
    "import os\n",
    "\n",
    "import pandas as pd"
   ]
  },
  {
   "cell_type": "code",
   "execution_count": 6,
   "metadata": {},
   "outputs": [],
   "source": [
    "folder_path = (\n",
    "    \"/Users/alexandralugova/Documents/GitHub/MH-old-workers/data/datasets/weights/\"\n",
    ")\n",
    "\n",
    "file_list = os.listdir(folder_path)\n",
    "\n",
    "dfs = []\n",
    "\n",
    "for file in file_list:\n",
    "    if file.endswith(\".dta\"):\n",
    "        file_path = os.path.join(folder_path, file)\n",
    "        df = pd.read_stata(file_path)\n",
    "        dfs.append(df)\n",
    "\n",
    "weights = pd.concat(dfs, ignore_index=True)"
   ]
  },
  {
   "cell_type": "code",
   "execution_count": 7,
   "metadata": {},
   "outputs": [],
   "source": [
    "folder_path = (\n",
    "    \"/Users/alexandralugova/Documents/GitHub/MH-old-workers/data/datasets/results/\"\n",
    ")\n",
    "\n",
    "file_list = os.listdir(folder_path)\n",
    "\n",
    "for file in file_list:\n",
    "    if file.startswith(\"3digits\") or file.startswith(\"4digits\"):\n",
    "        file_path = os.path.join(folder_path, file)\n",
    "        df = pd.read_csv(file_path)\n",
    "        df = df.merge(weights[[\"mergeid\", \"dw_w4\", \"my_wgt\"]], on=\"mergeid\", how=\"left\")\n",
    "        df = df.dropna(subset=\"my_wgt\").reset_index(drop=True)\n",
    "        df.to_csv(file_path, index=False)"
   ]
  }
 ],
 "metadata": {
  "kernelspec": {
   "display_name": "mhold",
   "language": "python",
   "name": "python3"
  },
  "language_info": {
   "codemirror_mode": {
    "name": "ipython",
    "version": 3
   },
   "file_extension": ".py",
   "mimetype": "text/x-python",
   "name": "python",
   "nbconvert_exporter": "python",
   "pygments_lexer": "ipython3",
   "version": "3.11.5"
  }
 },
 "nbformat": 4,
 "nbformat_minor": 2
}
