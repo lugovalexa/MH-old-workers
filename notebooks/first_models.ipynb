{
 "cells": [
  {
   "cell_type": "code",
   "execution_count": 12,
   "metadata": {},
   "outputs": [],
   "source": [
    "import numpy as np\n",
    "import pandas as pd\n",
    "import statsmodels.api as sm\n",
    "from linearmodels.panel import PanelOLS"
   ]
  },
  {
   "cell_type": "code",
   "execution_count": 13,
   "metadata": {},
   "outputs": [
    {
     "name": "stderr",
     "output_type": "stream",
     "text": [
      "/var/folders/ck/3npmnx597nb730qdy5w_6kp00000gn/T/ipykernel_25149/4066616281.py:1: DtypeWarning: Columns (5,22,48) have mixed types. Specify dtype option on import or set low_memory=False.\n",
      "  df = pd.read_csv(\n"
     ]
    }
   ],
   "source": [
    "df = pd.read_csv(\n",
    "    \"/Users/alexandralugova/Documents/GitHub/MH-old-workers/data/datasets/data_clean.csv\"\n",
    ").rename(columns={\"work_horizon_change\": \"whc\"})"
   ]
  },
  {
   "cell_type": "code",
   "execution_count": 14,
   "metadata": {},
   "outputs": [
    {
     "name": "stderr",
     "output_type": "stream",
     "text": [
      "/var/folders/ck/3npmnx597nb730qdy5w_6kp00000gn/T/ipykernel_25149/2343401198.py:15: SettingWithCopyWarning: \n",
      "A value is trying to be set on a copy of a slice from a DataFrame.\n",
      "Try using .loc[row_indexer,col_indexer] = value instead\n",
      "\n",
      "See the caveats in the documentation: https://pandas.pydata.org/pandas-docs/stable/user_guide/indexing.html#returning-a-view-versus-a-copy\n",
      "  df_wave0[\"post\"] = 0\n",
      "/var/folders/ck/3npmnx597nb730qdy5w_6kp00000gn/T/ipykernel_25149/2343401198.py:5: SettingWithCopyWarning: \n",
      "A value is trying to be set on a copy of a slice from a DataFrame.\n",
      "Try using .loc[row_indexer,col_indexer] = value instead\n",
      "\n",
      "See the caveats in the documentation: https://pandas.pydata.org/pandas-docs/stable/user_guide/indexing.html#returning-a-view-versus-a-copy\n",
      "  df_wave0[\"post\"] = 0\n",
      "/var/folders/ck/3npmnx597nb730qdy5w_6kp00000gn/T/ipykernel_25149/2343401198.py:8: SettingWithCopyWarning: \n",
      "A value is trying to be set on a copy of a slice from a DataFrame.\n",
      "Try using .loc[row_indexer,col_indexer] = value instead\n",
      "\n",
      "See the caveats in the documentation: https://pandas.pydata.org/pandas-docs/stable/user_guide/indexing.html#returning-a-view-versus-a-copy\n",
      "  df_wave1[\"post\"] = 1\n",
      "/var/folders/ck/3npmnx597nb730qdy5w_6kp00000gn/T/ipykernel_25149/2343401198.py:5: SettingWithCopyWarning: \n",
      "A value is trying to be set on a copy of a slice from a DataFrame.\n",
      "Try using .loc[row_indexer,col_indexer] = value instead\n",
      "\n",
      "See the caveats in the documentation: https://pandas.pydata.org/pandas-docs/stable/user_guide/indexing.html#returning-a-view-versus-a-copy\n",
      "  df_wave0[\"post\"] = 0\n",
      "/var/folders/ck/3npmnx597nb730qdy5w_6kp00000gn/T/ipykernel_25149/2343401198.py:8: SettingWithCopyWarning: \n",
      "A value is trying to be set on a copy of a slice from a DataFrame.\n",
      "Try using .loc[row_indexer,col_indexer] = value instead\n",
      "\n",
      "See the caveats in the documentation: https://pandas.pydata.org/pandas-docs/stable/user_guide/indexing.html#returning-a-view-versus-a-copy\n",
      "  df_wave1[\"post\"] = 1\n",
      "/var/folders/ck/3npmnx597nb730qdy5w_6kp00000gn/T/ipykernel_25149/2343401198.py:5: SettingWithCopyWarning: \n",
      "A value is trying to be set on a copy of a slice from a DataFrame.\n",
      "Try using .loc[row_indexer,col_indexer] = value instead\n",
      "\n",
      "See the caveats in the documentation: https://pandas.pydata.org/pandas-docs/stable/user_guide/indexing.html#returning-a-view-versus-a-copy\n",
      "  df_wave0[\"post\"] = 0\n",
      "/var/folders/ck/3npmnx597nb730qdy5w_6kp00000gn/T/ipykernel_25149/2343401198.py:8: SettingWithCopyWarning: \n",
      "A value is trying to be set on a copy of a slice from a DataFrame.\n",
      "Try using .loc[row_indexer,col_indexer] = value instead\n",
      "\n",
      "See the caveats in the documentation: https://pandas.pydata.org/pandas-docs/stable/user_guide/indexing.html#returning-a-view-versus-a-copy\n",
      "  df_wave1[\"post\"] = 1\n",
      "/var/folders/ck/3npmnx597nb730qdy5w_6kp00000gn/T/ipykernel_25149/2343401198.py:5: SettingWithCopyWarning: \n",
      "A value is trying to be set on a copy of a slice from a DataFrame.\n",
      "Try using .loc[row_indexer,col_indexer] = value instead\n",
      "\n",
      "See the caveats in the documentation: https://pandas.pydata.org/pandas-docs/stable/user_guide/indexing.html#returning-a-view-versus-a-copy\n",
      "  df_wave0[\"post\"] = 0\n",
      "/var/folders/ck/3npmnx597nb730qdy5w_6kp00000gn/T/ipykernel_25149/2343401198.py:8: SettingWithCopyWarning: \n",
      "A value is trying to be set on a copy of a slice from a DataFrame.\n",
      "Try using .loc[row_indexer,col_indexer] = value instead\n",
      "\n",
      "See the caveats in the documentation: https://pandas.pydata.org/pandas-docs/stable/user_guide/indexing.html#returning-a-view-versus-a-copy\n",
      "  df_wave1[\"post\"] = 1\n",
      "/var/folders/ck/3npmnx597nb730qdy5w_6kp00000gn/T/ipykernel_25149/2343401198.py:5: SettingWithCopyWarning: \n",
      "A value is trying to be set on a copy of a slice from a DataFrame.\n",
      "Try using .loc[row_indexer,col_indexer] = value instead\n",
      "\n",
      "See the caveats in the documentation: https://pandas.pydata.org/pandas-docs/stable/user_guide/indexing.html#returning-a-view-versus-a-copy\n",
      "  df_wave0[\"post\"] = 0\n",
      "/var/folders/ck/3npmnx597nb730qdy5w_6kp00000gn/T/ipykernel_25149/2343401198.py:8: SettingWithCopyWarning: \n",
      "A value is trying to be set on a copy of a slice from a DataFrame.\n",
      "Try using .loc[row_indexer,col_indexer] = value instead\n",
      "\n",
      "See the caveats in the documentation: https://pandas.pydata.org/pandas-docs/stable/user_guide/indexing.html#returning-a-view-versus-a-copy\n",
      "  df_wave1[\"post\"] = 1\n",
      "/var/folders/ck/3npmnx597nb730qdy5w_6kp00000gn/T/ipykernel_25149/2343401198.py:19: SettingWithCopyWarning: \n",
      "A value is trying to be set on a copy of a slice from a DataFrame.\n",
      "Try using .loc[row_indexer,col_indexer] = value instead\n",
      "\n",
      "See the caveats in the documentation: https://pandas.pydata.org/pandas-docs/stable/user_guide/indexing.html#returning-a-view-versus-a-copy\n",
      "  df_wave1[\"post\"] = 1\n"
     ]
    }
   ],
   "source": [
    "df_waves = []\n",
    "for w in df.wave.unique():\n",
    "    if w > 1 and w < 8:\n",
    "        df_wave0 = df[df.wave == w]\n",
    "        df_wave0[\"post\"] = 0\n",
    "\n",
    "        df_wave1 = df[df.wave == w]\n",
    "        df_wave1[\"post\"] = 1\n",
    "\n",
    "        df_waves.append(df_wave0)\n",
    "        df_waves.append(df_wave1)\n",
    "\n",
    "    elif w == 1:\n",
    "        df_wave0 = df[df.wave == w]\n",
    "        df_wave0[\"post\"] = 0\n",
    "        df_waves.append(df_wave0)\n",
    "    else:\n",
    "        df_wave1 = df[df.wave == w]\n",
    "        df_wave1[\"post\"] = 1\n",
    "        df_waves.append(df_wave1)\n",
    "\n",
    "df = pd.concat(df_waves, sort=False, axis=0).reset_index(drop=True)"
   ]
  },
  {
   "cell_type": "code",
   "execution_count": 15,
   "metadata": {},
   "outputs": [],
   "source": [
    "df[\"treated\"] = df[\"whc\"] > 0\n",
    "df[\"treated\"] = df[\"treated\"].astype(\"int\")\n",
    "\n",
    "df[\"treated_post\"] = df[\"treated\"] * df[\"post\"]"
   ]
  },
  {
   "cell_type": "code",
   "execution_count": 16,
   "metadata": {},
   "outputs": [],
   "source": [
    "df[\"treated0105\"] = (df[\"whc\"] > 0) & (df[\"whc\"] <= 0.5)\n",
    "df[\"treated0105_post\"] = df[\"treated0105\"] * df[\"post\"]\n",
    "\n",
    "df[\"treated0612\"] = (df[\"whc\"] > 0.5) & (df[\"whc\"] <= 1)\n",
    "df[\"treated0612_post\"] = df[\"treated0612\"] * df[\"post\"]\n",
    "\n",
    "df[\"treated13plus\"] = df[\"whc\"] > 1\n",
    "df[\"treated13plus_post\"] = df[\"treated13plus\"] * df[\"post\"]"
   ]
  },
  {
   "cell_type": "code",
   "execution_count": 17,
   "metadata": {},
   "outputs": [],
   "source": [
    "df[\"block\"] = 0\n",
    "\n",
    "conditions = [\n",
    "    (df[\"wave\"] == 1) | ((df[\"wave\"] == 2) & (df[\"post\"] == 1)),\n",
    "    ((df[\"wave\"] == 2) & (df[\"post\"] == 0)) | ((df[\"wave\"] == 4) & (df[\"post\"] == 1)),\n",
    "    ((df[\"wave\"] == 4) & (df[\"post\"] == 0)) | ((df[\"wave\"] == 5) & (df[\"post\"] == 1)),\n",
    "    ((df[\"wave\"] == 5) & (df[\"post\"] == 0)) | ((df[\"wave\"] == 6) & (df[\"post\"] == 1)),\n",
    "    ((df[\"wave\"] == 6) & (df[\"post\"] == 0)) | ((df[\"wave\"] == 7) & (df[\"post\"] == 1)),\n",
    "    ((df[\"wave\"] == 7) & (df[\"post\"] == 0)) | (df[\"wave\"] == 8),\n",
    "]\n",
    "\n",
    "values = [1, 2, 3, 4, 5, 6]\n",
    "\n",
    "df[\"block\"] = np.select(conditions, values)"
   ]
  },
  {
   "cell_type": "code",
   "execution_count": 18,
   "metadata": {},
   "outputs": [
    {
     "data": {
      "text/plain": [
       "block\n",
       "1    5681\n",
       "2    9310\n",
       "3    6932\n",
       "4    6787\n",
       "5    6617\n",
       "6    3260\n",
       "Name: mergeid, dtype: int64"
      ]
     },
     "execution_count": 18,
     "metadata": {},
     "output_type": "execute_result"
    }
   ],
   "source": [
    "df.groupby(\"block\").mergeid.nunique()"
   ]
  },
  {
   "cell_type": "code",
   "execution_count": 22,
   "metadata": {},
   "outputs": [
    {
     "data": {
      "text/plain": [
       "count\n",
       "2        25635\n",
       "1         7552\n",
       "4         3174\n",
       "3         2226\n",
       "Name: count, dtype: int64"
      ]
     },
     "execution_count": 22,
     "metadata": {},
     "output_type": "execute_result"
    }
   ],
   "source": [
    "df.groupby(\"block\")[\"mergeid\"].value_counts().to_frame().value_counts()"
   ]
  },
  {
   "cell_type": "code",
   "execution_count": 9,
   "metadata": {},
   "outputs": [],
   "source": [
    "df[\"mergeid_count\"] = df.groupby(\"block\")[\"mergeid\"].transform(\"count\")\n",
    "\n",
    "df = df[df[\"mergeid_count\"] == 2].copy()"
   ]
  },
  {
   "cell_type": "code",
   "execution_count": 11,
   "metadata": {},
   "outputs": [
    {
     "data": {
      "text/html": [
       "<div>\n",
       "<style scoped>\n",
       "    .dataframe tbody tr th:only-of-type {\n",
       "        vertical-align: middle;\n",
       "    }\n",
       "\n",
       "    .dataframe tbody tr th {\n",
       "        vertical-align: top;\n",
       "    }\n",
       "\n",
       "    .dataframe thead th {\n",
       "        text-align: right;\n",
       "    }\n",
       "</style>\n",
       "<table border=\"1\" class=\"dataframe\">\n",
       "  <thead>\n",
       "    <tr style=\"text-align: right;\">\n",
       "      <th></th>\n",
       "      <th>mergeid</th>\n",
       "      <th>wave</th>\n",
       "      <th>country</th>\n",
       "      <th>dn002_</th>\n",
       "      <th>dn003_</th>\n",
       "      <th>dn006_</th>\n",
       "      <th>dn042_</th>\n",
       "      <th>ch001_</th>\n",
       "      <th>ep005_</th>\n",
       "      <th>ep009_</th>\n",
       "      <th>...</th>\n",
       "      <th>treated</th>\n",
       "      <th>treated_post</th>\n",
       "      <th>treated0105</th>\n",
       "      <th>treated0105_post</th>\n",
       "      <th>treated0612</th>\n",
       "      <th>treated0612_post</th>\n",
       "      <th>treated13plus</th>\n",
       "      <th>treated13plus_post</th>\n",
       "      <th>block</th>\n",
       "      <th>mergeid_count</th>\n",
       "    </tr>\n",
       "  </thead>\n",
       "  <tbody>\n",
       "  </tbody>\n",
       "</table>\n",
       "<p>0 rows × 75 columns</p>\n",
       "</div>"
      ],
      "text/plain": [
       "Empty DataFrame\n",
       "Columns: [mergeid, wave, country, dn002_, dn003_, dn006_, dn042_, ch001_, ep005_, ep009_, ep026_, ep027_, ep028_, ep029_, ep030_, ep031_, ep032_, ep033_, ep034_, ep035_, ep036_, ep037_, ep071dno, ep671dno, euro1, euro2, euro3, euro4, euro5, euro6, euro7, euro8, euro9, euro10, euro11, euro12, eurod, eurodcat, wave_couple, yrsurvey, yrbirth, age, employment, yrscontribution, yr1contribution, gender, nb_children, mbirth, yr1country, job_status, retirement_age, work_horizon, whc, affective_suffering, motivation_lack, job_demands, job_control, job_passive, job_active, job_high_strain, job_low_strain, job_poor_recognition, job_poor_prospects, job_insecurity, post, treated, treated_post, treated0105, treated0105_post, treated0612, treated0612_post, treated13plus, treated13plus_post, block, mergeid_count]\n",
       "Index: []\n",
       "\n",
       "[0 rows x 75 columns]"
      ]
     },
     "execution_count": 11,
     "metadata": {},
     "output_type": "execute_result"
    }
   ],
   "source": [
    "df"
   ]
  },
  {
   "cell_type": "code",
   "execution_count": 10,
   "metadata": {},
   "outputs": [
    {
     "data": {
      "text/plain": [
       "Series([], Name: mergeid, dtype: int64)"
      ]
     },
     "execution_count": 10,
     "metadata": {},
     "output_type": "execute_result"
    }
   ],
   "source": [
    "df.groupby(\"block\").mergeid.nunique()"
   ]
  },
  {
   "cell_type": "code",
   "execution_count": 9,
   "metadata": {},
   "outputs": [
    {
     "ename": "ValueError",
     "evalue": "endog must be in the unit interval.",
     "output_type": "error",
     "traceback": [
      "\u001b[0;31m---------------------------------------------------------------------------\u001b[0m",
      "\u001b[0;31mValueError\u001b[0m                                Traceback (most recent call last)",
      "\u001b[1;32m/Users/alexandralugova/Documents/GitHub/MH-old-workers/notebooks/first_models.ipynb Cell 9\u001b[0m line \u001b[0;36m6\n\u001b[1;32m      <a href='vscode-notebook-cell:/Users/alexandralugova/Documents/GitHub/MH-old-workers/notebooks/first_models.ipynb#X25sZmlsZQ%3D%3D?line=2'>3</a>\u001b[0m linear_results \u001b[39m=\u001b[39m linear_model\u001b[39m.\u001b[39mfit()\n\u001b[1;32m      <a href='vscode-notebook-cell:/Users/alexandralugova/Documents/GitHub/MH-old-workers/notebooks/first_models.ipynb#X25sZmlsZQ%3D%3D?line=4'>5</a>\u001b[0m \u001b[39m# Binary treatment specification\u001b[39;00m\n\u001b[0;32m----> <a href='vscode-notebook-cell:/Users/alexandralugova/Documents/GitHub/MH-old-workers/notebooks/first_models.ipynb#X25sZmlsZQ%3D%3D?line=5'>6</a>\u001b[0m binary_model \u001b[39m=\u001b[39m sm\u001b[39m.\u001b[39;49mLogit\u001b[39m.\u001b[39;49mfrom_formula(\u001b[39m'\u001b[39;49m\u001b[39meurod ~ post + treated + treated:post + C(block) + C(job_demands):C(block)\u001b[39;49m\u001b[39m'\u001b[39;49m, data\u001b[39m=\u001b[39;49mdf_models)\n\u001b[1;32m      <a href='vscode-notebook-cell:/Users/alexandralugova/Documents/GitHub/MH-old-workers/notebooks/first_models.ipynb#X25sZmlsZQ%3D%3D?line=6'>7</a>\u001b[0m binary_results \u001b[39m=\u001b[39m binary_model\u001b[39m.\u001b[39mfit()\n\u001b[1;32m      <a href='vscode-notebook-cell:/Users/alexandralugova/Documents/GitHub/MH-old-workers/notebooks/first_models.ipynb#X25sZmlsZQ%3D%3D?line=8'>9</a>\u001b[0m \u001b[39m# Non-linear specification\u001b[39;00m\n",
      "File \u001b[0;32m~/miniconda3/envs/mhold/lib/python3.11/site-packages/statsmodels/base/model.py:229\u001b[0m, in \u001b[0;36mModel.from_formula\u001b[0;34m(cls, formula, data, subset, drop_cols, *args, **kwargs)\u001b[0m\n\u001b[1;32m    223\u001b[0m         design_info \u001b[39m=\u001b[39m design_info\u001b[39m.\u001b[39msubset(cols)\n\u001b[1;32m    225\u001b[0m kwargs\u001b[39m.\u001b[39mupdate({\u001b[39m'\u001b[39m\u001b[39mmissing_idx\u001b[39m\u001b[39m'\u001b[39m: missing_idx,\n\u001b[1;32m    226\u001b[0m                \u001b[39m'\u001b[39m\u001b[39mmissing\u001b[39m\u001b[39m'\u001b[39m: missing,\n\u001b[1;32m    227\u001b[0m                \u001b[39m'\u001b[39m\u001b[39mformula\u001b[39m\u001b[39m'\u001b[39m: formula,  \u001b[39m# attach formula for unpckling\u001b[39;00m\n\u001b[1;32m    228\u001b[0m                \u001b[39m'\u001b[39m\u001b[39mdesign_info\u001b[39m\u001b[39m'\u001b[39m: design_info})\n\u001b[0;32m--> 229\u001b[0m mod \u001b[39m=\u001b[39m \u001b[39mcls\u001b[39;49m(endog, exog, \u001b[39m*\u001b[39;49margs, \u001b[39m*\u001b[39;49m\u001b[39m*\u001b[39;49mkwargs)\n\u001b[1;32m    230\u001b[0m mod\u001b[39m.\u001b[39mformula \u001b[39m=\u001b[39m formula\n\u001b[1;32m    231\u001b[0m \u001b[39m# since we got a dataframe, attach the original\u001b[39;00m\n",
      "File \u001b[0;32m~/miniconda3/envs/mhold/lib/python3.11/site-packages/statsmodels/discrete/discrete_model.py:479\u001b[0m, in \u001b[0;36mBinaryModel.__init__\u001b[0;34m(self, endog, exog, offset, check_rank, **kwargs)\u001b[0m\n\u001b[1;32m    477\u001b[0m \u001b[39mif\u001b[39;00m \u001b[39mnot\u001b[39;00m \u001b[39missubclass\u001b[39m(\u001b[39mself\u001b[39m\u001b[39m.\u001b[39m\u001b[39m__class__\u001b[39m, MultinomialModel):\n\u001b[1;32m    478\u001b[0m     \u001b[39mif\u001b[39;00m \u001b[39mnot\u001b[39;00m np\u001b[39m.\u001b[39mall((\u001b[39mself\u001b[39m\u001b[39m.\u001b[39mendog \u001b[39m>\u001b[39m\u001b[39m=\u001b[39m \u001b[39m0\u001b[39m) \u001b[39m&\u001b[39m (\u001b[39mself\u001b[39m\u001b[39m.\u001b[39mendog \u001b[39m<\u001b[39m\u001b[39m=\u001b[39m \u001b[39m1\u001b[39m)):\n\u001b[0;32m--> 479\u001b[0m         \u001b[39mraise\u001b[39;00m \u001b[39mValueError\u001b[39;00m(\u001b[39m\"\u001b[39m\u001b[39mendog must be in the unit interval.\u001b[39m\u001b[39m\"\u001b[39m)\n\u001b[1;32m    481\u001b[0m \u001b[39mif\u001b[39;00m offset \u001b[39mis\u001b[39;00m \u001b[39mNone\u001b[39;00m:\n\u001b[1;32m    482\u001b[0m     \u001b[39mdelattr\u001b[39m(\u001b[39mself\u001b[39m, \u001b[39m'\u001b[39m\u001b[39moffset\u001b[39m\u001b[39m'\u001b[39m)\n",
      "\u001b[0;31mValueError\u001b[0m: endog must be in the unit interval."
     ]
    }
   ],
   "source": [
    "# Linear specification\n",
    "linear_model = sm.OLS.from_formula(\n",
    "    \"eurod ~ post + whc + whc:post + C(block) + C(job_demands):C(block)\", data=df_models\n",
    ")\n",
    "linear_results = linear_model.fit()\n",
    "\n",
    "# Binary treatment specification\n",
    "binary_model = sm.Logit.from_formula(\n",
    "    \"eurod ~ post + treated + treated:post + C(block) + C(job_demands):C(block)\",\n",
    "    data=df_models,\n",
    ")\n",
    "binary_results = binary_model.fit()\n",
    "\n",
    "# Non-linear specification\n",
    "nonlinear_model = sm.OLS.from_formula(\n",
    "    \"eurod ~ post + treated0105 + treated0105:post + treated0612 + treated0612:post +  treated13plus + treated13plus:post + C(block) + C(job_demands):C(block)\",\n",
    "    data=df_models,\n",
    ")\n",
    "nonlinear_results = nonlinear_model.fit()"
   ]
  },
  {
   "cell_type": "code",
   "execution_count": null,
   "metadata": {},
   "outputs": [],
   "source": [
    "fixed_effects = pd.get_dummies(df_models[\"gender\"], drop_first=True)"
   ]
  },
  {
   "cell_type": "code",
   "execution_count": null,
   "metadata": {},
   "outputs": [],
   "source": [
    "df_models = pd.concat([df_models, fixed_effects], axis=1)"
   ]
  },
  {
   "cell_type": "code",
   "execution_count": null,
   "metadata": {},
   "outputs": [],
   "source": [
    "df_models[\"Male\"] = df_models[\"Male\"].astype(\"int\")"
   ]
  },
  {
   "cell_type": "code",
   "execution_count": null,
   "metadata": {},
   "outputs": [
    {
     "name": "stdout",
     "output_type": "stream",
     "text": [
      "                            OLS Regression Results                            \n",
      "==============================================================================\n",
      "Dep. Variable:                  eurod   R-squared:                       0.082\n",
      "Model:                            OLS   Adj. R-squared:                  0.082\n",
      "Method:                 Least Squares   F-statistic:                     636.6\n",
      "Date:                Fri, 10 Nov 2023   Prob (F-statistic):               0.00\n",
      "Time:                        11:12:27   Log-Likelihood:            -1.5667e+05\n",
      "No. Observations:               78196   AIC:                         3.134e+05\n",
      "Df Residuals:                   78184   BIC:                         3.135e+05\n",
      "Df Model:                          11                                         \n",
      "Covariance Type:            nonrobust                                         \n",
      "========================================================================================\n",
      "                           coef    std err          t      P>|t|      [0.025      0.975]\n",
      "----------------------------------------------------------------------------------------\n",
      "const                -1.077e+09   2.38e+10     -0.045      0.964   -4.76e+10    4.55e+10\n",
      "treated                  0.1888      0.020      9.483      0.000       0.150       0.228\n",
      "post                     0.0012      0.016      0.079      0.937      -0.029       0.032\n",
      "treated_post            -0.0200      0.028     -0.727      0.467      -0.074       0.034\n",
      "Male                    -0.6911      0.013    -53.580      0.000      -0.716      -0.666\n",
      "job_passive           1.077e+09   2.38e+10      0.045      0.964   -4.55e+10    4.76e+10\n",
      "job_active            1.077e+09   2.38e+10      0.045      0.964   -4.55e+10    4.76e+10\n",
      "job_high_strain       1.077e+09   2.38e+10      0.045      0.964   -4.55e+10    4.76e+10\n",
      "job_low_strain        1.077e+09   2.38e+10      0.045      0.964   -4.55e+10    4.76e+10\n",
      "job_poor_recognition     0.3778      0.014     27.761      0.000       0.351       0.405\n",
      "job_poor_prospects       0.2387      0.015     15.568      0.000       0.209       0.269\n",
      "job_insecurity           0.2430      0.016     15.079      0.000       0.211       0.275\n",
      "==============================================================================\n",
      "Omnibus:                    12403.018   Durbin-Watson:                   1.066\n",
      "Prob(Omnibus):                  0.000   Jarque-Bera (JB):            20290.404\n",
      "Skew:                           1.079   Prob(JB):                         0.00\n",
      "Kurtosis:                       4.254   Cond. No.                     1.28e+13\n",
      "==============================================================================\n",
      "\n",
      "Notes:\n",
      "[1] Standard Errors assume that the covariance matrix of the errors is correctly specified.\n",
      "[2] The smallest eigenvalue is 1.14e-21. This might indicate that there are\n",
      "strong multicollinearity problems or that the design matrix is singular.\n"
     ]
    }
   ],
   "source": [
    "model = sm.OLS(\n",
    "    df_models[\"eurod\"],\n",
    "    sm.add_constant(\n",
    "        df_models[\n",
    "            [\n",
    "                \"treated\",\n",
    "                \"post\",\n",
    "                \"treated_post\",\n",
    "                \"Male\",\n",
    "                \"job_passive\",\n",
    "                \"job_active\",\n",
    "                \"job_high_strain\",\n",
    "                \"job_low_strain\",\n",
    "                \"job_poor_recognition\",\n",
    "                \"job_poor_prospects\",\n",
    "                \"job_insecurity\",\n",
    "            ]\n",
    "        ]\n",
    "    ),\n",
    ")\n",
    "\n",
    "# Fit the model\n",
    "result = model.fit()\n",
    "\n",
    "# Print the results\n",
    "print(result.summary())"
   ]
  },
  {
   "cell_type": "code",
   "execution_count": null,
   "metadata": {},
   "outputs": [],
   "source": []
  }
 ],
 "metadata": {
  "kernelspec": {
   "display_name": "mhold",
   "language": "python",
   "name": "python3"
  },
  "language_info": {
   "codemirror_mode": {
    "name": "ipython",
    "version": 3
   },
   "file_extension": ".py",
   "mimetype": "text/x-python",
   "name": "python",
   "nbconvert_exporter": "python",
   "pygments_lexer": "ipython3",
   "version": "3.11.5"
  }
 },
 "nbformat": 4,
 "nbformat_minor": 2
}
