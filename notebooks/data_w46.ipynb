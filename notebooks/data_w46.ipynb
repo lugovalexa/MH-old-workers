{
 "cells": [
  {
   "cell_type": "markdown",
   "metadata": {},
   "source": [
    "## Creating the dataset"
   ]
  },
  {
   "cell_type": "markdown",
   "metadata": {},
   "source": [
    "### Load libraries"
   ]
  },
  {
   "cell_type": "code",
   "execution_count": 1,
   "metadata": {},
   "outputs": [],
   "source": [
    "import os\n",
    "import sys\n",
    "\n",
    "src_path = os.path.abspath(\"../\")\n",
    "sys.path.append(src_path)\n",
    "\n",
    "from functools import reduce\n",
    "\n",
    "import numpy as np\n",
    "import pandas as pd\n",
    "from factor_analyzer import FactorAnalyzer\n",
    "from scipy.linalg import eigh\n",
    "\n",
    "from utils.retirement import *"
   ]
  },
  {
   "cell_type": "markdown",
   "metadata": {},
   "source": [
    "### Load and merge all needed datasets"
   ]
  },
  {
   "cell_type": "code",
   "execution_count": 2,
   "metadata": {},
   "outputs": [
    {
     "name": "stderr",
     "output_type": "stream",
     "text": [
      "/var/folders/ck/3npmnx597nb730qdy5w_6kp00000gn/T/ipykernel_48160/122139650.py:42: FutureWarning: The behavior of DataFrame concatenation with empty or all-NA entries is deprecated. In a future version, this will no longer exclude empty or all-NA columns when determining the result dtypes. To retain the old behavior, exclude the relevant entries before the concat operation.\n",
      "  df = pd.concat(datasets, sort=False, axis=0).reset_index(drop=True)\n",
      "/var/folders/ck/3npmnx597nb730qdy5w_6kp00000gn/T/ipykernel_48160/122139650.py:42: FutureWarning: The behavior of DataFrame concatenation with empty or all-NA entries is deprecated. In a future version, this will no longer exclude empty or all-NA columns when determining the result dtypes. To retain the old behavior, exclude the relevant entries before the concat operation.\n",
      "  df = pd.concat(datasets, sort=False, axis=0).reset_index(drop=True)\n",
      "/var/folders/ck/3npmnx597nb730qdy5w_6kp00000gn/T/ipykernel_48160/122139650.py:42: FutureWarning: The behavior of DataFrame concatenation with empty or all-NA entries is deprecated. In a future version, this will no longer exclude empty or all-NA columns when determining the result dtypes. To retain the old behavior, exclude the relevant entries before the concat operation.\n",
      "  df = pd.concat(datasets, sort=False, axis=0).reset_index(drop=True)\n",
      "/var/folders/ck/3npmnx597nb730qdy5w_6kp00000gn/T/ipykernel_48160/122139650.py:42: FutureWarning: The behavior of DataFrame concatenation with empty or all-NA entries is deprecated. In a future version, this will no longer exclude empty or all-NA columns when determining the result dtypes. To retain the old behavior, exclude the relevant entries before the concat operation.\n",
      "  df = pd.concat(datasets, sort=False, axis=0).reset_index(drop=True)\n",
      "/var/folders/ck/3npmnx597nb730qdy5w_6kp00000gn/T/ipykernel_48160/122139650.py:42: FutureWarning: The behavior of DataFrame concatenation with empty or all-NA entries is deprecated. In a future version, this will no longer exclude empty or all-NA columns when determining the result dtypes. To retain the old behavior, exclude the relevant entries before the concat operation.\n",
      "  df = pd.concat(datasets, sort=False, axis=0).reset_index(drop=True)\n",
      "/var/folders/ck/3npmnx597nb730qdy5w_6kp00000gn/T/ipykernel_48160/122139650.py:42: FutureWarning: The behavior of DataFrame concatenation with empty or all-NA entries is deprecated. In a future version, this will no longer exclude empty or all-NA columns when determining the result dtypes. To retain the old behavior, exclude the relevant entries before the concat operation.\n",
      "  df = pd.concat(datasets, sort=False, axis=0).reset_index(drop=True)\n",
      "/var/folders/ck/3npmnx597nb730qdy5w_6kp00000gn/T/ipykernel_48160/122139650.py:42: FutureWarning: The behavior of DataFrame concatenation with empty or all-NA entries is deprecated. In a future version, this will no longer exclude empty or all-NA columns when determining the result dtypes. To retain the old behavior, exclude the relevant entries before the concat operation.\n",
      "  df = pd.concat(datasets, sort=False, axis=0).reset_index(drop=True)\n",
      "/var/folders/ck/3npmnx597nb730qdy5w_6kp00000gn/T/ipykernel_48160/122139650.py:42: FutureWarning: The behavior of DataFrame concatenation with empty or all-NA entries is deprecated. In a future version, this will no longer exclude empty or all-NA columns when determining the result dtypes. To retain the old behavior, exclude the relevant entries before the concat operation.\n",
      "  df = pd.concat(datasets, sort=False, axis=0).reset_index(drop=True)\n",
      "/var/folders/ck/3npmnx597nb730qdy5w_6kp00000gn/T/ipykernel_48160/122139650.py:42: FutureWarning: The behavior of DataFrame concatenation with empty or all-NA entries is deprecated. In a future version, this will no longer exclude empty or all-NA columns when determining the result dtypes. To retain the old behavior, exclude the relevant entries before the concat operation.\n",
      "  df = pd.concat(datasets, sort=False, axis=0).reset_index(drop=True)\n",
      "/var/folders/ck/3npmnx597nb730qdy5w_6kp00000gn/T/ipykernel_48160/122139650.py:42: FutureWarning: The behavior of DataFrame concatenation with empty or all-NA entries is deprecated. In a future version, this will no longer exclude empty or all-NA columns when determining the result dtypes. To retain the old behavior, exclude the relevant entries before the concat operation.\n",
      "  df = pd.concat(datasets, sort=False, axis=0).reset_index(drop=True)\n",
      "/var/folders/ck/3npmnx597nb730qdy5w_6kp00000gn/T/ipykernel_48160/122139650.py:42: FutureWarning: The behavior of DataFrame concatenation with empty or all-NA entries is deprecated. In a future version, this will no longer exclude empty or all-NA columns when determining the result dtypes. To retain the old behavior, exclude the relevant entries before the concat operation.\n",
      "  df = pd.concat(datasets, sort=False, axis=0).reset_index(drop=True)\n",
      "/var/folders/ck/3npmnx597nb730qdy5w_6kp00000gn/T/ipykernel_48160/122139650.py:42: FutureWarning: The behavior of DataFrame concatenation with empty or all-NA entries is deprecated. In a future version, this will no longer exclude empty or all-NA columns when determining the result dtypes. To retain the old behavior, exclude the relevant entries before the concat operation.\n",
      "  df = pd.concat(datasets, sort=False, axis=0).reset_index(drop=True)\n",
      "/var/folders/ck/3npmnx597nb730qdy5w_6kp00000gn/T/ipykernel_48160/122139650.py:42: FutureWarning: The behavior of DataFrame concatenation with empty or all-NA entries is deprecated. In a future version, this will no longer exclude empty or all-NA columns when determining the result dtypes. To retain the old behavior, exclude the relevant entries before the concat operation.\n",
      "  df = pd.concat(datasets, sort=False, axis=0).reset_index(drop=True)\n",
      "/var/folders/ck/3npmnx597nb730qdy5w_6kp00000gn/T/ipykernel_48160/122139650.py:42: FutureWarning: The behavior of DataFrame concatenation with empty or all-NA entries is deprecated. In a future version, this will no longer exclude empty or all-NA columns when determining the result dtypes. To retain the old behavior, exclude the relevant entries before the concat operation.\n",
      "  df = pd.concat(datasets, sort=False, axis=0).reset_index(drop=True)\n",
      "/var/folders/ck/3npmnx597nb730qdy5w_6kp00000gn/T/ipykernel_48160/122139650.py:42: FutureWarning: The behavior of DataFrame concatenation with empty or all-NA entries is deprecated. In a future version, this will no longer exclude empty or all-NA columns when determining the result dtypes. To retain the old behavior, exclude the relevant entries before the concat operation.\n",
      "  df = pd.concat(datasets, sort=False, axis=0).reset_index(drop=True)\n",
      "/var/folders/ck/3npmnx597nb730qdy5w_6kp00000gn/T/ipykernel_48160/122139650.py:42: FutureWarning: The behavior of DataFrame concatenation with empty or all-NA entries is deprecated. In a future version, this will no longer exclude empty or all-NA columns when determining the result dtypes. To retain the old behavior, exclude the relevant entries before the concat operation.\n",
      "  df = pd.concat(datasets, sort=False, axis=0).reset_index(drop=True)\n",
      "/var/folders/ck/3npmnx597nb730qdy5w_6kp00000gn/T/ipykernel_48160/122139650.py:42: FutureWarning: The behavior of DataFrame concatenation with empty or all-NA entries is deprecated. In a future version, this will no longer exclude empty or all-NA columns when determining the result dtypes. To retain the old behavior, exclude the relevant entries before the concat operation.\n",
      "  df = pd.concat(datasets, sort=False, axis=0).reset_index(drop=True)\n",
      "/var/folders/ck/3npmnx597nb730qdy5w_6kp00000gn/T/ipykernel_48160/122139650.py:42: FutureWarning: The behavior of DataFrame concatenation with empty or all-NA entries is deprecated. In a future version, this will no longer exclude empty or all-NA columns when determining the result dtypes. To retain the old behavior, exclude the relevant entries before the concat operation.\n",
      "  df = pd.concat(datasets, sort=False, axis=0).reset_index(drop=True)\n",
      "/var/folders/ck/3npmnx597nb730qdy5w_6kp00000gn/T/ipykernel_48160/122139650.py:42: FutureWarning: The behavior of DataFrame concatenation with empty or all-NA entries is deprecated. In a future version, this will no longer exclude empty or all-NA columns when determining the result dtypes. To retain the old behavior, exclude the relevant entries before the concat operation.\n",
      "  df = pd.concat(datasets, sort=False, axis=0).reset_index(drop=True)\n",
      "/var/folders/ck/3npmnx597nb730qdy5w_6kp00000gn/T/ipykernel_48160/122139650.py:42: FutureWarning: The behavior of DataFrame concatenation with empty or all-NA entries is deprecated. In a future version, this will no longer exclude empty or all-NA columns when determining the result dtypes. To retain the old behavior, exclude the relevant entries before the concat operation.\n",
      "  df = pd.concat(datasets, sort=False, axis=0).reset_index(drop=True)\n",
      "/var/folders/ck/3npmnx597nb730qdy5w_6kp00000gn/T/ipykernel_48160/122139650.py:42: FutureWarning: The behavior of DataFrame concatenation with empty or all-NA entries is deprecated. In a future version, this will no longer exclude empty or all-NA columns when determining the result dtypes. To retain the old behavior, exclude the relevant entries before the concat operation.\n",
      "  df = pd.concat(datasets, sort=False, axis=0).reset_index(drop=True)\n",
      "/var/folders/ck/3npmnx597nb730qdy5w_6kp00000gn/T/ipykernel_48160/122139650.py:42: FutureWarning: The behavior of DataFrame concatenation with empty or all-NA entries is deprecated. In a future version, this will no longer exclude empty or all-NA columns when determining the result dtypes. To retain the old behavior, exclude the relevant entries before the concat operation.\n",
      "  df = pd.concat(datasets, sort=False, axis=0).reset_index(drop=True)\n",
      "/var/folders/ck/3npmnx597nb730qdy5w_6kp00000gn/T/ipykernel_48160/122139650.py:42: FutureWarning: The behavior of DataFrame concatenation with empty or all-NA entries is deprecated. In a future version, this will no longer exclude empty or all-NA columns when determining the result dtypes. To retain the old behavior, exclude the relevant entries before the concat operation.\n",
      "  df = pd.concat(datasets, sort=False, axis=0).reset_index(drop=True)\n",
      "/var/folders/ck/3npmnx597nb730qdy5w_6kp00000gn/T/ipykernel_48160/122139650.py:42: FutureWarning: The behavior of DataFrame concatenation with empty or all-NA entries is deprecated. In a future version, this will no longer exclude empty or all-NA columns when determining the result dtypes. To retain the old behavior, exclude the relevant entries before the concat operation.\n",
      "  df = pd.concat(datasets, sort=False, axis=0).reset_index(drop=True)\n",
      "/var/folders/ck/3npmnx597nb730qdy5w_6kp00000gn/T/ipykernel_48160/122139650.py:42: FutureWarning: The behavior of DataFrame concatenation with empty or all-NA entries is deprecated. In a future version, this will no longer exclude empty or all-NA columns when determining the result dtypes. To retain the old behavior, exclude the relevant entries before the concat operation.\n",
      "  df = pd.concat(datasets, sort=False, axis=0).reset_index(drop=True)\n",
      "/var/folders/ck/3npmnx597nb730qdy5w_6kp00000gn/T/ipykernel_48160/122139650.py:42: FutureWarning: The behavior of DataFrame concatenation with empty or all-NA entries is deprecated. In a future version, this will no longer exclude empty or all-NA columns when determining the result dtypes. To retain the old behavior, exclude the relevant entries before the concat operation.\n",
      "  df = pd.concat(datasets, sort=False, axis=0).reset_index(drop=True)\n",
      "/var/folders/ck/3npmnx597nb730qdy5w_6kp00000gn/T/ipykernel_48160/122139650.py:42: FutureWarning: The behavior of DataFrame concatenation with empty or all-NA entries is deprecated. In a future version, this will no longer exclude empty or all-NA columns when determining the result dtypes. To retain the old behavior, exclude the relevant entries before the concat operation.\n",
      "  df = pd.concat(datasets, sort=False, axis=0).reset_index(drop=True)\n",
      "/var/folders/ck/3npmnx597nb730qdy5w_6kp00000gn/T/ipykernel_48160/122139650.py:42: FutureWarning: The behavior of DataFrame concatenation with empty or all-NA entries is deprecated. In a future version, this will no longer exclude empty or all-NA columns when determining the result dtypes. To retain the old behavior, exclude the relevant entries before the concat operation.\n",
      "  df = pd.concat(datasets, sort=False, axis=0).reset_index(drop=True)\n",
      "/var/folders/ck/3npmnx597nb730qdy5w_6kp00000gn/T/ipykernel_48160/122139650.py:42: FutureWarning: The behavior of DataFrame concatenation with empty or all-NA entries is deprecated. In a future version, this will no longer exclude empty or all-NA columns when determining the result dtypes. To retain the old behavior, exclude the relevant entries before the concat operation.\n",
      "  df = pd.concat(datasets, sort=False, axis=0).reset_index(drop=True)\n",
      "/var/folders/ck/3npmnx597nb730qdy5w_6kp00000gn/T/ipykernel_48160/122139650.py:42: FutureWarning: The behavior of DataFrame concatenation with empty or all-NA entries is deprecated. In a future version, this will no longer exclude empty or all-NA columns when determining the result dtypes. To retain the old behavior, exclude the relevant entries before the concat operation.\n",
      "  df = pd.concat(datasets, sort=False, axis=0).reset_index(drop=True)\n",
      "/var/folders/ck/3npmnx597nb730qdy5w_6kp00000gn/T/ipykernel_48160/122139650.py:42: FutureWarning: The behavior of DataFrame concatenation with empty or all-NA entries is deprecated. In a future version, this will no longer exclude empty or all-NA columns when determining the result dtypes. To retain the old behavior, exclude the relevant entries before the concat operation.\n",
      "  df = pd.concat(datasets, sort=False, axis=0).reset_index(drop=True)\n",
      "/var/folders/ck/3npmnx597nb730qdy5w_6kp00000gn/T/ipykernel_48160/122139650.py:42: FutureWarning: The behavior of DataFrame concatenation with empty or all-NA entries is deprecated. In a future version, this will no longer exclude empty or all-NA columns when determining the result dtypes. To retain the old behavior, exclude the relevant entries before the concat operation.\n",
      "  df = pd.concat(datasets, sort=False, axis=0).reset_index(drop=True)\n",
      "/var/folders/ck/3npmnx597nb730qdy5w_6kp00000gn/T/ipykernel_48160/122139650.py:42: FutureWarning: The behavior of DataFrame concatenation with empty or all-NA entries is deprecated. In a future version, this will no longer exclude empty or all-NA columns when determining the result dtypes. To retain the old behavior, exclude the relevant entries before the concat operation.\n",
      "  df = pd.concat(datasets, sort=False, axis=0).reset_index(drop=True)\n",
      "/var/folders/ck/3npmnx597nb730qdy5w_6kp00000gn/T/ipykernel_48160/122139650.py:42: FutureWarning: The behavior of DataFrame concatenation with empty or all-NA entries is deprecated. In a future version, this will no longer exclude empty or all-NA columns when determining the result dtypes. To retain the old behavior, exclude the relevant entries before the concat operation.\n",
      "  df = pd.concat(datasets, sort=False, axis=0).reset_index(drop=True)\n",
      "/var/folders/ck/3npmnx597nb730qdy5w_6kp00000gn/T/ipykernel_48160/122139650.py:42: FutureWarning: The behavior of DataFrame concatenation with empty or all-NA entries is deprecated. In a future version, this will no longer exclude empty or all-NA columns when determining the result dtypes. To retain the old behavior, exclude the relevant entries before the concat operation.\n",
      "  df = pd.concat(datasets, sort=False, axis=0).reset_index(drop=True)\n",
      "/var/folders/ck/3npmnx597nb730qdy5w_6kp00000gn/T/ipykernel_48160/122139650.py:42: FutureWarning: The behavior of DataFrame concatenation with empty or all-NA entries is deprecated. In a future version, this will no longer exclude empty or all-NA columns when determining the result dtypes. To retain the old behavior, exclude the relevant entries before the concat operation.\n",
      "  df = pd.concat(datasets, sort=False, axis=0).reset_index(drop=True)\n",
      "/var/folders/ck/3npmnx597nb730qdy5w_6kp00000gn/T/ipykernel_48160/122139650.py:42: FutureWarning: The behavior of DataFrame concatenation with empty or all-NA entries is deprecated. In a future version, this will no longer exclude empty or all-NA columns when determining the result dtypes. To retain the old behavior, exclude the relevant entries before the concat operation.\n",
      "  df = pd.concat(datasets, sort=False, axis=0).reset_index(drop=True)\n",
      "/var/folders/ck/3npmnx597nb730qdy5w_6kp00000gn/T/ipykernel_48160/122139650.py:42: FutureWarning: The behavior of DataFrame concatenation with empty or all-NA entries is deprecated. In a future version, this will no longer exclude empty or all-NA columns when determining the result dtypes. To retain the old behavior, exclude the relevant entries before the concat operation.\n",
      "  df = pd.concat(datasets, sort=False, axis=0).reset_index(drop=True)\n",
      "/var/folders/ck/3npmnx597nb730qdy5w_6kp00000gn/T/ipykernel_48160/122139650.py:42: FutureWarning: The behavior of DataFrame concatenation with empty or all-NA entries is deprecated. In a future version, this will no longer exclude empty or all-NA columns when determining the result dtypes. To retain the old behavior, exclude the relevant entries before the concat operation.\n",
      "  df = pd.concat(datasets, sort=False, axis=0).reset_index(drop=True)\n",
      "/var/folders/ck/3npmnx597nb730qdy5w_6kp00000gn/T/ipykernel_48160/122139650.py:42: FutureWarning: The behavior of DataFrame concatenation with empty or all-NA entries is deprecated. In a future version, this will no longer exclude empty or all-NA columns when determining the result dtypes. To retain the old behavior, exclude the relevant entries before the concat operation.\n",
      "  df = pd.concat(datasets, sort=False, axis=0).reset_index(drop=True)\n",
      "/var/folders/ck/3npmnx597nb730qdy5w_6kp00000gn/T/ipykernel_48160/122139650.py:42: FutureWarning: The behavior of DataFrame concatenation with empty or all-NA entries is deprecated. In a future version, this will no longer exclude empty or all-NA columns when determining the result dtypes. To retain the old behavior, exclude the relevant entries before the concat operation.\n",
      "  df = pd.concat(datasets, sort=False, axis=0).reset_index(drop=True)\n",
      "/var/folders/ck/3npmnx597nb730qdy5w_6kp00000gn/T/ipykernel_48160/122139650.py:42: FutureWarning: The behavior of DataFrame concatenation with empty or all-NA entries is deprecated. In a future version, this will no longer exclude empty or all-NA columns when determining the result dtypes. To retain the old behavior, exclude the relevant entries before the concat operation.\n",
      "  df = pd.concat(datasets, sort=False, axis=0).reset_index(drop=True)\n",
      "/var/folders/ck/3npmnx597nb730qdy5w_6kp00000gn/T/ipykernel_48160/122139650.py:42: FutureWarning: The behavior of DataFrame concatenation with empty or all-NA entries is deprecated. In a future version, this will no longer exclude empty or all-NA columns when determining the result dtypes. To retain the old behavior, exclude the relevant entries before the concat operation.\n",
      "  df = pd.concat(datasets, sort=False, axis=0).reset_index(drop=True)\n",
      "/var/folders/ck/3npmnx597nb730qdy5w_6kp00000gn/T/ipykernel_48160/122139650.py:42: FutureWarning: The behavior of DataFrame concatenation with empty or all-NA entries is deprecated. In a future version, this will no longer exclude empty or all-NA columns when determining the result dtypes. To retain the old behavior, exclude the relevant entries before the concat operation.\n",
      "  df = pd.concat(datasets, sort=False, axis=0).reset_index(drop=True)\n",
      "/var/folders/ck/3npmnx597nb730qdy5w_6kp00000gn/T/ipykernel_48160/122139650.py:42: FutureWarning: The behavior of DataFrame concatenation with empty or all-NA entries is deprecated. In a future version, this will no longer exclude empty or all-NA columns when determining the result dtypes. To retain the old behavior, exclude the relevant entries before the concat operation.\n",
      "  df = pd.concat(datasets, sort=False, axis=0).reset_index(drop=True)\n",
      "/var/folders/ck/3npmnx597nb730qdy5w_6kp00000gn/T/ipykernel_48160/122139650.py:42: FutureWarning: The behavior of DataFrame concatenation with empty or all-NA entries is deprecated. In a future version, this will no longer exclude empty or all-NA columns when determining the result dtypes. To retain the old behavior, exclude the relevant entries before the concat operation.\n",
      "  df = pd.concat(datasets, sort=False, axis=0).reset_index(drop=True)\n",
      "/var/folders/ck/3npmnx597nb730qdy5w_6kp00000gn/T/ipykernel_48160/122139650.py:42: FutureWarning: The behavior of DataFrame concatenation with empty or all-NA entries is deprecated. In a future version, this will no longer exclude empty or all-NA columns when determining the result dtypes. To retain the old behavior, exclude the relevant entries before the concat operation.\n",
      "  df = pd.concat(datasets, sort=False, axis=0).reset_index(drop=True)\n",
      "/var/folders/ck/3npmnx597nb730qdy5w_6kp00000gn/T/ipykernel_48160/122139650.py:42: FutureWarning: The behavior of DataFrame concatenation with empty or all-NA entries is deprecated. In a future version, this will no longer exclude empty or all-NA columns when determining the result dtypes. To retain the old behavior, exclude the relevant entries before the concat operation.\n",
      "  df = pd.concat(datasets, sort=False, axis=0).reset_index(drop=True)\n",
      "/var/folders/ck/3npmnx597nb730qdy5w_6kp00000gn/T/ipykernel_48160/122139650.py:42: FutureWarning: The behavior of DataFrame concatenation with empty or all-NA entries is deprecated. In a future version, this will no longer exclude empty or all-NA columns when determining the result dtypes. To retain the old behavior, exclude the relevant entries before the concat operation.\n",
      "  df = pd.concat(datasets, sort=False, axis=0).reset_index(drop=True)\n",
      "/var/folders/ck/3npmnx597nb730qdy5w_6kp00000gn/T/ipykernel_48160/122139650.py:42: FutureWarning: The behavior of DataFrame concatenation with empty or all-NA entries is deprecated. In a future version, this will no longer exclude empty or all-NA columns when determining the result dtypes. To retain the old behavior, exclude the relevant entries before the concat operation.\n",
      "  df = pd.concat(datasets, sort=False, axis=0).reset_index(drop=True)\n",
      "/var/folders/ck/3npmnx597nb730qdy5w_6kp00000gn/T/ipykernel_48160/122139650.py:42: FutureWarning: The behavior of DataFrame concatenation with empty or all-NA entries is deprecated. In a future version, this will no longer exclude empty or all-NA columns when determining the result dtypes. To retain the old behavior, exclude the relevant entries before the concat operation.\n",
      "  df = pd.concat(datasets, sort=False, axis=0).reset_index(drop=True)\n",
      "/var/folders/ck/3npmnx597nb730qdy5w_6kp00000gn/T/ipykernel_48160/122139650.py:42: FutureWarning: The behavior of DataFrame concatenation with empty or all-NA entries is deprecated. In a future version, this will no longer exclude empty or all-NA columns when determining the result dtypes. To retain the old behavior, exclude the relevant entries before the concat operation.\n",
      "  df = pd.concat(datasets, sort=False, axis=0).reset_index(drop=True)\n",
      "/var/folders/ck/3npmnx597nb730qdy5w_6kp00000gn/T/ipykernel_48160/122139650.py:42: FutureWarning: The behavior of DataFrame concatenation with empty or all-NA entries is deprecated. In a future version, this will no longer exclude empty or all-NA columns when determining the result dtypes. To retain the old behavior, exclude the relevant entries before the concat operation.\n",
      "  df = pd.concat(datasets, sort=False, axis=0).reset_index(drop=True)\n",
      "/var/folders/ck/3npmnx597nb730qdy5w_6kp00000gn/T/ipykernel_48160/122139650.py:42: FutureWarning: The behavior of DataFrame concatenation with empty or all-NA entries is deprecated. In a future version, this will no longer exclude empty or all-NA columns when determining the result dtypes. To retain the old behavior, exclude the relevant entries before the concat operation.\n",
      "  df = pd.concat(datasets, sort=False, axis=0).reset_index(drop=True)\n",
      "/var/folders/ck/3npmnx597nb730qdy5w_6kp00000gn/T/ipykernel_48160/122139650.py:42: FutureWarning: The behavior of DataFrame concatenation with empty or all-NA entries is deprecated. In a future version, this will no longer exclude empty or all-NA columns when determining the result dtypes. To retain the old behavior, exclude the relevant entries before the concat operation.\n",
      "  df = pd.concat(datasets, sort=False, axis=0).reset_index(drop=True)\n",
      "/var/folders/ck/3npmnx597nb730qdy5w_6kp00000gn/T/ipykernel_48160/122139650.py:42: FutureWarning: The behavior of DataFrame concatenation with empty or all-NA entries is deprecated. In a future version, this will no longer exclude empty or all-NA columns when determining the result dtypes. To retain the old behavior, exclude the relevant entries before the concat operation.\n",
      "  df = pd.concat(datasets, sort=False, axis=0).reset_index(drop=True)\n",
      "/var/folders/ck/3npmnx597nb730qdy5w_6kp00000gn/T/ipykernel_48160/122139650.py:42: FutureWarning: The behavior of DataFrame concatenation with empty or all-NA entries is deprecated. In a future version, this will no longer exclude empty or all-NA columns when determining the result dtypes. To retain the old behavior, exclude the relevant entries before the concat operation.\n",
      "  df = pd.concat(datasets, sort=False, axis=0).reset_index(drop=True)\n",
      "/var/folders/ck/3npmnx597nb730qdy5w_6kp00000gn/T/ipykernel_48160/122139650.py:42: FutureWarning: The behavior of DataFrame concatenation with empty or all-NA entries is deprecated. In a future version, this will no longer exclude empty or all-NA columns when determining the result dtypes. To retain the old behavior, exclude the relevant entries before the concat operation.\n",
      "  df = pd.concat(datasets, sort=False, axis=0).reset_index(drop=True)\n",
      "/var/folders/ck/3npmnx597nb730qdy5w_6kp00000gn/T/ipykernel_48160/122139650.py:42: FutureWarning: The behavior of DataFrame concatenation with empty or all-NA entries is deprecated. In a future version, this will no longer exclude empty or all-NA columns when determining the result dtypes. To retain the old behavior, exclude the relevant entries before the concat operation.\n",
      "  df = pd.concat(datasets, sort=False, axis=0).reset_index(drop=True)\n",
      "/var/folders/ck/3npmnx597nb730qdy5w_6kp00000gn/T/ipykernel_48160/122139650.py:42: FutureWarning: The behavior of DataFrame concatenation with empty or all-NA entries is deprecated. In a future version, this will no longer exclude empty or all-NA columns when determining the result dtypes. To retain the old behavior, exclude the relevant entries before the concat operation.\n",
      "  df = pd.concat(datasets, sort=False, axis=0).reset_index(drop=True)\n",
      "/var/folders/ck/3npmnx597nb730qdy5w_6kp00000gn/T/ipykernel_48160/122139650.py:42: FutureWarning: The behavior of DataFrame concatenation with empty or all-NA entries is deprecated. In a future version, this will no longer exclude empty or all-NA columns when determining the result dtypes. To retain the old behavior, exclude the relevant entries before the concat operation.\n",
      "  df = pd.concat(datasets, sort=False, axis=0).reset_index(drop=True)\n",
      "/var/folders/ck/3npmnx597nb730qdy5w_6kp00000gn/T/ipykernel_48160/122139650.py:42: FutureWarning: The behavior of DataFrame concatenation with empty or all-NA entries is deprecated. In a future version, this will no longer exclude empty or all-NA columns when determining the result dtypes. To retain the old behavior, exclude the relevant entries before the concat operation.\n",
      "  df = pd.concat(datasets, sort=False, axis=0).reset_index(drop=True)\n",
      "/var/folders/ck/3npmnx597nb730qdy5w_6kp00000gn/T/ipykernel_48160/122139650.py:42: FutureWarning: The behavior of DataFrame concatenation with empty or all-NA entries is deprecated. In a future version, this will no longer exclude empty or all-NA columns when determining the result dtypes. To retain the old behavior, exclude the relevant entries before the concat operation.\n",
      "  df = pd.concat(datasets, sort=False, axis=0).reset_index(drop=True)\n",
      "/var/folders/ck/3npmnx597nb730qdy5w_6kp00000gn/T/ipykernel_48160/122139650.py:42: FutureWarning: The behavior of DataFrame concatenation with empty or all-NA entries is deprecated. In a future version, this will no longer exclude empty or all-NA columns when determining the result dtypes. To retain the old behavior, exclude the relevant entries before the concat operation.\n",
      "  df = pd.concat(datasets, sort=False, axis=0).reset_index(drop=True)\n",
      "/var/folders/ck/3npmnx597nb730qdy5w_6kp00000gn/T/ipykernel_48160/122139650.py:42: FutureWarning: The behavior of DataFrame concatenation with empty or all-NA entries is deprecated. In a future version, this will no longer exclude empty or all-NA columns when determining the result dtypes. To retain the old behavior, exclude the relevant entries before the concat operation.\n",
      "  df = pd.concat(datasets, sort=False, axis=0).reset_index(drop=True)\n",
      "/var/folders/ck/3npmnx597nb730qdy5w_6kp00000gn/T/ipykernel_48160/122139650.py:42: FutureWarning: The behavior of DataFrame concatenation with empty or all-NA entries is deprecated. In a future version, this will no longer exclude empty or all-NA columns when determining the result dtypes. To retain the old behavior, exclude the relevant entries before the concat operation.\n",
      "  df = pd.concat(datasets, sort=False, axis=0).reset_index(drop=True)\n",
      "/var/folders/ck/3npmnx597nb730qdy5w_6kp00000gn/T/ipykernel_48160/122139650.py:42: FutureWarning: The behavior of DataFrame concatenation with empty or all-NA entries is deprecated. In a future version, this will no longer exclude empty or all-NA columns when determining the result dtypes. To retain the old behavior, exclude the relevant entries before the concat operation.\n",
      "  df = pd.concat(datasets, sort=False, axis=0).reset_index(drop=True)\n",
      "/var/folders/ck/3npmnx597nb730qdy5w_6kp00000gn/T/ipykernel_48160/122139650.py:42: FutureWarning: The behavior of DataFrame concatenation with empty or all-NA entries is deprecated. In a future version, this will no longer exclude empty or all-NA columns when determining the result dtypes. To retain the old behavior, exclude the relevant entries before the concat operation.\n",
      "  df = pd.concat(datasets, sort=False, axis=0).reset_index(drop=True)\n",
      "/var/folders/ck/3npmnx597nb730qdy5w_6kp00000gn/T/ipykernel_48160/122139650.py:42: FutureWarning: The behavior of DataFrame concatenation with empty or all-NA entries is deprecated. In a future version, this will no longer exclude empty or all-NA columns when determining the result dtypes. To retain the old behavior, exclude the relevant entries before the concat operation.\n",
      "  df = pd.concat(datasets, sort=False, axis=0).reset_index(drop=True)\n",
      "/var/folders/ck/3npmnx597nb730qdy5w_6kp00000gn/T/ipykernel_48160/122139650.py:42: FutureWarning: The behavior of DataFrame concatenation with empty or all-NA entries is deprecated. In a future version, this will no longer exclude empty or all-NA columns when determining the result dtypes. To retain the old behavior, exclude the relevant entries before the concat operation.\n",
      "  df = pd.concat(datasets, sort=False, axis=0).reset_index(drop=True)\n",
      "/var/folders/ck/3npmnx597nb730qdy5w_6kp00000gn/T/ipykernel_48160/122139650.py:42: FutureWarning: The behavior of DataFrame concatenation with empty or all-NA entries is deprecated. In a future version, this will no longer exclude empty or all-NA columns when determining the result dtypes. To retain the old behavior, exclude the relevant entries before the concat operation.\n",
      "  df = pd.concat(datasets, sort=False, axis=0).reset_index(drop=True)\n",
      "/var/folders/ck/3npmnx597nb730qdy5w_6kp00000gn/T/ipykernel_48160/122139650.py:42: FutureWarning: The behavior of DataFrame concatenation with empty or all-NA entries is deprecated. In a future version, this will no longer exclude empty or all-NA columns when determining the result dtypes. To retain the old behavior, exclude the relevant entries before the concat operation.\n",
      "  df = pd.concat(datasets, sort=False, axis=0).reset_index(drop=True)\n",
      "/var/folders/ck/3npmnx597nb730qdy5w_6kp00000gn/T/ipykernel_48160/122139650.py:42: FutureWarning: The behavior of DataFrame concatenation with empty or all-NA entries is deprecated. In a future version, this will no longer exclude empty or all-NA columns when determining the result dtypes. To retain the old behavior, exclude the relevant entries before the concat operation.\n",
      "  df = pd.concat(datasets, sort=False, axis=0).reset_index(drop=True)\n",
      "/var/folders/ck/3npmnx597nb730qdy5w_6kp00000gn/T/ipykernel_48160/122139650.py:42: FutureWarning: The behavior of DataFrame concatenation with empty or all-NA entries is deprecated. In a future version, this will no longer exclude empty or all-NA columns when determining the result dtypes. To retain the old behavior, exclude the relevant entries before the concat operation.\n",
      "  df = pd.concat(datasets, sort=False, axis=0).reset_index(drop=True)\n",
      "/var/folders/ck/3npmnx597nb730qdy5w_6kp00000gn/T/ipykernel_48160/122139650.py:42: FutureWarning: The behavior of DataFrame concatenation with empty or all-NA entries is deprecated. In a future version, this will no longer exclude empty or all-NA columns when determining the result dtypes. To retain the old behavior, exclude the relevant entries before the concat operation.\n",
      "  df = pd.concat(datasets, sort=False, axis=0).reset_index(drop=True)\n",
      "/var/folders/ck/3npmnx597nb730qdy5w_6kp00000gn/T/ipykernel_48160/122139650.py:42: FutureWarning: The behavior of DataFrame concatenation with empty or all-NA entries is deprecated. In a future version, this will no longer exclude empty or all-NA columns when determining the result dtypes. To retain the old behavior, exclude the relevant entries before the concat operation.\n",
      "  df = pd.concat(datasets, sort=False, axis=0).reset_index(drop=True)\n",
      "/var/folders/ck/3npmnx597nb730qdy5w_6kp00000gn/T/ipykernel_48160/122139650.py:42: FutureWarning: The behavior of DataFrame concatenation with empty or all-NA entries is deprecated. In a future version, this will no longer exclude empty or all-NA columns when determining the result dtypes. To retain the old behavior, exclude the relevant entries before the concat operation.\n",
      "  df = pd.concat(datasets, sort=False, axis=0).reset_index(drop=True)\n",
      "/var/folders/ck/3npmnx597nb730qdy5w_6kp00000gn/T/ipykernel_48160/122139650.py:42: FutureWarning: The behavior of DataFrame concatenation with empty or all-NA entries is deprecated. In a future version, this will no longer exclude empty or all-NA columns when determining the result dtypes. To retain the old behavior, exclude the relevant entries before the concat operation.\n",
      "  df = pd.concat(datasets, sort=False, axis=0).reset_index(drop=True)\n",
      "/var/folders/ck/3npmnx597nb730qdy5w_6kp00000gn/T/ipykernel_48160/122139650.py:42: FutureWarning: The behavior of DataFrame concatenation with empty or all-NA entries is deprecated. In a future version, this will no longer exclude empty or all-NA columns when determining the result dtypes. To retain the old behavior, exclude the relevant entries before the concat operation.\n",
      "  df = pd.concat(datasets, sort=False, axis=0).reset_index(drop=True)\n",
      "/var/folders/ck/3npmnx597nb730qdy5w_6kp00000gn/T/ipykernel_48160/122139650.py:42: FutureWarning: The behavior of DataFrame concatenation with empty or all-NA entries is deprecated. In a future version, this will no longer exclude empty or all-NA columns when determining the result dtypes. To retain the old behavior, exclude the relevant entries before the concat operation.\n",
      "  df = pd.concat(datasets, sort=False, axis=0).reset_index(drop=True)\n",
      "/var/folders/ck/3npmnx597nb730qdy5w_6kp00000gn/T/ipykernel_48160/122139650.py:42: FutureWarning: The behavior of DataFrame concatenation with empty or all-NA entries is deprecated. In a future version, this will no longer exclude empty or all-NA columns when determining the result dtypes. To retain the old behavior, exclude the relevant entries before the concat operation.\n",
      "  df = pd.concat(datasets, sort=False, axis=0).reset_index(drop=True)\n",
      "/var/folders/ck/3npmnx597nb730qdy5w_6kp00000gn/T/ipykernel_48160/122139650.py:42: FutureWarning: The behavior of DataFrame concatenation with empty or all-NA entries is deprecated. In a future version, this will no longer exclude empty or all-NA columns when determining the result dtypes. To retain the old behavior, exclude the relevant entries before the concat operation.\n",
      "  df = pd.concat(datasets, sort=False, axis=0).reset_index(drop=True)\n",
      "/var/folders/ck/3npmnx597nb730qdy5w_6kp00000gn/T/ipykernel_48160/122139650.py:42: FutureWarning: The behavior of DataFrame concatenation with empty or all-NA entries is deprecated. In a future version, this will no longer exclude empty or all-NA columns when determining the result dtypes. To retain the old behavior, exclude the relevant entries before the concat operation.\n",
      "  df = pd.concat(datasets, sort=False, axis=0).reset_index(drop=True)\n",
      "/var/folders/ck/3npmnx597nb730qdy5w_6kp00000gn/T/ipykernel_48160/122139650.py:42: FutureWarning: The behavior of DataFrame concatenation with empty or all-NA entries is deprecated. In a future version, this will no longer exclude empty or all-NA columns when determining the result dtypes. To retain the old behavior, exclude the relevant entries before the concat operation.\n",
      "  df = pd.concat(datasets, sort=False, axis=0).reset_index(drop=True)\n",
      "/var/folders/ck/3npmnx597nb730qdy5w_6kp00000gn/T/ipykernel_48160/122139650.py:42: FutureWarning: The behavior of DataFrame concatenation with empty or all-NA entries is deprecated. In a future version, this will no longer exclude empty or all-NA columns when determining the result dtypes. To retain the old behavior, exclude the relevant entries before the concat operation.\n",
      "  df = pd.concat(datasets, sort=False, axis=0).reset_index(drop=True)\n",
      "/var/folders/ck/3npmnx597nb730qdy5w_6kp00000gn/T/ipykernel_48160/122139650.py:42: FutureWarning: The behavior of DataFrame concatenation with empty or all-NA entries is deprecated. In a future version, this will no longer exclude empty or all-NA columns when determining the result dtypes. To retain the old behavior, exclude the relevant entries before the concat operation.\n",
      "  df = pd.concat(datasets, sort=False, axis=0).reset_index(drop=True)\n",
      "/var/folders/ck/3npmnx597nb730qdy5w_6kp00000gn/T/ipykernel_48160/122139650.py:42: FutureWarning: The behavior of DataFrame concatenation with empty or all-NA entries is deprecated. In a future version, this will no longer exclude empty or all-NA columns when determining the result dtypes. To retain the old behavior, exclude the relevant entries before the concat operation.\n",
      "  df = pd.concat(datasets, sort=False, axis=0).reset_index(drop=True)\n",
      "/var/folders/ck/3npmnx597nb730qdy5w_6kp00000gn/T/ipykernel_48160/122139650.py:42: FutureWarning: The behavior of DataFrame concatenation with empty or all-NA entries is deprecated. In a future version, this will no longer exclude empty or all-NA columns when determining the result dtypes. To retain the old behavior, exclude the relevant entries before the concat operation.\n",
      "  df = pd.concat(datasets, sort=False, axis=0).reset_index(drop=True)\n",
      "/var/folders/ck/3npmnx597nb730qdy5w_6kp00000gn/T/ipykernel_48160/122139650.py:42: FutureWarning: The behavior of DataFrame concatenation with empty or all-NA entries is deprecated. In a future version, this will no longer exclude empty or all-NA columns when determining the result dtypes. To retain the old behavior, exclude the relevant entries before the concat operation.\n",
      "  df = pd.concat(datasets, sort=False, axis=0).reset_index(drop=True)\n",
      "/var/folders/ck/3npmnx597nb730qdy5w_6kp00000gn/T/ipykernel_48160/122139650.py:42: FutureWarning: The behavior of DataFrame concatenation with empty or all-NA entries is deprecated. In a future version, this will no longer exclude empty or all-NA columns when determining the result dtypes. To retain the old behavior, exclude the relevant entries before the concat operation.\n",
      "  df = pd.concat(datasets, sort=False, axis=0).reset_index(drop=True)\n",
      "/var/folders/ck/3npmnx597nb730qdy5w_6kp00000gn/T/ipykernel_48160/122139650.py:42: FutureWarning: The behavior of DataFrame concatenation with empty or all-NA entries is deprecated. In a future version, this will no longer exclude empty or all-NA columns when determining the result dtypes. To retain the old behavior, exclude the relevant entries before the concat operation.\n",
      "  df = pd.concat(datasets, sort=False, axis=0).reset_index(drop=True)\n",
      "/var/folders/ck/3npmnx597nb730qdy5w_6kp00000gn/T/ipykernel_48160/122139650.py:42: FutureWarning: The behavior of DataFrame concatenation with empty or all-NA entries is deprecated. In a future version, this will no longer exclude empty or all-NA columns when determining the result dtypes. To retain the old behavior, exclude the relevant entries before the concat operation.\n",
      "  df = pd.concat(datasets, sort=False, axis=0).reset_index(drop=True)\n",
      "/var/folders/ck/3npmnx597nb730qdy5w_6kp00000gn/T/ipykernel_48160/122139650.py:42: FutureWarning: The behavior of DataFrame concatenation with empty or all-NA entries is deprecated. In a future version, this will no longer exclude empty or all-NA columns when determining the result dtypes. To retain the old behavior, exclude the relevant entries before the concat operation.\n",
      "  df = pd.concat(datasets, sort=False, axis=0).reset_index(drop=True)\n",
      "/var/folders/ck/3npmnx597nb730qdy5w_6kp00000gn/T/ipykernel_48160/122139650.py:42: FutureWarning: The behavior of DataFrame concatenation with empty or all-NA entries is deprecated. In a future version, this will no longer exclude empty or all-NA columns when determining the result dtypes. To retain the old behavior, exclude the relevant entries before the concat operation.\n",
      "  df = pd.concat(datasets, sort=False, axis=0).reset_index(drop=True)\n",
      "/var/folders/ck/3npmnx597nb730qdy5w_6kp00000gn/T/ipykernel_48160/122139650.py:42: FutureWarning: The behavior of DataFrame concatenation with empty or all-NA entries is deprecated. In a future version, this will no longer exclude empty or all-NA columns when determining the result dtypes. To retain the old behavior, exclude the relevant entries before the concat operation.\n",
      "  df = pd.concat(datasets, sort=False, axis=0).reset_index(drop=True)\n",
      "/var/folders/ck/3npmnx597nb730qdy5w_6kp00000gn/T/ipykernel_48160/122139650.py:42: FutureWarning: The behavior of DataFrame concatenation with empty or all-NA entries is deprecated. In a future version, this will no longer exclude empty or all-NA columns when determining the result dtypes. To retain the old behavior, exclude the relevant entries before the concat operation.\n",
      "  df = pd.concat(datasets, sort=False, axis=0).reset_index(drop=True)\n",
      "/var/folders/ck/3npmnx597nb730qdy5w_6kp00000gn/T/ipykernel_48160/122139650.py:42: FutureWarning: The behavior of DataFrame concatenation with empty or all-NA entries is deprecated. In a future version, this will no longer exclude empty or all-NA columns when determining the result dtypes. To retain the old behavior, exclude the relevant entries before the concat operation.\n",
      "  df = pd.concat(datasets, sort=False, axis=0).reset_index(drop=True)\n",
      "/var/folders/ck/3npmnx597nb730qdy5w_6kp00000gn/T/ipykernel_48160/122139650.py:42: FutureWarning: The behavior of DataFrame concatenation with empty or all-NA entries is deprecated. In a future version, this will no longer exclude empty or all-NA columns when determining the result dtypes. To retain the old behavior, exclude the relevant entries before the concat operation.\n",
      "  df = pd.concat(datasets, sort=False, axis=0).reset_index(drop=True)\n",
      "/var/folders/ck/3npmnx597nb730qdy5w_6kp00000gn/T/ipykernel_48160/122139650.py:42: FutureWarning: The behavior of DataFrame concatenation with empty or all-NA entries is deprecated. In a future version, this will no longer exclude empty or all-NA columns when determining the result dtypes. To retain the old behavior, exclude the relevant entries before the concat operation.\n",
      "  df = pd.concat(datasets, sort=False, axis=0).reset_index(drop=True)\n",
      "/var/folders/ck/3npmnx597nb730qdy5w_6kp00000gn/T/ipykernel_48160/122139650.py:42: FutureWarning: The behavior of DataFrame concatenation with empty or all-NA entries is deprecated. In a future version, this will no longer exclude empty or all-NA columns when determining the result dtypes. To retain the old behavior, exclude the relevant entries before the concat operation.\n",
      "  df = pd.concat(datasets, sort=False, axis=0).reset_index(drop=True)\n",
      "/var/folders/ck/3npmnx597nb730qdy5w_6kp00000gn/T/ipykernel_48160/122139650.py:42: FutureWarning: The behavior of DataFrame concatenation with empty or all-NA entries is deprecated. In a future version, this will no longer exclude empty or all-NA columns when determining the result dtypes. To retain the old behavior, exclude the relevant entries before the concat operation.\n",
      "  df = pd.concat(datasets, sort=False, axis=0).reset_index(drop=True)\n",
      "/var/folders/ck/3npmnx597nb730qdy5w_6kp00000gn/T/ipykernel_48160/122139650.py:42: FutureWarning: The behavior of DataFrame concatenation with empty or all-NA entries is deprecated. In a future version, this will no longer exclude empty or all-NA columns when determining the result dtypes. To retain the old behavior, exclude the relevant entries before the concat operation.\n",
      "  df = pd.concat(datasets, sort=False, axis=0).reset_index(drop=True)\n",
      "/var/folders/ck/3npmnx597nb730qdy5w_6kp00000gn/T/ipykernel_48160/122139650.py:42: FutureWarning: The behavior of DataFrame concatenation with empty or all-NA entries is deprecated. In a future version, this will no longer exclude empty or all-NA columns when determining the result dtypes. To retain the old behavior, exclude the relevant entries before the concat operation.\n",
      "  df = pd.concat(datasets, sort=False, axis=0).reset_index(drop=True)\n",
      "/var/folders/ck/3npmnx597nb730qdy5w_6kp00000gn/T/ipykernel_48160/122139650.py:42: FutureWarning: The behavior of DataFrame concatenation with empty or all-NA entries is deprecated. In a future version, this will no longer exclude empty or all-NA columns when determining the result dtypes. To retain the old behavior, exclude the relevant entries before the concat operation.\n",
      "  df = pd.concat(datasets, sort=False, axis=0).reset_index(drop=True)\n",
      "/var/folders/ck/3npmnx597nb730qdy5w_6kp00000gn/T/ipykernel_48160/122139650.py:42: FutureWarning: The behavior of DataFrame concatenation with empty or all-NA entries is deprecated. In a future version, this will no longer exclude empty or all-NA columns when determining the result dtypes. To retain the old behavior, exclude the relevant entries before the concat operation.\n",
      "  df = pd.concat(datasets, sort=False, axis=0).reset_index(drop=True)\n",
      "/var/folders/ck/3npmnx597nb730qdy5w_6kp00000gn/T/ipykernel_48160/122139650.py:42: FutureWarning: The behavior of DataFrame concatenation with empty or all-NA entries is deprecated. In a future version, this will no longer exclude empty or all-NA columns when determining the result dtypes. To retain the old behavior, exclude the relevant entries before the concat operation.\n",
      "  df = pd.concat(datasets, sort=False, axis=0).reset_index(drop=True)\n",
      "/var/folders/ck/3npmnx597nb730qdy5w_6kp00000gn/T/ipykernel_48160/122139650.py:42: FutureWarning: The behavior of DataFrame concatenation with empty or all-NA entries is deprecated. In a future version, this will no longer exclude empty or all-NA columns when determining the result dtypes. To retain the old behavior, exclude the relevant entries before the concat operation.\n",
      "  df = pd.concat(datasets, sort=False, axis=0).reset_index(drop=True)\n",
      "/var/folders/ck/3npmnx597nb730qdy5w_6kp00000gn/T/ipykernel_48160/122139650.py:42: FutureWarning: The behavior of DataFrame concatenation with empty or all-NA entries is deprecated. In a future version, this will no longer exclude empty or all-NA columns when determining the result dtypes. To retain the old behavior, exclude the relevant entries before the concat operation.\n",
      "  df = pd.concat(datasets, sort=False, axis=0).reset_index(drop=True)\n",
      "/var/folders/ck/3npmnx597nb730qdy5w_6kp00000gn/T/ipykernel_48160/122139650.py:42: FutureWarning: The behavior of DataFrame concatenation with empty or all-NA entries is deprecated. In a future version, this will no longer exclude empty or all-NA columns when determining the result dtypes. To retain the old behavior, exclude the relevant entries before the concat operation.\n",
      "  df = pd.concat(datasets, sort=False, axis=0).reset_index(drop=True)\n",
      "/var/folders/ck/3npmnx597nb730qdy5w_6kp00000gn/T/ipykernel_48160/122139650.py:42: FutureWarning: The behavior of DataFrame concatenation with empty or all-NA entries is deprecated. In a future version, this will no longer exclude empty or all-NA columns when determining the result dtypes. To retain the old behavior, exclude the relevant entries before the concat operation.\n",
      "  df = pd.concat(datasets, sort=False, axis=0).reset_index(drop=True)\n",
      "/var/folders/ck/3npmnx597nb730qdy5w_6kp00000gn/T/ipykernel_48160/122139650.py:42: FutureWarning: The behavior of DataFrame concatenation with empty or all-NA entries is deprecated. In a future version, this will no longer exclude empty or all-NA columns when determining the result dtypes. To retain the old behavior, exclude the relevant entries before the concat operation.\n",
      "  df = pd.concat(datasets, sort=False, axis=0).reset_index(drop=True)\n",
      "/var/folders/ck/3npmnx597nb730qdy5w_6kp00000gn/T/ipykernel_48160/122139650.py:42: FutureWarning: The behavior of DataFrame concatenation with empty or all-NA entries is deprecated. In a future version, this will no longer exclude empty or all-NA columns when determining the result dtypes. To retain the old behavior, exclude the relevant entries before the concat operation.\n",
      "  df = pd.concat(datasets, sort=False, axis=0).reset_index(drop=True)\n",
      "/var/folders/ck/3npmnx597nb730qdy5w_6kp00000gn/T/ipykernel_48160/122139650.py:42: FutureWarning: The behavior of DataFrame concatenation with empty or all-NA entries is deprecated. In a future version, this will no longer exclude empty or all-NA columns when determining the result dtypes. To retain the old behavior, exclude the relevant entries before the concat operation.\n",
      "  df = pd.concat(datasets, sort=False, axis=0).reset_index(drop=True)\n",
      "/var/folders/ck/3npmnx597nb730qdy5w_6kp00000gn/T/ipykernel_48160/122139650.py:42: FutureWarning: The behavior of DataFrame concatenation with empty or all-NA entries is deprecated. In a future version, this will no longer exclude empty or all-NA columns when determining the result dtypes. To retain the old behavior, exclude the relevant entries before the concat operation.\n",
      "  df = pd.concat(datasets, sort=False, axis=0).reset_index(drop=True)\n",
      "/var/folders/ck/3npmnx597nb730qdy5w_6kp00000gn/T/ipykernel_48160/122139650.py:42: FutureWarning: The behavior of DataFrame concatenation with empty or all-NA entries is deprecated. In a future version, this will no longer exclude empty or all-NA columns when determining the result dtypes. To retain the old behavior, exclude the relevant entries before the concat operation.\n",
      "  df = pd.concat(datasets, sort=False, axis=0).reset_index(drop=True)\n",
      "/var/folders/ck/3npmnx597nb730qdy5w_6kp00000gn/T/ipykernel_48160/122139650.py:42: FutureWarning: The behavior of DataFrame concatenation with empty or all-NA entries is deprecated. In a future version, this will no longer exclude empty or all-NA columns when determining the result dtypes. To retain the old behavior, exclude the relevant entries before the concat operation.\n",
      "  df = pd.concat(datasets, sort=False, axis=0).reset_index(drop=True)\n",
      "/var/folders/ck/3npmnx597nb730qdy5w_6kp00000gn/T/ipykernel_48160/122139650.py:42: FutureWarning: The behavior of DataFrame concatenation with empty or all-NA entries is deprecated. In a future version, this will no longer exclude empty or all-NA columns when determining the result dtypes. To retain the old behavior, exclude the relevant entries before the concat operation.\n",
      "  df = pd.concat(datasets, sort=False, axis=0).reset_index(drop=True)\n",
      "/var/folders/ck/3npmnx597nb730qdy5w_6kp00000gn/T/ipykernel_48160/122139650.py:42: FutureWarning: The behavior of DataFrame concatenation with empty or all-NA entries is deprecated. In a future version, this will no longer exclude empty or all-NA columns when determining the result dtypes. To retain the old behavior, exclude the relevant entries before the concat operation.\n",
      "  df = pd.concat(datasets, sort=False, axis=0).reset_index(drop=True)\n",
      "/var/folders/ck/3npmnx597nb730qdy5w_6kp00000gn/T/ipykernel_48160/122139650.py:42: FutureWarning: The behavior of DataFrame concatenation with empty or all-NA entries is deprecated. In a future version, this will no longer exclude empty or all-NA columns when determining the result dtypes. To retain the old behavior, exclude the relevant entries before the concat operation.\n",
      "  df = pd.concat(datasets, sort=False, axis=0).reset_index(drop=True)\n",
      "/var/folders/ck/3npmnx597nb730qdy5w_6kp00000gn/T/ipykernel_48160/122139650.py:42: FutureWarning: The behavior of DataFrame concatenation with empty or all-NA entries is deprecated. In a future version, this will no longer exclude empty or all-NA columns when determining the result dtypes. To retain the old behavior, exclude the relevant entries before the concat operation.\n",
      "  df = pd.concat(datasets, sort=False, axis=0).reset_index(drop=True)\n",
      "/var/folders/ck/3npmnx597nb730qdy5w_6kp00000gn/T/ipykernel_48160/122139650.py:42: FutureWarning: The behavior of DataFrame concatenation with empty or all-NA entries is deprecated. In a future version, this will no longer exclude empty or all-NA columns when determining the result dtypes. To retain the old behavior, exclude the relevant entries before the concat operation.\n",
      "  df = pd.concat(datasets, sort=False, axis=0).reset_index(drop=True)\n",
      "/var/folders/ck/3npmnx597nb730qdy5w_6kp00000gn/T/ipykernel_48160/122139650.py:42: FutureWarning: The behavior of DataFrame concatenation with empty or all-NA entries is deprecated. In a future version, this will no longer exclude empty or all-NA columns when determining the result dtypes. To retain the old behavior, exclude the relevant entries before the concat operation.\n",
      "  df = pd.concat(datasets, sort=False, axis=0).reset_index(drop=True)\n",
      "/var/folders/ck/3npmnx597nb730qdy5w_6kp00000gn/T/ipykernel_48160/122139650.py:42: FutureWarning: The behavior of DataFrame concatenation with empty or all-NA entries is deprecated. In a future version, this will no longer exclude empty or all-NA columns when determining the result dtypes. To retain the old behavior, exclude the relevant entries before the concat operation.\n",
      "  df = pd.concat(datasets, sort=False, axis=0).reset_index(drop=True)\n",
      "/var/folders/ck/3npmnx597nb730qdy5w_6kp00000gn/T/ipykernel_48160/122139650.py:42: FutureWarning: The behavior of DataFrame concatenation with empty or all-NA entries is deprecated. In a future version, this will no longer exclude empty or all-NA columns when determining the result dtypes. To retain the old behavior, exclude the relevant entries before the concat operation.\n",
      "  df = pd.concat(datasets, sort=False, axis=0).reset_index(drop=True)\n",
      "/var/folders/ck/3npmnx597nb730qdy5w_6kp00000gn/T/ipykernel_48160/122139650.py:42: FutureWarning: The behavior of DataFrame concatenation with empty or all-NA entries is deprecated. In a future version, this will no longer exclude empty or all-NA columns when determining the result dtypes. To retain the old behavior, exclude the relevant entries before the concat operation.\n",
      "  df = pd.concat(datasets, sort=False, axis=0).reset_index(drop=True)\n",
      "/var/folders/ck/3npmnx597nb730qdy5w_6kp00000gn/T/ipykernel_48160/122139650.py:42: FutureWarning: The behavior of DataFrame concatenation with empty or all-NA entries is deprecated. In a future version, this will no longer exclude empty or all-NA columns when determining the result dtypes. To retain the old behavior, exclude the relevant entries before the concat operation.\n",
      "  df = pd.concat(datasets, sort=False, axis=0).reset_index(drop=True)\n",
      "/var/folders/ck/3npmnx597nb730qdy5w_6kp00000gn/T/ipykernel_48160/122139650.py:42: FutureWarning: The behavior of DataFrame concatenation with empty or all-NA entries is deprecated. In a future version, this will no longer exclude empty or all-NA columns when determining the result dtypes. To retain the old behavior, exclude the relevant entries before the concat operation.\n",
      "  df = pd.concat(datasets, sort=False, axis=0).reset_index(drop=True)\n",
      "/var/folders/ck/3npmnx597nb730qdy5w_6kp00000gn/T/ipykernel_48160/122139650.py:42: FutureWarning: The behavior of DataFrame concatenation with empty or all-NA entries is deprecated. In a future version, this will no longer exclude empty or all-NA columns when determining the result dtypes. To retain the old behavior, exclude the relevant entries before the concat operation.\n",
      "  df = pd.concat(datasets, sort=False, axis=0).reset_index(drop=True)\n",
      "/var/folders/ck/3npmnx597nb730qdy5w_6kp00000gn/T/ipykernel_48160/122139650.py:42: FutureWarning: The behavior of DataFrame concatenation with empty or all-NA entries is deprecated. In a future version, this will no longer exclude empty or all-NA columns when determining the result dtypes. To retain the old behavior, exclude the relevant entries before the concat operation.\n",
      "  df = pd.concat(datasets, sort=False, axis=0).reset_index(drop=True)\n",
      "/var/folders/ck/3npmnx597nb730qdy5w_6kp00000gn/T/ipykernel_48160/122139650.py:42: FutureWarning: The behavior of DataFrame concatenation with empty or all-NA entries is deprecated. In a future version, this will no longer exclude empty or all-NA columns when determining the result dtypes. To retain the old behavior, exclude the relevant entries before the concat operation.\n",
      "  df = pd.concat(datasets, sort=False, axis=0).reset_index(drop=True)\n",
      "/var/folders/ck/3npmnx597nb730qdy5w_6kp00000gn/T/ipykernel_48160/122139650.py:42: FutureWarning: The behavior of DataFrame concatenation with empty or all-NA entries is deprecated. In a future version, this will no longer exclude empty or all-NA columns when determining the result dtypes. To retain the old behavior, exclude the relevant entries before the concat operation.\n",
      "  df = pd.concat(datasets, sort=False, axis=0).reset_index(drop=True)\n",
      "/var/folders/ck/3npmnx597nb730qdy5w_6kp00000gn/T/ipykernel_48160/122139650.py:42: FutureWarning: The behavior of DataFrame concatenation with empty or all-NA entries is deprecated. In a future version, this will no longer exclude empty or all-NA columns when determining the result dtypes. To retain the old behavior, exclude the relevant entries before the concat operation.\n",
      "  df = pd.concat(datasets, sort=False, axis=0).reset_index(drop=True)\n",
      "/var/folders/ck/3npmnx597nb730qdy5w_6kp00000gn/T/ipykernel_48160/122139650.py:42: FutureWarning: The behavior of DataFrame concatenation with empty or all-NA entries is deprecated. In a future version, this will no longer exclude empty or all-NA columns when determining the result dtypes. To retain the old behavior, exclude the relevant entries before the concat operation.\n",
      "  df = pd.concat(datasets, sort=False, axis=0).reset_index(drop=True)\n",
      "/var/folders/ck/3npmnx597nb730qdy5w_6kp00000gn/T/ipykernel_48160/122139650.py:42: FutureWarning: The behavior of DataFrame concatenation with empty or all-NA entries is deprecated. In a future version, this will no longer exclude empty or all-NA columns when determining the result dtypes. To retain the old behavior, exclude the relevant entries before the concat operation.\n",
      "  df = pd.concat(datasets, sort=False, axis=0).reset_index(drop=True)\n",
      "/var/folders/ck/3npmnx597nb730qdy5w_6kp00000gn/T/ipykernel_48160/122139650.py:42: FutureWarning: The behavior of DataFrame concatenation with empty or all-NA entries is deprecated. In a future version, this will no longer exclude empty or all-NA columns when determining the result dtypes. To retain the old behavior, exclude the relevant entries before the concat operation.\n",
      "  df = pd.concat(datasets, sort=False, axis=0).reset_index(drop=True)\n",
      "/var/folders/ck/3npmnx597nb730qdy5w_6kp00000gn/T/ipykernel_48160/122139650.py:42: FutureWarning: The behavior of DataFrame concatenation with empty or all-NA entries is deprecated. In a future version, this will no longer exclude empty or all-NA columns when determining the result dtypes. To retain the old behavior, exclude the relevant entries before the concat operation.\n",
      "  df = pd.concat(datasets, sort=False, axis=0).reset_index(drop=True)\n",
      "/var/folders/ck/3npmnx597nb730qdy5w_6kp00000gn/T/ipykernel_48160/122139650.py:42: FutureWarning: The behavior of DataFrame concatenation with empty or all-NA entries is deprecated. In a future version, this will no longer exclude empty or all-NA columns when determining the result dtypes. To retain the old behavior, exclude the relevant entries before the concat operation.\n",
      "  df = pd.concat(datasets, sort=False, axis=0).reset_index(drop=True)\n",
      "/var/folders/ck/3npmnx597nb730qdy5w_6kp00000gn/T/ipykernel_48160/122139650.py:42: FutureWarning: The behavior of DataFrame concatenation with empty or all-NA entries is deprecated. In a future version, this will no longer exclude empty or all-NA columns when determining the result dtypes. To retain the old behavior, exclude the relevant entries before the concat operation.\n",
      "  df = pd.concat(datasets, sort=False, axis=0).reset_index(drop=True)\n",
      "/var/folders/ck/3npmnx597nb730qdy5w_6kp00000gn/T/ipykernel_48160/122139650.py:42: FutureWarning: The behavior of DataFrame concatenation with empty or all-NA entries is deprecated. In a future version, this will no longer exclude empty or all-NA columns when determining the result dtypes. To retain the old behavior, exclude the relevant entries before the concat operation.\n",
      "  df = pd.concat(datasets, sort=False, axis=0).reset_index(drop=True)\n",
      "/var/folders/ck/3npmnx597nb730qdy5w_6kp00000gn/T/ipykernel_48160/122139650.py:42: FutureWarning: The behavior of DataFrame concatenation with empty or all-NA entries is deprecated. In a future version, this will no longer exclude empty or all-NA columns when determining the result dtypes. To retain the old behavior, exclude the relevant entries before the concat operation.\n",
      "  df = pd.concat(datasets, sort=False, axis=0).reset_index(drop=True)\n",
      "/var/folders/ck/3npmnx597nb730qdy5w_6kp00000gn/T/ipykernel_48160/122139650.py:42: FutureWarning: The behavior of DataFrame concatenation with empty or all-NA entries is deprecated. In a future version, this will no longer exclude empty or all-NA columns when determining the result dtypes. To retain the old behavior, exclude the relevant entries before the concat operation.\n",
      "  df = pd.concat(datasets, sort=False, axis=0).reset_index(drop=True)\n",
      "/var/folders/ck/3npmnx597nb730qdy5w_6kp00000gn/T/ipykernel_48160/122139650.py:42: FutureWarning: The behavior of DataFrame concatenation with empty or all-NA entries is deprecated. In a future version, this will no longer exclude empty or all-NA columns when determining the result dtypes. To retain the old behavior, exclude the relevant entries before the concat operation.\n",
      "  df = pd.concat(datasets, sort=False, axis=0).reset_index(drop=True)\n",
      "/var/folders/ck/3npmnx597nb730qdy5w_6kp00000gn/T/ipykernel_48160/122139650.py:42: FutureWarning: The behavior of DataFrame concatenation with empty or all-NA entries is deprecated. In a future version, this will no longer exclude empty or all-NA columns when determining the result dtypes. To retain the old behavior, exclude the relevant entries before the concat operation.\n",
      "  df = pd.concat(datasets, sort=False, axis=0).reset_index(drop=True)\n",
      "/var/folders/ck/3npmnx597nb730qdy5w_6kp00000gn/T/ipykernel_48160/122139650.py:42: FutureWarning: The behavior of DataFrame concatenation with empty or all-NA entries is deprecated. In a future version, this will no longer exclude empty or all-NA columns when determining the result dtypes. To retain the old behavior, exclude the relevant entries before the concat operation.\n",
      "  df = pd.concat(datasets, sort=False, axis=0).reset_index(drop=True)\n",
      "/var/folders/ck/3npmnx597nb730qdy5w_6kp00000gn/T/ipykernel_48160/122139650.py:42: FutureWarning: The behavior of DataFrame concatenation with empty or all-NA entries is deprecated. In a future version, this will no longer exclude empty or all-NA columns when determining the result dtypes. To retain the old behavior, exclude the relevant entries before the concat operation.\n",
      "  df = pd.concat(datasets, sort=False, axis=0).reset_index(drop=True)\n",
      "/var/folders/ck/3npmnx597nb730qdy5w_6kp00000gn/T/ipykernel_48160/122139650.py:42: FutureWarning: The behavior of DataFrame concatenation with empty or all-NA entries is deprecated. In a future version, this will no longer exclude empty or all-NA columns when determining the result dtypes. To retain the old behavior, exclude the relevant entries before the concat operation.\n",
      "  df = pd.concat(datasets, sort=False, axis=0).reset_index(drop=True)\n",
      "/var/folders/ck/3npmnx597nb730qdy5w_6kp00000gn/T/ipykernel_48160/122139650.py:42: FutureWarning: The behavior of DataFrame concatenation with empty or all-NA entries is deprecated. In a future version, this will no longer exclude empty or all-NA columns when determining the result dtypes. To retain the old behavior, exclude the relevant entries before the concat operation.\n",
      "  df = pd.concat(datasets, sort=False, axis=0).reset_index(drop=True)\n",
      "/var/folders/ck/3npmnx597nb730qdy5w_6kp00000gn/T/ipykernel_48160/122139650.py:42: FutureWarning: The behavior of DataFrame concatenation with empty or all-NA entries is deprecated. In a future version, this will no longer exclude empty or all-NA columns when determining the result dtypes. To retain the old behavior, exclude the relevant entries before the concat operation.\n",
      "  df = pd.concat(datasets, sort=False, axis=0).reset_index(drop=True)\n",
      "/var/folders/ck/3npmnx597nb730qdy5w_6kp00000gn/T/ipykernel_48160/122139650.py:42: FutureWarning: The behavior of DataFrame concatenation with empty or all-NA entries is deprecated. In a future version, this will no longer exclude empty or all-NA columns when determining the result dtypes. To retain the old behavior, exclude the relevant entries before the concat operation.\n",
      "  df = pd.concat(datasets, sort=False, axis=0).reset_index(drop=True)\n",
      "/var/folders/ck/3npmnx597nb730qdy5w_6kp00000gn/T/ipykernel_48160/122139650.py:42: FutureWarning: The behavior of DataFrame concatenation with empty or all-NA entries is deprecated. In a future version, this will no longer exclude empty or all-NA columns when determining the result dtypes. To retain the old behavior, exclude the relevant entries before the concat operation.\n",
      "  df = pd.concat(datasets, sort=False, axis=0).reset_index(drop=True)\n",
      "/var/folders/ck/3npmnx597nb730qdy5w_6kp00000gn/T/ipykernel_48160/122139650.py:42: FutureWarning: The behavior of DataFrame concatenation with empty or all-NA entries is deprecated. In a future version, this will no longer exclude empty or all-NA columns when determining the result dtypes. To retain the old behavior, exclude the relevant entries before the concat operation.\n",
      "  df = pd.concat(datasets, sort=False, axis=0).reset_index(drop=True)\n",
      "/var/folders/ck/3npmnx597nb730qdy5w_6kp00000gn/T/ipykernel_48160/122139650.py:42: FutureWarning: The behavior of DataFrame concatenation with empty or all-NA entries is deprecated. In a future version, this will no longer exclude empty or all-NA columns when determining the result dtypes. To retain the old behavior, exclude the relevant entries before the concat operation.\n",
      "  df = pd.concat(datasets, sort=False, axis=0).reset_index(drop=True)\n",
      "/var/folders/ck/3npmnx597nb730qdy5w_6kp00000gn/T/ipykernel_48160/122139650.py:42: FutureWarning: The behavior of DataFrame concatenation with empty or all-NA entries is deprecated. In a future version, this will no longer exclude empty or all-NA columns when determining the result dtypes. To retain the old behavior, exclude the relevant entries before the concat operation.\n",
      "  df = pd.concat(datasets, sort=False, axis=0).reset_index(drop=True)\n",
      "/var/folders/ck/3npmnx597nb730qdy5w_6kp00000gn/T/ipykernel_48160/122139650.py:42: FutureWarning: The behavior of DataFrame concatenation with empty or all-NA entries is deprecated. In a future version, this will no longer exclude empty or all-NA columns when determining the result dtypes. To retain the old behavior, exclude the relevant entries before the concat operation.\n",
      "  df = pd.concat(datasets, sort=False, axis=0).reset_index(drop=True)\n",
      "/var/folders/ck/3npmnx597nb730qdy5w_6kp00000gn/T/ipykernel_48160/122139650.py:42: FutureWarning: The behavior of DataFrame concatenation with empty or all-NA entries is deprecated. In a future version, this will no longer exclude empty or all-NA columns when determining the result dtypes. To retain the old behavior, exclude the relevant entries before the concat operation.\n",
      "  df = pd.concat(datasets, sort=False, axis=0).reset_index(drop=True)\n",
      "/var/folders/ck/3npmnx597nb730qdy5w_6kp00000gn/T/ipykernel_48160/122139650.py:42: FutureWarning: The behavior of DataFrame concatenation with empty or all-NA entries is deprecated. In a future version, this will no longer exclude empty or all-NA columns when determining the result dtypes. To retain the old behavior, exclude the relevant entries before the concat operation.\n",
      "  df = pd.concat(datasets, sort=False, axis=0).reset_index(drop=True)\n",
      "/var/folders/ck/3npmnx597nb730qdy5w_6kp00000gn/T/ipykernel_48160/122139650.py:42: FutureWarning: The behavior of DataFrame concatenation with empty or all-NA entries is deprecated. In a future version, this will no longer exclude empty or all-NA columns when determining the result dtypes. To retain the old behavior, exclude the relevant entries before the concat operation.\n",
      "  df = pd.concat(datasets, sort=False, axis=0).reset_index(drop=True)\n",
      "/var/folders/ck/3npmnx597nb730qdy5w_6kp00000gn/T/ipykernel_48160/122139650.py:42: FutureWarning: The behavior of DataFrame concatenation with empty or all-NA entries is deprecated. In a future version, this will no longer exclude empty or all-NA columns when determining the result dtypes. To retain the old behavior, exclude the relevant entries before the concat operation.\n",
      "  df = pd.concat(datasets, sort=False, axis=0).reset_index(drop=True)\n",
      "/var/folders/ck/3npmnx597nb730qdy5w_6kp00000gn/T/ipykernel_48160/122139650.py:42: FutureWarning: The behavior of DataFrame concatenation with empty or all-NA entries is deprecated. In a future version, this will no longer exclude empty or all-NA columns when determining the result dtypes. To retain the old behavior, exclude the relevant entries before the concat operation.\n",
      "  df = pd.concat(datasets, sort=False, axis=0).reset_index(drop=True)\n",
      "/var/folders/ck/3npmnx597nb730qdy5w_6kp00000gn/T/ipykernel_48160/122139650.py:42: FutureWarning: The behavior of DataFrame concatenation with empty or all-NA entries is deprecated. In a future version, this will no longer exclude empty or all-NA columns when determining the result dtypes. To retain the old behavior, exclude the relevant entries before the concat operation.\n",
      "  df = pd.concat(datasets, sort=False, axis=0).reset_index(drop=True)\n",
      "/var/folders/ck/3npmnx597nb730qdy5w_6kp00000gn/T/ipykernel_48160/122139650.py:42: FutureWarning: The behavior of DataFrame concatenation with empty or all-NA entries is deprecated. In a future version, this will no longer exclude empty or all-NA columns when determining the result dtypes. To retain the old behavior, exclude the relevant entries before the concat operation.\n",
      "  df = pd.concat(datasets, sort=False, axis=0).reset_index(drop=True)\n",
      "/var/folders/ck/3npmnx597nb730qdy5w_6kp00000gn/T/ipykernel_48160/122139650.py:42: FutureWarning: The behavior of DataFrame concatenation with empty or all-NA entries is deprecated. In a future version, this will no longer exclude empty or all-NA columns when determining the result dtypes. To retain the old behavior, exclude the relevant entries before the concat operation.\n",
      "  df = pd.concat(datasets, sort=False, axis=0).reset_index(drop=True)\n",
      "/var/folders/ck/3npmnx597nb730qdy5w_6kp00000gn/T/ipykernel_48160/122139650.py:42: FutureWarning: The behavior of DataFrame concatenation with empty or all-NA entries is deprecated. In a future version, this will no longer exclude empty or all-NA columns when determining the result dtypes. To retain the old behavior, exclude the relevant entries before the concat operation.\n",
      "  df = pd.concat(datasets, sort=False, axis=0).reset_index(drop=True)\n",
      "/var/folders/ck/3npmnx597nb730qdy5w_6kp00000gn/T/ipykernel_48160/122139650.py:42: FutureWarning: The behavior of DataFrame concatenation with empty or all-NA entries is deprecated. In a future version, this will no longer exclude empty or all-NA columns when determining the result dtypes. To retain the old behavior, exclude the relevant entries before the concat operation.\n",
      "  df = pd.concat(datasets, sort=False, axis=0).reset_index(drop=True)\n",
      "/var/folders/ck/3npmnx597nb730qdy5w_6kp00000gn/T/ipykernel_48160/122139650.py:42: FutureWarning: The behavior of DataFrame concatenation with empty or all-NA entries is deprecated. In a future version, this will no longer exclude empty or all-NA columns when determining the result dtypes. To retain the old behavior, exclude the relevant entries before the concat operation.\n",
      "  df = pd.concat(datasets, sort=False, axis=0).reset_index(drop=True)\n",
      "/var/folders/ck/3npmnx597nb730qdy5w_6kp00000gn/T/ipykernel_48160/122139650.py:42: FutureWarning: The behavior of DataFrame concatenation with empty or all-NA entries is deprecated. In a future version, this will no longer exclude empty or all-NA columns when determining the result dtypes. To retain the old behavior, exclude the relevant entries before the concat operation.\n",
      "  df = pd.concat(datasets, sort=False, axis=0).reset_index(drop=True)\n",
      "/var/folders/ck/3npmnx597nb730qdy5w_6kp00000gn/T/ipykernel_48160/122139650.py:42: FutureWarning: The behavior of DataFrame concatenation with empty or all-NA entries is deprecated. In a future version, this will no longer exclude empty or all-NA columns when determining the result dtypes. To retain the old behavior, exclude the relevant entries before the concat operation.\n",
      "  df = pd.concat(datasets, sort=False, axis=0).reset_index(drop=True)\n",
      "/var/folders/ck/3npmnx597nb730qdy5w_6kp00000gn/T/ipykernel_48160/122139650.py:42: FutureWarning: The behavior of DataFrame concatenation with empty or all-NA entries is deprecated. In a future version, this will no longer exclude empty or all-NA columns when determining the result dtypes. To retain the old behavior, exclude the relevant entries before the concat operation.\n",
      "  df = pd.concat(datasets, sort=False, axis=0).reset_index(drop=True)\n",
      "/var/folders/ck/3npmnx597nb730qdy5w_6kp00000gn/T/ipykernel_48160/122139650.py:42: FutureWarning: The behavior of DataFrame concatenation with empty or all-NA entries is deprecated. In a future version, this will no longer exclude empty or all-NA columns when determining the result dtypes. To retain the old behavior, exclude the relevant entries before the concat operation.\n",
      "  df = pd.concat(datasets, sort=False, axis=0).reset_index(drop=True)\n",
      "/var/folders/ck/3npmnx597nb730qdy5w_6kp00000gn/T/ipykernel_48160/122139650.py:42: FutureWarning: The behavior of DataFrame concatenation with empty or all-NA entries is deprecated. In a future version, this will no longer exclude empty or all-NA columns when determining the result dtypes. To retain the old behavior, exclude the relevant entries before the concat operation.\n",
      "  df = pd.concat(datasets, sort=False, axis=0).reset_index(drop=True)\n",
      "/var/folders/ck/3npmnx597nb730qdy5w_6kp00000gn/T/ipykernel_48160/122139650.py:42: FutureWarning: The behavior of DataFrame concatenation with empty or all-NA entries is deprecated. In a future version, this will no longer exclude empty or all-NA columns when determining the result dtypes. To retain the old behavior, exclude the relevant entries before the concat operation.\n",
      "  df = pd.concat(datasets, sort=False, axis=0).reset_index(drop=True)\n",
      "/var/folders/ck/3npmnx597nb730qdy5w_6kp00000gn/T/ipykernel_48160/122139650.py:42: FutureWarning: The behavior of DataFrame concatenation with empty or all-NA entries is deprecated. In a future version, this will no longer exclude empty or all-NA columns when determining the result dtypes. To retain the old behavior, exclude the relevant entries before the concat operation.\n",
      "  df = pd.concat(datasets, sort=False, axis=0).reset_index(drop=True)\n",
      "/var/folders/ck/3npmnx597nb730qdy5w_6kp00000gn/T/ipykernel_48160/122139650.py:42: FutureWarning: The behavior of DataFrame concatenation with empty or all-NA entries is deprecated. In a future version, this will no longer exclude empty or all-NA columns when determining the result dtypes. To retain the old behavior, exclude the relevant entries before the concat operation.\n",
      "  df = pd.concat(datasets, sort=False, axis=0).reset_index(drop=True)\n",
      "/var/folders/ck/3npmnx597nb730qdy5w_6kp00000gn/T/ipykernel_48160/122139650.py:42: FutureWarning: The behavior of DataFrame concatenation with empty or all-NA entries is deprecated. In a future version, this will no longer exclude empty or all-NA columns when determining the result dtypes. To retain the old behavior, exclude the relevant entries before the concat operation.\n",
      "  df = pd.concat(datasets, sort=False, axis=0).reset_index(drop=True)\n",
      "/var/folders/ck/3npmnx597nb730qdy5w_6kp00000gn/T/ipykernel_48160/122139650.py:42: FutureWarning: The behavior of DataFrame concatenation with empty or all-NA entries is deprecated. In a future version, this will no longer exclude empty or all-NA columns when determining the result dtypes. To retain the old behavior, exclude the relevant entries before the concat operation.\n",
      "  df = pd.concat(datasets, sort=False, axis=0).reset_index(drop=True)\n",
      "/var/folders/ck/3npmnx597nb730qdy5w_6kp00000gn/T/ipykernel_48160/122139650.py:42: FutureWarning: The behavior of DataFrame concatenation with empty or all-NA entries is deprecated. In a future version, this will no longer exclude empty or all-NA columns when determining the result dtypes. To retain the old behavior, exclude the relevant entries before the concat operation.\n",
      "  df = pd.concat(datasets, sort=False, axis=0).reset_index(drop=True)\n",
      "/var/folders/ck/3npmnx597nb730qdy5w_6kp00000gn/T/ipykernel_48160/122139650.py:42: FutureWarning: The behavior of DataFrame concatenation with empty or all-NA entries is deprecated. In a future version, this will no longer exclude empty or all-NA columns when determining the result dtypes. To retain the old behavior, exclude the relevant entries before the concat operation.\n",
      "  df = pd.concat(datasets, sort=False, axis=0).reset_index(drop=True)\n",
      "/var/folders/ck/3npmnx597nb730qdy5w_6kp00000gn/T/ipykernel_48160/122139650.py:42: FutureWarning: The behavior of DataFrame concatenation with empty or all-NA entries is deprecated. In a future version, this will no longer exclude empty or all-NA columns when determining the result dtypes. To retain the old behavior, exclude the relevant entries before the concat operation.\n",
      "  df = pd.concat(datasets, sort=False, axis=0).reset_index(drop=True)\n",
      "/var/folders/ck/3npmnx597nb730qdy5w_6kp00000gn/T/ipykernel_48160/122139650.py:42: FutureWarning: The behavior of DataFrame concatenation with empty or all-NA entries is deprecated. In a future version, this will no longer exclude empty or all-NA columns when determining the result dtypes. To retain the old behavior, exclude the relevant entries before the concat operation.\n",
      "  df = pd.concat(datasets, sort=False, axis=0).reset_index(drop=True)\n",
      "/var/folders/ck/3npmnx597nb730qdy5w_6kp00000gn/T/ipykernel_48160/122139650.py:42: FutureWarning: The behavior of DataFrame concatenation with empty or all-NA entries is deprecated. In a future version, this will no longer exclude empty or all-NA columns when determining the result dtypes. To retain the old behavior, exclude the relevant entries before the concat operation.\n",
      "  df = pd.concat(datasets, sort=False, axis=0).reset_index(drop=True)\n",
      "/var/folders/ck/3npmnx597nb730qdy5w_6kp00000gn/T/ipykernel_48160/122139650.py:42: FutureWarning: The behavior of DataFrame concatenation with empty or all-NA entries is deprecated. In a future version, this will no longer exclude empty or all-NA columns when determining the result dtypes. To retain the old behavior, exclude the relevant entries before the concat operation.\n",
      "  df = pd.concat(datasets, sort=False, axis=0).reset_index(drop=True)\n",
      "/var/folders/ck/3npmnx597nb730qdy5w_6kp00000gn/T/ipykernel_48160/122139650.py:42: FutureWarning: The behavior of DataFrame concatenation with empty or all-NA entries is deprecated. In a future version, this will no longer exclude empty or all-NA columns when determining the result dtypes. To retain the old behavior, exclude the relevant entries before the concat operation.\n",
      "  df = pd.concat(datasets, sort=False, axis=0).reset_index(drop=True)\n",
      "/var/folders/ck/3npmnx597nb730qdy5w_6kp00000gn/T/ipykernel_48160/122139650.py:42: FutureWarning: The behavior of DataFrame concatenation with empty or all-NA entries is deprecated. In a future version, this will no longer exclude empty or all-NA columns when determining the result dtypes. To retain the old behavior, exclude the relevant entries before the concat operation.\n",
      "  df = pd.concat(datasets, sort=False, axis=0).reset_index(drop=True)\n",
      "/var/folders/ck/3npmnx597nb730qdy5w_6kp00000gn/T/ipykernel_48160/122139650.py:42: FutureWarning: The behavior of DataFrame concatenation with empty or all-NA entries is deprecated. In a future version, this will no longer exclude empty or all-NA columns when determining the result dtypes. To retain the old behavior, exclude the relevant entries before the concat operation.\n",
      "  df = pd.concat(datasets, sort=False, axis=0).reset_index(drop=True)\n",
      "/var/folders/ck/3npmnx597nb730qdy5w_6kp00000gn/T/ipykernel_48160/122139650.py:42: FutureWarning: The behavior of DataFrame concatenation with empty or all-NA entries is deprecated. In a future version, this will no longer exclude empty or all-NA columns when determining the result dtypes. To retain the old behavior, exclude the relevant entries before the concat operation.\n",
      "  df = pd.concat(datasets, sort=False, axis=0).reset_index(drop=True)\n",
      "/var/folders/ck/3npmnx597nb730qdy5w_6kp00000gn/T/ipykernel_48160/122139650.py:42: FutureWarning: The behavior of DataFrame concatenation with empty or all-NA entries is deprecated. In a future version, this will no longer exclude empty or all-NA columns when determining the result dtypes. To retain the old behavior, exclude the relevant entries before the concat operation.\n",
      "  df = pd.concat(datasets, sort=False, axis=0).reset_index(drop=True)\n",
      "/var/folders/ck/3npmnx597nb730qdy5w_6kp00000gn/T/ipykernel_48160/122139650.py:42: FutureWarning: The behavior of DataFrame concatenation with empty or all-NA entries is deprecated. In a future version, this will no longer exclude empty or all-NA columns when determining the result dtypes. To retain the old behavior, exclude the relevant entries before the concat operation.\n",
      "  df = pd.concat(datasets, sort=False, axis=0).reset_index(drop=True)\n",
      "/var/folders/ck/3npmnx597nb730qdy5w_6kp00000gn/T/ipykernel_48160/122139650.py:42: FutureWarning: The behavior of DataFrame concatenation with empty or all-NA entries is deprecated. In a future version, this will no longer exclude empty or all-NA columns when determining the result dtypes. To retain the old behavior, exclude the relevant entries before the concat operation.\n",
      "  df = pd.concat(datasets, sort=False, axis=0).reset_index(drop=True)\n",
      "/var/folders/ck/3npmnx597nb730qdy5w_6kp00000gn/T/ipykernel_48160/122139650.py:42: FutureWarning: The behavior of DataFrame concatenation with empty or all-NA entries is deprecated. In a future version, this will no longer exclude empty or all-NA columns when determining the result dtypes. To retain the old behavior, exclude the relevant entries before the concat operation.\n",
      "  df = pd.concat(datasets, sort=False, axis=0).reset_index(drop=True)\n",
      "/var/folders/ck/3npmnx597nb730qdy5w_6kp00000gn/T/ipykernel_48160/122139650.py:42: FutureWarning: The behavior of DataFrame concatenation with empty or all-NA entries is deprecated. In a future version, this will no longer exclude empty or all-NA columns when determining the result dtypes. To retain the old behavior, exclude the relevant entries before the concat operation.\n",
      "  df = pd.concat(datasets, sort=False, axis=0).reset_index(drop=True)\n",
      "/var/folders/ck/3npmnx597nb730qdy5w_6kp00000gn/T/ipykernel_48160/122139650.py:42: FutureWarning: The behavior of DataFrame concatenation with empty or all-NA entries is deprecated. In a future version, this will no longer exclude empty or all-NA columns when determining the result dtypes. To retain the old behavior, exclude the relevant entries before the concat operation.\n",
      "  df = pd.concat(datasets, sort=False, axis=0).reset_index(drop=True)\n",
      "/var/folders/ck/3npmnx597nb730qdy5w_6kp00000gn/T/ipykernel_48160/122139650.py:42: FutureWarning: The behavior of DataFrame concatenation with empty or all-NA entries is deprecated. In a future version, this will no longer exclude empty or all-NA columns when determining the result dtypes. To retain the old behavior, exclude the relevant entries before the concat operation.\n",
      "  df = pd.concat(datasets, sort=False, axis=0).reset_index(drop=True)\n",
      "/var/folders/ck/3npmnx597nb730qdy5w_6kp00000gn/T/ipykernel_48160/122139650.py:42: FutureWarning: The behavior of DataFrame concatenation with empty or all-NA entries is deprecated. In a future version, this will no longer exclude empty or all-NA columns when determining the result dtypes. To retain the old behavior, exclude the relevant entries before the concat operation.\n",
      "  df = pd.concat(datasets, sort=False, axis=0).reset_index(drop=True)\n",
      "/var/folders/ck/3npmnx597nb730qdy5w_6kp00000gn/T/ipykernel_48160/122139650.py:42: FutureWarning: The behavior of DataFrame concatenation with empty or all-NA entries is deprecated. In a future version, this will no longer exclude empty or all-NA columns when determining the result dtypes. To retain the old behavior, exclude the relevant entries before the concat operation.\n",
      "  df = pd.concat(datasets, sort=False, axis=0).reset_index(drop=True)\n",
      "/var/folders/ck/3npmnx597nb730qdy5w_6kp00000gn/T/ipykernel_48160/122139650.py:42: FutureWarning: The behavior of DataFrame concatenation with empty or all-NA entries is deprecated. In a future version, this will no longer exclude empty or all-NA columns when determining the result dtypes. To retain the old behavior, exclude the relevant entries before the concat operation.\n",
      "  df = pd.concat(datasets, sort=False, axis=0).reset_index(drop=True)\n",
      "/var/folders/ck/3npmnx597nb730qdy5w_6kp00000gn/T/ipykernel_48160/122139650.py:42: FutureWarning: The behavior of DataFrame concatenation with empty or all-NA entries is deprecated. In a future version, this will no longer exclude empty or all-NA columns when determining the result dtypes. To retain the old behavior, exclude the relevant entries before the concat operation.\n",
      "  df = pd.concat(datasets, sort=False, axis=0).reset_index(drop=True)\n",
      "/var/folders/ck/3npmnx597nb730qdy5w_6kp00000gn/T/ipykernel_48160/122139650.py:42: FutureWarning: The behavior of DataFrame concatenation with empty or all-NA entries is deprecated. In a future version, this will no longer exclude empty or all-NA columns when determining the result dtypes. To retain the old behavior, exclude the relevant entries before the concat operation.\n",
      "  df = pd.concat(datasets, sort=False, axis=0).reset_index(drop=True)\n",
      "/var/folders/ck/3npmnx597nb730qdy5w_6kp00000gn/T/ipykernel_48160/122139650.py:42: FutureWarning: The behavior of DataFrame concatenation with empty or all-NA entries is deprecated. In a future version, this will no longer exclude empty or all-NA columns when determining the result dtypes. To retain the old behavior, exclude the relevant entries before the concat operation.\n",
      "  df = pd.concat(datasets, sort=False, axis=0).reset_index(drop=True)\n",
      "/var/folders/ck/3npmnx597nb730qdy5w_6kp00000gn/T/ipykernel_48160/122139650.py:42: FutureWarning: The behavior of DataFrame concatenation with empty or all-NA entries is deprecated. In a future version, this will no longer exclude empty or all-NA columns when determining the result dtypes. To retain the old behavior, exclude the relevant entries before the concat operation.\n",
      "  df = pd.concat(datasets, sort=False, axis=0).reset_index(drop=True)\n",
      "/var/folders/ck/3npmnx597nb730qdy5w_6kp00000gn/T/ipykernel_48160/122139650.py:42: FutureWarning: The behavior of DataFrame concatenation with empty or all-NA entries is deprecated. In a future version, this will no longer exclude empty or all-NA columns when determining the result dtypes. To retain the old behavior, exclude the relevant entries before the concat operation.\n",
      "  df = pd.concat(datasets, sort=False, axis=0).reset_index(drop=True)\n",
      "/var/folders/ck/3npmnx597nb730qdy5w_6kp00000gn/T/ipykernel_48160/122139650.py:42: FutureWarning: The behavior of DataFrame concatenation with empty or all-NA entries is deprecated. In a future version, this will no longer exclude empty or all-NA columns when determining the result dtypes. To retain the old behavior, exclude the relevant entries before the concat operation.\n",
      "  df = pd.concat(datasets, sort=False, axis=0).reset_index(drop=True)\n",
      "/var/folders/ck/3npmnx597nb730qdy5w_6kp00000gn/T/ipykernel_48160/122139650.py:42: FutureWarning: The behavior of DataFrame concatenation with empty or all-NA entries is deprecated. In a future version, this will no longer exclude empty or all-NA columns when determining the result dtypes. To retain the old behavior, exclude the relevant entries before the concat operation.\n",
      "  df = pd.concat(datasets, sort=False, axis=0).reset_index(drop=True)\n",
      "/var/folders/ck/3npmnx597nb730qdy5w_6kp00000gn/T/ipykernel_48160/122139650.py:42: FutureWarning: The behavior of DataFrame concatenation with empty or all-NA entries is deprecated. In a future version, this will no longer exclude empty or all-NA columns when determining the result dtypes. To retain the old behavior, exclude the relevant entries before the concat operation.\n",
      "  df = pd.concat(datasets, sort=False, axis=0).reset_index(drop=True)\n"
     ]
    }
   ],
   "source": [
    "datasets = []\n",
    "\n",
    "folders = [\n",
    "    f\"/Users/alexandralugova/Documents/GitHub/MH-old-workers/data/datasets/sharew{i}_rel8-0-0_ALL_datasets_stata\"\n",
    "    for i in [4, 6]\n",
    "]\n",
    "\n",
    "merge_columns = [\"mergeid\", \"hhid1\", \"mergeidp1\", \"coupleid1\", \"country\", \"language\"]\n",
    "\n",
    "for folder in folders:\n",
    "    wave = int(folder.split(\"sharew\")[1].split(\"_\")[0])\n",
    "\n",
    "    folder_datasets = []\n",
    "\n",
    "    for filename in os.listdir(folder):\n",
    "        if (\n",
    "            filename.endswith(\"dn.dta\")\n",
    "            or filename.endswith(\"ep.dta\")\n",
    "            or filename.endswith(\"ch.dta\")\n",
    "            or filename.endswith(\"gv_health.dta\")\n",
    "        ):\n",
    "            file_path = os.path.join(folder, filename)\n",
    "            dataset = pd.read_stata(file_path)\n",
    "\n",
    "            dataset[\"wave\"] = wave\n",
    "\n",
    "            folder_datasets.append(dataset)\n",
    "\n",
    "    if folder_datasets:\n",
    "        merged_dataset = reduce(\n",
    "            lambda left, right: pd.merge(\n",
    "                left,\n",
    "                right,\n",
    "                on=left.columns.intersection(right.columns).tolist(),\n",
    "                how=\"inner\",\n",
    "            ),\n",
    "            folder_datasets,\n",
    "        )\n",
    "\n",
    "        datasets.append(merged_dataset)\n",
    "\n",
    "df = pd.concat(datasets, sort=False, axis=0).reset_index(drop=True)"
   ]
  },
  {
   "cell_type": "code",
   "execution_count": 3,
   "metadata": {},
   "outputs": [
    {
     "data": {
      "text/plain": [
       "wave\n",
       "4    58000\n",
       "6    68085\n",
       "Name: mergeid, dtype: int64"
      ]
     },
     "execution_count": 3,
     "metadata": {},
     "output_type": "execute_result"
    }
   ],
   "source": [
    "# Unique individuals\n",
    "df.groupby(\"wave\").mergeid.nunique()"
   ]
  },
  {
   "cell_type": "markdown",
   "metadata": {},
   "source": [
    "### Choose only necessary columns"
   ]
  },
  {
   "cell_type": "code",
   "execution_count": 26,
   "metadata": {},
   "outputs": [],
   "source": [
    "df_short = df[\n",
    "    [\n",
    "        \"mergeid\",\n",
    "        \"wave\",\n",
    "        \"country\",\n",
    "        \"dn002_\",\n",
    "        \"dn003_\",\n",
    "        \"dn006_\",\n",
    "        \"dn010_\",\n",
    "        \"dn014_\",\n",
    "        \"dn042_\",\n",
    "        \"ch001_\",\n",
    "        \"ep005_\",\n",
    "        \"ep009_\",\n",
    "        \"ep010_\",\n",
    "        \"ep012_\",\n",
    "        \"ep016_\",\n",
    "        \"ep616isco\",\n",
    "        \"ep152isco\",\n",
    "        \"ep141d1\",\n",
    "        \"ep141d2\",\n",
    "        \"ep141d3\",\n",
    "        # \"ep026_\",\n",
    "        # \"ep027_\",\n",
    "        # \"ep028_\",\n",
    "        # \"ep029_\",\n",
    "        # \"ep030_\",\n",
    "        # \"ep031_\",\n",
    "        # \"ep032_\",\n",
    "        # \"ep033_\",\n",
    "        # \"ep034_\",\n",
    "        # \"ep035_\",\n",
    "        # \"ep036_\",\n",
    "        # \"ep037_\",\n",
    "        \"ep071dno\",\n",
    "        \"ep671dno\",\n",
    "        \"euro1\",\n",
    "        \"euro2\",\n",
    "        \"euro3\",\n",
    "        \"euro4\",\n",
    "        \"euro5\",\n",
    "        \"euro6\",\n",
    "        \"euro7\",\n",
    "        \"euro8\",\n",
    "        \"euro9\",\n",
    "        \"euro10\",\n",
    "        \"euro11\",\n",
    "        \"euro12\",\n",
    "        \"eurod\",\n",
    "        \"eurodcat\",\n",
    "    ]\n",
    "]"
   ]
  },
  {
   "cell_type": "code",
   "execution_count": 27,
   "metadata": {},
   "outputs": [],
   "source": [
    "# Rename some essential columns\n",
    "df_short = df_short.rename(\n",
    "    columns={\n",
    "        \"dn003_\": \"yrbirth\",\n",
    "        \"dn006_\": \"yr1country\",\n",
    "        \"dn010_\": \"education\",\n",
    "        \"dn014_\": \"marital_status\",\n",
    "        \"dn042_\": \"gender\",\n",
    "        \"ch001_\": \"nb_children\",\n",
    "        \"ep005_\": \"employment\",\n",
    "        \"ep009_\": \"job_status\",\n",
    "        \"ep010_\": \"job_start\",\n",
    "        \"ep012_\": \"job_week_hours\",\n",
    "        \"ep016_\": \"job_name\",\n",
    "        \"ep616isco\": \"job_isco_current\",\n",
    "        \"ep152isco\": \"last_main_job\",\n",
    "        \"ep141d1\": \"job_change_type\",\n",
    "        \"ep141d2\": \"job_change_employer\",\n",
    "        \"ep141d3\": \"job_change_promotion\",\n",
    "        \"ep071dno\": \"pension\",\n",
    "        \"ep671dno\": \"pension1\",\n",
    "    }\n",
    ")"
   ]
  },
  {
   "cell_type": "code",
   "execution_count": 31,
   "metadata": {},
   "outputs": [
    {
     "data": {
      "text/plain": [
       "job_isco_current\n",
       "NaN           119670\n",
       "Don't know       786\n",
       "4110.0           175\n",
       "9112.0           145\n",
       "2221.0           125\n",
       "               ...  \n",
       "3252.0             1\n",
       "7124.0             1\n",
       "3230.0             1\n",
       "9212.0             1\n",
       "310.0              1\n",
       "Name: count, Length: 406, dtype: int64"
      ]
     },
     "execution_count": 31,
     "metadata": {},
     "output_type": "execute_result"
    }
   ],
   "source": [
    "df_short.job_isco_current.value_counts(dropna=False)"
   ]
  },
  {
   "cell_type": "code",
   "execution_count": 32,
   "metadata": {},
   "outputs": [
    {
     "data": {
      "text/plain": [
       "last_main_job\n",
       "NaN           119661\n",
       "Don't know       950\n",
       "4110.0           148\n",
       "9112.0           145\n",
       "3343.0           136\n",
       "               ...  \n",
       "7316.0             1\n",
       "2143.0             1\n",
       "7127.0             1\n",
       "2522.0             1\n",
       "312.0              1\n",
       "Name: count, Length: 379, dtype: int64"
      ]
     },
     "execution_count": 32,
     "metadata": {},
     "output_type": "execute_result"
    }
   ],
   "source": [
    "df_short.last_main_job.value_counts(dropna=False)"
   ]
  },
  {
   "cell_type": "code",
   "execution_count": 17,
   "metadata": {},
   "outputs": [
    {
     "data": {
      "text/plain": [
       "68085"
      ]
     },
     "execution_count": 17,
     "metadata": {},
     "output_type": "execute_result"
    }
   ],
   "source": [
    "len(df_short[df_short.wave == 6][\"job_isco\"])"
   ]
  },
  {
   "cell_type": "code",
   "execution_count": 18,
   "metadata": {},
   "outputs": [
    {
     "data": {
      "text/plain": [
       "61670"
      ]
     },
     "execution_count": 18,
     "metadata": {},
     "output_type": "execute_result"
    }
   ],
   "source": [
    "df_short[df_short.wave == 6][\"job_isco\"].isna().sum()"
   ]
  },
  {
   "cell_type": "markdown",
   "metadata": {},
   "source": [
    "### Delete those who had changes in job"
   ]
  },
  {
   "cell_type": "code",
   "execution_count": 6,
   "metadata": {},
   "outputs": [],
   "source": [
    "list_changes = []\n",
    "for i in range(len(df_short)):\n",
    "    if (\n",
    "        df_short.job_change_type[i] == \"Selected\"\n",
    "        or df_short.job_change_employer[i] == \"Selected\"\n",
    "        or df_short.job_change_promotion[i] == \"Selected\"\n",
    "    ):\n",
    "        list_changes.append(df_short.mergeid[i])\n",
    "df_filtered = df_short[~df_short[\"mergeid\"].isin(list_changes)]"
   ]
  },
  {
   "cell_type": "code",
   "execution_count": 7,
   "metadata": {},
   "outputs": [
    {
     "data": {
      "text/plain": [
       "wave\n",
       "4    56718\n",
       "6    66439\n",
       "Name: mergeid, dtype: int64"
      ]
     },
     "execution_count": 7,
     "metadata": {},
     "output_type": "execute_result"
    }
   ],
   "source": [
    "# Unique individuals\n",
    "df_filtered.groupby(\"wave\").mergeid.nunique()"
   ]
  },
  {
   "cell_type": "markdown",
   "metadata": {},
   "source": [
    "### Leave only individuals present in both waves"
   ]
  },
  {
   "cell_type": "code",
   "execution_count": 9,
   "metadata": {},
   "outputs": [],
   "source": [
    "set_ids = df_filtered.groupby(\"mergeid\")[\"wave\"].apply(set)\n",
    "mergeids_with_both_waves = set_ids[set_ids.apply(lambda x: len(x) == 2)].index.tolist()\n",
    "\n",
    "df_filtered = df_filtered[df_filtered[\"mergeid\"].isin(mergeids_with_both_waves)]"
   ]
  },
  {
   "cell_type": "code",
   "execution_count": 10,
   "metadata": {},
   "outputs": [
    {
     "data": {
      "text/plain": [
       "wave\n",
       "4    33589\n",
       "6    33589\n",
       "Name: mergeid, dtype: int64"
      ]
     },
     "execution_count": 10,
     "metadata": {},
     "output_type": "execute_result"
    }
   ],
   "source": [
    "df_filtered.groupby(\"wave\").mergeid.nunique()"
   ]
  },
  {
   "cell_type": "markdown",
   "metadata": {},
   "source": [
    "### Filter countries"
   ]
  },
  {
   "cell_type": "code",
   "execution_count": 11,
   "metadata": {},
   "outputs": [
    {
     "data": {
      "text/plain": [
       "array(['Austria', 'Belgium', 'Czech Republic', 'Switzerland', 'Germany',\n",
       "       'Denmark', 'Estonia', 'Spain', 'France', 'Italy', 'Poland',\n",
       "       'Portugal', 'Sweden', 'Slovenia'], dtype=object)"
      ]
     },
     "execution_count": 11,
     "metadata": {},
     "output_type": "execute_result"
    }
   ],
   "source": [
    "df_filtered.country.unique()"
   ]
  },
  {
   "cell_type": "code",
   "execution_count": 12,
   "metadata": {},
   "outputs": [],
   "source": [
    "# Delete Sweden\n",
    "df_filtered = df_filtered[df_filtered[\"country\"] != \"Sweden\"].reset_index(drop=True)"
   ]
  },
  {
   "cell_type": "code",
   "execution_count": 13,
   "metadata": {},
   "outputs": [
    {
     "data": {
      "text/plain": [
       "wave\n",
       "4    32287\n",
       "6    32287\n",
       "Name: mergeid, dtype: int64"
      ]
     },
     "execution_count": 13,
     "metadata": {},
     "output_type": "execute_result"
    }
   ],
   "source": [
    "# Unique individuals\n",
    "df_filtered.groupby(\"wave\").mergeid.nunique()"
   ]
  },
  {
   "cell_type": "markdown",
   "metadata": {},
   "source": [
    "### Filter for only aged 50-67"
   ]
  },
  {
   "cell_type": "code",
   "execution_count": 14,
   "metadata": {},
   "outputs": [],
   "source": [
    "wave_to_year = {4: 2011, 6: 2015}\n",
    "\n",
    "# Year of survey\n",
    "df_filtered[\"yrsurvey\"] = df_filtered[\"wave\"].map(wave_to_year).astype(int)\n",
    "\n",
    "# Year of birth\n",
    "df_filtered[\"yrbirth\"] = pd.to_numeric(df_filtered[\"yrbirth\"], errors=\"coerce\")\n",
    "df_filtered = df_filtered[df_filtered[\"yrbirth\"].notna()].reset_index(drop=True)\n",
    "\n",
    "# Age\n",
    "df_filtered[\"age\"] = df_filtered[\"yrsurvey\"] - df_filtered[\"yrbirth\"]\n",
    "\n",
    "# Filter for 50+\n",
    "df_filtered = df_filtered[\n",
    "    (df_filtered[\"age\"] >= 50) & (df_filtered[\"age\"] <= 67)\n",
    "].reset_index(drop=True)"
   ]
  },
  {
   "cell_type": "code",
   "execution_count": 15,
   "metadata": {},
   "outputs": [
    {
     "data": {
      "text/plain": [
       "wave\n",
       "4    18664\n",
       "6    14445\n",
       "Name: mergeid, dtype: int64"
      ]
     },
     "execution_count": 15,
     "metadata": {},
     "output_type": "execute_result"
    }
   ],
   "source": [
    "# Unique individuals\n",
    "df_filtered.groupby(\"wave\").mergeid.nunique()"
   ]
  },
  {
   "cell_type": "markdown",
   "metadata": {},
   "source": [
    "### Filter for not retired and employed"
   ]
  },
  {
   "cell_type": "code",
   "execution_count": 16,
   "metadata": {},
   "outputs": [],
   "source": [
    "df_filtered = df_filtered[\n",
    "    df_filtered.employment\n",
    "    == \"Employed or self-employed (including working for family business)\"\n",
    "].reset_index(drop=True)"
   ]
  },
  {
   "cell_type": "code",
   "execution_count": 17,
   "metadata": {},
   "outputs": [
    {
     "data": {
      "text/plain": [
       "wave\n",
       "4    7757\n",
       "6    5393\n",
       "Name: mergeid, dtype: int64"
      ]
     },
     "execution_count": 17,
     "metadata": {},
     "output_type": "execute_result"
    }
   ],
   "source": [
    "# Unique individuals\n",
    "df_filtered.groupby(\"wave\").mergeid.nunique()"
   ]
  },
  {
   "cell_type": "markdown",
   "metadata": {},
   "source": [
    "### Filter out those who hold state pensions for disabilities or other special conditions"
   ]
  },
  {
   "cell_type": "code",
   "execution_count": 18,
   "metadata": {},
   "outputs": [],
   "source": [
    "# ep071dno and ep671dno (from wave 6) - no current state pensions\n",
    "df_filtered = df_filtered[\n",
    "    (df_filtered.pension == \"Selected\") | (df_filtered.pension1 == \"Selected\")\n",
    "].reset_index(drop=True)"
   ]
  },
  {
   "cell_type": "code",
   "execution_count": 19,
   "metadata": {},
   "outputs": [
    {
     "data": {
      "text/plain": [
       "wave\n",
       "4    6796\n",
       "6    4514\n",
       "Name: mergeid, dtype: int64"
      ]
     },
     "execution_count": 19,
     "metadata": {},
     "output_type": "execute_result"
    }
   ],
   "source": [
    "# Unique individuals\n",
    "df_filtered.groupby(\"wave\").mergeid.nunique()"
   ]
  },
  {
   "cell_type": "markdown",
   "metadata": {},
   "source": [
    "### Calculate contribution years"
   ]
  },
  {
   "cell_type": "code",
   "execution_count": 33,
   "metadata": {},
   "outputs": [],
   "source": [
    "# Load job episodes panel data (from retrospective waves 3 and 7)\n",
    "jobs = pd.read_stata(\n",
    "    \"/Users/alexandralugova/Documents/GitHub/MH-old-workers/data/datasets/sharewX_rel8-0-0_gv_job_episodes_panel.dta\"\n",
    ")"
   ]
  },
  {
   "cell_type": "code",
   "execution_count": 34,
   "metadata": {},
   "outputs": [
    {
     "data": {
      "text/plain": [
       "Index(['mergeid', 'hhid7', 'hhid3', 'jep_w', 'gender', 'yrbirth', 'age',\n",
       "       'year', 'country', 'situation', 'working', 'unemployed', 'in_education',\n",
       "       'retired', 'mainjob', 'ordjob', 'industry', 'job_title',\n",
       "       'working_hours', 'first_wage', 'currency_fw', 'first_income',\n",
       "       'currency_fi', 'reason_endjob', 'afterlast', 'lastwage', 'currency_lw',\n",
       "       'lastincome', 'currency_li', 'first_pension', 'currency_fp',\n",
       "       'country_res_', 'nchildren_nat', 'nchildren', 'age_youngest',\n",
       "       'age_youngest_nat', 'withpartner', 'married', 'contrib_employee',\n",
       "       'contrib_employer', 'early_ret_reduction', 'currency_min_pension',\n",
       "       'currency_max_pension', 'ret_age', 'early_age', 'min_pension',\n",
       "       'max_pension', 'current_wage', 'current_currency_w', 'current_income',\n",
       "       'current_currency_i'],\n",
       "      dtype='object')"
      ]
     },
     "execution_count": 34,
     "metadata": {},
     "output_type": "execute_result"
    }
   ],
   "source": [
    "jobs.columns"
   ]
  },
  {
   "cell_type": "code",
   "execution_count": 30,
   "metadata": {},
   "outputs": [],
   "source": [
    "# Calculate number of years of work for each individual\n",
    "conditions = [\"Employee or self-employed\", \"Short term job (less than 6 months)\"]\n",
    "relevant_rows = jobs[jobs[\"situation\"].isin(conditions)]\n",
    "result_jobs = (\n",
    "    relevant_rows.groupby(\"mergeid\").size().reset_index(name=\"yrscontribution2019\")\n",
    ")\n",
    "# Calculate the year of first contribution\n",
    "first_contribution = (\n",
    "    relevant_rows.groupby(\"mergeid\")[\"year\"].min().reset_index(name=\"yr1contribution\")\n",
    ")"
   ]
  },
  {
   "cell_type": "code",
   "execution_count": 31,
   "metadata": {},
   "outputs": [],
   "source": [
    "# Merge with main dataset\n",
    "df_filtered = df_filtered.merge(result_jobs, on=\"mergeid\", how=\"left\")\n",
    "df_filtered[\"yrscontribution\"] = df_filtered[\"yrscontribution2019\"] - (\n",
    "    2019 - df_filtered[\"yrsurvey\"]\n",
    ")\n",
    "df_filtered = df_filtered.merge(first_contribution, on=\"mergeid\", how=\"left\")\n",
    "df_filtered = df_filtered.merge(\n",
    "    jobs[[\"mergeid\", \"year\", \"withpartner\"]].rename(columns={\"year\": \"yrsurvey\"}),\n",
    "    on=[\"mergeid\", \"yrsurvey\"],\n",
    "    how=\"left\",\n",
    ")\n",
    "\n",
    "# Delete those with less than 10 years of contributions\n",
    "df_filtered = df_filtered[df_filtered[\"yrscontribution\"] >= 10]\n",
    "# Delete those who started work before the age of 10\n",
    "df_filtered = df_filtered[\n",
    "    df_filtered[\"yr1contribution\"].astype(int)\n",
    "    >= df_filtered[\"yrbirth\"].astype(int) + 12\n",
    "]"
   ]
  },
  {
   "cell_type": "code",
   "execution_count": 32,
   "metadata": {},
   "outputs": [
    {
     "data": {
      "text/plain": [
       "wave\n",
       "4    7124\n",
       "6    8474\n",
       "Name: mergeid, dtype: int64"
      ]
     },
     "execution_count": 32,
     "metadata": {},
     "output_type": "execute_result"
    }
   ],
   "source": [
    "# Unique individuals\n",
    "df_filtered.groupby(\"wave\").mergeid.nunique()"
   ]
  },
  {
   "cell_type": "markdown",
   "metadata": {},
   "source": [
    "### Set legal retirement ages"
   ]
  },
  {
   "cell_type": "code",
   "execution_count": 33,
   "metadata": {},
   "outputs": [],
   "source": [
    "# Make some necessary formatting\n",
    "month_to_numeric = {\n",
    "    \"January\": 1,\n",
    "    \"February\": 2,\n",
    "    \"March\": 3,\n",
    "    \"April\": 4,\n",
    "    \"May\": 5,\n",
    "    \"June\": 6,\n",
    "    \"July\": 7,\n",
    "    \"August\": 8,\n",
    "    \"September\": 9,\n",
    "    \"October\": 10,\n",
    "    \"November\": 11,\n",
    "    \"December\": 12,\n",
    "}\n",
    "\n",
    "df_filtered[\"mbirth\"] = df_filtered[\"dn002_\"].map(month_to_numeric)\n",
    "df_filtered[\"yr1country\"] = df_filtered[\"yr1country\"].fillna(df_filtered[\"yrbirth\"])\n",
    "df_filtered = df_filtered[\n",
    "    ~(\n",
    "        (df_filtered[\"country\"] == \"Czech Republic\")\n",
    "        & (df_filtered[\"gender\"] == \"Female\")\n",
    "        & pd.to_numeric(df_filtered[\"nb_children\"], errors=\"coerce\").isna()\n",
    "    )\n",
    "]"
   ]
  },
  {
   "cell_type": "code",
   "execution_count": 34,
   "metadata": {},
   "outputs": [],
   "source": [
    "country_functions_age = {\n",
    "    \"Austria\": austria_age,\n",
    "    \"Belgium\": belgium_age,\n",
    "    \"Czech Republic\": czech_republic_age,\n",
    "    \"Denmark\": denmark_age,\n",
    "    \"Estonia\": estonia_age,\n",
    "    \"France\": france_age,\n",
    "    \"Germany\": germany_age,\n",
    "    \"Italy\": italy_age,\n",
    "    \"Luxembourg\": luxembourg_age,\n",
    "    \"Poland\": poland_age,\n",
    "    \"Slovenia\": slovenia_age,\n",
    "    \"Spain\": spain_age,\n",
    "    \"Switzerland\": switzerland_age,\n",
    "}\n",
    "\n",
    "\n",
    "def calculate_retirement_age(row):\n",
    "    country = row[\"country\"]\n",
    "    if country in country_functions_age:\n",
    "        return country_functions_age[country](row)\n",
    "    else:\n",
    "        return None"
   ]
  },
  {
   "cell_type": "code",
   "execution_count": 35,
   "metadata": {},
   "outputs": [],
   "source": [
    "# Apply country-wise functions to calculate legal retirement age\n",
    "df_filtered[\"retirement_age\"] = df_filtered.apply(calculate_retirement_age, axis=1)\n",
    "\n",
    "# Delete those who are above the retirement age (continue to work longer)\n",
    "df_filtered = df_filtered[\n",
    "    df_filtered[\"retirement_age\"] > df_filtered[\"age\"]\n",
    "].reset_index(drop=True)"
   ]
  },
  {
   "cell_type": "code",
   "execution_count": 36,
   "metadata": {},
   "outputs": [
    {
     "data": {
      "text/plain": [
       "wave\n",
       "4    6566\n",
       "6    7970\n",
       "Name: mergeid, dtype: int64"
      ]
     },
     "execution_count": 36,
     "metadata": {},
     "output_type": "execute_result"
    }
   ],
   "source": [
    "# Unique individuals\n",
    "df_filtered.groupby(\"wave\").mergeid.nunique()"
   ]
  },
  {
   "cell_type": "markdown",
   "metadata": {},
   "source": [
    "### Calculate resting work horizon and its change due to reforms"
   ]
  },
  {
   "cell_type": "code",
   "execution_count": 37,
   "metadata": {},
   "outputs": [],
   "source": [
    "# Calculate resting work horizon\n",
    "df_filtered[\"work_horizon\"] = df_filtered[\"retirement_age\"] - df_filtered[\"age\"]"
   ]
  },
  {
   "cell_type": "code",
   "execution_count": 38,
   "metadata": {},
   "outputs": [],
   "source": [
    "country_functions_change = {\n",
    "    \"Austria\": austria_change,\n",
    "    \"Belgium\": belgium_change,\n",
    "    \"Czech Republic\": czech_republic_change,\n",
    "    \"Denmark\": denmark_change,\n",
    "    \"Estonia\": estonia_change,\n",
    "    \"France\": france_change,\n",
    "    \"Germany\": germany_change,\n",
    "    \"Italy\": italy_change,\n",
    "    \"Luxembourg\": luxembourg_change,\n",
    "    \"Poland\": poland_change,\n",
    "    \"Slovenia\": slovenia_change,\n",
    "    \"Spain\": spain_change,\n",
    "    \"Switzerland\": switzerland_change,\n",
    "}\n",
    "\n",
    "\n",
    "def calculate_horizon_change(row):\n",
    "    country = row[\"country\"]\n",
    "    if country in country_functions_change:\n",
    "        return country_functions_change[country](row)\n",
    "    else:\n",
    "        return None"
   ]
  },
  {
   "cell_type": "code",
   "execution_count": 39,
   "metadata": {},
   "outputs": [],
   "source": [
    "# Apply country-wise functions to calculate work horizon change due to reforms\n",
    "df_filtered[\"work_horizon_change\"] = df_filtered.apply(calculate_horizon_change, axis=1)"
   ]
  },
  {
   "cell_type": "markdown",
   "metadata": {},
   "source": [
    "### Calculate mental health indicators"
   ]
  },
  {
   "cell_type": "code",
   "execution_count": 20,
   "metadata": {},
   "outputs": [],
   "source": [
    "# Filter out those with missing values for eurod scale\n",
    "df_filtered = df_filtered.dropna(subset=[\"eurod\"]).reset_index(drop=True)"
   ]
  },
  {
   "cell_type": "code",
   "execution_count": 21,
   "metadata": {},
   "outputs": [
    {
     "data": {
      "text/plain": [
       "wave\n",
       "4    6693\n",
       "6    4388\n",
       "Name: mergeid, dtype: int64"
      ]
     },
     "execution_count": 21,
     "metadata": {},
     "output_type": "execute_result"
    }
   ],
   "source": [
    "# Unique individuals\n",
    "df_filtered.groupby(\"wave\").mergeid.nunique()"
   ]
  },
  {
   "cell_type": "code",
   "execution_count": 42,
   "metadata": {},
   "outputs": [
    {
     "name": "stderr",
     "output_type": "stream",
     "text": [
      "/var/folders/ck/3npmnx597nb730qdy5w_6kp00000gn/T/ipykernel_46304/889948878.py:36: FutureWarning: DataFrame.applymap has been deprecated. Use DataFrame.map instead.\n",
      "  ].applymap(\n"
     ]
    }
   ],
   "source": [
    "# Transform to numeric\n",
    "df_filtered[\"eurod\"] = df_filtered[\"eurod\"].replace(\n",
    "    {\"Not depressed\": 0, \"Very depressed\": 12}\n",
    ")\n",
    "df_filtered[\"eurodcat\"] = df_filtered[\"eurodcat\"].replace({\"Yes\": 1, \"No\": 0})\n",
    "df_filtered[\n",
    "    [\n",
    "        \"euro1\",\n",
    "        \"euro2\",\n",
    "        \"euro3\",\n",
    "        \"euro4\",\n",
    "        \"euro5\",\n",
    "        \"euro6\",\n",
    "        \"euro7\",\n",
    "        \"euro8\",\n",
    "        \"euro9\",\n",
    "        \"euro10\",\n",
    "        \"euro11\",\n",
    "        \"euro12\",\n",
    "    ]\n",
    "] = df_filtered[\n",
    "    [\n",
    "        \"euro1\",\n",
    "        \"euro2\",\n",
    "        \"euro3\",\n",
    "        \"euro4\",\n",
    "        \"euro5\",\n",
    "        \"euro6\",\n",
    "        \"euro7\",\n",
    "        \"euro8\",\n",
    "        \"euro9\",\n",
    "        \"euro10\",\n",
    "        \"euro11\",\n",
    "        \"euro12\",\n",
    "    ]\n",
    "].applymap(\n",
    "    lambda x: 1 if x == \"Selected\" else 0\n",
    ")"
   ]
  },
  {
   "cell_type": "code",
   "execution_count": 43,
   "metadata": {},
   "outputs": [],
   "source": [
    "# Conduct a PCA to deduct affective suffering and lack of motivation as separate indicators\n",
    "columns_for_pca = [\n",
    "    \"euro1\",\n",
    "    \"euro2\",\n",
    "    \"euro3\",\n",
    "    \"euro4\",\n",
    "    \"euro5\",\n",
    "    \"euro6\",\n",
    "    \"euro7\",\n",
    "    \"euro8\",\n",
    "    \"euro9\",\n",
    "    \"euro10\",\n",
    "    \"euro11\",\n",
    "    \"euro12\",\n",
    "]\n",
    "data_pca = df_filtered[columns_for_pca]\n",
    "\n",
    "corr_mat = np.corrcoef(data_pca, rowvar=False)  # Tetrachoric correlation matrix\n",
    "\n",
    "evals, evecs = eigh(corr_mat)  # Eigenvalues and eigenvectors\n",
    "\n",
    "fa = FactorAnalyzer(n_factors=2, rotation=\"varimax\", method=\"ml\")\n",
    "fa.fit(data_pca)\n",
    "\n",
    "factor_scores = fa.transform(data_pca)\n",
    "\n",
    "cutoff = 0.55\n",
    "\n",
    "df_filtered[\"affective_suffering\"] = 0\n",
    "df_filtered[\"motivation_lack\"] = 0\n",
    "\n",
    "df_filtered[\"affective_suffering\"] = (factor_scores[:, 0] >= cutoff).astype(int)\n",
    "df_filtered[\"motivation_lack\"] = (factor_scores[:, 1] >= cutoff).astype(int)"
   ]
  },
  {
   "cell_type": "code",
   "execution_count": 44,
   "metadata": {},
   "outputs": [
    {
     "data": {
      "text/plain": [
       "array([[0.71778892, 0.05979648],\n",
       "       [0.03365863, 0.24030064],\n",
       "       [0.25207875, 0.33871141],\n",
       "       [0.28795341, 0.197268  ],\n",
       "       [0.40115568, 0.16228975],\n",
       "       [0.17681905, 0.39142054],\n",
       "       [0.41616835, 0.16286874],\n",
       "       [0.19300032, 0.24843458],\n",
       "       [0.37475538, 0.2162275 ],\n",
       "       [0.17719192, 0.29956364],\n",
       "       [0.01092714, 0.23075122],\n",
       "       [0.49279713, 0.0648547 ]])"
      ]
     },
     "execution_count": 44,
     "metadata": {},
     "output_type": "execute_result"
    }
   ],
   "source": [
    "fa.loadings_"
   ]
  },
  {
   "cell_type": "code",
   "execution_count": 45,
   "metadata": {},
   "outputs": [
    {
     "data": {
      "text/plain": [
       "affective_suffering\n",
       "0    10074\n",
       "1     4163\n",
       "Name: count, dtype: int64"
      ]
     },
     "execution_count": 45,
     "metadata": {},
     "output_type": "execute_result"
    }
   ],
   "source": [
    "df_filtered.affective_suffering.value_counts()"
   ]
  },
  {
   "cell_type": "code",
   "execution_count": 46,
   "metadata": {},
   "outputs": [
    {
     "data": {
      "text/plain": [
       "motivation_lack\n",
       "0    12403\n",
       "1     1834\n",
       "Name: count, dtype: int64"
      ]
     },
     "execution_count": 46,
     "metadata": {},
     "output_type": "execute_result"
    }
   ],
   "source": [
    "df_filtered.motivation_lack.value_counts()"
   ]
  },
  {
   "cell_type": "markdown",
   "metadata": {},
   "source": [
    "### Leave those still present in both waves"
   ]
  },
  {
   "cell_type": "code",
   "execution_count": 22,
   "metadata": {},
   "outputs": [],
   "source": [
    "# Leave those still present in both waves\n",
    "set_ids = df_filtered.groupby(\"mergeid\")[\"wave\"].apply(set)\n",
    "mergeids_with_both_waves = set_ids[set_ids.apply(lambda x: len(x) == 2)].index.tolist()\n",
    "\n",
    "df_filtered = df_filtered[df_filtered[\"mergeid\"].isin(mergeids_with_both_waves)]"
   ]
  },
  {
   "cell_type": "code",
   "execution_count": 23,
   "metadata": {},
   "outputs": [
    {
     "data": {
      "text/plain": [
       "wave\n",
       "4    3732\n",
       "6    3732\n",
       "Name: mergeid, dtype: int64"
      ]
     },
     "execution_count": 23,
     "metadata": {},
     "output_type": "execute_result"
    }
   ],
   "source": [
    "# Unique individuals\n",
    "df_filtered.groupby(\"wave\").mergeid.nunique()"
   ]
  },
  {
   "cell_type": "markdown",
   "metadata": {},
   "source": [
    "### ISCO"
   ]
  },
  {
   "cell_type": "code",
   "execution_count": 24,
   "metadata": {},
   "outputs": [
    {
     "data": {
      "text/plain": [
       "7251"
      ]
     },
     "execution_count": 24,
     "metadata": {},
     "output_type": "execute_result"
    }
   ],
   "source": [
    "df_filtered.job_isco.isna().sum()"
   ]
  },
  {
   "cell_type": "code",
   "execution_count": 25,
   "metadata": {},
   "outputs": [
    {
     "data": {
      "text/plain": [
       "job_isco\n",
       "NaN           7251\n",
       "Don't know      24\n",
       "4110.0           8\n",
       "2221.0           5\n",
       "2341.0           5\n",
       "              ... \n",
       "3253.0           0\n",
       "3252.0           0\n",
       "3251.0           0\n",
       "3240.0           0\n",
       "4132.0           0\n",
       "Name: count, Length: 406, dtype: int64"
      ]
     },
     "execution_count": 25,
     "metadata": {},
     "output_type": "execute_result"
    }
   ],
   "source": [
    "df_filtered.job_isco.value_counts(dropna=False)"
   ]
  },
  {
   "cell_type": "code",
   "execution_count": 36,
   "metadata": {},
   "outputs": [],
   "source": [
    "# df_filtered.to_csv(\n",
    "#   \"/Users/alexandralugova/Documents/GitHub/MH-old-workers/data/datasets/data_clean.csv\",\n",
    "#    index=False,\n",
    "# )"
   ]
  }
 ],
 "metadata": {
  "kernelspec": {
   "display_name": "base",
   "language": "python",
   "name": "python3"
  },
  "language_info": {
   "codemirror_mode": {
    "name": "ipython",
    "version": 3
   },
   "file_extension": ".py",
   "mimetype": "text/x-python",
   "name": "python",
   "nbconvert_exporter": "python",
   "pygments_lexer": "ipython3",
   "version": "3.11.5"
  },
  "orig_nbformat": 4
 },
 "nbformat": 4,
 "nbformat_minor": 2
}
