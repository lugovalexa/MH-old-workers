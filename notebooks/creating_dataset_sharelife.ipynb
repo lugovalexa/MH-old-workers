{
 "cells": [
  {
   "cell_type": "markdown",
   "metadata": {},
   "source": [
    "## Creating the dataset"
   ]
  },
  {
   "cell_type": "markdown",
   "metadata": {},
   "source": [
    "### Load libraries"
   ]
  },
  {
   "cell_type": "code",
   "execution_count": 1,
   "metadata": {},
   "outputs": [],
   "source": [
    "import os\n",
    "import sys\n",
    "\n",
    "src_path = os.path.abspath(\"../\")\n",
    "sys.path.append(src_path)\n",
    "\n",
    "from functools import reduce\n",
    "\n",
    "import matplotlib.pyplot as plt\n",
    "import numpy as np\n",
    "import pandas as pd\n",
    "from factor_analyzer import FactorAnalyzer\n",
    "from pandas.io.stata import StataReader\n",
    "from scipy.linalg import eighP\n",
    "\n",
    "from utils.retirement import *\n",
    "\n",
    "# from scipy.linalg import eigh"
   ]
  },
  {
   "cell_type": "markdown",
   "metadata": {},
   "source": [
    "### Load and merge all needed datasets for Sharelife"
   ]
  },
  {
   "cell_type": "code",
   "execution_count": 2,
   "metadata": {},
   "outputs": [],
   "source": [
    "folder = \"/Users/alexandralugova/Documents/GitHub/MH-old-workers/data/datasets/sharew7_rel8-0-0_ALL_datasets_stata/\"\n",
    "merge_columns = [\"mergeid\", \"hhid7\", \"mergeidp7\", \"coupleid7\", \"country\", \"language\"]\n",
    "datasets = []\n",
    "\n",
    "for filename in os.listdir(folder):\n",
    "    if (\n",
    "        filename.endswith(\"cv_r.dta\")\n",
    "        or filename.endswith(\"technical_variables.dta\")\n",
    "        or filename.endswith(\"dn.dta\")\n",
    "        # or filename.endswith(\"ra.dta\")\n",
    "        # or filename.endswith(\"cc.dta\")\n",
    "        # or filename.endswith(\"dq.dta\")\n",
    "        or filename.endswith(\"fs.dta\")\n",
    "        # or filename.endswith(\"gl.dta\")\n",
    "        or filename.endswith(\"rh.dta\")\n",
    "        or filename.endswith(\"hs.dta\")\n",
    "        or filename.endswith(\"rc.dta\")\n",
    "        or filename.endswith(\"re.dta\")\n",
    "        or filename.endswith(\"rp.dta\")\n",
    "        or filename.endswith(\"wq.dta\")\n",
    "        or filename.endswith(\"gv_weights.dta\")\n",
    "    ):\n",
    "        file_path = os.path.join(folder, filename)\n",
    "        dataset = pd.read_stata(file_path, convert_categoricals=False)\n",
    "        datasets.append(dataset)\n",
    "\n",
    "df = reduce(lambda left, right: pd.merge(left, right, on=merge_columns), datasets)"
   ]
  },
  {
   "cell_type": "code",
   "execution_count": 3,
   "metadata": {},
   "outputs": [],
   "source": [
    "# Leave only Sharelife part\n",
    "df = df[df.mn103_ == 1].reset_index(drop=True)"
   ]
  },
  {
   "cell_type": "code",
   "execution_count": 4,
   "metadata": {},
   "outputs": [
    {
     "data": {
      "text/plain": [
       "63248"
      ]
     },
     "execution_count": 4,
     "metadata": {},
     "output_type": "execute_result"
    }
   ],
   "source": [
    "# Unique individuals\n",
    "df.mergeid.nunique()"
   ]
  },
  {
   "cell_type": "markdown",
   "metadata": {},
   "source": [
    "### Transform some variables, filter data and choose only necessary columns"
   ]
  },
  {
   "cell_type": "markdown",
   "metadata": {},
   "source": [
    "Transform countries from codes to names"
   ]
  },
  {
   "cell_type": "code",
   "execution_count": 5,
   "metadata": {},
   "outputs": [
    {
     "data": {
      "text/plain": [
       "{11: 'Austria',\n",
       " 12: 'Germany',\n",
       " 13: 'Sweden',\n",
       " 14: 'Netherlands',\n",
       " 15: 'Spain',\n",
       " 16: 'Italy',\n",
       " 17: 'France',\n",
       " 18: 'Denmark',\n",
       " 19: 'Greece',\n",
       " 20: 'Switzerland',\n",
       " 23: 'Belgium',\n",
       " 25: 'Israel',\n",
       " 28: 'Czech Republic',\n",
       " 29: 'Poland',\n",
       " 30: 'Ireland',\n",
       " 31: 'Luxembourg',\n",
       " 32: 'Hungary',\n",
       " 33: 'Portugal',\n",
       " 34: 'Slovenia',\n",
       " 35: 'Estonia',\n",
       " 47: 'Croatia',\n",
       " 48: 'Lithuania',\n",
       " 51: 'Bulgaria',\n",
       " 53: 'Cyprus',\n",
       " 55: 'Finland',\n",
       " 57: 'Latvia',\n",
       " 59: 'Malta',\n",
       " 61: 'Romania',\n",
       " 63: 'Slovakia'}"
      ]
     },
     "execution_count": 5,
     "metadata": {},
     "output_type": "execute_result"
    }
   ],
   "source": [
    "with StataReader(\n",
    "    \"/Users/alexandralugova/Documents/GitHub/MH-old-workers/data/datasets/sharew7_rel8-0-0_ALL_datasets_stata/sharew7_rel8-0-0_cv_r.dta\",\n",
    "    convert_categoricals=True,\n",
    ") as reader:\n",
    "    data = reader.read()\n",
    "    value_labels = reader.value_labels()\n",
    "value_labels.get(\"country\")"
   ]
  },
  {
   "cell_type": "code",
   "execution_count": 6,
   "metadata": {},
   "outputs": [
    {
     "data": {
      "text/plain": [
       "country\n",
       "Estonia           5115\n",
       "Slovenia          3691\n",
       "Poland            3559\n",
       "Spain             3424\n",
       "Belgium           3333\n",
       "Czech Republic    3292\n",
       "Italy             3000\n",
       "Germany           2984\n",
       "Austria           2693\n",
       "Croatia           2408\n",
       "France            2188\n",
       "Israel            2131\n",
       "Sweden            2130\n",
       "Romania           2114\n",
       "Slovakia          2077\n",
       "Lithuania         2035\n",
       "Finland           2007\n",
       "Bulgaria          1998\n",
       "Denmark           1962\n",
       "Latvia            1734\n",
       "Switzerland       1648\n",
       "Hungary           1538\n",
       "Portugal          1282\n",
       "Malta             1261\n",
       "Luxembourg        1250\n",
       "Cyprus            1233\n",
       "Greece            1161\n",
       "Name: count, dtype: int64"
      ]
     },
     "execution_count": 6,
     "metadata": {},
     "output_type": "execute_result"
    }
   ],
   "source": [
    "with StataReader(\n",
    "    \"/Users/alexandralugova/Documents/GitHub/MH-old-workers/data/datasets/sharew7_rel8-0-0_ALL_datasets_stata/sharew7_rel8-0-0_cv_r.dta\",\n",
    "    convert_categoricals=True,\n",
    ") as reader:\n",
    "    data = reader.read()\n",
    "    value_labels = reader.value_labels()\n",
    "df[\"country\"] = df[\"country\"].replace(value_labels.get(\"country\"))\n",
    "\n",
    "df[\"country\"].value_counts(dropna=False)"
   ]
  },
  {
   "cell_type": "markdown",
   "metadata": {},
   "source": [
    "Transform gender to 1=female, 0=male"
   ]
  },
  {
   "cell_type": "code",
   "execution_count": 7,
   "metadata": {},
   "outputs": [
    {
     "data": {
      "text/plain": [
       "gender\n",
       "1    36040\n",
       "0    27208\n",
       "Name: count, dtype: int64"
      ]
     },
     "execution_count": 7,
     "metadata": {},
     "output_type": "execute_result"
    }
   ],
   "source": [
    "df[\"gender\"] = df[\"gender\"].replace({1: 0, 2: 1})\n",
    "\n",
    "df[\"gender\"].value_counts(dropna=False)"
   ]
  },
  {
   "cell_type": "markdown",
   "metadata": {},
   "source": [
    "Filter for aged 50+ as for 2011 (56+ in 2017)"
   ]
  },
  {
   "cell_type": "code",
   "execution_count": 8,
   "metadata": {},
   "outputs": [],
   "source": [
    "df = df[df.age2017 >= 56].reset_index(drop=True)"
   ]
  },
  {
   "cell_type": "markdown",
   "metadata": {},
   "source": [
    "Format variable indicating first year in the country"
   ]
  },
  {
   "cell_type": "code",
   "execution_count": 9,
   "metadata": {},
   "outputs": [
    {
     "data": {
      "text/plain": [
       "count    56477.000000\n",
       "mean      1947.955079\n",
       "std          9.507598\n",
       "min       1912.000000\n",
       "25%       1941.000000\n",
       "50%       1949.000000\n",
       "75%       1955.000000\n",
       "max       2017.000000\n",
       "Name: yr1country, dtype: float64"
      ]
     },
     "execution_count": 9,
     "metadata": {},
     "output_type": "execute_result"
    }
   ],
   "source": [
    "# Rename and fill missing values with year of birth\n",
    "df[\"dn006_\"] = df[\"dn006_\"].fillna(df[\"yrbirth\"])\n",
    "df = df.rename(columns={\"dn006_\": \"yr1country\"})\n",
    "\n",
    "# Drop individuals with missing answers\n",
    "df = df[df.yr1country > 0].reset_index(drop=True)\n",
    "\n",
    "df[\"yr1country\"].describe()"
   ]
  },
  {
   "cell_type": "markdown",
   "metadata": {},
   "source": [
    "Identify the number of education years"
   ]
  },
  {
   "cell_type": "code",
   "execution_count": 10,
   "metadata": {},
   "outputs": [
    {
     "data": {
      "text/plain": [
       "count    55496.000000\n",
       "mean        10.876532\n",
       "std          4.453837\n",
       "min          0.000000\n",
       "25%          8.000000\n",
       "50%         11.000000\n",
       "75%         13.000000\n",
       "max         40.000000\n",
       "Name: yrseducation, dtype: float64"
      ]
     },
     "execution_count": 10,
     "metadata": {},
     "output_type": "execute_result"
    }
   ],
   "source": [
    "waves = [1, 2, 4, 5, 6, 7]\n",
    "dfs = []\n",
    "\n",
    "for wave in waves:\n",
    "    file_path = f\"/Users/alexandralugova/Documents/GitHub/MH-old-workers/data/datasets/sharew{wave}_rel8-0-0_ALL_datasets_stata/sharew{wave}_rel8-0-0_dn.dta\"\n",
    "    data = pd.read_stata(file_path, convert_categoricals=False)\n",
    "    dfs.append(data)\n",
    "\n",
    "dn_data = pd.concat(dfs, ignore_index=True)\n",
    "\n",
    "edu_sum = dn_data.groupby(\"mergeid\").dn041_.sum().to_frame().reset_index()\n",
    "edu_sum = edu_sum[(edu_sum.dn041_ >= 0) & (edu_sum.dn041_ <= 40)].reset_index(drop=True)\n",
    "edu_sum = edu_sum.rename(columns={\"dn041_\": \"yrseducation\"})\n",
    "\n",
    "df = df.merge(edu_sum, on=\"mergeid\", how=\"left\")\n",
    "\n",
    "# Drop individuals with missing values\n",
    "df = df.dropna(subset=\"yrseducation\").reset_index(drop=True)\n",
    "\n",
    "df.yrseducation.describe()"
   ]
  },
  {
   "cell_type": "markdown",
   "metadata": {},
   "source": [
    "Identify current job isco"
   ]
  },
  {
   "cell_type": "code",
   "execution_count": 11,
   "metadata": {},
   "outputs": [
    {
     "data": {
      "text/plain": [
       "isco\n",
       "4110    1305\n",
       "5223    1086\n",
       "9112     747\n",
       "2221     677\n",
       "2341     622\n",
       "        ... \n",
       "2358       1\n",
       "2357       1\n",
       "2122       1\n",
       "7544       1\n",
       "3514       1\n",
       "Name: count, Length: 444, dtype: int64"
      ]
     },
     "execution_count": 11,
     "metadata": {},
     "output_type": "execute_result"
    }
   ],
   "source": [
    "isco_columns = [f\"re012isco_{i}\" for i in range(1, 21)]\n",
    "\n",
    "\n",
    "def get_last_valid(row):\n",
    "    last_valid_index = row.last_valid_index()\n",
    "    if pd.notnull(last_valid_index):\n",
    "        return row[last_valid_index]\n",
    "    else:\n",
    "        return pd.NA\n",
    "\n",
    "\n",
    "df[\"isco\"] = df[isco_columns].apply(get_last_valid, axis=1)\n",
    "\n",
    "# Drop individuals with missing values\n",
    "df = df[df.isco > 0].reset_index(drop=True)\n",
    "df = df.dropna(subset=\"isco\").reset_index(drop=True)\n",
    "\n",
    "# Correct some of the codes that are wrong due to formatting - one 0 is missing at the end\n",
    "df[\"isco\"] = df[\"isco\"].astype(int)\n",
    "df[\"isco\"] = df[\"isco\"].apply(lambda x: x * 10 if 99 < x < 1000 else x)\n",
    "\n",
    "# Drop codes with less than 10 individuals\n",
    "# isco_filter = df[\"isco\"].value_counts().to_frame().reset_index()\n",
    "# selected_isco = isco_filter[isco_filter[\"count\"] >= 10][\"isco\"].tolist()\n",
    "# df = df[df[\"isco\"].isin(selected_isco)].reset_index(drop=True)\n",
    "\n",
    "df[\"isco\"].value_counts()"
   ]
  },
  {
   "cell_type": "markdown",
   "metadata": {},
   "source": [
    "Leave only individuals that did not change job between 2011 and 2017"
   ]
  },
  {
   "cell_type": "code",
   "execution_count": 12,
   "metadata": {},
   "outputs": [],
   "source": [
    "start_columns = [f\"re011_{i}\" for i in range(1, 21)]\n",
    "df[\"job_start\"] = df[start_columns].apply(get_last_valid, axis=1)\n",
    "df = df[df[\"job_start\"] <= 2011].reset_index(drop=True)"
   ]
  },
  {
   "cell_type": "markdown",
   "metadata": {},
   "source": [
    "Calculate contribution years and first year of contribution"
   ]
  },
  {
   "cell_type": "code",
   "execution_count": 13,
   "metadata": {},
   "outputs": [],
   "source": [
    "# Load job episodes panel data (from retrospective waves 3 and 7)\n",
    "jobs = pd.read_stata(\n",
    "    \"/Users/alexandralugova/Documents/GitHub/MH-old-workers/data/datasets/sharewX_rel8-0-0_gv_job_episodes_panel.dta\"\n",
    ")\n",
    "\n",
    "# Calculate number of years of work for each individual\n",
    "conditions = [\"Employee or self-employed\", \"Short term job (less than 6 months)\"]\n",
    "relevant_rows = jobs[jobs[\"situation\"].isin(conditions)]\n",
    "\n",
    "max_year = relevant_rows.groupby(\"mergeid\")[\"year\"].max().to_frame().reset_index()\n",
    "result_jobs = (\n",
    "    relevant_rows.groupby(\"mergeid\").size().reset_index(name=\"yrscontribution2017\")\n",
    ")\n",
    "max_year = max_year.merge(result_jobs, on=\"mergeid\", how=\"left\")\n",
    "max_year[[\"yrscontribution2017\", \"year\"]] = max_year[\n",
    "    [\"yrscontribution2017\", \"year\"]\n",
    "].astype(\"int\")\n",
    "max_year[\"yrscontribution2017\"] += (2017 - max_year[\"year\"]).where(\n",
    "    max_year[\"year\"] < 2017, 0\n",
    ")\n",
    "max_year[\"yrscontribution2017\"] -= (max_year[\"year\"] - 2017).where(\n",
    "    max_year[\"year\"] > 2017, 0\n",
    ")\n",
    "\n",
    "# Calculate the year of first contribution\n",
    "first_contribution = (\n",
    "    relevant_rows.groupby(\"mergeid\")[\"year\"].min().reset_index(name=\"yr1contribution\")\n",
    ")\n",
    "\n",
    "# Merge with main dataset\n",
    "df = df.merge(max_year[[\"mergeid\", \"yrscontribution2017\"]], on=\"mergeid\", how=\"left\")\n",
    "df = df.merge(first_contribution, on=\"mergeid\", how=\"left\")\n",
    "\n",
    "# Delete those with less than 10 years of contributions in 2015\n",
    "df = df[df[\"yrscontribution2017\"] >= 12].reset_index(drop=True)\n",
    "\n",
    "# Delete those who started work before the age of 10\n",
    "df[\"yr1contribution\"] = df[\"yr1contribution\"].astype(\"int\")\n",
    "df = df[df[\"yr1contribution\"] >= df[\"yrbirth\"].astype(int) + 10]"
   ]
  },
  {
   "cell_type": "code",
   "execution_count": 14,
   "metadata": {},
   "outputs": [
    {
     "data": {
      "text/plain": [
       "39808"
      ]
     },
     "execution_count": 14,
     "metadata": {},
     "output_type": "execute_result"
    }
   ],
   "source": [
    "# Individuals left after filters\n",
    "len(df)"
   ]
  },
  {
   "cell_type": "markdown",
   "metadata": {},
   "source": [
    "Choose only necessary columns"
   ]
  },
  {
   "cell_type": "code",
   "execution_count": 15,
   "metadata": {},
   "outputs": [],
   "source": [
    "df = df[\n",
    "    [\n",
    "        \"mergeid\",\n",
    "        \"country\",\n",
    "        \"gender\",\n",
    "        \"yrbirth\",\n",
    "        \"mobirth\",\n",
    "        \"age2017\",\n",
    "        \"yr1country\",\n",
    "        \"yrseducation\",\n",
    "        \"isco\",\n",
    "        \"yrscontribution2017\",\n",
    "        \"yr1contribution\",\n",
    "    ]\n",
    "]"
   ]
  },
  {
   "cell_type": "code",
   "execution_count": 16,
   "metadata": {},
   "outputs": [],
   "source": [
    "# Last formatting\n",
    "df[\"mobirth\"] = df[\"mobirth\"].fillna(1)"
   ]
  },
  {
   "cell_type": "markdown",
   "metadata": {},
   "source": [
    "### Add additional data for individuals with isco codes from waves 6, 7 and 8"
   ]
  },
  {
   "cell_type": "markdown",
   "metadata": {},
   "source": [
    "Load datasets for waves 6,7 and 8"
   ]
  },
  {
   "cell_type": "code",
   "execution_count": 17,
   "metadata": {},
   "outputs": [
    {
     "name": "stderr",
     "output_type": "stream",
     "text": [
      "/var/folders/ck/3npmnx597nb730qdy5w_6kp00000gn/T/ipykernel_16384/1098949800.py:42: FutureWarning: The behavior of DataFrame concatenation with empty or all-NA entries is deprecated. In a future version, this will no longer exclude empty or all-NA columns when determining the result dtypes. To retain the old behavior, exclude the relevant entries before the concat operation.\n",
      "  waves = pd.concat(datasets, sort=False, axis=0).reset_index(drop=True)\n",
      "/var/folders/ck/3npmnx597nb730qdy5w_6kp00000gn/T/ipykernel_16384/1098949800.py:42: FutureWarning: The behavior of DataFrame concatenation with empty or all-NA entries is deprecated. In a future version, this will no longer exclude empty or all-NA columns when determining the result dtypes. To retain the old behavior, exclude the relevant entries before the concat operation.\n",
      "  waves = pd.concat(datasets, sort=False, axis=0).reset_index(drop=True)\n",
      "/var/folders/ck/3npmnx597nb730qdy5w_6kp00000gn/T/ipykernel_16384/1098949800.py:42: FutureWarning: The behavior of DataFrame concatenation with empty or all-NA entries is deprecated. In a future version, this will no longer exclude empty or all-NA columns when determining the result dtypes. To retain the old behavior, exclude the relevant entries before the concat operation.\n",
      "  waves = pd.concat(datasets, sort=False, axis=0).reset_index(drop=True)\n",
      "/var/folders/ck/3npmnx597nb730qdy5w_6kp00000gn/T/ipykernel_16384/1098949800.py:42: FutureWarning: The behavior of DataFrame concatenation with empty or all-NA entries is deprecated. In a future version, this will no longer exclude empty or all-NA columns when determining the result dtypes. To retain the old behavior, exclude the relevant entries before the concat operation.\n",
      "  waves = pd.concat(datasets, sort=False, axis=0).reset_index(drop=True)\n",
      "/var/folders/ck/3npmnx597nb730qdy5w_6kp00000gn/T/ipykernel_16384/1098949800.py:42: FutureWarning: The behavior of DataFrame concatenation with empty or all-NA entries is deprecated. In a future version, this will no longer exclude empty or all-NA columns when determining the result dtypes. To retain the old behavior, exclude the relevant entries before the concat operation.\n",
      "  waves = pd.concat(datasets, sort=False, axis=0).reset_index(drop=True)\n",
      "/var/folders/ck/3npmnx597nb730qdy5w_6kp00000gn/T/ipykernel_16384/1098949800.py:42: FutureWarning: The behavior of DataFrame concatenation with empty or all-NA entries is deprecated. In a future version, this will no longer exclude empty or all-NA columns when determining the result dtypes. To retain the old behavior, exclude the relevant entries before the concat operation.\n",
      "  waves = pd.concat(datasets, sort=False, axis=0).reset_index(drop=True)\n",
      "/var/folders/ck/3npmnx597nb730qdy5w_6kp00000gn/T/ipykernel_16384/1098949800.py:42: FutureWarning: The behavior of DataFrame concatenation with empty or all-NA entries is deprecated. In a future version, this will no longer exclude empty or all-NA columns when determining the result dtypes. To retain the old behavior, exclude the relevant entries before the concat operation.\n",
      "  waves = pd.concat(datasets, sort=False, axis=0).reset_index(drop=True)\n",
      "/var/folders/ck/3npmnx597nb730qdy5w_6kp00000gn/T/ipykernel_16384/1098949800.py:42: FutureWarning: The behavior of DataFrame concatenation with empty or all-NA entries is deprecated. In a future version, this will no longer exclude empty or all-NA columns when determining the result dtypes. To retain the old behavior, exclude the relevant entries before the concat operation.\n",
      "  waves = pd.concat(datasets, sort=False, axis=0).reset_index(drop=True)\n",
      "/var/folders/ck/3npmnx597nb730qdy5w_6kp00000gn/T/ipykernel_16384/1098949800.py:42: FutureWarning: The behavior of DataFrame concatenation with empty or all-NA entries is deprecated. In a future version, this will no longer exclude empty or all-NA columns when determining the result dtypes. To retain the old behavior, exclude the relevant entries before the concat operation.\n",
      "  waves = pd.concat(datasets, sort=False, axis=0).reset_index(drop=True)\n",
      "/var/folders/ck/3npmnx597nb730qdy5w_6kp00000gn/T/ipykernel_16384/1098949800.py:42: FutureWarning: The behavior of DataFrame concatenation with empty or all-NA entries is deprecated. In a future version, this will no longer exclude empty or all-NA columns when determining the result dtypes. To retain the old behavior, exclude the relevant entries before the concat operation.\n",
      "  waves = pd.concat(datasets, sort=False, axis=0).reset_index(drop=True)\n",
      "/var/folders/ck/3npmnx597nb730qdy5w_6kp00000gn/T/ipykernel_16384/1098949800.py:42: FutureWarning: The behavior of DataFrame concatenation with empty or all-NA entries is deprecated. In a future version, this will no longer exclude empty or all-NA columns when determining the result dtypes. To retain the old behavior, exclude the relevant entries before the concat operation.\n",
      "  waves = pd.concat(datasets, sort=False, axis=0).reset_index(drop=True)\n",
      "/var/folders/ck/3npmnx597nb730qdy5w_6kp00000gn/T/ipykernel_16384/1098949800.py:42: FutureWarning: The behavior of DataFrame concatenation with empty or all-NA entries is deprecated. In a future version, this will no longer exclude empty or all-NA columns when determining the result dtypes. To retain the old behavior, exclude the relevant entries before the concat operation.\n",
      "  waves = pd.concat(datasets, sort=False, axis=0).reset_index(drop=True)\n",
      "/var/folders/ck/3npmnx597nb730qdy5w_6kp00000gn/T/ipykernel_16384/1098949800.py:42: FutureWarning: The behavior of DataFrame concatenation with empty or all-NA entries is deprecated. In a future version, this will no longer exclude empty or all-NA columns when determining the result dtypes. To retain the old behavior, exclude the relevant entries before the concat operation.\n",
      "  waves = pd.concat(datasets, sort=False, axis=0).reset_index(drop=True)\n",
      "/var/folders/ck/3npmnx597nb730qdy5w_6kp00000gn/T/ipykernel_16384/1098949800.py:42: FutureWarning: The behavior of DataFrame concatenation with empty or all-NA entries is deprecated. In a future version, this will no longer exclude empty or all-NA columns when determining the result dtypes. To retain the old behavior, exclude the relevant entries before the concat operation.\n",
      "  waves = pd.concat(datasets, sort=False, axis=0).reset_index(drop=True)\n",
      "/var/folders/ck/3npmnx597nb730qdy5w_6kp00000gn/T/ipykernel_16384/1098949800.py:42: FutureWarning: The behavior of DataFrame concatenation with empty or all-NA entries is deprecated. In a future version, this will no longer exclude empty or all-NA columns when determining the result dtypes. To retain the old behavior, exclude the relevant entries before the concat operation.\n",
      "  waves = pd.concat(datasets, sort=False, axis=0).reset_index(drop=True)\n",
      "/var/folders/ck/3npmnx597nb730qdy5w_6kp00000gn/T/ipykernel_16384/1098949800.py:42: FutureWarning: The behavior of DataFrame concatenation with empty or all-NA entries is deprecated. In a future version, this will no longer exclude empty or all-NA columns when determining the result dtypes. To retain the old behavior, exclude the relevant entries before the concat operation.\n",
      "  waves = pd.concat(datasets, sort=False, axis=0).reset_index(drop=True)\n",
      "/var/folders/ck/3npmnx597nb730qdy5w_6kp00000gn/T/ipykernel_16384/1098949800.py:42: FutureWarning: The behavior of DataFrame concatenation with empty or all-NA entries is deprecated. In a future version, this will no longer exclude empty or all-NA columns when determining the result dtypes. To retain the old behavior, exclude the relevant entries before the concat operation.\n",
      "  waves = pd.concat(datasets, sort=False, axis=0).reset_index(drop=True)\n",
      "/var/folders/ck/3npmnx597nb730qdy5w_6kp00000gn/T/ipykernel_16384/1098949800.py:42: FutureWarning: The behavior of DataFrame concatenation with empty or all-NA entries is deprecated. In a future version, this will no longer exclude empty or all-NA columns when determining the result dtypes. To retain the old behavior, exclude the relevant entries before the concat operation.\n",
      "  waves = pd.concat(datasets, sort=False, axis=0).reset_index(drop=True)\n",
      "/var/folders/ck/3npmnx597nb730qdy5w_6kp00000gn/T/ipykernel_16384/1098949800.py:42: FutureWarning: The behavior of DataFrame concatenation with empty or all-NA entries is deprecated. In a future version, this will no longer exclude empty or all-NA columns when determining the result dtypes. To retain the old behavior, exclude the relevant entries before the concat operation.\n",
      "  waves = pd.concat(datasets, sort=False, axis=0).reset_index(drop=True)\n",
      "/var/folders/ck/3npmnx597nb730qdy5w_6kp00000gn/T/ipykernel_16384/1098949800.py:42: FutureWarning: The behavior of DataFrame concatenation with empty or all-NA entries is deprecated. In a future version, this will no longer exclude empty or all-NA columns when determining the result dtypes. To retain the old behavior, exclude the relevant entries before the concat operation.\n",
      "  waves = pd.concat(datasets, sort=False, axis=0).reset_index(drop=True)\n",
      "/var/folders/ck/3npmnx597nb730qdy5w_6kp00000gn/T/ipykernel_16384/1098949800.py:42: FutureWarning: The behavior of DataFrame concatenation with empty or all-NA entries is deprecated. In a future version, this will no longer exclude empty or all-NA columns when determining the result dtypes. To retain the old behavior, exclude the relevant entries before the concat operation.\n",
      "  waves = pd.concat(datasets, sort=False, axis=0).reset_index(drop=True)\n",
      "/var/folders/ck/3npmnx597nb730qdy5w_6kp00000gn/T/ipykernel_16384/1098949800.py:42: FutureWarning: The behavior of DataFrame concatenation with empty or all-NA entries is deprecated. In a future version, this will no longer exclude empty or all-NA columns when determining the result dtypes. To retain the old behavior, exclude the relevant entries before the concat operation.\n",
      "  waves = pd.concat(datasets, sort=False, axis=0).reset_index(drop=True)\n",
      "/var/folders/ck/3npmnx597nb730qdy5w_6kp00000gn/T/ipykernel_16384/1098949800.py:42: FutureWarning: The behavior of DataFrame concatenation with empty or all-NA entries is deprecated. In a future version, this will no longer exclude empty or all-NA columns when determining the result dtypes. To retain the old behavior, exclude the relevant entries before the concat operation.\n",
      "  waves = pd.concat(datasets, sort=False, axis=0).reset_index(drop=True)\n",
      "/var/folders/ck/3npmnx597nb730qdy5w_6kp00000gn/T/ipykernel_16384/1098949800.py:42: FutureWarning: The behavior of DataFrame concatenation with empty or all-NA entries is deprecated. In a future version, this will no longer exclude empty or all-NA columns when determining the result dtypes. To retain the old behavior, exclude the relevant entries before the concat operation.\n",
      "  waves = pd.concat(datasets, sort=False, axis=0).reset_index(drop=True)\n",
      "/var/folders/ck/3npmnx597nb730qdy5w_6kp00000gn/T/ipykernel_16384/1098949800.py:42: FutureWarning: The behavior of DataFrame concatenation with empty or all-NA entries is deprecated. In a future version, this will no longer exclude empty or all-NA columns when determining the result dtypes. To retain the old behavior, exclude the relevant entries before the concat operation.\n",
      "  waves = pd.concat(datasets, sort=False, axis=0).reset_index(drop=True)\n",
      "/var/folders/ck/3npmnx597nb730qdy5w_6kp00000gn/T/ipykernel_16384/1098949800.py:42: FutureWarning: The behavior of DataFrame concatenation with empty or all-NA entries is deprecated. In a future version, this will no longer exclude empty or all-NA columns when determining the result dtypes. To retain the old behavior, exclude the relevant entries before the concat operation.\n",
      "  waves = pd.concat(datasets, sort=False, axis=0).reset_index(drop=True)\n",
      "/var/folders/ck/3npmnx597nb730qdy5w_6kp00000gn/T/ipykernel_16384/1098949800.py:42: FutureWarning: The behavior of DataFrame concatenation with empty or all-NA entries is deprecated. In a future version, this will no longer exclude empty or all-NA columns when determining the result dtypes. To retain the old behavior, exclude the relevant entries before the concat operation.\n",
      "  waves = pd.concat(datasets, sort=False, axis=0).reset_index(drop=True)\n",
      "/var/folders/ck/3npmnx597nb730qdy5w_6kp00000gn/T/ipykernel_16384/1098949800.py:42: FutureWarning: The behavior of DataFrame concatenation with empty or all-NA entries is deprecated. In a future version, this will no longer exclude empty or all-NA columns when determining the result dtypes. To retain the old behavior, exclude the relevant entries before the concat operation.\n",
      "  waves = pd.concat(datasets, sort=False, axis=0).reset_index(drop=True)\n",
      "/var/folders/ck/3npmnx597nb730qdy5w_6kp00000gn/T/ipykernel_16384/1098949800.py:42: FutureWarning: The behavior of DataFrame concatenation with empty or all-NA entries is deprecated. In a future version, this will no longer exclude empty or all-NA columns when determining the result dtypes. To retain the old behavior, exclude the relevant entries before the concat operation.\n",
      "  waves = pd.concat(datasets, sort=False, axis=0).reset_index(drop=True)\n",
      "/var/folders/ck/3npmnx597nb730qdy5w_6kp00000gn/T/ipykernel_16384/1098949800.py:42: FutureWarning: The behavior of DataFrame concatenation with empty or all-NA entries is deprecated. In a future version, this will no longer exclude empty or all-NA columns when determining the result dtypes. To retain the old behavior, exclude the relevant entries before the concat operation.\n",
      "  waves = pd.concat(datasets, sort=False, axis=0).reset_index(drop=True)\n",
      "/var/folders/ck/3npmnx597nb730qdy5w_6kp00000gn/T/ipykernel_16384/1098949800.py:42: FutureWarning: The behavior of DataFrame concatenation with empty or all-NA entries is deprecated. In a future version, this will no longer exclude empty or all-NA columns when determining the result dtypes. To retain the old behavior, exclude the relevant entries before the concat operation.\n",
      "  waves = pd.concat(datasets, sort=False, axis=0).reset_index(drop=True)\n",
      "/var/folders/ck/3npmnx597nb730qdy5w_6kp00000gn/T/ipykernel_16384/1098949800.py:42: FutureWarning: The behavior of DataFrame concatenation with empty or all-NA entries is deprecated. In a future version, this will no longer exclude empty or all-NA columns when determining the result dtypes. To retain the old behavior, exclude the relevant entries before the concat operation.\n",
      "  waves = pd.concat(datasets, sort=False, axis=0).reset_index(drop=True)\n",
      "/var/folders/ck/3npmnx597nb730qdy5w_6kp00000gn/T/ipykernel_16384/1098949800.py:42: FutureWarning: The behavior of DataFrame concatenation with empty or all-NA entries is deprecated. In a future version, this will no longer exclude empty or all-NA columns when determining the result dtypes. To retain the old behavior, exclude the relevant entries before the concat operation.\n",
      "  waves = pd.concat(datasets, sort=False, axis=0).reset_index(drop=True)\n",
      "/var/folders/ck/3npmnx597nb730qdy5w_6kp00000gn/T/ipykernel_16384/1098949800.py:42: FutureWarning: The behavior of DataFrame concatenation with empty or all-NA entries is deprecated. In a future version, this will no longer exclude empty or all-NA columns when determining the result dtypes. To retain the old behavior, exclude the relevant entries before the concat operation.\n",
      "  waves = pd.concat(datasets, sort=False, axis=0).reset_index(drop=True)\n",
      "/var/folders/ck/3npmnx597nb730qdy5w_6kp00000gn/T/ipykernel_16384/1098949800.py:42: FutureWarning: The behavior of DataFrame concatenation with empty or all-NA entries is deprecated. In a future version, this will no longer exclude empty or all-NA columns when determining the result dtypes. To retain the old behavior, exclude the relevant entries before the concat operation.\n",
      "  waves = pd.concat(datasets, sort=False, axis=0).reset_index(drop=True)\n",
      "/var/folders/ck/3npmnx597nb730qdy5w_6kp00000gn/T/ipykernel_16384/1098949800.py:42: FutureWarning: The behavior of DataFrame concatenation with empty or all-NA entries is deprecated. In a future version, this will no longer exclude empty or all-NA columns when determining the result dtypes. To retain the old behavior, exclude the relevant entries before the concat operation.\n",
      "  waves = pd.concat(datasets, sort=False, axis=0).reset_index(drop=True)\n",
      "/var/folders/ck/3npmnx597nb730qdy5w_6kp00000gn/T/ipykernel_16384/1098949800.py:42: FutureWarning: The behavior of DataFrame concatenation with empty or all-NA entries is deprecated. In a future version, this will no longer exclude empty or all-NA columns when determining the result dtypes. To retain the old behavior, exclude the relevant entries before the concat operation.\n",
      "  waves = pd.concat(datasets, sort=False, axis=0).reset_index(drop=True)\n",
      "/var/folders/ck/3npmnx597nb730qdy5w_6kp00000gn/T/ipykernel_16384/1098949800.py:42: FutureWarning: The behavior of DataFrame concatenation with empty or all-NA entries is deprecated. In a future version, this will no longer exclude empty or all-NA columns when determining the result dtypes. To retain the old behavior, exclude the relevant entries before the concat operation.\n",
      "  waves = pd.concat(datasets, sort=False, axis=0).reset_index(drop=True)\n",
      "/var/folders/ck/3npmnx597nb730qdy5w_6kp00000gn/T/ipykernel_16384/1098949800.py:42: FutureWarning: The behavior of DataFrame concatenation with empty or all-NA entries is deprecated. In a future version, this will no longer exclude empty or all-NA columns when determining the result dtypes. To retain the old behavior, exclude the relevant entries before the concat operation.\n",
      "  waves = pd.concat(datasets, sort=False, axis=0).reset_index(drop=True)\n",
      "/var/folders/ck/3npmnx597nb730qdy5w_6kp00000gn/T/ipykernel_16384/1098949800.py:42: FutureWarning: The behavior of DataFrame concatenation with empty or all-NA entries is deprecated. In a future version, this will no longer exclude empty or all-NA columns when determining the result dtypes. To retain the old behavior, exclude the relevant entries before the concat operation.\n",
      "  waves = pd.concat(datasets, sort=False, axis=0).reset_index(drop=True)\n",
      "/var/folders/ck/3npmnx597nb730qdy5w_6kp00000gn/T/ipykernel_16384/1098949800.py:42: FutureWarning: The behavior of DataFrame concatenation with empty or all-NA entries is deprecated. In a future version, this will no longer exclude empty or all-NA columns when determining the result dtypes. To retain the old behavior, exclude the relevant entries before the concat operation.\n",
      "  waves = pd.concat(datasets, sort=False, axis=0).reset_index(drop=True)\n",
      "/var/folders/ck/3npmnx597nb730qdy5w_6kp00000gn/T/ipykernel_16384/1098949800.py:42: FutureWarning: The behavior of DataFrame concatenation with empty or all-NA entries is deprecated. In a future version, this will no longer exclude empty or all-NA columns when determining the result dtypes. To retain the old behavior, exclude the relevant entries before the concat operation.\n",
      "  waves = pd.concat(datasets, sort=False, axis=0).reset_index(drop=True)\n",
      "/var/folders/ck/3npmnx597nb730qdy5w_6kp00000gn/T/ipykernel_16384/1098949800.py:42: FutureWarning: The behavior of DataFrame concatenation with empty or all-NA entries is deprecated. In a future version, this will no longer exclude empty or all-NA columns when determining the result dtypes. To retain the old behavior, exclude the relevant entries before the concat operation.\n",
      "  waves = pd.concat(datasets, sort=False, axis=0).reset_index(drop=True)\n",
      "/var/folders/ck/3npmnx597nb730qdy5w_6kp00000gn/T/ipykernel_16384/1098949800.py:42: FutureWarning: The behavior of DataFrame concatenation with empty or all-NA entries is deprecated. In a future version, this will no longer exclude empty or all-NA columns when determining the result dtypes. To retain the old behavior, exclude the relevant entries before the concat operation.\n",
      "  waves = pd.concat(datasets, sort=False, axis=0).reset_index(drop=True)\n",
      "/var/folders/ck/3npmnx597nb730qdy5w_6kp00000gn/T/ipykernel_16384/1098949800.py:42: FutureWarning: The behavior of DataFrame concatenation with empty or all-NA entries is deprecated. In a future version, this will no longer exclude empty or all-NA columns when determining the result dtypes. To retain the old behavior, exclude the relevant entries before the concat operation.\n",
      "  waves = pd.concat(datasets, sort=False, axis=0).reset_index(drop=True)\n",
      "/var/folders/ck/3npmnx597nb730qdy5w_6kp00000gn/T/ipykernel_16384/1098949800.py:42: FutureWarning: The behavior of DataFrame concatenation with empty or all-NA entries is deprecated. In a future version, this will no longer exclude empty or all-NA columns when determining the result dtypes. To retain the old behavior, exclude the relevant entries before the concat operation.\n",
      "  waves = pd.concat(datasets, sort=False, axis=0).reset_index(drop=True)\n",
      "/var/folders/ck/3npmnx597nb730qdy5w_6kp00000gn/T/ipykernel_16384/1098949800.py:42: FutureWarning: The behavior of DataFrame concatenation with empty or all-NA entries is deprecated. In a future version, this will no longer exclude empty or all-NA columns when determining the result dtypes. To retain the old behavior, exclude the relevant entries before the concat operation.\n",
      "  waves = pd.concat(datasets, sort=False, axis=0).reset_index(drop=True)\n",
      "/var/folders/ck/3npmnx597nb730qdy5w_6kp00000gn/T/ipykernel_16384/1098949800.py:42: FutureWarning: The behavior of DataFrame concatenation with empty or all-NA entries is deprecated. In a future version, this will no longer exclude empty or all-NA columns when determining the result dtypes. To retain the old behavior, exclude the relevant entries before the concat operation.\n",
      "  waves = pd.concat(datasets, sort=False, axis=0).reset_index(drop=True)\n",
      "/var/folders/ck/3npmnx597nb730qdy5w_6kp00000gn/T/ipykernel_16384/1098949800.py:42: FutureWarning: The behavior of DataFrame concatenation with empty or all-NA entries is deprecated. In a future version, this will no longer exclude empty or all-NA columns when determining the result dtypes. To retain the old behavior, exclude the relevant entries before the concat operation.\n",
      "  waves = pd.concat(datasets, sort=False, axis=0).reset_index(drop=True)\n",
      "/var/folders/ck/3npmnx597nb730qdy5w_6kp00000gn/T/ipykernel_16384/1098949800.py:42: FutureWarning: The behavior of DataFrame concatenation with empty or all-NA entries is deprecated. In a future version, this will no longer exclude empty or all-NA columns when determining the result dtypes. To retain the old behavior, exclude the relevant entries before the concat operation.\n",
      "  waves = pd.concat(datasets, sort=False, axis=0).reset_index(drop=True)\n",
      "/var/folders/ck/3npmnx597nb730qdy5w_6kp00000gn/T/ipykernel_16384/1098949800.py:42: FutureWarning: The behavior of DataFrame concatenation with empty or all-NA entries is deprecated. In a future version, this will no longer exclude empty or all-NA columns when determining the result dtypes. To retain the old behavior, exclude the relevant entries before the concat operation.\n",
      "  waves = pd.concat(datasets, sort=False, axis=0).reset_index(drop=True)\n",
      "/var/folders/ck/3npmnx597nb730qdy5w_6kp00000gn/T/ipykernel_16384/1098949800.py:42: FutureWarning: The behavior of DataFrame concatenation with empty or all-NA entries is deprecated. In a future version, this will no longer exclude empty or all-NA columns when determining the result dtypes. To retain the old behavior, exclude the relevant entries before the concat operation.\n",
      "  waves = pd.concat(datasets, sort=False, axis=0).reset_index(drop=True)\n",
      "/var/folders/ck/3npmnx597nb730qdy5w_6kp00000gn/T/ipykernel_16384/1098949800.py:42: FutureWarning: The behavior of DataFrame concatenation with empty or all-NA entries is deprecated. In a future version, this will no longer exclude empty or all-NA columns when determining the result dtypes. To retain the old behavior, exclude the relevant entries before the concat operation.\n",
      "  waves = pd.concat(datasets, sort=False, axis=0).reset_index(drop=True)\n",
      "/var/folders/ck/3npmnx597nb730qdy5w_6kp00000gn/T/ipykernel_16384/1098949800.py:42: FutureWarning: The behavior of DataFrame concatenation with empty or all-NA entries is deprecated. In a future version, this will no longer exclude empty or all-NA columns when determining the result dtypes. To retain the old behavior, exclude the relevant entries before the concat operation.\n",
      "  waves = pd.concat(datasets, sort=False, axis=0).reset_index(drop=True)\n",
      "/var/folders/ck/3npmnx597nb730qdy5w_6kp00000gn/T/ipykernel_16384/1098949800.py:42: FutureWarning: The behavior of DataFrame concatenation with empty or all-NA entries is deprecated. In a future version, this will no longer exclude empty or all-NA columns when determining the result dtypes. To retain the old behavior, exclude the relevant entries before the concat operation.\n",
      "  waves = pd.concat(datasets, sort=False, axis=0).reset_index(drop=True)\n",
      "/var/folders/ck/3npmnx597nb730qdy5w_6kp00000gn/T/ipykernel_16384/1098949800.py:42: FutureWarning: The behavior of DataFrame concatenation with empty or all-NA entries is deprecated. In a future version, this will no longer exclude empty or all-NA columns when determining the result dtypes. To retain the old behavior, exclude the relevant entries before the concat operation.\n",
      "  waves = pd.concat(datasets, sort=False, axis=0).reset_index(drop=True)\n",
      "/var/folders/ck/3npmnx597nb730qdy5w_6kp00000gn/T/ipykernel_16384/1098949800.py:42: FutureWarning: The behavior of DataFrame concatenation with empty or all-NA entries is deprecated. In a future version, this will no longer exclude empty or all-NA columns when determining the result dtypes. To retain the old behavior, exclude the relevant entries before the concat operation.\n",
      "  waves = pd.concat(datasets, sort=False, axis=0).reset_index(drop=True)\n",
      "/var/folders/ck/3npmnx597nb730qdy5w_6kp00000gn/T/ipykernel_16384/1098949800.py:42: FutureWarning: The behavior of DataFrame concatenation with empty or all-NA entries is deprecated. In a future version, this will no longer exclude empty or all-NA columns when determining the result dtypes. To retain the old behavior, exclude the relevant entries before the concat operation.\n",
      "  waves = pd.concat(datasets, sort=False, axis=0).reset_index(drop=True)\n",
      "/var/folders/ck/3npmnx597nb730qdy5w_6kp00000gn/T/ipykernel_16384/1098949800.py:42: FutureWarning: The behavior of DataFrame concatenation with empty or all-NA entries is deprecated. In a future version, this will no longer exclude empty or all-NA columns when determining the result dtypes. To retain the old behavior, exclude the relevant entries before the concat operation.\n",
      "  waves = pd.concat(datasets, sort=False, axis=0).reset_index(drop=True)\n",
      "/var/folders/ck/3npmnx597nb730qdy5w_6kp00000gn/T/ipykernel_16384/1098949800.py:42: FutureWarning: The behavior of DataFrame concatenation with empty or all-NA entries is deprecated. In a future version, this will no longer exclude empty or all-NA columns when determining the result dtypes. To retain the old behavior, exclude the relevant entries before the concat operation.\n",
      "  waves = pd.concat(datasets, sort=False, axis=0).reset_index(drop=True)\n",
      "/var/folders/ck/3npmnx597nb730qdy5w_6kp00000gn/T/ipykernel_16384/1098949800.py:42: FutureWarning: The behavior of DataFrame concatenation with empty or all-NA entries is deprecated. In a future version, this will no longer exclude empty or all-NA columns when determining the result dtypes. To retain the old behavior, exclude the relevant entries before the concat operation.\n",
      "  waves = pd.concat(datasets, sort=False, axis=0).reset_index(drop=True)\n",
      "/var/folders/ck/3npmnx597nb730qdy5w_6kp00000gn/T/ipykernel_16384/1098949800.py:42: FutureWarning: The behavior of DataFrame concatenation with empty or all-NA entries is deprecated. In a future version, this will no longer exclude empty or all-NA columns when determining the result dtypes. To retain the old behavior, exclude the relevant entries before the concat operation.\n",
      "  waves = pd.concat(datasets, sort=False, axis=0).reset_index(drop=True)\n",
      "/var/folders/ck/3npmnx597nb730qdy5w_6kp00000gn/T/ipykernel_16384/1098949800.py:42: FutureWarning: The behavior of DataFrame concatenation with empty or all-NA entries is deprecated. In a future version, this will no longer exclude empty or all-NA columns when determining the result dtypes. To retain the old behavior, exclude the relevant entries before the concat operation.\n",
      "  waves = pd.concat(datasets, sort=False, axis=0).reset_index(drop=True)\n",
      "/var/folders/ck/3npmnx597nb730qdy5w_6kp00000gn/T/ipykernel_16384/1098949800.py:42: FutureWarning: The behavior of DataFrame concatenation with empty or all-NA entries is deprecated. In a future version, this will no longer exclude empty or all-NA columns when determining the result dtypes. To retain the old behavior, exclude the relevant entries before the concat operation.\n",
      "  waves = pd.concat(datasets, sort=False, axis=0).reset_index(drop=True)\n",
      "/var/folders/ck/3npmnx597nb730qdy5w_6kp00000gn/T/ipykernel_16384/1098949800.py:42: FutureWarning: The behavior of DataFrame concatenation with empty or all-NA entries is deprecated. In a future version, this will no longer exclude empty or all-NA columns when determining the result dtypes. To retain the old behavior, exclude the relevant entries before the concat operation.\n",
      "  waves = pd.concat(datasets, sort=False, axis=0).reset_index(drop=True)\n",
      "/var/folders/ck/3npmnx597nb730qdy5w_6kp00000gn/T/ipykernel_16384/1098949800.py:42: FutureWarning: The behavior of DataFrame concatenation with empty or all-NA entries is deprecated. In a future version, this will no longer exclude empty or all-NA columns when determining the result dtypes. To retain the old behavior, exclude the relevant entries before the concat operation.\n",
      "  waves = pd.concat(datasets, sort=False, axis=0).reset_index(drop=True)\n",
      "/var/folders/ck/3npmnx597nb730qdy5w_6kp00000gn/T/ipykernel_16384/1098949800.py:42: FutureWarning: The behavior of DataFrame concatenation with empty or all-NA entries is deprecated. In a future version, this will no longer exclude empty or all-NA columns when determining the result dtypes. To retain the old behavior, exclude the relevant entries before the concat operation.\n",
      "  waves = pd.concat(datasets, sort=False, axis=0).reset_index(drop=True)\n",
      "/var/folders/ck/3npmnx597nb730qdy5w_6kp00000gn/T/ipykernel_16384/1098949800.py:42: FutureWarning: The behavior of DataFrame concatenation with empty or all-NA entries is deprecated. In a future version, this will no longer exclude empty or all-NA columns when determining the result dtypes. To retain the old behavior, exclude the relevant entries before the concat operation.\n",
      "  waves = pd.concat(datasets, sort=False, axis=0).reset_index(drop=True)\n",
      "/var/folders/ck/3npmnx597nb730qdy5w_6kp00000gn/T/ipykernel_16384/1098949800.py:42: FutureWarning: The behavior of DataFrame concatenation with empty or all-NA entries is deprecated. In a future version, this will no longer exclude empty or all-NA columns when determining the result dtypes. To retain the old behavior, exclude the relevant entries before the concat operation.\n",
      "  waves = pd.concat(datasets, sort=False, axis=0).reset_index(drop=True)\n",
      "/var/folders/ck/3npmnx597nb730qdy5w_6kp00000gn/T/ipykernel_16384/1098949800.py:42: FutureWarning: The behavior of DataFrame concatenation with empty or all-NA entries is deprecated. In a future version, this will no longer exclude empty or all-NA columns when determining the result dtypes. To retain the old behavior, exclude the relevant entries before the concat operation.\n",
      "  waves = pd.concat(datasets, sort=False, axis=0).reset_index(drop=True)\n",
      "/var/folders/ck/3npmnx597nb730qdy5w_6kp00000gn/T/ipykernel_16384/1098949800.py:42: FutureWarning: The behavior of DataFrame concatenation with empty or all-NA entries is deprecated. In a future version, this will no longer exclude empty or all-NA columns when determining the result dtypes. To retain the old behavior, exclude the relevant entries before the concat operation.\n",
      "  waves = pd.concat(datasets, sort=False, axis=0).reset_index(drop=True)\n",
      "/var/folders/ck/3npmnx597nb730qdy5w_6kp00000gn/T/ipykernel_16384/1098949800.py:42: FutureWarning: The behavior of DataFrame concatenation with empty or all-NA entries is deprecated. In a future version, this will no longer exclude empty or all-NA columns when determining the result dtypes. To retain the old behavior, exclude the relevant entries before the concat operation.\n",
      "  waves = pd.concat(datasets, sort=False, axis=0).reset_index(drop=True)\n",
      "/var/folders/ck/3npmnx597nb730qdy5w_6kp00000gn/T/ipykernel_16384/1098949800.py:42: FutureWarning: The behavior of DataFrame concatenation with empty or all-NA entries is deprecated. In a future version, this will no longer exclude empty or all-NA columns when determining the result dtypes. To retain the old behavior, exclude the relevant entries before the concat operation.\n",
      "  waves = pd.concat(datasets, sort=False, axis=0).reset_index(drop=True)\n",
      "/var/folders/ck/3npmnx597nb730qdy5w_6kp00000gn/T/ipykernel_16384/1098949800.py:42: FutureWarning: The behavior of DataFrame concatenation with empty or all-NA entries is deprecated. In a future version, this will no longer exclude empty or all-NA columns when determining the result dtypes. To retain the old behavior, exclude the relevant entries before the concat operation.\n",
      "  waves = pd.concat(datasets, sort=False, axis=0).reset_index(drop=True)\n",
      "/var/folders/ck/3npmnx597nb730qdy5w_6kp00000gn/T/ipykernel_16384/1098949800.py:42: FutureWarning: The behavior of DataFrame concatenation with empty or all-NA entries is deprecated. In a future version, this will no longer exclude empty or all-NA columns when determining the result dtypes. To retain the old behavior, exclude the relevant entries before the concat operation.\n",
      "  waves = pd.concat(datasets, sort=False, axis=0).reset_index(drop=True)\n",
      "/var/folders/ck/3npmnx597nb730qdy5w_6kp00000gn/T/ipykernel_16384/1098949800.py:42: FutureWarning: The behavior of DataFrame concatenation with empty or all-NA entries is deprecated. In a future version, this will no longer exclude empty or all-NA columns when determining the result dtypes. To retain the old behavior, exclude the relevant entries before the concat operation.\n",
      "  waves = pd.concat(datasets, sort=False, axis=0).reset_index(drop=True)\n",
      "/var/folders/ck/3npmnx597nb730qdy5w_6kp00000gn/T/ipykernel_16384/1098949800.py:42: FutureWarning: The behavior of DataFrame concatenation with empty or all-NA entries is deprecated. In a future version, this will no longer exclude empty or all-NA columns when determining the result dtypes. To retain the old behavior, exclude the relevant entries before the concat operation.\n",
      "  waves = pd.concat(datasets, sort=False, axis=0).reset_index(drop=True)\n",
      "/var/folders/ck/3npmnx597nb730qdy5w_6kp00000gn/T/ipykernel_16384/1098949800.py:42: FutureWarning: The behavior of DataFrame concatenation with empty or all-NA entries is deprecated. In a future version, this will no longer exclude empty or all-NA columns when determining the result dtypes. To retain the old behavior, exclude the relevant entries before the concat operation.\n",
      "  waves = pd.concat(datasets, sort=False, axis=0).reset_index(drop=True)\n",
      "/var/folders/ck/3npmnx597nb730qdy5w_6kp00000gn/T/ipykernel_16384/1098949800.py:42: FutureWarning: The behavior of DataFrame concatenation with empty or all-NA entries is deprecated. In a future version, this will no longer exclude empty or all-NA columns when determining the result dtypes. To retain the old behavior, exclude the relevant entries before the concat operation.\n",
      "  waves = pd.concat(datasets, sort=False, axis=0).reset_index(drop=True)\n",
      "/var/folders/ck/3npmnx597nb730qdy5w_6kp00000gn/T/ipykernel_16384/1098949800.py:42: FutureWarning: The behavior of DataFrame concatenation with empty or all-NA entries is deprecated. In a future version, this will no longer exclude empty or all-NA columns when determining the result dtypes. To retain the old behavior, exclude the relevant entries before the concat operation.\n",
      "  waves = pd.concat(datasets, sort=False, axis=0).reset_index(drop=True)\n",
      "/var/folders/ck/3npmnx597nb730qdy5w_6kp00000gn/T/ipykernel_16384/1098949800.py:42: FutureWarning: The behavior of DataFrame concatenation with empty or all-NA entries is deprecated. In a future version, this will no longer exclude empty or all-NA columns when determining the result dtypes. To retain the old behavior, exclude the relevant entries before the concat operation.\n",
      "  waves = pd.concat(datasets, sort=False, axis=0).reset_index(drop=True)\n",
      "/var/folders/ck/3npmnx597nb730qdy5w_6kp00000gn/T/ipykernel_16384/1098949800.py:42: FutureWarning: The behavior of DataFrame concatenation with empty or all-NA entries is deprecated. In a future version, this will no longer exclude empty or all-NA columns when determining the result dtypes. To retain the old behavior, exclude the relevant entries before the concat operation.\n",
      "  waves = pd.concat(datasets, sort=False, axis=0).reset_index(drop=True)\n",
      "/var/folders/ck/3npmnx597nb730qdy5w_6kp00000gn/T/ipykernel_16384/1098949800.py:42: FutureWarning: The behavior of DataFrame concatenation with empty or all-NA entries is deprecated. In a future version, this will no longer exclude empty or all-NA columns when determining the result dtypes. To retain the old behavior, exclude the relevant entries before the concat operation.\n",
      "  waves = pd.concat(datasets, sort=False, axis=0).reset_index(drop=True)\n",
      "/var/folders/ck/3npmnx597nb730qdy5w_6kp00000gn/T/ipykernel_16384/1098949800.py:42: FutureWarning: The behavior of DataFrame concatenation with empty or all-NA entries is deprecated. In a future version, this will no longer exclude empty or all-NA columns when determining the result dtypes. To retain the old behavior, exclude the relevant entries before the concat operation.\n",
      "  waves = pd.concat(datasets, sort=False, axis=0).reset_index(drop=True)\n",
      "/var/folders/ck/3npmnx597nb730qdy5w_6kp00000gn/T/ipykernel_16384/1098949800.py:42: FutureWarning: The behavior of DataFrame concatenation with empty or all-NA entries is deprecated. In a future version, this will no longer exclude empty or all-NA columns when determining the result dtypes. To retain the old behavior, exclude the relevant entries before the concat operation.\n",
      "  waves = pd.concat(datasets, sort=False, axis=0).reset_index(drop=True)\n",
      "/var/folders/ck/3npmnx597nb730qdy5w_6kp00000gn/T/ipykernel_16384/1098949800.py:42: FutureWarning: The behavior of DataFrame concatenation with empty or all-NA entries is deprecated. In a future version, this will no longer exclude empty or all-NA columns when determining the result dtypes. To retain the old behavior, exclude the relevant entries before the concat operation.\n",
      "  waves = pd.concat(datasets, sort=False, axis=0).reset_index(drop=True)\n",
      "/var/folders/ck/3npmnx597nb730qdy5w_6kp00000gn/T/ipykernel_16384/1098949800.py:42: FutureWarning: The behavior of DataFrame concatenation with empty or all-NA entries is deprecated. In a future version, this will no longer exclude empty or all-NA columns when determining the result dtypes. To retain the old behavior, exclude the relevant entries before the concat operation.\n",
      "  waves = pd.concat(datasets, sort=False, axis=0).reset_index(drop=True)\n",
      "/var/folders/ck/3npmnx597nb730qdy5w_6kp00000gn/T/ipykernel_16384/1098949800.py:42: FutureWarning: The behavior of DataFrame concatenation with empty or all-NA entries is deprecated. In a future version, this will no longer exclude empty or all-NA columns when determining the result dtypes. To retain the old behavior, exclude the relevant entries before the concat operation.\n",
      "  waves = pd.concat(datasets, sort=False, axis=0).reset_index(drop=True)\n",
      "/var/folders/ck/3npmnx597nb730qdy5w_6kp00000gn/T/ipykernel_16384/1098949800.py:42: FutureWarning: The behavior of DataFrame concatenation with empty or all-NA entries is deprecated. In a future version, this will no longer exclude empty or all-NA columns when determining the result dtypes. To retain the old behavior, exclude the relevant entries before the concat operation.\n",
      "  waves = pd.concat(datasets, sort=False, axis=0).reset_index(drop=True)\n",
      "/var/folders/ck/3npmnx597nb730qdy5w_6kp00000gn/T/ipykernel_16384/1098949800.py:42: FutureWarning: The behavior of DataFrame concatenation with empty or all-NA entries is deprecated. In a future version, this will no longer exclude empty or all-NA columns when determining the result dtypes. To retain the old behavior, exclude the relevant entries before the concat operation.\n",
      "  waves = pd.concat(datasets, sort=False, axis=0).reset_index(drop=True)\n",
      "/var/folders/ck/3npmnx597nb730qdy5w_6kp00000gn/T/ipykernel_16384/1098949800.py:42: FutureWarning: The behavior of DataFrame concatenation with empty or all-NA entries is deprecated. In a future version, this will no longer exclude empty or all-NA columns when determining the result dtypes. To retain the old behavior, exclude the relevant entries before the concat operation.\n",
      "  waves = pd.concat(datasets, sort=False, axis=0).reset_index(drop=True)\n",
      "/var/folders/ck/3npmnx597nb730qdy5w_6kp00000gn/T/ipykernel_16384/1098949800.py:42: FutureWarning: The behavior of DataFrame concatenation with empty or all-NA entries is deprecated. In a future version, this will no longer exclude empty or all-NA columns when determining the result dtypes. To retain the old behavior, exclude the relevant entries before the concat operation.\n",
      "  waves = pd.concat(datasets, sort=False, axis=0).reset_index(drop=True)\n",
      "/var/folders/ck/3npmnx597nb730qdy5w_6kp00000gn/T/ipykernel_16384/1098949800.py:42: FutureWarning: The behavior of DataFrame concatenation with empty or all-NA entries is deprecated. In a future version, this will no longer exclude empty or all-NA columns when determining the result dtypes. To retain the old behavior, exclude the relevant entries before the concat operation.\n",
      "  waves = pd.concat(datasets, sort=False, axis=0).reset_index(drop=True)\n",
      "/var/folders/ck/3npmnx597nb730qdy5w_6kp00000gn/T/ipykernel_16384/1098949800.py:42: FutureWarning: The behavior of DataFrame concatenation with empty or all-NA entries is deprecated. In a future version, this will no longer exclude empty or all-NA columns when determining the result dtypes. To retain the old behavior, exclude the relevant entries before the concat operation.\n",
      "  waves = pd.concat(datasets, sort=False, axis=0).reset_index(drop=True)\n",
      "/var/folders/ck/3npmnx597nb730qdy5w_6kp00000gn/T/ipykernel_16384/1098949800.py:42: FutureWarning: The behavior of DataFrame concatenation with empty or all-NA entries is deprecated. In a future version, this will no longer exclude empty or all-NA columns when determining the result dtypes. To retain the old behavior, exclude the relevant entries before the concat operation.\n",
      "  waves = pd.concat(datasets, sort=False, axis=0).reset_index(drop=True)\n",
      "/var/folders/ck/3npmnx597nb730qdy5w_6kp00000gn/T/ipykernel_16384/1098949800.py:42: FutureWarning: The behavior of DataFrame concatenation with empty or all-NA entries is deprecated. In a future version, this will no longer exclude empty or all-NA columns when determining the result dtypes. To retain the old behavior, exclude the relevant entries before the concat operation.\n",
      "  waves = pd.concat(datasets, sort=False, axis=0).reset_index(drop=True)\n",
      "/var/folders/ck/3npmnx597nb730qdy5w_6kp00000gn/T/ipykernel_16384/1098949800.py:42: FutureWarning: The behavior of DataFrame concatenation with empty or all-NA entries is deprecated. In a future version, this will no longer exclude empty or all-NA columns when determining the result dtypes. To retain the old behavior, exclude the relevant entries before the concat operation.\n",
      "  waves = pd.concat(datasets, sort=False, axis=0).reset_index(drop=True)\n",
      "/var/folders/ck/3npmnx597nb730qdy5w_6kp00000gn/T/ipykernel_16384/1098949800.py:42: FutureWarning: The behavior of DataFrame concatenation with empty or all-NA entries is deprecated. In a future version, this will no longer exclude empty or all-NA columns when determining the result dtypes. To retain the old behavior, exclude the relevant entries before the concat operation.\n",
      "  waves = pd.concat(datasets, sort=False, axis=0).reset_index(drop=True)\n",
      "/var/folders/ck/3npmnx597nb730qdy5w_6kp00000gn/T/ipykernel_16384/1098949800.py:42: FutureWarning: The behavior of DataFrame concatenation with empty or all-NA entries is deprecated. In a future version, this will no longer exclude empty or all-NA columns when determining the result dtypes. To retain the old behavior, exclude the relevant entries before the concat operation.\n",
      "  waves = pd.concat(datasets, sort=False, axis=0).reset_index(drop=True)\n",
      "/var/folders/ck/3npmnx597nb730qdy5w_6kp00000gn/T/ipykernel_16384/1098949800.py:42: FutureWarning: The behavior of DataFrame concatenation with empty or all-NA entries is deprecated. In a future version, this will no longer exclude empty or all-NA columns when determining the result dtypes. To retain the old behavior, exclude the relevant entries before the concat operation.\n",
      "  waves = pd.concat(datasets, sort=False, axis=0).reset_index(drop=True)\n",
      "/var/folders/ck/3npmnx597nb730qdy5w_6kp00000gn/T/ipykernel_16384/1098949800.py:42: FutureWarning: The behavior of DataFrame concatenation with empty or all-NA entries is deprecated. In a future version, this will no longer exclude empty or all-NA columns when determining the result dtypes. To retain the old behavior, exclude the relevant entries before the concat operation.\n",
      "  waves = pd.concat(datasets, sort=False, axis=0).reset_index(drop=True)\n",
      "/var/folders/ck/3npmnx597nb730qdy5w_6kp00000gn/T/ipykernel_16384/1098949800.py:42: FutureWarning: The behavior of DataFrame concatenation with empty or all-NA entries is deprecated. In a future version, this will no longer exclude empty or all-NA columns when determining the result dtypes. To retain the old behavior, exclude the relevant entries before the concat operation.\n",
      "  waves = pd.concat(datasets, sort=False, axis=0).reset_index(drop=True)\n",
      "/var/folders/ck/3npmnx597nb730qdy5w_6kp00000gn/T/ipykernel_16384/1098949800.py:42: FutureWarning: The behavior of DataFrame concatenation with empty or all-NA entries is deprecated. In a future version, this will no longer exclude empty or all-NA columns when determining the result dtypes. To retain the old behavior, exclude the relevant entries before the concat operation.\n",
      "  waves = pd.concat(datasets, sort=False, axis=0).reset_index(drop=True)\n",
      "/var/folders/ck/3npmnx597nb730qdy5w_6kp00000gn/T/ipykernel_16384/1098949800.py:42: FutureWarning: The behavior of DataFrame concatenation with empty or all-NA entries is deprecated. In a future version, this will no longer exclude empty or all-NA columns when determining the result dtypes. To retain the old behavior, exclude the relevant entries before the concat operation.\n",
      "  waves = pd.concat(datasets, sort=False, axis=0).reset_index(drop=True)\n",
      "/var/folders/ck/3npmnx597nb730qdy5w_6kp00000gn/T/ipykernel_16384/1098949800.py:42: FutureWarning: The behavior of DataFrame concatenation with empty or all-NA entries is deprecated. In a future version, this will no longer exclude empty or all-NA columns when determining the result dtypes. To retain the old behavior, exclude the relevant entries before the concat operation.\n",
      "  waves = pd.concat(datasets, sort=False, axis=0).reset_index(drop=True)\n",
      "/var/folders/ck/3npmnx597nb730qdy5w_6kp00000gn/T/ipykernel_16384/1098949800.py:42: FutureWarning: The behavior of DataFrame concatenation with empty or all-NA entries is deprecated. In a future version, this will no longer exclude empty or all-NA columns when determining the result dtypes. To retain the old behavior, exclude the relevant entries before the concat operation.\n",
      "  waves = pd.concat(datasets, sort=False, axis=0).reset_index(drop=True)\n",
      "/var/folders/ck/3npmnx597nb730qdy5w_6kp00000gn/T/ipykernel_16384/1098949800.py:42: FutureWarning: The behavior of DataFrame concatenation with empty or all-NA entries is deprecated. In a future version, this will no longer exclude empty or all-NA columns when determining the result dtypes. To retain the old behavior, exclude the relevant entries before the concat operation.\n",
      "  waves = pd.concat(datasets, sort=False, axis=0).reset_index(drop=True)\n",
      "/var/folders/ck/3npmnx597nb730qdy5w_6kp00000gn/T/ipykernel_16384/1098949800.py:42: FutureWarning: The behavior of DataFrame concatenation with empty or all-NA entries is deprecated. In a future version, this will no longer exclude empty or all-NA columns when determining the result dtypes. To retain the old behavior, exclude the relevant entries before the concat operation.\n",
      "  waves = pd.concat(datasets, sort=False, axis=0).reset_index(drop=True)\n",
      "/var/folders/ck/3npmnx597nb730qdy5w_6kp00000gn/T/ipykernel_16384/1098949800.py:42: FutureWarning: The behavior of DataFrame concatenation with empty or all-NA entries is deprecated. In a future version, this will no longer exclude empty or all-NA columns when determining the result dtypes. To retain the old behavior, exclude the relevant entries before the concat operation.\n",
      "  waves = pd.concat(datasets, sort=False, axis=0).reset_index(drop=True)\n",
      "/var/folders/ck/3npmnx597nb730qdy5w_6kp00000gn/T/ipykernel_16384/1098949800.py:42: FutureWarning: The behavior of DataFrame concatenation with empty or all-NA entries is deprecated. In a future version, this will no longer exclude empty or all-NA columns when determining the result dtypes. To retain the old behavior, exclude the relevant entries before the concat operation.\n",
      "  waves = pd.concat(datasets, sort=False, axis=0).reset_index(drop=True)\n",
      "/var/folders/ck/3npmnx597nb730qdy5w_6kp00000gn/T/ipykernel_16384/1098949800.py:42: FutureWarning: The behavior of DataFrame concatenation with empty or all-NA entries is deprecated. In a future version, this will no longer exclude empty or all-NA columns when determining the result dtypes. To retain the old behavior, exclude the relevant entries before the concat operation.\n",
      "  waves = pd.concat(datasets, sort=False, axis=0).reset_index(drop=True)\n",
      "/var/folders/ck/3npmnx597nb730qdy5w_6kp00000gn/T/ipykernel_16384/1098949800.py:42: FutureWarning: The behavior of DataFrame concatenation with empty or all-NA entries is deprecated. In a future version, this will no longer exclude empty or all-NA columns when determining the result dtypes. To retain the old behavior, exclude the relevant entries before the concat operation.\n",
      "  waves = pd.concat(datasets, sort=False, axis=0).reset_index(drop=True)\n",
      "/var/folders/ck/3npmnx597nb730qdy5w_6kp00000gn/T/ipykernel_16384/1098949800.py:42: FutureWarning: The behavior of DataFrame concatenation with empty or all-NA entries is deprecated. In a future version, this will no longer exclude empty or all-NA columns when determining the result dtypes. To retain the old behavior, exclude the relevant entries before the concat operation.\n",
      "  waves = pd.concat(datasets, sort=False, axis=0).reset_index(drop=True)\n",
      "/var/folders/ck/3npmnx597nb730qdy5w_6kp00000gn/T/ipykernel_16384/1098949800.py:42: FutureWarning: The behavior of DataFrame concatenation with empty or all-NA entries is deprecated. In a future version, this will no longer exclude empty or all-NA columns when determining the result dtypes. To retain the old behavior, exclude the relevant entries before the concat operation.\n",
      "  waves = pd.concat(datasets, sort=False, axis=0).reset_index(drop=True)\n",
      "/var/folders/ck/3npmnx597nb730qdy5w_6kp00000gn/T/ipykernel_16384/1098949800.py:42: FutureWarning: The behavior of DataFrame concatenation with empty or all-NA entries is deprecated. In a future version, this will no longer exclude empty or all-NA columns when determining the result dtypes. To retain the old behavior, exclude the relevant entries before the concat operation.\n",
      "  waves = pd.concat(datasets, sort=False, axis=0).reset_index(drop=True)\n",
      "/var/folders/ck/3npmnx597nb730qdy5w_6kp00000gn/T/ipykernel_16384/1098949800.py:42: FutureWarning: The behavior of DataFrame concatenation with empty or all-NA entries is deprecated. In a future version, this will no longer exclude empty or all-NA columns when determining the result dtypes. To retain the old behavior, exclude the relevant entries before the concat operation.\n",
      "  waves = pd.concat(datasets, sort=False, axis=0).reset_index(drop=True)\n",
      "/var/folders/ck/3npmnx597nb730qdy5w_6kp00000gn/T/ipykernel_16384/1098949800.py:42: FutureWarning: The behavior of DataFrame concatenation with empty or all-NA entries is deprecated. In a future version, this will no longer exclude empty or all-NA columns when determining the result dtypes. To retain the old behavior, exclude the relevant entries before the concat operation.\n",
      "  waves = pd.concat(datasets, sort=False, axis=0).reset_index(drop=True)\n",
      "/var/folders/ck/3npmnx597nb730qdy5w_6kp00000gn/T/ipykernel_16384/1098949800.py:42: FutureWarning: The behavior of DataFrame concatenation with empty or all-NA entries is deprecated. In a future version, this will no longer exclude empty or all-NA columns when determining the result dtypes. To retain the old behavior, exclude the relevant entries before the concat operation.\n",
      "  waves = pd.concat(datasets, sort=False, axis=0).reset_index(drop=True)\n",
      "/var/folders/ck/3npmnx597nb730qdy5w_6kp00000gn/T/ipykernel_16384/1098949800.py:42: FutureWarning: The behavior of DataFrame concatenation with empty or all-NA entries is deprecated. In a future version, this will no longer exclude empty or all-NA columns when determining the result dtypes. To retain the old behavior, exclude the relevant entries before the concat operation.\n",
      "  waves = pd.concat(datasets, sort=False, axis=0).reset_index(drop=True)\n",
      "/var/folders/ck/3npmnx597nb730qdy5w_6kp00000gn/T/ipykernel_16384/1098949800.py:42: FutureWarning: The behavior of DataFrame concatenation with empty or all-NA entries is deprecated. In a future version, this will no longer exclude empty or all-NA columns when determining the result dtypes. To retain the old behavior, exclude the relevant entries before the concat operation.\n",
      "  waves = pd.concat(datasets, sort=False, axis=0).reset_index(drop=True)\n",
      "/var/folders/ck/3npmnx597nb730qdy5w_6kp00000gn/T/ipykernel_16384/1098949800.py:42: FutureWarning: The behavior of DataFrame concatenation with empty or all-NA entries is deprecated. In a future version, this will no longer exclude empty or all-NA columns when determining the result dtypes. To retain the old behavior, exclude the relevant entries before the concat operation.\n",
      "  waves = pd.concat(datasets, sort=False, axis=0).reset_index(drop=True)\n",
      "/var/folders/ck/3npmnx597nb730qdy5w_6kp00000gn/T/ipykernel_16384/1098949800.py:42: FutureWarning: The behavior of DataFrame concatenation with empty or all-NA entries is deprecated. In a future version, this will no longer exclude empty or all-NA columns when determining the result dtypes. To retain the old behavior, exclude the relevant entries before the concat operation.\n",
      "  waves = pd.concat(datasets, sort=False, axis=0).reset_index(drop=True)\n",
      "/var/folders/ck/3npmnx597nb730qdy5w_6kp00000gn/T/ipykernel_16384/1098949800.py:42: FutureWarning: The behavior of DataFrame concatenation with empty or all-NA entries is deprecated. In a future version, this will no longer exclude empty or all-NA columns when determining the result dtypes. To retain the old behavior, exclude the relevant entries before the concat operation.\n",
      "  waves = pd.concat(datasets, sort=False, axis=0).reset_index(drop=True)\n",
      "/var/folders/ck/3npmnx597nb730qdy5w_6kp00000gn/T/ipykernel_16384/1098949800.py:42: FutureWarning: The behavior of DataFrame concatenation with empty or all-NA entries is deprecated. In a future version, this will no longer exclude empty or all-NA columns when determining the result dtypes. To retain the old behavior, exclude the relevant entries before the concat operation.\n",
      "  waves = pd.concat(datasets, sort=False, axis=0).reset_index(drop=True)\n",
      "/var/folders/ck/3npmnx597nb730qdy5w_6kp00000gn/T/ipykernel_16384/1098949800.py:42: FutureWarning: The behavior of DataFrame concatenation with empty or all-NA entries is deprecated. In a future version, this will no longer exclude empty or all-NA columns when determining the result dtypes. To retain the old behavior, exclude the relevant entries before the concat operation.\n",
      "  waves = pd.concat(datasets, sort=False, axis=0).reset_index(drop=True)\n",
      "/var/folders/ck/3npmnx597nb730qdy5w_6kp00000gn/T/ipykernel_16384/1098949800.py:42: FutureWarning: The behavior of DataFrame concatenation with empty or all-NA entries is deprecated. In a future version, this will no longer exclude empty or all-NA columns when determining the result dtypes. To retain the old behavior, exclude the relevant entries before the concat operation.\n",
      "  waves = pd.concat(datasets, sort=False, axis=0).reset_index(drop=True)\n",
      "/var/folders/ck/3npmnx597nb730qdy5w_6kp00000gn/T/ipykernel_16384/1098949800.py:42: FutureWarning: The behavior of DataFrame concatenation with empty or all-NA entries is deprecated. In a future version, this will no longer exclude empty or all-NA columns when determining the result dtypes. To retain the old behavior, exclude the relevant entries before the concat operation.\n",
      "  waves = pd.concat(datasets, sort=False, axis=0).reset_index(drop=True)\n",
      "/var/folders/ck/3npmnx597nb730qdy5w_6kp00000gn/T/ipykernel_16384/1098949800.py:42: FutureWarning: The behavior of DataFrame concatenation with empty or all-NA entries is deprecated. In a future version, this will no longer exclude empty or all-NA columns when determining the result dtypes. To retain the old behavior, exclude the relevant entries before the concat operation.\n",
      "  waves = pd.concat(datasets, sort=False, axis=0).reset_index(drop=True)\n",
      "/var/folders/ck/3npmnx597nb730qdy5w_6kp00000gn/T/ipykernel_16384/1098949800.py:42: FutureWarning: The behavior of DataFrame concatenation with empty or all-NA entries is deprecated. In a future version, this will no longer exclude empty or all-NA columns when determining the result dtypes. To retain the old behavior, exclude the relevant entries before the concat operation.\n",
      "  waves = pd.concat(datasets, sort=False, axis=0).reset_index(drop=True)\n",
      "/var/folders/ck/3npmnx597nb730qdy5w_6kp00000gn/T/ipykernel_16384/1098949800.py:42: FutureWarning: The behavior of DataFrame concatenation with empty or all-NA entries is deprecated. In a future version, this will no longer exclude empty or all-NA columns when determining the result dtypes. To retain the old behavior, exclude the relevant entries before the concat operation.\n",
      "  waves = pd.concat(datasets, sort=False, axis=0).reset_index(drop=True)\n",
      "/var/folders/ck/3npmnx597nb730qdy5w_6kp00000gn/T/ipykernel_16384/1098949800.py:42: FutureWarning: The behavior of DataFrame concatenation with empty or all-NA entries is deprecated. In a future version, this will no longer exclude empty or all-NA columns when determining the result dtypes. To retain the old behavior, exclude the relevant entries before the concat operation.\n",
      "  waves = pd.concat(datasets, sort=False, axis=0).reset_index(drop=True)\n",
      "/var/folders/ck/3npmnx597nb730qdy5w_6kp00000gn/T/ipykernel_16384/1098949800.py:42: FutureWarning: The behavior of DataFrame concatenation with empty or all-NA entries is deprecated. In a future version, this will no longer exclude empty or all-NA columns when determining the result dtypes. To retain the old behavior, exclude the relevant entries before the concat operation.\n",
      "  waves = pd.concat(datasets, sort=False, axis=0).reset_index(drop=True)\n",
      "/var/folders/ck/3npmnx597nb730qdy5w_6kp00000gn/T/ipykernel_16384/1098949800.py:42: FutureWarning: The behavior of DataFrame concatenation with empty or all-NA entries is deprecated. In a future version, this will no longer exclude empty or all-NA columns when determining the result dtypes. To retain the old behavior, exclude the relevant entries before the concat operation.\n",
      "  waves = pd.concat(datasets, sort=False, axis=0).reset_index(drop=True)\n",
      "/var/folders/ck/3npmnx597nb730qdy5w_6kp00000gn/T/ipykernel_16384/1098949800.py:42: FutureWarning: The behavior of DataFrame concatenation with empty or all-NA entries is deprecated. In a future version, this will no longer exclude empty or all-NA columns when determining the result dtypes. To retain the old behavior, exclude the relevant entries before the concat operation.\n",
      "  waves = pd.concat(datasets, sort=False, axis=0).reset_index(drop=True)\n",
      "/var/folders/ck/3npmnx597nb730qdy5w_6kp00000gn/T/ipykernel_16384/1098949800.py:42: FutureWarning: The behavior of DataFrame concatenation with empty or all-NA entries is deprecated. In a future version, this will no longer exclude empty or all-NA columns when determining the result dtypes. To retain the old behavior, exclude the relevant entries before the concat operation.\n",
      "  waves = pd.concat(datasets, sort=False, axis=0).reset_index(drop=True)\n",
      "/var/folders/ck/3npmnx597nb730qdy5w_6kp00000gn/T/ipykernel_16384/1098949800.py:42: FutureWarning: The behavior of DataFrame concatenation with empty or all-NA entries is deprecated. In a future version, this will no longer exclude empty or all-NA columns when determining the result dtypes. To retain the old behavior, exclude the relevant entries before the concat operation.\n",
      "  waves = pd.concat(datasets, sort=False, axis=0).reset_index(drop=True)\n",
      "/var/folders/ck/3npmnx597nb730qdy5w_6kp00000gn/T/ipykernel_16384/1098949800.py:42: FutureWarning: The behavior of DataFrame concatenation with empty or all-NA entries is deprecated. In a future version, this will no longer exclude empty or all-NA columns when determining the result dtypes. To retain the old behavior, exclude the relevant entries before the concat operation.\n",
      "  waves = pd.concat(datasets, sort=False, axis=0).reset_index(drop=True)\n",
      "/var/folders/ck/3npmnx597nb730qdy5w_6kp00000gn/T/ipykernel_16384/1098949800.py:42: FutureWarning: The behavior of DataFrame concatenation with empty or all-NA entries is deprecated. In a future version, this will no longer exclude empty or all-NA columns when determining the result dtypes. To retain the old behavior, exclude the relevant entries before the concat operation.\n",
      "  waves = pd.concat(datasets, sort=False, axis=0).reset_index(drop=True)\n",
      "/var/folders/ck/3npmnx597nb730qdy5w_6kp00000gn/T/ipykernel_16384/1098949800.py:42: FutureWarning: The behavior of DataFrame concatenation with empty or all-NA entries is deprecated. In a future version, this will no longer exclude empty or all-NA columns when determining the result dtypes. To retain the old behavior, exclude the relevant entries before the concat operation.\n",
      "  waves = pd.concat(datasets, sort=False, axis=0).reset_index(drop=True)\n",
      "/var/folders/ck/3npmnx597nb730qdy5w_6kp00000gn/T/ipykernel_16384/1098949800.py:42: FutureWarning: The behavior of DataFrame concatenation with empty or all-NA entries is deprecated. In a future version, this will no longer exclude empty or all-NA columns when determining the result dtypes. To retain the old behavior, exclude the relevant entries before the concat operation.\n",
      "  waves = pd.concat(datasets, sort=False, axis=0).reset_index(drop=True)\n",
      "/var/folders/ck/3npmnx597nb730qdy5w_6kp00000gn/T/ipykernel_16384/1098949800.py:42: FutureWarning: The behavior of DataFrame concatenation with empty or all-NA entries is deprecated. In a future version, this will no longer exclude empty or all-NA columns when determining the result dtypes. To retain the old behavior, exclude the relevant entries before the concat operation.\n",
      "  waves = pd.concat(datasets, sort=False, axis=0).reset_index(drop=True)\n",
      "/var/folders/ck/3npmnx597nb730qdy5w_6kp00000gn/T/ipykernel_16384/1098949800.py:42: FutureWarning: The behavior of DataFrame concatenation with empty or all-NA entries is deprecated. In a future version, this will no longer exclude empty or all-NA columns when determining the result dtypes. To retain the old behavior, exclude the relevant entries before the concat operation.\n",
      "  waves = pd.concat(datasets, sort=False, axis=0).reset_index(drop=True)\n",
      "/var/folders/ck/3npmnx597nb730qdy5w_6kp00000gn/T/ipykernel_16384/1098949800.py:42: FutureWarning: The behavior of DataFrame concatenation with empty or all-NA entries is deprecated. In a future version, this will no longer exclude empty or all-NA columns when determining the result dtypes. To retain the old behavior, exclude the relevant entries before the concat operation.\n",
      "  waves = pd.concat(datasets, sort=False, axis=0).reset_index(drop=True)\n",
      "/var/folders/ck/3npmnx597nb730qdy5w_6kp00000gn/T/ipykernel_16384/1098949800.py:42: FutureWarning: The behavior of DataFrame concatenation with empty or all-NA entries is deprecated. In a future version, this will no longer exclude empty or all-NA columns when determining the result dtypes. To retain the old behavior, exclude the relevant entries before the concat operation.\n",
      "  waves = pd.concat(datasets, sort=False, axis=0).reset_index(drop=True)\n",
      "/var/folders/ck/3npmnx597nb730qdy5w_6kp00000gn/T/ipykernel_16384/1098949800.py:42: FutureWarning: The behavior of DataFrame concatenation with empty or all-NA entries is deprecated. In a future version, this will no longer exclude empty or all-NA columns when determining the result dtypes. To retain the old behavior, exclude the relevant entries before the concat operation.\n",
      "  waves = pd.concat(datasets, sort=False, axis=0).reset_index(drop=True)\n",
      "/var/folders/ck/3npmnx597nb730qdy5w_6kp00000gn/T/ipykernel_16384/1098949800.py:42: FutureWarning: The behavior of DataFrame concatenation with empty or all-NA entries is deprecated. In a future version, this will no longer exclude empty or all-NA columns when determining the result dtypes. To retain the old behavior, exclude the relevant entries before the concat operation.\n",
      "  waves = pd.concat(datasets, sort=False, axis=0).reset_index(drop=True)\n",
      "/var/folders/ck/3npmnx597nb730qdy5w_6kp00000gn/T/ipykernel_16384/1098949800.py:42: FutureWarning: The behavior of DataFrame concatenation with empty or all-NA entries is deprecated. In a future version, this will no longer exclude empty or all-NA columns when determining the result dtypes. To retain the old behavior, exclude the relevant entries before the concat operation.\n",
      "  waves = pd.concat(datasets, sort=False, axis=0).reset_index(drop=True)\n",
      "/var/folders/ck/3npmnx597nb730qdy5w_6kp00000gn/T/ipykernel_16384/1098949800.py:42: FutureWarning: The behavior of DataFrame concatenation with empty or all-NA entries is deprecated. In a future version, this will no longer exclude empty or all-NA columns when determining the result dtypes. To retain the old behavior, exclude the relevant entries before the concat operation.\n",
      "  waves = pd.concat(datasets, sort=False, axis=0).reset_index(drop=True)\n",
      "/var/folders/ck/3npmnx597nb730qdy5w_6kp00000gn/T/ipykernel_16384/1098949800.py:42: FutureWarning: The behavior of DataFrame concatenation with empty or all-NA entries is deprecated. In a future version, this will no longer exclude empty or all-NA columns when determining the result dtypes. To retain the old behavior, exclude the relevant entries before the concat operation.\n",
      "  waves = pd.concat(datasets, sort=False, axis=0).reset_index(drop=True)\n",
      "/var/folders/ck/3npmnx597nb730qdy5w_6kp00000gn/T/ipykernel_16384/1098949800.py:42: FutureWarning: The behavior of DataFrame concatenation with empty or all-NA entries is deprecated. In a future version, this will no longer exclude empty or all-NA columns when determining the result dtypes. To retain the old behavior, exclude the relevant entries before the concat operation.\n",
      "  waves = pd.concat(datasets, sort=False, axis=0).reset_index(drop=True)\n",
      "/var/folders/ck/3npmnx597nb730qdy5w_6kp00000gn/T/ipykernel_16384/1098949800.py:42: FutureWarning: The behavior of DataFrame concatenation with empty or all-NA entries is deprecated. In a future version, this will no longer exclude empty or all-NA columns when determining the result dtypes. To retain the old behavior, exclude the relevant entries before the concat operation.\n",
      "  waves = pd.concat(datasets, sort=False, axis=0).reset_index(drop=True)\n",
      "/var/folders/ck/3npmnx597nb730qdy5w_6kp00000gn/T/ipykernel_16384/1098949800.py:42: FutureWarning: The behavior of DataFrame concatenation with empty or all-NA entries is deprecated. In a future version, this will no longer exclude empty or all-NA columns when determining the result dtypes. To retain the old behavior, exclude the relevant entries before the concat operation.\n",
      "  waves = pd.concat(datasets, sort=False, axis=0).reset_index(drop=True)\n",
      "/var/folders/ck/3npmnx597nb730qdy5w_6kp00000gn/T/ipykernel_16384/1098949800.py:42: FutureWarning: The behavior of DataFrame concatenation with empty or all-NA entries is deprecated. In a future version, this will no longer exclude empty or all-NA columns when determining the result dtypes. To retain the old behavior, exclude the relevant entries before the concat operation.\n",
      "  waves = pd.concat(datasets, sort=False, axis=0).reset_index(drop=True)\n",
      "/var/folders/ck/3npmnx597nb730qdy5w_6kp00000gn/T/ipykernel_16384/1098949800.py:42: FutureWarning: The behavior of DataFrame concatenation with empty or all-NA entries is deprecated. In a future version, this will no longer exclude empty or all-NA columns when determining the result dtypes. To retain the old behavior, exclude the relevant entries before the concat operation.\n",
      "  waves = pd.concat(datasets, sort=False, axis=0).reset_index(drop=True)\n",
      "/var/folders/ck/3npmnx597nb730qdy5w_6kp00000gn/T/ipykernel_16384/1098949800.py:42: FutureWarning: The behavior of DataFrame concatenation with empty or all-NA entries is deprecated. In a future version, this will no longer exclude empty or all-NA columns when determining the result dtypes. To retain the old behavior, exclude the relevant entries before the concat operation.\n",
      "  waves = pd.concat(datasets, sort=False, axis=0).reset_index(drop=True)\n",
      "/var/folders/ck/3npmnx597nb730qdy5w_6kp00000gn/T/ipykernel_16384/1098949800.py:42: FutureWarning: The behavior of DataFrame concatenation with empty or all-NA entries is deprecated. In a future version, this will no longer exclude empty or all-NA columns when determining the result dtypes. To retain the old behavior, exclude the relevant entries before the concat operation.\n",
      "  waves = pd.concat(datasets, sort=False, axis=0).reset_index(drop=True)\n",
      "/var/folders/ck/3npmnx597nb730qdy5w_6kp00000gn/T/ipykernel_16384/1098949800.py:42: FutureWarning: The behavior of DataFrame concatenation with empty or all-NA entries is deprecated. In a future version, this will no longer exclude empty or all-NA columns when determining the result dtypes. To retain the old behavior, exclude the relevant entries before the concat operation.\n",
      "  waves = pd.concat(datasets, sort=False, axis=0).reset_index(drop=True)\n",
      "/var/folders/ck/3npmnx597nb730qdy5w_6kp00000gn/T/ipykernel_16384/1098949800.py:42: FutureWarning: The behavior of DataFrame concatenation with empty or all-NA entries is deprecated. In a future version, this will no longer exclude empty or all-NA columns when determining the result dtypes. To retain the old behavior, exclude the relevant entries before the concat operation.\n",
      "  waves = pd.concat(datasets, sort=False, axis=0).reset_index(drop=True)\n",
      "/var/folders/ck/3npmnx597nb730qdy5w_6kp00000gn/T/ipykernel_16384/1098949800.py:42: FutureWarning: The behavior of DataFrame concatenation with empty or all-NA entries is deprecated. In a future version, this will no longer exclude empty or all-NA columns when determining the result dtypes. To retain the old behavior, exclude the relevant entries before the concat operation.\n",
      "  waves = pd.concat(datasets, sort=False, axis=0).reset_index(drop=True)\n",
      "/var/folders/ck/3npmnx597nb730qdy5w_6kp00000gn/T/ipykernel_16384/1098949800.py:42: FutureWarning: The behavior of DataFrame concatenation with empty or all-NA entries is deprecated. In a future version, this will no longer exclude empty or all-NA columns when determining the result dtypes. To retain the old behavior, exclude the relevant entries before the concat operation.\n",
      "  waves = pd.concat(datasets, sort=False, axis=0).reset_index(drop=True)\n",
      "/var/folders/ck/3npmnx597nb730qdy5w_6kp00000gn/T/ipykernel_16384/1098949800.py:42: FutureWarning: The behavior of DataFrame concatenation with empty or all-NA entries is deprecated. In a future version, this will no longer exclude empty or all-NA columns when determining the result dtypes. To retain the old behavior, exclude the relevant entries before the concat operation.\n",
      "  waves = pd.concat(datasets, sort=False, axis=0).reset_index(drop=True)\n",
      "/var/folders/ck/3npmnx597nb730qdy5w_6kp00000gn/T/ipykernel_16384/1098949800.py:42: FutureWarning: The behavior of DataFrame concatenation with empty or all-NA entries is deprecated. In a future version, this will no longer exclude empty or all-NA columns when determining the result dtypes. To retain the old behavior, exclude the relevant entries before the concat operation.\n",
      "  waves = pd.concat(datasets, sort=False, axis=0).reset_index(drop=True)\n",
      "/var/folders/ck/3npmnx597nb730qdy5w_6kp00000gn/T/ipykernel_16384/1098949800.py:42: FutureWarning: The behavior of DataFrame concatenation with empty or all-NA entries is deprecated. In a future version, this will no longer exclude empty or all-NA columns when determining the result dtypes. To retain the old behavior, exclude the relevant entries before the concat operation.\n",
      "  waves = pd.concat(datasets, sort=False, axis=0).reset_index(drop=True)\n",
      "/var/folders/ck/3npmnx597nb730qdy5w_6kp00000gn/T/ipykernel_16384/1098949800.py:42: FutureWarning: The behavior of DataFrame concatenation with empty or all-NA entries is deprecated. In a future version, this will no longer exclude empty or all-NA columns when determining the result dtypes. To retain the old behavior, exclude the relevant entries before the concat operation.\n",
      "  waves = pd.concat(datasets, sort=False, axis=0).reset_index(drop=True)\n",
      "/var/folders/ck/3npmnx597nb730qdy5w_6kp00000gn/T/ipykernel_16384/1098949800.py:42: FutureWarning: The behavior of DataFrame concatenation with empty or all-NA entries is deprecated. In a future version, this will no longer exclude empty or all-NA columns when determining the result dtypes. To retain the old behavior, exclude the relevant entries before the concat operation.\n",
      "  waves = pd.concat(datasets, sort=False, axis=0).reset_index(drop=True)\n",
      "/var/folders/ck/3npmnx597nb730qdy5w_6kp00000gn/T/ipykernel_16384/1098949800.py:42: FutureWarning: The behavior of DataFrame concatenation with empty or all-NA entries is deprecated. In a future version, this will no longer exclude empty or all-NA columns when determining the result dtypes. To retain the old behavior, exclude the relevant entries before the concat operation.\n",
      "  waves = pd.concat(datasets, sort=False, axis=0).reset_index(drop=True)\n",
      "/var/folders/ck/3npmnx597nb730qdy5w_6kp00000gn/T/ipykernel_16384/1098949800.py:42: FutureWarning: The behavior of DataFrame concatenation with empty or all-NA entries is deprecated. In a future version, this will no longer exclude empty or all-NA columns when determining the result dtypes. To retain the old behavior, exclude the relevant entries before the concat operation.\n",
      "  waves = pd.concat(datasets, sort=False, axis=0).reset_index(drop=True)\n",
      "/var/folders/ck/3npmnx597nb730qdy5w_6kp00000gn/T/ipykernel_16384/1098949800.py:42: FutureWarning: The behavior of DataFrame concatenation with empty or all-NA entries is deprecated. In a future version, this will no longer exclude empty or all-NA columns when determining the result dtypes. To retain the old behavior, exclude the relevant entries before the concat operation.\n",
      "  waves = pd.concat(datasets, sort=False, axis=0).reset_index(drop=True)\n",
      "/var/folders/ck/3npmnx597nb730qdy5w_6kp00000gn/T/ipykernel_16384/1098949800.py:42: FutureWarning: The behavior of DataFrame concatenation with empty or all-NA entries is deprecated. In a future version, this will no longer exclude empty or all-NA columns when determining the result dtypes. To retain the old behavior, exclude the relevant entries before the concat operation.\n",
      "  waves = pd.concat(datasets, sort=False, axis=0).reset_index(drop=True)\n",
      "/var/folders/ck/3npmnx597nb730qdy5w_6kp00000gn/T/ipykernel_16384/1098949800.py:42: FutureWarning: The behavior of DataFrame concatenation with empty or all-NA entries is deprecated. In a future version, this will no longer exclude empty or all-NA columns when determining the result dtypes. To retain the old behavior, exclude the relevant entries before the concat operation.\n",
      "  waves = pd.concat(datasets, sort=False, axis=0).reset_index(drop=True)\n",
      "/var/folders/ck/3npmnx597nb730qdy5w_6kp00000gn/T/ipykernel_16384/1098949800.py:42: FutureWarning: The behavior of DataFrame concatenation with empty or all-NA entries is deprecated. In a future version, this will no longer exclude empty or all-NA columns when determining the result dtypes. To retain the old behavior, exclude the relevant entries before the concat operation.\n",
      "  waves = pd.concat(datasets, sort=False, axis=0).reset_index(drop=True)\n",
      "/var/folders/ck/3npmnx597nb730qdy5w_6kp00000gn/T/ipykernel_16384/1098949800.py:42: FutureWarning: The behavior of DataFrame concatenation with empty or all-NA entries is deprecated. In a future version, this will no longer exclude empty or all-NA columns when determining the result dtypes. To retain the old behavior, exclude the relevant entries before the concat operation.\n",
      "  waves = pd.concat(datasets, sort=False, axis=0).reset_index(drop=True)\n",
      "/var/folders/ck/3npmnx597nb730qdy5w_6kp00000gn/T/ipykernel_16384/1098949800.py:42: FutureWarning: The behavior of DataFrame concatenation with empty or all-NA entries is deprecated. In a future version, this will no longer exclude empty or all-NA columns when determining the result dtypes. To retain the old behavior, exclude the relevant entries before the concat operation.\n",
      "  waves = pd.concat(datasets, sort=False, axis=0).reset_index(drop=True)\n",
      "/var/folders/ck/3npmnx597nb730qdy5w_6kp00000gn/T/ipykernel_16384/1098949800.py:42: FutureWarning: The behavior of DataFrame concatenation with empty or all-NA entries is deprecated. In a future version, this will no longer exclude empty or all-NA columns when determining the result dtypes. To retain the old behavior, exclude the relevant entries before the concat operation.\n",
      "  waves = pd.concat(datasets, sort=False, axis=0).reset_index(drop=True)\n",
      "/var/folders/ck/3npmnx597nb730qdy5w_6kp00000gn/T/ipykernel_16384/1098949800.py:42: FutureWarning: The behavior of DataFrame concatenation with empty or all-NA entries is deprecated. In a future version, this will no longer exclude empty or all-NA columns when determining the result dtypes. To retain the old behavior, exclude the relevant entries before the concat operation.\n",
      "  waves = pd.concat(datasets, sort=False, axis=0).reset_index(drop=True)\n",
      "/var/folders/ck/3npmnx597nb730qdy5w_6kp00000gn/T/ipykernel_16384/1098949800.py:42: FutureWarning: The behavior of DataFrame concatenation with empty or all-NA entries is deprecated. In a future version, this will no longer exclude empty or all-NA columns when determining the result dtypes. To retain the old behavior, exclude the relevant entries before the concat operation.\n",
      "  waves = pd.concat(datasets, sort=False, axis=0).reset_index(drop=True)\n",
      "/var/folders/ck/3npmnx597nb730qdy5w_6kp00000gn/T/ipykernel_16384/1098949800.py:42: FutureWarning: The behavior of DataFrame concatenation with empty or all-NA entries is deprecated. In a future version, this will no longer exclude empty or all-NA columns when determining the result dtypes. To retain the old behavior, exclude the relevant entries before the concat operation.\n",
      "  waves = pd.concat(datasets, sort=False, axis=0).reset_index(drop=True)\n",
      "/var/folders/ck/3npmnx597nb730qdy5w_6kp00000gn/T/ipykernel_16384/1098949800.py:42: FutureWarning: The behavior of DataFrame concatenation with empty or all-NA entries is deprecated. In a future version, this will no longer exclude empty or all-NA columns when determining the result dtypes. To retain the old behavior, exclude the relevant entries before the concat operation.\n",
      "  waves = pd.concat(datasets, sort=False, axis=0).reset_index(drop=True)\n",
      "/var/folders/ck/3npmnx597nb730qdy5w_6kp00000gn/T/ipykernel_16384/1098949800.py:42: FutureWarning: The behavior of DataFrame concatenation with empty or all-NA entries is deprecated. In a future version, this will no longer exclude empty or all-NA columns when determining the result dtypes. To retain the old behavior, exclude the relevant entries before the concat operation.\n",
      "  waves = pd.concat(datasets, sort=False, axis=0).reset_index(drop=True)\n",
      "/var/folders/ck/3npmnx597nb730qdy5w_6kp00000gn/T/ipykernel_16384/1098949800.py:42: FutureWarning: The behavior of DataFrame concatenation with empty or all-NA entries is deprecated. In a future version, this will no longer exclude empty or all-NA columns when determining the result dtypes. To retain the old behavior, exclude the relevant entries before the concat operation.\n",
      "  waves = pd.concat(datasets, sort=False, axis=0).reset_index(drop=True)\n",
      "/var/folders/ck/3npmnx597nb730qdy5w_6kp00000gn/T/ipykernel_16384/1098949800.py:42: FutureWarning: The behavior of DataFrame concatenation with empty or all-NA entries is deprecated. In a future version, this will no longer exclude empty or all-NA columns when determining the result dtypes. To retain the old behavior, exclude the relevant entries before the concat operation.\n",
      "  waves = pd.concat(datasets, sort=False, axis=0).reset_index(drop=True)\n",
      "/var/folders/ck/3npmnx597nb730qdy5w_6kp00000gn/T/ipykernel_16384/1098949800.py:42: FutureWarning: The behavior of DataFrame concatenation with empty or all-NA entries is deprecated. In a future version, this will no longer exclude empty or all-NA columns when determining the result dtypes. To retain the old behavior, exclude the relevant entries before the concat operation.\n",
      "  waves = pd.concat(datasets, sort=False, axis=0).reset_index(drop=True)\n",
      "/var/folders/ck/3npmnx597nb730qdy5w_6kp00000gn/T/ipykernel_16384/1098949800.py:42: FutureWarning: The behavior of DataFrame concatenation with empty or all-NA entries is deprecated. In a future version, this will no longer exclude empty or all-NA columns when determining the result dtypes. To retain the old behavior, exclude the relevant entries before the concat operation.\n",
      "  waves = pd.concat(datasets, sort=False, axis=0).reset_index(drop=True)\n",
      "/var/folders/ck/3npmnx597nb730qdy5w_6kp00000gn/T/ipykernel_16384/1098949800.py:42: FutureWarning: The behavior of DataFrame concatenation with empty or all-NA entries is deprecated. In a future version, this will no longer exclude empty or all-NA columns when determining the result dtypes. To retain the old behavior, exclude the relevant entries before the concat operation.\n",
      "  waves = pd.concat(datasets, sort=False, axis=0).reset_index(drop=True)\n",
      "/var/folders/ck/3npmnx597nb730qdy5w_6kp00000gn/T/ipykernel_16384/1098949800.py:42: FutureWarning: The behavior of DataFrame concatenation with empty or all-NA entries is deprecated. In a future version, this will no longer exclude empty or all-NA columns when determining the result dtypes. To retain the old behavior, exclude the relevant entries before the concat operation.\n",
      "  waves = pd.concat(datasets, sort=False, axis=0).reset_index(drop=True)\n",
      "/var/folders/ck/3npmnx597nb730qdy5w_6kp00000gn/T/ipykernel_16384/1098949800.py:42: FutureWarning: The behavior of DataFrame concatenation with empty or all-NA entries is deprecated. In a future version, this will no longer exclude empty or all-NA columns when determining the result dtypes. To retain the old behavior, exclude the relevant entries before the concat operation.\n",
      "  waves = pd.concat(datasets, sort=False, axis=0).reset_index(drop=True)\n",
      "/var/folders/ck/3npmnx597nb730qdy5w_6kp00000gn/T/ipykernel_16384/1098949800.py:42: FutureWarning: The behavior of DataFrame concatenation with empty or all-NA entries is deprecated. In a future version, this will no longer exclude empty or all-NA columns when determining the result dtypes. To retain the old behavior, exclude the relevant entries before the concat operation.\n",
      "  waves = pd.concat(datasets, sort=False, axis=0).reset_index(drop=True)\n",
      "/var/folders/ck/3npmnx597nb730qdy5w_6kp00000gn/T/ipykernel_16384/1098949800.py:42: FutureWarning: The behavior of DataFrame concatenation with empty or all-NA entries is deprecated. In a future version, this will no longer exclude empty or all-NA columns when determining the result dtypes. To retain the old behavior, exclude the relevant entries before the concat operation.\n",
      "  waves = pd.concat(datasets, sort=False, axis=0).reset_index(drop=True)\n",
      "/var/folders/ck/3npmnx597nb730qdy5w_6kp00000gn/T/ipykernel_16384/1098949800.py:42: FutureWarning: The behavior of DataFrame concatenation with empty or all-NA entries is deprecated. In a future version, this will no longer exclude empty or all-NA columns when determining the result dtypes. To retain the old behavior, exclude the relevant entries before the concat operation.\n",
      "  waves = pd.concat(datasets, sort=False, axis=0).reset_index(drop=True)\n",
      "/var/folders/ck/3npmnx597nb730qdy5w_6kp00000gn/T/ipykernel_16384/1098949800.py:42: FutureWarning: The behavior of DataFrame concatenation with empty or all-NA entries is deprecated. In a future version, this will no longer exclude empty or all-NA columns when determining the result dtypes. To retain the old behavior, exclude the relevant entries before the concat operation.\n",
      "  waves = pd.concat(datasets, sort=False, axis=0).reset_index(drop=True)\n",
      "/var/folders/ck/3npmnx597nb730qdy5w_6kp00000gn/T/ipykernel_16384/1098949800.py:42: FutureWarning: The behavior of DataFrame concatenation with empty or all-NA entries is deprecated. In a future version, this will no longer exclude empty or all-NA columns when determining the result dtypes. To retain the old behavior, exclude the relevant entries before the concat operation.\n",
      "  waves = pd.concat(datasets, sort=False, axis=0).reset_index(drop=True)\n",
      "/var/folders/ck/3npmnx597nb730qdy5w_6kp00000gn/T/ipykernel_16384/1098949800.py:42: FutureWarning: The behavior of DataFrame concatenation with empty or all-NA entries is deprecated. In a future version, this will no longer exclude empty or all-NA columns when determining the result dtypes. To retain the old behavior, exclude the relevant entries before the concat operation.\n",
      "  waves = pd.concat(datasets, sort=False, axis=0).reset_index(drop=True)\n",
      "/var/folders/ck/3npmnx597nb730qdy5w_6kp00000gn/T/ipykernel_16384/1098949800.py:42: FutureWarning: The behavior of DataFrame concatenation with empty or all-NA entries is deprecated. In a future version, this will no longer exclude empty or all-NA columns when determining the result dtypes. To retain the old behavior, exclude the relevant entries before the concat operation.\n",
      "  waves = pd.concat(datasets, sort=False, axis=0).reset_index(drop=True)\n",
      "/var/folders/ck/3npmnx597nb730qdy5w_6kp00000gn/T/ipykernel_16384/1098949800.py:42: FutureWarning: The behavior of DataFrame concatenation with empty or all-NA entries is deprecated. In a future version, this will no longer exclude empty or all-NA columns when determining the result dtypes. To retain the old behavior, exclude the relevant entries before the concat operation.\n",
      "  waves = pd.concat(datasets, sort=False, axis=0).reset_index(drop=True)\n",
      "/var/folders/ck/3npmnx597nb730qdy5w_6kp00000gn/T/ipykernel_16384/1098949800.py:42: FutureWarning: The behavior of DataFrame concatenation with empty or all-NA entries is deprecated. In a future version, this will no longer exclude empty or all-NA columns when determining the result dtypes. To retain the old behavior, exclude the relevant entries before the concat operation.\n",
      "  waves = pd.concat(datasets, sort=False, axis=0).reset_index(drop=True)\n",
      "/var/folders/ck/3npmnx597nb730qdy5w_6kp00000gn/T/ipykernel_16384/1098949800.py:42: FutureWarning: The behavior of DataFrame concatenation with empty or all-NA entries is deprecated. In a future version, this will no longer exclude empty or all-NA columns when determining the result dtypes. To retain the old behavior, exclude the relevant entries before the concat operation.\n",
      "  waves = pd.concat(datasets, sort=False, axis=0).reset_index(drop=True)\n",
      "/var/folders/ck/3npmnx597nb730qdy5w_6kp00000gn/T/ipykernel_16384/1098949800.py:42: FutureWarning: The behavior of DataFrame concatenation with empty or all-NA entries is deprecated. In a future version, this will no longer exclude empty or all-NA columns when determining the result dtypes. To retain the old behavior, exclude the relevant entries before the concat operation.\n",
      "  waves = pd.concat(datasets, sort=False, axis=0).reset_index(drop=True)\n",
      "/var/folders/ck/3npmnx597nb730qdy5w_6kp00000gn/T/ipykernel_16384/1098949800.py:42: FutureWarning: The behavior of DataFrame concatenation with empty or all-NA entries is deprecated. In a future version, this will no longer exclude empty or all-NA columns when determining the result dtypes. To retain the old behavior, exclude the relevant entries before the concat operation.\n",
      "  waves = pd.concat(datasets, sort=False, axis=0).reset_index(drop=True)\n",
      "/var/folders/ck/3npmnx597nb730qdy5w_6kp00000gn/T/ipykernel_16384/1098949800.py:42: FutureWarning: The behavior of DataFrame concatenation with empty or all-NA entries is deprecated. In a future version, this will no longer exclude empty or all-NA columns when determining the result dtypes. To retain the old behavior, exclude the relevant entries before the concat operation.\n",
      "  waves = pd.concat(datasets, sort=False, axis=0).reset_index(drop=True)\n",
      "/var/folders/ck/3npmnx597nb730qdy5w_6kp00000gn/T/ipykernel_16384/1098949800.py:42: FutureWarning: The behavior of DataFrame concatenation with empty or all-NA entries is deprecated. In a future version, this will no longer exclude empty or all-NA columns when determining the result dtypes. To retain the old behavior, exclude the relevant entries before the concat operation.\n",
      "  waves = pd.concat(datasets, sort=False, axis=0).reset_index(drop=True)\n",
      "/var/folders/ck/3npmnx597nb730qdy5w_6kp00000gn/T/ipykernel_16384/1098949800.py:42: FutureWarning: The behavior of DataFrame concatenation with empty or all-NA entries is deprecated. In a future version, this will no longer exclude empty or all-NA columns when determining the result dtypes. To retain the old behavior, exclude the relevant entries before the concat operation.\n",
      "  waves = pd.concat(datasets, sort=False, axis=0).reset_index(drop=True)\n",
      "/var/folders/ck/3npmnx597nb730qdy5w_6kp00000gn/T/ipykernel_16384/1098949800.py:42: FutureWarning: The behavior of DataFrame concatenation with empty or all-NA entries is deprecated. In a future version, this will no longer exclude empty or all-NA columns when determining the result dtypes. To retain the old behavior, exclude the relevant entries before the concat operation.\n",
      "  waves = pd.concat(datasets, sort=False, axis=0).reset_index(drop=True)\n",
      "/var/folders/ck/3npmnx597nb730qdy5w_6kp00000gn/T/ipykernel_16384/1098949800.py:42: FutureWarning: The behavior of DataFrame concatenation with empty or all-NA entries is deprecated. In a future version, this will no longer exclude empty or all-NA columns when determining the result dtypes. To retain the old behavior, exclude the relevant entries before the concat operation.\n",
      "  waves = pd.concat(datasets, sort=False, axis=0).reset_index(drop=True)\n",
      "/var/folders/ck/3npmnx597nb730qdy5w_6kp00000gn/T/ipykernel_16384/1098949800.py:42: FutureWarning: The behavior of DataFrame concatenation with empty or all-NA entries is deprecated. In a future version, this will no longer exclude empty or all-NA columns when determining the result dtypes. To retain the old behavior, exclude the relevant entries before the concat operation.\n",
      "  waves = pd.concat(datasets, sort=False, axis=0).reset_index(drop=True)\n",
      "/var/folders/ck/3npmnx597nb730qdy5w_6kp00000gn/T/ipykernel_16384/1098949800.py:42: FutureWarning: The behavior of DataFrame concatenation with empty or all-NA entries is deprecated. In a future version, this will no longer exclude empty or all-NA columns when determining the result dtypes. To retain the old behavior, exclude the relevant entries before the concat operation.\n",
      "  waves = pd.concat(datasets, sort=False, axis=0).reset_index(drop=True)\n",
      "/var/folders/ck/3npmnx597nb730qdy5w_6kp00000gn/T/ipykernel_16384/1098949800.py:42: FutureWarning: The behavior of DataFrame concatenation with empty or all-NA entries is deprecated. In a future version, this will no longer exclude empty or all-NA columns when determining the result dtypes. To retain the old behavior, exclude the relevant entries before the concat operation.\n",
      "  waves = pd.concat(datasets, sort=False, axis=0).reset_index(drop=True)\n",
      "/var/folders/ck/3npmnx597nb730qdy5w_6kp00000gn/T/ipykernel_16384/1098949800.py:42: FutureWarning: The behavior of DataFrame concatenation with empty or all-NA entries is deprecated. In a future version, this will no longer exclude empty or all-NA columns when determining the result dtypes. To retain the old behavior, exclude the relevant entries before the concat operation.\n",
      "  waves = pd.concat(datasets, sort=False, axis=0).reset_index(drop=True)\n",
      "/var/folders/ck/3npmnx597nb730qdy5w_6kp00000gn/T/ipykernel_16384/1098949800.py:42: FutureWarning: The behavior of DataFrame concatenation with empty or all-NA entries is deprecated. In a future version, this will no longer exclude empty or all-NA columns when determining the result dtypes. To retain the old behavior, exclude the relevant entries before the concat operation.\n",
      "  waves = pd.concat(datasets, sort=False, axis=0).reset_index(drop=True)\n",
      "/var/folders/ck/3npmnx597nb730qdy5w_6kp00000gn/T/ipykernel_16384/1098949800.py:42: FutureWarning: The behavior of DataFrame concatenation with empty or all-NA entries is deprecated. In a future version, this will no longer exclude empty or all-NA columns when determining the result dtypes. To retain the old behavior, exclude the relevant entries before the concat operation.\n",
      "  waves = pd.concat(datasets, sort=False, axis=0).reset_index(drop=True)\n",
      "/var/folders/ck/3npmnx597nb730qdy5w_6kp00000gn/T/ipykernel_16384/1098949800.py:42: FutureWarning: The behavior of DataFrame concatenation with empty or all-NA entries is deprecated. In a future version, this will no longer exclude empty or all-NA columns when determining the result dtypes. To retain the old behavior, exclude the relevant entries before the concat operation.\n",
      "  waves = pd.concat(datasets, sort=False, axis=0).reset_index(drop=True)\n",
      "/var/folders/ck/3npmnx597nb730qdy5w_6kp00000gn/T/ipykernel_16384/1098949800.py:42: FutureWarning: The behavior of DataFrame concatenation with empty or all-NA entries is deprecated. In a future version, this will no longer exclude empty or all-NA columns when determining the result dtypes. To retain the old behavior, exclude the relevant entries before the concat operation.\n",
      "  waves = pd.concat(datasets, sort=False, axis=0).reset_index(drop=True)\n",
      "/var/folders/ck/3npmnx597nb730qdy5w_6kp00000gn/T/ipykernel_16384/1098949800.py:42: FutureWarning: The behavior of DataFrame concatenation with empty or all-NA entries is deprecated. In a future version, this will no longer exclude empty or all-NA columns when determining the result dtypes. To retain the old behavior, exclude the relevant entries before the concat operation.\n",
      "  waves = pd.concat(datasets, sort=False, axis=0).reset_index(drop=True)\n",
      "/var/folders/ck/3npmnx597nb730qdy5w_6kp00000gn/T/ipykernel_16384/1098949800.py:42: FutureWarning: The behavior of DataFrame concatenation with empty or all-NA entries is deprecated. In a future version, this will no longer exclude empty or all-NA columns when determining the result dtypes. To retain the old behavior, exclude the relevant entries before the concat operation.\n",
      "  waves = pd.concat(datasets, sort=False, axis=0).reset_index(drop=True)\n",
      "/var/folders/ck/3npmnx597nb730qdy5w_6kp00000gn/T/ipykernel_16384/1098949800.py:42: FutureWarning: The behavior of DataFrame concatenation with empty or all-NA entries is deprecated. In a future version, this will no longer exclude empty or all-NA columns when determining the result dtypes. To retain the old behavior, exclude the relevant entries before the concat operation.\n",
      "  waves = pd.concat(datasets, sort=False, axis=0).reset_index(drop=True)\n",
      "/var/folders/ck/3npmnx597nb730qdy5w_6kp00000gn/T/ipykernel_16384/1098949800.py:42: FutureWarning: The behavior of DataFrame concatenation with empty or all-NA entries is deprecated. In a future version, this will no longer exclude empty or all-NA columns when determining the result dtypes. To retain the old behavior, exclude the relevant entries before the concat operation.\n",
      "  waves = pd.concat(datasets, sort=False, axis=0).reset_index(drop=True)\n",
      "/var/folders/ck/3npmnx597nb730qdy5w_6kp00000gn/T/ipykernel_16384/1098949800.py:42: FutureWarning: The behavior of DataFrame concatenation with empty or all-NA entries is deprecated. In a future version, this will no longer exclude empty or all-NA columns when determining the result dtypes. To retain the old behavior, exclude the relevant entries before the concat operation.\n",
      "  waves = pd.concat(datasets, sort=False, axis=0).reset_index(drop=True)\n",
      "/var/folders/ck/3npmnx597nb730qdy5w_6kp00000gn/T/ipykernel_16384/1098949800.py:42: FutureWarning: The behavior of DataFrame concatenation with empty or all-NA entries is deprecated. In a future version, this will no longer exclude empty or all-NA columns when determining the result dtypes. To retain the old behavior, exclude the relevant entries before the concat operation.\n",
      "  waves = pd.concat(datasets, sort=False, axis=0).reset_index(drop=True)\n",
      "/var/folders/ck/3npmnx597nb730qdy5w_6kp00000gn/T/ipykernel_16384/1098949800.py:42: FutureWarning: The behavior of DataFrame concatenation with empty or all-NA entries is deprecated. In a future version, this will no longer exclude empty or all-NA columns when determining the result dtypes. To retain the old behavior, exclude the relevant entries before the concat operation.\n",
      "  waves = pd.concat(datasets, sort=False, axis=0).reset_index(drop=True)\n",
      "/var/folders/ck/3npmnx597nb730qdy5w_6kp00000gn/T/ipykernel_16384/1098949800.py:42: FutureWarning: The behavior of DataFrame concatenation with empty or all-NA entries is deprecated. In a future version, this will no longer exclude empty or all-NA columns when determining the result dtypes. To retain the old behavior, exclude the relevant entries before the concat operation.\n",
      "  waves = pd.concat(datasets, sort=False, axis=0).reset_index(drop=True)\n",
      "/var/folders/ck/3npmnx597nb730qdy5w_6kp00000gn/T/ipykernel_16384/1098949800.py:42: FutureWarning: The behavior of DataFrame concatenation with empty or all-NA entries is deprecated. In a future version, this will no longer exclude empty or all-NA columns when determining the result dtypes. To retain the old behavior, exclude the relevant entries before the concat operation.\n",
      "  waves = pd.concat(datasets, sort=False, axis=0).reset_index(drop=True)\n",
      "/var/folders/ck/3npmnx597nb730qdy5w_6kp00000gn/T/ipykernel_16384/1098949800.py:42: FutureWarning: The behavior of DataFrame concatenation with empty or all-NA entries is deprecated. In a future version, this will no longer exclude empty or all-NA columns when determining the result dtypes. To retain the old behavior, exclude the relevant entries before the concat operation.\n",
      "  waves = pd.concat(datasets, sort=False, axis=0).reset_index(drop=True)\n",
      "/var/folders/ck/3npmnx597nb730qdy5w_6kp00000gn/T/ipykernel_16384/1098949800.py:42: FutureWarning: The behavior of DataFrame concatenation with empty or all-NA entries is deprecated. In a future version, this will no longer exclude empty or all-NA columns when determining the result dtypes. To retain the old behavior, exclude the relevant entries before the concat operation.\n",
      "  waves = pd.concat(datasets, sort=False, axis=0).reset_index(drop=True)\n",
      "/var/folders/ck/3npmnx597nb730qdy5w_6kp00000gn/T/ipykernel_16384/1098949800.py:42: FutureWarning: The behavior of DataFrame concatenation with empty or all-NA entries is deprecated. In a future version, this will no longer exclude empty or all-NA columns when determining the result dtypes. To retain the old behavior, exclude the relevant entries before the concat operation.\n",
      "  waves = pd.concat(datasets, sort=False, axis=0).reset_index(drop=True)\n",
      "/var/folders/ck/3npmnx597nb730qdy5w_6kp00000gn/T/ipykernel_16384/1098949800.py:42: FutureWarning: The behavior of DataFrame concatenation with empty or all-NA entries is deprecated. In a future version, this will no longer exclude empty or all-NA columns when determining the result dtypes. To retain the old behavior, exclude the relevant entries before the concat operation.\n",
      "  waves = pd.concat(datasets, sort=False, axis=0).reset_index(drop=True)\n",
      "/var/folders/ck/3npmnx597nb730qdy5w_6kp00000gn/T/ipykernel_16384/1098949800.py:42: FutureWarning: The behavior of DataFrame concatenation with empty or all-NA entries is deprecated. In a future version, this will no longer exclude empty or all-NA columns when determining the result dtypes. To retain the old behavior, exclude the relevant entries before the concat operation.\n",
      "  waves = pd.concat(datasets, sort=False, axis=0).reset_index(drop=True)\n",
      "/var/folders/ck/3npmnx597nb730qdy5w_6kp00000gn/T/ipykernel_16384/1098949800.py:42: FutureWarning: The behavior of DataFrame concatenation with empty or all-NA entries is deprecated. In a future version, this will no longer exclude empty or all-NA columns when determining the result dtypes. To retain the old behavior, exclude the relevant entries before the concat operation.\n",
      "  waves = pd.concat(datasets, sort=False, axis=0).reset_index(drop=True)\n",
      "/var/folders/ck/3npmnx597nb730qdy5w_6kp00000gn/T/ipykernel_16384/1098949800.py:42: FutureWarning: The behavior of DataFrame concatenation with empty or all-NA entries is deprecated. In a future version, this will no longer exclude empty or all-NA columns when determining the result dtypes. To retain the old behavior, exclude the relevant entries before the concat operation.\n",
      "  waves = pd.concat(datasets, sort=False, axis=0).reset_index(drop=True)\n",
      "/var/folders/ck/3npmnx597nb730qdy5w_6kp00000gn/T/ipykernel_16384/1098949800.py:42: FutureWarning: The behavior of DataFrame concatenation with empty or all-NA entries is deprecated. In a future version, this will no longer exclude empty or all-NA columns when determining the result dtypes. To retain the old behavior, exclude the relevant entries before the concat operation.\n",
      "  waves = pd.concat(datasets, sort=False, axis=0).reset_index(drop=True)\n",
      "/var/folders/ck/3npmnx597nb730qdy5w_6kp00000gn/T/ipykernel_16384/1098949800.py:42: FutureWarning: The behavior of DataFrame concatenation with empty or all-NA entries is deprecated. In a future version, this will no longer exclude empty or all-NA columns when determining the result dtypes. To retain the old behavior, exclude the relevant entries before the concat operation.\n",
      "  waves = pd.concat(datasets, sort=False, axis=0).reset_index(drop=True)\n",
      "/var/folders/ck/3npmnx597nb730qdy5w_6kp00000gn/T/ipykernel_16384/1098949800.py:42: FutureWarning: The behavior of DataFrame concatenation with empty or all-NA entries is deprecated. In a future version, this will no longer exclude empty or all-NA columns when determining the result dtypes. To retain the old behavior, exclude the relevant entries before the concat operation.\n",
      "  waves = pd.concat(datasets, sort=False, axis=0).reset_index(drop=True)\n",
      "/var/folders/ck/3npmnx597nb730qdy5w_6kp00000gn/T/ipykernel_16384/1098949800.py:42: FutureWarning: The behavior of DataFrame concatenation with empty or all-NA entries is deprecated. In a future version, this will no longer exclude empty or all-NA columns when determining the result dtypes. To retain the old behavior, exclude the relevant entries before the concat operation.\n",
      "  waves = pd.concat(datasets, sort=False, axis=0).reset_index(drop=True)\n",
      "/var/folders/ck/3npmnx597nb730qdy5w_6kp00000gn/T/ipykernel_16384/1098949800.py:42: FutureWarning: The behavior of DataFrame concatenation with empty or all-NA entries is deprecated. In a future version, this will no longer exclude empty or all-NA columns when determining the result dtypes. To retain the old behavior, exclude the relevant entries before the concat operation.\n",
      "  waves = pd.concat(datasets, sort=False, axis=0).reset_index(drop=True)\n",
      "/var/folders/ck/3npmnx597nb730qdy5w_6kp00000gn/T/ipykernel_16384/1098949800.py:42: FutureWarning: The behavior of DataFrame concatenation with empty or all-NA entries is deprecated. In a future version, this will no longer exclude empty or all-NA columns when determining the result dtypes. To retain the old behavior, exclude the relevant entries before the concat operation.\n",
      "  waves = pd.concat(datasets, sort=False, axis=0).reset_index(drop=True)\n",
      "/var/folders/ck/3npmnx597nb730qdy5w_6kp00000gn/T/ipykernel_16384/1098949800.py:42: FutureWarning: The behavior of DataFrame concatenation with empty or all-NA entries is deprecated. In a future version, this will no longer exclude empty or all-NA columns when determining the result dtypes. To retain the old behavior, exclude the relevant entries before the concat operation.\n",
      "  waves = pd.concat(datasets, sort=False, axis=0).reset_index(drop=True)\n",
      "/var/folders/ck/3npmnx597nb730qdy5w_6kp00000gn/T/ipykernel_16384/1098949800.py:42: FutureWarning: The behavior of DataFrame concatenation with empty or all-NA entries is deprecated. In a future version, this will no longer exclude empty or all-NA columns when determining the result dtypes. To retain the old behavior, exclude the relevant entries before the concat operation.\n",
      "  waves = pd.concat(datasets, sort=False, axis=0).reset_index(drop=True)\n",
      "/var/folders/ck/3npmnx597nb730qdy5w_6kp00000gn/T/ipykernel_16384/1098949800.py:42: FutureWarning: The behavior of DataFrame concatenation with empty or all-NA entries is deprecated. In a future version, this will no longer exclude empty or all-NA columns when determining the result dtypes. To retain the old behavior, exclude the relevant entries before the concat operation.\n",
      "  waves = pd.concat(datasets, sort=False, axis=0).reset_index(drop=True)\n",
      "/var/folders/ck/3npmnx597nb730qdy5w_6kp00000gn/T/ipykernel_16384/1098949800.py:42: FutureWarning: The behavior of DataFrame concatenation with empty or all-NA entries is deprecated. In a future version, this will no longer exclude empty or all-NA columns when determining the result dtypes. To retain the old behavior, exclude the relevant entries before the concat operation.\n",
      "  waves = pd.concat(datasets, sort=False, axis=0).reset_index(drop=True)\n",
      "/var/folders/ck/3npmnx597nb730qdy5w_6kp00000gn/T/ipykernel_16384/1098949800.py:42: FutureWarning: The behavior of DataFrame concatenation with empty or all-NA entries is deprecated. In a future version, this will no longer exclude empty or all-NA columns when determining the result dtypes. To retain the old behavior, exclude the relevant entries before the concat operation.\n",
      "  waves = pd.concat(datasets, sort=False, axis=0).reset_index(drop=True)\n",
      "/var/folders/ck/3npmnx597nb730qdy5w_6kp00000gn/T/ipykernel_16384/1098949800.py:42: FutureWarning: The behavior of DataFrame concatenation with empty or all-NA entries is deprecated. In a future version, this will no longer exclude empty or all-NA columns when determining the result dtypes. To retain the old behavior, exclude the relevant entries before the concat operation.\n",
      "  waves = pd.concat(datasets, sort=False, axis=0).reset_index(drop=True)\n",
      "/var/folders/ck/3npmnx597nb730qdy5w_6kp00000gn/T/ipykernel_16384/1098949800.py:42: FutureWarning: The behavior of DataFrame concatenation with empty or all-NA entries is deprecated. In a future version, this will no longer exclude empty or all-NA columns when determining the result dtypes. To retain the old behavior, exclude the relevant entries before the concat operation.\n",
      "  waves = pd.concat(datasets, sort=False, axis=0).reset_index(drop=True)\n",
      "/var/folders/ck/3npmnx597nb730qdy5w_6kp00000gn/T/ipykernel_16384/1098949800.py:42: FutureWarning: The behavior of DataFrame concatenation with empty or all-NA entries is deprecated. In a future version, this will no longer exclude empty or all-NA columns when determining the result dtypes. To retain the old behavior, exclude the relevant entries before the concat operation.\n",
      "  waves = pd.concat(datasets, sort=False, axis=0).reset_index(drop=True)\n",
      "/var/folders/ck/3npmnx597nb730qdy5w_6kp00000gn/T/ipykernel_16384/1098949800.py:42: FutureWarning: The behavior of DataFrame concatenation with empty or all-NA entries is deprecated. In a future version, this will no longer exclude empty or all-NA columns when determining the result dtypes. To retain the old behavior, exclude the relevant entries before the concat operation.\n",
      "  waves = pd.concat(datasets, sort=False, axis=0).reset_index(drop=True)\n",
      "/var/folders/ck/3npmnx597nb730qdy5w_6kp00000gn/T/ipykernel_16384/1098949800.py:42: FutureWarning: The behavior of DataFrame concatenation with empty or all-NA entries is deprecated. In a future version, this will no longer exclude empty or all-NA columns when determining the result dtypes. To retain the old behavior, exclude the relevant entries before the concat operation.\n",
      "  waves = pd.concat(datasets, sort=False, axis=0).reset_index(drop=True)\n",
      "/var/folders/ck/3npmnx597nb730qdy5w_6kp00000gn/T/ipykernel_16384/1098949800.py:42: FutureWarning: The behavior of DataFrame concatenation with empty or all-NA entries is deprecated. In a future version, this will no longer exclude empty or all-NA columns when determining the result dtypes. To retain the old behavior, exclude the relevant entries before the concat operation.\n",
      "  waves = pd.concat(datasets, sort=False, axis=0).reset_index(drop=True)\n",
      "/var/folders/ck/3npmnx597nb730qdy5w_6kp00000gn/T/ipykernel_16384/1098949800.py:42: FutureWarning: The behavior of DataFrame concatenation with empty or all-NA entries is deprecated. In a future version, this will no longer exclude empty or all-NA columns when determining the result dtypes. To retain the old behavior, exclude the relevant entries before the concat operation.\n",
      "  waves = pd.concat(datasets, sort=False, axis=0).reset_index(drop=True)\n",
      "/var/folders/ck/3npmnx597nb730qdy5w_6kp00000gn/T/ipykernel_16384/1098949800.py:42: FutureWarning: The behavior of DataFrame concatenation with empty or all-NA entries is deprecated. In a future version, this will no longer exclude empty or all-NA columns when determining the result dtypes. To retain the old behavior, exclude the relevant entries before the concat operation.\n",
      "  waves = pd.concat(datasets, sort=False, axis=0).reset_index(drop=True)\n",
      "/var/folders/ck/3npmnx597nb730qdy5w_6kp00000gn/T/ipykernel_16384/1098949800.py:42: FutureWarning: The behavior of DataFrame concatenation with empty or all-NA entries is deprecated. In a future version, this will no longer exclude empty or all-NA columns when determining the result dtypes. To retain the old behavior, exclude the relevant entries before the concat operation.\n",
      "  waves = pd.concat(datasets, sort=False, axis=0).reset_index(drop=True)\n",
      "/var/folders/ck/3npmnx597nb730qdy5w_6kp00000gn/T/ipykernel_16384/1098949800.py:42: FutureWarning: The behavior of DataFrame concatenation with empty or all-NA entries is deprecated. In a future version, this will no longer exclude empty or all-NA columns when determining the result dtypes. To retain the old behavior, exclude the relevant entries before the concat operation.\n",
      "  waves = pd.concat(datasets, sort=False, axis=0).reset_index(drop=True)\n",
      "/var/folders/ck/3npmnx597nb730qdy5w_6kp00000gn/T/ipykernel_16384/1098949800.py:42: FutureWarning: The behavior of DataFrame concatenation with empty or all-NA entries is deprecated. In a future version, this will no longer exclude empty or all-NA columns when determining the result dtypes. To retain the old behavior, exclude the relevant entries before the concat operation.\n",
      "  waves = pd.concat(datasets, sort=False, axis=0).reset_index(drop=True)\n",
      "/var/folders/ck/3npmnx597nb730qdy5w_6kp00000gn/T/ipykernel_16384/1098949800.py:42: FutureWarning: The behavior of DataFrame concatenation with empty or all-NA entries is deprecated. In a future version, this will no longer exclude empty or all-NA columns when determining the result dtypes. To retain the old behavior, exclude the relevant entries before the concat operation.\n",
      "  waves = pd.concat(datasets, sort=False, axis=0).reset_index(drop=True)\n",
      "/var/folders/ck/3npmnx597nb730qdy5w_6kp00000gn/T/ipykernel_16384/1098949800.py:42: FutureWarning: The behavior of DataFrame concatenation with empty or all-NA entries is deprecated. In a future version, this will no longer exclude empty or all-NA columns when determining the result dtypes. To retain the old behavior, exclude the relevant entries before the concat operation.\n",
      "  waves = pd.concat(datasets, sort=False, axis=0).reset_index(drop=True)\n",
      "/var/folders/ck/3npmnx597nb730qdy5w_6kp00000gn/T/ipykernel_16384/1098949800.py:42: FutureWarning: The behavior of DataFrame concatenation with empty or all-NA entries is deprecated. In a future version, this will no longer exclude empty or all-NA columns when determining the result dtypes. To retain the old behavior, exclude the relevant entries before the concat operation.\n",
      "  waves = pd.concat(datasets, sort=False, axis=0).reset_index(drop=True)\n",
      "/var/folders/ck/3npmnx597nb730qdy5w_6kp00000gn/T/ipykernel_16384/1098949800.py:42: FutureWarning: The behavior of DataFrame concatenation with empty or all-NA entries is deprecated. In a future version, this will no longer exclude empty or all-NA columns when determining the result dtypes. To retain the old behavior, exclude the relevant entries before the concat operation.\n",
      "  waves = pd.concat(datasets, sort=False, axis=0).reset_index(drop=True)\n",
      "/var/folders/ck/3npmnx597nb730qdy5w_6kp00000gn/T/ipykernel_16384/1098949800.py:42: FutureWarning: The behavior of DataFrame concatenation with empty or all-NA entries is deprecated. In a future version, this will no longer exclude empty or all-NA columns when determining the result dtypes. To retain the old behavior, exclude the relevant entries before the concat operation.\n",
      "  waves = pd.concat(datasets, sort=False, axis=0).reset_index(drop=True)\n",
      "/var/folders/ck/3npmnx597nb730qdy5w_6kp00000gn/T/ipykernel_16384/1098949800.py:42: FutureWarning: The behavior of DataFrame concatenation with empty or all-NA entries is deprecated. In a future version, this will no longer exclude empty or all-NA columns when determining the result dtypes. To retain the old behavior, exclude the relevant entries before the concat operation.\n",
      "  waves = pd.concat(datasets, sort=False, axis=0).reset_index(drop=True)\n",
      "/var/folders/ck/3npmnx597nb730qdy5w_6kp00000gn/T/ipykernel_16384/1098949800.py:42: FutureWarning: The behavior of DataFrame concatenation with empty or all-NA entries is deprecated. In a future version, this will no longer exclude empty or all-NA columns when determining the result dtypes. To retain the old behavior, exclude the relevant entries before the concat operation.\n",
      "  waves = pd.concat(datasets, sort=False, axis=0).reset_index(drop=True)\n",
      "/var/folders/ck/3npmnx597nb730qdy5w_6kp00000gn/T/ipykernel_16384/1098949800.py:42: FutureWarning: The behavior of DataFrame concatenation with empty or all-NA entries is deprecated. In a future version, this will no longer exclude empty or all-NA columns when determining the result dtypes. To retain the old behavior, exclude the relevant entries before the concat operation.\n",
      "  waves = pd.concat(datasets, sort=False, axis=0).reset_index(drop=True)\n",
      "/var/folders/ck/3npmnx597nb730qdy5w_6kp00000gn/T/ipykernel_16384/1098949800.py:42: FutureWarning: The behavior of DataFrame concatenation with empty or all-NA entries is deprecated. In a future version, this will no longer exclude empty or all-NA columns when determining the result dtypes. To retain the old behavior, exclude the relevant entries before the concat operation.\n",
      "  waves = pd.concat(datasets, sort=False, axis=0).reset_index(drop=True)\n",
      "/var/folders/ck/3npmnx597nb730qdy5w_6kp00000gn/T/ipykernel_16384/1098949800.py:42: FutureWarning: The behavior of DataFrame concatenation with empty or all-NA entries is deprecated. In a future version, this will no longer exclude empty or all-NA columns when determining the result dtypes. To retain the old behavior, exclude the relevant entries before the concat operation.\n",
      "  waves = pd.concat(datasets, sort=False, axis=0).reset_index(drop=True)\n",
      "/var/folders/ck/3npmnx597nb730qdy5w_6kp00000gn/T/ipykernel_16384/1098949800.py:42: FutureWarning: The behavior of DataFrame concatenation with empty or all-NA entries is deprecated. In a future version, this will no longer exclude empty or all-NA columns when determining the result dtypes. To retain the old behavior, exclude the relevant entries before the concat operation.\n",
      "  waves = pd.concat(datasets, sort=False, axis=0).reset_index(drop=True)\n",
      "/var/folders/ck/3npmnx597nb730qdy5w_6kp00000gn/T/ipykernel_16384/1098949800.py:42: FutureWarning: The behavior of DataFrame concatenation with empty or all-NA entries is deprecated. In a future version, this will no longer exclude empty or all-NA columns when determining the result dtypes. To retain the old behavior, exclude the relevant entries before the concat operation.\n",
      "  waves = pd.concat(datasets, sort=False, axis=0).reset_index(drop=True)\n",
      "/var/folders/ck/3npmnx597nb730qdy5w_6kp00000gn/T/ipykernel_16384/1098949800.py:42: FutureWarning: The behavior of DataFrame concatenation with empty or all-NA entries is deprecated. In a future version, this will no longer exclude empty or all-NA columns when determining the result dtypes. To retain the old behavior, exclude the relevant entries before the concat operation.\n",
      "  waves = pd.concat(datasets, sort=False, axis=0).reset_index(drop=True)\n",
      "/var/folders/ck/3npmnx597nb730qdy5w_6kp00000gn/T/ipykernel_16384/1098949800.py:42: FutureWarning: The behavior of DataFrame concatenation with empty or all-NA entries is deprecated. In a future version, this will no longer exclude empty or all-NA columns when determining the result dtypes. To retain the old behavior, exclude the relevant entries before the concat operation.\n",
      "  waves = pd.concat(datasets, sort=False, axis=0).reset_index(drop=True)\n",
      "/var/folders/ck/3npmnx597nb730qdy5w_6kp00000gn/T/ipykernel_16384/1098949800.py:42: FutureWarning: The behavior of DataFrame concatenation with empty or all-NA entries is deprecated. In a future version, this will no longer exclude empty or all-NA columns when determining the result dtypes. To retain the old behavior, exclude the relevant entries before the concat operation.\n",
      "  waves = pd.concat(datasets, sort=False, axis=0).reset_index(drop=True)\n",
      "/var/folders/ck/3npmnx597nb730qdy5w_6kp00000gn/T/ipykernel_16384/1098949800.py:42: FutureWarning: The behavior of DataFrame concatenation with empty or all-NA entries is deprecated. In a future version, this will no longer exclude empty or all-NA columns when determining the result dtypes. To retain the old behavior, exclude the relevant entries before the concat operation.\n",
      "  waves = pd.concat(datasets, sort=False, axis=0).reset_index(drop=True)\n",
      "/var/folders/ck/3npmnx597nb730qdy5w_6kp00000gn/T/ipykernel_16384/1098949800.py:42: FutureWarning: The behavior of DataFrame concatenation with empty or all-NA entries is deprecated. In a future version, this will no longer exclude empty or all-NA columns when determining the result dtypes. To retain the old behavior, exclude the relevant entries before the concat operation.\n",
      "  waves = pd.concat(datasets, sort=False, axis=0).reset_index(drop=True)\n",
      "/var/folders/ck/3npmnx597nb730qdy5w_6kp00000gn/T/ipykernel_16384/1098949800.py:42: FutureWarning: The behavior of DataFrame concatenation with empty or all-NA entries is deprecated. In a future version, this will no longer exclude empty or all-NA columns when determining the result dtypes. To retain the old behavior, exclude the relevant entries before the concat operation.\n",
      "  waves = pd.concat(datasets, sort=False, axis=0).reset_index(drop=True)\n",
      "/var/folders/ck/3npmnx597nb730qdy5w_6kp00000gn/T/ipykernel_16384/1098949800.py:42: FutureWarning: The behavior of DataFrame concatenation with empty or all-NA entries is deprecated. In a future version, this will no longer exclude empty or all-NA columns when determining the result dtypes. To retain the old behavior, exclude the relevant entries before the concat operation.\n",
      "  waves = pd.concat(datasets, sort=False, axis=0).reset_index(drop=True)\n",
      "/var/folders/ck/3npmnx597nb730qdy5w_6kp00000gn/T/ipykernel_16384/1098949800.py:42: FutureWarning: The behavior of DataFrame concatenation with empty or all-NA entries is deprecated. In a future version, this will no longer exclude empty or all-NA columns when determining the result dtypes. To retain the old behavior, exclude the relevant entries before the concat operation.\n",
      "  waves = pd.concat(datasets, sort=False, axis=0).reset_index(drop=True)\n",
      "/var/folders/ck/3npmnx597nb730qdy5w_6kp00000gn/T/ipykernel_16384/1098949800.py:42: FutureWarning: The behavior of DataFrame concatenation with empty or all-NA entries is deprecated. In a future version, this will no longer exclude empty or all-NA columns when determining the result dtypes. To retain the old behavior, exclude the relevant entries before the concat operation.\n",
      "  waves = pd.concat(datasets, sort=False, axis=0).reset_index(drop=True)\n",
      "/var/folders/ck/3npmnx597nb730qdy5w_6kp00000gn/T/ipykernel_16384/1098949800.py:42: FutureWarning: The behavior of DataFrame concatenation with empty or all-NA entries is deprecated. In a future version, this will no longer exclude empty or all-NA columns when determining the result dtypes. To retain the old behavior, exclude the relevant entries before the concat operation.\n",
      "  waves = pd.concat(datasets, sort=False, axis=0).reset_index(drop=True)\n",
      "/var/folders/ck/3npmnx597nb730qdy5w_6kp00000gn/T/ipykernel_16384/1098949800.py:42: FutureWarning: The behavior of DataFrame concatenation with empty or all-NA entries is deprecated. In a future version, this will no longer exclude empty or all-NA columns when determining the result dtypes. To retain the old behavior, exclude the relevant entries before the concat operation.\n",
      "  waves = pd.concat(datasets, sort=False, axis=0).reset_index(drop=True)\n",
      "/var/folders/ck/3npmnx597nb730qdy5w_6kp00000gn/T/ipykernel_16384/1098949800.py:42: FutureWarning: The behavior of DataFrame concatenation with empty or all-NA entries is deprecated. In a future version, this will no longer exclude empty or all-NA columns when determining the result dtypes. To retain the old behavior, exclude the relevant entries before the concat operation.\n",
      "  waves = pd.concat(datasets, sort=False, axis=0).reset_index(drop=True)\n",
      "/var/folders/ck/3npmnx597nb730qdy5w_6kp00000gn/T/ipykernel_16384/1098949800.py:42: FutureWarning: The behavior of DataFrame concatenation with empty or all-NA entries is deprecated. In a future version, this will no longer exclude empty or all-NA columns when determining the result dtypes. To retain the old behavior, exclude the relevant entries before the concat operation.\n",
      "  waves = pd.concat(datasets, sort=False, axis=0).reset_index(drop=True)\n",
      "/var/folders/ck/3npmnx597nb730qdy5w_6kp00000gn/T/ipykernel_16384/1098949800.py:42: FutureWarning: The behavior of DataFrame concatenation with empty or all-NA entries is deprecated. In a future version, this will no longer exclude empty or all-NA columns when determining the result dtypes. To retain the old behavior, exclude the relevant entries before the concat operation.\n",
      "  waves = pd.concat(datasets, sort=False, axis=0).reset_index(drop=True)\n",
      "/var/folders/ck/3npmnx597nb730qdy5w_6kp00000gn/T/ipykernel_16384/1098949800.py:42: FutureWarning: The behavior of DataFrame concatenation with empty or all-NA entries is deprecated. In a future version, this will no longer exclude empty or all-NA columns when determining the result dtypes. To retain the old behavior, exclude the relevant entries before the concat operation.\n",
      "  waves = pd.concat(datasets, sort=False, axis=0).reset_index(drop=True)\n",
      "/var/folders/ck/3npmnx597nb730qdy5w_6kp00000gn/T/ipykernel_16384/1098949800.py:42: FutureWarning: The behavior of DataFrame concatenation with empty or all-NA entries is deprecated. In a future version, this will no longer exclude empty or all-NA columns when determining the result dtypes. To retain the old behavior, exclude the relevant entries before the concat operation.\n",
      "  waves = pd.concat(datasets, sort=False, axis=0).reset_index(drop=True)\n",
      "/var/folders/ck/3npmnx597nb730qdy5w_6kp00000gn/T/ipykernel_16384/1098949800.py:42: FutureWarning: The behavior of DataFrame concatenation with empty or all-NA entries is deprecated. In a future version, this will no longer exclude empty or all-NA columns when determining the result dtypes. To retain the old behavior, exclude the relevant entries before the concat operation.\n",
      "  waves = pd.concat(datasets, sort=False, axis=0).reset_index(drop=True)\n",
      "/var/folders/ck/3npmnx597nb730qdy5w_6kp00000gn/T/ipykernel_16384/1098949800.py:42: FutureWarning: The behavior of DataFrame concatenation with empty or all-NA entries is deprecated. In a future version, this will no longer exclude empty or all-NA columns when determining the result dtypes. To retain the old behavior, exclude the relevant entries before the concat operation.\n",
      "  waves = pd.concat(datasets, sort=False, axis=0).reset_index(drop=True)\n",
      "/var/folders/ck/3npmnx597nb730qdy5w_6kp00000gn/T/ipykernel_16384/1098949800.py:42: FutureWarning: The behavior of DataFrame concatenation with empty or all-NA entries is deprecated. In a future version, this will no longer exclude empty or all-NA columns when determining the result dtypes. To retain the old behavior, exclude the relevant entries before the concat operation.\n",
      "  waves = pd.concat(datasets, sort=False, axis=0).reset_index(drop=True)\n",
      "/var/folders/ck/3npmnx597nb730qdy5w_6kp00000gn/T/ipykernel_16384/1098949800.py:42: FutureWarning: The behavior of DataFrame concatenation with empty or all-NA entries is deprecated. In a future version, this will no longer exclude empty or all-NA columns when determining the result dtypes. To retain the old behavior, exclude the relevant entries before the concat operation.\n",
      "  waves = pd.concat(datasets, sort=False, axis=0).reset_index(drop=True)\n",
      "/var/folders/ck/3npmnx597nb730qdy5w_6kp00000gn/T/ipykernel_16384/1098949800.py:42: FutureWarning: The behavior of DataFrame concatenation with empty or all-NA entries is deprecated. In a future version, this will no longer exclude empty or all-NA columns when determining the result dtypes. To retain the old behavior, exclude the relevant entries before the concat operation.\n",
      "  waves = pd.concat(datasets, sort=False, axis=0).reset_index(drop=True)\n",
      "/var/folders/ck/3npmnx597nb730qdy5w_6kp00000gn/T/ipykernel_16384/1098949800.py:42: FutureWarning: The behavior of DataFrame concatenation with empty or all-NA entries is deprecated. In a future version, this will no longer exclude empty or all-NA columns when determining the result dtypes. To retain the old behavior, exclude the relevant entries before the concat operation.\n",
      "  waves = pd.concat(datasets, sort=False, axis=0).reset_index(drop=True)\n",
      "/var/folders/ck/3npmnx597nb730qdy5w_6kp00000gn/T/ipykernel_16384/1098949800.py:42: FutureWarning: The behavior of DataFrame concatenation with empty or all-NA entries is deprecated. In a future version, this will no longer exclude empty or all-NA columns when determining the result dtypes. To retain the old behavior, exclude the relevant entries before the concat operation.\n",
      "  waves = pd.concat(datasets, sort=False, axis=0).reset_index(drop=True)\n",
      "/var/folders/ck/3npmnx597nb730qdy5w_6kp00000gn/T/ipykernel_16384/1098949800.py:42: FutureWarning: The behavior of DataFrame concatenation with empty or all-NA entries is deprecated. In a future version, this will no longer exclude empty or all-NA columns when determining the result dtypes. To retain the old behavior, exclude the relevant entries before the concat operation.\n",
      "  waves = pd.concat(datasets, sort=False, axis=0).reset_index(drop=True)\n",
      "/var/folders/ck/3npmnx597nb730qdy5w_6kp00000gn/T/ipykernel_16384/1098949800.py:42: FutureWarning: The behavior of DataFrame concatenation with empty or all-NA entries is deprecated. In a future version, this will no longer exclude empty or all-NA columns when determining the result dtypes. To retain the old behavior, exclude the relevant entries before the concat operation.\n",
      "  waves = pd.concat(datasets, sort=False, axis=0).reset_index(drop=True)\n",
      "/var/folders/ck/3npmnx597nb730qdy5w_6kp00000gn/T/ipykernel_16384/1098949800.py:42: FutureWarning: The behavior of DataFrame concatenation with empty or all-NA entries is deprecated. In a future version, this will no longer exclude empty or all-NA columns when determining the result dtypes. To retain the old behavior, exclude the relevant entries before the concat operation.\n",
      "  waves = pd.concat(datasets, sort=False, axis=0).reset_index(drop=True)\n",
      "/var/folders/ck/3npmnx597nb730qdy5w_6kp00000gn/T/ipykernel_16384/1098949800.py:42: FutureWarning: The behavior of DataFrame concatenation with empty or all-NA entries is deprecated. In a future version, this will no longer exclude empty or all-NA columns when determining the result dtypes. To retain the old behavior, exclude the relevant entries before the concat operation.\n",
      "  waves = pd.concat(datasets, sort=False, axis=0).reset_index(drop=True)\n",
      "/var/folders/ck/3npmnx597nb730qdy5w_6kp00000gn/T/ipykernel_16384/1098949800.py:42: FutureWarning: The behavior of DataFrame concatenation with empty or all-NA entries is deprecated. In a future version, this will no longer exclude empty or all-NA columns when determining the result dtypes. To retain the old behavior, exclude the relevant entries before the concat operation.\n",
      "  waves = pd.concat(datasets, sort=False, axis=0).reset_index(drop=True)\n",
      "/var/folders/ck/3npmnx597nb730qdy5w_6kp00000gn/T/ipykernel_16384/1098949800.py:42: FutureWarning: The behavior of DataFrame concatenation with empty or all-NA entries is deprecated. In a future version, this will no longer exclude empty or all-NA columns when determining the result dtypes. To retain the old behavior, exclude the relevant entries before the concat operation.\n",
      "  waves = pd.concat(datasets, sort=False, axis=0).reset_index(drop=True)\n",
      "/var/folders/ck/3npmnx597nb730qdy5w_6kp00000gn/T/ipykernel_16384/1098949800.py:42: FutureWarning: The behavior of DataFrame concatenation with empty or all-NA entries is deprecated. In a future version, this will no longer exclude empty or all-NA columns when determining the result dtypes. To retain the old behavior, exclude the relevant entries before the concat operation.\n",
      "  waves = pd.concat(datasets, sort=False, axis=0).reset_index(drop=True)\n",
      "/var/folders/ck/3npmnx597nb730qdy5w_6kp00000gn/T/ipykernel_16384/1098949800.py:42: FutureWarning: The behavior of DataFrame concatenation with empty or all-NA entries is deprecated. In a future version, this will no longer exclude empty or all-NA columns when determining the result dtypes. To retain the old behavior, exclude the relevant entries before the concat operation.\n",
      "  waves = pd.concat(datasets, sort=False, axis=0).reset_index(drop=True)\n",
      "/var/folders/ck/3npmnx597nb730qdy5w_6kp00000gn/T/ipykernel_16384/1098949800.py:42: FutureWarning: The behavior of DataFrame concatenation with empty or all-NA entries is deprecated. In a future version, this will no longer exclude empty or all-NA columns when determining the result dtypes. To retain the old behavior, exclude the relevant entries before the concat operation.\n",
      "  waves = pd.concat(datasets, sort=False, axis=0).reset_index(drop=True)\n",
      "/var/folders/ck/3npmnx597nb730qdy5w_6kp00000gn/T/ipykernel_16384/1098949800.py:42: FutureWarning: The behavior of DataFrame concatenation with empty or all-NA entries is deprecated. In a future version, this will no longer exclude empty or all-NA columns when determining the result dtypes. To retain the old behavior, exclude the relevant entries before the concat operation.\n",
      "  waves = pd.concat(datasets, sort=False, axis=0).reset_index(drop=True)\n",
      "/var/folders/ck/3npmnx597nb730qdy5w_6kp00000gn/T/ipykernel_16384/1098949800.py:42: FutureWarning: The behavior of DataFrame concatenation with empty or all-NA entries is deprecated. In a future version, this will no longer exclude empty or all-NA columns when determining the result dtypes. To retain the old behavior, exclude the relevant entries before the concat operation.\n",
      "  waves = pd.concat(datasets, sort=False, axis=0).reset_index(drop=True)\n",
      "/var/folders/ck/3npmnx597nb730qdy5w_6kp00000gn/T/ipykernel_16384/1098949800.py:42: FutureWarning: The behavior of DataFrame concatenation with empty or all-NA entries is deprecated. In a future version, this will no longer exclude empty or all-NA columns when determining the result dtypes. To retain the old behavior, exclude the relevant entries before the concat operation.\n",
      "  waves = pd.concat(datasets, sort=False, axis=0).reset_index(drop=True)\n",
      "/var/folders/ck/3npmnx597nb730qdy5w_6kp00000gn/T/ipykernel_16384/1098949800.py:42: FutureWarning: The behavior of DataFrame concatenation with empty or all-NA entries is deprecated. In a future version, this will no longer exclude empty or all-NA columns when determining the result dtypes. To retain the old behavior, exclude the relevant entries before the concat operation.\n",
      "  waves = pd.concat(datasets, sort=False, axis=0).reset_index(drop=True)\n",
      "/var/folders/ck/3npmnx597nb730qdy5w_6kp00000gn/T/ipykernel_16384/1098949800.py:42: FutureWarning: The behavior of DataFrame concatenation with empty or all-NA entries is deprecated. In a future version, this will no longer exclude empty or all-NA columns when determining the result dtypes. To retain the old behavior, exclude the relevant entries before the concat operation.\n",
      "  waves = pd.concat(datasets, sort=False, axis=0).reset_index(drop=True)\n",
      "/var/folders/ck/3npmnx597nb730qdy5w_6kp00000gn/T/ipykernel_16384/1098949800.py:42: FutureWarning: The behavior of DataFrame concatenation with empty or all-NA entries is deprecated. In a future version, this will no longer exclude empty or all-NA columns when determining the result dtypes. To retain the old behavior, exclude the relevant entries before the concat operation.\n",
      "  waves = pd.concat(datasets, sort=False, axis=0).reset_index(drop=True)\n",
      "/var/folders/ck/3npmnx597nb730qdy5w_6kp00000gn/T/ipykernel_16384/1098949800.py:42: FutureWarning: The behavior of DataFrame concatenation with empty or all-NA entries is deprecated. In a future version, this will no longer exclude empty or all-NA columns when determining the result dtypes. To retain the old behavior, exclude the relevant entries before the concat operation.\n",
      "  waves = pd.concat(datasets, sort=False, axis=0).reset_index(drop=True)\n",
      "/var/folders/ck/3npmnx597nb730qdy5w_6kp00000gn/T/ipykernel_16384/1098949800.py:42: FutureWarning: The behavior of DataFrame concatenation with empty or all-NA entries is deprecated. In a future version, this will no longer exclude empty or all-NA columns when determining the result dtypes. To retain the old behavior, exclude the relevant entries before the concat operation.\n",
      "  waves = pd.concat(datasets, sort=False, axis=0).reset_index(drop=True)\n",
      "/var/folders/ck/3npmnx597nb730qdy5w_6kp00000gn/T/ipykernel_16384/1098949800.py:42: FutureWarning: The behavior of DataFrame concatenation with empty or all-NA entries is deprecated. In a future version, this will no longer exclude empty or all-NA columns when determining the result dtypes. To retain the old behavior, exclude the relevant entries before the concat operation.\n",
      "  waves = pd.concat(datasets, sort=False, axis=0).reset_index(drop=True)\n",
      "/var/folders/ck/3npmnx597nb730qdy5w_6kp00000gn/T/ipykernel_16384/1098949800.py:42: FutureWarning: The behavior of DataFrame concatenation with empty or all-NA entries is deprecated. In a future version, this will no longer exclude empty or all-NA columns when determining the result dtypes. To retain the old behavior, exclude the relevant entries before the concat operation.\n",
      "  waves = pd.concat(datasets, sort=False, axis=0).reset_index(drop=True)\n",
      "/var/folders/ck/3npmnx597nb730qdy5w_6kp00000gn/T/ipykernel_16384/1098949800.py:42: FutureWarning: The behavior of DataFrame concatenation with empty or all-NA entries is deprecated. In a future version, this will no longer exclude empty or all-NA columns when determining the result dtypes. To retain the old behavior, exclude the relevant entries before the concat operation.\n",
      "  waves = pd.concat(datasets, sort=False, axis=0).reset_index(drop=True)\n",
      "/var/folders/ck/3npmnx597nb730qdy5w_6kp00000gn/T/ipykernel_16384/1098949800.py:42: FutureWarning: The behavior of DataFrame concatenation with empty or all-NA entries is deprecated. In a future version, this will no longer exclude empty or all-NA columns when determining the result dtypes. To retain the old behavior, exclude the relevant entries before the concat operation.\n",
      "  waves = pd.concat(datasets, sort=False, axis=0).reset_index(drop=True)\n",
      "/var/folders/ck/3npmnx597nb730qdy5w_6kp00000gn/T/ipykernel_16384/1098949800.py:42: FutureWarning: The behavior of DataFrame concatenation with empty or all-NA entries is deprecated. In a future version, this will no longer exclude empty or all-NA columns when determining the result dtypes. To retain the old behavior, exclude the relevant entries before the concat operation.\n",
      "  waves = pd.concat(datasets, sort=False, axis=0).reset_index(drop=True)\n",
      "/var/folders/ck/3npmnx597nb730qdy5w_6kp00000gn/T/ipykernel_16384/1098949800.py:42: FutureWarning: The behavior of DataFrame concatenation with empty or all-NA entries is deprecated. In a future version, this will no longer exclude empty or all-NA columns when determining the result dtypes. To retain the old behavior, exclude the relevant entries before the concat operation.\n",
      "  waves = pd.concat(datasets, sort=False, axis=0).reset_index(drop=True)\n",
      "/var/folders/ck/3npmnx597nb730qdy5w_6kp00000gn/T/ipykernel_16384/1098949800.py:42: FutureWarning: The behavior of DataFrame concatenation with empty or all-NA entries is deprecated. In a future version, this will no longer exclude empty or all-NA columns when determining the result dtypes. To retain the old behavior, exclude the relevant entries before the concat operation.\n",
      "  waves = pd.concat(datasets, sort=False, axis=0).reset_index(drop=True)\n",
      "/var/folders/ck/3npmnx597nb730qdy5w_6kp00000gn/T/ipykernel_16384/1098949800.py:42: FutureWarning: The behavior of DataFrame concatenation with empty or all-NA entries is deprecated. In a future version, this will no longer exclude empty or all-NA columns when determining the result dtypes. To retain the old behavior, exclude the relevant entries before the concat operation.\n",
      "  waves = pd.concat(datasets, sort=False, axis=0).reset_index(drop=True)\n"
     ]
    }
   ],
   "source": [
    "datasets = []\n",
    "\n",
    "folders = [\n",
    "    f\"/Users/alexandralugova/Documents/GitHub/MH-old-workers/data/datasets/sharew{i}_rel8-0-0_ALL_datasets_stata\"\n",
    "    for i in [6, 7, 8]\n",
    "]\n",
    "\n",
    "merge_columns = [\"mergeid\"]\n",
    "\n",
    "for folder in folders:\n",
    "    wave = int(folder.split(\"sharew\")[1].split(\"_\")[0])\n",
    "\n",
    "    folder_datasets = []\n",
    "\n",
    "    for filename in os.listdir(folder):\n",
    "        if (\n",
    "            filename.endswith(\"cv_r.dta\")\n",
    "            or filename.endswith(\"dn.dta\")\n",
    "            or filename.endswith(\"ch.dta\")\n",
    "            or filename.endswith(\"ep.dta\")\n",
    "        ):\n",
    "            file_path = os.path.join(folder, filename)\n",
    "            dataset = pd.read_stata(file_path)\n",
    "\n",
    "            dataset[\"wave\"] = wave\n",
    "\n",
    "            folder_datasets.append(dataset)\n",
    "\n",
    "    if folder_datasets:\n",
    "        merged_dataset = reduce(\n",
    "            lambda left, right: pd.merge(\n",
    "                left,\n",
    "                right,\n",
    "                on=left.columns.intersection(right.columns).tolist(),\n",
    "                how=\"inner\",\n",
    "            ),\n",
    "            folder_datasets,\n",
    "        )\n",
    "\n",
    "        datasets.append(merged_dataset)\n",
    "\n",
    "waves = pd.concat(datasets, sort=False, axis=0).reset_index(drop=True)"
   ]
  },
  {
   "cell_type": "markdown",
   "metadata": {},
   "source": [
    "Leave only individuals with isco codes that are not already present in Sharelife (wave 7)"
   ]
  },
  {
   "cell_type": "code",
   "execution_count": 18,
   "metadata": {},
   "outputs": [],
   "source": [
    "waves = waves.dropna(subset=\"ep616isco\").reset_index(drop=True)\n",
    "waves = waves[\n",
    "    (waves.ep616isco != \"Don't know\") & (waves.ep616isco != \"Not yet coded\")\n",
    "].reset_index(drop=True)\n",
    "waves = waves[~waves[\"mergeid\"].isin(df[\"mergeid\"])].reset_index(drop=True)"
   ]
  },
  {
   "cell_type": "markdown",
   "metadata": {},
   "source": [
    "Leave only the first wave with isco code for each individual"
   ]
  },
  {
   "cell_type": "code",
   "execution_count": 19,
   "metadata": {},
   "outputs": [],
   "source": [
    "waves = waves.loc[waves.groupby(\"mergeid\")[\"wave\"].idxmin()].reset_index(drop=True)"
   ]
  },
  {
   "cell_type": "markdown",
   "metadata": {},
   "source": [
    "Transform gender to 1=female, 0=male"
   ]
  },
  {
   "cell_type": "code",
   "execution_count": 20,
   "metadata": {},
   "outputs": [
    {
     "data": {
      "text/plain": [
       "gender\n",
       "1    3850\n",
       "0    3032\n",
       "Name: count, dtype: int64"
      ]
     },
     "execution_count": 20,
     "metadata": {},
     "output_type": "execute_result"
    }
   ],
   "source": [
    "waves[\"gender\"] = waves[\"gender\"].replace({\"Male\": 0, \"Female\": 1})\n",
    "\n",
    "waves[\"gender\"].value_counts(dropna=False)"
   ]
  },
  {
   "cell_type": "markdown",
   "metadata": {},
   "source": [
    "Filter for aged 50+ as for 2011 (54+ in 2015, 56+ in 2017, 59+ in 2020)"
   ]
  },
  {
   "cell_type": "code",
   "execution_count": 21,
   "metadata": {},
   "outputs": [],
   "source": [
    "waves = waves[\n",
    "    (waves.age2015 >= 54) | (waves.age2017 >= 56) | (waves.age2020 >= 59)\n",
    "].reset_index(drop=True)"
   ]
  },
  {
   "cell_type": "markdown",
   "metadata": {},
   "source": [
    "Format variable indicating first year in the country"
   ]
  },
  {
   "cell_type": "code",
   "execution_count": 22,
   "metadata": {},
   "outputs": [
    {
     "data": {
      "text/plain": [
       "count    3650.000000\n",
       "mean     1956.093699\n",
       "std         8.173139\n",
       "min      1926.000000\n",
       "25%      1953.000000\n",
       "50%      1956.000000\n",
       "75%      1959.000000\n",
       "max      2016.000000\n",
       "Name: yr1country, dtype: float64"
      ]
     },
     "execution_count": 22,
     "metadata": {},
     "output_type": "execute_result"
    }
   ],
   "source": [
    "# Rename and fill missing values with year of birth\n",
    "waves[\"dn006_\"] = waves[\"dn006_\"].fillna(waves[\"yrbirth\"])\n",
    "waves = waves.rename(columns={\"dn006_\": \"yr1country\"})\n",
    "\n",
    "# Drop individuals with missing answers\n",
    "waves = (\n",
    "    waves[(waves.yr1country != \"Refusal\") & (waves.yr1country != \"Don't know\")]\n",
    "    .dropna(subset=\"yr1country\")\n",
    "    .reset_index(drop=True)\n",
    ")\n",
    "waves[\"yr1country\"] = waves[\"yr1country\"].astype(\"int\")\n",
    "\n",
    "waves[\"yr1country\"].describe()"
   ]
  },
  {
   "cell_type": "markdown",
   "metadata": {},
   "source": [
    "Identify the number of education years"
   ]
  },
  {
   "cell_type": "code",
   "execution_count": 23,
   "metadata": {},
   "outputs": [
    {
     "data": {
      "text/plain": [
       "count    3446.000000\n",
       "mean       12.575450\n",
       "std         4.666198\n",
       "min         0.000000\n",
       "25%        10.000000\n",
       "50%        12.000000\n",
       "75%        16.000000\n",
       "max        38.000000\n",
       "Name: yrseducation, dtype: float64"
      ]
     },
     "execution_count": 23,
     "metadata": {},
     "output_type": "execute_result"
    }
   ],
   "source": [
    "ws = [1, 2, 4, 5, 6, 7]\n",
    "dfs = []\n",
    "\n",
    "for wave in ws:\n",
    "    file_path = f\"/Users/alexandralugova/Documents/GitHub/MH-old-workers/data/datasets/sharew{wave}_rel8-0-0_ALL_datasets_stata/sharew{wave}_rel8-0-0_dn.dta\"\n",
    "    data = pd.read_stata(file_path, convert_categoricals=False)\n",
    "    dfs.append(data)\n",
    "\n",
    "dn_data = pd.concat(dfs, ignore_index=True)\n",
    "\n",
    "edu_sum = dn_data.groupby(\"mergeid\").dn041_.sum().to_frame().reset_index()\n",
    "edu_sum = edu_sum[(edu_sum.dn041_ >= 0) & (edu_sum.dn041_ <= 40)].reset_index(drop=True)\n",
    "edu_sum = edu_sum.rename(columns={\"dn041_\": \"yrseducation\"})\n",
    "\n",
    "waves = waves.merge(edu_sum, on=\"mergeid\", how=\"left\")\n",
    "\n",
    "# Drop individuals with missing values\n",
    "waves = waves.dropna(subset=\"yrseducation\").reset_index(drop=True)\n",
    "\n",
    "waves.yrseducation.describe()"
   ]
  },
  {
   "cell_type": "markdown",
   "metadata": {},
   "source": [
    "Identify current job isco"
   ]
  },
  {
   "cell_type": "code",
   "execution_count": 24,
   "metadata": {},
   "outputs": [
    {
     "data": {
      "text/plain": [
       "isco\n",
       "9999    121\n",
       "9112     90\n",
       "4110     68\n",
       "2221     66\n",
       "9111     53\n",
       "       ... \n",
       "8159      1\n",
       "8121      1\n",
       "6123      1\n",
       "1344      1\n",
       "9331      1\n",
       "Name: count, Length: 375, dtype: int64"
      ]
     },
     "execution_count": 24,
     "metadata": {},
     "output_type": "execute_result"
    }
   ],
   "source": [
    "waves = waves.rename(columns={\"ep616isco\": \"isco\"})\n",
    "waves[\"isco\"] = waves[\"isco\"].astype(int)\n",
    "\n",
    "# Drop codes with less than 10 individuals\n",
    "# isco_filter = waves[\"isco\"].value_counts().to_frame().reset_index()\n",
    "# selected_isco = isco_filter[isco_filter[\"count\"] >= 10][\"isco\"].tolist()\n",
    "# waves = waves[waves[\"isco\"].isin(selected_ isco)].reset_index(drop=True)\n",
    "\n",
    "waves[\"isco\"].value_counts()"
   ]
  },
  {
   "cell_type": "markdown",
   "metadata": {},
   "source": [
    "Leave only individuals that did not change job between 2011 and 2015"
   ]
  },
  {
   "cell_type": "code",
   "execution_count": 25,
   "metadata": {},
   "outputs": [],
   "source": [
    "ws = [5, 6]\n",
    "dfs = []\n",
    "\n",
    "for wave in ws:\n",
    "    file_path = f\"/Users/alexandralugova/Documents/GitHub/MH-old-workers/data/datasets/sharew{wave}_rel8-0-0_ALL_datasets_stata/sharew{wave}_rel8-0-0_ep.dta\"\n",
    "    data = pd.read_stata(file_path, convert_categoricals=False)\n",
    "    dfs.append(data)\n",
    "\n",
    "ep_data = pd.concat(dfs, ignore_index=True)\n",
    "ep_data = ep_data[ep_data[\"mergeid\"].isin(waves[\"mergeid\"])].reset_index(drop=True)\n",
    "ep_data = ep_data[\n",
    "    (ep_data.ep141d1 != \"Selected\")\n",
    "    & (ep_data.ep141d2 != \"Selected\")\n",
    "    & (ep_data.ep141d3 != \"Selected\")\n",
    "].reset_index(drop=True)\n",
    "\n",
    "waves = waves[waves[\"mergeid\"].isin(ep_data[\"mergeid\"])].reset_index(drop=True)"
   ]
  },
  {
   "cell_type": "markdown",
   "metadata": {},
   "source": [
    "Calculate contribution years and first year of contribution"
   ]
  },
  {
   "cell_type": "code",
   "execution_count": 26,
   "metadata": {},
   "outputs": [],
   "source": [
    "# Merge with job panel data\n",
    "waves = waves.merge(\n",
    "    max_year[[\"mergeid\", \"yrscontribution2017\"]], on=\"mergeid\", how=\"left\"\n",
    ")\n",
    "waves = waves.merge(first_contribution, on=\"mergeid\", how=\"left\")\n",
    "\n",
    "# Delete those with less than 10 years of contributions in 2017\n",
    "waves = waves[waves[\"yrscontribution2017\"] >= 12].reset_index(drop=True)\n",
    "\n",
    "# Delete those who started work before the age of 10\n",
    "waves = waves[waves[\"yr1contribution\"].astype(int) >= waves[\"yrbirth\"].astype(int) + 10]"
   ]
  },
  {
   "cell_type": "code",
   "execution_count": 27,
   "metadata": {},
   "outputs": [
    {
     "data": {
      "text/plain": [
       "1629"
      ]
     },
     "execution_count": 27,
     "metadata": {},
     "output_type": "execute_result"
    }
   ],
   "source": [
    "len(waves)"
   ]
  },
  {
   "cell_type": "markdown",
   "metadata": {},
   "source": [
    "Choose only necessary columns"
   ]
  },
  {
   "cell_type": "code",
   "execution_count": 28,
   "metadata": {},
   "outputs": [],
   "source": [
    "waves = waves[\n",
    "    [\n",
    "        \"mergeid\",\n",
    "        \"country\",\n",
    "        \"gender\",\n",
    "        \"yrbirth\",\n",
    "        \"mobirth\",\n",
    "        \"age2015\",\n",
    "        \"age2017\",\n",
    "        \"age2020\",\n",
    "        \"yr1country\",\n",
    "        \"yrseducation\",\n",
    "        \"isco\",\n",
    "        \"yrscontribution2017\",\n",
    "        \"yr1contribution\",\n",
    "    ]\n",
    "]"
   ]
  },
  {
   "cell_type": "code",
   "execution_count": 29,
   "metadata": {},
   "outputs": [],
   "source": [
    "# Last formatting - Transform month to numeric\n",
    "month_to_numeric = {\n",
    "    \"January\": 1,\n",
    "    \"February\": 2,\n",
    "    \"March\": 3,\n",
    "    \"April\": 4,\n",
    "    \"May\": 5,\n",
    "    \"June\": 6,\n",
    "    \"July\": 7,\n",
    "    \"August\": 8,\n",
    "    \"September\": 9,\n",
    "    \"October\": 10,\n",
    "    \"November\": 11,\n",
    "    \"December\": 12,\n",
    "}\n",
    "\n",
    "waves[\"mobirth\"] = waves[\"mobirth\"].map(month_to_numeric)"
   ]
  },
  {
   "cell_type": "markdown",
   "metadata": {},
   "source": [
    "Concat additional data to the main dataframe"
   ]
  },
  {
   "cell_type": "code",
   "execution_count": 30,
   "metadata": {},
   "outputs": [],
   "source": [
    "df = pd.concat([df, waves], axis=0).reset_index(drop=True)"
   ]
  },
  {
   "cell_type": "markdown",
   "metadata": {},
   "source": [
    "### Load and merge all needed datasets for SHARE Waves 4 and 6"
   ]
  },
  {
   "cell_type": "code",
   "execution_count": 31,
   "metadata": {},
   "outputs": [
    {
     "name": "stderr",
     "output_type": "stream",
     "text": [
      "/var/folders/ck/3npmnx597nb730qdy5w_6kp00000gn/T/ipykernel_16384/3866078798.py:43: FutureWarning: The behavior of DataFrame concatenation with empty or all-NA entries is deprecated. In a future version, this will no longer exclude empty or all-NA columns when determining the result dtypes. To retain the old behavior, exclude the relevant entries before the concat operation.\n",
      "  w46 = pd.concat(datasets, sort=False, axis=0).reset_index(drop=True)\n",
      "/var/folders/ck/3npmnx597nb730qdy5w_6kp00000gn/T/ipykernel_16384/3866078798.py:43: FutureWarning: The behavior of DataFrame concatenation with empty or all-NA entries is deprecated. In a future version, this will no longer exclude empty or all-NA columns when determining the result dtypes. To retain the old behavior, exclude the relevant entries before the concat operation.\n",
      "  w46 = pd.concat(datasets, sort=False, axis=0).reset_index(drop=True)\n",
      "/var/folders/ck/3npmnx597nb730qdy5w_6kp00000gn/T/ipykernel_16384/3866078798.py:43: FutureWarning: The behavior of DataFrame concatenation with empty or all-NA entries is deprecated. In a future version, this will no longer exclude empty or all-NA columns when determining the result dtypes. To retain the old behavior, exclude the relevant entries before the concat operation.\n",
      "  w46 = pd.concat(datasets, sort=False, axis=0).reset_index(drop=True)\n",
      "/var/folders/ck/3npmnx597nb730qdy5w_6kp00000gn/T/ipykernel_16384/3866078798.py:43: FutureWarning: The behavior of DataFrame concatenation with empty or all-NA entries is deprecated. In a future version, this will no longer exclude empty or all-NA columns when determining the result dtypes. To retain the old behavior, exclude the relevant entries before the concat operation.\n",
      "  w46 = pd.concat(datasets, sort=False, axis=0).reset_index(drop=True)\n",
      "/var/folders/ck/3npmnx597nb730qdy5w_6kp00000gn/T/ipykernel_16384/3866078798.py:43: FutureWarning: The behavior of DataFrame concatenation with empty or all-NA entries is deprecated. In a future version, this will no longer exclude empty or all-NA columns when determining the result dtypes. To retain the old behavior, exclude the relevant entries before the concat operation.\n",
      "  w46 = pd.concat(datasets, sort=False, axis=0).reset_index(drop=True)\n",
      "/var/folders/ck/3npmnx597nb730qdy5w_6kp00000gn/T/ipykernel_16384/3866078798.py:43: FutureWarning: The behavior of DataFrame concatenation with empty or all-NA entries is deprecated. In a future version, this will no longer exclude empty or all-NA columns when determining the result dtypes. To retain the old behavior, exclude the relevant entries before the concat operation.\n",
      "  w46 = pd.concat(datasets, sort=False, axis=0).reset_index(drop=True)\n",
      "/var/folders/ck/3npmnx597nb730qdy5w_6kp00000gn/T/ipykernel_16384/3866078798.py:43: FutureWarning: The behavior of DataFrame concatenation with empty or all-NA entries is deprecated. In a future version, this will no longer exclude empty or all-NA columns when determining the result dtypes. To retain the old behavior, exclude the relevant entries before the concat operation.\n",
      "  w46 = pd.concat(datasets, sort=False, axis=0).reset_index(drop=True)\n",
      "/var/folders/ck/3npmnx597nb730qdy5w_6kp00000gn/T/ipykernel_16384/3866078798.py:43: FutureWarning: The behavior of DataFrame concatenation with empty or all-NA entries is deprecated. In a future version, this will no longer exclude empty or all-NA columns when determining the result dtypes. To retain the old behavior, exclude the relevant entries before the concat operation.\n",
      "  w46 = pd.concat(datasets, sort=False, axis=0).reset_index(drop=True)\n",
      "/var/folders/ck/3npmnx597nb730qdy5w_6kp00000gn/T/ipykernel_16384/3866078798.py:43: FutureWarning: The behavior of DataFrame concatenation with empty or all-NA entries is deprecated. In a future version, this will no longer exclude empty or all-NA columns when determining the result dtypes. To retain the old behavior, exclude the relevant entries before the concat operation.\n",
      "  w46 = pd.concat(datasets, sort=False, axis=0).reset_index(drop=True)\n",
      "/var/folders/ck/3npmnx597nb730qdy5w_6kp00000gn/T/ipykernel_16384/3866078798.py:43: FutureWarning: The behavior of DataFrame concatenation with empty or all-NA entries is deprecated. In a future version, this will no longer exclude empty or all-NA columns when determining the result dtypes. To retain the old behavior, exclude the relevant entries before the concat operation.\n",
      "  w46 = pd.concat(datasets, sort=False, axis=0).reset_index(drop=True)\n",
      "/var/folders/ck/3npmnx597nb730qdy5w_6kp00000gn/T/ipykernel_16384/3866078798.py:43: FutureWarning: The behavior of DataFrame concatenation with empty or all-NA entries is deprecated. In a future version, this will no longer exclude empty or all-NA columns when determining the result dtypes. To retain the old behavior, exclude the relevant entries before the concat operation.\n",
      "  w46 = pd.concat(datasets, sort=False, axis=0).reset_index(drop=True)\n",
      "/var/folders/ck/3npmnx597nb730qdy5w_6kp00000gn/T/ipykernel_16384/3866078798.py:43: FutureWarning: The behavior of DataFrame concatenation with empty or all-NA entries is deprecated. In a future version, this will no longer exclude empty or all-NA columns when determining the result dtypes. To retain the old behavior, exclude the relevant entries before the concat operation.\n",
      "  w46 = pd.concat(datasets, sort=False, axis=0).reset_index(drop=True)\n",
      "/var/folders/ck/3npmnx597nb730qdy5w_6kp00000gn/T/ipykernel_16384/3866078798.py:43: FutureWarning: The behavior of DataFrame concatenation with empty or all-NA entries is deprecated. In a future version, this will no longer exclude empty or all-NA columns when determining the result dtypes. To retain the old behavior, exclude the relevant entries before the concat operation.\n",
      "  w46 = pd.concat(datasets, sort=False, axis=0).reset_index(drop=True)\n",
      "/var/folders/ck/3npmnx597nb730qdy5w_6kp00000gn/T/ipykernel_16384/3866078798.py:43: FutureWarning: The behavior of DataFrame concatenation with empty or all-NA entries is deprecated. In a future version, this will no longer exclude empty or all-NA columns when determining the result dtypes. To retain the old behavior, exclude the relevant entries before the concat operation.\n",
      "  w46 = pd.concat(datasets, sort=False, axis=0).reset_index(drop=True)\n",
      "/var/folders/ck/3npmnx597nb730qdy5w_6kp00000gn/T/ipykernel_16384/3866078798.py:43: FutureWarning: The behavior of DataFrame concatenation with empty or all-NA entries is deprecated. In a future version, this will no longer exclude empty or all-NA columns when determining the result dtypes. To retain the old behavior, exclude the relevant entries before the concat operation.\n",
      "  w46 = pd.concat(datasets, sort=False, axis=0).reset_index(drop=True)\n",
      "/var/folders/ck/3npmnx597nb730qdy5w_6kp00000gn/T/ipykernel_16384/3866078798.py:43: FutureWarning: The behavior of DataFrame concatenation with empty or all-NA entries is deprecated. In a future version, this will no longer exclude empty or all-NA columns when determining the result dtypes. To retain the old behavior, exclude the relevant entries before the concat operation.\n",
      "  w46 = pd.concat(datasets, sort=False, axis=0).reset_index(drop=True)\n",
      "/var/folders/ck/3npmnx597nb730qdy5w_6kp00000gn/T/ipykernel_16384/3866078798.py:43: FutureWarning: The behavior of DataFrame concatenation with empty or all-NA entries is deprecated. In a future version, this will no longer exclude empty or all-NA columns when determining the result dtypes. To retain the old behavior, exclude the relevant entries before the concat operation.\n",
      "  w46 = pd.concat(datasets, sort=False, axis=0).reset_index(drop=True)\n",
      "/var/folders/ck/3npmnx597nb730qdy5w_6kp00000gn/T/ipykernel_16384/3866078798.py:43: FutureWarning: The behavior of DataFrame concatenation with empty or all-NA entries is deprecated. In a future version, this will no longer exclude empty or all-NA columns when determining the result dtypes. To retain the old behavior, exclude the relevant entries before the concat operation.\n",
      "  w46 = pd.concat(datasets, sort=False, axis=0).reset_index(drop=True)\n",
      "/var/folders/ck/3npmnx597nb730qdy5w_6kp00000gn/T/ipykernel_16384/3866078798.py:43: FutureWarning: The behavior of DataFrame concatenation with empty or all-NA entries is deprecated. In a future version, this will no longer exclude empty or all-NA columns when determining the result dtypes. To retain the old behavior, exclude the relevant entries before the concat operation.\n",
      "  w46 = pd.concat(datasets, sort=False, axis=0).reset_index(drop=True)\n",
      "/var/folders/ck/3npmnx597nb730qdy5w_6kp00000gn/T/ipykernel_16384/3866078798.py:43: FutureWarning: The behavior of DataFrame concatenation with empty or all-NA entries is deprecated. In a future version, this will no longer exclude empty or all-NA columns when determining the result dtypes. To retain the old behavior, exclude the relevant entries before the concat operation.\n",
      "  w46 = pd.concat(datasets, sort=False, axis=0).reset_index(drop=True)\n",
      "/var/folders/ck/3npmnx597nb730qdy5w_6kp00000gn/T/ipykernel_16384/3866078798.py:43: FutureWarning: The behavior of DataFrame concatenation with empty or all-NA entries is deprecated. In a future version, this will no longer exclude empty or all-NA columns when determining the result dtypes. To retain the old behavior, exclude the relevant entries before the concat operation.\n",
      "  w46 = pd.concat(datasets, sort=False, axis=0).reset_index(drop=True)\n",
      "/var/folders/ck/3npmnx597nb730qdy5w_6kp00000gn/T/ipykernel_16384/3866078798.py:43: FutureWarning: The behavior of DataFrame concatenation with empty or all-NA entries is deprecated. In a future version, this will no longer exclude empty or all-NA columns when determining the result dtypes. To retain the old behavior, exclude the relevant entries before the concat operation.\n",
      "  w46 = pd.concat(datasets, sort=False, axis=0).reset_index(drop=True)\n",
      "/var/folders/ck/3npmnx597nb730qdy5w_6kp00000gn/T/ipykernel_16384/3866078798.py:43: FutureWarning: The behavior of DataFrame concatenation with empty or all-NA entries is deprecated. In a future version, this will no longer exclude empty or all-NA columns when determining the result dtypes. To retain the old behavior, exclude the relevant entries before the concat operation.\n",
      "  w46 = pd.concat(datasets, sort=False, axis=0).reset_index(drop=True)\n",
      "/var/folders/ck/3npmnx597nb730qdy5w_6kp00000gn/T/ipykernel_16384/3866078798.py:43: FutureWarning: The behavior of DataFrame concatenation with empty or all-NA entries is deprecated. In a future version, this will no longer exclude empty or all-NA columns when determining the result dtypes. To retain the old behavior, exclude the relevant entries before the concat operation.\n",
      "  w46 = pd.concat(datasets, sort=False, axis=0).reset_index(drop=True)\n",
      "/var/folders/ck/3npmnx597nb730qdy5w_6kp00000gn/T/ipykernel_16384/3866078798.py:43: FutureWarning: The behavior of DataFrame concatenation with empty or all-NA entries is deprecated. In a future version, this will no longer exclude empty or all-NA columns when determining the result dtypes. To retain the old behavior, exclude the relevant entries before the concat operation.\n",
      "  w46 = pd.concat(datasets, sort=False, axis=0).reset_index(drop=True)\n",
      "/var/folders/ck/3npmnx597nb730qdy5w_6kp00000gn/T/ipykernel_16384/3866078798.py:43: FutureWarning: The behavior of DataFrame concatenation with empty or all-NA entries is deprecated. In a future version, this will no longer exclude empty or all-NA columns when determining the result dtypes. To retain the old behavior, exclude the relevant entries before the concat operation.\n",
      "  w46 = pd.concat(datasets, sort=False, axis=0).reset_index(drop=True)\n",
      "/var/folders/ck/3npmnx597nb730qdy5w_6kp00000gn/T/ipykernel_16384/3866078798.py:43: FutureWarning: The behavior of DataFrame concatenation with empty or all-NA entries is deprecated. In a future version, this will no longer exclude empty or all-NA columns when determining the result dtypes. To retain the old behavior, exclude the relevant entries before the concat operation.\n",
      "  w46 = pd.concat(datasets, sort=False, axis=0).reset_index(drop=True)\n",
      "/var/folders/ck/3npmnx597nb730qdy5w_6kp00000gn/T/ipykernel_16384/3866078798.py:43: FutureWarning: The behavior of DataFrame concatenation with empty or all-NA entries is deprecated. In a future version, this will no longer exclude empty or all-NA columns when determining the result dtypes. To retain the old behavior, exclude the relevant entries before the concat operation.\n",
      "  w46 = pd.concat(datasets, sort=False, axis=0).reset_index(drop=True)\n",
      "/var/folders/ck/3npmnx597nb730qdy5w_6kp00000gn/T/ipykernel_16384/3866078798.py:43: FutureWarning: The behavior of DataFrame concatenation with empty or all-NA entries is deprecated. In a future version, this will no longer exclude empty or all-NA columns when determining the result dtypes. To retain the old behavior, exclude the relevant entries before the concat operation.\n",
      "  w46 = pd.concat(datasets, sort=False, axis=0).reset_index(drop=True)\n",
      "/var/folders/ck/3npmnx597nb730qdy5w_6kp00000gn/T/ipykernel_16384/3866078798.py:43: FutureWarning: The behavior of DataFrame concatenation with empty or all-NA entries is deprecated. In a future version, this will no longer exclude empty or all-NA columns when determining the result dtypes. To retain the old behavior, exclude the relevant entries before the concat operation.\n",
      "  w46 = pd.concat(datasets, sort=False, axis=0).reset_index(drop=True)\n",
      "/var/folders/ck/3npmnx597nb730qdy5w_6kp00000gn/T/ipykernel_16384/3866078798.py:43: FutureWarning: The behavior of DataFrame concatenation with empty or all-NA entries is deprecated. In a future version, this will no longer exclude empty or all-NA columns when determining the result dtypes. To retain the old behavior, exclude the relevant entries before the concat operation.\n",
      "  w46 = pd.concat(datasets, sort=False, axis=0).reset_index(drop=True)\n",
      "/var/folders/ck/3npmnx597nb730qdy5w_6kp00000gn/T/ipykernel_16384/3866078798.py:43: FutureWarning: The behavior of DataFrame concatenation with empty or all-NA entries is deprecated. In a future version, this will no longer exclude empty or all-NA columns when determining the result dtypes. To retain the old behavior, exclude the relevant entries before the concat operation.\n",
      "  w46 = pd.concat(datasets, sort=False, axis=0).reset_index(drop=True)\n",
      "/var/folders/ck/3npmnx597nb730qdy5w_6kp00000gn/T/ipykernel_16384/3866078798.py:43: FutureWarning: The behavior of DataFrame concatenation with empty or all-NA entries is deprecated. In a future version, this will no longer exclude empty or all-NA columns when determining the result dtypes. To retain the old behavior, exclude the relevant entries before the concat operation.\n",
      "  w46 = pd.concat(datasets, sort=False, axis=0).reset_index(drop=True)\n",
      "/var/folders/ck/3npmnx597nb730qdy5w_6kp00000gn/T/ipykernel_16384/3866078798.py:43: FutureWarning: The behavior of DataFrame concatenation with empty or all-NA entries is deprecated. In a future version, this will no longer exclude empty or all-NA columns when determining the result dtypes. To retain the old behavior, exclude the relevant entries before the concat operation.\n",
      "  w46 = pd.concat(datasets, sort=False, axis=0).reset_index(drop=True)\n",
      "/var/folders/ck/3npmnx597nb730qdy5w_6kp00000gn/T/ipykernel_16384/3866078798.py:43: FutureWarning: The behavior of DataFrame concatenation with empty or all-NA entries is deprecated. In a future version, this will no longer exclude empty or all-NA columns when determining the result dtypes. To retain the old behavior, exclude the relevant entries before the concat operation.\n",
      "  w46 = pd.concat(datasets, sort=False, axis=0).reset_index(drop=True)\n",
      "/var/folders/ck/3npmnx597nb730qdy5w_6kp00000gn/T/ipykernel_16384/3866078798.py:43: FutureWarning: The behavior of DataFrame concatenation with empty or all-NA entries is deprecated. In a future version, this will no longer exclude empty or all-NA columns when determining the result dtypes. To retain the old behavior, exclude the relevant entries before the concat operation.\n",
      "  w46 = pd.concat(datasets, sort=False, axis=0).reset_index(drop=True)\n",
      "/var/folders/ck/3npmnx597nb730qdy5w_6kp00000gn/T/ipykernel_16384/3866078798.py:43: FutureWarning: The behavior of DataFrame concatenation with empty or all-NA entries is deprecated. In a future version, this will no longer exclude empty or all-NA columns when determining the result dtypes. To retain the old behavior, exclude the relevant entries before the concat operation.\n",
      "  w46 = pd.concat(datasets, sort=False, axis=0).reset_index(drop=True)\n",
      "/var/folders/ck/3npmnx597nb730qdy5w_6kp00000gn/T/ipykernel_16384/3866078798.py:43: FutureWarning: The behavior of DataFrame concatenation with empty or all-NA entries is deprecated. In a future version, this will no longer exclude empty or all-NA columns when determining the result dtypes. To retain the old behavior, exclude the relevant entries before the concat operation.\n",
      "  w46 = pd.concat(datasets, sort=False, axis=0).reset_index(drop=True)\n",
      "/var/folders/ck/3npmnx597nb730qdy5w_6kp00000gn/T/ipykernel_16384/3866078798.py:43: FutureWarning: The behavior of DataFrame concatenation with empty or all-NA entries is deprecated. In a future version, this will no longer exclude empty or all-NA columns when determining the result dtypes. To retain the old behavior, exclude the relevant entries before the concat operation.\n",
      "  w46 = pd.concat(datasets, sort=False, axis=0).reset_index(drop=True)\n",
      "/var/folders/ck/3npmnx597nb730qdy5w_6kp00000gn/T/ipykernel_16384/3866078798.py:43: FutureWarning: The behavior of DataFrame concatenation with empty or all-NA entries is deprecated. In a future version, this will no longer exclude empty or all-NA columns when determining the result dtypes. To retain the old behavior, exclude the relevant entries before the concat operation.\n",
      "  w46 = pd.concat(datasets, sort=False, axis=0).reset_index(drop=True)\n",
      "/var/folders/ck/3npmnx597nb730qdy5w_6kp00000gn/T/ipykernel_16384/3866078798.py:43: FutureWarning: The behavior of DataFrame concatenation with empty or all-NA entries is deprecated. In a future version, this will no longer exclude empty or all-NA columns when determining the result dtypes. To retain the old behavior, exclude the relevant entries before the concat operation.\n",
      "  w46 = pd.concat(datasets, sort=False, axis=0).reset_index(drop=True)\n",
      "/var/folders/ck/3npmnx597nb730qdy5w_6kp00000gn/T/ipykernel_16384/3866078798.py:43: FutureWarning: The behavior of DataFrame concatenation with empty or all-NA entries is deprecated. In a future version, this will no longer exclude empty or all-NA columns when determining the result dtypes. To retain the old behavior, exclude the relevant entries before the concat operation.\n",
      "  w46 = pd.concat(datasets, sort=False, axis=0).reset_index(drop=True)\n",
      "/var/folders/ck/3npmnx597nb730qdy5w_6kp00000gn/T/ipykernel_16384/3866078798.py:43: FutureWarning: The behavior of DataFrame concatenation with empty or all-NA entries is deprecated. In a future version, this will no longer exclude empty or all-NA columns when determining the result dtypes. To retain the old behavior, exclude the relevant entries before the concat operation.\n",
      "  w46 = pd.concat(datasets, sort=False, axis=0).reset_index(drop=True)\n",
      "/var/folders/ck/3npmnx597nb730qdy5w_6kp00000gn/T/ipykernel_16384/3866078798.py:43: FutureWarning: The behavior of DataFrame concatenation with empty or all-NA entries is deprecated. In a future version, this will no longer exclude empty or all-NA columns when determining the result dtypes. To retain the old behavior, exclude the relevant entries before the concat operation.\n",
      "  w46 = pd.concat(datasets, sort=False, axis=0).reset_index(drop=True)\n",
      "/var/folders/ck/3npmnx597nb730qdy5w_6kp00000gn/T/ipykernel_16384/3866078798.py:43: FutureWarning: The behavior of DataFrame concatenation with empty or all-NA entries is deprecated. In a future version, this will no longer exclude empty or all-NA columns when determining the result dtypes. To retain the old behavior, exclude the relevant entries before the concat operation.\n",
      "  w46 = pd.concat(datasets, sort=False, axis=0).reset_index(drop=True)\n",
      "/var/folders/ck/3npmnx597nb730qdy5w_6kp00000gn/T/ipykernel_16384/3866078798.py:43: FutureWarning: The behavior of DataFrame concatenation with empty or all-NA entries is deprecated. In a future version, this will no longer exclude empty or all-NA columns when determining the result dtypes. To retain the old behavior, exclude the relevant entries before the concat operation.\n",
      "  w46 = pd.concat(datasets, sort=False, axis=0).reset_index(drop=True)\n",
      "/var/folders/ck/3npmnx597nb730qdy5w_6kp00000gn/T/ipykernel_16384/3866078798.py:43: FutureWarning: The behavior of DataFrame concatenation with empty or all-NA entries is deprecated. In a future version, this will no longer exclude empty or all-NA columns when determining the result dtypes. To retain the old behavior, exclude the relevant entries before the concat operation.\n",
      "  w46 = pd.concat(datasets, sort=False, axis=0).reset_index(drop=True)\n",
      "/var/folders/ck/3npmnx597nb730qdy5w_6kp00000gn/T/ipykernel_16384/3866078798.py:43: FutureWarning: The behavior of DataFrame concatenation with empty or all-NA entries is deprecated. In a future version, this will no longer exclude empty or all-NA columns when determining the result dtypes. To retain the old behavior, exclude the relevant entries before the concat operation.\n",
      "  w46 = pd.concat(datasets, sort=False, axis=0).reset_index(drop=True)\n",
      "/var/folders/ck/3npmnx597nb730qdy5w_6kp00000gn/T/ipykernel_16384/3866078798.py:43: FutureWarning: The behavior of DataFrame concatenation with empty or all-NA entries is deprecated. In a future version, this will no longer exclude empty or all-NA columns when determining the result dtypes. To retain the old behavior, exclude the relevant entries before the concat operation.\n",
      "  w46 = pd.concat(datasets, sort=False, axis=0).reset_index(drop=True)\n",
      "/var/folders/ck/3npmnx597nb730qdy5w_6kp00000gn/T/ipykernel_16384/3866078798.py:43: FutureWarning: The behavior of DataFrame concatenation with empty or all-NA entries is deprecated. In a future version, this will no longer exclude empty or all-NA columns when determining the result dtypes. To retain the old behavior, exclude the relevant entries before the concat operation.\n",
      "  w46 = pd.concat(datasets, sort=False, axis=0).reset_index(drop=True)\n",
      "/var/folders/ck/3npmnx597nb730qdy5w_6kp00000gn/T/ipykernel_16384/3866078798.py:43: FutureWarning: The behavior of DataFrame concatenation with empty or all-NA entries is deprecated. In a future version, this will no longer exclude empty or all-NA columns when determining the result dtypes. To retain the old behavior, exclude the relevant entries before the concat operation.\n",
      "  w46 = pd.concat(datasets, sort=False, axis=0).reset_index(drop=True)\n",
      "/var/folders/ck/3npmnx597nb730qdy5w_6kp00000gn/T/ipykernel_16384/3866078798.py:43: FutureWarning: The behavior of DataFrame concatenation with empty or all-NA entries is deprecated. In a future version, this will no longer exclude empty or all-NA columns when determining the result dtypes. To retain the old behavior, exclude the relevant entries before the concat operation.\n",
      "  w46 = pd.concat(datasets, sort=False, axis=0).reset_index(drop=True)\n",
      "/var/folders/ck/3npmnx597nb730qdy5w_6kp00000gn/T/ipykernel_16384/3866078798.py:43: FutureWarning: The behavior of DataFrame concatenation with empty or all-NA entries is deprecated. In a future version, this will no longer exclude empty or all-NA columns when determining the result dtypes. To retain the old behavior, exclude the relevant entries before the concat operation.\n",
      "  w46 = pd.concat(datasets, sort=False, axis=0).reset_index(drop=True)\n",
      "/var/folders/ck/3npmnx597nb730qdy5w_6kp00000gn/T/ipykernel_16384/3866078798.py:43: FutureWarning: The behavior of DataFrame concatenation with empty or all-NA entries is deprecated. In a future version, this will no longer exclude empty or all-NA columns when determining the result dtypes. To retain the old behavior, exclude the relevant entries before the concat operation.\n",
      "  w46 = pd.concat(datasets, sort=False, axis=0).reset_index(drop=True)\n",
      "/var/folders/ck/3npmnx597nb730qdy5w_6kp00000gn/T/ipykernel_16384/3866078798.py:43: FutureWarning: The behavior of DataFrame concatenation with empty or all-NA entries is deprecated. In a future version, this will no longer exclude empty or all-NA columns when determining the result dtypes. To retain the old behavior, exclude the relevant entries before the concat operation.\n",
      "  w46 = pd.concat(datasets, sort=False, axis=0).reset_index(drop=True)\n",
      "/var/folders/ck/3npmnx597nb730qdy5w_6kp00000gn/T/ipykernel_16384/3866078798.py:43: FutureWarning: The behavior of DataFrame concatenation with empty or all-NA entries is deprecated. In a future version, this will no longer exclude empty or all-NA columns when determining the result dtypes. To retain the old behavior, exclude the relevant entries before the concat operation.\n",
      "  w46 = pd.concat(datasets, sort=False, axis=0).reset_index(drop=True)\n",
      "/var/folders/ck/3npmnx597nb730qdy5w_6kp00000gn/T/ipykernel_16384/3866078798.py:43: FutureWarning: The behavior of DataFrame concatenation with empty or all-NA entries is deprecated. In a future version, this will no longer exclude empty or all-NA columns when determining the result dtypes. To retain the old behavior, exclude the relevant entries before the concat operation.\n",
      "  w46 = pd.concat(datasets, sort=False, axis=0).reset_index(drop=True)\n",
      "/var/folders/ck/3npmnx597nb730qdy5w_6kp00000gn/T/ipykernel_16384/3866078798.py:43: FutureWarning: The behavior of DataFrame concatenation with empty or all-NA entries is deprecated. In a future version, this will no longer exclude empty or all-NA columns when determining the result dtypes. To retain the old behavior, exclude the relevant entries before the concat operation.\n",
      "  w46 = pd.concat(datasets, sort=False, axis=0).reset_index(drop=True)\n",
      "/var/folders/ck/3npmnx597nb730qdy5w_6kp00000gn/T/ipykernel_16384/3866078798.py:43: FutureWarning: The behavior of DataFrame concatenation with empty or all-NA entries is deprecated. In a future version, this will no longer exclude empty or all-NA columns when determining the result dtypes. To retain the old behavior, exclude the relevant entries before the concat operation.\n",
      "  w46 = pd.concat(datasets, sort=False, axis=0).reset_index(drop=True)\n",
      "/var/folders/ck/3npmnx597nb730qdy5w_6kp00000gn/T/ipykernel_16384/3866078798.py:43: FutureWarning: The behavior of DataFrame concatenation with empty or all-NA entries is deprecated. In a future version, this will no longer exclude empty or all-NA columns when determining the result dtypes. To retain the old behavior, exclude the relevant entries before the concat operation.\n",
      "  w46 = pd.concat(datasets, sort=False, axis=0).reset_index(drop=True)\n",
      "/var/folders/ck/3npmnx597nb730qdy5w_6kp00000gn/T/ipykernel_16384/3866078798.py:43: FutureWarning: The behavior of DataFrame concatenation with empty or all-NA entries is deprecated. In a future version, this will no longer exclude empty or all-NA columns when determining the result dtypes. To retain the old behavior, exclude the relevant entries before the concat operation.\n",
      "  w46 = pd.concat(datasets, sort=False, axis=0).reset_index(drop=True)\n",
      "/var/folders/ck/3npmnx597nb730qdy5w_6kp00000gn/T/ipykernel_16384/3866078798.py:43: FutureWarning: The behavior of DataFrame concatenation with empty or all-NA entries is deprecated. In a future version, this will no longer exclude empty or all-NA columns when determining the result dtypes. To retain the old behavior, exclude the relevant entries before the concat operation.\n",
      "  w46 = pd.concat(datasets, sort=False, axis=0).reset_index(drop=True)\n",
      "/var/folders/ck/3npmnx597nb730qdy5w_6kp00000gn/T/ipykernel_16384/3866078798.py:43: FutureWarning: The behavior of DataFrame concatenation with empty or all-NA entries is deprecated. In a future version, this will no longer exclude empty or all-NA columns when determining the result dtypes. To retain the old behavior, exclude the relevant entries before the concat operation.\n",
      "  w46 = pd.concat(datasets, sort=False, axis=0).reset_index(drop=True)\n",
      "/var/folders/ck/3npmnx597nb730qdy5w_6kp00000gn/T/ipykernel_16384/3866078798.py:43: FutureWarning: The behavior of DataFrame concatenation with empty or all-NA entries is deprecated. In a future version, this will no longer exclude empty or all-NA columns when determining the result dtypes. To retain the old behavior, exclude the relevant entries before the concat operation.\n",
      "  w46 = pd.concat(datasets, sort=False, axis=0).reset_index(drop=True)\n",
      "/var/folders/ck/3npmnx597nb730qdy5w_6kp00000gn/T/ipykernel_16384/3866078798.py:43: FutureWarning: The behavior of DataFrame concatenation with empty or all-NA entries is deprecated. In a future version, this will no longer exclude empty or all-NA columns when determining the result dtypes. To retain the old behavior, exclude the relevant entries before the concat operation.\n",
      "  w46 = pd.concat(datasets, sort=False, axis=0).reset_index(drop=True)\n",
      "/var/folders/ck/3npmnx597nb730qdy5w_6kp00000gn/T/ipykernel_16384/3866078798.py:43: FutureWarning: The behavior of DataFrame concatenation with empty or all-NA entries is deprecated. In a future version, this will no longer exclude empty or all-NA columns when determining the result dtypes. To retain the old behavior, exclude the relevant entries before the concat operation.\n",
      "  w46 = pd.concat(datasets, sort=False, axis=0).reset_index(drop=True)\n",
      "/var/folders/ck/3npmnx597nb730qdy5w_6kp00000gn/T/ipykernel_16384/3866078798.py:43: FutureWarning: The behavior of DataFrame concatenation with empty or all-NA entries is deprecated. In a future version, this will no longer exclude empty or all-NA columns when determining the result dtypes. To retain the old behavior, exclude the relevant entries before the concat operation.\n",
      "  w46 = pd.concat(datasets, sort=False, axis=0).reset_index(drop=True)\n",
      "/var/folders/ck/3npmnx597nb730qdy5w_6kp00000gn/T/ipykernel_16384/3866078798.py:43: FutureWarning: The behavior of DataFrame concatenation with empty or all-NA entries is deprecated. In a future version, this will no longer exclude empty or all-NA columns when determining the result dtypes. To retain the old behavior, exclude the relevant entries before the concat operation.\n",
      "  w46 = pd.concat(datasets, sort=False, axis=0).reset_index(drop=True)\n",
      "/var/folders/ck/3npmnx597nb730qdy5w_6kp00000gn/T/ipykernel_16384/3866078798.py:43: FutureWarning: The behavior of DataFrame concatenation with empty or all-NA entries is deprecated. In a future version, this will no longer exclude empty or all-NA columns when determining the result dtypes. To retain the old behavior, exclude the relevant entries before the concat operation.\n",
      "  w46 = pd.concat(datasets, sort=False, axis=0).reset_index(drop=True)\n",
      "/var/folders/ck/3npmnx597nb730qdy5w_6kp00000gn/T/ipykernel_16384/3866078798.py:43: FutureWarning: The behavior of DataFrame concatenation with empty or all-NA entries is deprecated. In a future version, this will no longer exclude empty or all-NA columns when determining the result dtypes. To retain the old behavior, exclude the relevant entries before the concat operation.\n",
      "  w46 = pd.concat(datasets, sort=False, axis=0).reset_index(drop=True)\n",
      "/var/folders/ck/3npmnx597nb730qdy5w_6kp00000gn/T/ipykernel_16384/3866078798.py:43: FutureWarning: The behavior of DataFrame concatenation with empty or all-NA entries is deprecated. In a future version, this will no longer exclude empty or all-NA columns when determining the result dtypes. To retain the old behavior, exclude the relevant entries before the concat operation.\n",
      "  w46 = pd.concat(datasets, sort=False, axis=0).reset_index(drop=True)\n",
      "/var/folders/ck/3npmnx597nb730qdy5w_6kp00000gn/T/ipykernel_16384/3866078798.py:43: FutureWarning: The behavior of DataFrame concatenation with empty or all-NA entries is deprecated. In a future version, this will no longer exclude empty or all-NA columns when determining the result dtypes. To retain the old behavior, exclude the relevant entries before the concat operation.\n",
      "  w46 = pd.concat(datasets, sort=False, axis=0).reset_index(drop=True)\n",
      "/var/folders/ck/3npmnx597nb730qdy5w_6kp00000gn/T/ipykernel_16384/3866078798.py:43: FutureWarning: The behavior of DataFrame concatenation with empty or all-NA entries is deprecated. In a future version, this will no longer exclude empty or all-NA columns when determining the result dtypes. To retain the old behavior, exclude the relevant entries before the concat operation.\n",
      "  w46 = pd.concat(datasets, sort=False, axis=0).reset_index(drop=True)\n",
      "/var/folders/ck/3npmnx597nb730qdy5w_6kp00000gn/T/ipykernel_16384/3866078798.py:43: FutureWarning: The behavior of DataFrame concatenation with empty or all-NA entries is deprecated. In a future version, this will no longer exclude empty or all-NA columns when determining the result dtypes. To retain the old behavior, exclude the relevant entries before the concat operation.\n",
      "  w46 = pd.concat(datasets, sort=False, axis=0).reset_index(drop=True)\n",
      "/var/folders/ck/3npmnx597nb730qdy5w_6kp00000gn/T/ipykernel_16384/3866078798.py:43: FutureWarning: The behavior of DataFrame concatenation with empty or all-NA entries is deprecated. In a future version, this will no longer exclude empty or all-NA columns when determining the result dtypes. To retain the old behavior, exclude the relevant entries before the concat operation.\n",
      "  w46 = pd.concat(datasets, sort=False, axis=0).reset_index(drop=True)\n",
      "/var/folders/ck/3npmnx597nb730qdy5w_6kp00000gn/T/ipykernel_16384/3866078798.py:43: FutureWarning: The behavior of DataFrame concatenation with empty or all-NA entries is deprecated. In a future version, this will no longer exclude empty or all-NA columns when determining the result dtypes. To retain the old behavior, exclude the relevant entries before the concat operation.\n",
      "  w46 = pd.concat(datasets, sort=False, axis=0).reset_index(drop=True)\n",
      "/var/folders/ck/3npmnx597nb730qdy5w_6kp00000gn/T/ipykernel_16384/3866078798.py:43: FutureWarning: The behavior of DataFrame concatenation with empty or all-NA entries is deprecated. In a future version, this will no longer exclude empty or all-NA columns when determining the result dtypes. To retain the old behavior, exclude the relevant entries before the concat operation.\n",
      "  w46 = pd.concat(datasets, sort=False, axis=0).reset_index(drop=True)\n",
      "/var/folders/ck/3npmnx597nb730qdy5w_6kp00000gn/T/ipykernel_16384/3866078798.py:43: FutureWarning: The behavior of DataFrame concatenation with empty or all-NA entries is deprecated. In a future version, this will no longer exclude empty or all-NA columns when determining the result dtypes. To retain the old behavior, exclude the relevant entries before the concat operation.\n",
      "  w46 = pd.concat(datasets, sort=False, axis=0).reset_index(drop=True)\n",
      "/var/folders/ck/3npmnx597nb730qdy5w_6kp00000gn/T/ipykernel_16384/3866078798.py:43: FutureWarning: The behavior of DataFrame concatenation with empty or all-NA entries is deprecated. In a future version, this will no longer exclude empty or all-NA columns when determining the result dtypes. To retain the old behavior, exclude the relevant entries before the concat operation.\n",
      "  w46 = pd.concat(datasets, sort=False, axis=0).reset_index(drop=True)\n",
      "/var/folders/ck/3npmnx597nb730qdy5w_6kp00000gn/T/ipykernel_16384/3866078798.py:43: FutureWarning: The behavior of DataFrame concatenation with empty or all-NA entries is deprecated. In a future version, this will no longer exclude empty or all-NA columns when determining the result dtypes. To retain the old behavior, exclude the relevant entries before the concat operation.\n",
      "  w46 = pd.concat(datasets, sort=False, axis=0).reset_index(drop=True)\n",
      "/var/folders/ck/3npmnx597nb730qdy5w_6kp00000gn/T/ipykernel_16384/3866078798.py:43: FutureWarning: The behavior of DataFrame concatenation with empty or all-NA entries is deprecated. In a future version, this will no longer exclude empty or all-NA columns when determining the result dtypes. To retain the old behavior, exclude the relevant entries before the concat operation.\n",
      "  w46 = pd.concat(datasets, sort=False, axis=0).reset_index(drop=True)\n",
      "/var/folders/ck/3npmnx597nb730qdy5w_6kp00000gn/T/ipykernel_16384/3866078798.py:43: FutureWarning: The behavior of DataFrame concatenation with empty or all-NA entries is deprecated. In a future version, this will no longer exclude empty or all-NA columns when determining the result dtypes. To retain the old behavior, exclude the relevant entries before the concat operation.\n",
      "  w46 = pd.concat(datasets, sort=False, axis=0).reset_index(drop=True)\n",
      "/var/folders/ck/3npmnx597nb730qdy5w_6kp00000gn/T/ipykernel_16384/3866078798.py:43: FutureWarning: The behavior of DataFrame concatenation with empty or all-NA entries is deprecated. In a future version, this will no longer exclude empty or all-NA columns when determining the result dtypes. To retain the old behavior, exclude the relevant entries before the concat operation.\n",
      "  w46 = pd.concat(datasets, sort=False, axis=0).reset_index(drop=True)\n",
      "/var/folders/ck/3npmnx597nb730qdy5w_6kp00000gn/T/ipykernel_16384/3866078798.py:43: FutureWarning: The behavior of DataFrame concatenation with empty or all-NA entries is deprecated. In a future version, this will no longer exclude empty or all-NA columns when determining the result dtypes. To retain the old behavior, exclude the relevant entries before the concat operation.\n",
      "  w46 = pd.concat(datasets, sort=False, axis=0).reset_index(drop=True)\n",
      "/var/folders/ck/3npmnx597nb730qdy5w_6kp00000gn/T/ipykernel_16384/3866078798.py:43: FutureWarning: The behavior of DataFrame concatenation with empty or all-NA entries is deprecated. In a future version, this will no longer exclude empty or all-NA columns when determining the result dtypes. To retain the old behavior, exclude the relevant entries before the concat operation.\n",
      "  w46 = pd.concat(datasets, sort=False, axis=0).reset_index(drop=True)\n",
      "/var/folders/ck/3npmnx597nb730qdy5w_6kp00000gn/T/ipykernel_16384/3866078798.py:43: FutureWarning: The behavior of DataFrame concatenation with empty or all-NA entries is deprecated. In a future version, this will no longer exclude empty or all-NA columns when determining the result dtypes. To retain the old behavior, exclude the relevant entries before the concat operation.\n",
      "  w46 = pd.concat(datasets, sort=False, axis=0).reset_index(drop=True)\n",
      "/var/folders/ck/3npmnx597nb730qdy5w_6kp00000gn/T/ipykernel_16384/3866078798.py:43: FutureWarning: The behavior of DataFrame concatenation with empty or all-NA entries is deprecated. In a future version, this will no longer exclude empty or all-NA columns when determining the result dtypes. To retain the old behavior, exclude the relevant entries before the concat operation.\n",
      "  w46 = pd.concat(datasets, sort=False, axis=0).reset_index(drop=True)\n",
      "/var/folders/ck/3npmnx597nb730qdy5w_6kp00000gn/T/ipykernel_16384/3866078798.py:43: FutureWarning: The behavior of DataFrame concatenation with empty or all-NA entries is deprecated. In a future version, this will no longer exclude empty or all-NA columns when determining the result dtypes. To retain the old behavior, exclude the relevant entries before the concat operation.\n",
      "  w46 = pd.concat(datasets, sort=False, axis=0).reset_index(drop=True)\n",
      "/var/folders/ck/3npmnx597nb730qdy5w_6kp00000gn/T/ipykernel_16384/3866078798.py:43: FutureWarning: The behavior of DataFrame concatenation with empty or all-NA entries is deprecated. In a future version, this will no longer exclude empty or all-NA columns when determining the result dtypes. To retain the old behavior, exclude the relevant entries before the concat operation.\n",
      "  w46 = pd.concat(datasets, sort=False, axis=0).reset_index(drop=True)\n",
      "/var/folders/ck/3npmnx597nb730qdy5w_6kp00000gn/T/ipykernel_16384/3866078798.py:43: FutureWarning: The behavior of DataFrame concatenation with empty or all-NA entries is deprecated. In a future version, this will no longer exclude empty or all-NA columns when determining the result dtypes. To retain the old behavior, exclude the relevant entries before the concat operation.\n",
      "  w46 = pd.concat(datasets, sort=False, axis=0).reset_index(drop=True)\n",
      "/var/folders/ck/3npmnx597nb730qdy5w_6kp00000gn/T/ipykernel_16384/3866078798.py:43: FutureWarning: The behavior of DataFrame concatenation with empty or all-NA entries is deprecated. In a future version, this will no longer exclude empty or all-NA columns when determining the result dtypes. To retain the old behavior, exclude the relevant entries before the concat operation.\n",
      "  w46 = pd.concat(datasets, sort=False, axis=0).reset_index(drop=True)\n",
      "/var/folders/ck/3npmnx597nb730qdy5w_6kp00000gn/T/ipykernel_16384/3866078798.py:43: FutureWarning: The behavior of DataFrame concatenation with empty or all-NA entries is deprecated. In a future version, this will no longer exclude empty or all-NA columns when determining the result dtypes. To retain the old behavior, exclude the relevant entries before the concat operation.\n",
      "  w46 = pd.concat(datasets, sort=False, axis=0).reset_index(drop=True)\n",
      "/var/folders/ck/3npmnx597nb730qdy5w_6kp00000gn/T/ipykernel_16384/3866078798.py:43: FutureWarning: The behavior of DataFrame concatenation with empty or all-NA entries is deprecated. In a future version, this will no longer exclude empty or all-NA columns when determining the result dtypes. To retain the old behavior, exclude the relevant entries before the concat operation.\n",
      "  w46 = pd.concat(datasets, sort=False, axis=0).reset_index(drop=True)\n",
      "/var/folders/ck/3npmnx597nb730qdy5w_6kp00000gn/T/ipykernel_16384/3866078798.py:43: FutureWarning: The behavior of DataFrame concatenation with empty or all-NA entries is deprecated. In a future version, this will no longer exclude empty or all-NA columns when determining the result dtypes. To retain the old behavior, exclude the relevant entries before the concat operation.\n",
      "  w46 = pd.concat(datasets, sort=False, axis=0).reset_index(drop=True)\n",
      "/var/folders/ck/3npmnx597nb730qdy5w_6kp00000gn/T/ipykernel_16384/3866078798.py:43: FutureWarning: The behavior of DataFrame concatenation with empty or all-NA entries is deprecated. In a future version, this will no longer exclude empty or all-NA columns when determining the result dtypes. To retain the old behavior, exclude the relevant entries before the concat operation.\n",
      "  w46 = pd.concat(datasets, sort=False, axis=0).reset_index(drop=True)\n",
      "/var/folders/ck/3npmnx597nb730qdy5w_6kp00000gn/T/ipykernel_16384/3866078798.py:43: FutureWarning: The behavior of DataFrame concatenation with empty or all-NA entries is deprecated. In a future version, this will no longer exclude empty or all-NA columns when determining the result dtypes. To retain the old behavior, exclude the relevant entries before the concat operation.\n",
      "  w46 = pd.concat(datasets, sort=False, axis=0).reset_index(drop=True)\n",
      "/var/folders/ck/3npmnx597nb730qdy5w_6kp00000gn/T/ipykernel_16384/3866078798.py:43: FutureWarning: The behavior of DataFrame concatenation with empty or all-NA entries is deprecated. In a future version, this will no longer exclude empty or all-NA columns when determining the result dtypes. To retain the old behavior, exclude the relevant entries before the concat operation.\n",
      "  w46 = pd.concat(datasets, sort=False, axis=0).reset_index(drop=True)\n",
      "/var/folders/ck/3npmnx597nb730qdy5w_6kp00000gn/T/ipykernel_16384/3866078798.py:43: FutureWarning: The behavior of DataFrame concatenation with empty or all-NA entries is deprecated. In a future version, this will no longer exclude empty or all-NA columns when determining the result dtypes. To retain the old behavior, exclude the relevant entries before the concat operation.\n",
      "  w46 = pd.concat(datasets, sort=False, axis=0).reset_index(drop=True)\n",
      "/var/folders/ck/3npmnx597nb730qdy5w_6kp00000gn/T/ipykernel_16384/3866078798.py:43: FutureWarning: The behavior of DataFrame concatenation with empty or all-NA entries is deprecated. In a future version, this will no longer exclude empty or all-NA columns when determining the result dtypes. To retain the old behavior, exclude the relevant entries before the concat operation.\n",
      "  w46 = pd.concat(datasets, sort=False, axis=0).reset_index(drop=True)\n",
      "/var/folders/ck/3npmnx597nb730qdy5w_6kp00000gn/T/ipykernel_16384/3866078798.py:43: FutureWarning: The behavior of DataFrame concatenation with empty or all-NA entries is deprecated. In a future version, this will no longer exclude empty or all-NA columns when determining the result dtypes. To retain the old behavior, exclude the relevant entries before the concat operation.\n",
      "  w46 = pd.concat(datasets, sort=False, axis=0).reset_index(drop=True)\n",
      "/var/folders/ck/3npmnx597nb730qdy5w_6kp00000gn/T/ipykernel_16384/3866078798.py:43: FutureWarning: The behavior of DataFrame concatenation with empty or all-NA entries is deprecated. In a future version, this will no longer exclude empty or all-NA columns when determining the result dtypes. To retain the old behavior, exclude the relevant entries before the concat operation.\n",
      "  w46 = pd.concat(datasets, sort=False, axis=0).reset_index(drop=True)\n",
      "/var/folders/ck/3npmnx597nb730qdy5w_6kp00000gn/T/ipykernel_16384/3866078798.py:43: FutureWarning: The behavior of DataFrame concatenation with empty or all-NA entries is deprecated. In a future version, this will no longer exclude empty or all-NA columns when determining the result dtypes. To retain the old behavior, exclude the relevant entries before the concat operation.\n",
      "  w46 = pd.concat(datasets, sort=False, axis=0).reset_index(drop=True)\n",
      "/var/folders/ck/3npmnx597nb730qdy5w_6kp00000gn/T/ipykernel_16384/3866078798.py:43: FutureWarning: The behavior of DataFrame concatenation with empty or all-NA entries is deprecated. In a future version, this will no longer exclude empty or all-NA columns when determining the result dtypes. To retain the old behavior, exclude the relevant entries before the concat operation.\n",
      "  w46 = pd.concat(datasets, sort=False, axis=0).reset_index(drop=True)\n",
      "/var/folders/ck/3npmnx597nb730qdy5w_6kp00000gn/T/ipykernel_16384/3866078798.py:43: FutureWarning: The behavior of DataFrame concatenation with empty or all-NA entries is deprecated. In a future version, this will no longer exclude empty or all-NA columns when determining the result dtypes. To retain the old behavior, exclude the relevant entries before the concat operation.\n",
      "  w46 = pd.concat(datasets, sort=False, axis=0).reset_index(drop=True)\n",
      "/var/folders/ck/3npmnx597nb730qdy5w_6kp00000gn/T/ipykernel_16384/3866078798.py:43: FutureWarning: The behavior of DataFrame concatenation with empty or all-NA entries is deprecated. In a future version, this will no longer exclude empty or all-NA columns when determining the result dtypes. To retain the old behavior, exclude the relevant entries before the concat operation.\n",
      "  w46 = pd.concat(datasets, sort=False, axis=0).reset_index(drop=True)\n",
      "/var/folders/ck/3npmnx597nb730qdy5w_6kp00000gn/T/ipykernel_16384/3866078798.py:43: FutureWarning: The behavior of DataFrame concatenation with empty or all-NA entries is deprecated. In a future version, this will no longer exclude empty or all-NA columns when determining the result dtypes. To retain the old behavior, exclude the relevant entries before the concat operation.\n",
      "  w46 = pd.concat(datasets, sort=False, axis=0).reset_index(drop=True)\n",
      "/var/folders/ck/3npmnx597nb730qdy5w_6kp00000gn/T/ipykernel_16384/3866078798.py:43: FutureWarning: The behavior of DataFrame concatenation with empty or all-NA entries is deprecated. In a future version, this will no longer exclude empty or all-NA columns when determining the result dtypes. To retain the old behavior, exclude the relevant entries before the concat operation.\n",
      "  w46 = pd.concat(datasets, sort=False, axis=0).reset_index(drop=True)\n",
      "/var/folders/ck/3npmnx597nb730qdy5w_6kp00000gn/T/ipykernel_16384/3866078798.py:43: FutureWarning: The behavior of DataFrame concatenation with empty or all-NA entries is deprecated. In a future version, this will no longer exclude empty or all-NA columns when determining the result dtypes. To retain the old behavior, exclude the relevant entries before the concat operation.\n",
      "  w46 = pd.concat(datasets, sort=False, axis=0).reset_index(drop=True)\n",
      "/var/folders/ck/3npmnx597nb730qdy5w_6kp00000gn/T/ipykernel_16384/3866078798.py:43: FutureWarning: The behavior of DataFrame concatenation with empty or all-NA entries is deprecated. In a future version, this will no longer exclude empty or all-NA columns when determining the result dtypes. To retain the old behavior, exclude the relevant entries before the concat operation.\n",
      "  w46 = pd.concat(datasets, sort=False, axis=0).reset_index(drop=True)\n",
      "/var/folders/ck/3npmnx597nb730qdy5w_6kp00000gn/T/ipykernel_16384/3866078798.py:43: FutureWarning: The behavior of DataFrame concatenation with empty or all-NA entries is deprecated. In a future version, this will no longer exclude empty or all-NA columns when determining the result dtypes. To retain the old behavior, exclude the relevant entries before the concat operation.\n",
      "  w46 = pd.concat(datasets, sort=False, axis=0).reset_index(drop=True)\n",
      "/var/folders/ck/3npmnx597nb730qdy5w_6kp00000gn/T/ipykernel_16384/3866078798.py:43: FutureWarning: The behavior of DataFrame concatenation with empty or all-NA entries is deprecated. In a future version, this will no longer exclude empty or all-NA columns when determining the result dtypes. To retain the old behavior, exclude the relevant entries before the concat operation.\n",
      "  w46 = pd.concat(datasets, sort=False, axis=0).reset_index(drop=True)\n",
      "/var/folders/ck/3npmnx597nb730qdy5w_6kp00000gn/T/ipykernel_16384/3866078798.py:43: FutureWarning: The behavior of DataFrame concatenation with empty or all-NA entries is deprecated. In a future version, this will no longer exclude empty or all-NA columns when determining the result dtypes. To retain the old behavior, exclude the relevant entries before the concat operation.\n",
      "  w46 = pd.concat(datasets, sort=False, axis=0).reset_index(drop=True)\n",
      "/var/folders/ck/3npmnx597nb730qdy5w_6kp00000gn/T/ipykernel_16384/3866078798.py:43: FutureWarning: The behavior of DataFrame concatenation with empty or all-NA entries is deprecated. In a future version, this will no longer exclude empty or all-NA columns when determining the result dtypes. To retain the old behavior, exclude the relevant entries before the concat operation.\n",
      "  w46 = pd.concat(datasets, sort=False, axis=0).reset_index(drop=True)\n",
      "/var/folders/ck/3npmnx597nb730qdy5w_6kp00000gn/T/ipykernel_16384/3866078798.py:43: FutureWarning: The behavior of DataFrame concatenation with empty or all-NA entries is deprecated. In a future version, this will no longer exclude empty or all-NA columns when determining the result dtypes. To retain the old behavior, exclude the relevant entries before the concat operation.\n",
      "  w46 = pd.concat(datasets, sort=False, axis=0).reset_index(drop=True)\n",
      "/var/folders/ck/3npmnx597nb730qdy5w_6kp00000gn/T/ipykernel_16384/3866078798.py:43: FutureWarning: The behavior of DataFrame concatenation with empty or all-NA entries is deprecated. In a future version, this will no longer exclude empty or all-NA columns when determining the result dtypes. To retain the old behavior, exclude the relevant entries before the concat operation.\n",
      "  w46 = pd.concat(datasets, sort=False, axis=0).reset_index(drop=True)\n",
      "/var/folders/ck/3npmnx597nb730qdy5w_6kp00000gn/T/ipykernel_16384/3866078798.py:43: FutureWarning: The behavior of DataFrame concatenation with empty or all-NA entries is deprecated. In a future version, this will no longer exclude empty or all-NA columns when determining the result dtypes. To retain the old behavior, exclude the relevant entries before the concat operation.\n",
      "  w46 = pd.concat(datasets, sort=False, axis=0).reset_index(drop=True)\n",
      "/var/folders/ck/3npmnx597nb730qdy5w_6kp00000gn/T/ipykernel_16384/3866078798.py:43: FutureWarning: The behavior of DataFrame concatenation with empty or all-NA entries is deprecated. In a future version, this will no longer exclude empty or all-NA columns when determining the result dtypes. To retain the old behavior, exclude the relevant entries before the concat operation.\n",
      "  w46 = pd.concat(datasets, sort=False, axis=0).reset_index(drop=True)\n",
      "/var/folders/ck/3npmnx597nb730qdy5w_6kp00000gn/T/ipykernel_16384/3866078798.py:43: FutureWarning: The behavior of DataFrame concatenation with empty or all-NA entries is deprecated. In a future version, this will no longer exclude empty or all-NA columns when determining the result dtypes. To retain the old behavior, exclude the relevant entries before the concat operation.\n",
      "  w46 = pd.concat(datasets, sort=False, axis=0).reset_index(drop=True)\n",
      "/var/folders/ck/3npmnx597nb730qdy5w_6kp00000gn/T/ipykernel_16384/3866078798.py:43: FutureWarning: The behavior of DataFrame concatenation with empty or all-NA entries is deprecated. In a future version, this will no longer exclude empty or all-NA columns when determining the result dtypes. To retain the old behavior, exclude the relevant entries before the concat operation.\n",
      "  w46 = pd.concat(datasets, sort=False, axis=0).reset_index(drop=True)\n",
      "/var/folders/ck/3npmnx597nb730qdy5w_6kp00000gn/T/ipykernel_16384/3866078798.py:43: FutureWarning: The behavior of DataFrame concatenation with empty or all-NA entries is deprecated. In a future version, this will no longer exclude empty or all-NA columns when determining the result dtypes. To retain the old behavior, exclude the relevant entries before the concat operation.\n",
      "  w46 = pd.concat(datasets, sort=False, axis=0).reset_index(drop=True)\n",
      "/var/folders/ck/3npmnx597nb730qdy5w_6kp00000gn/T/ipykernel_16384/3866078798.py:43: FutureWarning: The behavior of DataFrame concatenation with empty or all-NA entries is deprecated. In a future version, this will no longer exclude empty or all-NA columns when determining the result dtypes. To retain the old behavior, exclude the relevant entries before the concat operation.\n",
      "  w46 = pd.concat(datasets, sort=False, axis=0).reset_index(drop=True)\n",
      "/var/folders/ck/3npmnx597nb730qdy5w_6kp00000gn/T/ipykernel_16384/3866078798.py:43: FutureWarning: The behavior of DataFrame concatenation with empty or all-NA entries is deprecated. In a future version, this will no longer exclude empty or all-NA columns when determining the result dtypes. To retain the old behavior, exclude the relevant entries before the concat operation.\n",
      "  w46 = pd.concat(datasets, sort=False, axis=0).reset_index(drop=True)\n",
      "/var/folders/ck/3npmnx597nb730qdy5w_6kp00000gn/T/ipykernel_16384/3866078798.py:43: FutureWarning: The behavior of DataFrame concatenation with empty or all-NA entries is deprecated. In a future version, this will no longer exclude empty or all-NA columns when determining the result dtypes. To retain the old behavior, exclude the relevant entries before the concat operation.\n",
      "  w46 = pd.concat(datasets, sort=False, axis=0).reset_index(drop=True)\n",
      "/var/folders/ck/3npmnx597nb730qdy5w_6kp00000gn/T/ipykernel_16384/3866078798.py:43: FutureWarning: The behavior of DataFrame concatenation with empty or all-NA entries is deprecated. In a future version, this will no longer exclude empty or all-NA columns when determining the result dtypes. To retain the old behavior, exclude the relevant entries before the concat operation.\n",
      "  w46 = pd.concat(datasets, sort=False, axis=0).reset_index(drop=True)\n",
      "/var/folders/ck/3npmnx597nb730qdy5w_6kp00000gn/T/ipykernel_16384/3866078798.py:43: FutureWarning: The behavior of DataFrame concatenation with empty or all-NA entries is deprecated. In a future version, this will no longer exclude empty or all-NA columns when determining the result dtypes. To retain the old behavior, exclude the relevant entries before the concat operation.\n",
      "  w46 = pd.concat(datasets, sort=False, axis=0).reset_index(drop=True)\n",
      "/var/folders/ck/3npmnx597nb730qdy5w_6kp00000gn/T/ipykernel_16384/3866078798.py:43: FutureWarning: The behavior of DataFrame concatenation with empty or all-NA entries is deprecated. In a future version, this will no longer exclude empty or all-NA columns when determining the result dtypes. To retain the old behavior, exclude the relevant entries before the concat operation.\n",
      "  w46 = pd.concat(datasets, sort=False, axis=0).reset_index(drop=True)\n",
      "/var/folders/ck/3npmnx597nb730qdy5w_6kp00000gn/T/ipykernel_16384/3866078798.py:43: FutureWarning: The behavior of DataFrame concatenation with empty or all-NA entries is deprecated. In a future version, this will no longer exclude empty or all-NA columns when determining the result dtypes. To retain the old behavior, exclude the relevant entries before the concat operation.\n",
      "  w46 = pd.concat(datasets, sort=False, axis=0).reset_index(drop=True)\n",
      "/var/folders/ck/3npmnx597nb730qdy5w_6kp00000gn/T/ipykernel_16384/3866078798.py:43: FutureWarning: The behavior of DataFrame concatenation with empty or all-NA entries is deprecated. In a future version, this will no longer exclude empty or all-NA columns when determining the result dtypes. To retain the old behavior, exclude the relevant entries before the concat operation.\n",
      "  w46 = pd.concat(datasets, sort=False, axis=0).reset_index(drop=True)\n",
      "/var/folders/ck/3npmnx597nb730qdy5w_6kp00000gn/T/ipykernel_16384/3866078798.py:43: FutureWarning: The behavior of DataFrame concatenation with empty or all-NA entries is deprecated. In a future version, this will no longer exclude empty or all-NA columns when determining the result dtypes. To retain the old behavior, exclude the relevant entries before the concat operation.\n",
      "  w46 = pd.concat(datasets, sort=False, axis=0).reset_index(drop=True)\n",
      "/var/folders/ck/3npmnx597nb730qdy5w_6kp00000gn/T/ipykernel_16384/3866078798.py:43: FutureWarning: The behavior of DataFrame concatenation with empty or all-NA entries is deprecated. In a future version, this will no longer exclude empty or all-NA columns when determining the result dtypes. To retain the old behavior, exclude the relevant entries before the concat operation.\n",
      "  w46 = pd.concat(datasets, sort=False, axis=0).reset_index(drop=True)\n",
      "/var/folders/ck/3npmnx597nb730qdy5w_6kp00000gn/T/ipykernel_16384/3866078798.py:43: FutureWarning: The behavior of DataFrame concatenation with empty or all-NA entries is deprecated. In a future version, this will no longer exclude empty or all-NA columns when determining the result dtypes. To retain the old behavior, exclude the relevant entries before the concat operation.\n",
      "  w46 = pd.concat(datasets, sort=False, axis=0).reset_index(drop=True)\n",
      "/var/folders/ck/3npmnx597nb730qdy5w_6kp00000gn/T/ipykernel_16384/3866078798.py:43: FutureWarning: The behavior of DataFrame concatenation with empty or all-NA entries is deprecated. In a future version, this will no longer exclude empty or all-NA columns when determining the result dtypes. To retain the old behavior, exclude the relevant entries before the concat operation.\n",
      "  w46 = pd.concat(datasets, sort=False, axis=0).reset_index(drop=True)\n",
      "/var/folders/ck/3npmnx597nb730qdy5w_6kp00000gn/T/ipykernel_16384/3866078798.py:43: FutureWarning: The behavior of DataFrame concatenation with empty or all-NA entries is deprecated. In a future version, this will no longer exclude empty or all-NA columns when determining the result dtypes. To retain the old behavior, exclude the relevant entries before the concat operation.\n",
      "  w46 = pd.concat(datasets, sort=False, axis=0).reset_index(drop=True)\n",
      "/var/folders/ck/3npmnx597nb730qdy5w_6kp00000gn/T/ipykernel_16384/3866078798.py:43: FutureWarning: The behavior of DataFrame concatenation with empty or all-NA entries is deprecated. In a future version, this will no longer exclude empty or all-NA columns when determining the result dtypes. To retain the old behavior, exclude the relevant entries before the concat operation.\n",
      "  w46 = pd.concat(datasets, sort=False, axis=0).reset_index(drop=True)\n",
      "/var/folders/ck/3npmnx597nb730qdy5w_6kp00000gn/T/ipykernel_16384/3866078798.py:43: FutureWarning: The behavior of DataFrame concatenation with empty or all-NA entries is deprecated. In a future version, this will no longer exclude empty or all-NA columns when determining the result dtypes. To retain the old behavior, exclude the relevant entries before the concat operation.\n",
      "  w46 = pd.concat(datasets, sort=False, axis=0).reset_index(drop=True)\n",
      "/var/folders/ck/3npmnx597nb730qdy5w_6kp00000gn/T/ipykernel_16384/3866078798.py:43: FutureWarning: The behavior of DataFrame concatenation with empty or all-NA entries is deprecated. In a future version, this will no longer exclude empty or all-NA columns when determining the result dtypes. To retain the old behavior, exclude the relevant entries before the concat operation.\n",
      "  w46 = pd.concat(datasets, sort=False, axis=0).reset_index(drop=True)\n",
      "/var/folders/ck/3npmnx597nb730qdy5w_6kp00000gn/T/ipykernel_16384/3866078798.py:43: FutureWarning: The behavior of DataFrame concatenation with empty or all-NA entries is deprecated. In a future version, this will no longer exclude empty or all-NA columns when determining the result dtypes. To retain the old behavior, exclude the relevant entries before the concat operation.\n",
      "  w46 = pd.concat(datasets, sort=False, axis=0).reset_index(drop=True)\n",
      "/var/folders/ck/3npmnx597nb730qdy5w_6kp00000gn/T/ipykernel_16384/3866078798.py:43: FutureWarning: The behavior of DataFrame concatenation with empty or all-NA entries is deprecated. In a future version, this will no longer exclude empty or all-NA columns when determining the result dtypes. To retain the old behavior, exclude the relevant entries before the concat operation.\n",
      "  w46 = pd.concat(datasets, sort=False, axis=0).reset_index(drop=True)\n",
      "/var/folders/ck/3npmnx597nb730qdy5w_6kp00000gn/T/ipykernel_16384/3866078798.py:43: FutureWarning: The behavior of DataFrame concatenation with empty or all-NA entries is deprecated. In a future version, this will no longer exclude empty or all-NA columns when determining the result dtypes. To retain the old behavior, exclude the relevant entries before the concat operation.\n",
      "  w46 = pd.concat(datasets, sort=False, axis=0).reset_index(drop=True)\n",
      "/var/folders/ck/3npmnx597nb730qdy5w_6kp00000gn/T/ipykernel_16384/3866078798.py:43: FutureWarning: The behavior of DataFrame concatenation with empty or all-NA entries is deprecated. In a future version, this will no longer exclude empty or all-NA columns when determining the result dtypes. To retain the old behavior, exclude the relevant entries before the concat operation.\n",
      "  w46 = pd.concat(datasets, sort=False, axis=0).reset_index(drop=True)\n",
      "/var/folders/ck/3npmnx597nb730qdy5w_6kp00000gn/T/ipykernel_16384/3866078798.py:43: FutureWarning: The behavior of DataFrame concatenation with empty or all-NA entries is deprecated. In a future version, this will no longer exclude empty or all-NA columns when determining the result dtypes. To retain the old behavior, exclude the relevant entries before the concat operation.\n",
      "  w46 = pd.concat(datasets, sort=False, axis=0).reset_index(drop=True)\n",
      "/var/folders/ck/3npmnx597nb730qdy5w_6kp00000gn/T/ipykernel_16384/3866078798.py:43: FutureWarning: The behavior of DataFrame concatenation with empty or all-NA entries is deprecated. In a future version, this will no longer exclude empty or all-NA columns when determining the result dtypes. To retain the old behavior, exclude the relevant entries before the concat operation.\n",
      "  w46 = pd.concat(datasets, sort=False, axis=0).reset_index(drop=True)\n",
      "/var/folders/ck/3npmnx597nb730qdy5w_6kp00000gn/T/ipykernel_16384/3866078798.py:43: FutureWarning: The behavior of DataFrame concatenation with empty or all-NA entries is deprecated. In a future version, this will no longer exclude empty or all-NA columns when determining the result dtypes. To retain the old behavior, exclude the relevant entries before the concat operation.\n",
      "  w46 = pd.concat(datasets, sort=False, axis=0).reset_index(drop=True)\n",
      "/var/folders/ck/3npmnx597nb730qdy5w_6kp00000gn/T/ipykernel_16384/3866078798.py:43: FutureWarning: The behavior of DataFrame concatenation with empty or all-NA entries is deprecated. In a future version, this will no longer exclude empty or all-NA columns when determining the result dtypes. To retain the old behavior, exclude the relevant entries before the concat operation.\n",
      "  w46 = pd.concat(datasets, sort=False, axis=0).reset_index(drop=True)\n",
      "/var/folders/ck/3npmnx597nb730qdy5w_6kp00000gn/T/ipykernel_16384/3866078798.py:43: FutureWarning: The behavior of DataFrame concatenation with empty or all-NA entries is deprecated. In a future version, this will no longer exclude empty or all-NA columns when determining the result dtypes. To retain the old behavior, exclude the relevant entries before the concat operation.\n",
      "  w46 = pd.concat(datasets, sort=False, axis=0).reset_index(drop=True)\n",
      "/var/folders/ck/3npmnx597nb730qdy5w_6kp00000gn/T/ipykernel_16384/3866078798.py:43: FutureWarning: The behavior of DataFrame concatenation with empty or all-NA entries is deprecated. In a future version, this will no longer exclude empty or all-NA columns when determining the result dtypes. To retain the old behavior, exclude the relevant entries before the concat operation.\n",
      "  w46 = pd.concat(datasets, sort=False, axis=0).reset_index(drop=True)\n",
      "/var/folders/ck/3npmnx597nb730qdy5w_6kp00000gn/T/ipykernel_16384/3866078798.py:43: FutureWarning: The behavior of DataFrame concatenation with empty or all-NA entries is deprecated. In a future version, this will no longer exclude empty or all-NA columns when determining the result dtypes. To retain the old behavior, exclude the relevant entries before the concat operation.\n",
      "  w46 = pd.concat(datasets, sort=False, axis=0).reset_index(drop=True)\n",
      "/var/folders/ck/3npmnx597nb730qdy5w_6kp00000gn/T/ipykernel_16384/3866078798.py:43: FutureWarning: The behavior of DataFrame concatenation with empty or all-NA entries is deprecated. In a future version, this will no longer exclude empty or all-NA columns when determining the result dtypes. To retain the old behavior, exclude the relevant entries before the concat operation.\n",
      "  w46 = pd.concat(datasets, sort=False, axis=0).reset_index(drop=True)\n",
      "/var/folders/ck/3npmnx597nb730qdy5w_6kp00000gn/T/ipykernel_16384/3866078798.py:43: FutureWarning: The behavior of DataFrame concatenation with empty or all-NA entries is deprecated. In a future version, this will no longer exclude empty or all-NA columns when determining the result dtypes. To retain the old behavior, exclude the relevant entries before the concat operation.\n",
      "  w46 = pd.concat(datasets, sort=False, axis=0).reset_index(drop=True)\n",
      "/var/folders/ck/3npmnx597nb730qdy5w_6kp00000gn/T/ipykernel_16384/3866078798.py:43: FutureWarning: The behavior of DataFrame concatenation with empty or all-NA entries is deprecated. In a future version, this will no longer exclude empty or all-NA columns when determining the result dtypes. To retain the old behavior, exclude the relevant entries before the concat operation.\n",
      "  w46 = pd.concat(datasets, sort=False, axis=0).reset_index(drop=True)\n",
      "/var/folders/ck/3npmnx597nb730qdy5w_6kp00000gn/T/ipykernel_16384/3866078798.py:43: FutureWarning: The behavior of DataFrame concatenation with empty or all-NA entries is deprecated. In a future version, this will no longer exclude empty or all-NA columns when determining the result dtypes. To retain the old behavior, exclude the relevant entries before the concat operation.\n",
      "  w46 = pd.concat(datasets, sort=False, axis=0).reset_index(drop=True)\n",
      "/var/folders/ck/3npmnx597nb730qdy5w_6kp00000gn/T/ipykernel_16384/3866078798.py:43: FutureWarning: The behavior of DataFrame concatenation with empty or all-NA entries is deprecated. In a future version, this will no longer exclude empty or all-NA columns when determining the result dtypes. To retain the old behavior, exclude the relevant entries before the concat operation.\n",
      "  w46 = pd.concat(datasets, sort=False, axis=0).reset_index(drop=True)\n",
      "/var/folders/ck/3npmnx597nb730qdy5w_6kp00000gn/T/ipykernel_16384/3866078798.py:43: FutureWarning: The behavior of DataFrame concatenation with empty or all-NA entries is deprecated. In a future version, this will no longer exclude empty or all-NA columns when determining the result dtypes. To retain the old behavior, exclude the relevant entries before the concat operation.\n",
      "  w46 = pd.concat(datasets, sort=False, axis=0).reset_index(drop=True)\n",
      "/var/folders/ck/3npmnx597nb730qdy5w_6kp00000gn/T/ipykernel_16384/3866078798.py:43: FutureWarning: The behavior of DataFrame concatenation with empty or all-NA entries is deprecated. In a future version, this will no longer exclude empty or all-NA columns when determining the result dtypes. To retain the old behavior, exclude the relevant entries before the concat operation.\n",
      "  w46 = pd.concat(datasets, sort=False, axis=0).reset_index(drop=True)\n",
      "/var/folders/ck/3npmnx597nb730qdy5w_6kp00000gn/T/ipykernel_16384/3866078798.py:43: FutureWarning: The behavior of DataFrame concatenation with empty or all-NA entries is deprecated. In a future version, this will no longer exclude empty or all-NA columns when determining the result dtypes. To retain the old behavior, exclude the relevant entries before the concat operation.\n",
      "  w46 = pd.concat(datasets, sort=False, axis=0).reset_index(drop=True)\n",
      "/var/folders/ck/3npmnx597nb730qdy5w_6kp00000gn/T/ipykernel_16384/3866078798.py:43: FutureWarning: The behavior of DataFrame concatenation with empty or all-NA entries is deprecated. In a future version, this will no longer exclude empty or all-NA columns when determining the result dtypes. To retain the old behavior, exclude the relevant entries before the concat operation.\n",
      "  w46 = pd.concat(datasets, sort=False, axis=0).reset_index(drop=True)\n",
      "/var/folders/ck/3npmnx597nb730qdy5w_6kp00000gn/T/ipykernel_16384/3866078798.py:43: FutureWarning: The behavior of DataFrame concatenation with empty or all-NA entries is deprecated. In a future version, this will no longer exclude empty or all-NA columns when determining the result dtypes. To retain the old behavior, exclude the relevant entries before the concat operation.\n",
      "  w46 = pd.concat(datasets, sort=False, axis=0).reset_index(drop=True)\n",
      "/var/folders/ck/3npmnx597nb730qdy5w_6kp00000gn/T/ipykernel_16384/3866078798.py:43: FutureWarning: The behavior of DataFrame concatenation with empty or all-NA entries is deprecated. In a future version, this will no longer exclude empty or all-NA columns when determining the result dtypes. To retain the old behavior, exclude the relevant entries before the concat operation.\n",
      "  w46 = pd.concat(datasets, sort=False, axis=0).reset_index(drop=True)\n",
      "/var/folders/ck/3npmnx597nb730qdy5w_6kp00000gn/T/ipykernel_16384/3866078798.py:43: FutureWarning: The behavior of DataFrame concatenation with empty or all-NA entries is deprecated. In a future version, this will no longer exclude empty or all-NA columns when determining the result dtypes. To retain the old behavior, exclude the relevant entries before the concat operation.\n",
      "  w46 = pd.concat(datasets, sort=False, axis=0).reset_index(drop=True)\n",
      "/var/folders/ck/3npmnx597nb730qdy5w_6kp00000gn/T/ipykernel_16384/3866078798.py:43: FutureWarning: The behavior of DataFrame concatenation with empty or all-NA entries is deprecated. In a future version, this will no longer exclude empty or all-NA columns when determining the result dtypes. To retain the old behavior, exclude the relevant entries before the concat operation.\n",
      "  w46 = pd.concat(datasets, sort=False, axis=0).reset_index(drop=True)\n",
      "/var/folders/ck/3npmnx597nb730qdy5w_6kp00000gn/T/ipykernel_16384/3866078798.py:43: FutureWarning: The behavior of DataFrame concatenation with empty or all-NA entries is deprecated. In a future version, this will no longer exclude empty or all-NA columns when determining the result dtypes. To retain the old behavior, exclude the relevant entries before the concat operation.\n",
      "  w46 = pd.concat(datasets, sort=False, axis=0).reset_index(drop=True)\n",
      "/var/folders/ck/3npmnx597nb730qdy5w_6kp00000gn/T/ipykernel_16384/3866078798.py:43: FutureWarning: The behavior of DataFrame concatenation with empty or all-NA entries is deprecated. In a future version, this will no longer exclude empty or all-NA columns when determining the result dtypes. To retain the old behavior, exclude the relevant entries before the concat operation.\n",
      "  w46 = pd.concat(datasets, sort=False, axis=0).reset_index(drop=True)\n",
      "/var/folders/ck/3npmnx597nb730qdy5w_6kp00000gn/T/ipykernel_16384/3866078798.py:43: FutureWarning: The behavior of DataFrame concatenation with empty or all-NA entries is deprecated. In a future version, this will no longer exclude empty or all-NA columns when determining the result dtypes. To retain the old behavior, exclude the relevant entries before the concat operation.\n",
      "  w46 = pd.concat(datasets, sort=False, axis=0).reset_index(drop=True)\n",
      "/var/folders/ck/3npmnx597nb730qdy5w_6kp00000gn/T/ipykernel_16384/3866078798.py:43: FutureWarning: The behavior of DataFrame concatenation with empty or all-NA entries is deprecated. In a future version, this will no longer exclude empty or all-NA columns when determining the result dtypes. To retain the old behavior, exclude the relevant entries before the concat operation.\n",
      "  w46 = pd.concat(datasets, sort=False, axis=0).reset_index(drop=True)\n",
      "/var/folders/ck/3npmnx597nb730qdy5w_6kp00000gn/T/ipykernel_16384/3866078798.py:43: FutureWarning: The behavior of DataFrame concatenation with empty or all-NA entries is deprecated. In a future version, this will no longer exclude empty or all-NA columns when determining the result dtypes. To retain the old behavior, exclude the relevant entries before the concat operation.\n",
      "  w46 = pd.concat(datasets, sort=False, axis=0).reset_index(drop=True)\n",
      "/var/folders/ck/3npmnx597nb730qdy5w_6kp00000gn/T/ipykernel_16384/3866078798.py:43: FutureWarning: The behavior of DataFrame concatenation with empty or all-NA entries is deprecated. In a future version, this will no longer exclude empty or all-NA columns when determining the result dtypes. To retain the old behavior, exclude the relevant entries before the concat operation.\n",
      "  w46 = pd.concat(datasets, sort=False, axis=0).reset_index(drop=True)\n",
      "/var/folders/ck/3npmnx597nb730qdy5w_6kp00000gn/T/ipykernel_16384/3866078798.py:43: FutureWarning: The behavior of DataFrame concatenation with empty or all-NA entries is deprecated. In a future version, this will no longer exclude empty or all-NA columns when determining the result dtypes. To retain the old behavior, exclude the relevant entries before the concat operation.\n",
      "  w46 = pd.concat(datasets, sort=False, axis=0).reset_index(drop=True)\n",
      "/var/folders/ck/3npmnx597nb730qdy5w_6kp00000gn/T/ipykernel_16384/3866078798.py:43: FutureWarning: The behavior of DataFrame concatenation with empty or all-NA entries is deprecated. In a future version, this will no longer exclude empty or all-NA columns when determining the result dtypes. To retain the old behavior, exclude the relevant entries before the concat operation.\n",
      "  w46 = pd.concat(datasets, sort=False, axis=0).reset_index(drop=True)\n",
      "/var/folders/ck/3npmnx597nb730qdy5w_6kp00000gn/T/ipykernel_16384/3866078798.py:43: FutureWarning: The behavior of DataFrame concatenation with empty or all-NA entries is deprecated. In a future version, this will no longer exclude empty or all-NA columns when determining the result dtypes. To retain the old behavior, exclude the relevant entries before the concat operation.\n",
      "  w46 = pd.concat(datasets, sort=False, axis=0).reset_index(drop=True)\n",
      "/var/folders/ck/3npmnx597nb730qdy5w_6kp00000gn/T/ipykernel_16384/3866078798.py:43: FutureWarning: The behavior of DataFrame concatenation with empty or all-NA entries is deprecated. In a future version, this will no longer exclude empty or all-NA columns when determining the result dtypes. To retain the old behavior, exclude the relevant entries before the concat operation.\n",
      "  w46 = pd.concat(datasets, sort=False, axis=0).reset_index(drop=True)\n",
      "/var/folders/ck/3npmnx597nb730qdy5w_6kp00000gn/T/ipykernel_16384/3866078798.py:43: FutureWarning: The behavior of DataFrame concatenation with empty or all-NA entries is deprecated. In a future version, this will no longer exclude empty or all-NA columns when determining the result dtypes. To retain the old behavior, exclude the relevant entries before the concat operation.\n",
      "  w46 = pd.concat(datasets, sort=False, axis=0).reset_index(drop=True)\n",
      "/var/folders/ck/3npmnx597nb730qdy5w_6kp00000gn/T/ipykernel_16384/3866078798.py:43: FutureWarning: The behavior of DataFrame concatenation with empty or all-NA entries is deprecated. In a future version, this will no longer exclude empty or all-NA columns when determining the result dtypes. To retain the old behavior, exclude the relevant entries before the concat operation.\n",
      "  w46 = pd.concat(datasets, sort=False, axis=0).reset_index(drop=True)\n",
      "/var/folders/ck/3npmnx597nb730qdy5w_6kp00000gn/T/ipykernel_16384/3866078798.py:43: FutureWarning: The behavior of DataFrame concatenation with empty or all-NA entries is deprecated. In a future version, this will no longer exclude empty or all-NA columns when determining the result dtypes. To retain the old behavior, exclude the relevant entries before the concat operation.\n",
      "  w46 = pd.concat(datasets, sort=False, axis=0).reset_index(drop=True)\n",
      "/var/folders/ck/3npmnx597nb730qdy5w_6kp00000gn/T/ipykernel_16384/3866078798.py:43: FutureWarning: The behavior of DataFrame concatenation with empty or all-NA entries is deprecated. In a future version, this will no longer exclude empty or all-NA columns when determining the result dtypes. To retain the old behavior, exclude the relevant entries before the concat operation.\n",
      "  w46 = pd.concat(datasets, sort=False, axis=0).reset_index(drop=True)\n",
      "/var/folders/ck/3npmnx597nb730qdy5w_6kp00000gn/T/ipykernel_16384/3866078798.py:43: FutureWarning: The behavior of DataFrame concatenation with empty or all-NA entries is deprecated. In a future version, this will no longer exclude empty or all-NA columns when determining the result dtypes. To retain the old behavior, exclude the relevant entries before the concat operation.\n",
      "  w46 = pd.concat(datasets, sort=False, axis=0).reset_index(drop=True)\n",
      "/var/folders/ck/3npmnx597nb730qdy5w_6kp00000gn/T/ipykernel_16384/3866078798.py:43: FutureWarning: The behavior of DataFrame concatenation with empty or all-NA entries is deprecated. In a future version, this will no longer exclude empty or all-NA columns when determining the result dtypes. To retain the old behavior, exclude the relevant entries before the concat operation.\n",
      "  w46 = pd.concat(datasets, sort=False, axis=0).reset_index(drop=True)\n",
      "/var/folders/ck/3npmnx597nb730qdy5w_6kp00000gn/T/ipykernel_16384/3866078798.py:43: FutureWarning: The behavior of DataFrame concatenation with empty or all-NA entries is deprecated. In a future version, this will no longer exclude empty or all-NA columns when determining the result dtypes. To retain the old behavior, exclude the relevant entries before the concat operation.\n",
      "  w46 = pd.concat(datasets, sort=False, axis=0).reset_index(drop=True)\n",
      "/var/folders/ck/3npmnx597nb730qdy5w_6kp00000gn/T/ipykernel_16384/3866078798.py:43: FutureWarning: The behavior of DataFrame concatenation with empty or all-NA entries is deprecated. In a future version, this will no longer exclude empty or all-NA columns when determining the result dtypes. To retain the old behavior, exclude the relevant entries before the concat operation.\n",
      "  w46 = pd.concat(datasets, sort=False, axis=0).reset_index(drop=True)\n",
      "/var/folders/ck/3npmnx597nb730qdy5w_6kp00000gn/T/ipykernel_16384/3866078798.py:43: FutureWarning: The behavior of DataFrame concatenation with empty or all-NA entries is deprecated. In a future version, this will no longer exclude empty or all-NA columns when determining the result dtypes. To retain the old behavior, exclude the relevant entries before the concat operation.\n",
      "  w46 = pd.concat(datasets, sort=False, axis=0).reset_index(drop=True)\n",
      "/var/folders/ck/3npmnx597nb730qdy5w_6kp00000gn/T/ipykernel_16384/3866078798.py:43: FutureWarning: The behavior of DataFrame concatenation with empty or all-NA entries is deprecated. In a future version, this will no longer exclude empty or all-NA columns when determining the result dtypes. To retain the old behavior, exclude the relevant entries before the concat operation.\n",
      "  w46 = pd.concat(datasets, sort=False, axis=0).reset_index(drop=True)\n",
      "/var/folders/ck/3npmnx597nb730qdy5w_6kp00000gn/T/ipykernel_16384/3866078798.py:43: FutureWarning: The behavior of DataFrame concatenation with empty or all-NA entries is deprecated. In a future version, this will no longer exclude empty or all-NA columns when determining the result dtypes. To retain the old behavior, exclude the relevant entries before the concat operation.\n",
      "  w46 = pd.concat(datasets, sort=False, axis=0).reset_index(drop=True)\n",
      "/var/folders/ck/3npmnx597nb730qdy5w_6kp00000gn/T/ipykernel_16384/3866078798.py:43: FutureWarning: The behavior of DataFrame concatenation with empty or all-NA entries is deprecated. In a future version, this will no longer exclude empty or all-NA columns when determining the result dtypes. To retain the old behavior, exclude the relevant entries before the concat operation.\n",
      "  w46 = pd.concat(datasets, sort=False, axis=0).reset_index(drop=True)\n",
      "/var/folders/ck/3npmnx597nb730qdy5w_6kp00000gn/T/ipykernel_16384/3866078798.py:43: FutureWarning: The behavior of DataFrame concatenation with empty or all-NA entries is deprecated. In a future version, this will no longer exclude empty or all-NA columns when determining the result dtypes. To retain the old behavior, exclude the relevant entries before the concat operation.\n",
      "  w46 = pd.concat(datasets, sort=False, axis=0).reset_index(drop=True)\n",
      "/var/folders/ck/3npmnx597nb730qdy5w_6kp00000gn/T/ipykernel_16384/3866078798.py:43: FutureWarning: The behavior of DataFrame concatenation with empty or all-NA entries is deprecated. In a future version, this will no longer exclude empty or all-NA columns when determining the result dtypes. To retain the old behavior, exclude the relevant entries before the concat operation.\n",
      "  w46 = pd.concat(datasets, sort=False, axis=0).reset_index(drop=True)\n",
      "/var/folders/ck/3npmnx597nb730qdy5w_6kp00000gn/T/ipykernel_16384/3866078798.py:43: FutureWarning: The behavior of DataFrame concatenation with empty or all-NA entries is deprecated. In a future version, this will no longer exclude empty or all-NA columns when determining the result dtypes. To retain the old behavior, exclude the relevant entries before the concat operation.\n",
      "  w46 = pd.concat(datasets, sort=False, axis=0).reset_index(drop=True)\n",
      "/var/folders/ck/3npmnx597nb730qdy5w_6kp00000gn/T/ipykernel_16384/3866078798.py:43: FutureWarning: The behavior of DataFrame concatenation with empty or all-NA entries is deprecated. In a future version, this will no longer exclude empty or all-NA columns when determining the result dtypes. To retain the old behavior, exclude the relevant entries before the concat operation.\n",
      "  w46 = pd.concat(datasets, sort=False, axis=0).reset_index(drop=True)\n",
      "/var/folders/ck/3npmnx597nb730qdy5w_6kp00000gn/T/ipykernel_16384/3866078798.py:43: FutureWarning: The behavior of DataFrame concatenation with empty or all-NA entries is deprecated. In a future version, this will no longer exclude empty or all-NA columns when determining the result dtypes. To retain the old behavior, exclude the relevant entries before the concat operation.\n",
      "  w46 = pd.concat(datasets, sort=False, axis=0).reset_index(drop=True)\n",
      "/var/folders/ck/3npmnx597nb730qdy5w_6kp00000gn/T/ipykernel_16384/3866078798.py:43: FutureWarning: The behavior of DataFrame concatenation with empty or all-NA entries is deprecated. In a future version, this will no longer exclude empty or all-NA columns when determining the result dtypes. To retain the old behavior, exclude the relevant entries before the concat operation.\n",
      "  w46 = pd.concat(datasets, sort=False, axis=0).reset_index(drop=True)\n",
      "/var/folders/ck/3npmnx597nb730qdy5w_6kp00000gn/T/ipykernel_16384/3866078798.py:43: FutureWarning: The behavior of DataFrame concatenation with empty or all-NA entries is deprecated. In a future version, this will no longer exclude empty or all-NA columns when determining the result dtypes. To retain the old behavior, exclude the relevant entries before the concat operation.\n",
      "  w46 = pd.concat(datasets, sort=False, axis=0).reset_index(drop=True)\n",
      "/var/folders/ck/3npmnx597nb730qdy5w_6kp00000gn/T/ipykernel_16384/3866078798.py:43: FutureWarning: The behavior of DataFrame concatenation with empty or all-NA entries is deprecated. In a future version, this will no longer exclude empty or all-NA columns when determining the result dtypes. To retain the old behavior, exclude the relevant entries before the concat operation.\n",
      "  w46 = pd.concat(datasets, sort=False, axis=0).reset_index(drop=True)\n",
      "/var/folders/ck/3npmnx597nb730qdy5w_6kp00000gn/T/ipykernel_16384/3866078798.py:43: FutureWarning: The behavior of DataFrame concatenation with empty or all-NA entries is deprecated. In a future version, this will no longer exclude empty or all-NA columns when determining the result dtypes. To retain the old behavior, exclude the relevant entries before the concat operation.\n",
      "  w46 = pd.concat(datasets, sort=False, axis=0).reset_index(drop=True)\n",
      "/var/folders/ck/3npmnx597nb730qdy5w_6kp00000gn/T/ipykernel_16384/3866078798.py:43: FutureWarning: The behavior of DataFrame concatenation with empty or all-NA entries is deprecated. In a future version, this will no longer exclude empty or all-NA columns when determining the result dtypes. To retain the old behavior, exclude the relevant entries before the concat operation.\n",
      "  w46 = pd.concat(datasets, sort=False, axis=0).reset_index(drop=True)\n",
      "/var/folders/ck/3npmnx597nb730qdy5w_6kp00000gn/T/ipykernel_16384/3866078798.py:43: FutureWarning: The behavior of DataFrame concatenation with empty or all-NA entries is deprecated. In a future version, this will no longer exclude empty or all-NA columns when determining the result dtypes. To retain the old behavior, exclude the relevant entries before the concat operation.\n",
      "  w46 = pd.concat(datasets, sort=False, axis=0).reset_index(drop=True)\n",
      "/var/folders/ck/3npmnx597nb730qdy5w_6kp00000gn/T/ipykernel_16384/3866078798.py:43: FutureWarning: The behavior of DataFrame concatenation with empty or all-NA entries is deprecated. In a future version, this will no longer exclude empty or all-NA columns when determining the result dtypes. To retain the old behavior, exclude the relevant entries before the concat operation.\n",
      "  w46 = pd.concat(datasets, sort=False, axis=0).reset_index(drop=True)\n",
      "/var/folders/ck/3npmnx597nb730qdy5w_6kp00000gn/T/ipykernel_16384/3866078798.py:43: FutureWarning: The behavior of DataFrame concatenation with empty or all-NA entries is deprecated. In a future version, this will no longer exclude empty or all-NA columns when determining the result dtypes. To retain the old behavior, exclude the relevant entries before the concat operation.\n",
      "  w46 = pd.concat(datasets, sort=False, axis=0).reset_index(drop=True)\n",
      "/var/folders/ck/3npmnx597nb730qdy5w_6kp00000gn/T/ipykernel_16384/3866078798.py:43: FutureWarning: The behavior of DataFrame concatenation with empty or all-NA entries is deprecated. In a future version, this will no longer exclude empty or all-NA columns when determining the result dtypes. To retain the old behavior, exclude the relevant entries before the concat operation.\n",
      "  w46 = pd.concat(datasets, sort=False, axis=0).reset_index(drop=True)\n",
      "/var/folders/ck/3npmnx597nb730qdy5w_6kp00000gn/T/ipykernel_16384/3866078798.py:43: FutureWarning: The behavior of DataFrame concatenation with empty or all-NA entries is deprecated. In a future version, this will no longer exclude empty or all-NA columns when determining the result dtypes. To retain the old behavior, exclude the relevant entries before the concat operation.\n",
      "  w46 = pd.concat(datasets, sort=False, axis=0).reset_index(drop=True)\n",
      "/var/folders/ck/3npmnx597nb730qdy5w_6kp00000gn/T/ipykernel_16384/3866078798.py:43: FutureWarning: The behavior of DataFrame concatenation with empty or all-NA entries is deprecated. In a future version, this will no longer exclude empty or all-NA columns when determining the result dtypes. To retain the old behavior, exclude the relevant entries before the concat operation.\n",
      "  w46 = pd.concat(datasets, sort=False, axis=0).reset_index(drop=True)\n",
      "/var/folders/ck/3npmnx597nb730qdy5w_6kp00000gn/T/ipykernel_16384/3866078798.py:43: FutureWarning: The behavior of DataFrame concatenation with empty or all-NA entries is deprecated. In a future version, this will no longer exclude empty or all-NA columns when determining the result dtypes. To retain the old behavior, exclude the relevant entries before the concat operation.\n",
      "  w46 = pd.concat(datasets, sort=False, axis=0).reset_index(drop=True)\n",
      "/var/folders/ck/3npmnx597nb730qdy5w_6kp00000gn/T/ipykernel_16384/3866078798.py:43: FutureWarning: The behavior of DataFrame concatenation with empty or all-NA entries is deprecated. In a future version, this will no longer exclude empty or all-NA columns when determining the result dtypes. To retain the old behavior, exclude the relevant entries before the concat operation.\n",
      "  w46 = pd.concat(datasets, sort=False, axis=0).reset_index(drop=True)\n",
      "/var/folders/ck/3npmnx597nb730qdy5w_6kp00000gn/T/ipykernel_16384/3866078798.py:43: FutureWarning: The behavior of DataFrame concatenation with empty or all-NA entries is deprecated. In a future version, this will no longer exclude empty or all-NA columns when determining the result dtypes. To retain the old behavior, exclude the relevant entries before the concat operation.\n",
      "  w46 = pd.concat(datasets, sort=False, axis=0).reset_index(drop=True)\n",
      "/var/folders/ck/3npmnx597nb730qdy5w_6kp00000gn/T/ipykernel_16384/3866078798.py:43: FutureWarning: The behavior of DataFrame concatenation with empty or all-NA entries is deprecated. In a future version, this will no longer exclude empty or all-NA columns when determining the result dtypes. To retain the old behavior, exclude the relevant entries before the concat operation.\n",
      "  w46 = pd.concat(datasets, sort=False, axis=0).reset_index(drop=True)\n",
      "/var/folders/ck/3npmnx597nb730qdy5w_6kp00000gn/T/ipykernel_16384/3866078798.py:43: FutureWarning: The behavior of DataFrame concatenation with empty or all-NA entries is deprecated. In a future version, this will no longer exclude empty or all-NA columns when determining the result dtypes. To retain the old behavior, exclude the relevant entries before the concat operation.\n",
      "  w46 = pd.concat(datasets, sort=False, axis=0).reset_index(drop=True)\n",
      "/var/folders/ck/3npmnx597nb730qdy5w_6kp00000gn/T/ipykernel_16384/3866078798.py:43: FutureWarning: The behavior of DataFrame concatenation with empty or all-NA entries is deprecated. In a future version, this will no longer exclude empty or all-NA columns when determining the result dtypes. To retain the old behavior, exclude the relevant entries before the concat operation.\n",
      "  w46 = pd.concat(datasets, sort=False, axis=0).reset_index(drop=True)\n",
      "/var/folders/ck/3npmnx597nb730qdy5w_6kp00000gn/T/ipykernel_16384/3866078798.py:43: FutureWarning: The behavior of DataFrame concatenation with empty or all-NA entries is deprecated. In a future version, this will no longer exclude empty or all-NA columns when determining the result dtypes. To retain the old behavior, exclude the relevant entries before the concat operation.\n",
      "  w46 = pd.concat(datasets, sort=False, axis=0).reset_index(drop=True)\n",
      "/var/folders/ck/3npmnx597nb730qdy5w_6kp00000gn/T/ipykernel_16384/3866078798.py:43: FutureWarning: The behavior of DataFrame concatenation with empty or all-NA entries is deprecated. In a future version, this will no longer exclude empty or all-NA columns when determining the result dtypes. To retain the old behavior, exclude the relevant entries before the concat operation.\n",
      "  w46 = pd.concat(datasets, sort=False, axis=0).reset_index(drop=True)\n",
      "/var/folders/ck/3npmnx597nb730qdy5w_6kp00000gn/T/ipykernel_16384/3866078798.py:43: FutureWarning: The behavior of DataFrame concatenation with empty or all-NA entries is deprecated. In a future version, this will no longer exclude empty or all-NA columns when determining the result dtypes. To retain the old behavior, exclude the relevant entries before the concat operation.\n",
      "  w46 = pd.concat(datasets, sort=False, axis=0).reset_index(drop=True)\n",
      "/var/folders/ck/3npmnx597nb730qdy5w_6kp00000gn/T/ipykernel_16384/3866078798.py:43: FutureWarning: The behavior of DataFrame concatenation with empty or all-NA entries is deprecated. In a future version, this will no longer exclude empty or all-NA columns when determining the result dtypes. To retain the old behavior, exclude the relevant entries before the concat operation.\n",
      "  w46 = pd.concat(datasets, sort=False, axis=0).reset_index(drop=True)\n",
      "/var/folders/ck/3npmnx597nb730qdy5w_6kp00000gn/T/ipykernel_16384/3866078798.py:43: FutureWarning: The behavior of DataFrame concatenation with empty or all-NA entries is deprecated. In a future version, this will no longer exclude empty or all-NA columns when determining the result dtypes. To retain the old behavior, exclude the relevant entries before the concat operation.\n",
      "  w46 = pd.concat(datasets, sort=False, axis=0).reset_index(drop=True)\n",
      "/var/folders/ck/3npmnx597nb730qdy5w_6kp00000gn/T/ipykernel_16384/3866078798.py:43: FutureWarning: The behavior of DataFrame concatenation with empty or all-NA entries is deprecated. In a future version, this will no longer exclude empty or all-NA columns when determining the result dtypes. To retain the old behavior, exclude the relevant entries before the concat operation.\n",
      "  w46 = pd.concat(datasets, sort=False, axis=0).reset_index(drop=True)\n",
      "/var/folders/ck/3npmnx597nb730qdy5w_6kp00000gn/T/ipykernel_16384/3866078798.py:43: FutureWarning: The behavior of DataFrame concatenation with empty or all-NA entries is deprecated. In a future version, this will no longer exclude empty or all-NA columns when determining the result dtypes. To retain the old behavior, exclude the relevant entries before the concat operation.\n",
      "  w46 = pd.concat(datasets, sort=False, axis=0).reset_index(drop=True)\n",
      "/var/folders/ck/3npmnx597nb730qdy5w_6kp00000gn/T/ipykernel_16384/3866078798.py:43: FutureWarning: The behavior of DataFrame concatenation with empty or all-NA entries is deprecated. In a future version, this will no longer exclude empty or all-NA columns when determining the result dtypes. To retain the old behavior, exclude the relevant entries before the concat operation.\n",
      "  w46 = pd.concat(datasets, sort=False, axis=0).reset_index(drop=True)\n",
      "/var/folders/ck/3npmnx597nb730qdy5w_6kp00000gn/T/ipykernel_16384/3866078798.py:43: FutureWarning: The behavior of DataFrame concatenation with empty or all-NA entries is deprecated. In a future version, this will no longer exclude empty or all-NA columns when determining the result dtypes. To retain the old behavior, exclude the relevant entries before the concat operation.\n",
      "  w46 = pd.concat(datasets, sort=False, axis=0).reset_index(drop=True)\n",
      "/var/folders/ck/3npmnx597nb730qdy5w_6kp00000gn/T/ipykernel_16384/3866078798.py:43: FutureWarning: The behavior of DataFrame concatenation with empty or all-NA entries is deprecated. In a future version, this will no longer exclude empty or all-NA columns when determining the result dtypes. To retain the old behavior, exclude the relevant entries before the concat operation.\n",
      "  w46 = pd.concat(datasets, sort=False, axis=0).reset_index(drop=True)\n",
      "/var/folders/ck/3npmnx597nb730qdy5w_6kp00000gn/T/ipykernel_16384/3866078798.py:43: FutureWarning: The behavior of DataFrame concatenation with empty or all-NA entries is deprecated. In a future version, this will no longer exclude empty or all-NA columns when determining the result dtypes. To retain the old behavior, exclude the relevant entries before the concat operation.\n",
      "  w46 = pd.concat(datasets, sort=False, axis=0).reset_index(drop=True)\n",
      "/var/folders/ck/3npmnx597nb730qdy5w_6kp00000gn/T/ipykernel_16384/3866078798.py:43: FutureWarning: The behavior of DataFrame concatenation with empty or all-NA entries is deprecated. In a future version, this will no longer exclude empty or all-NA columns when determining the result dtypes. To retain the old behavior, exclude the relevant entries before the concat operation.\n",
      "  w46 = pd.concat(datasets, sort=False, axis=0).reset_index(drop=True)\n",
      "/var/folders/ck/3npmnx597nb730qdy5w_6kp00000gn/T/ipykernel_16384/3866078798.py:43: FutureWarning: The behavior of DataFrame concatenation with empty or all-NA entries is deprecated. In a future version, this will no longer exclude empty or all-NA columns when determining the result dtypes. To retain the old behavior, exclude the relevant entries before the concat operation.\n",
      "  w46 = pd.concat(datasets, sort=False, axis=0).reset_index(drop=True)\n",
      "/var/folders/ck/3npmnx597nb730qdy5w_6kp00000gn/T/ipykernel_16384/3866078798.py:43: FutureWarning: The behavior of DataFrame concatenation with empty or all-NA entries is deprecated. In a future version, this will no longer exclude empty or all-NA columns when determining the result dtypes. To retain the old behavior, exclude the relevant entries before the concat operation.\n",
      "  w46 = pd.concat(datasets, sort=False, axis=0).reset_index(drop=True)\n",
      "/var/folders/ck/3npmnx597nb730qdy5w_6kp00000gn/T/ipykernel_16384/3866078798.py:43: FutureWarning: The behavior of DataFrame concatenation with empty or all-NA entries is deprecated. In a future version, this will no longer exclude empty or all-NA columns when determining the result dtypes. To retain the old behavior, exclude the relevant entries before the concat operation.\n",
      "  w46 = pd.concat(datasets, sort=False, axis=0).reset_index(drop=True)\n",
      "/var/folders/ck/3npmnx597nb730qdy5w_6kp00000gn/T/ipykernel_16384/3866078798.py:43: FutureWarning: The behavior of DataFrame concatenation with empty or all-NA entries is deprecated. In a future version, this will no longer exclude empty or all-NA columns when determining the result dtypes. To retain the old behavior, exclude the relevant entries before the concat operation.\n",
      "  w46 = pd.concat(datasets, sort=False, axis=0).reset_index(drop=True)\n",
      "/var/folders/ck/3npmnx597nb730qdy5w_6kp00000gn/T/ipykernel_16384/3866078798.py:43: FutureWarning: The behavior of DataFrame concatenation with empty or all-NA entries is deprecated. In a future version, this will no longer exclude empty or all-NA columns when determining the result dtypes. To retain the old behavior, exclude the relevant entries before the concat operation.\n",
      "  w46 = pd.concat(datasets, sort=False, axis=0).reset_index(drop=True)\n",
      "/var/folders/ck/3npmnx597nb730qdy5w_6kp00000gn/T/ipykernel_16384/3866078798.py:43: FutureWarning: The behavior of DataFrame concatenation with empty or all-NA entries is deprecated. In a future version, this will no longer exclude empty or all-NA columns when determining the result dtypes. To retain the old behavior, exclude the relevant entries before the concat operation.\n",
      "  w46 = pd.concat(datasets, sort=False, axis=0).reset_index(drop=True)\n",
      "/var/folders/ck/3npmnx597nb730qdy5w_6kp00000gn/T/ipykernel_16384/3866078798.py:43: FutureWarning: The behavior of DataFrame concatenation with empty or all-NA entries is deprecated. In a future version, this will no longer exclude empty or all-NA columns when determining the result dtypes. To retain the old behavior, exclude the relevant entries before the concat operation.\n",
      "  w46 = pd.concat(datasets, sort=False, axis=0).reset_index(drop=True)\n",
      "/var/folders/ck/3npmnx597nb730qdy5w_6kp00000gn/T/ipykernel_16384/3866078798.py:43: FutureWarning: The behavior of DataFrame concatenation with empty or all-NA entries is deprecated. In a future version, this will no longer exclude empty or all-NA columns when determining the result dtypes. To retain the old behavior, exclude the relevant entries before the concat operation.\n",
      "  w46 = pd.concat(datasets, sort=False, axis=0).reset_index(drop=True)\n",
      "/var/folders/ck/3npmnx597nb730qdy5w_6kp00000gn/T/ipykernel_16384/3866078798.py:43: FutureWarning: The behavior of DataFrame concatenation with empty or all-NA entries is deprecated. In a future version, this will no longer exclude empty or all-NA columns when determining the result dtypes. To retain the old behavior, exclude the relevant entries before the concat operation.\n",
      "  w46 = pd.concat(datasets, sort=False, axis=0).reset_index(drop=True)\n",
      "/var/folders/ck/3npmnx597nb730qdy5w_6kp00000gn/T/ipykernel_16384/3866078798.py:43: FutureWarning: The behavior of DataFrame concatenation with empty or all-NA entries is deprecated. In a future version, this will no longer exclude empty or all-NA columns when determining the result dtypes. To retain the old behavior, exclude the relevant entries before the concat operation.\n",
      "  w46 = pd.concat(datasets, sort=False, axis=0).reset_index(drop=True)\n",
      "/var/folders/ck/3npmnx597nb730qdy5w_6kp00000gn/T/ipykernel_16384/3866078798.py:43: FutureWarning: The behavior of DataFrame concatenation with empty or all-NA entries is deprecated. In a future version, this will no longer exclude empty or all-NA columns when determining the result dtypes. To retain the old behavior, exclude the relevant entries before the concat operation.\n",
      "  w46 = pd.concat(datasets, sort=False, axis=0).reset_index(drop=True)\n",
      "/var/folders/ck/3npmnx597nb730qdy5w_6kp00000gn/T/ipykernel_16384/3866078798.py:43: FutureWarning: The behavior of DataFrame concatenation with empty or all-NA entries is deprecated. In a future version, this will no longer exclude empty or all-NA columns when determining the result dtypes. To retain the old behavior, exclude the relevant entries before the concat operation.\n",
      "  w46 = pd.concat(datasets, sort=False, axis=0).reset_index(drop=True)\n",
      "/var/folders/ck/3npmnx597nb730qdy5w_6kp00000gn/T/ipykernel_16384/3866078798.py:43: FutureWarning: The behavior of DataFrame concatenation with empty or all-NA entries is deprecated. In a future version, this will no longer exclude empty or all-NA columns when determining the result dtypes. To retain the old behavior, exclude the relevant entries before the concat operation.\n",
      "  w46 = pd.concat(datasets, sort=False, axis=0).reset_index(drop=True)\n",
      "/var/folders/ck/3npmnx597nb730qdy5w_6kp00000gn/T/ipykernel_16384/3866078798.py:43: FutureWarning: The behavior of DataFrame concatenation with empty or all-NA entries is deprecated. In a future version, this will no longer exclude empty or all-NA columns when determining the result dtypes. To retain the old behavior, exclude the relevant entries before the concat operation.\n",
      "  w46 = pd.concat(datasets, sort=False, axis=0).reset_index(drop=True)\n",
      "/var/folders/ck/3npmnx597nb730qdy5w_6kp00000gn/T/ipykernel_16384/3866078798.py:43: FutureWarning: The behavior of DataFrame concatenation with empty or all-NA entries is deprecated. In a future version, this will no longer exclude empty or all-NA columns when determining the result dtypes. To retain the old behavior, exclude the relevant entries before the concat operation.\n",
      "  w46 = pd.concat(datasets, sort=False, axis=0).reset_index(drop=True)\n",
      "/var/folders/ck/3npmnx597nb730qdy5w_6kp00000gn/T/ipykernel_16384/3866078798.py:43: FutureWarning: The behavior of DataFrame concatenation with empty or all-NA entries is deprecated. In a future version, this will no longer exclude empty or all-NA columns when determining the result dtypes. To retain the old behavior, exclude the relevant entries before the concat operation.\n",
      "  w46 = pd.concat(datasets, sort=False, axis=0).reset_index(drop=True)\n",
      "/var/folders/ck/3npmnx597nb730qdy5w_6kp00000gn/T/ipykernel_16384/3866078798.py:43: FutureWarning: The behavior of DataFrame concatenation with empty or all-NA entries is deprecated. In a future version, this will no longer exclude empty or all-NA columns when determining the result dtypes. To retain the old behavior, exclude the relevant entries before the concat operation.\n",
      "  w46 = pd.concat(datasets, sort=False, axis=0).reset_index(drop=True)\n",
      "/var/folders/ck/3npmnx597nb730qdy5w_6kp00000gn/T/ipykernel_16384/3866078798.py:43: FutureWarning: The behavior of DataFrame concatenation with empty or all-NA entries is deprecated. In a future version, this will no longer exclude empty or all-NA columns when determining the result dtypes. To retain the old behavior, exclude the relevant entries before the concat operation.\n",
      "  w46 = pd.concat(datasets, sort=False, axis=0).reset_index(drop=True)\n",
      "/var/folders/ck/3npmnx597nb730qdy5w_6kp00000gn/T/ipykernel_16384/3866078798.py:43: FutureWarning: The behavior of DataFrame concatenation with empty or all-NA entries is deprecated. In a future version, this will no longer exclude empty or all-NA columns when determining the result dtypes. To retain the old behavior, exclude the relevant entries before the concat operation.\n",
      "  w46 = pd.concat(datasets, sort=False, axis=0).reset_index(drop=True)\n",
      "/var/folders/ck/3npmnx597nb730qdy5w_6kp00000gn/T/ipykernel_16384/3866078798.py:43: FutureWarning: The behavior of DataFrame concatenation with empty or all-NA entries is deprecated. In a future version, this will no longer exclude empty or all-NA columns when determining the result dtypes. To retain the old behavior, exclude the relevant entries before the concat operation.\n",
      "  w46 = pd.concat(datasets, sort=False, axis=0).reset_index(drop=True)\n",
      "/var/folders/ck/3npmnx597nb730qdy5w_6kp00000gn/T/ipykernel_16384/3866078798.py:43: FutureWarning: The behavior of DataFrame concatenation with empty or all-NA entries is deprecated. In a future version, this will no longer exclude empty or all-NA columns when determining the result dtypes. To retain the old behavior, exclude the relevant entries before the concat operation.\n",
      "  w46 = pd.concat(datasets, sort=False, axis=0).reset_index(drop=True)\n",
      "/var/folders/ck/3npmnx597nb730qdy5w_6kp00000gn/T/ipykernel_16384/3866078798.py:43: FutureWarning: The behavior of DataFrame concatenation with empty or all-NA entries is deprecated. In a future version, this will no longer exclude empty or all-NA columns when determining the result dtypes. To retain the old behavior, exclude the relevant entries before the concat operation.\n",
      "  w46 = pd.concat(datasets, sort=False, axis=0).reset_index(drop=True)\n",
      "/var/folders/ck/3npmnx597nb730qdy5w_6kp00000gn/T/ipykernel_16384/3866078798.py:43: FutureWarning: The behavior of DataFrame concatenation with empty or all-NA entries is deprecated. In a future version, this will no longer exclude empty or all-NA columns when determining the result dtypes. To retain the old behavior, exclude the relevant entries before the concat operation.\n",
      "  w46 = pd.concat(datasets, sort=False, axis=0).reset_index(drop=True)\n",
      "/var/folders/ck/3npmnx597nb730qdy5w_6kp00000gn/T/ipykernel_16384/3866078798.py:43: FutureWarning: The behavior of DataFrame concatenation with empty or all-NA entries is deprecated. In a future version, this will no longer exclude empty or all-NA columns when determining the result dtypes. To retain the old behavior, exclude the relevant entries before the concat operation.\n",
      "  w46 = pd.concat(datasets, sort=False, axis=0).reset_index(drop=True)\n",
      "/var/folders/ck/3npmnx597nb730qdy5w_6kp00000gn/T/ipykernel_16384/3866078798.py:43: FutureWarning: The behavior of DataFrame concatenation with empty or all-NA entries is deprecated. In a future version, this will no longer exclude empty or all-NA columns when determining the result dtypes. To retain the old behavior, exclude the relevant entries before the concat operation.\n",
      "  w46 = pd.concat(datasets, sort=False, axis=0).reset_index(drop=True)\n",
      "/var/folders/ck/3npmnx597nb730qdy5w_6kp00000gn/T/ipykernel_16384/3866078798.py:43: FutureWarning: The behavior of DataFrame concatenation with empty or all-NA entries is deprecated. In a future version, this will no longer exclude empty or all-NA columns when determining the result dtypes. To retain the old behavior, exclude the relevant entries before the concat operation.\n",
      "  w46 = pd.concat(datasets, sort=False, axis=0).reset_index(drop=True)\n",
      "/var/folders/ck/3npmnx597nb730qdy5w_6kp00000gn/T/ipykernel_16384/3866078798.py:43: FutureWarning: The behavior of DataFrame concatenation with empty or all-NA entries is deprecated. In a future version, this will no longer exclude empty or all-NA columns when determining the result dtypes. To retain the old behavior, exclude the relevant entries before the concat operation.\n",
      "  w46 = pd.concat(datasets, sort=False, axis=0).reset_index(drop=True)\n",
      "/var/folders/ck/3npmnx597nb730qdy5w_6kp00000gn/T/ipykernel_16384/3866078798.py:43: FutureWarning: The behavior of DataFrame concatenation with empty or all-NA entries is deprecated. In a future version, this will no longer exclude empty or all-NA columns when determining the result dtypes. To retain the old behavior, exclude the relevant entries before the concat operation.\n",
      "  w46 = pd.concat(datasets, sort=False, axis=0).reset_index(drop=True)\n",
      "/var/folders/ck/3npmnx597nb730qdy5w_6kp00000gn/T/ipykernel_16384/3866078798.py:43: FutureWarning: The behavior of DataFrame concatenation with empty or all-NA entries is deprecated. In a future version, this will no longer exclude empty or all-NA columns when determining the result dtypes. To retain the old behavior, exclude the relevant entries before the concat operation.\n",
      "  w46 = pd.concat(datasets, sort=False, axis=0).reset_index(drop=True)\n",
      "/var/folders/ck/3npmnx597nb730qdy5w_6kp00000gn/T/ipykernel_16384/3866078798.py:43: FutureWarning: The behavior of DataFrame concatenation with empty or all-NA entries is deprecated. In a future version, this will no longer exclude empty or all-NA columns when determining the result dtypes. To retain the old behavior, exclude the relevant entries before the concat operation.\n",
      "  w46 = pd.concat(datasets, sort=False, axis=0).reset_index(drop=True)\n",
      "/var/folders/ck/3npmnx597nb730qdy5w_6kp00000gn/T/ipykernel_16384/3866078798.py:43: FutureWarning: The behavior of DataFrame concatenation with empty or all-NA entries is deprecated. In a future version, this will no longer exclude empty or all-NA columns when determining the result dtypes. To retain the old behavior, exclude the relevant entries before the concat operation.\n",
      "  w46 = pd.concat(datasets, sort=False, axis=0).reset_index(drop=True)\n",
      "/var/folders/ck/3npmnx597nb730qdy5w_6kp00000gn/T/ipykernel_16384/3866078798.py:43: FutureWarning: The behavior of DataFrame concatenation with empty or all-NA entries is deprecated. In a future version, this will no longer exclude empty or all-NA columns when determining the result dtypes. To retain the old behavior, exclude the relevant entries before the concat operation.\n",
      "  w46 = pd.concat(datasets, sort=False, axis=0).reset_index(drop=True)\n",
      "/var/folders/ck/3npmnx597nb730qdy5w_6kp00000gn/T/ipykernel_16384/3866078798.py:43: FutureWarning: The behavior of DataFrame concatenation with empty or all-NA entries is deprecated. In a future version, this will no longer exclude empty or all-NA columns when determining the result dtypes. To retain the old behavior, exclude the relevant entries before the concat operation.\n",
      "  w46 = pd.concat(datasets, sort=False, axis=0).reset_index(drop=True)\n",
      "/var/folders/ck/3npmnx597nb730qdy5w_6kp00000gn/T/ipykernel_16384/3866078798.py:43: FutureWarning: The behavior of DataFrame concatenation with empty or all-NA entries is deprecated. In a future version, this will no longer exclude empty or all-NA columns when determining the result dtypes. To retain the old behavior, exclude the relevant entries before the concat operation.\n",
      "  w46 = pd.concat(datasets, sort=False, axis=0).reset_index(drop=True)\n",
      "/var/folders/ck/3npmnx597nb730qdy5w_6kp00000gn/T/ipykernel_16384/3866078798.py:43: FutureWarning: The behavior of DataFrame concatenation with empty or all-NA entries is deprecated. In a future version, this will no longer exclude empty or all-NA columns when determining the result dtypes. To retain the old behavior, exclude the relevant entries before the concat operation.\n",
      "  w46 = pd.concat(datasets, sort=False, axis=0).reset_index(drop=True)\n",
      "/var/folders/ck/3npmnx597nb730qdy5w_6kp00000gn/T/ipykernel_16384/3866078798.py:43: FutureWarning: The behavior of DataFrame concatenation with empty or all-NA entries is deprecated. In a future version, this will no longer exclude empty or all-NA columns when determining the result dtypes. To retain the old behavior, exclude the relevant entries before the concat operation.\n",
      "  w46 = pd.concat(datasets, sort=False, axis=0).reset_index(drop=True)\n",
      "/var/folders/ck/3npmnx597nb730qdy5w_6kp00000gn/T/ipykernel_16384/3866078798.py:43: FutureWarning: The behavior of DataFrame concatenation with empty or all-NA entries is deprecated. In a future version, this will no longer exclude empty or all-NA columns when determining the result dtypes. To retain the old behavior, exclude the relevant entries before the concat operation.\n",
      "  w46 = pd.concat(datasets, sort=False, axis=0).reset_index(drop=True)\n",
      "/var/folders/ck/3npmnx597nb730qdy5w_6kp00000gn/T/ipykernel_16384/3866078798.py:43: FutureWarning: The behavior of DataFrame concatenation with empty or all-NA entries is deprecated. In a future version, this will no longer exclude empty or all-NA columns when determining the result dtypes. To retain the old behavior, exclude the relevant entries before the concat operation.\n",
      "  w46 = pd.concat(datasets, sort=False, axis=0).reset_index(drop=True)\n",
      "/var/folders/ck/3npmnx597nb730qdy5w_6kp00000gn/T/ipykernel_16384/3866078798.py:43: FutureWarning: The behavior of DataFrame concatenation with empty or all-NA entries is deprecated. In a future version, this will no longer exclude empty or all-NA columns when determining the result dtypes. To retain the old behavior, exclude the relevant entries before the concat operation.\n",
      "  w46 = pd.concat(datasets, sort=False, axis=0).reset_index(drop=True)\n",
      "/var/folders/ck/3npmnx597nb730qdy5w_6kp00000gn/T/ipykernel_16384/3866078798.py:43: FutureWarning: The behavior of DataFrame concatenation with empty or all-NA entries is deprecated. In a future version, this will no longer exclude empty or all-NA columns when determining the result dtypes. To retain the old behavior, exclude the relevant entries before the concat operation.\n",
      "  w46 = pd.concat(datasets, sort=False, axis=0).reset_index(drop=True)\n",
      "/var/folders/ck/3npmnx597nb730qdy5w_6kp00000gn/T/ipykernel_16384/3866078798.py:43: FutureWarning: The behavior of DataFrame concatenation with empty or all-NA entries is deprecated. In a future version, this will no longer exclude empty or all-NA columns when determining the result dtypes. To retain the old behavior, exclude the relevant entries before the concat operation.\n",
      "  w46 = pd.concat(datasets, sort=False, axis=0).reset_index(drop=True)\n",
      "/var/folders/ck/3npmnx597nb730qdy5w_6kp00000gn/T/ipykernel_16384/3866078798.py:43: FutureWarning: The behavior of DataFrame concatenation with empty or all-NA entries is deprecated. In a future version, this will no longer exclude empty or all-NA columns when determining the result dtypes. To retain the old behavior, exclude the relevant entries before the concat operation.\n",
      "  w46 = pd.concat(datasets, sort=False, axis=0).reset_index(drop=True)\n",
      "/var/folders/ck/3npmnx597nb730qdy5w_6kp00000gn/T/ipykernel_16384/3866078798.py:43: FutureWarning: The behavior of DataFrame concatenation with empty or all-NA entries is deprecated. In a future version, this will no longer exclude empty or all-NA columns when determining the result dtypes. To retain the old behavior, exclude the relevant entries before the concat operation.\n",
      "  w46 = pd.concat(datasets, sort=False, axis=0).reset_index(drop=True)\n",
      "/var/folders/ck/3npmnx597nb730qdy5w_6kp00000gn/T/ipykernel_16384/3866078798.py:43: FutureWarning: The behavior of DataFrame concatenation with empty or all-NA entries is deprecated. In a future version, this will no longer exclude empty or all-NA columns when determining the result dtypes. To retain the old behavior, exclude the relevant entries before the concat operation.\n",
      "  w46 = pd.concat(datasets, sort=False, axis=0).reset_index(drop=True)\n",
      "/var/folders/ck/3npmnx597nb730qdy5w_6kp00000gn/T/ipykernel_16384/3866078798.py:43: FutureWarning: The behavior of DataFrame concatenation with empty or all-NA entries is deprecated. In a future version, this will no longer exclude empty or all-NA columns when determining the result dtypes. To retain the old behavior, exclude the relevant entries before the concat operation.\n",
      "  w46 = pd.concat(datasets, sort=False, axis=0).reset_index(drop=True)\n",
      "/var/folders/ck/3npmnx597nb730qdy5w_6kp00000gn/T/ipykernel_16384/3866078798.py:43: FutureWarning: The behavior of DataFrame concatenation with empty or all-NA entries is deprecated. In a future version, this will no longer exclude empty or all-NA columns when determining the result dtypes. To retain the old behavior, exclude the relevant entries before the concat operation.\n",
      "  w46 = pd.concat(datasets, sort=False, axis=0).reset_index(drop=True)\n",
      "/var/folders/ck/3npmnx597nb730qdy5w_6kp00000gn/T/ipykernel_16384/3866078798.py:43: FutureWarning: The behavior of DataFrame concatenation with empty or all-NA entries is deprecated. In a future version, this will no longer exclude empty or all-NA columns when determining the result dtypes. To retain the old behavior, exclude the relevant entries before the concat operation.\n",
      "  w46 = pd.concat(datasets, sort=False, axis=0).reset_index(drop=True)\n",
      "/var/folders/ck/3npmnx597nb730qdy5w_6kp00000gn/T/ipykernel_16384/3866078798.py:43: FutureWarning: The behavior of DataFrame concatenation with empty or all-NA entries is deprecated. In a future version, this will no longer exclude empty or all-NA columns when determining the result dtypes. To retain the old behavior, exclude the relevant entries before the concat operation.\n",
      "  w46 = pd.concat(datasets, sort=False, axis=0).reset_index(drop=True)\n",
      "/var/folders/ck/3npmnx597nb730qdy5w_6kp00000gn/T/ipykernel_16384/3866078798.py:43: FutureWarning: The behavior of DataFrame concatenation with empty or all-NA entries is deprecated. In a future version, this will no longer exclude empty or all-NA columns when determining the result dtypes. To retain the old behavior, exclude the relevant entries before the concat operation.\n",
      "  w46 = pd.concat(datasets, sort=False, axis=0).reset_index(drop=True)\n",
      "/var/folders/ck/3npmnx597nb730qdy5w_6kp00000gn/T/ipykernel_16384/3866078798.py:43: FutureWarning: The behavior of DataFrame concatenation with empty or all-NA entries is deprecated. In a future version, this will no longer exclude empty or all-NA columns when determining the result dtypes. To retain the old behavior, exclude the relevant entries before the concat operation.\n",
      "  w46 = pd.concat(datasets, sort=False, axis=0).reset_index(drop=True)\n",
      "/var/folders/ck/3npmnx597nb730qdy5w_6kp00000gn/T/ipykernel_16384/3866078798.py:43: FutureWarning: The behavior of DataFrame concatenation with empty or all-NA entries is deprecated. In a future version, this will no longer exclude empty or all-NA columns when determining the result dtypes. To retain the old behavior, exclude the relevant entries before the concat operation.\n",
      "  w46 = pd.concat(datasets, sort=False, axis=0).reset_index(drop=True)\n",
      "/var/folders/ck/3npmnx597nb730qdy5w_6kp00000gn/T/ipykernel_16384/3866078798.py:43: FutureWarning: The behavior of DataFrame concatenation with empty or all-NA entries is deprecated. In a future version, this will no longer exclude empty or all-NA columns when determining the result dtypes. To retain the old behavior, exclude the relevant entries before the concat operation.\n",
      "  w46 = pd.concat(datasets, sort=False, axis=0).reset_index(drop=True)\n",
      "/var/folders/ck/3npmnx597nb730qdy5w_6kp00000gn/T/ipykernel_16384/3866078798.py:43: FutureWarning: The behavior of DataFrame concatenation with empty or all-NA entries is deprecated. In a future version, this will no longer exclude empty or all-NA columns when determining the result dtypes. To retain the old behavior, exclude the relevant entries before the concat operation.\n",
      "  w46 = pd.concat(datasets, sort=False, axis=0).reset_index(drop=True)\n",
      "/var/folders/ck/3npmnx597nb730qdy5w_6kp00000gn/T/ipykernel_16384/3866078798.py:43: FutureWarning: The behavior of DataFrame concatenation with empty or all-NA entries is deprecated. In a future version, this will no longer exclude empty or all-NA columns when determining the result dtypes. To retain the old behavior, exclude the relevant entries before the concat operation.\n",
      "  w46 = pd.concat(datasets, sort=False, axis=0).reset_index(drop=True)\n",
      "/var/folders/ck/3npmnx597nb730qdy5w_6kp00000gn/T/ipykernel_16384/3866078798.py:43: FutureWarning: The behavior of DataFrame concatenation with empty or all-NA entries is deprecated. In a future version, this will no longer exclude empty or all-NA columns when determining the result dtypes. To retain the old behavior, exclude the relevant entries before the concat operation.\n",
      "  w46 = pd.concat(datasets, sort=False, axis=0).reset_index(drop=True)\n",
      "/var/folders/ck/3npmnx597nb730qdy5w_6kp00000gn/T/ipykernel_16384/3866078798.py:43: FutureWarning: The behavior of DataFrame concatenation with empty or all-NA entries is deprecated. In a future version, this will no longer exclude empty or all-NA columns when determining the result dtypes. To retain the old behavior, exclude the relevant entries before the concat operation.\n",
      "  w46 = pd.concat(datasets, sort=False, axis=0).reset_index(drop=True)\n",
      "/var/folders/ck/3npmnx597nb730qdy5w_6kp00000gn/T/ipykernel_16384/3866078798.py:43: FutureWarning: The behavior of DataFrame concatenation with empty or all-NA entries is deprecated. In a future version, this will no longer exclude empty or all-NA columns when determining the result dtypes. To retain the old behavior, exclude the relevant entries before the concat operation.\n",
      "  w46 = pd.concat(datasets, sort=False, axis=0).reset_index(drop=True)\n",
      "/var/folders/ck/3npmnx597nb730qdy5w_6kp00000gn/T/ipykernel_16384/3866078798.py:43: FutureWarning: The behavior of DataFrame concatenation with empty or all-NA entries is deprecated. In a future version, this will no longer exclude empty or all-NA columns when determining the result dtypes. To retain the old behavior, exclude the relevant entries before the concat operation.\n",
      "  w46 = pd.concat(datasets, sort=False, axis=0).reset_index(drop=True)\n",
      "/var/folders/ck/3npmnx597nb730qdy5w_6kp00000gn/T/ipykernel_16384/3866078798.py:43: FutureWarning: The behavior of DataFrame concatenation with empty or all-NA entries is deprecated. In a future version, this will no longer exclude empty or all-NA columns when determining the result dtypes. To retain the old behavior, exclude the relevant entries before the concat operation.\n",
      "  w46 = pd.concat(datasets, sort=False, axis=0).reset_index(drop=True)\n",
      "/var/folders/ck/3npmnx597nb730qdy5w_6kp00000gn/T/ipykernel_16384/3866078798.py:43: FutureWarning: The behavior of DataFrame concatenation with empty or all-NA entries is deprecated. In a future version, this will no longer exclude empty or all-NA columns when determining the result dtypes. To retain the old behavior, exclude the relevant entries before the concat operation.\n",
      "  w46 = pd.concat(datasets, sort=False, axis=0).reset_index(drop=True)\n",
      "/var/folders/ck/3npmnx597nb730qdy5w_6kp00000gn/T/ipykernel_16384/3866078798.py:43: FutureWarning: The behavior of DataFrame concatenation with empty or all-NA entries is deprecated. In a future version, this will no longer exclude empty or all-NA columns when determining the result dtypes. To retain the old behavior, exclude the relevant entries before the concat operation.\n",
      "  w46 = pd.concat(datasets, sort=False, axis=0).reset_index(drop=True)\n",
      "/var/folders/ck/3npmnx597nb730qdy5w_6kp00000gn/T/ipykernel_16384/3866078798.py:43: FutureWarning: The behavior of DataFrame concatenation with empty or all-NA entries is deprecated. In a future version, this will no longer exclude empty or all-NA columns when determining the result dtypes. To retain the old behavior, exclude the relevant entries before the concat operation.\n",
      "  w46 = pd.concat(datasets, sort=False, axis=0).reset_index(drop=True)\n",
      "/var/folders/ck/3npmnx597nb730qdy5w_6kp00000gn/T/ipykernel_16384/3866078798.py:43: FutureWarning: The behavior of DataFrame concatenation with empty or all-NA entries is deprecated. In a future version, this will no longer exclude empty or all-NA columns when determining the result dtypes. To retain the old behavior, exclude the relevant entries before the concat operation.\n",
      "  w46 = pd.concat(datasets, sort=False, axis=0).reset_index(drop=True)\n",
      "/var/folders/ck/3npmnx597nb730qdy5w_6kp00000gn/T/ipykernel_16384/3866078798.py:43: FutureWarning: The behavior of DataFrame concatenation with empty or all-NA entries is deprecated. In a future version, this will no longer exclude empty or all-NA columns when determining the result dtypes. To retain the old behavior, exclude the relevant entries before the concat operation.\n",
      "  w46 = pd.concat(datasets, sort=False, axis=0).reset_index(drop=True)\n",
      "/var/folders/ck/3npmnx597nb730qdy5w_6kp00000gn/T/ipykernel_16384/3866078798.py:43: FutureWarning: The behavior of DataFrame concatenation with empty or all-NA entries is deprecated. In a future version, this will no longer exclude empty or all-NA columns when determining the result dtypes. To retain the old behavior, exclude the relevant entries before the concat operation.\n",
      "  w46 = pd.concat(datasets, sort=False, axis=0).reset_index(drop=True)\n",
      "/var/folders/ck/3npmnx597nb730qdy5w_6kp00000gn/T/ipykernel_16384/3866078798.py:43: FutureWarning: The behavior of DataFrame concatenation with empty or all-NA entries is deprecated. In a future version, this will no longer exclude empty or all-NA columns when determining the result dtypes. To retain the old behavior, exclude the relevant entries before the concat operation.\n",
      "  w46 = pd.concat(datasets, sort=False, axis=0).reset_index(drop=True)\n",
      "/var/folders/ck/3npmnx597nb730qdy5w_6kp00000gn/T/ipykernel_16384/3866078798.py:43: FutureWarning: The behavior of DataFrame concatenation with empty or all-NA entries is deprecated. In a future version, this will no longer exclude empty or all-NA columns when determining the result dtypes. To retain the old behavior, exclude the relevant entries before the concat operation.\n",
      "  w46 = pd.concat(datasets, sort=False, axis=0).reset_index(drop=True)\n",
      "/var/folders/ck/3npmnx597nb730qdy5w_6kp00000gn/T/ipykernel_16384/3866078798.py:43: FutureWarning: The behavior of DataFrame concatenation with empty or all-NA entries is deprecated. In a future version, this will no longer exclude empty or all-NA columns when determining the result dtypes. To retain the old behavior, exclude the relevant entries before the concat operation.\n",
      "  w46 = pd.concat(datasets, sort=False, axis=0).reset_index(drop=True)\n",
      "/var/folders/ck/3npmnx597nb730qdy5w_6kp00000gn/T/ipykernel_16384/3866078798.py:43: FutureWarning: The behavior of DataFrame concatenation with empty or all-NA entries is deprecated. In a future version, this will no longer exclude empty or all-NA columns when determining the result dtypes. To retain the old behavior, exclude the relevant entries before the concat operation.\n",
      "  w46 = pd.concat(datasets, sort=False, axis=0).reset_index(drop=True)\n",
      "/var/folders/ck/3npmnx597nb730qdy5w_6kp00000gn/T/ipykernel_16384/3866078798.py:43: FutureWarning: The behavior of DataFrame concatenation with empty or all-NA entries is deprecated. In a future version, this will no longer exclude empty or all-NA columns when determining the result dtypes. To retain the old behavior, exclude the relevant entries before the concat operation.\n",
      "  w46 = pd.concat(datasets, sort=False, axis=0).reset_index(drop=True)\n",
      "/var/folders/ck/3npmnx597nb730qdy5w_6kp00000gn/T/ipykernel_16384/3866078798.py:43: FutureWarning: The behavior of DataFrame concatenation with empty or all-NA entries is deprecated. In a future version, this will no longer exclude empty or all-NA columns when determining the result dtypes. To retain the old behavior, exclude the relevant entries before the concat operation.\n",
      "  w46 = pd.concat(datasets, sort=False, axis=0).reset_index(drop=True)\n",
      "/var/folders/ck/3npmnx597nb730qdy5w_6kp00000gn/T/ipykernel_16384/3866078798.py:43: FutureWarning: The behavior of DataFrame concatenation with empty or all-NA entries is deprecated. In a future version, this will no longer exclude empty or all-NA columns when determining the result dtypes. To retain the old behavior, exclude the relevant entries before the concat operation.\n",
      "  w46 = pd.concat(datasets, sort=False, axis=0).reset_index(drop=True)\n",
      "/var/folders/ck/3npmnx597nb730qdy5w_6kp00000gn/T/ipykernel_16384/3866078798.py:43: FutureWarning: The behavior of DataFrame concatenation with empty or all-NA entries is deprecated. In a future version, this will no longer exclude empty or all-NA columns when determining the result dtypes. To retain the old behavior, exclude the relevant entries before the concat operation.\n",
      "  w46 = pd.concat(datasets, sort=False, axis=0).reset_index(drop=True)\n",
      "/var/folders/ck/3npmnx597nb730qdy5w_6kp00000gn/T/ipykernel_16384/3866078798.py:43: FutureWarning: The behavior of DataFrame concatenation with empty or all-NA entries is deprecated. In a future version, this will no longer exclude empty or all-NA columns when determining the result dtypes. To retain the old behavior, exclude the relevant entries before the concat operation.\n",
      "  w46 = pd.concat(datasets, sort=False, axis=0).reset_index(drop=True)\n",
      "/var/folders/ck/3npmnx597nb730qdy5w_6kp00000gn/T/ipykernel_16384/3866078798.py:43: FutureWarning: The behavior of DataFrame concatenation with empty or all-NA entries is deprecated. In a future version, this will no longer exclude empty or all-NA columns when determining the result dtypes. To retain the old behavior, exclude the relevant entries before the concat operation.\n",
      "  w46 = pd.concat(datasets, sort=False, axis=0).reset_index(drop=True)\n",
      "/var/folders/ck/3npmnx597nb730qdy5w_6kp00000gn/T/ipykernel_16384/3866078798.py:43: FutureWarning: The behavior of DataFrame concatenation with empty or all-NA entries is deprecated. In a future version, this will no longer exclude empty or all-NA columns when determining the result dtypes. To retain the old behavior, exclude the relevant entries before the concat operation.\n",
      "  w46 = pd.concat(datasets, sort=False, axis=0).reset_index(drop=True)\n",
      "/var/folders/ck/3npmnx597nb730qdy5w_6kp00000gn/T/ipykernel_16384/3866078798.py:43: FutureWarning: The behavior of DataFrame concatenation with empty or all-NA entries is deprecated. In a future version, this will no longer exclude empty or all-NA columns when determining the result dtypes. To retain the old behavior, exclude the relevant entries before the concat operation.\n",
      "  w46 = pd.concat(datasets, sort=False, axis=0).reset_index(drop=True)\n",
      "/var/folders/ck/3npmnx597nb730qdy5w_6kp00000gn/T/ipykernel_16384/3866078798.py:43: FutureWarning: The behavior of DataFrame concatenation with empty or all-NA entries is deprecated. In a future version, this will no longer exclude empty or all-NA columns when determining the result dtypes. To retain the old behavior, exclude the relevant entries before the concat operation.\n",
      "  w46 = pd.concat(datasets, sort=False, axis=0).reset_index(drop=True)\n",
      "/var/folders/ck/3npmnx597nb730qdy5w_6kp00000gn/T/ipykernel_16384/3866078798.py:43: FutureWarning: The behavior of DataFrame concatenation with empty or all-NA entries is deprecated. In a future version, this will no longer exclude empty or all-NA columns when determining the result dtypes. To retain the old behavior, exclude the relevant entries before the concat operation.\n",
      "  w46 = pd.concat(datasets, sort=False, axis=0).reset_index(drop=True)\n",
      "/var/folders/ck/3npmnx597nb730qdy5w_6kp00000gn/T/ipykernel_16384/3866078798.py:43: FutureWarning: The behavior of DataFrame concatenation with empty or all-NA entries is deprecated. In a future version, this will no longer exclude empty or all-NA columns when determining the result dtypes. To retain the old behavior, exclude the relevant entries before the concat operation.\n",
      "  w46 = pd.concat(datasets, sort=False, axis=0).reset_index(drop=True)\n",
      "/var/folders/ck/3npmnx597nb730qdy5w_6kp00000gn/T/ipykernel_16384/3866078798.py:43: FutureWarning: The behavior of DataFrame concatenation with empty or all-NA entries is deprecated. In a future version, this will no longer exclude empty or all-NA columns when determining the result dtypes. To retain the old behavior, exclude the relevant entries before the concat operation.\n",
      "  w46 = pd.concat(datasets, sort=False, axis=0).reset_index(drop=True)\n",
      "/var/folders/ck/3npmnx597nb730qdy5w_6kp00000gn/T/ipykernel_16384/3866078798.py:43: FutureWarning: The behavior of DataFrame concatenation with empty or all-NA entries is deprecated. In a future version, this will no longer exclude empty or all-NA columns when determining the result dtypes. To retain the old behavior, exclude the relevant entries before the concat operation.\n",
      "  w46 = pd.concat(datasets, sort=False, axis=0).reset_index(drop=True)\n",
      "/var/folders/ck/3npmnx597nb730qdy5w_6kp00000gn/T/ipykernel_16384/3866078798.py:43: FutureWarning: The behavior of DataFrame concatenation with empty or all-NA entries is deprecated. In a future version, this will no longer exclude empty or all-NA columns when determining the result dtypes. To retain the old behavior, exclude the relevant entries before the concat operation.\n",
      "  w46 = pd.concat(datasets, sort=False, axis=0).reset_index(drop=True)\n",
      "/var/folders/ck/3npmnx597nb730qdy5w_6kp00000gn/T/ipykernel_16384/3866078798.py:43: FutureWarning: The behavior of DataFrame concatenation with empty or all-NA entries is deprecated. In a future version, this will no longer exclude empty or all-NA columns when determining the result dtypes. To retain the old behavior, exclude the relevant entries before the concat operation.\n",
      "  w46 = pd.concat(datasets, sort=False, axis=0).reset_index(drop=True)\n",
      "/var/folders/ck/3npmnx597nb730qdy5w_6kp00000gn/T/ipykernel_16384/3866078798.py:43: FutureWarning: The behavior of DataFrame concatenation with empty or all-NA entries is deprecated. In a future version, this will no longer exclude empty or all-NA columns when determining the result dtypes. To retain the old behavior, exclude the relevant entries before the concat operation.\n",
      "  w46 = pd.concat(datasets, sort=False, axis=0).reset_index(drop=True)\n",
      "/var/folders/ck/3npmnx597nb730qdy5w_6kp00000gn/T/ipykernel_16384/3866078798.py:43: FutureWarning: The behavior of DataFrame concatenation with empty or all-NA entries is deprecated. In a future version, this will no longer exclude empty or all-NA columns when determining the result dtypes. To retain the old behavior, exclude the relevant entries before the concat operation.\n",
      "  w46 = pd.concat(datasets, sort=False, axis=0).reset_index(drop=True)\n",
      "/var/folders/ck/3npmnx597nb730qdy5w_6kp00000gn/T/ipykernel_16384/3866078798.py:43: FutureWarning: The behavior of DataFrame concatenation with empty or all-NA entries is deprecated. In a future version, this will no longer exclude empty or all-NA columns when determining the result dtypes. To retain the old behavior, exclude the relevant entries before the concat operation.\n",
      "  w46 = pd.concat(datasets, sort=False, axis=0).reset_index(drop=True)\n",
      "/var/folders/ck/3npmnx597nb730qdy5w_6kp00000gn/T/ipykernel_16384/3866078798.py:43: FutureWarning: The behavior of DataFrame concatenation with empty or all-NA entries is deprecated. In a future version, this will no longer exclude empty or all-NA columns when determining the result dtypes. To retain the old behavior, exclude the relevant entries before the concat operation.\n",
      "  w46 = pd.concat(datasets, sort=False, axis=0).reset_index(drop=True)\n",
      "/var/folders/ck/3npmnx597nb730qdy5w_6kp00000gn/T/ipykernel_16384/3866078798.py:43: FutureWarning: The behavior of DataFrame concatenation with empty or all-NA entries is deprecated. In a future version, this will no longer exclude empty or all-NA columns when determining the result dtypes. To retain the old behavior, exclude the relevant entries before the concat operation.\n",
      "  w46 = pd.concat(datasets, sort=False, axis=0).reset_index(drop=True)\n",
      "/var/folders/ck/3npmnx597nb730qdy5w_6kp00000gn/T/ipykernel_16384/3866078798.py:43: FutureWarning: The behavior of DataFrame concatenation with empty or all-NA entries is deprecated. In a future version, this will no longer exclude empty or all-NA columns when determining the result dtypes. To retain the old behavior, exclude the relevant entries before the concat operation.\n",
      "  w46 = pd.concat(datasets, sort=False, axis=0).reset_index(drop=True)\n",
      "/var/folders/ck/3npmnx597nb730qdy5w_6kp00000gn/T/ipykernel_16384/3866078798.py:43: FutureWarning: The behavior of DataFrame concatenation with empty or all-NA entries is deprecated. In a future version, this will no longer exclude empty or all-NA columns when determining the result dtypes. To retain the old behavior, exclude the relevant entries before the concat operation.\n",
      "  w46 = pd.concat(datasets, sort=False, axis=0).reset_index(drop=True)\n",
      "/var/folders/ck/3npmnx597nb730qdy5w_6kp00000gn/T/ipykernel_16384/3866078798.py:43: FutureWarning: The behavior of DataFrame concatenation with empty or all-NA entries is deprecated. In a future version, this will no longer exclude empty or all-NA columns when determining the result dtypes. To retain the old behavior, exclude the relevant entries before the concat operation.\n",
      "  w46 = pd.concat(datasets, sort=False, axis=0).reset_index(drop=True)\n",
      "/var/folders/ck/3npmnx597nb730qdy5w_6kp00000gn/T/ipykernel_16384/3866078798.py:43: FutureWarning: The behavior of DataFrame concatenation with empty or all-NA entries is deprecated. In a future version, this will no longer exclude empty or all-NA columns when determining the result dtypes. To retain the old behavior, exclude the relevant entries before the concat operation.\n",
      "  w46 = pd.concat(datasets, sort=False, axis=0).reset_index(drop=True)\n",
      "/var/folders/ck/3npmnx597nb730qdy5w_6kp00000gn/T/ipykernel_16384/3866078798.py:43: FutureWarning: The behavior of DataFrame concatenation with empty or all-NA entries is deprecated. In a future version, this will no longer exclude empty or all-NA columns when determining the result dtypes. To retain the old behavior, exclude the relevant entries before the concat operation.\n",
      "  w46 = pd.concat(datasets, sort=False, axis=0).reset_index(drop=True)\n",
      "/var/folders/ck/3npmnx597nb730qdy5w_6kp00000gn/T/ipykernel_16384/3866078798.py:43: FutureWarning: The behavior of DataFrame concatenation with empty or all-NA entries is deprecated. In a future version, this will no longer exclude empty or all-NA columns when determining the result dtypes. To retain the old behavior, exclude the relevant entries before the concat operation.\n",
      "  w46 = pd.concat(datasets, sort=False, axis=0).reset_index(drop=True)\n",
      "/var/folders/ck/3npmnx597nb730qdy5w_6kp00000gn/T/ipykernel_16384/3866078798.py:43: FutureWarning: The behavior of DataFrame concatenation with empty or all-NA entries is deprecated. In a future version, this will no longer exclude empty or all-NA columns when determining the result dtypes. To retain the old behavior, exclude the relevant entries before the concat operation.\n",
      "  w46 = pd.concat(datasets, sort=False, axis=0).reset_index(drop=True)\n",
      "/var/folders/ck/3npmnx597nb730qdy5w_6kp00000gn/T/ipykernel_16384/3866078798.py:43: FutureWarning: The behavior of DataFrame concatenation with empty or all-NA entries is deprecated. In a future version, this will no longer exclude empty or all-NA columns when determining the result dtypes. To retain the old behavior, exclude the relevant entries before the concat operation.\n",
      "  w46 = pd.concat(datasets, sort=False, axis=0).reset_index(drop=True)\n",
      "/var/folders/ck/3npmnx597nb730qdy5w_6kp00000gn/T/ipykernel_16384/3866078798.py:43: FutureWarning: The behavior of DataFrame concatenation with empty or all-NA entries is deprecated. In a future version, this will no longer exclude empty or all-NA columns when determining the result dtypes. To retain the old behavior, exclude the relevant entries before the concat operation.\n",
      "  w46 = pd.concat(datasets, sort=False, axis=0).reset_index(drop=True)\n",
      "/var/folders/ck/3npmnx597nb730qdy5w_6kp00000gn/T/ipykernel_16384/3866078798.py:43: FutureWarning: The behavior of DataFrame concatenation with empty or all-NA entries is deprecated. In a future version, this will no longer exclude empty or all-NA columns when determining the result dtypes. To retain the old behavior, exclude the relevant entries before the concat operation.\n",
      "  w46 = pd.concat(datasets, sort=False, axis=0).reset_index(drop=True)\n",
      "/var/folders/ck/3npmnx597nb730qdy5w_6kp00000gn/T/ipykernel_16384/3866078798.py:43: FutureWarning: The behavior of DataFrame concatenation with empty or all-NA entries is deprecated. In a future version, this will no longer exclude empty or all-NA columns when determining the result dtypes. To retain the old behavior, exclude the relevant entries before the concat operation.\n",
      "  w46 = pd.concat(datasets, sort=False, axis=0).reset_index(drop=True)\n",
      "/var/folders/ck/3npmnx597nb730qdy5w_6kp00000gn/T/ipykernel_16384/3866078798.py:43: FutureWarning: The behavior of DataFrame concatenation with empty or all-NA entries is deprecated. In a future version, this will no longer exclude empty or all-NA columns when determining the result dtypes. To retain the old behavior, exclude the relevant entries before the concat operation.\n",
      "  w46 = pd.concat(datasets, sort=False, axis=0).reset_index(drop=True)\n",
      "/var/folders/ck/3npmnx597nb730qdy5w_6kp00000gn/T/ipykernel_16384/3866078798.py:43: FutureWarning: The behavior of DataFrame concatenation with empty or all-NA entries is deprecated. In a future version, this will no longer exclude empty or all-NA columns when determining the result dtypes. To retain the old behavior, exclude the relevant entries before the concat operation.\n",
      "  w46 = pd.concat(datasets, sort=False, axis=0).reset_index(drop=True)\n",
      "/var/folders/ck/3npmnx597nb730qdy5w_6kp00000gn/T/ipykernel_16384/3866078798.py:43: FutureWarning: The behavior of DataFrame concatenation with empty or all-NA entries is deprecated. In a future version, this will no longer exclude empty or all-NA columns when determining the result dtypes. To retain the old behavior, exclude the relevant entries before the concat operation.\n",
      "  w46 = pd.concat(datasets, sort=False, axis=0).reset_index(drop=True)\n",
      "/var/folders/ck/3npmnx597nb730qdy5w_6kp00000gn/T/ipykernel_16384/3866078798.py:43: FutureWarning: The behavior of DataFrame concatenation with empty or all-NA entries is deprecated. In a future version, this will no longer exclude empty or all-NA columns when determining the result dtypes. To retain the old behavior, exclude the relevant entries before the concat operation.\n",
      "  w46 = pd.concat(datasets, sort=False, axis=0).reset_index(drop=True)\n",
      "/var/folders/ck/3npmnx597nb730qdy5w_6kp00000gn/T/ipykernel_16384/3866078798.py:43: FutureWarning: The behavior of DataFrame concatenation with empty or all-NA entries is deprecated. In a future version, this will no longer exclude empty or all-NA columns when determining the result dtypes. To retain the old behavior, exclude the relevant entries before the concat operation.\n",
      "  w46 = pd.concat(datasets, sort=False, axis=0).reset_index(drop=True)\n",
      "/var/folders/ck/3npmnx597nb730qdy5w_6kp00000gn/T/ipykernel_16384/3866078798.py:43: FutureWarning: The behavior of DataFrame concatenation with empty or all-NA entries is deprecated. In a future version, this will no longer exclude empty or all-NA columns when determining the result dtypes. To retain the old behavior, exclude the relevant entries before the concat operation.\n",
      "  w46 = pd.concat(datasets, sort=False, axis=0).reset_index(drop=True)\n",
      "/var/folders/ck/3npmnx597nb730qdy5w_6kp00000gn/T/ipykernel_16384/3866078798.py:43: FutureWarning: The behavior of DataFrame concatenation with empty or all-NA entries is deprecated. In a future version, this will no longer exclude empty or all-NA columns when determining the result dtypes. To retain the old behavior, exclude the relevant entries before the concat operation.\n",
      "  w46 = pd.concat(datasets, sort=False, axis=0).reset_index(drop=True)\n",
      "/var/folders/ck/3npmnx597nb730qdy5w_6kp00000gn/T/ipykernel_16384/3866078798.py:43: FutureWarning: The behavior of DataFrame concatenation with empty or all-NA entries is deprecated. In a future version, this will no longer exclude empty or all-NA columns when determining the result dtypes. To retain the old behavior, exclude the relevant entries before the concat operation.\n",
      "  w46 = pd.concat(datasets, sort=False, axis=0).reset_index(drop=True)\n",
      "/var/folders/ck/3npmnx597nb730qdy5w_6kp00000gn/T/ipykernel_16384/3866078798.py:43: FutureWarning: The behavior of DataFrame concatenation with empty or all-NA entries is deprecated. In a future version, this will no longer exclude empty or all-NA columns when determining the result dtypes. To retain the old behavior, exclude the relevant entries before the concat operation.\n",
      "  w46 = pd.concat(datasets, sort=False, axis=0).reset_index(drop=True)\n",
      "/var/folders/ck/3npmnx597nb730qdy5w_6kp00000gn/T/ipykernel_16384/3866078798.py:43: FutureWarning: The behavior of DataFrame concatenation with empty or all-NA entries is deprecated. In a future version, this will no longer exclude empty or all-NA columns when determining the result dtypes. To retain the old behavior, exclude the relevant entries before the concat operation.\n",
      "  w46 = pd.concat(datasets, sort=False, axis=0).reset_index(drop=True)\n",
      "/var/folders/ck/3npmnx597nb730qdy5w_6kp00000gn/T/ipykernel_16384/3866078798.py:43: FutureWarning: The behavior of DataFrame concatenation with empty or all-NA entries is deprecated. In a future version, this will no longer exclude empty or all-NA columns when determining the result dtypes. To retain the old behavior, exclude the relevant entries before the concat operation.\n",
      "  w46 = pd.concat(datasets, sort=False, axis=0).reset_index(drop=True)\n",
      "/var/folders/ck/3npmnx597nb730qdy5w_6kp00000gn/T/ipykernel_16384/3866078798.py:43: FutureWarning: The behavior of DataFrame concatenation with empty or all-NA entries is deprecated. In a future version, this will no longer exclude empty or all-NA columns when determining the result dtypes. To retain the old behavior, exclude the relevant entries before the concat operation.\n",
      "  w46 = pd.concat(datasets, sort=False, axis=0).reset_index(drop=True)\n",
      "/var/folders/ck/3npmnx597nb730qdy5w_6kp00000gn/T/ipykernel_16384/3866078798.py:43: FutureWarning: The behavior of DataFrame concatenation with empty or all-NA entries is deprecated. In a future version, this will no longer exclude empty or all-NA columns when determining the result dtypes. To retain the old behavior, exclude the relevant entries before the concat operation.\n",
      "  w46 = pd.concat(datasets, sort=False, axis=0).reset_index(drop=True)\n",
      "/var/folders/ck/3npmnx597nb730qdy5w_6kp00000gn/T/ipykernel_16384/3866078798.py:43: FutureWarning: The behavior of DataFrame concatenation with empty or all-NA entries is deprecated. In a future version, this will no longer exclude empty or all-NA columns when determining the result dtypes. To retain the old behavior, exclude the relevant entries before the concat operation.\n",
      "  w46 = pd.concat(datasets, sort=False, axis=0).reset_index(drop=True)\n",
      "/var/folders/ck/3npmnx597nb730qdy5w_6kp00000gn/T/ipykernel_16384/3866078798.py:43: FutureWarning: The behavior of DataFrame concatenation with empty or all-NA entries is deprecated. In a future version, this will no longer exclude empty or all-NA columns when determining the result dtypes. To retain the old behavior, exclude the relevant entries before the concat operation.\n",
      "  w46 = pd.concat(datasets, sort=False, axis=0).reset_index(drop=True)\n",
      "/var/folders/ck/3npmnx597nb730qdy5w_6kp00000gn/T/ipykernel_16384/3866078798.py:43: FutureWarning: The behavior of DataFrame concatenation with empty or all-NA entries is deprecated. In a future version, this will no longer exclude empty or all-NA columns when determining the result dtypes. To retain the old behavior, exclude the relevant entries before the concat operation.\n",
      "  w46 = pd.concat(datasets, sort=False, axis=0).reset_index(drop=True)\n",
      "/var/folders/ck/3npmnx597nb730qdy5w_6kp00000gn/T/ipykernel_16384/3866078798.py:43: FutureWarning: The behavior of DataFrame concatenation with empty or all-NA entries is deprecated. In a future version, this will no longer exclude empty or all-NA columns when determining the result dtypes. To retain the old behavior, exclude the relevant entries before the concat operation.\n",
      "  w46 = pd.concat(datasets, sort=False, axis=0).reset_index(drop=True)\n",
      "/var/folders/ck/3npmnx597nb730qdy5w_6kp00000gn/T/ipykernel_16384/3866078798.py:43: FutureWarning: The behavior of DataFrame concatenation with empty or all-NA entries is deprecated. In a future version, this will no longer exclude empty or all-NA columns when determining the result dtypes. To retain the old behavior, exclude the relevant entries before the concat operation.\n",
      "  w46 = pd.concat(datasets, sort=False, axis=0).reset_index(drop=True)\n",
      "/var/folders/ck/3npmnx597nb730qdy5w_6kp00000gn/T/ipykernel_16384/3866078798.py:43: FutureWarning: The behavior of DataFrame concatenation with empty or all-NA entries is deprecated. In a future version, this will no longer exclude empty or all-NA columns when determining the result dtypes. To retain the old behavior, exclude the relevant entries before the concat operation.\n",
      "  w46 = pd.concat(datasets, sort=False, axis=0).reset_index(drop=True)\n",
      "/var/folders/ck/3npmnx597nb730qdy5w_6kp00000gn/T/ipykernel_16384/3866078798.py:43: FutureWarning: The behavior of DataFrame concatenation with empty or all-NA entries is deprecated. In a future version, this will no longer exclude empty or all-NA columns when determining the result dtypes. To retain the old behavior, exclude the relevant entries before the concat operation.\n",
      "  w46 = pd.concat(datasets, sort=False, axis=0).reset_index(drop=True)\n",
      "/var/folders/ck/3npmnx597nb730qdy5w_6kp00000gn/T/ipykernel_16384/3866078798.py:43: FutureWarning: The behavior of DataFrame concatenation with empty or all-NA entries is deprecated. In a future version, this will no longer exclude empty or all-NA columns when determining the result dtypes. To retain the old behavior, exclude the relevant entries before the concat operation.\n",
      "  w46 = pd.concat(datasets, sort=False, axis=0).reset_index(drop=True)\n",
      "/var/folders/ck/3npmnx597nb730qdy5w_6kp00000gn/T/ipykernel_16384/3866078798.py:43: FutureWarning: The behavior of DataFrame concatenation with empty or all-NA entries is deprecated. In a future version, this will no longer exclude empty or all-NA columns when determining the result dtypes. To retain the old behavior, exclude the relevant entries before the concat operation.\n",
      "  w46 = pd.concat(datasets, sort=False, axis=0).reset_index(drop=True)\n",
      "/var/folders/ck/3npmnx597nb730qdy5w_6kp00000gn/T/ipykernel_16384/3866078798.py:43: FutureWarning: The behavior of DataFrame concatenation with empty or all-NA entries is deprecated. In a future version, this will no longer exclude empty or all-NA columns when determining the result dtypes. To retain the old behavior, exclude the relevant entries before the concat operation.\n",
      "  w46 = pd.concat(datasets, sort=False, axis=0).reset_index(drop=True)\n",
      "/var/folders/ck/3npmnx597nb730qdy5w_6kp00000gn/T/ipykernel_16384/3866078798.py:43: FutureWarning: The behavior of DataFrame concatenation with empty or all-NA entries is deprecated. In a future version, this will no longer exclude empty or all-NA columns when determining the result dtypes. To retain the old behavior, exclude the relevant entries before the concat operation.\n",
      "  w46 = pd.concat(datasets, sort=False, axis=0).reset_index(drop=True)\n",
      "/var/folders/ck/3npmnx597nb730qdy5w_6kp00000gn/T/ipykernel_16384/3866078798.py:43: FutureWarning: The behavior of DataFrame concatenation with empty or all-NA entries is deprecated. In a future version, this will no longer exclude empty or all-NA columns when determining the result dtypes. To retain the old behavior, exclude the relevant entries before the concat operation.\n",
      "  w46 = pd.concat(datasets, sort=False, axis=0).reset_index(drop=True)\n",
      "/var/folders/ck/3npmnx597nb730qdy5w_6kp00000gn/T/ipykernel_16384/3866078798.py:43: FutureWarning: The behavior of DataFrame concatenation with empty or all-NA entries is deprecated. In a future version, this will no longer exclude empty or all-NA columns when determining the result dtypes. To retain the old behavior, exclude the relevant entries before the concat operation.\n",
      "  w46 = pd.concat(datasets, sort=False, axis=0).reset_index(drop=True)\n",
      "/var/folders/ck/3npmnx597nb730qdy5w_6kp00000gn/T/ipykernel_16384/3866078798.py:43: FutureWarning: The behavior of DataFrame concatenation with empty or all-NA entries is deprecated. In a future version, this will no longer exclude empty or all-NA columns when determining the result dtypes. To retain the old behavior, exclude the relevant entries before the concat operation.\n",
      "  w46 = pd.concat(datasets, sort=False, axis=0).reset_index(drop=True)\n",
      "/var/folders/ck/3npmnx597nb730qdy5w_6kp00000gn/T/ipykernel_16384/3866078798.py:43: FutureWarning: The behavior of DataFrame concatenation with empty or all-NA entries is deprecated. In a future version, this will no longer exclude empty or all-NA columns when determining the result dtypes. To retain the old behavior, exclude the relevant entries before the concat operation.\n",
      "  w46 = pd.concat(datasets, sort=False, axis=0).reset_index(drop=True)\n",
      "/var/folders/ck/3npmnx597nb730qdy5w_6kp00000gn/T/ipykernel_16384/3866078798.py:43: FutureWarning: The behavior of DataFrame concatenation with empty or all-NA entries is deprecated. In a future version, this will no longer exclude empty or all-NA columns when determining the result dtypes. To retain the old behavior, exclude the relevant entries before the concat operation.\n",
      "  w46 = pd.concat(datasets, sort=False, axis=0).reset_index(drop=True)\n",
      "/var/folders/ck/3npmnx597nb730qdy5w_6kp00000gn/T/ipykernel_16384/3866078798.py:43: FutureWarning: The behavior of DataFrame concatenation with empty or all-NA entries is deprecated. In a future version, this will no longer exclude empty or all-NA columns when determining the result dtypes. To retain the old behavior, exclude the relevant entries before the concat operation.\n",
      "  w46 = pd.concat(datasets, sort=False, axis=0).reset_index(drop=True)\n",
      "/var/folders/ck/3npmnx597nb730qdy5w_6kp00000gn/T/ipykernel_16384/3866078798.py:43: FutureWarning: The behavior of DataFrame concatenation with empty or all-NA entries is deprecated. In a future version, this will no longer exclude empty or all-NA columns when determining the result dtypes. To retain the old behavior, exclude the relevant entries before the concat operation.\n",
      "  w46 = pd.concat(datasets, sort=False, axis=0).reset_index(drop=True)\n",
      "/var/folders/ck/3npmnx597nb730qdy5w_6kp00000gn/T/ipykernel_16384/3866078798.py:43: FutureWarning: The behavior of DataFrame concatenation with empty or all-NA entries is deprecated. In a future version, this will no longer exclude empty or all-NA columns when determining the result dtypes. To retain the old behavior, exclude the relevant entries before the concat operation.\n",
      "  w46 = pd.concat(datasets, sort=False, axis=0).reset_index(drop=True)\n",
      "/var/folders/ck/3npmnx597nb730qdy5w_6kp00000gn/T/ipykernel_16384/3866078798.py:43: FutureWarning: The behavior of DataFrame concatenation with empty or all-NA entries is deprecated. In a future version, this will no longer exclude empty or all-NA columns when determining the result dtypes. To retain the old behavior, exclude the relevant entries before the concat operation.\n",
      "  w46 = pd.concat(datasets, sort=False, axis=0).reset_index(drop=True)\n",
      "/var/folders/ck/3npmnx597nb730qdy5w_6kp00000gn/T/ipykernel_16384/3866078798.py:43: FutureWarning: The behavior of DataFrame concatenation with empty or all-NA entries is deprecated. In a future version, this will no longer exclude empty or all-NA columns when determining the result dtypes. To retain the old behavior, exclude the relevant entries before the concat operation.\n",
      "  w46 = pd.concat(datasets, sort=False, axis=0).reset_index(drop=True)\n",
      "/var/folders/ck/3npmnx597nb730qdy5w_6kp00000gn/T/ipykernel_16384/3866078798.py:43: FutureWarning: The behavior of DataFrame concatenation with empty or all-NA entries is deprecated. In a future version, this will no longer exclude empty or all-NA columns when determining the result dtypes. To retain the old behavior, exclude the relevant entries before the concat operation.\n",
      "  w46 = pd.concat(datasets, sort=False, axis=0).reset_index(drop=True)\n",
      "/var/folders/ck/3npmnx597nb730qdy5w_6kp00000gn/T/ipykernel_16384/3866078798.py:43: FutureWarning: The behavior of DataFrame concatenation with empty or all-NA entries is deprecated. In a future version, this will no longer exclude empty or all-NA columns when determining the result dtypes. To retain the old behavior, exclude the relevant entries before the concat operation.\n",
      "  w46 = pd.concat(datasets, sort=False, axis=0).reset_index(drop=True)\n",
      "/var/folders/ck/3npmnx597nb730qdy5w_6kp00000gn/T/ipykernel_16384/3866078798.py:43: FutureWarning: The behavior of DataFrame concatenation with empty or all-NA entries is deprecated. In a future version, this will no longer exclude empty or all-NA columns when determining the result dtypes. To retain the old behavior, exclude the relevant entries before the concat operation.\n",
      "  w46 = pd.concat(datasets, sort=False, axis=0).reset_index(drop=True)\n",
      "/var/folders/ck/3npmnx597nb730qdy5w_6kp00000gn/T/ipykernel_16384/3866078798.py:43: FutureWarning: The behavior of DataFrame concatenation with empty or all-NA entries is deprecated. In a future version, this will no longer exclude empty or all-NA columns when determining the result dtypes. To retain the old behavior, exclude the relevant entries before the concat operation.\n",
      "  w46 = pd.concat(datasets, sort=False, axis=0).reset_index(drop=True)\n",
      "/var/folders/ck/3npmnx597nb730qdy5w_6kp00000gn/T/ipykernel_16384/3866078798.py:43: FutureWarning: The behavior of DataFrame concatenation with empty or all-NA entries is deprecated. In a future version, this will no longer exclude empty or all-NA columns when determining the result dtypes. To retain the old behavior, exclude the relevant entries before the concat operation.\n",
      "  w46 = pd.concat(datasets, sort=False, axis=0).reset_index(drop=True)\n",
      "/var/folders/ck/3npmnx597nb730qdy5w_6kp00000gn/T/ipykernel_16384/3866078798.py:43: FutureWarning: The behavior of DataFrame concatenation with empty or all-NA entries is deprecated. In a future version, this will no longer exclude empty or all-NA columns when determining the result dtypes. To retain the old behavior, exclude the relevant entries before the concat operation.\n",
      "  w46 = pd.concat(datasets, sort=False, axis=0).reset_index(drop=True)\n",
      "/var/folders/ck/3npmnx597nb730qdy5w_6kp00000gn/T/ipykernel_16384/3866078798.py:43: FutureWarning: The behavior of DataFrame concatenation with empty or all-NA entries is deprecated. In a future version, this will no longer exclude empty or all-NA columns when determining the result dtypes. To retain the old behavior, exclude the relevant entries before the concat operation.\n",
      "  w46 = pd.concat(datasets, sort=False, axis=0).reset_index(drop=True)\n",
      "/var/folders/ck/3npmnx597nb730qdy5w_6kp00000gn/T/ipykernel_16384/3866078798.py:43: FutureWarning: The behavior of DataFrame concatenation with empty or all-NA entries is deprecated. In a future version, this will no longer exclude empty or all-NA columns when determining the result dtypes. To retain the old behavior, exclude the relevant entries before the concat operation.\n",
      "  w46 = pd.concat(datasets, sort=False, axis=0).reset_index(drop=True)\n",
      "/var/folders/ck/3npmnx597nb730qdy5w_6kp00000gn/T/ipykernel_16384/3866078798.py:43: FutureWarning: The behavior of DataFrame concatenation with empty or all-NA entries is deprecated. In a future version, this will no longer exclude empty or all-NA columns when determining the result dtypes. To retain the old behavior, exclude the relevant entries before the concat operation.\n",
      "  w46 = pd.concat(datasets, sort=False, axis=0).reset_index(drop=True)\n",
      "/var/folders/ck/3npmnx597nb730qdy5w_6kp00000gn/T/ipykernel_16384/3866078798.py:43: FutureWarning: The behavior of DataFrame concatenation with empty or all-NA entries is deprecated. In a future version, this will no longer exclude empty or all-NA columns when determining the result dtypes. To retain the old behavior, exclude the relevant entries before the concat operation.\n",
      "  w46 = pd.concat(datasets, sort=False, axis=0).reset_index(drop=True)\n",
      "/var/folders/ck/3npmnx597nb730qdy5w_6kp00000gn/T/ipykernel_16384/3866078798.py:43: FutureWarning: The behavior of DataFrame concatenation with empty or all-NA entries is deprecated. In a future version, this will no longer exclude empty or all-NA columns when determining the result dtypes. To retain the old behavior, exclude the relevant entries before the concat operation.\n",
      "  w46 = pd.concat(datasets, sort=False, axis=0).reset_index(drop=True)\n",
      "/var/folders/ck/3npmnx597nb730qdy5w_6kp00000gn/T/ipykernel_16384/3866078798.py:43: FutureWarning: The behavior of DataFrame concatenation with empty or all-NA entries is deprecated. In a future version, this will no longer exclude empty or all-NA columns when determining the result dtypes. To retain the old behavior, exclude the relevant entries before the concat operation.\n",
      "  w46 = pd.concat(datasets, sort=False, axis=0).reset_index(drop=True)\n",
      "/var/folders/ck/3npmnx597nb730qdy5w_6kp00000gn/T/ipykernel_16384/3866078798.py:43: FutureWarning: The behavior of DataFrame concatenation with empty or all-NA entries is deprecated. In a future version, this will no longer exclude empty or all-NA columns when determining the result dtypes. To retain the old behavior, exclude the relevant entries before the concat operation.\n",
      "  w46 = pd.concat(datasets, sort=False, axis=0).reset_index(drop=True)\n",
      "/var/folders/ck/3npmnx597nb730qdy5w_6kp00000gn/T/ipykernel_16384/3866078798.py:43: FutureWarning: The behavior of DataFrame concatenation with empty or all-NA entries is deprecated. In a future version, this will no longer exclude empty or all-NA columns when determining the result dtypes. To retain the old behavior, exclude the relevant entries before the concat operation.\n",
      "  w46 = pd.concat(datasets, sort=False, axis=0).reset_index(drop=True)\n",
      "/var/folders/ck/3npmnx597nb730qdy5w_6kp00000gn/T/ipykernel_16384/3866078798.py:43: FutureWarning: The behavior of DataFrame concatenation with empty or all-NA entries is deprecated. In a future version, this will no longer exclude empty or all-NA columns when determining the result dtypes. To retain the old behavior, exclude the relevant entries before the concat operation.\n",
      "  w46 = pd.concat(datasets, sort=False, axis=0).reset_index(drop=True)\n",
      "/var/folders/ck/3npmnx597nb730qdy5w_6kp00000gn/T/ipykernel_16384/3866078798.py:43: FutureWarning: The behavior of DataFrame concatenation with empty or all-NA entries is deprecated. In a future version, this will no longer exclude empty or all-NA columns when determining the result dtypes. To retain the old behavior, exclude the relevant entries before the concat operation.\n",
      "  w46 = pd.concat(datasets, sort=False, axis=0).reset_index(drop=True)\n",
      "/var/folders/ck/3npmnx597nb730qdy5w_6kp00000gn/T/ipykernel_16384/3866078798.py:43: FutureWarning: The behavior of DataFrame concatenation with empty or all-NA entries is deprecated. In a future version, this will no longer exclude empty or all-NA columns when determining the result dtypes. To retain the old behavior, exclude the relevant entries before the concat operation.\n",
      "  w46 = pd.concat(datasets, sort=False, axis=0).reset_index(drop=True)\n",
      "/var/folders/ck/3npmnx597nb730qdy5w_6kp00000gn/T/ipykernel_16384/3866078798.py:43: FutureWarning: The behavior of DataFrame concatenation with empty or all-NA entries is deprecated. In a future version, this will no longer exclude empty or all-NA columns when determining the result dtypes. To retain the old behavior, exclude the relevant entries before the concat operation.\n",
      "  w46 = pd.concat(datasets, sort=False, axis=0).reset_index(drop=True)\n",
      "/var/folders/ck/3npmnx597nb730qdy5w_6kp00000gn/T/ipykernel_16384/3866078798.py:43: FutureWarning: The behavior of DataFrame concatenation with empty or all-NA entries is deprecated. In a future version, this will no longer exclude empty or all-NA columns when determining the result dtypes. To retain the old behavior, exclude the relevant entries before the concat operation.\n",
      "  w46 = pd.concat(datasets, sort=False, axis=0).reset_index(drop=True)\n",
      "/var/folders/ck/3npmnx597nb730qdy5w_6kp00000gn/T/ipykernel_16384/3866078798.py:43: FutureWarning: The behavior of DataFrame concatenation with empty or all-NA entries is deprecated. In a future version, this will no longer exclude empty or all-NA columns when determining the result dtypes. To retain the old behavior, exclude the relevant entries before the concat operation.\n",
      "  w46 = pd.concat(datasets, sort=False, axis=0).reset_index(drop=True)\n",
      "/var/folders/ck/3npmnx597nb730qdy5w_6kp00000gn/T/ipykernel_16384/3866078798.py:43: FutureWarning: The behavior of DataFrame concatenation with empty or all-NA entries is deprecated. In a future version, this will no longer exclude empty or all-NA columns when determining the result dtypes. To retain the old behavior, exclude the relevant entries before the concat operation.\n",
      "  w46 = pd.concat(datasets, sort=False, axis=0).reset_index(drop=True)\n",
      "/var/folders/ck/3npmnx597nb730qdy5w_6kp00000gn/T/ipykernel_16384/3866078798.py:43: FutureWarning: The behavior of DataFrame concatenation with empty or all-NA entries is deprecated. In a future version, this will no longer exclude empty or all-NA columns when determining the result dtypes. To retain the old behavior, exclude the relevant entries before the concat operation.\n",
      "  w46 = pd.concat(datasets, sort=False, axis=0).reset_index(drop=True)\n",
      "/var/folders/ck/3npmnx597nb730qdy5w_6kp00000gn/T/ipykernel_16384/3866078798.py:43: FutureWarning: The behavior of DataFrame concatenation with empty or all-NA entries is deprecated. In a future version, this will no longer exclude empty or all-NA columns when determining the result dtypes. To retain the old behavior, exclude the relevant entries before the concat operation.\n",
      "  w46 = pd.concat(datasets, sort=False, axis=0).reset_index(drop=True)\n",
      "/var/folders/ck/3npmnx597nb730qdy5w_6kp00000gn/T/ipykernel_16384/3866078798.py:43: FutureWarning: The behavior of DataFrame concatenation with empty or all-NA entries is deprecated. In a future version, this will no longer exclude empty or all-NA columns when determining the result dtypes. To retain the old behavior, exclude the relevant entries before the concat operation.\n",
      "  w46 = pd.concat(datasets, sort=False, axis=0).reset_index(drop=True)\n",
      "/var/folders/ck/3npmnx597nb730qdy5w_6kp00000gn/T/ipykernel_16384/3866078798.py:43: FutureWarning: The behavior of DataFrame concatenation with empty or all-NA entries is deprecated. In a future version, this will no longer exclude empty or all-NA columns when determining the result dtypes. To retain the old behavior, exclude the relevant entries before the concat operation.\n",
      "  w46 = pd.concat(datasets, sort=False, axis=0).reset_index(drop=True)\n",
      "/var/folders/ck/3npmnx597nb730qdy5w_6kp00000gn/T/ipykernel_16384/3866078798.py:43: FutureWarning: The behavior of DataFrame concatenation with empty or all-NA entries is deprecated. In a future version, this will no longer exclude empty or all-NA columns when determining the result dtypes. To retain the old behavior, exclude the relevant entries before the concat operation.\n",
      "  w46 = pd.concat(datasets, sort=False, axis=0).reset_index(drop=True)\n",
      "/var/folders/ck/3npmnx597nb730qdy5w_6kp00000gn/T/ipykernel_16384/3866078798.py:43: FutureWarning: The behavior of DataFrame concatenation with empty or all-NA entries is deprecated. In a future version, this will no longer exclude empty or all-NA columns when determining the result dtypes. To retain the old behavior, exclude the relevant entries before the concat operation.\n",
      "  w46 = pd.concat(datasets, sort=False, axis=0).reset_index(drop=True)\n",
      "/var/folders/ck/3npmnx597nb730qdy5w_6kp00000gn/T/ipykernel_16384/3866078798.py:43: FutureWarning: The behavior of DataFrame concatenation with empty or all-NA entries is deprecated. In a future version, this will no longer exclude empty or all-NA columns when determining the result dtypes. To retain the old behavior, exclude the relevant entries before the concat operation.\n",
      "  w46 = pd.concat(datasets, sort=False, axis=0).reset_index(drop=True)\n",
      "/var/folders/ck/3npmnx597nb730qdy5w_6kp00000gn/T/ipykernel_16384/3866078798.py:43: FutureWarning: The behavior of DataFrame concatenation with empty or all-NA entries is deprecated. In a future version, this will no longer exclude empty or all-NA columns when determining the result dtypes. To retain the old behavior, exclude the relevant entries before the concat operation.\n",
      "  w46 = pd.concat(datasets, sort=False, axis=0).reset_index(drop=True)\n",
      "/var/folders/ck/3npmnx597nb730qdy5w_6kp00000gn/T/ipykernel_16384/3866078798.py:43: FutureWarning: The behavior of DataFrame concatenation with empty or all-NA entries is deprecated. In a future version, this will no longer exclude empty or all-NA columns when determining the result dtypes. To retain the old behavior, exclude the relevant entries before the concat operation.\n",
      "  w46 = pd.concat(datasets, sort=False, axis=0).reset_index(drop=True)\n",
      "/var/folders/ck/3npmnx597nb730qdy5w_6kp00000gn/T/ipykernel_16384/3866078798.py:43: FutureWarning: The behavior of DataFrame concatenation with empty or all-NA entries is deprecated. In a future version, this will no longer exclude empty or all-NA columns when determining the result dtypes. To retain the old behavior, exclude the relevant entries before the concat operation.\n",
      "  w46 = pd.concat(datasets, sort=False, axis=0).reset_index(drop=True)\n",
      "/var/folders/ck/3npmnx597nb730qdy5w_6kp00000gn/T/ipykernel_16384/3866078798.py:43: FutureWarning: The behavior of DataFrame concatenation with empty or all-NA entries is deprecated. In a future version, this will no longer exclude empty or all-NA columns when determining the result dtypes. To retain the old behavior, exclude the relevant entries before the concat operation.\n",
      "  w46 = pd.concat(datasets, sort=False, axis=0).reset_index(drop=True)\n",
      "/var/folders/ck/3npmnx597nb730qdy5w_6kp00000gn/T/ipykernel_16384/3866078798.py:43: FutureWarning: The behavior of DataFrame concatenation with empty or all-NA entries is deprecated. In a future version, this will no longer exclude empty or all-NA columns when determining the result dtypes. To retain the old behavior, exclude the relevant entries before the concat operation.\n",
      "  w46 = pd.concat(datasets, sort=False, axis=0).reset_index(drop=True)\n",
      "/var/folders/ck/3npmnx597nb730qdy5w_6kp00000gn/T/ipykernel_16384/3866078798.py:43: FutureWarning: The behavior of DataFrame concatenation with empty or all-NA entries is deprecated. In a future version, this will no longer exclude empty or all-NA columns when determining the result dtypes. To retain the old behavior, exclude the relevant entries before the concat operation.\n",
      "  w46 = pd.concat(datasets, sort=False, axis=0).reset_index(drop=True)\n",
      "/var/folders/ck/3npmnx597nb730qdy5w_6kp00000gn/T/ipykernel_16384/3866078798.py:43: FutureWarning: The behavior of DataFrame concatenation with empty or all-NA entries is deprecated. In a future version, this will no longer exclude empty or all-NA columns when determining the result dtypes. To retain the old behavior, exclude the relevant entries before the concat operation.\n",
      "  w46 = pd.concat(datasets, sort=False, axis=0).reset_index(drop=True)\n",
      "/var/folders/ck/3npmnx597nb730qdy5w_6kp00000gn/T/ipykernel_16384/3866078798.py:43: FutureWarning: The behavior of DataFrame concatenation with empty or all-NA entries is deprecated. In a future version, this will no longer exclude empty or all-NA columns when determining the result dtypes. To retain the old behavior, exclude the relevant entries before the concat operation.\n",
      "  w46 = pd.concat(datasets, sort=False, axis=0).reset_index(drop=True)\n",
      "/var/folders/ck/3npmnx597nb730qdy5w_6kp00000gn/T/ipykernel_16384/3866078798.py:43: FutureWarning: The behavior of DataFrame concatenation with empty or all-NA entries is deprecated. In a future version, this will no longer exclude empty or all-NA columns when determining the result dtypes. To retain the old behavior, exclude the relevant entries before the concat operation.\n",
      "  w46 = pd.concat(datasets, sort=False, axis=0).reset_index(drop=True)\n",
      "/var/folders/ck/3npmnx597nb730qdy5w_6kp00000gn/T/ipykernel_16384/3866078798.py:43: FutureWarning: The behavior of DataFrame concatenation with empty or all-NA entries is deprecated. In a future version, this will no longer exclude empty or all-NA columns when determining the result dtypes. To retain the old behavior, exclude the relevant entries before the concat operation.\n",
      "  w46 = pd.concat(datasets, sort=False, axis=0).reset_index(drop=True)\n",
      "/var/folders/ck/3npmnx597nb730qdy5w_6kp00000gn/T/ipykernel_16384/3866078798.py:43: FutureWarning: The behavior of DataFrame concatenation with empty or all-NA entries is deprecated. In a future version, this will no longer exclude empty or all-NA columns when determining the result dtypes. To retain the old behavior, exclude the relevant entries before the concat operation.\n",
      "  w46 = pd.concat(datasets, sort=False, axis=0).reset_index(drop=True)\n",
      "/var/folders/ck/3npmnx597nb730qdy5w_6kp00000gn/T/ipykernel_16384/3866078798.py:43: FutureWarning: The behavior of DataFrame concatenation with empty or all-NA entries is deprecated. In a future version, this will no longer exclude empty or all-NA columns when determining the result dtypes. To retain the old behavior, exclude the relevant entries before the concat operation.\n",
      "  w46 = pd.concat(datasets, sort=False, axis=0).reset_index(drop=True)\n",
      "/var/folders/ck/3npmnx597nb730qdy5w_6kp00000gn/T/ipykernel_16384/3866078798.py:43: FutureWarning: The behavior of DataFrame concatenation with empty or all-NA entries is deprecated. In a future version, this will no longer exclude empty or all-NA columns when determining the result dtypes. To retain the old behavior, exclude the relevant entries before the concat operation.\n",
      "  w46 = pd.concat(datasets, sort=False, axis=0).reset_index(drop=True)\n",
      "/var/folders/ck/3npmnx597nb730qdy5w_6kp00000gn/T/ipykernel_16384/3866078798.py:43: FutureWarning: The behavior of DataFrame concatenation with empty or all-NA entries is deprecated. In a future version, this will no longer exclude empty or all-NA columns when determining the result dtypes. To retain the old behavior, exclude the relevant entries before the concat operation.\n",
      "  w46 = pd.concat(datasets, sort=False, axis=0).reset_index(drop=True)\n",
      "/var/folders/ck/3npmnx597nb730qdy5w_6kp00000gn/T/ipykernel_16384/3866078798.py:43: FutureWarning: The behavior of DataFrame concatenation with empty or all-NA entries is deprecated. In a future version, this will no longer exclude empty or all-NA columns when determining the result dtypes. To retain the old behavior, exclude the relevant entries before the concat operation.\n",
      "  w46 = pd.concat(datasets, sort=False, axis=0).reset_index(drop=True)\n",
      "/var/folders/ck/3npmnx597nb730qdy5w_6kp00000gn/T/ipykernel_16384/3866078798.py:43: FutureWarning: The behavior of DataFrame concatenation with empty or all-NA entries is deprecated. In a future version, this will no longer exclude empty or all-NA columns when determining the result dtypes. To retain the old behavior, exclude the relevant entries before the concat operation.\n",
      "  w46 = pd.concat(datasets, sort=False, axis=0).reset_index(drop=True)\n",
      "/var/folders/ck/3npmnx597nb730qdy5w_6kp00000gn/T/ipykernel_16384/3866078798.py:43: FutureWarning: The behavior of DataFrame concatenation with empty or all-NA entries is deprecated. In a future version, this will no longer exclude empty or all-NA columns when determining the result dtypes. To retain the old behavior, exclude the relevant entries before the concat operation.\n",
      "  w46 = pd.concat(datasets, sort=False, axis=0).reset_index(drop=True)\n",
      "/var/folders/ck/3npmnx597nb730qdy5w_6kp00000gn/T/ipykernel_16384/3866078798.py:43: FutureWarning: The behavior of DataFrame concatenation with empty or all-NA entries is deprecated. In a future version, this will no longer exclude empty or all-NA columns when determining the result dtypes. To retain the old behavior, exclude the relevant entries before the concat operation.\n",
      "  w46 = pd.concat(datasets, sort=False, axis=0).reset_index(drop=True)\n",
      "/var/folders/ck/3npmnx597nb730qdy5w_6kp00000gn/T/ipykernel_16384/3866078798.py:43: FutureWarning: The behavior of DataFrame concatenation with empty or all-NA entries is deprecated. In a future version, this will no longer exclude empty or all-NA columns when determining the result dtypes. To retain the old behavior, exclude the relevant entries before the concat operation.\n",
      "  w46 = pd.concat(datasets, sort=False, axis=0).reset_index(drop=True)\n",
      "/var/folders/ck/3npmnx597nb730qdy5w_6kp00000gn/T/ipykernel_16384/3866078798.py:43: FutureWarning: The behavior of DataFrame concatenation with empty or all-NA entries is deprecated. In a future version, this will no longer exclude empty or all-NA columns when determining the result dtypes. To retain the old behavior, exclude the relevant entries before the concat operation.\n",
      "  w46 = pd.concat(datasets, sort=False, axis=0).reset_index(drop=True)\n",
      "/var/folders/ck/3npmnx597nb730qdy5w_6kp00000gn/T/ipykernel_16384/3866078798.py:43: FutureWarning: The behavior of DataFrame concatenation with empty or all-NA entries is deprecated. In a future version, this will no longer exclude empty or all-NA columns when determining the result dtypes. To retain the old behavior, exclude the relevant entries before the concat operation.\n",
      "  w46 = pd.concat(datasets, sort=False, axis=0).reset_index(drop=True)\n",
      "/var/folders/ck/3npmnx597nb730qdy5w_6kp00000gn/T/ipykernel_16384/3866078798.py:43: FutureWarning: The behavior of DataFrame concatenation with empty or all-NA entries is deprecated. In a future version, this will no longer exclude empty or all-NA columns when determining the result dtypes. To retain the old behavior, exclude the relevant entries before the concat operation.\n",
      "  w46 = pd.concat(datasets, sort=False, axis=0).reset_index(drop=True)\n",
      "/var/folders/ck/3npmnx597nb730qdy5w_6kp00000gn/T/ipykernel_16384/3866078798.py:43: FutureWarning: The behavior of DataFrame concatenation with empty or all-NA entries is deprecated. In a future version, this will no longer exclude empty or all-NA columns when determining the result dtypes. To retain the old behavior, exclude the relevant entries before the concat operation.\n",
      "  w46 = pd.concat(datasets, sort=False, axis=0).reset_index(drop=True)\n",
      "/var/folders/ck/3npmnx597nb730qdy5w_6kp00000gn/T/ipykernel_16384/3866078798.py:43: FutureWarning: The behavior of DataFrame concatenation with empty or all-NA entries is deprecated. In a future version, this will no longer exclude empty or all-NA columns when determining the result dtypes. To retain the old behavior, exclude the relevant entries before the concat operation.\n",
      "  w46 = pd.concat(datasets, sort=False, axis=0).reset_index(drop=True)\n",
      "/var/folders/ck/3npmnx597nb730qdy5w_6kp00000gn/T/ipykernel_16384/3866078798.py:43: FutureWarning: The behavior of DataFrame concatenation with empty or all-NA entries is deprecated. In a future version, this will no longer exclude empty or all-NA columns when determining the result dtypes. To retain the old behavior, exclude the relevant entries before the concat operation.\n",
      "  w46 = pd.concat(datasets, sort=False, axis=0).reset_index(drop=True)\n",
      "/var/folders/ck/3npmnx597nb730qdy5w_6kp00000gn/T/ipykernel_16384/3866078798.py:43: FutureWarning: The behavior of DataFrame concatenation with empty or all-NA entries is deprecated. In a future version, this will no longer exclude empty or all-NA columns when determining the result dtypes. To retain the old behavior, exclude the relevant entries before the concat operation.\n",
      "  w46 = pd.concat(datasets, sort=False, axis=0).reset_index(drop=True)\n",
      "/var/folders/ck/3npmnx597nb730qdy5w_6kp00000gn/T/ipykernel_16384/3866078798.py:43: FutureWarning: The behavior of DataFrame concatenation with empty or all-NA entries is deprecated. In a future version, this will no longer exclude empty or all-NA columns when determining the result dtypes. To retain the old behavior, exclude the relevant entries before the concat operation.\n",
      "  w46 = pd.concat(datasets, sort=False, axis=0).reset_index(drop=True)\n",
      "/var/folders/ck/3npmnx597nb730qdy5w_6kp00000gn/T/ipykernel_16384/3866078798.py:43: FutureWarning: The behavior of DataFrame concatenation with empty or all-NA entries is deprecated. In a future version, this will no longer exclude empty or all-NA columns when determining the result dtypes. To retain the old behavior, exclude the relevant entries before the concat operation.\n",
      "  w46 = pd.concat(datasets, sort=False, axis=0).reset_index(drop=True)\n",
      "/var/folders/ck/3npmnx597nb730qdy5w_6kp00000gn/T/ipykernel_16384/3866078798.py:43: FutureWarning: The behavior of DataFrame concatenation with empty or all-NA entries is deprecated. In a future version, this will no longer exclude empty or all-NA columns when determining the result dtypes. To retain the old behavior, exclude the relevant entries before the concat operation.\n",
      "  w46 = pd.concat(datasets, sort=False, axis=0).reset_index(drop=True)\n",
      "/var/folders/ck/3npmnx597nb730qdy5w_6kp00000gn/T/ipykernel_16384/3866078798.py:43: FutureWarning: The behavior of DataFrame concatenation with empty or all-NA entries is deprecated. In a future version, this will no longer exclude empty or all-NA columns when determining the result dtypes. To retain the old behavior, exclude the relevant entries before the concat operation.\n",
      "  w46 = pd.concat(datasets, sort=False, axis=0).reset_index(drop=True)\n",
      "/var/folders/ck/3npmnx597nb730qdy5w_6kp00000gn/T/ipykernel_16384/3866078798.py:43: FutureWarning: The behavior of DataFrame concatenation with empty or all-NA entries is deprecated. In a future version, this will no longer exclude empty or all-NA columns when determining the result dtypes. To retain the old behavior, exclude the relevant entries before the concat operation.\n",
      "  w46 = pd.concat(datasets, sort=False, axis=0).reset_index(drop=True)\n",
      "/var/folders/ck/3npmnx597nb730qdy5w_6kp00000gn/T/ipykernel_16384/3866078798.py:43: FutureWarning: The behavior of DataFrame concatenation with empty or all-NA entries is deprecated. In a future version, this will no longer exclude empty or all-NA columns when determining the result dtypes. To retain the old behavior, exclude the relevant entries before the concat operation.\n",
      "  w46 = pd.concat(datasets, sort=False, axis=0).reset_index(drop=True)\n",
      "/var/folders/ck/3npmnx597nb730qdy5w_6kp00000gn/T/ipykernel_16384/3866078798.py:43: FutureWarning: The behavior of DataFrame concatenation with empty or all-NA entries is deprecated. In a future version, this will no longer exclude empty or all-NA columns when determining the result dtypes. To retain the old behavior, exclude the relevant entries before the concat operation.\n",
      "  w46 = pd.concat(datasets, sort=False, axis=0).reset_index(drop=True)\n",
      "/var/folders/ck/3npmnx597nb730qdy5w_6kp00000gn/T/ipykernel_16384/3866078798.py:43: FutureWarning: The behavior of DataFrame concatenation with empty or all-NA entries is deprecated. In a future version, this will no longer exclude empty or all-NA columns when determining the result dtypes. To retain the old behavior, exclude the relevant entries before the concat operation.\n",
      "  w46 = pd.concat(datasets, sort=False, axis=0).reset_index(drop=True)\n",
      "/var/folders/ck/3npmnx597nb730qdy5w_6kp00000gn/T/ipykernel_16384/3866078798.py:43: FutureWarning: The behavior of DataFrame concatenation with empty or all-NA entries is deprecated. In a future version, this will no longer exclude empty or all-NA columns when determining the result dtypes. To retain the old behavior, exclude the relevant entries before the concat operation.\n",
      "  w46 = pd.concat(datasets, sort=False, axis=0).reset_index(drop=True)\n",
      "/var/folders/ck/3npmnx597nb730qdy5w_6kp00000gn/T/ipykernel_16384/3866078798.py:43: FutureWarning: The behavior of DataFrame concatenation with empty or all-NA entries is deprecated. In a future version, this will no longer exclude empty or all-NA columns when determining the result dtypes. To retain the old behavior, exclude the relevant entries before the concat operation.\n",
      "  w46 = pd.concat(datasets, sort=False, axis=0).reset_index(drop=True)\n",
      "/var/folders/ck/3npmnx597nb730qdy5w_6kp00000gn/T/ipykernel_16384/3866078798.py:43: FutureWarning: The behavior of DataFrame concatenation with empty or all-NA entries is deprecated. In a future version, this will no longer exclude empty or all-NA columns when determining the result dtypes. To retain the old behavior, exclude the relevant entries before the concat operation.\n",
      "  w46 = pd.concat(datasets, sort=False, axis=0).reset_index(drop=True)\n",
      "/var/folders/ck/3npmnx597nb730qdy5w_6kp00000gn/T/ipykernel_16384/3866078798.py:43: FutureWarning: The behavior of DataFrame concatenation with empty or all-NA entries is deprecated. In a future version, this will no longer exclude empty or all-NA columns when determining the result dtypes. To retain the old behavior, exclude the relevant entries before the concat operation.\n",
      "  w46 = pd.concat(datasets, sort=False, axis=0).reset_index(drop=True)\n",
      "/var/folders/ck/3npmnx597nb730qdy5w_6kp00000gn/T/ipykernel_16384/3866078798.py:43: FutureWarning: The behavior of DataFrame concatenation with empty or all-NA entries is deprecated. In a future version, this will no longer exclude empty or all-NA columns when determining the result dtypes. To retain the old behavior, exclude the relevant entries before the concat operation.\n",
      "  w46 = pd.concat(datasets, sort=False, axis=0).reset_index(drop=True)\n",
      "/var/folders/ck/3npmnx597nb730qdy5w_6kp00000gn/T/ipykernel_16384/3866078798.py:43: FutureWarning: The behavior of DataFrame concatenation with empty or all-NA entries is deprecated. In a future version, this will no longer exclude empty or all-NA columns when determining the result dtypes. To retain the old behavior, exclude the relevant entries before the concat operation.\n",
      "  w46 = pd.concat(datasets, sort=False, axis=0).reset_index(drop=True)\n",
      "/var/folders/ck/3npmnx597nb730qdy5w_6kp00000gn/T/ipykernel_16384/3866078798.py:43: FutureWarning: The behavior of DataFrame concatenation with empty or all-NA entries is deprecated. In a future version, this will no longer exclude empty or all-NA columns when determining the result dtypes. To retain the old behavior, exclude the relevant entries before the concat operation.\n",
      "  w46 = pd.concat(datasets, sort=False, axis=0).reset_index(drop=True)\n",
      "/var/folders/ck/3npmnx597nb730qdy5w_6kp00000gn/T/ipykernel_16384/3866078798.py:43: FutureWarning: The behavior of DataFrame concatenation with empty or all-NA entries is deprecated. In a future version, this will no longer exclude empty or all-NA columns when determining the result dtypes. To retain the old behavior, exclude the relevant entries before the concat operation.\n",
      "  w46 = pd.concat(datasets, sort=False, axis=0).reset_index(drop=True)\n",
      "/var/folders/ck/3npmnx597nb730qdy5w_6kp00000gn/T/ipykernel_16384/3866078798.py:43: FutureWarning: The behavior of DataFrame concatenation with empty or all-NA entries is deprecated. In a future version, this will no longer exclude empty or all-NA columns when determining the result dtypes. To retain the old behavior, exclude the relevant entries before the concat operation.\n",
      "  w46 = pd.concat(datasets, sort=False, axis=0).reset_index(drop=True)\n",
      "/var/folders/ck/3npmnx597nb730qdy5w_6kp00000gn/T/ipykernel_16384/3866078798.py:43: FutureWarning: The behavior of DataFrame concatenation with empty or all-NA entries is deprecated. In a future version, this will no longer exclude empty or all-NA columns when determining the result dtypes. To retain the old behavior, exclude the relevant entries before the concat operation.\n",
      "  w46 = pd.concat(datasets, sort=False, axis=0).reset_index(drop=True)\n",
      "/var/folders/ck/3npmnx597nb730qdy5w_6kp00000gn/T/ipykernel_16384/3866078798.py:43: FutureWarning: The behavior of DataFrame concatenation with empty or all-NA entries is deprecated. In a future version, this will no longer exclude empty or all-NA columns when determining the result dtypes. To retain the old behavior, exclude the relevant entries before the concat operation.\n",
      "  w46 = pd.concat(datasets, sort=False, axis=0).reset_index(drop=True)\n",
      "/var/folders/ck/3npmnx597nb730qdy5w_6kp00000gn/T/ipykernel_16384/3866078798.py:43: FutureWarning: The behavior of DataFrame concatenation with empty or all-NA entries is deprecated. In a future version, this will no longer exclude empty or all-NA columns when determining the result dtypes. To retain the old behavior, exclude the relevant entries before the concat operation.\n",
      "  w46 = pd.concat(datasets, sort=False, axis=0).reset_index(drop=True)\n",
      "/var/folders/ck/3npmnx597nb730qdy5w_6kp00000gn/T/ipykernel_16384/3866078798.py:43: FutureWarning: The behavior of DataFrame concatenation with empty or all-NA entries is deprecated. In a future version, this will no longer exclude empty or all-NA columns when determining the result dtypes. To retain the old behavior, exclude the relevant entries before the concat operation.\n",
      "  w46 = pd.concat(datasets, sort=False, axis=0).reset_index(drop=True)\n",
      "/var/folders/ck/3npmnx597nb730qdy5w_6kp00000gn/T/ipykernel_16384/3866078798.py:43: FutureWarning: The behavior of DataFrame concatenation with empty or all-NA entries is deprecated. In a future version, this will no longer exclude empty or all-NA columns when determining the result dtypes. To retain the old behavior, exclude the relevant entries before the concat operation.\n",
      "  w46 = pd.concat(datasets, sort=False, axis=0).reset_index(drop=True)\n",
      "/var/folders/ck/3npmnx597nb730qdy5w_6kp00000gn/T/ipykernel_16384/3866078798.py:43: FutureWarning: The behavior of DataFrame concatenation with empty or all-NA entries is deprecated. In a future version, this will no longer exclude empty or all-NA columns when determining the result dtypes. To retain the old behavior, exclude the relevant entries before the concat operation.\n",
      "  w46 = pd.concat(datasets, sort=False, axis=0).reset_index(drop=True)\n",
      "/var/folders/ck/3npmnx597nb730qdy5w_6kp00000gn/T/ipykernel_16384/3866078798.py:43: FutureWarning: The behavior of DataFrame concatenation with empty or all-NA entries is deprecated. In a future version, this will no longer exclude empty or all-NA columns when determining the result dtypes. To retain the old behavior, exclude the relevant entries before the concat operation.\n",
      "  w46 = pd.concat(datasets, sort=False, axis=0).reset_index(drop=True)\n",
      "/var/folders/ck/3npmnx597nb730qdy5w_6kp00000gn/T/ipykernel_16384/3866078798.py:43: FutureWarning: The behavior of DataFrame concatenation with empty or all-NA entries is deprecated. In a future version, this will no longer exclude empty or all-NA columns when determining the result dtypes. To retain the old behavior, exclude the relevant entries before the concat operation.\n",
      "  w46 = pd.concat(datasets, sort=False, axis=0).reset_index(drop=True)\n",
      "/var/folders/ck/3npmnx597nb730qdy5w_6kp00000gn/T/ipykernel_16384/3866078798.py:43: FutureWarning: The behavior of DataFrame concatenation with empty or all-NA entries is deprecated. In a future version, this will no longer exclude empty or all-NA columns when determining the result dtypes. To retain the old behavior, exclude the relevant entries before the concat operation.\n",
      "  w46 = pd.concat(datasets, sort=False, axis=0).reset_index(drop=True)\n"
     ]
    }
   ],
   "source": [
    "datasets = []\n",
    "\n",
    "folders = [\n",
    "    f\"/Users/alexandralugova/Documents/GitHub/MH-old-workers/data/datasets/sharew{i}_rel8-0-0_ALL_datasets_stata\"\n",
    "    for i in [4, 5, 6]\n",
    "]\n",
    "\n",
    "merge_columns = [\"mergeid\"]\n",
    "\n",
    "for folder in folders:\n",
    "    wave = int(folder.split(\"sharew\")[1].split(\"_\")[0])\n",
    "\n",
    "    folder_datasets = []\n",
    "\n",
    "    for filename in os.listdir(folder):\n",
    "        if (\n",
    "            filename.endswith(\"cv_r.dta\")\n",
    "            or filename.endswith(\"ch.dta\")\n",
    "            or filename.endswith(\"ep.dta\")\n",
    "            or filename.endswith(\"gv_health.dta\")\n",
    "            or filename.endswith(\"as.dta\")\n",
    "        ):\n",
    "            file_path = os.path.join(folder, filename)\n",
    "            dataset = pd.read_stata(file_path)\n",
    "\n",
    "            dataset[\"wave\"] = wave\n",
    "\n",
    "            folder_datasets.append(dataset)\n",
    "\n",
    "    if folder_datasets:\n",
    "        merged_dataset = reduce(\n",
    "            lambda left, right: pd.merge(\n",
    "                left,\n",
    "                right,\n",
    "                on=left.columns.intersection(right.columns).tolist(),\n",
    "                how=\"inner\",\n",
    "            ),\n",
    "            folder_datasets,\n",
    "        )\n",
    "\n",
    "        datasets.append(merged_dataset)\n",
    "\n",
    "w46 = pd.concat(datasets, sort=False, axis=0).reset_index(drop=True)"
   ]
  },
  {
   "cell_type": "code",
   "execution_count": 32,
   "metadata": {},
   "outputs": [
    {
     "data": {
      "text/plain": [
       "wave\n",
       "4    58000\n",
       "5    66065\n",
       "6    68085\n",
       "Name: mergeid, dtype: int64"
      ]
     },
     "execution_count": 32,
     "metadata": {},
     "output_type": "execute_result"
    }
   ],
   "source": [
    "# Unique individuals\n",
    "w46.groupby(\"wave\").mergeid.nunique()"
   ]
  },
  {
   "cell_type": "markdown",
   "metadata": {},
   "source": [
    "Check the number of individuals present in waves 4-6 and 7"
   ]
  },
  {
   "cell_type": "code",
   "execution_count": 33,
   "metadata": {},
   "outputs": [
    {
     "data": {
      "text/plain": [
       "32246"
      ]
     },
     "execution_count": 33,
     "metadata": {},
     "output_type": "execute_result"
    }
   ],
   "source": [
    "unique_mergeid_w46 = set(w46[\"mergeid\"].unique())\n",
    "unique_mergeid_df = set(df[\"mergeid\"].unique())\n",
    "intersection_ids = unique_mergeid_w46.intersection(unique_mergeid_df)\n",
    "len(intersection_ids)"
   ]
  },
  {
   "cell_type": "markdown",
   "metadata": {},
   "source": [
    "Leave only individuals present in at least one of waves 4-6 and in wave 7"
   ]
  },
  {
   "cell_type": "code",
   "execution_count": 34,
   "metadata": {},
   "outputs": [],
   "source": [
    "w46 = w46[w46[\"mergeid\"].isin(intersection_ids)].reset_index(drop=True)"
   ]
  },
  {
   "cell_type": "markdown",
   "metadata": {},
   "source": [
    "### Transform some variables, filter data and choose only necessary columns"
   ]
  },
  {
   "cell_type": "markdown",
   "metadata": {},
   "source": [
    "Add year column"
   ]
  },
  {
   "cell_type": "code",
   "execution_count": 35,
   "metadata": {},
   "outputs": [],
   "source": [
    "wave_to_year = {4: 2011, 5: 2013, 6: 2015}\n",
    "w46[\"year\"] = w46[\"wave\"].map(wave_to_year).astype(int)"
   ]
  },
  {
   "cell_type": "markdown",
   "metadata": {},
   "source": [
    "Calculate current age"
   ]
  },
  {
   "cell_type": "code",
   "execution_count": 36,
   "metadata": {},
   "outputs": [],
   "source": [
    "def calculate_age(row):\n",
    "    if not pd.isnull(row[\"age2011\"]):\n",
    "        return row[\"age2011\"] + (row[\"year\"] - 2011)\n",
    "    elif not pd.isnull(row[\"age2013\"]):\n",
    "        return row[\"age2013\"] - (2013 - row[\"year\"])\n",
    "    elif not pd.isnull(row[\"age2015\"]):\n",
    "        return row[\"age2015\"] - (2015 - row[\"year\"])\n",
    "    else:\n",
    "        return np.nan\n",
    "\n",
    "\n",
    "w46[\"age\"] = w46.apply(calculate_age, axis=1)"
   ]
  },
  {
   "cell_type": "markdown",
   "metadata": {},
   "source": [
    "Identify number of children and grandchildren by year"
   ]
  },
  {
   "cell_type": "code",
   "execution_count": 37,
   "metadata": {},
   "outputs": [],
   "source": [
    "# Drop those who refused to answer, put 0 for those who don't know\n",
    "w46 = w46[(w46.ch001_ != \"Refusal\")].reset_index(drop=True)\n",
    "w46[\"ch001_\"] = w46[\"ch001_\"].replace({\"Don't know\": 0})\n",
    "\n",
    "children2011 = (\n",
    "    w46[w46.wave == 4]\n",
    "    .groupby(\"hhid4\")[\"ch001_\"]\n",
    "    .max()\n",
    "    .to_frame(name=\"nb_children2011\")\n",
    "    .reset_index()\n",
    "    .fillna(0)\n",
    ")\n",
    "children2013 = (\n",
    "    w46[w46.wave == 5]\n",
    "    .groupby(\"hhid5\")[\"ch001_\"]\n",
    "    .max()\n",
    "    .to_frame(name=\"nb_children2013\")\n",
    "    .reset_index()\n",
    "    .fillna(0)\n",
    ")\n",
    "children2015 = (\n",
    "    w46[w46.wave == 6]\n",
    "    .groupby(\"hhid6\")[\"ch001_\"]\n",
    "    .max()\n",
    "    .to_frame(name=\"nb_children2015\")\n",
    "    .reset_index()\n",
    "    .fillna(0)\n",
    ")\n",
    "\n",
    "w46 = w46.merge(children2011, on=\"hhid4\", how=\"left\")\n",
    "w46 = w46.merge(children2013, on=\"hhid5\", how=\"left\")\n",
    "w46 = w46.merge(children2015, on=\"hhid6\", how=\"left\")"
   ]
  },
  {
   "cell_type": "code",
   "execution_count": 38,
   "metadata": {},
   "outputs": [
    {
     "data": {
      "text/plain": [
       "0"
      ]
     },
     "execution_count": 38,
     "metadata": {},
     "output_type": "execute_result"
    }
   ],
   "source": [
    "len(w46) - (\n",
    "    len(\n",
    "        w46[\n",
    "            (w46.nb_children2011 >= 0)\n",
    "            | (w46.nb_children2013 >= 0)\n",
    "            | (w46.nb_children2015 >= 0)\n",
    "        ]\n",
    "    )\n",
    ")"
   ]
  },
  {
   "cell_type": "code",
   "execution_count": 39,
   "metadata": {},
   "outputs": [
    {
     "data": {
      "text/plain": [
       "count    69832.000000\n",
       "mean         1.927626\n",
       "std          1.368569\n",
       "min          0.000000\n",
       "25%          1.000000\n",
       "50%          2.000000\n",
       "75%          3.000000\n",
       "max         19.000000\n",
       "Name: nb_children, dtype: float64"
      ]
     },
     "execution_count": 39,
     "metadata": {},
     "output_type": "execute_result"
    }
   ],
   "source": [
    "w46[\"nb_children\"] = (\n",
    "    w46[\"nb_children2011\"]\n",
    "    .combine_first(w46[\"nb_children2013\"])\n",
    "    .combine_first(w46[\"nb_children2015\"])\n",
    ")\n",
    "w46[\"nb_children\"].describe()"
   ]
  },
  {
   "cell_type": "code",
   "execution_count": 40,
   "metadata": {},
   "outputs": [
    {
     "data": {
      "text/plain": [
       "wave\n",
       "4    16231\n",
       "5    24478\n",
       "6    29123\n",
       "Name: mergeid, dtype: int64"
      ]
     },
     "execution_count": 40,
     "metadata": {},
     "output_type": "execute_result"
    }
   ],
   "source": [
    "# Unique individuals\n",
    "w46.groupby(\"wave\").mergeid.nunique()"
   ]
  },
  {
   "cell_type": "code",
   "execution_count": 41,
   "metadata": {},
   "outputs": [],
   "source": [
    "w46 = w46[(w46.ch021_ != \"Refusal\")].reset_index(drop=True)\n",
    "w46[\"ch021_\"] = w46[\"ch021_\"].replace({\"Don't know\": 0})\n",
    "\n",
    "children2011 = (\n",
    "    w46[w46.wave == 4]\n",
    "    .groupby(\"hhid4\")[\"ch021_\"]\n",
    "    .max()\n",
    "    .to_frame(name=\"nb_grandchildren2011\")\n",
    "    .reset_index()\n",
    "    .fillna(0)\n",
    ")\n",
    "children2013 = (\n",
    "    w46[w46.wave == 5]\n",
    "    .groupby(\"hhid5\")[\"ch001_\"]\n",
    "    .max()\n",
    "    .to_frame(name=\"nb_grandchildren2013\")\n",
    "    .reset_index()\n",
    "    .fillna(0)\n",
    ")\n",
    "children2015 = (\n",
    "    w46[w46.wave == 6]\n",
    "    .groupby(\"hhid6\")[\"ch001_\"]\n",
    "    .max()\n",
    "    .to_frame(name=\"nb_grandchildren2015\")\n",
    "    .reset_index()\n",
    "    .fillna(0)\n",
    ")\n",
    "\n",
    "w46 = w46.merge(children2011, on=\"hhid4\", how=\"left\")\n",
    "w46 = w46.merge(children2013, on=\"hhid5\", how=\"left\")\n",
    "w46 = w46.merge(children2015, on=\"hhid6\", how=\"left\")\n",
    "\n",
    "w46[\"nb_grandchildren\"] = (\n",
    "    w46[\"nb_grandchildren2011\"]\n",
    "    .combine_first(w46[\"nb_grandchildren2013\"])\n",
    "    .combine_first(w46[\"nb_grandchildren2015\"])\n",
    ")"
   ]
  },
  {
   "cell_type": "markdown",
   "metadata": {},
   "source": [
    "Transform partnerinhh to 1=lives with partner and 0=without"
   ]
  },
  {
   "cell_type": "code",
   "execution_count": 42,
   "metadata": {},
   "outputs": [
    {
     "data": {
      "text/plain": [
       "partnerinhh\n",
       "1                 51492\n",
       "0                 18304\n",
       "Not applicable        0\n",
       "Name: count, dtype: int64"
      ]
     },
     "execution_count": 42,
     "metadata": {},
     "output_type": "execute_result"
    }
   ],
   "source": [
    "w46[\"partnerinhh\"] = w46[\"partnerinhh\"].replace({\"Yes\": 1, \"No\": 0})\n",
    "\n",
    "w46[\"partnerinhh\"].value_counts(dropna=False)"
   ]
  },
  {
   "cell_type": "markdown",
   "metadata": {},
   "source": [
    "Leave only those with the status of employed"
   ]
  },
  {
   "cell_type": "code",
   "execution_count": 43,
   "metadata": {},
   "outputs": [
    {
     "data": {
      "text/plain": [
       "ep005_\n",
       "Retired                                                              40247\n",
       "Employed or self-employed (including working for family business)    21046\n",
       "Homemaker                                                             3226\n",
       "Permanently sick or disabled                                          2062\n",
       "Unemployed                                                            2018\n",
       "Other                                                                  741\n",
       "NaN                                                                    426\n",
       "Refusal                                                                 15\n",
       "Don't know                                                              15\n",
       "Name: count, dtype: int64"
      ]
     },
     "execution_count": 43,
     "metadata": {},
     "output_type": "execute_result"
    }
   ],
   "source": [
    "w46.ep005_.value_counts(dropna=False)"
   ]
  },
  {
   "cell_type": "code",
   "execution_count": 44,
   "metadata": {},
   "outputs": [],
   "source": [
    "w46 = w46[\n",
    "    w46.ep005_ == \"Employed or self-employed (including working for family business)\"\n",
    "].reset_index(drop=True)"
   ]
  },
  {
   "cell_type": "code",
   "execution_count": 45,
   "metadata": {},
   "outputs": [
    {
     "data": {
      "text/plain": [
       "wave\n",
       "4    5540\n",
       "5    7737\n",
       "6    7769\n",
       "Name: mergeid, dtype: int64"
      ]
     },
     "execution_count": 45,
     "metadata": {},
     "output_type": "execute_result"
    }
   ],
   "source": [
    "# Unique individuals\n",
    "w46.groupby(\"wave\").mergeid.nunique()"
   ]
  },
  {
   "cell_type": "markdown",
   "metadata": {},
   "source": [
    "Delete those who hold state pensions for disabilities or other special conditions"
   ]
  },
  {
   "cell_type": "code",
   "execution_count": 46,
   "metadata": {},
   "outputs": [],
   "source": [
    "# ep071dno and ep671dno (from wave 6) - no current state pensions\n",
    "w46 = w46[(w46.ep071dno == \"Selected\") | (w46.ep671dno == \"Selected\")].reset_index(\n",
    "    drop=True\n",
    ")"
   ]
  },
  {
   "cell_type": "code",
   "execution_count": 47,
   "metadata": {},
   "outputs": [
    {
     "data": {
      "text/plain": [
       "wave\n",
       "4    4623\n",
       "5    6490\n",
       "6    6424\n",
       "Name: mergeid, dtype: int64"
      ]
     },
     "execution_count": 47,
     "metadata": {},
     "output_type": "execute_result"
    }
   ],
   "source": [
    "# Unique individuals\n",
    "w46.groupby(\"wave\").mergeid.nunique()"
   ]
  },
  {
   "cell_type": "markdown",
   "metadata": {},
   "source": [
    "Add job status variable"
   ]
  },
  {
   "cell_type": "code",
   "execution_count": 48,
   "metadata": {},
   "outputs": [],
   "source": [
    "w46[\"ep009_\"] = (\n",
    "    w46[\"ep009_\"]\n",
    "    .replace({\"Don't know\": \"Employee\", \"Refusal\": \"Employee\"})\n",
    "    .fillna(\"Employee\")\n",
    ")\n",
    "w46 = w46.rename(columns={\"ep009_\": \"job_status\"})"
   ]
  },
  {
   "cell_type": "markdown",
   "metadata": {},
   "source": [
    "Add industry of employment"
   ]
  },
  {
   "cell_type": "code",
   "execution_count": 49,
   "metadata": {},
   "outputs": [],
   "source": [
    "ep_data = relevant_rows.sort_values([\"mergeid\", \"year\"])\n",
    "last_industry = (\n",
    "    ep_data.groupby(\"mergeid\")[\"industry\"]\n",
    "    .apply(lambda x: x.dropna().iloc[-1] if not x.dropna().empty else np.nan)\n",
    "    .reset_index()\n",
    ")\n",
    "\n",
    "w46 = w46.merge(last_industry, on=\"mergeid\", how=\"left\")"
   ]
  },
  {
   "cell_type": "code",
   "execution_count": 50,
   "metadata": {},
   "outputs": [],
   "source": [
    "w46[\"industry\"] = w46[\"industry\"].replace([\"Don't know\", \"Refusal\"], np.nan)\n",
    "w46 = w46.dropna(subset=\"industry\").reset_index(drop=True)"
   ]
  },
  {
   "cell_type": "code",
   "execution_count": 51,
   "metadata": {},
   "outputs": [
    {
     "data": {
      "text/plain": [
       "industry\n",
       "Health and social work                          2450\n",
       "Manufacturing                                   2408\n",
       "Other community                                 2299\n",
       "Education                                       2107\n",
       "Wholesale and retail trade                      1737\n",
       "Public administration and defence               1673\n",
       "Construction                                    1130\n",
       "Agriculture, hunting, forestry, fishing          944\n",
       "Transport, storage and communication             922\n",
       "Financial intermediation                         575\n",
       "Hotels and restaurants                           452\n",
       "Electricity, gas and water supply                314\n",
       "Real estate, renting and business activities     314\n",
       "Mining and quarrying                             123\n",
       "Name: count, dtype: int64"
      ]
     },
     "execution_count": 51,
     "metadata": {},
     "output_type": "execute_result"
    }
   ],
   "source": [
    "w46.industry.value_counts(dropna=False)"
   ]
  },
  {
   "cell_type": "markdown",
   "metadata": {},
   "source": [
    "Add household income and its log"
   ]
  },
  {
   "cell_type": "code",
   "execution_count": 52,
   "metadata": {},
   "outputs": [],
   "source": [
    "ws = [4, 5, 6]\n",
    "dfs = []\n",
    "\n",
    "for wave in ws:\n",
    "    file_path = f\"/Users/alexandralugova/Documents/GitHub/MH-old-workers/data/datasets/sharew{wave}_rel8-0-0_ALL_datasets_stata/sharew{wave}_rel8-0-0_gv_imputations.dta\"\n",
    "    data = pd.read_stata(file_path, convert_categoricals=False)\n",
    "    data[\"wave\"] = wave\n",
    "    dfs.append(data)\n",
    "\n",
    "data = pd.concat(dfs, ignore_index=True)"
   ]
  },
  {
   "cell_type": "code",
   "execution_count": 53,
   "metadata": {},
   "outputs": [],
   "source": [
    "w46 = w46.merge(\n",
    "    data[[\"mergeid\", \"wave\", \"thinc\", \"thinc2\"]], on=[\"mergeid\", \"wave\"], how=\"left\"\n",
    ")"
   ]
  },
  {
   "cell_type": "code",
   "execution_count": 54,
   "metadata": {},
   "outputs": [
    {
     "data": {
      "text/html": [
       "<div>\n",
       "<style scoped>\n",
       "    .dataframe tbody tr th:only-of-type {\n",
       "        vertical-align: middle;\n",
       "    }\n",
       "\n",
       "    .dataframe tbody tr th {\n",
       "        vertical-align: top;\n",
       "    }\n",
       "\n",
       "    .dataframe thead th {\n",
       "        text-align: right;\n",
       "    }\n",
       "</style>\n",
       "<table border=\"1\" class=\"dataframe\">\n",
       "  <thead>\n",
       "    <tr style=\"text-align: right;\">\n",
       "      <th></th>\n",
       "      <th>thinc</th>\n",
       "      <th>thinc2</th>\n",
       "    </tr>\n",
       "  </thead>\n",
       "  <tbody>\n",
       "    <tr>\n",
       "      <th>0</th>\n",
       "      <td>42001.308594</td>\n",
       "      <td>36000.0</td>\n",
       "    </tr>\n",
       "    <tr>\n",
       "      <th>1</th>\n",
       "      <td>42000.503906</td>\n",
       "      <td>36000.0</td>\n",
       "    </tr>\n",
       "    <tr>\n",
       "      <th>2</th>\n",
       "      <td>42000.742188</td>\n",
       "      <td>36000.0</td>\n",
       "    </tr>\n",
       "    <tr>\n",
       "      <th>3</th>\n",
       "      <td>42001.257812</td>\n",
       "      <td>36000.0</td>\n",
       "    </tr>\n",
       "    <tr>\n",
       "      <th>4</th>\n",
       "      <td>42001.980469</td>\n",
       "      <td>36000.0</td>\n",
       "    </tr>\n",
       "    <tr>\n",
       "      <th>...</th>\n",
       "      <td>...</td>\n",
       "      <td>...</td>\n",
       "    </tr>\n",
       "    <tr>\n",
       "      <th>87235</th>\n",
       "      <td>14297.854492</td>\n",
       "      <td>13200.0</td>\n",
       "    </tr>\n",
       "    <tr>\n",
       "      <th>87236</th>\n",
       "      <td>58336.046875</td>\n",
       "      <td>13200.0</td>\n",
       "    </tr>\n",
       "    <tr>\n",
       "      <th>87237</th>\n",
       "      <td>23655.869141</td>\n",
       "      <td>13200.0</td>\n",
       "    </tr>\n",
       "    <tr>\n",
       "      <th>87238</th>\n",
       "      <td>14535.304688</td>\n",
       "      <td>13200.0</td>\n",
       "    </tr>\n",
       "    <tr>\n",
       "      <th>87239</th>\n",
       "      <td>7846.709961</td>\n",
       "      <td>13200.0</td>\n",
       "    </tr>\n",
       "  </tbody>\n",
       "</table>\n",
       "<p>87240 rows × 2 columns</p>\n",
       "</div>"
      ],
      "text/plain": [
       "              thinc   thinc2\n",
       "0      42001.308594  36000.0\n",
       "1      42000.503906  36000.0\n",
       "2      42000.742188  36000.0\n",
       "3      42001.257812  36000.0\n",
       "4      42001.980469  36000.0\n",
       "...             ...      ...\n",
       "87235  14297.854492  13200.0\n",
       "87236  58336.046875  13200.0\n",
       "87237  23655.869141  13200.0\n",
       "87238  14535.304688  13200.0\n",
       "87239   7846.709961  13200.0\n",
       "\n",
       "[87240 rows x 2 columns]"
      ]
     },
     "execution_count": 54,
     "metadata": {},
     "output_type": "execute_result"
    }
   ],
   "source": [
    "w46[[\"thinc\", \"thinc2\"]]"
   ]
  },
  {
   "cell_type": "markdown",
   "metadata": {},
   "source": [
    "Add investments and life insurance"
   ]
  },
  {
   "cell_type": "code",
   "execution_count": 55,
   "metadata": {},
   "outputs": [],
   "source": [
    "w46[[\"as062_\", \"as063_\", \"as064_\", \"as065_\", \"as066_\", \"as067_\"]] = (\n",
    "    w46[[\"as062_\", \"as063_\", \"as064_\", \"as065_\", \"as066_\", \"as067_\"]]\n",
    "    .replace({\"Yes\": 1, \"No\": 0, \"Refusal\": 0, \"Don't know\": 0})\n",
    "    .fillna(0)\n",
    "    .astype(\"int\")\n",
    ")"
   ]
  },
  {
   "cell_type": "code",
   "execution_count": 56,
   "metadata": {},
   "outputs": [],
   "source": [
    "inv2011 = (\n",
    "    w46[w46.wave == 4]\n",
    "    .groupby(\"hhid4\")[[\"as062_\", \"as063_\", \"as064_\", \"as065_\", \"as066_\", \"as067_\"]]\n",
    "    .max()\n",
    "    .reset_index()\n",
    "    .rename(columns={\"as067_\": \"life_insurance4\"})\n",
    ")\n",
    "inv2013 = (\n",
    "    w46[w46.wave == 5]\n",
    "    .groupby(\"hhid5\")[[\"as062_\", \"as063_\", \"as064_\", \"as065_\", \"as066_\", \"as067_\"]]\n",
    "    .max()\n",
    "    .reset_index()\n",
    "    .rename(columns={\"as067_\": \"life_insurance5\"})\n",
    ")\n",
    "inv2015 = (\n",
    "    w46[w46.wave == 6]\n",
    "    .groupby(\"hhid6\")[[\"as062_\", \"as063_\", \"as064_\", \"as065_\", \"as066_\", \"as067_\"]]\n",
    "    .max()\n",
    "    .reset_index()\n",
    "    .rename(columns={\"as067_\": \"life_insurance6\"})\n",
    ")\n",
    "\n",
    "inv2011[\"investment4\"] = (\n",
    "    (inv2011[[\"as062_\", \"as063_\", \"as064_\", \"as065_\", \"as066_\"]] == 1)\n",
    "    .any(axis=1)\n",
    "    .astype(int)\n",
    ")\n",
    "inv2013[\"investment5\"] = (\n",
    "    (inv2013[[\"as062_\", \"as063_\", \"as064_\", \"as065_\", \"as066_\"]] == 1)\n",
    "    .any(axis=1)\n",
    "    .astype(int)\n",
    ")\n",
    "inv2015[\"investment6\"] = (\n",
    "    (inv2015[[\"as062_\", \"as063_\", \"as064_\", \"as065_\", \"as066_\"]] == 1)\n",
    "    .any(axis=1)\n",
    "    .astype(int)\n",
    ")"
   ]
  },
  {
   "cell_type": "code",
   "execution_count": 57,
   "metadata": {},
   "outputs": [],
   "source": [
    "w46 = w46.merge(\n",
    "    inv2011[[\"hhid4\", \"investment4\", \"life_insurance4\"]], on=\"hhid4\", how=\"left\"\n",
    ")\n",
    "w46 = w46.merge(\n",
    "    inv2013[[\"hhid5\", \"investment5\", \"life_insurance5\"]], on=\"hhid5\", how=\"left\"\n",
    ")\n",
    "w46 = w46.merge(\n",
    "    inv2015[[\"hhid6\", \"investment6\", \"life_insurance6\"]], on=\"hhid6\", how=\"left\"\n",
    ")\n",
    "\n",
    "w46[\"investment\"] = (\n",
    "    w46[\"investment4\"]\n",
    "    .combine_first(w46[\"investment5\"])\n",
    "    .combine_first(w46[\"investment6\"])\n",
    ")\n",
    "w46[\"life_insurance\"] = (\n",
    "    w46[\"life_insurance4\"]\n",
    "    .combine_first(w46[\"life_insurance5\"])\n",
    "    .combine_first(w46[\"life_insurance6\"])\n",
    ")"
   ]
  },
  {
   "cell_type": "markdown",
   "metadata": {},
   "source": [
    "Add phisical health indexes and chronic diseases number"
   ]
  },
  {
   "cell_type": "code",
   "execution_count": 58,
   "metadata": {},
   "outputs": [],
   "source": [
    "w46[\"sphus\"] = w46[\"sphus\"].replace(\n",
    "    {\"Poor\": 1, \"Fair\": 2, \"Good\": 3, \"Very good\": 4, \"Excellent\": 5}\n",
    ")\n",
    "\n",
    "w46[\"sphus\"] = w46[\"sphus\"].replace([\"Don't know\", \"Refusal\"], np.nan)\n",
    "w46 = w46.dropna(subset=\"sphus\").reset_index(drop=True)\n",
    "\n",
    "w46[\"sphus2\"] = w46[\"sphus2\"].replace(\n",
    "    {\"Less than very good\": 0, \"Very good/excellent\": 1}\n",
    ")"
   ]
  },
  {
   "cell_type": "code",
   "execution_count": 59,
   "metadata": {},
   "outputs": [],
   "source": [
    "w46[\"chronic\"] = (\n",
    "    w46[\"chronicw4\"].combine_first(w46[\"chronicw5\"]).combine_first(w46[\"chronicw6c\"])\n",
    ")\n",
    "w46[\"chronic2\"] = (\n",
    "    w46[\"chronic2w4\"].combine_first(w46[\"chronic2w5\"]).combine_first(w46[\"chronic2w6\"])\n",
    ")\n",
    "\n",
    "w46[\"chronic\"] = w46[\"chronic\"].replace([\"Don't know\", \"Refusal\"], np.nan)\n",
    "w46 = w46.dropna(subset=\"chronic\").reset_index(drop=True)\n",
    "\n",
    "w46[\"chronic2\"] = w46[\"chronic2\"].replace(\n",
    "    {\"Less than 2 diseases\": 0, \"2+ chronic diseases\": 1}\n",
    ")"
   ]
  },
  {
   "cell_type": "markdown",
   "metadata": {},
   "source": [
    "### Calculate mental health indicators"
   ]
  },
  {
   "cell_type": "markdown",
   "metadata": {},
   "source": [
    "Filter out those with missing values for EuroD scale"
   ]
  },
  {
   "cell_type": "code",
   "execution_count": 60,
   "metadata": {},
   "outputs": [],
   "source": [
    "w46 = w46.dropna(subset=[\"eurod\"]).reset_index(drop=True)"
   ]
  },
  {
   "cell_type": "markdown",
   "metadata": {},
   "source": [
    "Transform EuroD values to numeric"
   ]
  },
  {
   "cell_type": "code",
   "execution_count": 61,
   "metadata": {},
   "outputs": [
    {
     "name": "stderr",
     "output_type": "stream",
     "text": [
      "/var/folders/ck/3npmnx597nb730qdy5w_6kp00000gn/T/ipykernel_16384/483394848.py:34: FutureWarning: DataFrame.applymap has been deprecated. Use DataFrame.map instead.\n",
      "  ].applymap(\n"
     ]
    }
   ],
   "source": [
    "# Transform to numeric\n",
    "w46[\"eurod\"] = w46[\"eurod\"].replace({\"Not depressed\": 0, \"Very depressed\": 12})\n",
    "w46[\"eurodcat\"] = w46[\"eurodcat\"].replace({\"Yes\": 1, \"No\": 0})\n",
    "w46[\n",
    "    [\n",
    "        \"euro1\",\n",
    "        \"euro2\",\n",
    "        \"euro3\",\n",
    "        \"euro4\",\n",
    "        \"euro5\",\n",
    "        \"euro6\",\n",
    "        \"euro7\",\n",
    "        \"euro8\",\n",
    "        \"euro9\",\n",
    "        \"euro10\",\n",
    "        \"euro11\",\n",
    "        \"euro12\",\n",
    "    ]\n",
    "] = w46[\n",
    "    [\n",
    "        \"euro1\",\n",
    "        \"euro2\",\n",
    "        \"euro3\",\n",
    "        \"euro4\",\n",
    "        \"euro5\",\n",
    "        \"euro6\",\n",
    "        \"euro7\",\n",
    "        \"euro8\",\n",
    "        \"euro9\",\n",
    "        \"euro10\",\n",
    "        \"euro11\",\n",
    "        \"euro12\",\n",
    "    ]\n",
    "].applymap(\n",
    "    lambda x: 1 if x == \"Selected\" else 0\n",
    ")"
   ]
  },
  {
   "cell_type": "code",
   "execution_count": 62,
   "metadata": {},
   "outputs": [],
   "source": [
    "# Conduct a PCA to deduct affective suffering and lack of motivation as separate indicators\n",
    "columns_for_pca = [\n",
    "    \"euro1\",\n",
    "    \"euro2\",\n",
    "    \"euro3\",\n",
    "    \"euro4\",\n",
    "    \"euro5\",\n",
    "    \"euro6\",\n",
    "    \"euro7\",\n",
    "    \"euro8\",\n",
    "    \"euro9\",\n",
    "    \"euro10\",\n",
    "    \"euro11\",\n",
    "    \"euro12\",\n",
    "]\n",
    "data_pca = w46[columns_for_pca]\n",
    "\n",
    "corr_mat = np.corrcoef(data_pca, rowvar=False)  # Tetrachoric correlation matrix\n",
    "\n",
    "evals, evecs = eigh(corr_mat)  # Eigenvalues and eigenvectors\n",
    "\n",
    "fa = FactorAnalyzer(n_factors=2, rotation=\"varimax\", method=\"ml\")\n",
    "fa.fit(data_pca)\n",
    "\n",
    "factor_scores = fa.transform(data_pca)\n",
    "\n",
    "cutoff = 0.55\n",
    "\n",
    "w46[\"affective_suffering\"] = 0\n",
    "w46[\"motivation_lack\"] = 0\n",
    "\n",
    "w46[\"affective_suffering\"] = (factor_scores[:, 0] >= cutoff).astype(int)\n",
    "w46[\"motivation_lack\"] = (factor_scores[:, 1] >= cutoff).astype(int)"
   ]
  },
  {
   "cell_type": "code",
   "execution_count": 63,
   "metadata": {},
   "outputs": [
    {
     "data": {
      "text/plain": [
       "array([[0.73481913, 0.05136231],\n",
       "       [0.02707348, 0.22344814],\n",
       "       [0.22367084, 0.30178359],\n",
       "       [0.26360264, 0.20466691],\n",
       "       [0.39010105, 0.17377732],\n",
       "       [0.15955577, 0.38373334],\n",
       "       [0.40553065, 0.1795864 ],\n",
       "       [0.18194662, 0.2788802 ],\n",
       "       [0.36538527, 0.2480753 ],\n",
       "       [0.17784697, 0.30563955],\n",
       "       [0.01742235, 0.23486253],\n",
       "       [0.46650885, 0.06968826]])"
      ]
     },
     "execution_count": 63,
     "metadata": {},
     "output_type": "execute_result"
    }
   ],
   "source": [
    "fa.loadings_"
   ]
  },
  {
   "cell_type": "code",
   "execution_count": 64,
   "metadata": {},
   "outputs": [
    {
     "data": {
      "text/plain": [
       "affective_suffering\n",
       "0    59120\n",
       "1    26295\n",
       "Name: count, dtype: int64"
      ]
     },
     "execution_count": 64,
     "metadata": {},
     "output_type": "execute_result"
    }
   ],
   "source": [
    "w46.affective_suffering.value_counts()"
   ]
  },
  {
   "cell_type": "code",
   "execution_count": 65,
   "metadata": {},
   "outputs": [
    {
     "data": {
      "text/plain": [
       "motivation_lack\n",
       "0    73795\n",
       "1    11620\n",
       "Name: count, dtype: int64"
      ]
     },
     "execution_count": 65,
     "metadata": {},
     "output_type": "execute_result"
    }
   ],
   "source": [
    "w46.motivation_lack.value_counts()"
   ]
  },
  {
   "cell_type": "code",
   "execution_count": 66,
   "metadata": {},
   "outputs": [
    {
     "data": {
      "text/plain": [
       "wave\n",
       "4    4525\n",
       "5    6333\n",
       "6    6225\n",
       "Name: mergeid, dtype: int64"
      ]
     },
     "execution_count": 66,
     "metadata": {},
     "output_type": "execute_result"
    }
   ],
   "source": [
    "# Unique individuals\n",
    "w46.groupby(\"wave\").mergeid.nunique()"
   ]
  },
  {
   "cell_type": "markdown",
   "metadata": {},
   "source": [
    "### Choose columns and join datasets"
   ]
  },
  {
   "cell_type": "code",
   "execution_count": 67,
   "metadata": {},
   "outputs": [],
   "source": [
    "w46 = w46[\n",
    "    [\n",
    "        \"mergeid\",\n",
    "        \"wave\",\n",
    "        \"year\",\n",
    "        \"age\",\n",
    "        \"nb_children\",\n",
    "        \"nb_grandchildren\",\n",
    "        \"partnerinhh\",\n",
    "        \"job_status\",\n",
    "        \"industry\",\n",
    "        \"thinc\",\n",
    "        \"thinc2\",\n",
    "        \"investment\",\n",
    "        \"life_insurance\",\n",
    "        \"sphus\",\n",
    "        \"sphus2\",\n",
    "        \"chronic\",\n",
    "        \"chronic2\",\n",
    "        \"eurod\",\n",
    "        \"eurodcat\",\n",
    "        \"affective_suffering\",\n",
    "        \"motivation_lack\",\n",
    "    ]\n",
    "]"
   ]
  },
  {
   "cell_type": "code",
   "execution_count": 68,
   "metadata": {},
   "outputs": [],
   "source": [
    "df = w46.merge(df, on=[\"mergeid\"], how=\"left\")"
   ]
  },
  {
   "cell_type": "markdown",
   "metadata": {},
   "source": [
    "Some missing transformations"
   ]
  },
  {
   "cell_type": "code",
   "execution_count": 69,
   "metadata": {},
   "outputs": [],
   "source": [
    "# Drop extra age columns\n",
    "df = df.drop(columns=[\"age2015\", \"age2017\", \"age2020\"])\n",
    "\n",
    "# Recalculate years of contribution\n",
    "\n",
    "\n",
    "def calculate_contribution(row):\n",
    "    if row[\"year\"] == 2011:\n",
    "        return row[\"yrscontribution2017\"] - 6\n",
    "    elif row[\"year\"] == 2013:\n",
    "        return row[\"yrscontribution2017\"] - 4\n",
    "    else:\n",
    "        return row[\"yrscontribution2017\"] - 2\n",
    "\n",
    "\n",
    "df[\"yrscontribution\"] = df.apply(calculate_contribution, axis=1)\n",
    "df = df.drop(columns=\"yrscontribution2017\")\n",
    "\n",
    "# Change some data types\n",
    "columns_to_convert = [\"partnerinhh\", \"eurod\", \"eurodcat\", \"yrbirth\"]\n",
    "df[columns_to_convert] = df[columns_to_convert].apply(pd.to_numeric, errors=\"coerce\")\n",
    "df.dropna(subset=columns_to_convert, inplace=True)"
   ]
  },
  {
   "cell_type": "markdown",
   "metadata": {},
   "source": [
    "### Set legal retirement ages"
   ]
  },
  {
   "cell_type": "code",
   "execution_count": 70,
   "metadata": {},
   "outputs": [],
   "source": [
    "country_functions_age = {\n",
    "    \"Austria\": austria_age,\n",
    "    \"Belgium\": belgium_age,\n",
    "    \"Czech Republic\": czech_republic_age,\n",
    "    \"Denmark\": denmark_age,\n",
    "    \"Estonia\": estonia_age,\n",
    "    \"France\": france_age,\n",
    "    \"Germany\": germany_age,\n",
    "    \"Italy\": italy_age,\n",
    "    # \"Luxembourg\": luxembourg_age,\n",
    "    # \"Netherlands\": netherlands_age,\n",
    "    # \"Poland\": poland_age,\n",
    "    \"Slovenia\": slovenia_age,\n",
    "    \"Spain\": spain_age,\n",
    "    \"Switzerland\": switzerland_age,\n",
    "}\n",
    "\n",
    "\n",
    "def calculate_retirement_age(row):\n",
    "    country = row[\"country\"]\n",
    "    if country in country_functions_age:\n",
    "        return country_functions_age[country](row)\n",
    "    else:\n",
    "        return None"
   ]
  },
  {
   "cell_type": "code",
   "execution_count": 71,
   "metadata": {},
   "outputs": [],
   "source": [
    "# Apply country-wise functions to calculate legal retirement age\n",
    "df[\"retirement_age\"] = df.apply(calculate_retirement_age, axis=1)\n",
    "\n",
    "# Delete those who are above the retirement age (continue to work longer)\n",
    "df = df[df[\"retirement_age\"] > df[\"age\"]].reset_index(drop=True)"
   ]
  },
  {
   "cell_type": "code",
   "execution_count": 72,
   "metadata": {},
   "outputs": [
    {
     "data": {
      "text/plain": [
       "wave\n",
       "4    3638\n",
       "5    4938\n",
       "6    4424\n",
       "Name: mergeid, dtype: int64"
      ]
     },
     "execution_count": 72,
     "metadata": {},
     "output_type": "execute_result"
    }
   ],
   "source": [
    "# Unique individuals\n",
    "df.groupby(\"wave\").mergeid.nunique()"
   ]
  },
  {
   "cell_type": "markdown",
   "metadata": {},
   "source": [
    "### Calculate resting work horizon and its change due to reforms"
   ]
  },
  {
   "cell_type": "code",
   "execution_count": 73,
   "metadata": {},
   "outputs": [],
   "source": [
    "# Calculate resting work horizon\n",
    "df[\"work_horizon\"] = df[\"retirement_age\"] - df[\"age\"]"
   ]
  },
  {
   "cell_type": "code",
   "execution_count": 74,
   "metadata": {},
   "outputs": [
    {
     "data": {
      "text/plain": [
       "array(['Austria', 'Belgium', 'Czech Republic', 'Switzerland', 'Germany',\n",
       "       'Denmark', 'Estonia', 'Spain', 'France', 'Italy', 'Slovenia'],\n",
       "      dtype=object)"
      ]
     },
     "execution_count": 74,
     "metadata": {},
     "output_type": "execute_result"
    }
   ],
   "source": [
    "df.country.unique()"
   ]
  },
  {
   "cell_type": "code",
   "execution_count": 75,
   "metadata": {},
   "outputs": [],
   "source": [
    "country_functions_change = {\n",
    "    \"Austria\": austria_change1,\n",
    "    \"Belgium\": belgium_change1,\n",
    "    \"Czech Republic\": czech_republic_change1,\n",
    "    \"Denmark\": denmark_change1,\n",
    "    \"Estonia\": estonia_change1,\n",
    "    \"France\": france_change1,\n",
    "    \"Germany\": germany_change1,\n",
    "    \"Italy\": italy_change1,\n",
    "    # \"Luxembourg\": luxembourg_change,\n",
    "    # \"Netherlands\": netherlands_change,\n",
    "    # \"Poland\": poland_change,\n",
    "    \"Slovenia\": slovenia_change1,\n",
    "    \"Spain\": spain_change1,\n",
    "    \"Switzerland\": switzerland_change1,\n",
    "}\n",
    "\n",
    "\n",
    "def calculate_horizon_change(row):\n",
    "    country = row[\"country\"]\n",
    "    if country in country_functions_change:\n",
    "        return country_functions_change[country](row)\n",
    "    else:\n",
    "        return None"
   ]
  },
  {
   "cell_type": "code",
   "execution_count": 76,
   "metadata": {},
   "outputs": [],
   "source": [
    "# Apply country-wise functions to calculate work horizon change due to reforms\n",
    "df[\"work_horizon_change\"] = df.apply(calculate_horizon_change, axis=1)"
   ]
  },
  {
   "cell_type": "markdown",
   "metadata": {},
   "source": [
    "Control for ISCO codes with less than 10 individuals"
   ]
  },
  {
   "cell_type": "markdown",
   "metadata": {},
   "source": [
    "isco = df[\"isco\"].value_counts().to_frame().reset_index()\n",
    "isco = isco[isco[\"count\"] >= 10]\n",
    "df = df[df[\"isco\"].isin(isco[\"isco\"].unique())].reset_index(drop=True)"
   ]
  },
  {
   "cell_type": "markdown",
   "metadata": {},
   "source": [
    "### Final sample"
   ]
  },
  {
   "cell_type": "markdown",
   "metadata": {},
   "source": [
    "Unique individuals by wave"
   ]
  },
  {
   "cell_type": "code",
   "execution_count": 77,
   "metadata": {},
   "outputs": [
    {
     "data": {
      "text/plain": [
       "wave\n",
       "4    3638\n",
       "5    4938\n",
       "6    4424\n",
       "Name: mergeid, dtype: int64"
      ]
     },
     "execution_count": 77,
     "metadata": {},
     "output_type": "execute_result"
    }
   ],
   "source": [
    "df.groupby(\"wave\").mergeid.nunique()"
   ]
  },
  {
   "cell_type": "markdown",
   "metadata": {},
   "source": [
    "Unique individuals by country"
   ]
  },
  {
   "cell_type": "code",
   "execution_count": 78,
   "metadata": {},
   "outputs": [
    {
     "data": {
      "text/plain": [
       "country\n",
       "Austria           396\n",
       "Belgium           832\n",
       "Czech Republic    538\n",
       "Denmark           534\n",
       "Estonia           805\n",
       "France            453\n",
       "Germany           855\n",
       "Italy             642\n",
       "Slovenia          386\n",
       "Spain             794\n",
       "Switzerland       574\n",
       "Name: mergeid, dtype: int64"
      ]
     },
     "execution_count": 78,
     "metadata": {},
     "output_type": "execute_result"
    }
   ],
   "source": [
    "df.groupby(\"country\").mergeid.nunique()"
   ]
  },
  {
   "cell_type": "markdown",
   "metadata": {},
   "source": [
    "Unique individuals total"
   ]
  },
  {
   "cell_type": "code",
   "execution_count": 79,
   "metadata": {},
   "outputs": [
    {
     "data": {
      "text/plain": [
       "6809"
      ]
     },
     "execution_count": 79,
     "metadata": {},
     "output_type": "execute_result"
    }
   ],
   "source": [
    "df.mergeid.nunique()"
   ]
  },
  {
   "cell_type": "markdown",
   "metadata": {},
   "source": [
    "Age, gender, number of children, years of education"
   ]
  },
  {
   "cell_type": "code",
   "execution_count": 80,
   "metadata": {},
   "outputs": [
    {
     "data": {
      "text/html": [
       "<div>\n",
       "<style scoped>\n",
       "    .dataframe tbody tr th:only-of-type {\n",
       "        vertical-align: middle;\n",
       "    }\n",
       "\n",
       "    .dataframe tbody tr th {\n",
       "        vertical-align: top;\n",
       "    }\n",
       "\n",
       "    .dataframe thead th {\n",
       "        text-align: right;\n",
       "    }\n",
       "</style>\n",
       "<table border=\"1\" class=\"dataframe\">\n",
       "  <thead>\n",
       "    <tr style=\"text-align: right;\">\n",
       "      <th></th>\n",
       "      <th>age</th>\n",
       "      <th>gender</th>\n",
       "      <th>nb_children</th>\n",
       "      <th>yrseducation</th>\n",
       "    </tr>\n",
       "  </thead>\n",
       "  <tbody>\n",
       "    <tr>\n",
       "      <th>count</th>\n",
       "      <td>65000.00</td>\n",
       "      <td>65000.00</td>\n",
       "      <td>65000.00</td>\n",
       "      <td>65000.00</td>\n",
       "    </tr>\n",
       "    <tr>\n",
       "      <th>mean</th>\n",
       "      <td>56.44</td>\n",
       "      <td>0.53</td>\n",
       "      <td>1.77</td>\n",
       "      <td>12.59</td>\n",
       "    </tr>\n",
       "    <tr>\n",
       "      <th>std</th>\n",
       "      <td>3.14</td>\n",
       "      <td>0.50</td>\n",
       "      <td>1.27</td>\n",
       "      <td>4.59</td>\n",
       "    </tr>\n",
       "    <tr>\n",
       "      <th>min</th>\n",
       "      <td>50.00</td>\n",
       "      <td>0.00</td>\n",
       "      <td>0.00</td>\n",
       "      <td>0.00</td>\n",
       "    </tr>\n",
       "    <tr>\n",
       "      <th>25%</th>\n",
       "      <td>54.00</td>\n",
       "      <td>0.00</td>\n",
       "      <td>1.00</td>\n",
       "      <td>10.00</td>\n",
       "    </tr>\n",
       "    <tr>\n",
       "      <th>50%</th>\n",
       "      <td>56.00</td>\n",
       "      <td>1.00</td>\n",
       "      <td>2.00</td>\n",
       "      <td>13.00</td>\n",
       "    </tr>\n",
       "    <tr>\n",
       "      <th>75%</th>\n",
       "      <td>59.00</td>\n",
       "      <td>1.00</td>\n",
       "      <td>2.00</td>\n",
       "      <td>15.00</td>\n",
       "    </tr>\n",
       "    <tr>\n",
       "      <th>max</th>\n",
       "      <td>65.00</td>\n",
       "      <td>1.00</td>\n",
       "      <td>11.00</td>\n",
       "      <td>39.00</td>\n",
       "    </tr>\n",
       "  </tbody>\n",
       "</table>\n",
       "</div>"
      ],
      "text/plain": [
       "            age    gender  nb_children  yrseducation\n",
       "count  65000.00  65000.00     65000.00      65000.00\n",
       "mean      56.44      0.53         1.77         12.59\n",
       "std        3.14      0.50         1.27          4.59\n",
       "min       50.00      0.00         0.00          0.00\n",
       "25%       54.00      0.00         1.00         10.00\n",
       "50%       56.00      1.00         2.00         13.00\n",
       "75%       59.00      1.00         2.00         15.00\n",
       "max       65.00      1.00        11.00         39.00"
      ]
     },
     "execution_count": 80,
     "metadata": {},
     "output_type": "execute_result"
    }
   ],
   "source": [
    "round(df[[\"age\", \"gender\", \"nb_children\", \"yrseducation\"]].describe(), 2)"
   ]
  },
  {
   "cell_type": "code",
   "execution_count": 81,
   "metadata": {},
   "outputs": [
    {
     "data": {
      "image/png": "[encoded data removed]",
      "text/plain": [
       "<Figure size 700x500 with 4 Axes>"
      ]
     },
     "metadata": {},
     "output_type": "display_data"
    }
   ],
   "source": [
    "fig, axs = plt.subplots(2, 2, figsize=(7, 5))\n",
    "\n",
    "axs[0, 0].hist(df[\"age\"], bins=30, color=\"skyblue\", alpha=0.7)\n",
    "axs[0, 0].set_title(\"Age\")\n",
    "\n",
    "axs[0, 1].hist(df[\"gender\"], bins=30, color=\"salmon\", alpha=0.7)\n",
    "axs[0, 1].set_title(\"Gender\")\n",
    "\n",
    "axs[1, 0].hist(df[\"nb_children\"], bins=30, color=\"lightgreen\", alpha=0.7)\n",
    "axs[1, 0].set_title(\"Number of children\")\n",
    "\n",
    "axs[1, 1].hist(df[\"yrseducation\"], bins=30, color=\"gold\", alpha=0.7)\n",
    "axs[1, 1].set_title(\"Years of education\")\n",
    "\n",
    "plt.tight_layout()\n",
    "\n",
    "plt.show()"
   ]
  },
  {
   "cell_type": "markdown",
   "metadata": {},
   "source": [
    "Job status"
   ]
  },
  {
   "cell_type": "code",
   "execution_count": 82,
   "metadata": {},
   "outputs": [
    {
     "data": {
      "text/plain": [
       "job_status\n",
       "Private sector employee    0.39\n",
       "Public sector employee     0.23\n",
       "Employee                   0.20\n",
       "Self-employed              0.14\n",
       "Civil servant              0.04\n",
       "Name: proportion, dtype: float64"
      ]
     },
     "execution_count": 82,
     "metadata": {},
     "output_type": "execute_result"
    }
   ],
   "source": [
    "round(df[\"job_status\"].value_counts(normalize=True), 2)"
   ]
  },
  {
   "cell_type": "markdown",
   "metadata": {},
   "source": [
    "Years of contribution, retirement age, work horizon and work horizon change"
   ]
  },
  {
   "cell_type": "code",
   "execution_count": 83,
   "metadata": {},
   "outputs": [
    {
     "data": {
      "text/html": [
       "<div>\n",
       "<style scoped>\n",
       "    .dataframe tbody tr th:only-of-type {\n",
       "        vertical-align: middle;\n",
       "    }\n",
       "\n",
       "    .dataframe tbody tr th {\n",
       "        vertical-align: top;\n",
       "    }\n",
       "\n",
       "    .dataframe thead th {\n",
       "        text-align: right;\n",
       "    }\n",
       "</style>\n",
       "<table border=\"1\" class=\"dataframe\">\n",
       "  <thead>\n",
       "    <tr style=\"text-align: right;\">\n",
       "      <th></th>\n",
       "      <th>yrscontribution</th>\n",
       "      <th>retirement_age</th>\n",
       "      <th>work_horizon</th>\n",
       "      <th>work_horizon_change</th>\n",
       "    </tr>\n",
       "  </thead>\n",
       "  <tbody>\n",
       "    <tr>\n",
       "      <th>count</th>\n",
       "      <td>65000.00</td>\n",
       "      <td>65000.00</td>\n",
       "      <td>65000.00</td>\n",
       "      <td>65000.00</td>\n",
       "    </tr>\n",
       "    <tr>\n",
       "      <th>mean</th>\n",
       "      <td>35.96</td>\n",
       "      <td>63.13</td>\n",
       "      <td>6.69</td>\n",
       "      <td>0.26</td>\n",
       "    </tr>\n",
       "    <tr>\n",
       "      <th>std</th>\n",
       "      <td>6.10</td>\n",
       "      <td>2.11</td>\n",
       "      <td>3.40</td>\n",
       "      <td>0.60</td>\n",
       "    </tr>\n",
       "    <tr>\n",
       "      <th>min</th>\n",
       "      <td>6.00</td>\n",
       "      <td>57.00</td>\n",
       "      <td>0.08</td>\n",
       "      <td>0.00</td>\n",
       "    </tr>\n",
       "    <tr>\n",
       "      <th>25%</th>\n",
       "      <td>33.00</td>\n",
       "      <td>62.00</td>\n",
       "      <td>4.00</td>\n",
       "      <td>0.00</td>\n",
       "    </tr>\n",
       "    <tr>\n",
       "      <th>50%</th>\n",
       "      <td>37.00</td>\n",
       "      <td>63.12</td>\n",
       "      <td>7.00</td>\n",
       "      <td>0.00</td>\n",
       "    </tr>\n",
       "    <tr>\n",
       "      <th>75%</th>\n",
       "      <td>40.00</td>\n",
       "      <td>65.00</td>\n",
       "      <td>9.00</td>\n",
       "      <td>0.08</td>\n",
       "    </tr>\n",
       "    <tr>\n",
       "      <th>max</th>\n",
       "      <td>55.00</td>\n",
       "      <td>68.00</td>\n",
       "      <td>17.00</td>\n",
       "      <td>4.00</td>\n",
       "    </tr>\n",
       "  </tbody>\n",
       "</table>\n",
       "</div>"
      ],
      "text/plain": [
       "       yrscontribution  retirement_age  work_horizon  work_horizon_change\n",
       "count         65000.00        65000.00      65000.00             65000.00\n",
       "mean             35.96           63.13          6.69                 0.26\n",
       "std               6.10            2.11          3.40                 0.60\n",
       "min               6.00           57.00          0.08                 0.00\n",
       "25%              33.00           62.00          4.00                 0.00\n",
       "50%              37.00           63.12          7.00                 0.00\n",
       "75%              40.00           65.00          9.00                 0.08\n",
       "max              55.00           68.00         17.00                 4.00"
      ]
     },
     "execution_count": 83,
     "metadata": {},
     "output_type": "execute_result"
    }
   ],
   "source": [
    "round(\n",
    "    df[\n",
    "        [\"yrscontribution\", \"retirement_age\", \"work_horizon\", \"work_horizon_change\"]\n",
    "    ].describe(),\n",
    "    2,\n",
    ")"
   ]
  },
  {
   "cell_type": "code",
   "execution_count": 84,
   "metadata": {},
   "outputs": [
    {
     "data": {
      "image/png": "[encoded data removed]",
      "text/plain": [
       "<Figure size 700x500 with 4 Axes>"
      ]
     },
     "metadata": {},
     "output_type": "display_data"
    }
   ],
   "source": [
    "fig, axs = plt.subplots(2, 2, figsize=(7, 5))\n",
    "\n",
    "axs[0, 0].hist(df[\"yrscontribution\"], bins=30, color=\"skyblue\", alpha=0.7)\n",
    "axs[0, 0].set_title(\"Years of contribution\")\n",
    "\n",
    "axs[0, 1].hist(df[\"retirement_age\"], bins=30, color=\"salmon\", alpha=0.7)\n",
    "axs[0, 1].set_title(\"Retirement age\")\n",
    "\n",
    "axs[1, 0].hist(df[\"work_horizon\"], bins=30, color=\"lightgreen\", alpha=0.7)\n",
    "axs[1, 0].set_title(\"Work horizon, years\")\n",
    "\n",
    "axs[1, 1].hist(df[\"work_horizon_change\"], bins=30, color=\"gold\", alpha=0.7)\n",
    "axs[1, 1].set_title(\"Work horizon change by reform\")\n",
    "\n",
    "plt.tight_layout()\n",
    "\n",
    "plt.show()"
   ]
  },
  {
   "cell_type": "markdown",
   "metadata": {},
   "source": [
    "EuroD scale (mental health)"
   ]
  },
  {
   "cell_type": "code",
   "execution_count": 85,
   "metadata": {},
   "outputs": [
    {
     "data": {
      "text/plain": [
       "eurodcat\n",
       "0    0.81\n",
       "1    0.19\n",
       "Name: proportion, dtype: float64"
      ]
     },
     "execution_count": 85,
     "metadata": {},
     "output_type": "execute_result"
    }
   ],
   "source": [
    "round(df[\"eurodcat\"].value_counts(normalize=True), 2)"
   ]
  },
  {
   "cell_type": "code",
   "execution_count": 86,
   "metadata": {},
   "outputs": [
    {
     "data": {
      "text/plain": [
       "eurod\n",
       "0.0     17160\n",
       "1.0     15885\n",
       "2.0     11720\n",
       "3.0      8050\n",
       "4.0      5570\n",
       "5.0      3220\n",
       "6.0      1775\n",
       "7.0       915\n",
       "8.0       370\n",
       "9.0       235\n",
       "10.0       70\n",
       "11.0       25\n",
       "12.0        5\n",
       "Name: count, dtype: int64"
      ]
     },
     "execution_count": 86,
     "metadata": {},
     "output_type": "execute_result"
    }
   ],
   "source": [
    "df[\"eurod\"].value_counts()"
   ]
  },
  {
   "cell_type": "code",
   "execution_count": 87,
   "metadata": {},
   "outputs": [
    {
     "data": {
      "image/png": "[encoded data removed]",
      "text/plain": [
       "<Figure size 600x400 with 1 Axes>"
      ]
     },
     "metadata": {},
     "output_type": "display_data"
    }
   ],
   "source": [
    "plt.figure(figsize=(6, 4))\n",
    "plt.hist(df[\"eurod\"], bins=13, color=\"skyblue\", alpha=0.7)\n",
    "plt.title(\"EuroD scale score\")\n",
    "plt.xlabel(\"Values\")\n",
    "plt.ylabel(\"Frequency\")\n",
    "plt.grid(True)\n",
    "plt.show()"
   ]
  },
  {
   "cell_type": "code",
   "execution_count": 88,
   "metadata": {},
   "outputs": [],
   "source": [
    "df.to_csv(\n",
    "    \"/Users/alexandralugova/Documents/GitHub/MH-old-workers/data/datasets/results/data_clean_w456.csv\",\n",
    "    index=False,\n",
    ")"
   ]
  }
 ],
 "metadata": {
  "kernelspec": {
   "display_name": "base",
   "language": "python",
   "name": "python3"
  },
  "language_info": {
   "codemirror_mode": {
    "name": "ipython",
    "version": 3
   },
   "file_extension": ".py",
   "mimetype": "text/x-python",
   "name": "python",
   "nbconvert_exporter": "python",
   "pygments_lexer": "ipython3",
   "version": "3.11.5"
  },
  "orig_nbformat": 4
 },
 "nbformat": 4,
 "nbformat_minor": 2
}
