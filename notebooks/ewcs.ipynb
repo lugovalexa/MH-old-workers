{
 "cells": [
  {
   "cell_type": "markdown",
   "metadata": {},
   "source": [
    "# Add working conditions data from EWCS"
   ]
  },
  {
   "cell_type": "markdown",
   "metadata": {},
   "source": [
    "### Load libraries"
   ]
  },
  {
   "cell_type": "code",
   "execution_count": 1,
   "metadata": {},
   "outputs": [],
   "source": [
    "import pandas as pd\n",
    "import pyreadstat"
   ]
  },
  {
   "cell_type": "markdown",
   "metadata": {},
   "source": [
    "### Load data"
   ]
  },
  {
   "cell_type": "code",
   "execution_count": 2,
   "metadata": {},
   "outputs": [],
   "source": [
    "df, meta = pyreadstat.read_dta(\n",
    "    \"/Users/alexandralugova/Documents/GitHub/MH-old-workers/data/datasets/EWCS 1991-2015 UKDA ISCO.DTA\"\n",
    ")\n",
    "variable_labels = meta.column_labels"
   ]
  },
  {
   "cell_type": "markdown",
   "metadata": {},
   "source": [
    "### Choose only necessary data, tranform where needed"
   ]
  },
  {
   "cell_type": "markdown",
   "metadata": {},
   "source": [
    "Identify and name the aggregated indexes for work conditions"
   ]
  },
  {
   "cell_type": "code",
   "execution_count": null,
   "metadata": {},
   "outputs": [],
   "source": [
    "labels_to_search = [\n",
    "    \"JQI Monthly earnings\",\n",
    "    \"JQI Skills and discretion index\",\n",
    "    \"JQI social environment\",\n",
    "    \"JQI Physical environment index\",\n",
    "    \"JQI Intensity index\",\n",
    "    \"JQI Prospects index\",\n",
    "    \"JQI Working time quality index\",\n",
    "]\n",
    "\n",
    "# Iterate through metadata to find labels and print corresponding variable names\n",
    "for index, label in enumerate(meta.column_labels):\n",
    "    if label in labels_to_search:\n",
    "        print(label, \":\", meta.column_names[index])"
   ]
  },
  {
   "cell_type": "code",
   "execution_count": null,
   "metadata": {},
   "outputs": [],
   "source": [
    "df = df.rename(\n",
    "    columns={\n",
    "        \"adincome_mth\": \"jqi_monthly_earnings\",\n",
    "        \"wq\": \"jqi_skills_discretion\",\n",
    "        \"goodsoc\": \"jqi_social_environment\",\n",
    "        \"envsec\": \"jqi_physical_environment\",\n",
    "        \"intens\": \"jqi_intensity\",\n",
    "        \"prosp\": \"jqi_prospects\",\n",
    "        \"wlb\": \"jqi_working_time_quality\",\n",
    "    }\n",
    ")"
   ]
  },
  {
   "cell_type": "markdown",
   "metadata": {},
   "source": [
    "Choose columns"
   ]
  },
  {
   "cell_type": "code",
   "execution_count": 19,
   "metadata": {},
   "outputs": [],
   "source": [
    "df = df[\n",
    "    [\n",
    "        \"countid\",\n",
    "        \"year\",\n",
    "        \"ISCO_08\",\n",
    "        \"jqi_monthly_earnings\",\n",
    "        \"jqi_skills_discretion\",\n",
    "        \"jqi_social_environment\",\n",
    "        \"jqi_physical_environment\",\n",
    "        \"jqi_intensity\",\n",
    "        \"jqi_prospects\",\n",
    "        \"jqi_working_time_quality\",\n",
    "    ]\n",
    "]"
   ]
  },
  {
   "cell_type": "markdown",
   "metadata": {},
   "source": [
    "Define country names and choose the needed"
   ]
  },
  {
   "cell_type": "code",
   "execution_count": 21,
   "metadata": {},
   "outputs": [
    {
     "name": "stderr",
     "output_type": "stream",
     "text": [
      "/var/folders/ck/3npmnx597nb730qdy5w_6kp00000gn/T/ipykernel_32510/1104417256.py:2: SettingWithCopyWarning: \n",
      "A value is trying to be set on a copy of a slice from a DataFrame.\n",
      "Try using .loc[row_indexer,col_indexer] = value instead\n",
      "\n",
      "See the caveats in the documentation: https://pandas.pydata.org/pandas-docs/stable/user_guide/indexing.html#returning-a-view-versus-a-copy\n",
      "  df['countid'] = df['countid'].map(countid_mapping)\n"
     ]
    }
   ],
   "source": [
    "countid_mapping = meta.value_labels[\"COUNTID\"]\n",
    "df[\"countid\"] = df[\"countid\"].map(countid_mapping)"
   ]
  },
  {
   "cell_type": "code",
   "execution_count": 23,
   "metadata": {},
   "outputs": [],
   "source": [
    "countries = [\n",
    "    \"Austria\",\n",
    "    \"Belgium\",\n",
    "    \"Czech Republic\",\n",
    "    \"Denmark\",\n",
    "    \"Estonia\",\n",
    "    \"France\",\n",
    "    \"Germany\",\n",
    "    \"Italy\",\n",
    "    \"Slovenia\",\n",
    "    \"Spain\",\n",
    "    \"Switzerland\",\n",
    "]\n",
    "df = df[df[\"countid\"].isin(countries)].reset_index(drop=True)"
   ]
  },
  {
   "cell_type": "markdown",
   "metadata": {},
   "source": [
    "Leave only waves 5 and 6 (2010 and 2015)"
   ]
  },
  {
   "cell_type": "code",
   "execution_count": 25,
   "metadata": {},
   "outputs": [],
   "source": [
    "df = df[df.year >= 2010].reset_index(drop=True)"
   ]
  },
  {
   "cell_type": "markdown",
   "metadata": {},
   "source": [
    "Drop lines with missing isco codes"
   ]
  },
  {
   "cell_type": "code",
   "execution_count": 34,
   "metadata": {},
   "outputs": [],
   "source": [
    "df = df.dropna(subset=\"ISCO_08\").reset_index(drop=True)"
   ]
  },
  {
   "cell_type": "markdown",
   "metadata": {},
   "source": [
    "Rename some variables"
   ]
  },
  {
   "cell_type": "code",
   "execution_count": 36,
   "metadata": {},
   "outputs": [],
   "source": [
    "df = df.rename(columns={\"countid\": \"country\", \"ISCO_08\": \"isco\"})"
   ]
  },
  {
   "cell_type": "markdown",
   "metadata": {},
   "source": [
    "Calculate social environment, job intensity, job prospects and working time quality indexes for 2010"
   ]
  },
  {
   "cell_type": "code",
   "execution_count": 37,
   "metadata": {},
   "outputs": [
    {
     "data": {
      "text/html": [
       "<div>\n",
       "<style scoped>\n",
       "    .dataframe tbody tr th:only-of-type {\n",
       "        vertical-align: middle;\n",
       "    }\n",
       "\n",
       "    .dataframe tbody tr th {\n",
       "        vertical-align: top;\n",
       "    }\n",
       "\n",
       "    .dataframe thead th {\n",
       "        text-align: right;\n",
       "    }\n",
       "</style>\n",
       "<table border=\"1\" class=\"dataframe\">\n",
       "  <thead>\n",
       "    <tr style=\"text-align: right;\">\n",
       "      <th></th>\n",
       "      <th>country</th>\n",
       "      <th>year</th>\n",
       "      <th>isco</th>\n",
       "      <th>jqi_monthly_earnings</th>\n",
       "      <th>jqi_skills_discretion</th>\n",
       "      <th>jqi_social_environment</th>\n",
       "      <th>jqi_physical_environment</th>\n",
       "      <th>jqi_intensity</th>\n",
       "      <th>jqi_prospects</th>\n",
       "      <th>jqi_working_time_quality</th>\n",
       "    </tr>\n",
       "  </thead>\n",
       "  <tbody>\n",
       "    <tr>\n",
       "      <th>0</th>\n",
       "      <td>Belgium</td>\n",
       "      <td>2015</td>\n",
       "      <td>8141</td>\n",
       "      <td>1530.153076</td>\n",
       "      <td>8.536879</td>\n",
       "      <td>94.444443</td>\n",
       "      <td>66.666664</td>\n",
       "      <td>31.759258</td>\n",
       "      <td>25.000000</td>\n",
       "      <td>69.12500</td>\n",
       "    </tr>\n",
       "    <tr>\n",
       "      <th>1</th>\n",
       "      <td>Belgium</td>\n",
       "      <td>2015</td>\n",
       "      <td>5141</td>\n",
       "      <td>NaN</td>\n",
       "      <td>64.617447</td>\n",
       "      <td>NaN</td>\n",
       "      <td>91.025642</td>\n",
       "      <td>13.148149</td>\n",
       "      <td>50.000000</td>\n",
       "      <td>84.50000</td>\n",
       "    </tr>\n",
       "    <tr>\n",
       "      <th>2</th>\n",
       "      <td>Belgium</td>\n",
       "      <td>2015</td>\n",
       "      <td>1323</td>\n",
       "      <td>1800.180054</td>\n",
       "      <td>76.372818</td>\n",
       "      <td>NaN</td>\n",
       "      <td>76.923080</td>\n",
       "      <td>27.037039</td>\n",
       "      <td>50.000000</td>\n",
       "      <td>56.31250</td>\n",
       "    </tr>\n",
       "    <tr>\n",
       "      <th>3</th>\n",
       "      <td>Belgium</td>\n",
       "      <td>2015</td>\n",
       "      <td>7115</td>\n",
       "      <td>1575.157593</td>\n",
       "      <td>42.832993</td>\n",
       "      <td>97.916664</td>\n",
       "      <td>98.717949</td>\n",
       "      <td>9.444445</td>\n",
       "      <td>62.500000</td>\n",
       "      <td>86.84375</td>\n",
       "    </tr>\n",
       "    <tr>\n",
       "      <th>4</th>\n",
       "      <td>Belgium</td>\n",
       "      <td>2015</td>\n",
       "      <td>8322</td>\n",
       "      <td>1278.127930</td>\n",
       "      <td>30.789835</td>\n",
       "      <td>74.166664</td>\n",
       "      <td>97.435898</td>\n",
       "      <td>30.833334</td>\n",
       "      <td>41.666664</td>\n",
       "      <td>74.28125</td>\n",
       "    </tr>\n",
       "    <tr>\n",
       "      <th>...</th>\n",
       "      <td>...</td>\n",
       "      <td>...</td>\n",
       "      <td>...</td>\n",
       "      <td>...</td>\n",
       "      <td>...</td>\n",
       "      <td>...</td>\n",
       "      <td>...</td>\n",
       "      <td>...</td>\n",
       "      <td>...</td>\n",
       "      <td>...</td>\n",
       "    </tr>\n",
       "    <tr>\n",
       "      <th>34701</th>\n",
       "      <td>Slovenia</td>\n",
       "      <td>2010</td>\n",
       "      <td>9111</td>\n",
       "      <td>99.932480</td>\n",
       "      <td>41.638947</td>\n",
       "      <td>NaN</td>\n",
       "      <td>84.615387</td>\n",
       "      <td>NaN</td>\n",
       "      <td>NaN</td>\n",
       "      <td>NaN</td>\n",
       "    </tr>\n",
       "    <tr>\n",
       "      <th>34702</th>\n",
       "      <td>Slovenia</td>\n",
       "      <td>2010</td>\n",
       "      <td>5131</td>\n",
       "      <td>624.578003</td>\n",
       "      <td>48.814400</td>\n",
       "      <td>NaN</td>\n",
       "      <td>84.615387</td>\n",
       "      <td>NaN</td>\n",
       "      <td>NaN</td>\n",
       "      <td>NaN</td>\n",
       "    </tr>\n",
       "    <tr>\n",
       "      <th>34703</th>\n",
       "      <td>Slovenia</td>\n",
       "      <td>2010</td>\n",
       "      <td>5141</td>\n",
       "      <td>437.204590</td>\n",
       "      <td>60.634476</td>\n",
       "      <td>NaN</td>\n",
       "      <td>80.769234</td>\n",
       "      <td>NaN</td>\n",
       "      <td>NaN</td>\n",
       "      <td>NaN</td>\n",
       "    </tr>\n",
       "    <tr>\n",
       "      <th>34704</th>\n",
       "      <td>Slovenia</td>\n",
       "      <td>2010</td>\n",
       "      <td>3113</td>\n",
       "      <td>749.493591</td>\n",
       "      <td>89.690376</td>\n",
       "      <td>NaN</td>\n",
       "      <td>97.435898</td>\n",
       "      <td>NaN</td>\n",
       "      <td>NaN</td>\n",
       "      <td>NaN</td>\n",
       "    </tr>\n",
       "    <tr>\n",
       "      <th>34705</th>\n",
       "      <td>Slovenia</td>\n",
       "      <td>2010</td>\n",
       "      <td>2434</td>\n",
       "      <td>1498.987183</td>\n",
       "      <td>75.626358</td>\n",
       "      <td>NaN</td>\n",
       "      <td>74.358971</td>\n",
       "      <td>NaN</td>\n",
       "      <td>NaN</td>\n",
       "      <td>NaN</td>\n",
       "    </tr>\n",
       "  </tbody>\n",
       "</table>\n",
       "<p>34706 rows × 10 columns</p>\n",
       "</div>"
      ],
      "text/plain": [
       "        country  year  isco  jqi_monthly_earnings  jqi_skills_discretion  \\\n",
       "0       Belgium  2015  8141           1530.153076               8.536879   \n",
       "1       Belgium  2015  5141                   NaN              64.617447   \n",
       "2       Belgium  2015  1323           1800.180054              76.372818   \n",
       "3       Belgium  2015  7115           1575.157593              42.832993   \n",
       "4       Belgium  2015  8322           1278.127930              30.789835   \n",
       "...         ...   ...   ...                   ...                    ...   \n",
       "34701  Slovenia  2010  9111             99.932480              41.638947   \n",
       "34702  Slovenia  2010  5131            624.578003              48.814400   \n",
       "34703  Slovenia  2010  5141            437.204590              60.634476   \n",
       "34704  Slovenia  2010  3113            749.493591              89.690376   \n",
       "34705  Slovenia  2010  2434           1498.987183              75.626358   \n",
       "\n",
       "       jqi_social_environment  jqi_physical_environment  jqi_intensity  \\\n",
       "0                   94.444443                 66.666664      31.759258   \n",
       "1                         NaN                 91.025642      13.148149   \n",
       "2                         NaN                 76.923080      27.037039   \n",
       "3                   97.916664                 98.717949       9.444445   \n",
       "4                   74.166664                 97.435898      30.833334   \n",
       "...                       ...                       ...            ...   \n",
       "34701                     NaN                 84.615387            NaN   \n",
       "34702                     NaN                 84.615387            NaN   \n",
       "34703                     NaN                 80.769234            NaN   \n",
       "34704                     NaN                 97.435898            NaN   \n",
       "34705                     NaN                 74.358971            NaN   \n",
       "\n",
       "       jqi_prospects  jqi_working_time_quality  \n",
       "0          25.000000                  69.12500  \n",
       "1          50.000000                  84.50000  \n",
       "2          50.000000                  56.31250  \n",
       "3          62.500000                  86.84375  \n",
       "4          41.666664                  74.28125  \n",
       "...              ...                       ...  \n",
       "34701            NaN                       NaN  \n",
       "34702            NaN                       NaN  \n",
       "34703            NaN                       NaN  \n",
       "34704            NaN                       NaN  \n",
       "34705            NaN                       NaN  \n",
       "\n",
       "[34706 rows x 10 columns]"
      ]
     },
     "execution_count": 37,
     "metadata": {},
     "output_type": "execute_result"
    }
   ],
   "source": [
    "df"
   ]
  },
  {
   "cell_type": "markdown",
   "metadata": {},
   "source": [
    "Aggregate on the level of isco, year and country"
   ]
  },
  {
   "cell_type": "code",
   "execution_count": null,
   "metadata": {},
   "outputs": [],
   "source": []
  }
 ],
 "metadata": {
  "kernelspec": {
   "display_name": "mhold",
   "language": "python",
   "name": "python3"
  },
  "language_info": {
   "codemirror_mode": {
    "name": "ipython",
    "version": 3
   },
   "file_extension": ".py",
   "mimetype": "text/x-python",
   "name": "python",
   "nbconvert_exporter": "python",
   "pygments_lexer": "ipython3",
   "version": "3.11.5"
  }
 },
 "nbformat": 4,
 "nbformat_minor": 2
}
