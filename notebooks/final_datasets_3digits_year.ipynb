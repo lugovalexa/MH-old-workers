{
 "cells": [
  {
   "cell_type": "markdown",
   "metadata": {},
   "source": [
    "## 3 digits - Merging only year wise"
   ]
  },
  {
   "cell_type": "markdown",
   "metadata": {},
   "source": [
    "### Waves 4,5,6"
   ]
  },
  {
   "cell_type": "code",
   "execution_count": 1,
   "metadata": {},
   "outputs": [],
   "source": [
    "import matplotlib.pyplot as plt\n",
    "import pandas as pd"
   ]
  },
  {
   "cell_type": "code",
   "execution_count": 2,
   "metadata": {},
   "outputs": [],
   "source": [
    "df = pd.read_csv(\n",
    "    \"/Users/alexandralugova/Documents/GitHub/MH-old-workers/data/datasets/results/data_clean_w456.csv\"\n",
    ")\n",
    "indexes = pd.read_csv(\n",
    "    \"/Users/alexandralugova/Documents/GitHub/MH-old-workers/data/datasets/results/work_quality_indexes_year.csv\"\n",
    ")"
   ]
  },
  {
   "cell_type": "code",
   "execution_count": 3,
   "metadata": {},
   "outputs": [],
   "source": [
    "def convert_to_3_digits(number):\n",
    "    return int(str(number)[:-1]) if number >= 1000 else number\n",
    "\n",
    "\n",
    "df[\"isco\"] = df[\"isco\"].apply(lambda x: convert_to_3_digits(x))\n",
    "indexes[\"isco\"] = indexes[\"isco\"].apply(lambda x: convert_to_3_digits(x))"
   ]
  },
  {
   "cell_type": "code",
   "execution_count": 4,
   "metadata": {},
   "outputs": [],
   "source": [
    "df = df.merge(indexes, on=[\"year\", \"isco\"], how=\"inner\")"
   ]
  },
  {
   "cell_type": "code",
   "execution_count": 5,
   "metadata": {},
   "outputs": [
    {
     "data": {
      "text/html": [
       "<div>\n",
       "<style scoped>\n",
       "    .dataframe tbody tr th:only-of-type {\n",
       "        vertical-align: middle;\n",
       "    }\n",
       "\n",
       "    .dataframe tbody tr th {\n",
       "        vertical-align: top;\n",
       "    }\n",
       "\n",
       "    .dataframe thead th {\n",
       "        text-align: right;\n",
       "    }\n",
       "</style>\n",
       "<table border=\"1\" class=\"dataframe\">\n",
       "  <thead>\n",
       "    <tr style=\"text-align: right;\">\n",
       "      <th></th>\n",
       "      <th>mergeid</th>\n",
       "      <th>wave</th>\n",
       "      <th>year</th>\n",
       "      <th>age</th>\n",
       "      <th>nb_children</th>\n",
       "      <th>partnerinhh</th>\n",
       "      <th>job_status</th>\n",
       "      <th>eurod</th>\n",
       "      <th>eurodcat</th>\n",
       "      <th>country</th>\n",
       "      <th>...</th>\n",
       "      <th>jqi_working_time_quality</th>\n",
       "      <th>jqi_monthly_earnings_weighted</th>\n",
       "      <th>jqi_skills_discretion_weighted</th>\n",
       "      <th>jqi_social_environment_weighted</th>\n",
       "      <th>jqi_physical_environment_weighted</th>\n",
       "      <th>jqi_intensity_weighted</th>\n",
       "      <th>jqi_prospects_weighted</th>\n",
       "      <th>jqi_working_time_quality_weighted</th>\n",
       "      <th>jqi_sum</th>\n",
       "      <th>jqi_sum_weighted</th>\n",
       "    </tr>\n",
       "  </thead>\n",
       "  <tbody>\n",
       "    <tr>\n",
       "      <th>0</th>\n",
       "      <td>AT-009262-01</td>\n",
       "      <td>4</td>\n",
       "      <td>2011</td>\n",
       "      <td>56.0</td>\n",
       "      <td>1.0</td>\n",
       "      <td>1</td>\n",
       "      <td>Self-employed</td>\n",
       "      <td>1.0</td>\n",
       "      <td>0</td>\n",
       "      <td>Austria</td>\n",
       "      <td>...</td>\n",
       "      <td>76.205645</td>\n",
       "      <td>413.279438</td>\n",
       "      <td>24.372010</td>\n",
       "      <td>37.764297</td>\n",
       "      <td>51.406949</td>\n",
       "      <td>43.653205</td>\n",
       "      <td>28.364955</td>\n",
       "      <td>42.481878</td>\n",
       "      <td>418.133189</td>\n",
       "      <td>226.690947</td>\n",
       "    </tr>\n",
       "    <tr>\n",
       "      <th>1</th>\n",
       "      <td>AT-329641-01</td>\n",
       "      <td>4</td>\n",
       "      <td>2011</td>\n",
       "      <td>55.0</td>\n",
       "      <td>2.0</td>\n",
       "      <td>0</td>\n",
       "      <td>Employee</td>\n",
       "      <td>0.0</td>\n",
       "      <td>0</td>\n",
       "      <td>Austria</td>\n",
       "      <td>...</td>\n",
       "      <td>76.205645</td>\n",
       "      <td>413.279438</td>\n",
       "      <td>24.372010</td>\n",
       "      <td>37.764297</td>\n",
       "      <td>51.406949</td>\n",
       "      <td>43.653205</td>\n",
       "      <td>28.364955</td>\n",
       "      <td>42.481878</td>\n",
       "      <td>418.133189</td>\n",
       "      <td>226.690947</td>\n",
       "    </tr>\n",
       "    <tr>\n",
       "      <th>2</th>\n",
       "      <td>Bf-339845-02</td>\n",
       "      <td>4</td>\n",
       "      <td>2011</td>\n",
       "      <td>50.0</td>\n",
       "      <td>2.0</td>\n",
       "      <td>1</td>\n",
       "      <td>Employee</td>\n",
       "      <td>1.0</td>\n",
       "      <td>0</td>\n",
       "      <td>Belgium</td>\n",
       "      <td>...</td>\n",
       "      <td>76.205645</td>\n",
       "      <td>413.279438</td>\n",
       "      <td>24.372010</td>\n",
       "      <td>37.764297</td>\n",
       "      <td>51.406949</td>\n",
       "      <td>43.653205</td>\n",
       "      <td>28.364955</td>\n",
       "      <td>42.481878</td>\n",
       "      <td>418.133189</td>\n",
       "      <td>226.690947</td>\n",
       "    </tr>\n",
       "    <tr>\n",
       "      <th>3</th>\n",
       "      <td>CZ-564991-01</td>\n",
       "      <td>4</td>\n",
       "      <td>2011</td>\n",
       "      <td>58.0</td>\n",
       "      <td>2.0</td>\n",
       "      <td>0</td>\n",
       "      <td>Self-employed</td>\n",
       "      <td>2.0</td>\n",
       "      <td>0</td>\n",
       "      <td>Czech Republic</td>\n",
       "      <td>...</td>\n",
       "      <td>76.205645</td>\n",
       "      <td>413.279438</td>\n",
       "      <td>24.372010</td>\n",
       "      <td>37.764297</td>\n",
       "      <td>51.406949</td>\n",
       "      <td>43.653205</td>\n",
       "      <td>28.364955</td>\n",
       "      <td>42.481878</td>\n",
       "      <td>418.133189</td>\n",
       "      <td>226.690947</td>\n",
       "    </tr>\n",
       "    <tr>\n",
       "      <th>4</th>\n",
       "      <td>CZ-715731-02</td>\n",
       "      <td>4</td>\n",
       "      <td>2011</td>\n",
       "      <td>54.0</td>\n",
       "      <td>4.0</td>\n",
       "      <td>0</td>\n",
       "      <td>Employee</td>\n",
       "      <td>2.0</td>\n",
       "      <td>0</td>\n",
       "      <td>Czech Republic</td>\n",
       "      <td>...</td>\n",
       "      <td>76.205645</td>\n",
       "      <td>413.279438</td>\n",
       "      <td>24.372010</td>\n",
       "      <td>37.764297</td>\n",
       "      <td>51.406949</td>\n",
       "      <td>43.653205</td>\n",
       "      <td>28.364955</td>\n",
       "      <td>42.481878</td>\n",
       "      <td>418.133189</td>\n",
       "      <td>226.690947</td>\n",
       "    </tr>\n",
       "    <tr>\n",
       "      <th>...</th>\n",
       "      <td>...</td>\n",
       "      <td>...</td>\n",
       "      <td>...</td>\n",
       "      <td>...</td>\n",
       "      <td>...</td>\n",
       "      <td>...</td>\n",
       "      <td>...</td>\n",
       "      <td>...</td>\n",
       "      <td>...</td>\n",
       "      <td>...</td>\n",
       "      <td>...</td>\n",
       "      <td>...</td>\n",
       "      <td>...</td>\n",
       "      <td>...</td>\n",
       "      <td>...</td>\n",
       "      <td>...</td>\n",
       "      <td>...</td>\n",
       "      <td>...</td>\n",
       "      <td>...</td>\n",
       "      <td>...</td>\n",
       "      <td>...</td>\n",
       "    </tr>\n",
       "    <tr>\n",
       "      <th>42070</th>\n",
       "      <td>DE-759103-02</td>\n",
       "      <td>6</td>\n",
       "      <td>2015</td>\n",
       "      <td>56.0</td>\n",
       "      <td>2.0</td>\n",
       "      <td>1</td>\n",
       "      <td>Public sector employee</td>\n",
       "      <td>6.0</td>\n",
       "      <td>1</td>\n",
       "      <td>Germany</td>\n",
       "      <td>...</td>\n",
       "      <td>72.075000</td>\n",
       "      <td>1996.395646</td>\n",
       "      <td>65.640037</td>\n",
       "      <td>48.557938</td>\n",
       "      <td>78.059213</td>\n",
       "      <td>55.676320</td>\n",
       "      <td>82.680343</td>\n",
       "      <td>71.439368</td>\n",
       "      <td>420.018903</td>\n",
       "      <td>208.279058</td>\n",
       "    </tr>\n",
       "    <tr>\n",
       "      <th>42071</th>\n",
       "      <td>DE-832828-01</td>\n",
       "      <td>6</td>\n",
       "      <td>2015</td>\n",
       "      <td>54.0</td>\n",
       "      <td>5.0</td>\n",
       "      <td>1</td>\n",
       "      <td>Public sector employee</td>\n",
       "      <td>1.0</td>\n",
       "      <td>0</td>\n",
       "      <td>Germany</td>\n",
       "      <td>...</td>\n",
       "      <td>86.756944</td>\n",
       "      <td>1188.485159</td>\n",
       "      <td>46.655455</td>\n",
       "      <td>66.435423</td>\n",
       "      <td>68.964447</td>\n",
       "      <td>37.735502</td>\n",
       "      <td>58.011061</td>\n",
       "      <td>68.952177</td>\n",
       "      <td>421.893216</td>\n",
       "      <td>315.930394</td>\n",
       "    </tr>\n",
       "    <tr>\n",
       "      <th>42072</th>\n",
       "      <td>DK-946710-01</td>\n",
       "      <td>6</td>\n",
       "      <td>2015</td>\n",
       "      <td>56.0</td>\n",
       "      <td>3.0</td>\n",
       "      <td>1</td>\n",
       "      <td>Public sector employee</td>\n",
       "      <td>0.0</td>\n",
       "      <td>0</td>\n",
       "      <td>Denmark</td>\n",
       "      <td>...</td>\n",
       "      <td>86.756944</td>\n",
       "      <td>1188.485159</td>\n",
       "      <td>46.655455</td>\n",
       "      <td>66.435423</td>\n",
       "      <td>68.964447</td>\n",
       "      <td>37.735502</td>\n",
       "      <td>58.011061</td>\n",
       "      <td>68.952177</td>\n",
       "      <td>421.893216</td>\n",
       "      <td>315.930394</td>\n",
       "    </tr>\n",
       "    <tr>\n",
       "      <th>42073</th>\n",
       "      <td>EE-170403-01</td>\n",
       "      <td>6</td>\n",
       "      <td>2015</td>\n",
       "      <td>54.0</td>\n",
       "      <td>1.0</td>\n",
       "      <td>0</td>\n",
       "      <td>Private sector employee</td>\n",
       "      <td>0.0</td>\n",
       "      <td>0</td>\n",
       "      <td>Estonia</td>\n",
       "      <td>...</td>\n",
       "      <td>86.756944</td>\n",
       "      <td>1188.485159</td>\n",
       "      <td>46.655455</td>\n",
       "      <td>66.435423</td>\n",
       "      <td>68.964447</td>\n",
       "      <td>37.735502</td>\n",
       "      <td>58.011061</td>\n",
       "      <td>68.952177</td>\n",
       "      <td>421.893216</td>\n",
       "      <td>315.930394</td>\n",
       "    </tr>\n",
       "    <tr>\n",
       "      <th>42074</th>\n",
       "      <td>EE-410037-01</td>\n",
       "      <td>6</td>\n",
       "      <td>2015</td>\n",
       "      <td>62.0</td>\n",
       "      <td>2.0</td>\n",
       "      <td>1</td>\n",
       "      <td>Public sector employee</td>\n",
       "      <td>5.0</td>\n",
       "      <td>1</td>\n",
       "      <td>Estonia</td>\n",
       "      <td>...</td>\n",
       "      <td>68.262500</td>\n",
       "      <td>2255.713254</td>\n",
       "      <td>68.702156</td>\n",
       "      <td>63.395814</td>\n",
       "      <td>79.248063</td>\n",
       "      <td>32.921086</td>\n",
       "      <td>61.382785</td>\n",
       "      <td>57.863807</td>\n",
       "      <td>461.621423</td>\n",
       "      <td>354.454149</td>\n",
       "    </tr>\n",
       "  </tbody>\n",
       "</table>\n",
       "<p>42075 rows × 37 columns</p>\n",
       "</div>"
      ],
      "text/plain": [
       "            mergeid  wave  year   age  nb_children  partnerinhh  \\\n",
       "0      AT-009262-01     4  2011  56.0          1.0            1   \n",
       "1      AT-329641-01     4  2011  55.0          2.0            0   \n",
       "2      Bf-339845-02     4  2011  50.0          2.0            1   \n",
       "3      CZ-564991-01     4  2011  58.0          2.0            0   \n",
       "4      CZ-715731-02     4  2011  54.0          4.0            0   \n",
       "...             ...   ...   ...   ...          ...          ...   \n",
       "42070  DE-759103-02     6  2015  56.0          2.0            1   \n",
       "42071  DE-832828-01     6  2015  54.0          5.0            1   \n",
       "42072  DK-946710-01     6  2015  56.0          3.0            1   \n",
       "42073  EE-170403-01     6  2015  54.0          1.0            0   \n",
       "42074  EE-410037-01     6  2015  62.0          2.0            1   \n",
       "\n",
       "                    job_status  eurod  eurodcat         country  ...  \\\n",
       "0                Self-employed    1.0         0         Austria  ...   \n",
       "1                     Employee    0.0         0         Austria  ...   \n",
       "2                     Employee    1.0         0         Belgium  ...   \n",
       "3                Self-employed    2.0         0  Czech Republic  ...   \n",
       "4                     Employee    2.0         0  Czech Republic  ...   \n",
       "...                        ...    ...       ...             ...  ...   \n",
       "42070   Public sector employee    6.0         1         Germany  ...   \n",
       "42071   Public sector employee    1.0         0         Germany  ...   \n",
       "42072   Public sector employee    0.0         0         Denmark  ...   \n",
       "42073  Private sector employee    0.0         0         Estonia  ...   \n",
       "42074   Public sector employee    5.0         1         Estonia  ...   \n",
       "\n",
       "       jqi_working_time_quality  jqi_monthly_earnings_weighted  \\\n",
       "0                     76.205645                     413.279438   \n",
       "1                     76.205645                     413.279438   \n",
       "2                     76.205645                     413.279438   \n",
       "3                     76.205645                     413.279438   \n",
       "4                     76.205645                     413.279438   \n",
       "...                         ...                            ...   \n",
       "42070                 72.075000                    1996.395646   \n",
       "42071                 86.756944                    1188.485159   \n",
       "42072                 86.756944                    1188.485159   \n",
       "42073                 86.756944                    1188.485159   \n",
       "42074                 68.262500                    2255.713254   \n",
       "\n",
       "       jqi_skills_discretion_weighted  jqi_social_environment_weighted  \\\n",
       "0                           24.372010                        37.764297   \n",
       "1                           24.372010                        37.764297   \n",
       "2                           24.372010                        37.764297   \n",
       "3                           24.372010                        37.764297   \n",
       "4                           24.372010                        37.764297   \n",
       "...                               ...                              ...   \n",
       "42070                       65.640037                        48.557938   \n",
       "42071                       46.655455                        66.435423   \n",
       "42072                       46.655455                        66.435423   \n",
       "42073                       46.655455                        66.435423   \n",
       "42074                       68.702156                        63.395814   \n",
       "\n",
       "       jqi_physical_environment_weighted  jqi_intensity_weighted  \\\n",
       "0                              51.406949               43.653205   \n",
       "1                              51.406949               43.653205   \n",
       "2                              51.406949               43.653205   \n",
       "3                              51.406949               43.653205   \n",
       "4                              51.406949               43.653205   \n",
       "...                                  ...                     ...   \n",
       "42070                          78.059213               55.676320   \n",
       "42071                          68.964447               37.735502   \n",
       "42072                          68.964447               37.735502   \n",
       "42073                          68.964447               37.735502   \n",
       "42074                          79.248063               32.921086   \n",
       "\n",
       "       jqi_prospects_weighted  jqi_working_time_quality_weighted     jqi_sum  \\\n",
       "0                   28.364955                          42.481878  418.133189   \n",
       "1                   28.364955                          42.481878  418.133189   \n",
       "2                   28.364955                          42.481878  418.133189   \n",
       "3                   28.364955                          42.481878  418.133189   \n",
       "4                   28.364955                          42.481878  418.133189   \n",
       "...                       ...                                ...         ...   \n",
       "42070               82.680343                          71.439368  420.018903   \n",
       "42071               58.011061                          68.952177  421.893216   \n",
       "42072               58.011061                          68.952177  421.893216   \n",
       "42073               58.011061                          68.952177  421.893216   \n",
       "42074               61.382785                          57.863807  461.621423   \n",
       "\n",
       "       jqi_sum_weighted  \n",
       "0            226.690947  \n",
       "1            226.690947  \n",
       "2            226.690947  \n",
       "3            226.690947  \n",
       "4            226.690947  \n",
       "...                 ...  \n",
       "42070        208.279058  \n",
       "42071        315.930394  \n",
       "42072        315.930394  \n",
       "42073        315.930394  \n",
       "42074        354.454149  \n",
       "\n",
       "[42075 rows x 37 columns]"
      ]
     },
     "execution_count": 5,
     "metadata": {},
     "output_type": "execute_result"
    }
   ],
   "source": [
    "df"
   ]
  },
  {
   "cell_type": "code",
   "execution_count": 6,
   "metadata": {},
   "outputs": [
    {
     "data": {
      "text/plain": [
       "6772"
      ]
     },
     "execution_count": 6,
     "metadata": {},
     "output_type": "execute_result"
    }
   ],
   "source": [
    "df.mergeid.nunique()"
   ]
  },
  {
   "cell_type": "code",
   "execution_count": 7,
   "metadata": {},
   "outputs": [
    {
     "data": {
      "text/plain": [
       "country\n",
       "Austria           390\n",
       "Belgium           834\n",
       "Czech Republic    533\n",
       "Denmark           525\n",
       "Estonia           805\n",
       "France            451\n",
       "Germany           845\n",
       "Italy             647\n",
       "Slovenia          383\n",
       "Spain             788\n",
       "Switzerland       571\n",
       "Name: mergeid, dtype: int64"
      ]
     },
     "execution_count": 7,
     "metadata": {},
     "output_type": "execute_result"
    }
   ],
   "source": [
    "df.groupby(\"country\").mergeid.nunique()"
   ]
  },
  {
   "cell_type": "code",
   "execution_count": 8,
   "metadata": {},
   "outputs": [
    {
     "data": {
      "text/plain": [
       "year\n",
       "2011    3625\n",
       "2013    4860\n",
       "2015    4387\n",
       "Name: mergeid, dtype: int64"
      ]
     },
     "execution_count": 8,
     "metadata": {},
     "output_type": "execute_result"
    }
   ],
   "source": [
    "df.groupby(\"year\").mergeid.nunique()"
   ]
  },
  {
   "cell_type": "code",
   "execution_count": 9,
   "metadata": {},
   "outputs": [],
   "source": [
    "df.to_csv(\n",
    "    \"/Users/alexandralugova/Documents/GitHub/MH-old-workers/data/datasets/results/3digits_w456_year.csv\",\n",
    "    index=False,\n",
    ")"
   ]
  },
  {
   "cell_type": "markdown",
   "metadata": {},
   "source": [
    "### Some descriptive stats"
   ]
  },
  {
   "cell_type": "code",
   "execution_count": 10,
   "metadata": {},
   "outputs": [
    {
     "data": {
      "text/html": [
       "<div>\n",
       "<style scoped>\n",
       "    .dataframe tbody tr th:only-of-type {\n",
       "        vertical-align: middle;\n",
       "    }\n",
       "\n",
       "    .dataframe tbody tr th {\n",
       "        vertical-align: top;\n",
       "    }\n",
       "\n",
       "    .dataframe thead th {\n",
       "        text-align: right;\n",
       "    }\n",
       "</style>\n",
       "<table border=\"1\" class=\"dataframe\">\n",
       "  <thead>\n",
       "    <tr style=\"text-align: right;\">\n",
       "      <th></th>\n",
       "      <th>age</th>\n",
       "      <th>gender</th>\n",
       "      <th>nb_children</th>\n",
       "      <th>yrseducation</th>\n",
       "    </tr>\n",
       "  </thead>\n",
       "  <tbody>\n",
       "    <tr>\n",
       "      <th>count</th>\n",
       "      <td>42075.00</td>\n",
       "      <td>42075.0</td>\n",
       "      <td>42075.00</td>\n",
       "      <td>42075.00</td>\n",
       "    </tr>\n",
       "    <tr>\n",
       "      <th>mean</th>\n",
       "      <td>56.40</td>\n",
       "      <td>0.5</td>\n",
       "      <td>1.77</td>\n",
       "      <td>12.67</td>\n",
       "    </tr>\n",
       "    <tr>\n",
       "      <th>std</th>\n",
       "      <td>3.12</td>\n",
       "      <td>0.5</td>\n",
       "      <td>1.26</td>\n",
       "      <td>4.54</td>\n",
       "    </tr>\n",
       "    <tr>\n",
       "      <th>min</th>\n",
       "      <td>50.00</td>\n",
       "      <td>0.0</td>\n",
       "      <td>0.00</td>\n",
       "      <td>0.00</td>\n",
       "    </tr>\n",
       "    <tr>\n",
       "      <th>25%</th>\n",
       "      <td>54.00</td>\n",
       "      <td>0.0</td>\n",
       "      <td>1.00</td>\n",
       "      <td>11.00</td>\n",
       "    </tr>\n",
       "    <tr>\n",
       "      <th>50%</th>\n",
       "      <td>56.00</td>\n",
       "      <td>1.0</td>\n",
       "      <td>2.00</td>\n",
       "      <td>13.00</td>\n",
       "    </tr>\n",
       "    <tr>\n",
       "      <th>75%</th>\n",
       "      <td>59.00</td>\n",
       "      <td>1.0</td>\n",
       "      <td>2.00</td>\n",
       "      <td>16.00</td>\n",
       "    </tr>\n",
       "    <tr>\n",
       "      <th>max</th>\n",
       "      <td>65.00</td>\n",
       "      <td>1.0</td>\n",
       "      <td>11.00</td>\n",
       "      <td>39.00</td>\n",
       "    </tr>\n",
       "  </tbody>\n",
       "</table>\n",
       "</div>"
      ],
      "text/plain": [
       "            age   gender  nb_children  yrseducation\n",
       "count  42075.00  42075.0     42075.00      42075.00\n",
       "mean      56.40      0.5         1.77         12.67\n",
       "std        3.12      0.5         1.26          4.54\n",
       "min       50.00      0.0         0.00          0.00\n",
       "25%       54.00      0.0         1.00         11.00\n",
       "50%       56.00      1.0         2.00         13.00\n",
       "75%       59.00      1.0         2.00         16.00\n",
       "max       65.00      1.0        11.00         39.00"
      ]
     },
     "execution_count": 10,
     "metadata": {},
     "output_type": "execute_result"
    }
   ],
   "source": [
    "round(df[[\"age\", \"gender\", \"nb_children\", \"yrseducation\"]].describe(), 2)"
   ]
  },
  {
   "cell_type": "code",
   "execution_count": 11,
   "metadata": {},
   "outputs": [
    {
     "data": {
      "image/png": "[encoded data removed]",
      "text/plain": [
       "<Figure size 700x500 with 4 Axes>"
      ]
     },
     "metadata": {},
     "output_type": "display_data"
    }
   ],
   "source": [
    "fig, axs = plt.subplots(2, 2, figsize=(7, 5))\n",
    "\n",
    "axs[0, 0].hist(df[\"age\"], bins=30, color=\"skyblue\", alpha=0.7)\n",
    "axs[0, 0].set_title(\"Age\")\n",
    "\n",
    "axs[0, 1].hist(df[\"gender\"], bins=30, color=\"salmon\", alpha=0.7)\n",
    "axs[0, 1].set_title(\"Gender\")\n",
    "\n",
    "axs[1, 0].hist(df[\"nb_children\"], bins=30, color=\"lightgreen\", alpha=0.7)\n",
    "axs[1, 0].set_title(\"Number of children\")\n",
    "\n",
    "axs[1, 1].hist(df[\"yrseducation\"], bins=30, color=\"gold\", alpha=0.7)\n",
    "axs[1, 1].set_title(\"Years of education\")\n",
    "\n",
    "plt.tight_layout()\n",
    "\n",
    "plt.show()"
   ]
  },
  {
   "cell_type": "code",
   "execution_count": 12,
   "metadata": {},
   "outputs": [
    {
     "data": {
      "text/plain": [
       "job_status\n",
       "Private sector employee    0.39\n",
       "Public sector employee     0.21\n",
       "Employee                   0.21\n",
       "Self-employed              0.15\n",
       "Civil servant              0.04\n",
       "Name: proportion, dtype: float64"
      ]
     },
     "execution_count": 12,
     "metadata": {},
     "output_type": "execute_result"
    }
   ],
   "source": [
    "round(df[\"job_status\"].value_counts(normalize=True), 2)"
   ]
  },
  {
   "cell_type": "code",
   "execution_count": 13,
   "metadata": {},
   "outputs": [
    {
     "data": {
      "text/html": [
       "<div>\n",
       "<style scoped>\n",
       "    .dataframe tbody tr th:only-of-type {\n",
       "        vertical-align: middle;\n",
       "    }\n",
       "\n",
       "    .dataframe tbody tr th {\n",
       "        vertical-align: top;\n",
       "    }\n",
       "\n",
       "    .dataframe thead th {\n",
       "        text-align: right;\n",
       "    }\n",
       "</style>\n",
       "<table border=\"1\" class=\"dataframe\">\n",
       "  <thead>\n",
       "    <tr style=\"text-align: right;\">\n",
       "      <th></th>\n",
       "      <th>yrscontribution</th>\n",
       "      <th>retirement_age</th>\n",
       "      <th>work_horizon</th>\n",
       "      <th>work_horizon_change</th>\n",
       "    </tr>\n",
       "  </thead>\n",
       "  <tbody>\n",
       "    <tr>\n",
       "      <th>count</th>\n",
       "      <td>42075.00</td>\n",
       "      <td>42075.00</td>\n",
       "      <td>42075.00</td>\n",
       "      <td>42075.00</td>\n",
       "    </tr>\n",
       "    <tr>\n",
       "      <th>mean</th>\n",
       "      <td>35.98</td>\n",
       "      <td>63.12</td>\n",
       "      <td>6.72</td>\n",
       "      <td>0.25</td>\n",
       "    </tr>\n",
       "    <tr>\n",
       "      <th>std</th>\n",
       "      <td>6.03</td>\n",
       "      <td>2.13</td>\n",
       "      <td>3.40</td>\n",
       "      <td>0.60</td>\n",
       "    </tr>\n",
       "    <tr>\n",
       "      <th>min</th>\n",
       "      <td>6.00</td>\n",
       "      <td>57.00</td>\n",
       "      <td>0.08</td>\n",
       "      <td>0.00</td>\n",
       "    </tr>\n",
       "    <tr>\n",
       "      <th>25%</th>\n",
       "      <td>33.00</td>\n",
       "      <td>61.67</td>\n",
       "      <td>4.00</td>\n",
       "      <td>0.00</td>\n",
       "    </tr>\n",
       "    <tr>\n",
       "      <th>50%</th>\n",
       "      <td>37.00</td>\n",
       "      <td>63.50</td>\n",
       "      <td>7.00</td>\n",
       "      <td>0.00</td>\n",
       "    </tr>\n",
       "    <tr>\n",
       "      <th>75%</th>\n",
       "      <td>40.00</td>\n",
       "      <td>65.00</td>\n",
       "      <td>9.00</td>\n",
       "      <td>0.08</td>\n",
       "    </tr>\n",
       "    <tr>\n",
       "      <th>max</th>\n",
       "      <td>55.00</td>\n",
       "      <td>68.00</td>\n",
       "      <td>17.00</td>\n",
       "      <td>4.00</td>\n",
       "    </tr>\n",
       "  </tbody>\n",
       "</table>\n",
       "</div>"
      ],
      "text/plain": [
       "       yrscontribution  retirement_age  work_horizon  work_horizon_change\n",
       "count         42075.00        42075.00      42075.00             42075.00\n",
       "mean             35.98           63.12          6.72                 0.25\n",
       "std               6.03            2.13          3.40                 0.60\n",
       "min               6.00           57.00          0.08                 0.00\n",
       "25%              33.00           61.67          4.00                 0.00\n",
       "50%              37.00           63.50          7.00                 0.00\n",
       "75%              40.00           65.00          9.00                 0.08\n",
       "max              55.00           68.00         17.00                 4.00"
      ]
     },
     "execution_count": 13,
     "metadata": {},
     "output_type": "execute_result"
    }
   ],
   "source": [
    "round(\n",
    "    df[\n",
    "        [\"yrscontribution\", \"retirement_age\", \"work_horizon\", \"work_horizon_change\"]\n",
    "    ].describe(),\n",
    "    2,\n",
    ")"
   ]
  },
  {
   "cell_type": "code",
   "execution_count": 14,
   "metadata": {},
   "outputs": [
    {
     "data": {
      "image/png": "[encoded data removed]",
      "text/plain": [
       "<Figure size 700x500 with 4 Axes>"
      ]
     },
     "metadata": {},
     "output_type": "display_data"
    }
   ],
   "source": [
    "fig, axs = plt.subplots(2, 2, figsize=(7, 5))\n",
    "\n",
    "axs[0, 0].hist(df[\"yrscontribution\"], bins=30, color=\"skyblue\", alpha=0.7)\n",
    "axs[0, 0].set_title(\"Years of contribution\")\n",
    "\n",
    "axs[0, 1].hist(df[\"retirement_age\"], bins=30, color=\"salmon\", alpha=0.7)\n",
    "axs[0, 1].set_title(\"Retirement age\")\n",
    "\n",
    "axs[1, 0].hist(df[\"work_horizon\"], bins=30, color=\"lightgreen\", alpha=0.7)\n",
    "axs[1, 0].set_title(\"Work horizon, years\")\n",
    "\n",
    "axs[1, 1].hist(df[\"work_horizon_change\"], bins=30, color=\"gold\", alpha=0.7)\n",
    "axs[1, 1].set_title(\"Work horizon change by reform\")\n",
    "\n",
    "plt.tight_layout()\n",
    "\n",
    "plt.show()"
   ]
  },
  {
   "cell_type": "code",
   "execution_count": 15,
   "metadata": {},
   "outputs": [
    {
     "data": {
      "text/plain": [
       "eurodcat\n",
       "0    0.82\n",
       "1    0.18\n",
       "Name: proportion, dtype: float64"
      ]
     },
     "execution_count": 15,
     "metadata": {},
     "output_type": "execute_result"
    }
   ],
   "source": [
    "round(df[\"eurodcat\"].value_counts(normalize=True), 2)"
   ]
  },
  {
   "cell_type": "code",
   "execution_count": 16,
   "metadata": {},
   "outputs": [
    {
     "data": {
      "text/plain": [
       "eurod\n",
       "0.0     11337\n",
       "1.0     10374\n",
       "2.0      7583\n",
       "3.0      5130\n",
       "4.0      3450\n",
       "5.0      1990\n",
       "6.0      1134\n",
       "7.0       621\n",
       "8.0       245\n",
       "9.0       148\n",
       "10.0       48\n",
       "11.0       11\n",
       "12.0        4\n",
       "Name: count, dtype: int64"
      ]
     },
     "execution_count": 16,
     "metadata": {},
     "output_type": "execute_result"
    }
   ],
   "source": [
    "df[\"eurod\"].value_counts()"
   ]
  },
  {
   "cell_type": "code",
   "execution_count": 17,
   "metadata": {},
   "outputs": [
    {
     "data": {
      "image/png": "[encoded data removed]",
      "text/plain": [
       "<Figure size 600x400 with 1 Axes>"
      ]
     },
     "metadata": {},
     "output_type": "display_data"
    }
   ],
   "source": [
    "plt.figure(figsize=(6, 4))\n",
    "plt.hist(df[\"eurod\"], bins=13, color=\"skyblue\", alpha=0.7)\n",
    "plt.title(\"EuroD scale score\")\n",
    "plt.xlabel(\"Values\")\n",
    "plt.ylabel(\"Frequency\")\n",
    "plt.grid(True)\n",
    "plt.show()"
   ]
  },
  {
   "cell_type": "code",
   "execution_count": 18,
   "metadata": {},
   "outputs": [
    {
     "data": {
      "text/html": [
       "<div>\n",
       "<style scoped>\n",
       "    .dataframe tbody tr th:only-of-type {\n",
       "        vertical-align: middle;\n",
       "    }\n",
       "\n",
       "    .dataframe tbody tr th {\n",
       "        vertical-align: top;\n",
       "    }\n",
       "\n",
       "    .dataframe thead th {\n",
       "        text-align: right;\n",
       "    }\n",
       "</style>\n",
       "<table border=\"1\" class=\"dataframe\">\n",
       "  <thead>\n",
       "    <tr style=\"text-align: right;\">\n",
       "      <th></th>\n",
       "      <th>jqi_monthly_earnings</th>\n",
       "      <th>jqi_skills_discretion</th>\n",
       "      <th>jqi_social_environment</th>\n",
       "      <th>jqi_physical_environment</th>\n",
       "      <th>jqi_intensity</th>\n",
       "      <th>jqi_prospects</th>\n",
       "      <th>jqi_working_time_quality</th>\n",
       "    </tr>\n",
       "  </thead>\n",
       "  <tbody>\n",
       "    <tr>\n",
       "      <th>count</th>\n",
       "      <td>42075.00</td>\n",
       "      <td>42075.00</td>\n",
       "      <td>42075.00</td>\n",
       "      <td>42075.00</td>\n",
       "      <td>42075.00</td>\n",
       "      <td>42075.00</td>\n",
       "      <td>42075.00</td>\n",
       "    </tr>\n",
       "    <tr>\n",
       "      <th>mean</th>\n",
       "      <td>1599.82</td>\n",
       "      <td>59.79</td>\n",
       "      <td>80.79</td>\n",
       "      <td>84.18</td>\n",
       "      <td>51.03</td>\n",
       "      <td>60.13</td>\n",
       "      <td>86.77</td>\n",
       "    </tr>\n",
       "    <tr>\n",
       "      <th>std</th>\n",
       "      <td>488.93</td>\n",
       "      <td>13.59</td>\n",
       "      <td>4.69</td>\n",
       "      <td>8.99</td>\n",
       "      <td>6.97</td>\n",
       "      <td>9.09</td>\n",
       "      <td>9.22</td>\n",
       "    </tr>\n",
       "    <tr>\n",
       "      <th>min</th>\n",
       "      <td>419.13</td>\n",
       "      <td>5.41</td>\n",
       "      <td>40.91</td>\n",
       "      <td>42.82</td>\n",
       "      <td>20.16</td>\n",
       "      <td>12.50</td>\n",
       "      <td>36.44</td>\n",
       "    </tr>\n",
       "    <tr>\n",
       "      <th>25%</th>\n",
       "      <td>1272.93</td>\n",
       "      <td>49.25</td>\n",
       "      <td>78.47</td>\n",
       "      <td>78.21</td>\n",
       "      <td>46.74</td>\n",
       "      <td>54.33</td>\n",
       "      <td>82.61</td>\n",
       "    </tr>\n",
       "    <tr>\n",
       "      <th>50%</th>\n",
       "      <td>1537.07</td>\n",
       "      <td>59.84</td>\n",
       "      <td>81.03</td>\n",
       "      <td>87.17</td>\n",
       "      <td>50.53</td>\n",
       "      <td>60.89</td>\n",
       "      <td>88.95</td>\n",
       "    </tr>\n",
       "    <tr>\n",
       "      <th>75%</th>\n",
       "      <td>1836.61</td>\n",
       "      <td>70.84</td>\n",
       "      <td>83.32</td>\n",
       "      <td>91.43</td>\n",
       "      <td>55.09</td>\n",
       "      <td>66.08</td>\n",
       "      <td>93.28</td>\n",
       "    </tr>\n",
       "    <tr>\n",
       "      <th>max</th>\n",
       "      <td>6766.63</td>\n",
       "      <td>89.61</td>\n",
       "      <td>100.00</td>\n",
       "      <td>98.90</td>\n",
       "      <td>76.74</td>\n",
       "      <td>87.50</td>\n",
       "      <td>100.00</td>\n",
       "    </tr>\n",
       "  </tbody>\n",
       "</table>\n",
       "</div>"
      ],
      "text/plain": [
       "       jqi_monthly_earnings  jqi_skills_discretion  jqi_social_environment  \\\n",
       "count              42075.00               42075.00                42075.00   \n",
       "mean                1599.82                  59.79                   80.79   \n",
       "std                  488.93                  13.59                    4.69   \n",
       "min                  419.13                   5.41                   40.91   \n",
       "25%                 1272.93                  49.25                   78.47   \n",
       "50%                 1537.07                  59.84                   81.03   \n",
       "75%                 1836.61                  70.84                   83.32   \n",
       "max                 6766.63                  89.61                  100.00   \n",
       "\n",
       "       jqi_physical_environment  jqi_intensity  jqi_prospects  \\\n",
       "count                  42075.00       42075.00       42075.00   \n",
       "mean                      84.18          51.03          60.13   \n",
       "std                        8.99           6.97           9.09   \n",
       "min                       42.82          20.16          12.50   \n",
       "25%                       78.21          46.74          54.33   \n",
       "50%                       87.17          50.53          60.89   \n",
       "75%                       91.43          55.09          66.08   \n",
       "max                       98.90          76.74          87.50   \n",
       "\n",
       "       jqi_working_time_quality  \n",
       "count                  42075.00  \n",
       "mean                      86.77  \n",
       "std                        9.22  \n",
       "min                       36.44  \n",
       "25%                       82.61  \n",
       "50%                       88.95  \n",
       "75%                       93.28  \n",
       "max                      100.00  "
      ]
     },
     "execution_count": 18,
     "metadata": {},
     "output_type": "execute_result"
    }
   ],
   "source": [
    "round(\n",
    "    df[\n",
    "        [\n",
    "            \"jqi_monthly_earnings\",\n",
    "            \"jqi_skills_discretion\",\n",
    "            \"jqi_social_environment\",\n",
    "            \"jqi_physical_environment\",\n",
    "            \"jqi_intensity\",\n",
    "            \"jqi_prospects\",\n",
    "            \"jqi_working_time_quality\",\n",
    "        ]\n",
    "    ].describe(),\n",
    "    2,\n",
    ")"
   ]
  },
  {
   "cell_type": "markdown",
   "metadata": {},
   "source": [
    "### Waves 4,5,6 common individuals"
   ]
  },
  {
   "cell_type": "code",
   "execution_count": 19,
   "metadata": {},
   "outputs": [
    {
     "data": {
      "text/plain": [
       "6772"
      ]
     },
     "execution_count": 19,
     "metadata": {},
     "output_type": "execute_result"
    }
   ],
   "source": [
    "df.mergeid.nunique()"
   ]
  },
  {
   "cell_type": "code",
   "execution_count": 20,
   "metadata": {},
   "outputs": [
    {
     "data": {
      "text/plain": [
       "1730"
      ]
     },
     "execution_count": 20,
     "metadata": {},
     "output_type": "execute_result"
    }
   ],
   "source": [
    "unique_mergeid_w4 = set(df[df.wave == 4][\"mergeid\"].unique())\n",
    "unique_mergeid_w5 = set(df[df.wave == 5][\"mergeid\"].unique())\n",
    "unique_mergeid_w6 = set(df[df.wave == 6][\"mergeid\"].unique())\n",
    "intersection_ids = unique_mergeid_w4.intersection(unique_mergeid_w5).intersection(\n",
    "    unique_mergeid_w6\n",
    ")\n",
    "len(intersection_ids)"
   ]
  },
  {
   "cell_type": "code",
   "execution_count": 21,
   "metadata": {},
   "outputs": [],
   "source": [
    "w456_common = df[df[\"mergeid\"].isin(intersection_ids)].reset_index(drop=True)"
   ]
  },
  {
   "cell_type": "markdown",
   "metadata": {},
   "source": [
    "isco = w456_common[\"isco\"].value_counts().to_frame().reset_index()\n",
    "isco = isco[isco[\"count\"] >= 10]\n",
    "w456_common = w456_common[w456_common[\"isco\"].isin(isco[\"isco\"].unique())].reset_index(\n",
    "    drop=True\n",
    ")"
   ]
  },
  {
   "cell_type": "code",
   "execution_count": 22,
   "metadata": {},
   "outputs": [
    {
     "data": {
      "text/plain": [
       "country\n",
       "Austria           130\n",
       "Belgium           240\n",
       "Czech Republic    129\n",
       "Denmark           154\n",
       "Estonia           283\n",
       "France            163\n",
       "Germany            27\n",
       "Italy             112\n",
       "Slovenia           80\n",
       "Spain             110\n",
       "Switzerland       302\n",
       "Name: mergeid, dtype: int64"
      ]
     },
     "execution_count": 22,
     "metadata": {},
     "output_type": "execute_result"
    }
   ],
   "source": [
    "w456_common.groupby(\"country\").mergeid.nunique()"
   ]
  },
  {
   "cell_type": "code",
   "execution_count": 23,
   "metadata": {},
   "outputs": [],
   "source": [
    "# Delete Germany as too few individuals\n",
    "w456_common = w456_common[w456_common.country != \"Germany\"].reset_index(drop=True)"
   ]
  },
  {
   "cell_type": "code",
   "execution_count": 24,
   "metadata": {},
   "outputs": [],
   "source": [
    "w456_common.to_csv(\n",
    "    \"/Users/alexandralugova/Documents/GitHub/MH-old-workers/data/datasets/results/3digits_w456_year_common.csv\",\n",
    "    index=False,\n",
    ")"
   ]
  },
  {
   "cell_type": "markdown",
   "metadata": {},
   "source": [
    "### Waves 4 and 6"
   ]
  },
  {
   "cell_type": "code",
   "execution_count": 25,
   "metadata": {},
   "outputs": [],
   "source": [
    "result = (\n",
    "    df[df[\"year\"].isin([2013, 2015])]\n",
    "    .groupby(\"mergeid\")[\"work_horizon_change\"]\n",
    "    .sum()\n",
    "    .reset_index()\n",
    ")\n",
    "result[\"year\"] = 2015\n",
    "\n",
    "df = df.drop(columns=\"work_horizon_change\")\n",
    "df = df.merge(result, on=[\"mergeid\", \"year\"], how=\"left\")\n",
    "\n",
    "df[\"work_horizon_change\"] = df[\"work_horizon_change\"].fillna(0)"
   ]
  },
  {
   "cell_type": "code",
   "execution_count": 26,
   "metadata": {},
   "outputs": [],
   "source": [
    "w46 = df[(df.wave == 4) | (df.wave == 6)].reset_index(drop=True)"
   ]
  },
  {
   "cell_type": "code",
   "execution_count": 27,
   "metadata": {},
   "outputs": [
    {
     "data": {
      "text/plain": [
       "6007"
      ]
     },
     "execution_count": 27,
     "metadata": {},
     "output_type": "execute_result"
    }
   ],
   "source": [
    "w46.mergeid.nunique()"
   ]
  },
  {
   "cell_type": "code",
   "execution_count": 28,
   "metadata": {},
   "outputs": [
    {
     "data": {
      "text/plain": [
       "country\n",
       "Austria           373\n",
       "Belgium           750\n",
       "Czech Republic    464\n",
       "Denmark           470\n",
       "Estonia           763\n",
       "France            432\n",
       "Germany           662\n",
       "Italy             560\n",
       "Slovenia          355\n",
       "Spain             618\n",
       "Switzerland       560\n",
       "Name: mergeid, dtype: int64"
      ]
     },
     "execution_count": 28,
     "metadata": {},
     "output_type": "execute_result"
    }
   ],
   "source": [
    "w46.groupby(\"country\").mergeid.nunique()"
   ]
  },
  {
   "cell_type": "code",
   "execution_count": 29,
   "metadata": {},
   "outputs": [
    {
     "data": {
      "text/plain": [
       "wave\n",
       "4    3625\n",
       "6    4387\n",
       "Name: mergeid, dtype: int64"
      ]
     },
     "execution_count": 29,
     "metadata": {},
     "output_type": "execute_result"
    }
   ],
   "source": [
    "w46.groupby(\"wave\").mergeid.nunique()"
   ]
  },
  {
   "cell_type": "code",
   "execution_count": 30,
   "metadata": {},
   "outputs": [],
   "source": [
    "w46.to_csv(\n",
    "    \"/Users/alexandralugova/Documents/GitHub/MH-old-workers/data/datasets/results/3digits_w46_year.csv\",\n",
    "    index=False,\n",
    ")"
   ]
  },
  {
   "cell_type": "markdown",
   "metadata": {},
   "source": [
    "### Waves 4 and 6 common individuals"
   ]
  },
  {
   "cell_type": "code",
   "execution_count": 31,
   "metadata": {},
   "outputs": [
    {
     "data": {
      "text/plain": [
       "2005"
      ]
     },
     "execution_count": 31,
     "metadata": {},
     "output_type": "execute_result"
    }
   ],
   "source": [
    "unique_mergeid_w4 = set(w46[w46.wave == 4][\"mergeid\"].unique())\n",
    "unique_mergeid_w6 = set(w46[w46.wave == 6][\"mergeid\"].unique())\n",
    "intersection_ids = unique_mergeid_w4.intersection(unique_mergeid_w6)\n",
    "len(intersection_ids)"
   ]
  },
  {
   "cell_type": "code",
   "execution_count": 32,
   "metadata": {},
   "outputs": [],
   "source": [
    "w46_common = w46[w46[\"mergeid\"].isin(intersection_ids)].reset_index(drop=True)"
   ]
  },
  {
   "cell_type": "code",
   "execution_count": 33,
   "metadata": {},
   "outputs": [
    {
     "data": {
      "text/plain": [
       "country\n",
       "Austria           153\n",
       "Belgium           285\n",
       "Czech Republic    160\n",
       "Denmark           165\n",
       "Estonia           325\n",
       "France            185\n",
       "Germany            30\n",
       "Italy             139\n",
       "Slovenia           98\n",
       "Spain             128\n",
       "Switzerland       337\n",
       "Name: mergeid, dtype: int64"
      ]
     },
     "execution_count": 33,
     "metadata": {},
     "output_type": "execute_result"
    }
   ],
   "source": [
    "w46_common.groupby(\"country\").mergeid.nunique()"
   ]
  },
  {
   "cell_type": "code",
   "execution_count": 34,
   "metadata": {},
   "outputs": [],
   "source": [
    "# Delete Germany as too few individuals\n",
    "w456_common = w456_common[w456_common.country != \"Germany\"].reset_index(drop=True)"
   ]
  },
  {
   "cell_type": "code",
   "execution_count": 35,
   "metadata": {},
   "outputs": [],
   "source": [
    "w46_common.to_csv(\n",
    "    \"/Users/alexandralugova/Documents/GitHub/MH-old-workers/data/datasets/results/3digits_w46_year_common.csv\",\n",
    "    index=False,\n",
    ")"
   ]
  }
 ],
 "metadata": {
  "kernelspec": {
   "display_name": "mhold",
   "language": "python",
   "name": "python3"
  },
  "language_info": {
   "codemirror_mode": {
    "name": "ipython",
    "version": 3
   },
   "file_extension": ".py",
   "mimetype": "text/x-python",
   "name": "python",
   "nbconvert_exporter": "python",
   "pygments_lexer": "ipython3",
   "version": "3.11.5"
  }
 },
 "nbformat": 4,
 "nbformat_minor": 2
}
