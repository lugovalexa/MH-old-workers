{
 "cells": [
  {
   "cell_type": "markdown",
   "metadata": {},
   "source": [
    "## 3 digits - Merging only year wise"
   ]
  },
  {
   "cell_type": "markdown",
   "metadata": {},
   "source": [
    "### Waves 4,5,6"
   ]
  },
  {
   "cell_type": "code",
   "execution_count": 1,
   "metadata": {},
   "outputs": [],
   "source": [
    "import matplotlib.pyplot as plt\n",
    "import pandas as pd"
   ]
  },
  {
   "cell_type": "code",
   "execution_count": 2,
   "metadata": {},
   "outputs": [],
   "source": [
    "df = pd.read_csv(\n",
    "    \"/Users/alexandralugova/Documents/GitHub/MH-old-workers/data/datasets/results/data_clean_w456.csv\"\n",
    ")\n",
    "indexes = pd.read_csv(\n",
    "    \"/Users/alexandralugova/Documents/GitHub/MH-old-workers/data/datasets/results/work_quality_indexes_year.csv\"\n",
    ")"
   ]
  },
  {
   "cell_type": "code",
   "execution_count": 3,
   "metadata": {},
   "outputs": [],
   "source": [
    "def convert_to_3_digits(number):\n",
    "    return int(str(number)[:-1]) if number >= 1000 else number\n",
    "\n",
    "\n",
    "df[\"isco\"] = df[\"isco\"].apply(lambda x: convert_to_3_digits(x))\n",
    "indexes[\"isco\"] = indexes[\"isco\"].apply(lambda x: convert_to_3_digits(x))"
   ]
  },
  {
   "cell_type": "code",
   "execution_count": 4,
   "metadata": {},
   "outputs": [],
   "source": [
    "df = df.merge(indexes, on=[\"year\", \"isco\"], how=\"inner\")"
   ]
  },
  {
   "cell_type": "code",
   "execution_count": 5,
   "metadata": {},
   "outputs": [
    {
     "data": {
      "text/html": [
       "<div>\n",
       "<style scoped>\n",
       "    .dataframe tbody tr th:only-of-type {\n",
       "        vertical-align: middle;\n",
       "    }\n",
       "\n",
       "    .dataframe tbody tr th {\n",
       "        vertical-align: top;\n",
       "    }\n",
       "\n",
       "    .dataframe thead th {\n",
       "        text-align: right;\n",
       "    }\n",
       "</style>\n",
       "<table border=\"1\" class=\"dataframe\">\n",
       "  <thead>\n",
       "    <tr style=\"text-align: right;\">\n",
       "      <th></th>\n",
       "      <th>mergeid</th>\n",
       "      <th>wave</th>\n",
       "      <th>year</th>\n",
       "      <th>age</th>\n",
       "      <th>nb_children</th>\n",
       "      <th>partnerinhh</th>\n",
       "      <th>job_status</th>\n",
       "      <th>eurod</th>\n",
       "      <th>eurodcat</th>\n",
       "      <th>country</th>\n",
       "      <th>...</th>\n",
       "      <th>jqi_intensity</th>\n",
       "      <th>jqi_prospects</th>\n",
       "      <th>jqi_working_time_quality</th>\n",
       "      <th>jqi_monthly_earnings_weighted</th>\n",
       "      <th>jqi_skills_discretion_weighted</th>\n",
       "      <th>jqi_social_environment_weighted</th>\n",
       "      <th>jqi_physical_environment_weighted</th>\n",
       "      <th>jqi_intensity_weighted</th>\n",
       "      <th>jqi_prospects_weighted</th>\n",
       "      <th>jqi_working_time_quality_weighted</th>\n",
       "    </tr>\n",
       "  </thead>\n",
       "  <tbody>\n",
       "    <tr>\n",
       "      <th>0</th>\n",
       "      <td>AT-009262-01</td>\n",
       "      <td>4</td>\n",
       "      <td>2011</td>\n",
       "      <td>56.0</td>\n",
       "      <td>1.0</td>\n",
       "      <td>1</td>\n",
       "      <td>Self-employed</td>\n",
       "      <td>1.0</td>\n",
       "      <td>0</td>\n",
       "      <td>Austria</td>\n",
       "      <td>...</td>\n",
       "      <td>60.077519</td>\n",
       "      <td>53.703704</td>\n",
       "      <td>76.205645</td>\n",
       "      <td>413.279438</td>\n",
       "      <td>24.372010</td>\n",
       "      <td>37.764297</td>\n",
       "      <td>51.406949</td>\n",
       "      <td>40.900921</td>\n",
       "      <td>30.425927</td>\n",
       "      <td>42.481878</td>\n",
       "    </tr>\n",
       "    <tr>\n",
       "      <th>1</th>\n",
       "      <td>AT-009262-01</td>\n",
       "      <td>4</td>\n",
       "      <td>2011</td>\n",
       "      <td>56.0</td>\n",
       "      <td>1.0</td>\n",
       "      <td>1</td>\n",
       "      <td>Self-employed</td>\n",
       "      <td>1.0</td>\n",
       "      <td>0</td>\n",
       "      <td>Austria</td>\n",
       "      <td>...</td>\n",
       "      <td>48.837209</td>\n",
       "      <td>37.500000</td>\n",
       "      <td>59.541667</td>\n",
       "      <td>1789.430476</td>\n",
       "      <td>76.103647</td>\n",
       "      <td>148.970011</td>\n",
       "      <td>102.636814</td>\n",
       "      <td>96.531183</td>\n",
       "      <td>59.227061</td>\n",
       "      <td>81.124759</td>\n",
       "    </tr>\n",
       "    <tr>\n",
       "      <th>2</th>\n",
       "      <td>AT-329641-01</td>\n",
       "      <td>4</td>\n",
       "      <td>2011</td>\n",
       "      <td>55.0</td>\n",
       "      <td>2.0</td>\n",
       "      <td>0</td>\n",
       "      <td>Employee</td>\n",
       "      <td>0.0</td>\n",
       "      <td>0</td>\n",
       "      <td>Austria</td>\n",
       "      <td>...</td>\n",
       "      <td>60.077519</td>\n",
       "      <td>53.703704</td>\n",
       "      <td>76.205645</td>\n",
       "      <td>413.279438</td>\n",
       "      <td>24.372010</td>\n",
       "      <td>37.764297</td>\n",
       "      <td>51.406949</td>\n",
       "      <td>40.900921</td>\n",
       "      <td>30.425927</td>\n",
       "      <td>42.481878</td>\n",
       "    </tr>\n",
       "    <tr>\n",
       "      <th>3</th>\n",
       "      <td>AT-329641-01</td>\n",
       "      <td>4</td>\n",
       "      <td>2011</td>\n",
       "      <td>55.0</td>\n",
       "      <td>2.0</td>\n",
       "      <td>0</td>\n",
       "      <td>Employee</td>\n",
       "      <td>0.0</td>\n",
       "      <td>0</td>\n",
       "      <td>Austria</td>\n",
       "      <td>...</td>\n",
       "      <td>48.837209</td>\n",
       "      <td>37.500000</td>\n",
       "      <td>59.541667</td>\n",
       "      <td>1789.430476</td>\n",
       "      <td>76.103647</td>\n",
       "      <td>148.970011</td>\n",
       "      <td>102.636814</td>\n",
       "      <td>96.531183</td>\n",
       "      <td>59.227061</td>\n",
       "      <td>81.124759</td>\n",
       "    </tr>\n",
       "    <tr>\n",
       "      <th>4</th>\n",
       "      <td>Bf-339845-02</td>\n",
       "      <td>4</td>\n",
       "      <td>2011</td>\n",
       "      <td>50.0</td>\n",
       "      <td>2.0</td>\n",
       "      <td>1</td>\n",
       "      <td>Employee</td>\n",
       "      <td>1.0</td>\n",
       "      <td>0</td>\n",
       "      <td>Belgium</td>\n",
       "      <td>...</td>\n",
       "      <td>60.077519</td>\n",
       "      <td>53.703704</td>\n",
       "      <td>76.205645</td>\n",
       "      <td>413.279438</td>\n",
       "      <td>24.372010</td>\n",
       "      <td>37.764297</td>\n",
       "      <td>51.406949</td>\n",
       "      <td>40.900921</td>\n",
       "      <td>30.425927</td>\n",
       "      <td>42.481878</td>\n",
       "    </tr>\n",
       "    <tr>\n",
       "      <th>...</th>\n",
       "      <td>...</td>\n",
       "      <td>...</td>\n",
       "      <td>...</td>\n",
       "      <td>...</td>\n",
       "      <td>...</td>\n",
       "      <td>...</td>\n",
       "      <td>...</td>\n",
       "      <td>...</td>\n",
       "      <td>...</td>\n",
       "      <td>...</td>\n",
       "      <td>...</td>\n",
       "      <td>...</td>\n",
       "      <td>...</td>\n",
       "      <td>...</td>\n",
       "      <td>...</td>\n",
       "      <td>...</td>\n",
       "      <td>...</td>\n",
       "      <td>...</td>\n",
       "      <td>...</td>\n",
       "      <td>...</td>\n",
       "      <td>...</td>\n",
       "    </tr>\n",
       "    <tr>\n",
       "      <th>44241</th>\n",
       "      <td>EE-170403-01</td>\n",
       "      <td>6</td>\n",
       "      <td>2015</td>\n",
       "      <td>54.0</td>\n",
       "      <td>1.0</td>\n",
       "      <td>0</td>\n",
       "      <td>Private sector employee</td>\n",
       "      <td>0.0</td>\n",
       "      <td>0</td>\n",
       "      <td>Estonia</td>\n",
       "      <td>...</td>\n",
       "      <td>50.830565</td>\n",
       "      <td>30.208333</td>\n",
       "      <td>86.756944</td>\n",
       "      <td>1188.485159</td>\n",
       "      <td>46.655455</td>\n",
       "      <td>66.435423</td>\n",
       "      <td>68.964447</td>\n",
       "      <td>37.735502</td>\n",
       "      <td>22.544482</td>\n",
       "      <td>68.952177</td>\n",
       "    </tr>\n",
       "    <tr>\n",
       "      <th>44242</th>\n",
       "      <td>EE-410037-01</td>\n",
       "      <td>6</td>\n",
       "      <td>2015</td>\n",
       "      <td>62.0</td>\n",
       "      <td>2.0</td>\n",
       "      <td>1</td>\n",
       "      <td>Public sector employee</td>\n",
       "      <td>5.0</td>\n",
       "      <td>1</td>\n",
       "      <td>Estonia</td>\n",
       "      <td>...</td>\n",
       "      <td>42.894057</td>\n",
       "      <td>23.076923</td>\n",
       "      <td>68.262500</td>\n",
       "      <td>2255.713254</td>\n",
       "      <td>68.702156</td>\n",
       "      <td>63.395814</td>\n",
       "      <td>79.248063</td>\n",
       "      <td>32.921086</td>\n",
       "      <td>21.586462</td>\n",
       "      <td>57.863807</td>\n",
       "    </tr>\n",
       "    <tr>\n",
       "      <th>44243</th>\n",
       "      <td>Eg-779978-01</td>\n",
       "      <td>6</td>\n",
       "      <td>2015</td>\n",
       "      <td>65.0</td>\n",
       "      <td>2.0</td>\n",
       "      <td>1</td>\n",
       "      <td>Self-employed</td>\n",
       "      <td>2.0</td>\n",
       "      <td>0</td>\n",
       "      <td>Spain</td>\n",
       "      <td>...</td>\n",
       "      <td>39.534884</td>\n",
       "      <td>52.500000</td>\n",
       "      <td>83.522727</td>\n",
       "      <td>427.980431</td>\n",
       "      <td>39.839088</td>\n",
       "      <td>68.733981</td>\n",
       "      <td>66.353840</td>\n",
       "      <td>20.233882</td>\n",
       "      <td>30.892829</td>\n",
       "      <td>66.585815</td>\n",
       "    </tr>\n",
       "    <tr>\n",
       "      <th>44244</th>\n",
       "      <td>SI-429879-01</td>\n",
       "      <td>6</td>\n",
       "      <td>2015</td>\n",
       "      <td>57.0</td>\n",
       "      <td>2.0</td>\n",
       "      <td>1</td>\n",
       "      <td>Private sector employee</td>\n",
       "      <td>3.0</td>\n",
       "      <td>0</td>\n",
       "      <td>Slovenia</td>\n",
       "      <td>...</td>\n",
       "      <td>39.534884</td>\n",
       "      <td>52.500000</td>\n",
       "      <td>83.522727</td>\n",
       "      <td>427.980431</td>\n",
       "      <td>39.839088</td>\n",
       "      <td>68.733981</td>\n",
       "      <td>66.353840</td>\n",
       "      <td>20.233882</td>\n",
       "      <td>30.892829</td>\n",
       "      <td>66.585815</td>\n",
       "    </tr>\n",
       "    <tr>\n",
       "      <th>44245</th>\n",
       "      <td>SI-959591-02</td>\n",
       "      <td>6</td>\n",
       "      <td>2015</td>\n",
       "      <td>54.0</td>\n",
       "      <td>2.0</td>\n",
       "      <td>1</td>\n",
       "      <td>Self-employed</td>\n",
       "      <td>3.0</td>\n",
       "      <td>0</td>\n",
       "      <td>Slovenia</td>\n",
       "      <td>...</td>\n",
       "      <td>39.534884</td>\n",
       "      <td>52.500000</td>\n",
       "      <td>83.522727</td>\n",
       "      <td>427.980431</td>\n",
       "      <td>39.839088</td>\n",
       "      <td>68.733981</td>\n",
       "      <td>66.353840</td>\n",
       "      <td>20.233882</td>\n",
       "      <td>30.892829</td>\n",
       "      <td>66.585815</td>\n",
       "    </tr>\n",
       "  </tbody>\n",
       "</table>\n",
       "<p>44246 rows × 35 columns</p>\n",
       "</div>"
      ],
      "text/plain": [
       "            mergeid  wave  year   age  nb_children  partnerinhh  \\\n",
       "0      AT-009262-01     4  2011  56.0          1.0            1   \n",
       "1      AT-009262-01     4  2011  56.0          1.0            1   \n",
       "2      AT-329641-01     4  2011  55.0          2.0            0   \n",
       "3      AT-329641-01     4  2011  55.0          2.0            0   \n",
       "4      Bf-339845-02     4  2011  50.0          2.0            1   \n",
       "...             ...   ...   ...   ...          ...          ...   \n",
       "44241  EE-170403-01     6  2015  54.0          1.0            0   \n",
       "44242  EE-410037-01     6  2015  62.0          2.0            1   \n",
       "44243  Eg-779978-01     6  2015  65.0          2.0            1   \n",
       "44244  SI-429879-01     6  2015  57.0          2.0            1   \n",
       "44245  SI-959591-02     6  2015  54.0          2.0            1   \n",
       "\n",
       "                    job_status  eurod  eurodcat   country  ...  jqi_intensity  \\\n",
       "0                Self-employed    1.0         0   Austria  ...      60.077519   \n",
       "1                Self-employed    1.0         0   Austria  ...      48.837209   \n",
       "2                     Employee    0.0         0   Austria  ...      60.077519   \n",
       "3                     Employee    0.0         0   Austria  ...      48.837209   \n",
       "4                     Employee    1.0         0   Belgium  ...      60.077519   \n",
       "...                        ...    ...       ...       ...  ...            ...   \n",
       "44241  Private sector employee    0.0         0   Estonia  ...      50.830565   \n",
       "44242   Public sector employee    5.0         1   Estonia  ...      42.894057   \n",
       "44243            Self-employed    2.0         0     Spain  ...      39.534884   \n",
       "44244  Private sector employee    3.0         0  Slovenia  ...      39.534884   \n",
       "44245            Self-employed    3.0         0  Slovenia  ...      39.534884   \n",
       "\n",
       "       jqi_prospects  jqi_working_time_quality  jqi_monthly_earnings_weighted  \\\n",
       "0          53.703704                 76.205645                     413.279438   \n",
       "1          37.500000                 59.541667                    1789.430476   \n",
       "2          53.703704                 76.205645                     413.279438   \n",
       "3          37.500000                 59.541667                    1789.430476   \n",
       "4          53.703704                 76.205645                     413.279438   \n",
       "...              ...                       ...                            ...   \n",
       "44241      30.208333                 86.756944                    1188.485159   \n",
       "44242      23.076923                 68.262500                    2255.713254   \n",
       "44243      52.500000                 83.522727                     427.980431   \n",
       "44244      52.500000                 83.522727                     427.980431   \n",
       "44245      52.500000                 83.522727                     427.980431   \n",
       "\n",
       "       jqi_skills_discretion_weighted  jqi_social_environment_weighted  \\\n",
       "0                           24.372010                        37.764297   \n",
       "1                           76.103647                       148.970011   \n",
       "2                           24.372010                        37.764297   \n",
       "3                           76.103647                       148.970011   \n",
       "4                           24.372010                        37.764297   \n",
       "...                               ...                              ...   \n",
       "44241                       46.655455                        66.435423   \n",
       "44242                       68.702156                        63.395814   \n",
       "44243                       39.839088                        68.733981   \n",
       "44244                       39.839088                        68.733981   \n",
       "44245                       39.839088                        68.733981   \n",
       "\n",
       "       jqi_physical_environment_weighted  jqi_intensity_weighted  \\\n",
       "0                              51.406949               40.900921   \n",
       "1                             102.636814               96.531183   \n",
       "2                              51.406949               40.900921   \n",
       "3                             102.636814               96.531183   \n",
       "4                              51.406949               40.900921   \n",
       "...                                  ...                     ...   \n",
       "44241                          68.964447               37.735502   \n",
       "44242                          79.248063               32.921086   \n",
       "44243                          66.353840               20.233882   \n",
       "44244                          66.353840               20.233882   \n",
       "44245                          66.353840               20.233882   \n",
       "\n",
       "       jqi_prospects_weighted  jqi_working_time_quality_weighted  \n",
       "0                   30.425927                          42.481878  \n",
       "1                   59.227061                          81.124759  \n",
       "2                   30.425927                          42.481878  \n",
       "3                   59.227061                          81.124759  \n",
       "4                   30.425927                          42.481878  \n",
       "...                       ...                                ...  \n",
       "44241               22.544482                          68.952177  \n",
       "44242               21.586462                          57.863807  \n",
       "44243               30.892829                          66.585815  \n",
       "44244               30.892829                          66.585815  \n",
       "44245               30.892829                          66.585815  \n",
       "\n",
       "[44246 rows x 35 columns]"
      ]
     },
     "execution_count": 5,
     "metadata": {},
     "output_type": "execute_result"
    }
   ],
   "source": [
    "df"
   ]
  },
  {
   "cell_type": "code",
   "execution_count": 6,
   "metadata": {},
   "outputs": [
    {
     "data": {
      "text/plain": [
       "6793"
      ]
     },
     "execution_count": 6,
     "metadata": {},
     "output_type": "execute_result"
    }
   ],
   "source": [
    "df.mergeid.nunique()"
   ]
  },
  {
   "cell_type": "code",
   "execution_count": 7,
   "metadata": {},
   "outputs": [
    {
     "data": {
      "text/plain": [
       "country\n",
       "Austria           390\n",
       "Belgium           837\n",
       "Czech Republic    535\n",
       "Denmark           525\n",
       "Estonia           805\n",
       "France            452\n",
       "Germany           849\n",
       "Italy             647\n",
       "Slovenia          388\n",
       "Spain             793\n",
       "Switzerland       572\n",
       "Name: mergeid, dtype: int64"
      ]
     },
     "execution_count": 7,
     "metadata": {},
     "output_type": "execute_result"
    }
   ],
   "source": [
    "df.groupby(\"country\").mergeid.nunique()"
   ]
  },
  {
   "cell_type": "code",
   "execution_count": 8,
   "metadata": {},
   "outputs": [
    {
     "data": {
      "text/plain": [
       "year\n",
       "2011    3625\n",
       "2013    4908\n",
       "2015    4417\n",
       "Name: mergeid, dtype: int64"
      ]
     },
     "execution_count": 8,
     "metadata": {},
     "output_type": "execute_result"
    }
   ],
   "source": [
    "df.groupby(\"year\").mergeid.nunique()"
   ]
  },
  {
   "cell_type": "code",
   "execution_count": 9,
   "metadata": {},
   "outputs": [],
   "source": [
    "df.to_csv(\n",
    "    \"/Users/alexandralugova/Documents/GitHub/MH-old-workers/data/datasets/results/3digits_w456_year.csv\",\n",
    "    index=False,\n",
    ")"
   ]
  },
  {
   "cell_type": "markdown",
   "metadata": {},
   "source": [
    "### Some descriptive stats"
   ]
  },
  {
   "cell_type": "code",
   "execution_count": 10,
   "metadata": {},
   "outputs": [
    {
     "data": {
      "text/html": [
       "<div>\n",
       "<style scoped>\n",
       "    .dataframe tbody tr th:only-of-type {\n",
       "        vertical-align: middle;\n",
       "    }\n",
       "\n",
       "    .dataframe tbody tr th {\n",
       "        vertical-align: top;\n",
       "    }\n",
       "\n",
       "    .dataframe thead th {\n",
       "        text-align: right;\n",
       "    }\n",
       "</style>\n",
       "<table border=\"1\" class=\"dataframe\">\n",
       "  <thead>\n",
       "    <tr style=\"text-align: right;\">\n",
       "      <th></th>\n",
       "      <th>age</th>\n",
       "      <th>gender</th>\n",
       "      <th>nb_children</th>\n",
       "      <th>yrseducation</th>\n",
       "    </tr>\n",
       "  </thead>\n",
       "  <tbody>\n",
       "    <tr>\n",
       "      <th>count</th>\n",
       "      <td>44246.00</td>\n",
       "      <td>44246.0</td>\n",
       "      <td>44246.00</td>\n",
       "      <td>44246.00</td>\n",
       "    </tr>\n",
       "    <tr>\n",
       "      <th>mean</th>\n",
       "      <td>56.43</td>\n",
       "      <td>0.5</td>\n",
       "      <td>1.77</td>\n",
       "      <td>12.67</td>\n",
       "    </tr>\n",
       "    <tr>\n",
       "      <th>std</th>\n",
       "      <td>3.13</td>\n",
       "      <td>0.5</td>\n",
       "      <td>1.26</td>\n",
       "      <td>4.54</td>\n",
       "    </tr>\n",
       "    <tr>\n",
       "      <th>min</th>\n",
       "      <td>50.00</td>\n",
       "      <td>0.0</td>\n",
       "      <td>0.00</td>\n",
       "      <td>0.00</td>\n",
       "    </tr>\n",
       "    <tr>\n",
       "      <th>25%</th>\n",
       "      <td>54.00</td>\n",
       "      <td>0.0</td>\n",
       "      <td>1.00</td>\n",
       "      <td>10.00</td>\n",
       "    </tr>\n",
       "    <tr>\n",
       "      <th>50%</th>\n",
       "      <td>56.00</td>\n",
       "      <td>1.0</td>\n",
       "      <td>2.00</td>\n",
       "      <td>13.00</td>\n",
       "    </tr>\n",
       "    <tr>\n",
       "      <th>75%</th>\n",
       "      <td>59.00</td>\n",
       "      <td>1.0</td>\n",
       "      <td>2.00</td>\n",
       "      <td>16.00</td>\n",
       "    </tr>\n",
       "    <tr>\n",
       "      <th>max</th>\n",
       "      <td>65.00</td>\n",
       "      <td>1.0</td>\n",
       "      <td>11.00</td>\n",
       "      <td>39.00</td>\n",
       "    </tr>\n",
       "  </tbody>\n",
       "</table>\n",
       "</div>"
      ],
      "text/plain": [
       "            age   gender  nb_children  yrseducation\n",
       "count  44246.00  44246.0     44246.00      44246.00\n",
       "mean      56.43      0.5         1.77         12.67\n",
       "std        3.13      0.5         1.26          4.54\n",
       "min       50.00      0.0         0.00          0.00\n",
       "25%       54.00      0.0         1.00         10.00\n",
       "50%       56.00      1.0         2.00         13.00\n",
       "75%       59.00      1.0         2.00         16.00\n",
       "max       65.00      1.0        11.00         39.00"
      ]
     },
     "execution_count": 10,
     "metadata": {},
     "output_type": "execute_result"
    }
   ],
   "source": [
    "round(df[[\"age\", \"gender\", \"nb_children\", \"yrseducation\"]].describe(), 2)"
   ]
  },
  {
   "cell_type": "code",
   "execution_count": 11,
   "metadata": {},
   "outputs": [
    {
     "data": {
      "image/png": "[encoded data removed]",
      "text/plain": [
       "<Figure size 700x500 with 4 Axes>"
      ]
     },
     "metadata": {},
     "output_type": "display_data"
    }
   ],
   "source": [
    "fig, axs = plt.subplots(2, 2, figsize=(7, 5))\n",
    "\n",
    "axs[0, 0].hist(df[\"age\"], bins=30, color=\"skyblue\", alpha=0.7)\n",
    "axs[0, 0].set_title(\"Age\")\n",
    "\n",
    "axs[0, 1].hist(df[\"gender\"], bins=30, color=\"salmon\", alpha=0.7)\n",
    "axs[0, 1].set_title(\"Gender\")\n",
    "\n",
    "axs[1, 0].hist(df[\"nb_children\"], bins=30, color=\"lightgreen\", alpha=0.7)\n",
    "axs[1, 0].set_title(\"Number of children\")\n",
    "\n",
    "axs[1, 1].hist(df[\"yrseducation\"], bins=30, color=\"gold\", alpha=0.7)\n",
    "axs[1, 1].set_title(\"Years of education\")\n",
    "\n",
    "plt.tight_layout()\n",
    "\n",
    "plt.show()"
   ]
  },
  {
   "cell_type": "code",
   "execution_count": 12,
   "metadata": {},
   "outputs": [
    {
     "data": {
      "text/plain": [
       "job_status\n",
       "Private sector employee    0.39\n",
       "Public sector employee     0.21\n",
       "Employee                   0.20\n",
       "Self-employed              0.15\n",
       "Civil servant              0.04\n",
       "Name: proportion, dtype: float64"
      ]
     },
     "execution_count": 12,
     "metadata": {},
     "output_type": "execute_result"
    }
   ],
   "source": [
    "round(df[\"job_status\"].value_counts(normalize=True), 2)"
   ]
  },
  {
   "cell_type": "code",
   "execution_count": 13,
   "metadata": {},
   "outputs": [
    {
     "data": {
      "text/html": [
       "<div>\n",
       "<style scoped>\n",
       "    .dataframe tbody tr th:only-of-type {\n",
       "        vertical-align: middle;\n",
       "    }\n",
       "\n",
       "    .dataframe tbody tr th {\n",
       "        vertical-align: top;\n",
       "    }\n",
       "\n",
       "    .dataframe thead th {\n",
       "        text-align: right;\n",
       "    }\n",
       "</style>\n",
       "<table border=\"1\" class=\"dataframe\">\n",
       "  <thead>\n",
       "    <tr style=\"text-align: right;\">\n",
       "      <th></th>\n",
       "      <th>yrscontribution</th>\n",
       "      <th>retirement_age</th>\n",
       "      <th>work_horizon</th>\n",
       "      <th>work_horizon_change</th>\n",
       "    </tr>\n",
       "  </thead>\n",
       "  <tbody>\n",
       "    <tr>\n",
       "      <th>count</th>\n",
       "      <td>44246.00</td>\n",
       "      <td>44246.00</td>\n",
       "      <td>44246.00</td>\n",
       "      <td>44246.00</td>\n",
       "    </tr>\n",
       "    <tr>\n",
       "      <th>mean</th>\n",
       "      <td>36.01</td>\n",
       "      <td>63.14</td>\n",
       "      <td>6.71</td>\n",
       "      <td>0.26</td>\n",
       "    </tr>\n",
       "    <tr>\n",
       "      <th>std</th>\n",
       "      <td>6.03</td>\n",
       "      <td>2.12</td>\n",
       "      <td>3.40</td>\n",
       "      <td>0.60</td>\n",
       "    </tr>\n",
       "    <tr>\n",
       "      <th>min</th>\n",
       "      <td>6.00</td>\n",
       "      <td>57.00</td>\n",
       "      <td>0.08</td>\n",
       "      <td>0.00</td>\n",
       "    </tr>\n",
       "    <tr>\n",
       "      <th>25%</th>\n",
       "      <td>33.00</td>\n",
       "      <td>62.00</td>\n",
       "      <td>4.00</td>\n",
       "      <td>0.00</td>\n",
       "    </tr>\n",
       "    <tr>\n",
       "      <th>50%</th>\n",
       "      <td>37.00</td>\n",
       "      <td>63.75</td>\n",
       "      <td>7.00</td>\n",
       "      <td>0.00</td>\n",
       "    </tr>\n",
       "    <tr>\n",
       "      <th>75%</th>\n",
       "      <td>40.00</td>\n",
       "      <td>65.00</td>\n",
       "      <td>9.00</td>\n",
       "      <td>0.08</td>\n",
       "    </tr>\n",
       "    <tr>\n",
       "      <th>max</th>\n",
       "      <td>55.00</td>\n",
       "      <td>68.00</td>\n",
       "      <td>17.00</td>\n",
       "      <td>4.00</td>\n",
       "    </tr>\n",
       "  </tbody>\n",
       "</table>\n",
       "</div>"
      ],
      "text/plain": [
       "       yrscontribution  retirement_age  work_horizon  work_horizon_change\n",
       "count         44246.00        44246.00      44246.00             44246.00\n",
       "mean             36.01           63.14          6.71                 0.26\n",
       "std               6.03            2.12          3.40                 0.60\n",
       "min               6.00           57.00          0.08                 0.00\n",
       "25%              33.00           62.00          4.00                 0.00\n",
       "50%              37.00           63.75          7.00                 0.00\n",
       "75%              40.00           65.00          9.00                 0.08\n",
       "max              55.00           68.00         17.00                 4.00"
      ]
     },
     "execution_count": 13,
     "metadata": {},
     "output_type": "execute_result"
    }
   ],
   "source": [
    "round(\n",
    "    df[\n",
    "        [\"yrscontribution\", \"retirement_age\", \"work_horizon\", \"work_horizon_change\"]\n",
    "    ].describe(),\n",
    "    2,\n",
    ")"
   ]
  },
  {
   "cell_type": "code",
   "execution_count": 14,
   "metadata": {},
   "outputs": [
    {
     "data": {
      "image/png": "[encoded data removed]",
      "text/plain": [
       "<Figure size 700x500 with 4 Axes>"
      ]
     },
     "metadata": {},
     "output_type": "display_data"
    }
   ],
   "source": [
    "fig, axs = plt.subplots(2, 2, figsize=(7, 5))\n",
    "\n",
    "axs[0, 0].hist(df[\"yrscontribution\"], bins=30, color=\"skyblue\", alpha=0.7)\n",
    "axs[0, 0].set_title(\"Years of contribution\")\n",
    "\n",
    "axs[0, 1].hist(df[\"retirement_age\"], bins=30, color=\"salmon\", alpha=0.7)\n",
    "axs[0, 1].set_title(\"Retirement age\")\n",
    "\n",
    "axs[1, 0].hist(df[\"work_horizon\"], bins=30, color=\"lightgreen\", alpha=0.7)\n",
    "axs[1, 0].set_title(\"Work horizon, years\")\n",
    "\n",
    "axs[1, 1].hist(df[\"work_horizon_change\"], bins=30, color=\"gold\", alpha=0.7)\n",
    "axs[1, 1].set_title(\"Work horizon change by reform\")\n",
    "\n",
    "plt.tight_layout()\n",
    "\n",
    "plt.show()"
   ]
  },
  {
   "cell_type": "code",
   "execution_count": 15,
   "metadata": {},
   "outputs": [
    {
     "data": {
      "text/plain": [
       "eurodcat\n",
       "0    0.82\n",
       "1    0.18\n",
       "Name: proportion, dtype: float64"
      ]
     },
     "execution_count": 15,
     "metadata": {},
     "output_type": "execute_result"
    }
   ],
   "source": [
    "round(df[\"eurodcat\"].value_counts(normalize=True), 2)"
   ]
  },
  {
   "cell_type": "code",
   "execution_count": 16,
   "metadata": {},
   "outputs": [
    {
     "data": {
      "text/plain": [
       "eurod\n",
       "0.0     11935\n",
       "1.0     10877\n",
       "2.0      7994\n",
       "3.0      5399\n",
       "4.0      3637\n",
       "5.0      2081\n",
       "6.0      1187\n",
       "7.0       656\n",
       "8.0       255\n",
       "9.0       160\n",
       "10.0       49\n",
       "11.0       12\n",
       "12.0        4\n",
       "Name: count, dtype: int64"
      ]
     },
     "execution_count": 16,
     "metadata": {},
     "output_type": "execute_result"
    }
   ],
   "source": [
    "df[\"eurod\"].value_counts()"
   ]
  },
  {
   "cell_type": "code",
   "execution_count": 17,
   "metadata": {},
   "outputs": [
    {
     "data": {
      "image/png": "[encoded data removed]",
      "text/plain": [
       "<Figure size 600x400 with 1 Axes>"
      ]
     },
     "metadata": {},
     "output_type": "display_data"
    }
   ],
   "source": [
    "plt.figure(figsize=(6, 4))\n",
    "plt.hist(df[\"eurod\"], bins=13, color=\"skyblue\", alpha=0.7)\n",
    "plt.title(\"EuroD scale score\")\n",
    "plt.xlabel(\"Values\")\n",
    "plt.ylabel(\"Frequency\")\n",
    "plt.grid(True)\n",
    "plt.show()"
   ]
  },
  {
   "cell_type": "code",
   "execution_count": 18,
   "metadata": {},
   "outputs": [
    {
     "data": {
      "text/html": [
       "<div>\n",
       "<style scoped>\n",
       "    .dataframe tbody tr th:only-of-type {\n",
       "        vertical-align: middle;\n",
       "    }\n",
       "\n",
       "    .dataframe tbody tr th {\n",
       "        vertical-align: top;\n",
       "    }\n",
       "\n",
       "    .dataframe thead th {\n",
       "        text-align: right;\n",
       "    }\n",
       "</style>\n",
       "<table border=\"1\" class=\"dataframe\">\n",
       "  <thead>\n",
       "    <tr style=\"text-align: right;\">\n",
       "      <th></th>\n",
       "      <th>jqi_monthly_earnings</th>\n",
       "      <th>jqi_skills_discretion</th>\n",
       "      <th>jqi_social_environment</th>\n",
       "      <th>jqi_physical_environment</th>\n",
       "      <th>jqi_intensity</th>\n",
       "      <th>jqi_prospects</th>\n",
       "      <th>jqi_working_time_quality</th>\n",
       "    </tr>\n",
       "  </thead>\n",
       "  <tbody>\n",
       "    <tr>\n",
       "      <th>count</th>\n",
       "      <td>44246.00</td>\n",
       "      <td>44246.00</td>\n",
       "      <td>44246.00</td>\n",
       "      <td>44246.00</td>\n",
       "      <td>44246.00</td>\n",
       "      <td>44246.00</td>\n",
       "      <td>44246.00</td>\n",
       "    </tr>\n",
       "    <tr>\n",
       "      <th>mean</th>\n",
       "      <td>1594.51</td>\n",
       "      <td>59.78</td>\n",
       "      <td>80.90</td>\n",
       "      <td>84.09</td>\n",
       "      <td>49.89</td>\n",
       "      <td>40.05</td>\n",
       "      <td>86.73</td>\n",
       "    </tr>\n",
       "    <tr>\n",
       "      <th>std</th>\n",
       "      <td>493.21</td>\n",
       "      <td>13.57</td>\n",
       "      <td>4.94</td>\n",
       "      <td>9.02</td>\n",
       "      <td>6.57</td>\n",
       "      <td>9.14</td>\n",
       "      <td>9.25</td>\n",
       "    </tr>\n",
       "    <tr>\n",
       "      <th>min</th>\n",
       "      <td>318.22</td>\n",
       "      <td>5.41</td>\n",
       "      <td>40.91</td>\n",
       "      <td>42.82</td>\n",
       "      <td>18.60</td>\n",
       "      <td>12.50</td>\n",
       "      <td>36.44</td>\n",
       "    </tr>\n",
       "    <tr>\n",
       "      <th>25%</th>\n",
       "      <td>1268.64</td>\n",
       "      <td>49.25</td>\n",
       "      <td>78.56</td>\n",
       "      <td>78.15</td>\n",
       "      <td>45.89</td>\n",
       "      <td>33.97</td>\n",
       "      <td>82.59</td>\n",
       "    </tr>\n",
       "    <tr>\n",
       "      <th>50%</th>\n",
       "      <td>1531.58</td>\n",
       "      <td>59.84</td>\n",
       "      <td>81.11</td>\n",
       "      <td>87.00</td>\n",
       "      <td>49.53</td>\n",
       "      <td>39.25</td>\n",
       "      <td>88.91</td>\n",
       "    </tr>\n",
       "    <tr>\n",
       "      <th>75%</th>\n",
       "      <td>1834.53</td>\n",
       "      <td>70.81</td>\n",
       "      <td>83.48</td>\n",
       "      <td>91.35</td>\n",
       "      <td>53.49</td>\n",
       "      <td>45.99</td>\n",
       "      <td>93.28</td>\n",
       "    </tr>\n",
       "    <tr>\n",
       "      <th>max</th>\n",
       "      <td>6766.63</td>\n",
       "      <td>89.61</td>\n",
       "      <td>100.00</td>\n",
       "      <td>99.36</td>\n",
       "      <td>83.72</td>\n",
       "      <td>87.50</td>\n",
       "      <td>100.00</td>\n",
       "    </tr>\n",
       "  </tbody>\n",
       "</table>\n",
       "</div>"
      ],
      "text/plain": [
       "       jqi_monthly_earnings  jqi_skills_discretion  jqi_social_environment  \\\n",
       "count              44246.00               44246.00                44246.00   \n",
       "mean                1594.51                  59.78                   80.90   \n",
       "std                  493.21                  13.57                    4.94   \n",
       "min                  318.22                   5.41                   40.91   \n",
       "25%                 1268.64                  49.25                   78.56   \n",
       "50%                 1531.58                  59.84                   81.11   \n",
       "75%                 1834.53                  70.81                   83.48   \n",
       "max                 6766.63                  89.61                  100.00   \n",
       "\n",
       "       jqi_physical_environment  jqi_intensity  jqi_prospects  \\\n",
       "count                  44246.00       44246.00       44246.00   \n",
       "mean                      84.09          49.89          40.05   \n",
       "std                        9.02           6.57           9.14   \n",
       "min                       42.82          18.60          12.50   \n",
       "25%                       78.15          45.89          33.97   \n",
       "50%                       87.00          49.53          39.25   \n",
       "75%                       91.35          53.49          45.99   \n",
       "max                       99.36          83.72          87.50   \n",
       "\n",
       "       jqi_working_time_quality  \n",
       "count                  44246.00  \n",
       "mean                      86.73  \n",
       "std                        9.25  \n",
       "min                       36.44  \n",
       "25%                       82.59  \n",
       "50%                       88.91  \n",
       "75%                       93.28  \n",
       "max                      100.00  "
      ]
     },
     "execution_count": 18,
     "metadata": {},
     "output_type": "execute_result"
    }
   ],
   "source": [
    "round(\n",
    "    df[\n",
    "        [\n",
    "            \"jqi_monthly_earnings\",\n",
    "            \"jqi_skills_discretion\",\n",
    "            \"jqi_social_environment\",\n",
    "            \"jqi_physical_environment\",\n",
    "            \"jqi_intensity\",\n",
    "            \"jqi_prospects\",\n",
    "            \"jqi_working_time_quality\",\n",
    "        ]\n",
    "    ].describe(),\n",
    "    2,\n",
    ")"
   ]
  },
  {
   "cell_type": "markdown",
   "metadata": {},
   "source": [
    "### Waves 4,5,6 common individuals"
   ]
  },
  {
   "cell_type": "code",
   "execution_count": 19,
   "metadata": {},
   "outputs": [
    {
     "data": {
      "text/plain": [
       "6793"
      ]
     },
     "execution_count": 19,
     "metadata": {},
     "output_type": "execute_result"
    }
   ],
   "source": [
    "df.mergeid.nunique()"
   ]
  },
  {
   "cell_type": "code",
   "execution_count": 20,
   "metadata": {},
   "outputs": [
    {
     "data": {
      "text/plain": [
       "1749"
      ]
     },
     "execution_count": 20,
     "metadata": {},
     "output_type": "execute_result"
    }
   ],
   "source": [
    "unique_mergeid_w4 = set(df[df.wave == 4][\"mergeid\"].unique())\n",
    "unique_mergeid_w5 = set(df[df.wave == 5][\"mergeid\"].unique())\n",
    "unique_mergeid_w6 = set(df[df.wave == 6][\"mergeid\"].unique())\n",
    "intersection_ids = unique_mergeid_w4.intersection(unique_mergeid_w5).intersection(\n",
    "    unique_mergeid_w6\n",
    ")\n",
    "len(intersection_ids)"
   ]
  },
  {
   "cell_type": "code",
   "execution_count": 21,
   "metadata": {},
   "outputs": [],
   "source": [
    "w456_common = df[df[\"mergeid\"].isin(intersection_ids)].reset_index(drop=True)"
   ]
  },
  {
   "cell_type": "markdown",
   "metadata": {},
   "source": [
    "isco = w456_common[\"isco\"].value_counts().to_frame().reset_index()\n",
    "isco = isco[isco[\"count\"] >= 10]\n",
    "w456_common = w456_common[w456_common[\"isco\"].isin(isco[\"isco\"].unique())].reset_index(\n",
    "    drop=True\n",
    ")"
   ]
  },
  {
   "cell_type": "code",
   "execution_count": 22,
   "metadata": {},
   "outputs": [
    {
     "data": {
      "text/plain": [
       "country\n",
       "Austria           131\n",
       "Belgium           243\n",
       "Czech Republic    133\n",
       "Denmark           154\n",
       "Estonia           286\n",
       "France            164\n",
       "Germany            27\n",
       "Italy             113\n",
       "Slovenia           80\n",
       "Spain             111\n",
       "Switzerland       307\n",
       "Name: mergeid, dtype: int64"
      ]
     },
     "execution_count": 22,
     "metadata": {},
     "output_type": "execute_result"
    }
   ],
   "source": [
    "w456_common.groupby(\"country\").mergeid.nunique()"
   ]
  },
  {
   "cell_type": "code",
   "execution_count": 23,
   "metadata": {},
   "outputs": [],
   "source": [
    "# Delete Germany as too few individuals\n",
    "w456_common = w456_common[w456_common.country != \"Germany\"].reset_index(drop=True)"
   ]
  },
  {
   "cell_type": "code",
   "execution_count": 24,
   "metadata": {},
   "outputs": [],
   "source": [
    "w456_common.to_csv(\n",
    "    \"/Users/alexandralugova/Documents/GitHub/MH-old-workers/data/datasets/results/3digits_w456_year_common.csv\",\n",
    "    index=False,\n",
    ")"
   ]
  },
  {
   "cell_type": "markdown",
   "metadata": {},
   "source": [
    "### Waves 4 and 6"
   ]
  },
  {
   "cell_type": "code",
   "execution_count": 25,
   "metadata": {},
   "outputs": [],
   "source": [
    "result = (\n",
    "    df[df[\"year\"].isin([2013, 2015])]\n",
    "    .groupby(\"mergeid\")[\"work_horizon_change\"]\n",
    "    .sum()\n",
    "    .reset_index()\n",
    ")\n",
    "result[\"year\"] = 2015\n",
    "\n",
    "df = df.drop(columns=\"work_horizon_change\")\n",
    "df = df.merge(result, on=[\"mergeid\", \"year\"], how=\"left\")\n",
    "\n",
    "df[\"work_horizon_change\"] = df[\"work_horizon_change\"].fillna(0)"
   ]
  },
  {
   "cell_type": "code",
   "execution_count": 26,
   "metadata": {},
   "outputs": [],
   "source": [
    "w46 = df[(df.wave == 4) | (df.wave == 6)].reset_index(drop=True)"
   ]
  },
  {
   "cell_type": "code",
   "execution_count": 27,
   "metadata": {},
   "outputs": [
    {
     "data": {
      "text/plain": [
       "6025"
      ]
     },
     "execution_count": 27,
     "metadata": {},
     "output_type": "execute_result"
    }
   ],
   "source": [
    "w46.mergeid.nunique()"
   ]
  },
  {
   "cell_type": "code",
   "execution_count": 28,
   "metadata": {},
   "outputs": [
    {
     "data": {
      "text/plain": [
       "country\n",
       "Austria           373\n",
       "Belgium           753\n",
       "Czech Republic    465\n",
       "Denmark           470\n",
       "Estonia           763\n",
       "France            433\n",
       "Germany           665\n",
       "Italy             560\n",
       "Slovenia          360\n",
       "Spain             623\n",
       "Switzerland       560\n",
       "Name: mergeid, dtype: int64"
      ]
     },
     "execution_count": 28,
     "metadata": {},
     "output_type": "execute_result"
    }
   ],
   "source": [
    "w46.groupby(\"country\").mergeid.nunique()"
   ]
  },
  {
   "cell_type": "code",
   "execution_count": 29,
   "metadata": {},
   "outputs": [
    {
     "data": {
      "text/plain": [
       "wave\n",
       "4    3625\n",
       "6    4417\n",
       "Name: mergeid, dtype: int64"
      ]
     },
     "execution_count": 29,
     "metadata": {},
     "output_type": "execute_result"
    }
   ],
   "source": [
    "w46.groupby(\"wave\").mergeid.nunique()"
   ]
  },
  {
   "cell_type": "code",
   "execution_count": 30,
   "metadata": {},
   "outputs": [],
   "source": [
    "w46.to_csv(\n",
    "    \"/Users/alexandralugova/Documents/GitHub/MH-old-workers/data/datasets/results/3digits_w46_year.csv\",\n",
    "    index=False,\n",
    ")"
   ]
  },
  {
   "cell_type": "markdown",
   "metadata": {},
   "source": [
    "### Waves 4 and 6 common individuals"
   ]
  },
  {
   "cell_type": "code",
   "execution_count": 31,
   "metadata": {},
   "outputs": [
    {
     "data": {
      "text/plain": [
       "2017"
      ]
     },
     "execution_count": 31,
     "metadata": {},
     "output_type": "execute_result"
    }
   ],
   "source": [
    "unique_mergeid_w4 = set(w46[w46.wave == 4][\"mergeid\"].unique())\n",
    "unique_mergeid_w6 = set(w46[w46.wave == 6][\"mergeid\"].unique())\n",
    "intersection_ids = unique_mergeid_w4.intersection(unique_mergeid_w6)\n",
    "len(intersection_ids)"
   ]
  },
  {
   "cell_type": "code",
   "execution_count": 32,
   "metadata": {},
   "outputs": [],
   "source": [
    "w46_common = w46[w46[\"mergeid\"].isin(intersection_ids)].reset_index(drop=True)"
   ]
  },
  {
   "cell_type": "code",
   "execution_count": 33,
   "metadata": {},
   "outputs": [
    {
     "data": {
      "text/plain": [
       "country\n",
       "Austria           154\n",
       "Belgium           287\n",
       "Czech Republic    161\n",
       "Denmark           165\n",
       "Estonia           326\n",
       "France            186\n",
       "Germany            30\n",
       "Italy             140\n",
       "Slovenia           99\n",
       "Spain             129\n",
       "Switzerland       340\n",
       "Name: mergeid, dtype: int64"
      ]
     },
     "execution_count": 33,
     "metadata": {},
     "output_type": "execute_result"
    }
   ],
   "source": [
    "w46_common.groupby(\"country\").mergeid.nunique()"
   ]
  },
  {
   "cell_type": "code",
   "execution_count": 34,
   "metadata": {},
   "outputs": [],
   "source": [
    "# Delete Germany as too few individuals\n",
    "w456_common = w456_common[w456_common.country != \"Germany\"].reset_index(drop=True)"
   ]
  },
  {
   "cell_type": "code",
   "execution_count": 35,
   "metadata": {},
   "outputs": [],
   "source": [
    "w46_common.to_csv(\n",
    "    \"/Users/alexandralugova/Documents/GitHub/MH-old-workers/data/datasets/results/3digits_w46_year_common.csv\",\n",
    "    index=False,\n",
    ")"
   ]
  }
 ],
 "metadata": {
  "kernelspec": {
   "display_name": "mhold",
   "language": "python",
   "name": "python3"
  },
  "language_info": {
   "codemirror_mode": {
    "name": "ipython",
    "version": 3
   },
   "file_extension": ".py",
   "mimetype": "text/x-python",
   "name": "python",
   "nbconvert_exporter": "python",
   "pygments_lexer": "ipython3",
   "version": "3.11.5"
  }
 },
 "nbformat": 4,
 "nbformat_minor": 2
}
