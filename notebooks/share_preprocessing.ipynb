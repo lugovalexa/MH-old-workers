{
 "cells": [
  {
   "cell_type": "markdown",
   "metadata": {},
   "source": [
    "# MH of older workers, retirement age and working conditions"
   ]
  },
  {
   "cell_type": "markdown",
   "metadata": {},
   "source": [
    "## Preprocessing SHARE data"
   ]
  },
  {
   "cell_type": "markdown",
   "metadata": {},
   "source": [
    "Load libraries"
   ]
  },
  {
   "cell_type": "code",
   "execution_count": 1,
   "metadata": {},
   "outputs": [],
   "source": [
    "import os\n",
    "import sys\n",
    "\n",
    "src_path = os.path.abspath(\"../\")\n",
    "sys.path.append(src_path)\n",
    "\n",
    "from utils.common import *\n",
    "from utils.retirement import *\n",
    "from utils.share import *\n",
    "\n",
    "import_libraries()"
   ]
  },
  {
   "cell_type": "markdown",
   "metadata": {},
   "source": [
    "Preprocess **SHARELIFE data**, apply first filters and create first variables"
   ]
  },
  {
   "cell_type": "code",
   "execution_count": 2,
   "metadata": {},
   "outputs": [],
   "source": [
    "file_names = [\"cv_r.dta\", \"technical_variables.dta\", \"dn.dta\", \"re.dta\"]\n",
    "sharelife = import_share_stata1(file_names=file_names, waves=[7])"
   ]
  },
  {
   "cell_type": "code",
   "execution_count": 3,
   "metadata": {},
   "outputs": [
    {
     "name": "stdout",
     "output_type": "stream",
     "text": [
      "Initial n obs: 63248\n",
      "Gender, country, 1st year in country - formatted, age 50+ filter - applied\n",
      "N obs after processing gender and age: 56486\n",
      "Years of education - calculated\n",
      "N obs after processing education years: 56486\n",
      "Current ISCO - identified\n",
      "N obs after isco job changes: 41945\n",
      "Years of contribution, 1st year of contribution - calculated\n",
      "N obs after contribution years: 41945\n"
     ]
    }
   ],
   "source": [
    "sharelife = sharelife_preprocessing(sharelife)"
   ]
  },
  {
   "cell_type": "markdown",
   "metadata": {},
   "source": [
    "Preprocess **additional data from SHARE waves 6-8** where isco is available"
   ]
  },
  {
   "cell_type": "code",
   "execution_count": 4,
   "metadata": {},
   "outputs": [],
   "source": [
    "file_names = [\"cv_r.dta\", \"dn.dta\", \"ep.dta\"]\n",
    "sharelife_add = import_share_stata1(\n",
    "    file_names=file_names, waves=[6, 7, 8], convert_categoricals=True\n",
    ")"
   ]
  },
  {
   "cell_type": "code",
   "execution_count": 5,
   "metadata": {},
   "outputs": [
    {
     "name": "stdout",
     "output_type": "stream",
     "text": [
      "N obs initial: 192020\n",
      "N obs dropping missing isco: 10679\n",
      "N obs after drop already present in Sharelife: 6843\n",
      "Gender, country, 1st year in country - formatted, age 50+ filter - applied\n",
      "N obs after gender and age: 3262\n",
      "Years of education - calculated\n",
      "N obs after education: 3262\n",
      "Current ISCO - identified, those changed job - deleted\n",
      "N obs after job and isco: 2527\n",
      "Years of contribution, 1st year of contribution - calculated\n",
      "N obs after contribution years: 2527\n"
     ]
    }
   ],
   "source": [
    "sharelife_add = sharelife_add_preprocessing(sharelife_add, sharelife)"
   ]
  },
  {
   "cell_type": "code",
   "execution_count": 6,
   "metadata": {},
   "outputs": [],
   "source": [
    "# Concat main and additional datasets\n",
    "df = pd.concat([sharelife, sharelife_add], axis=0).reset_index(drop=True)"
   ]
  },
  {
   "cell_type": "markdown",
   "metadata": {},
   "source": [
    "Preprocess **main data from SHARE waves 4-6**"
   ]
  },
  {
   "cell_type": "code",
   "execution_count": 7,
   "metadata": {},
   "outputs": [],
   "source": [
    "file_names = [\"cv_r.dta\", \"dn.dta\", \"ep.dta\", \"ch.dta\", \"gv_health.dta\", \"as.dta\"]\n",
    "share = import_share_stata1(\n",
    "    file_names=file_names, waves=[4, 5, 6], convert_categoricals=True\n",
    ")"
   ]
  },
  {
   "cell_type": "code",
   "execution_count": 8,
   "metadata": {},
   "outputs": [
    {
     "name": "stdout",
     "output_type": "stream",
     "text": [
      "Initial n obs: 192150\n",
      "Those without ISCO codes - deleted\n",
      "N obs with ISCO: 74637\n",
      "N obs after age calculation: 74637\n",
      "N obs after defining number of children: 74637\n",
      "Current year, age, number of children and living with a partner - imputed\n",
      "N obs after leaving only employed: 23465\n",
      "N obs after deleting special conditions pension: 19572\n",
      "Currently not working and eligible to special pensions - deleted\n",
      "N obs after defining industry: 19572\n",
      "Job status, industry of employment - added\n",
      "N obs after defining finance: 19572\n",
      "Household income, investments, life insurance - added\n",
      "N obs after dropping missing sphus:19561\n",
      "N obs after dropping missing chronic:19559\n",
      "N obs after dropping missing eurod:19136\n",
      "Physical and mental health indicators - added\n",
      "N obs after health: 19136\n"
     ]
    }
   ],
   "source": [
    "share = share_preprocessing(share, df)"
   ]
  },
  {
   "cell_type": "code",
   "execution_count": 9,
   "metadata": {},
   "outputs": [],
   "source": [
    "# Merge with Sharelife data\n",
    "df = share.merge(df, on=[\"mergeid\"], how=\"left\")"
   ]
  },
  {
   "cell_type": "markdown",
   "metadata": {},
   "source": [
    "**Final full SHARE dataset**"
   ]
  },
  {
   "cell_type": "code",
   "execution_count": 10,
   "metadata": {},
   "outputs": [
    {
     "name": "stdout",
     "output_type": "stream",
     "text": [
      "N obs initial: 19136\n",
      "Current years of contribution - calculated, those with less 10 years - deleted\n",
      "Data types - corrected\n",
      "N obs after data types: 17871\n",
      "Retirement age, work horizon and work horizon change by reforms - calculated\n",
      "N obs after work horizon change: 13548\n",
      "Longitudinal and crossectional weights - added\n",
      "N obs after weights: 13484\n"
     ]
    }
   ],
   "source": [
    "df = share_final_preprocessing(df)"
   ]
  },
  {
   "cell_type": "code",
   "execution_count": 11,
   "metadata": {},
   "outputs": [
    {
     "data": {
      "text/plain": [
       "array(['Austria', 'Belgium', 'Czech Republic', 'Switzerland', 'Germany',\n",
       "       'Denmark', 'Estonia', 'Spain', 'France', 'Hungary', 'Italy',\n",
       "       'Netherlands', 'Poland', 'Portugal', 'Sweden', 'Slovenia',\n",
       "       'Luxembourg', 'Greece'], dtype=object)"
      ]
     },
     "execution_count": 11,
     "metadata": {},
     "output_type": "execute_result"
    }
   ],
   "source": [
    "df.country.unique()"
   ]
  },
  {
   "cell_type": "code",
   "execution_count": 12,
   "metadata": {},
   "outputs": [
    {
     "data": {
      "text/plain": [
       "5871"
      ]
     },
     "execution_count": 12,
     "metadata": {},
     "output_type": "execute_result"
    }
   ],
   "source": [
    "df.mergeid.nunique()"
   ]
  },
  {
   "cell_type": "code",
   "execution_count": 13,
   "metadata": {},
   "outputs": [
    {
     "data": {
      "text/plain": [
       "count\n",
       "1    1922\n",
       "2    1412\n",
       "3    1410\n",
       "4    1127\n",
       "Name: count, dtype: int64"
      ]
     },
     "execution_count": 13,
     "metadata": {},
     "output_type": "execute_result"
    }
   ],
   "source": [
    "df.mergeid.value_counts().value_counts()"
   ]
  },
  {
   "cell_type": "code",
   "execution_count": 14,
   "metadata": {},
   "outputs": [
    {
     "data": {
      "text/html": [
       "<div>\n",
       "<style scoped>\n",
       "    .dataframe tbody tr th:only-of-type {\n",
       "        vertical-align: middle;\n",
       "    }\n",
       "\n",
       "    .dataframe tbody tr th {\n",
       "        vertical-align: top;\n",
       "    }\n",
       "\n",
       "    .dataframe thead th {\n",
       "        text-align: right;\n",
       "    }\n",
       "</style>\n",
       "<table border=\"1\" class=\"dataframe\">\n",
       "  <thead>\n",
       "    <tr style=\"text-align: right;\">\n",
       "      <th></th>\n",
       "      <th>count</th>\n",
       "      <th>mean</th>\n",
       "      <th>std</th>\n",
       "      <th>min</th>\n",
       "      <th>25%</th>\n",
       "      <th>50%</th>\n",
       "      <th>75%</th>\n",
       "      <th>max</th>\n",
       "    </tr>\n",
       "    <tr>\n",
       "      <th>country</th>\n",
       "      <th></th>\n",
       "      <th></th>\n",
       "      <th></th>\n",
       "      <th></th>\n",
       "      <th></th>\n",
       "      <th></th>\n",
       "      <th></th>\n",
       "      <th></th>\n",
       "    </tr>\n",
       "  </thead>\n",
       "  <tbody>\n",
       "    <tr>\n",
       "      <th>Austria</th>\n",
       "      <td>972.0</td>\n",
       "      <td>0.993827</td>\n",
       "      <td>0.078365</td>\n",
       "      <td>0.00</td>\n",
       "      <td>1.00</td>\n",
       "      <td>1.00</td>\n",
       "      <td>1.00</td>\n",
       "      <td>1.00</td>\n",
       "    </tr>\n",
       "    <tr>\n",
       "      <th>Belgium</th>\n",
       "      <td>1778.0</td>\n",
       "      <td>0.656637</td>\n",
       "      <td>0.828796</td>\n",
       "      <td>0.00</td>\n",
       "      <td>0.00</td>\n",
       "      <td>0.00</td>\n",
       "      <td>1.00</td>\n",
       "      <td>3.00</td>\n",
       "    </tr>\n",
       "    <tr>\n",
       "      <th>Czech Republic</th>\n",
       "      <td>826.0</td>\n",
       "      <td>1.075993</td>\n",
       "      <td>1.105002</td>\n",
       "      <td>0.33</td>\n",
       "      <td>0.33</td>\n",
       "      <td>0.50</td>\n",
       "      <td>0.67</td>\n",
       "      <td>4.33</td>\n",
       "    </tr>\n",
       "    <tr>\n",
       "      <th>Denmark</th>\n",
       "      <td>911.0</td>\n",
       "      <td>0.000000</td>\n",
       "      <td>0.000000</td>\n",
       "      <td>0.00</td>\n",
       "      <td>0.00</td>\n",
       "      <td>0.00</td>\n",
       "      <td>0.00</td>\n",
       "      <td>0.00</td>\n",
       "    </tr>\n",
       "    <tr>\n",
       "      <th>Estonia</th>\n",
       "      <td>1411.0</td>\n",
       "      <td>0.465273</td>\n",
       "      <td>0.432540</td>\n",
       "      <td>0.00</td>\n",
       "      <td>0.00</td>\n",
       "      <td>0.50</td>\n",
       "      <td>1.00</td>\n",
       "      <td>1.00</td>\n",
       "    </tr>\n",
       "    <tr>\n",
       "      <th>France</th>\n",
       "      <td>883.0</td>\n",
       "      <td>0.087588</td>\n",
       "      <td>0.167087</td>\n",
       "      <td>0.00</td>\n",
       "      <td>0.00</td>\n",
       "      <td>0.00</td>\n",
       "      <td>0.00</td>\n",
       "      <td>1.00</td>\n",
       "    </tr>\n",
       "    <tr>\n",
       "      <th>Germany</th>\n",
       "      <td>1427.0</td>\n",
       "      <td>0.005578</td>\n",
       "      <td>0.021291</td>\n",
       "      <td>0.00</td>\n",
       "      <td>0.00</td>\n",
       "      <td>0.00</td>\n",
       "      <td>0.00</td>\n",
       "      <td>0.09</td>\n",
       "    </tr>\n",
       "    <tr>\n",
       "      <th>Greece</th>\n",
       "      <td>48.0</td>\n",
       "      <td>0.479167</td>\n",
       "      <td>0.850271</td>\n",
       "      <td>0.00</td>\n",
       "      <td>0.00</td>\n",
       "      <td>0.00</td>\n",
       "      <td>0.25</td>\n",
       "      <td>2.00</td>\n",
       "    </tr>\n",
       "    <tr>\n",
       "      <th>Hungary</th>\n",
       "      <td>58.0</td>\n",
       "      <td>0.000000</td>\n",
       "      <td>0.000000</td>\n",
       "      <td>0.00</td>\n",
       "      <td>0.00</td>\n",
       "      <td>0.00</td>\n",
       "      <td>0.00</td>\n",
       "      <td>0.00</td>\n",
       "    </tr>\n",
       "    <tr>\n",
       "      <th>Italy</th>\n",
       "      <td>885.0</td>\n",
       "      <td>0.959605</td>\n",
       "      <td>1.342112</td>\n",
       "      <td>0.00</td>\n",
       "      <td>0.00</td>\n",
       "      <td>0.00</td>\n",
       "      <td>1.50</td>\n",
       "      <td>6.25</td>\n",
       "    </tr>\n",
       "    <tr>\n",
       "      <th>Luxembourg</th>\n",
       "      <td>356.0</td>\n",
       "      <td>0.000000</td>\n",
       "      <td>0.000000</td>\n",
       "      <td>0.00</td>\n",
       "      <td>0.00</td>\n",
       "      <td>0.00</td>\n",
       "      <td>0.00</td>\n",
       "      <td>0.00</td>\n",
       "    </tr>\n",
       "    <tr>\n",
       "      <th>Netherlands</th>\n",
       "      <td>64.0</td>\n",
       "      <td>0.106719</td>\n",
       "      <td>0.041444</td>\n",
       "      <td>0.08</td>\n",
       "      <td>0.08</td>\n",
       "      <td>0.08</td>\n",
       "      <td>0.17</td>\n",
       "      <td>0.17</td>\n",
       "    </tr>\n",
       "    <tr>\n",
       "      <th>Poland</th>\n",
       "      <td>117.0</td>\n",
       "      <td>0.565385</td>\n",
       "      <td>0.157598</td>\n",
       "      <td>0.33</td>\n",
       "      <td>0.33</td>\n",
       "      <td>0.67</td>\n",
       "      <td>0.67</td>\n",
       "      <td>0.67</td>\n",
       "    </tr>\n",
       "    <tr>\n",
       "      <th>Portugal</th>\n",
       "      <td>62.0</td>\n",
       "      <td>2.209677</td>\n",
       "      <td>2.734941</td>\n",
       "      <td>0.00</td>\n",
       "      <td>0.00</td>\n",
       "      <td>0.00</td>\n",
       "      <td>5.00</td>\n",
       "      <td>10.00</td>\n",
       "    </tr>\n",
       "    <tr>\n",
       "      <th>Slovenia</th>\n",
       "      <td>829.0</td>\n",
       "      <td>0.872135</td>\n",
       "      <td>1.033524</td>\n",
       "      <td>0.00</td>\n",
       "      <td>0.00</td>\n",
       "      <td>0.00</td>\n",
       "      <td>2.00</td>\n",
       "      <td>4.00</td>\n",
       "    </tr>\n",
       "    <tr>\n",
       "      <th>Spain</th>\n",
       "      <td>494.0</td>\n",
       "      <td>0.086741</td>\n",
       "      <td>0.023715</td>\n",
       "      <td>0.08</td>\n",
       "      <td>0.08</td>\n",
       "      <td>0.08</td>\n",
       "      <td>0.08</td>\n",
       "      <td>0.17</td>\n",
       "    </tr>\n",
       "    <tr>\n",
       "      <th>Sweden</th>\n",
       "      <td>839.0</td>\n",
       "      <td>0.000000</td>\n",
       "      <td>0.000000</td>\n",
       "      <td>0.00</td>\n",
       "      <td>0.00</td>\n",
       "      <td>0.00</td>\n",
       "      <td>0.00</td>\n",
       "      <td>0.00</td>\n",
       "    </tr>\n",
       "    <tr>\n",
       "      <th>Switzerland</th>\n",
       "      <td>1524.0</td>\n",
       "      <td>0.000000</td>\n",
       "      <td>0.000000</td>\n",
       "      <td>0.00</td>\n",
       "      <td>0.00</td>\n",
       "      <td>0.00</td>\n",
       "      <td>0.00</td>\n",
       "      <td>0.00</td>\n",
       "    </tr>\n",
       "  </tbody>\n",
       "</table>\n",
       "</div>"
      ],
      "text/plain": [
       "                 count      mean       std   min   25%   50%   75%    max\n",
       "country                                                                  \n",
       "Austria          972.0  0.993827  0.078365  0.00  1.00  1.00  1.00   1.00\n",
       "Belgium         1778.0  0.656637  0.828796  0.00  0.00  0.00  1.00   3.00\n",
       "Czech Republic   826.0  1.075993  1.105002  0.33  0.33  0.50  0.67   4.33\n",
       "Denmark          911.0  0.000000  0.000000  0.00  0.00  0.00  0.00   0.00\n",
       "Estonia         1411.0  0.465273  0.432540  0.00  0.00  0.50  1.00   1.00\n",
       "France           883.0  0.087588  0.167087  0.00  0.00  0.00  0.00   1.00\n",
       "Germany         1427.0  0.005578  0.021291  0.00  0.00  0.00  0.00   0.09\n",
       "Greece            48.0  0.479167  0.850271  0.00  0.00  0.00  0.25   2.00\n",
       "Hungary           58.0  0.000000  0.000000  0.00  0.00  0.00  0.00   0.00\n",
       "Italy            885.0  0.959605  1.342112  0.00  0.00  0.00  1.50   6.25\n",
       "Luxembourg       356.0  0.000000  0.000000  0.00  0.00  0.00  0.00   0.00\n",
       "Netherlands       64.0  0.106719  0.041444  0.08  0.08  0.08  0.17   0.17\n",
       "Poland           117.0  0.565385  0.157598  0.33  0.33  0.67  0.67   0.67\n",
       "Portugal          62.0  2.209677  2.734941  0.00  0.00  0.00  5.00  10.00\n",
       "Slovenia         829.0  0.872135  1.033524  0.00  0.00  0.00  2.00   4.00\n",
       "Spain            494.0  0.086741  0.023715  0.08  0.08  0.08  0.08   0.17\n",
       "Sweden           839.0  0.000000  0.000000  0.00  0.00  0.00  0.00   0.00\n",
       "Switzerland     1524.0  0.000000  0.000000  0.00  0.00  0.00  0.00   0.00"
      ]
     },
     "execution_count": 14,
     "metadata": {},
     "output_type": "execute_result"
    }
   ],
   "source": [
    "df.groupby(\"country\").work_horizon_change_minimum.describe()"
   ]
  },
  {
   "cell_type": "code",
   "execution_count": 15,
   "metadata": {},
   "outputs": [],
   "source": [
    "df.to_csv(\n",
    "    \"/Users/alexandralugova/Documents/GitHub/MH-old-workers/data/datasets/results/share_clean_w46.csv\",\n",
    "    index=False,\n",
    ")  # Save resulting dataset"
   ]
  }
 ],
 "metadata": {
  "kernelspec": {
   "display_name": "mhold",
   "language": "python",
   "name": "python3"
  },
  "language_info": {
   "codemirror_mode": {
    "name": "ipython",
    "version": 3
   },
   "file_extension": ".py",
   "mimetype": "text/x-python",
   "name": "python",
   "nbconvert_exporter": "python",
   "pygments_lexer": "ipython3",
   "version": "3.11.5"
  }
 },
 "nbformat": 4,
 "nbformat_minor": 2
}
