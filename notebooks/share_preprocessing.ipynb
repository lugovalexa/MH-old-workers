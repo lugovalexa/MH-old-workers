{
 "cells": [
  {
   "cell_type": "markdown",
   "metadata": {},
   "source": [
    "# MH of older workers, retirement age and working conditions"
   ]
  },
  {
   "cell_type": "markdown",
   "metadata": {},
   "source": [
    "## Preprocessing SHARE data"
   ]
  },
  {
   "cell_type": "markdown",
   "metadata": {},
   "source": [
    "Load libraries"
   ]
  },
  {
   "cell_type": "code",
   "execution_count": 1,
   "metadata": {},
   "outputs": [],
   "source": [
    "import os\n",
    "import sys\n",
    "\n",
    "src_path = os.path.abspath(\"../\")\n",
    "sys.path.append(src_path)\n",
    "\n",
    "from utils.common import *\n",
    "from utils.retirement import *\n",
    "from utils.share import *\n",
    "\n",
    "import_libraries()"
   ]
  },
  {
   "cell_type": "markdown",
   "metadata": {},
   "source": [
    "Preprocess **SHARELIFE data**, apply first filters and create first variables"
   ]
  },
  {
   "cell_type": "code",
   "execution_count": 2,
   "metadata": {},
   "outputs": [],
   "source": [
    "file_names = [\"cv_r.dta\", \"technical_variables.dta\", \"dn.dta\", \"re.dta\"]\n",
    "sharelife = import_share_stata1(file_names=file_names, waves=[7])"
   ]
  },
  {
   "cell_type": "code",
   "execution_count": 3,
   "metadata": {},
   "outputs": [
    {
     "name": "stdout",
     "output_type": "stream",
     "text": [
      "Gender, country, 1st year in country - formatted, age 50+ filter - applied\n",
      "Years of education - calculated\n",
      "Current ISCO - identified, those changed job - deleted\n",
      "Years of contribution, 1st year of contribution - calculated\n",
      "Those worked less than 10 years / started work before age of 10 - deleted\n"
     ]
    }
   ],
   "source": [
    "sharelife = sharelife_preprocessing(sharelife)"
   ]
  },
  {
   "cell_type": "markdown",
   "metadata": {},
   "source": [
    "Preprocess **additional data from SHARE waves 6-8** where isco is available"
   ]
  },
  {
   "cell_type": "code",
   "execution_count": 4,
   "metadata": {},
   "outputs": [],
   "source": [
    "file_names = [\"cv_r.dta\", \"dn.dta\", \"ep.dta\"]\n",
    "sharelife_add = import_share_stata1(file_names=file_names, waves=[6, 7, 8])"
   ]
  },
  {
   "cell_type": "code",
   "execution_count": 5,
   "metadata": {},
   "outputs": [
    {
     "name": "stdout",
     "output_type": "stream",
     "text": [
      "Gender, country, 1st year in country - formatted, age 50+ filter - applied\n",
      "Years of education - calculated\n",
      "Current ISCO - identified, those changed job - deleted\n",
      "Years of contribution, 1st year of contribution - calculated\n",
      "Those worked less than 10 years / started work before age of 10 - deleted\n"
     ]
    }
   ],
   "source": [
    "sharelife_add = sharelife_add_preprocessing(sharelife_add, sharelife)"
   ]
  },
  {
   "cell_type": "code",
   "execution_count": 6,
   "metadata": {},
   "outputs": [],
   "source": [
    "# Concat main and additional datasets\n",
    "df = pd.concat([sharelife, sharelife_add], axis=0).reset_index(drop=True)"
   ]
  },
  {
   "cell_type": "markdown",
   "metadata": {},
   "source": [
    "Preprocess **main data from SHARE waves 4-6**"
   ]
  },
  {
   "cell_type": "code",
   "execution_count": 7,
   "metadata": {},
   "outputs": [],
   "source": [
    "file_names = [\"cv_r.dta\", \"dn.dta\", \"ep.dta\", \"ch.dta\", \"gv_health.dta\", \"as.dta\"]\n",
    "share = import_share_stata1(\n",
    "    file_names=file_names, waves=[4, 5, 6], convert_categoricals=True\n",
    ")"
   ]
  },
  {
   "cell_type": "code",
   "execution_count": 8,
   "metadata": {},
   "outputs": [
    {
     "name": "stdout",
     "output_type": "stream",
     "text": [
      "Those without ISCO codes - deleted\n",
      "Current year, age, number of children and living with a partner - imputed\n",
      "Currently not working and eligible to special pensions - deleted\n",
      "Job status, industry of employment - added\n",
      "Household income, investments, life insurance - added\n",
      "Physical and mental health indicators - added\n"
     ]
    }
   ],
   "source": [
    "share = share_preprocessing(share, df)"
   ]
  },
  {
   "cell_type": "code",
   "execution_count": 9,
   "metadata": {},
   "outputs": [],
   "source": [
    "# Merge with Sharelife data\n",
    "df = share.merge(df, on=[\"mergeid\"], how=\"left\")"
   ]
  },
  {
   "cell_type": "markdown",
   "metadata": {},
   "source": [
    "Final preprocessing for **full SHARE dataset**"
   ]
  },
  {
   "cell_type": "code",
   "execution_count": 10,
   "metadata": {},
   "outputs": [
    {
     "name": "stdout",
     "output_type": "stream",
     "text": [
      "Current years of contribution - calculated\n",
      "Data types - corrected\n",
      "Retirement age, work horizon and work horizon change by reforms - calculated\n",
      "Longitudinal weights imputed in STATA - added\n"
     ]
    }
   ],
   "source": [
    "df = share_final_preprocessing(df)"
   ]
  },
  {
   "cell_type": "code",
   "execution_count": 11,
   "metadata": {},
   "outputs": [
    {
     "data": {
      "text/plain": [
       "0"
      ]
     },
     "execution_count": 11,
     "metadata": {},
     "output_type": "execute_result"
    }
   ],
   "source": [
    "df.duplicated().sum()"
   ]
  },
  {
   "cell_type": "code",
   "execution_count": 12,
   "metadata": {},
   "outputs": [
    {
     "data": {
      "text/html": [
       "<div>\n",
       "<style scoped>\n",
       "    .dataframe tbody tr th:only-of-type {\n",
       "        vertical-align: middle;\n",
       "    }\n",
       "\n",
       "    .dataframe tbody tr th {\n",
       "        vertical-align: top;\n",
       "    }\n",
       "\n",
       "    .dataframe thead th {\n",
       "        text-align: right;\n",
       "    }\n",
       "</style>\n",
       "<table border=\"1\" class=\"dataframe\">\n",
       "  <thead>\n",
       "    <tr style=\"text-align: right;\">\n",
       "      <th></th>\n",
       "      <th>mergeid</th>\n",
       "      <th>hhid</th>\n",
       "      <th>wave</th>\n",
       "      <th>year</th>\n",
       "      <th>age</th>\n",
       "      <th>nb_children</th>\n",
       "      <th>nb_grandchildren</th>\n",
       "      <th>partnerinhh</th>\n",
       "      <th>job_status</th>\n",
       "      <th>industry</th>\n",
       "      <th>...</th>\n",
       "      <th>yr1country</th>\n",
       "      <th>yrseducation</th>\n",
       "      <th>isco</th>\n",
       "      <th>yr1contribution</th>\n",
       "      <th>yrscontribution</th>\n",
       "      <th>retirement_age</th>\n",
       "      <th>work_horizon</th>\n",
       "      <th>work_horizon_change</th>\n",
       "      <th>dw_w4</th>\n",
       "      <th>my_wgt</th>\n",
       "    </tr>\n",
       "  </thead>\n",
       "  <tbody>\n",
       "    <tr>\n",
       "      <th>0</th>\n",
       "      <td>AT-009262-01</td>\n",
       "      <td>AT-009262-A</td>\n",
       "      <td>4</td>\n",
       "      <td>2011</td>\n",
       "      <td>56.0</td>\n",
       "      <td>1.0</td>\n",
       "      <td>2.0</td>\n",
       "      <td>1</td>\n",
       "      <td>Self-employed</td>\n",
       "      <td>Wholesale and retail trade</td>\n",
       "      <td>...</td>\n",
       "      <td>1955.0</td>\n",
       "      <td>12.0</td>\n",
       "      <td>5211</td>\n",
       "      <td>1973</td>\n",
       "      <td>39.0</td>\n",
       "      <td>60.0</td>\n",
       "      <td>4.0</td>\n",
       "      <td>0.0</td>\n",
       "      <td>679.236943</td>\n",
       "      <td>1173.063477</td>\n",
       "    </tr>\n",
       "    <tr>\n",
       "      <th>1</th>\n",
       "      <td>AT-009376-01</td>\n",
       "      <td>AT-009376-A</td>\n",
       "      <td>4</td>\n",
       "      <td>2011</td>\n",
       "      <td>53.0</td>\n",
       "      <td>2.0</td>\n",
       "      <td>0.0</td>\n",
       "      <td>1</td>\n",
       "      <td>Civil servant</td>\n",
       "      <td>Transport, storage and communication</td>\n",
       "      <td>...</td>\n",
       "      <td>1958.0</td>\n",
       "      <td>3.0</td>\n",
       "      <td>3512</td>\n",
       "      <td>1973</td>\n",
       "      <td>39.0</td>\n",
       "      <td>60.0</td>\n",
       "      <td>7.0</td>\n",
       "      <td>0.0</td>\n",
       "      <td>667.741527</td>\n",
       "      <td>1417.228760</td>\n",
       "    </tr>\n",
       "    <tr>\n",
       "      <th>2</th>\n",
       "      <td>AT-011070-01</td>\n",
       "      <td>AT-011070-A</td>\n",
       "      <td>4</td>\n",
       "      <td>2011</td>\n",
       "      <td>59.0</td>\n",
       "      <td>2.0</td>\n",
       "      <td>0.0</td>\n",
       "      <td>1</td>\n",
       "      <td>Civil servant</td>\n",
       "      <td>Education</td>\n",
       "      <td>...</td>\n",
       "      <td>1952.0</td>\n",
       "      <td>14.0</td>\n",
       "      <td>2330</td>\n",
       "      <td>1974</td>\n",
       "      <td>38.0</td>\n",
       "      <td>60.0</td>\n",
       "      <td>1.0</td>\n",
       "      <td>0.0</td>\n",
       "      <td>323.719923</td>\n",
       "      <td>559.074463</td>\n",
       "    </tr>\n",
       "    <tr>\n",
       "      <th>3</th>\n",
       "      <td>AT-018536-01</td>\n",
       "      <td>AT-018536-A</td>\n",
       "      <td>4</td>\n",
       "      <td>2011</td>\n",
       "      <td>51.0</td>\n",
       "      <td>1.0</td>\n",
       "      <td>1.0</td>\n",
       "      <td>0</td>\n",
       "      <td>Employee</td>\n",
       "      <td>Manufacturing</td>\n",
       "      <td>...</td>\n",
       "      <td>1960.0</td>\n",
       "      <td>11.0</td>\n",
       "      <td>7211</td>\n",
       "      <td>1975</td>\n",
       "      <td>37.0</td>\n",
       "      <td>60.0</td>\n",
       "      <td>9.0</td>\n",
       "      <td>0.0</td>\n",
       "      <td>719.208342</td>\n",
       "      <td>1526.463013</td>\n",
       "    </tr>\n",
       "    <tr>\n",
       "      <th>4</th>\n",
       "      <td>AT-020977-02</td>\n",
       "      <td>AT-020977-A</td>\n",
       "      <td>4</td>\n",
       "      <td>2011</td>\n",
       "      <td>57.0</td>\n",
       "      <td>2.0</td>\n",
       "      <td>0.0</td>\n",
       "      <td>1</td>\n",
       "      <td>Self-employed</td>\n",
       "      <td>Other community</td>\n",
       "      <td>...</td>\n",
       "      <td>1954.0</td>\n",
       "      <td>6.0</td>\n",
       "      <td>2642</td>\n",
       "      <td>1979</td>\n",
       "      <td>20.0</td>\n",
       "      <td>60.0</td>\n",
       "      <td>3.0</td>\n",
       "      <td>0.0</td>\n",
       "      <td>559.672543</td>\n",
       "      <td>966.572083</td>\n",
       "    </tr>\n",
       "    <tr>\n",
       "      <th>...</th>\n",
       "      <td>...</td>\n",
       "      <td>...</td>\n",
       "      <td>...</td>\n",
       "      <td>...</td>\n",
       "      <td>...</td>\n",
       "      <td>...</td>\n",
       "      <td>...</td>\n",
       "      <td>...</td>\n",
       "      <td>...</td>\n",
       "      <td>...</td>\n",
       "      <td>...</td>\n",
       "      <td>...</td>\n",
       "      <td>...</td>\n",
       "      <td>...</td>\n",
       "      <td>...</td>\n",
       "      <td>...</td>\n",
       "      <td>...</td>\n",
       "      <td>...</td>\n",
       "      <td>...</td>\n",
       "      <td>...</td>\n",
       "      <td>...</td>\n",
       "    </tr>\n",
       "    <tr>\n",
       "      <th>5589</th>\n",
       "      <td>SI-982513-01</td>\n",
       "      <td>SI-982513-A</td>\n",
       "      <td>6</td>\n",
       "      <td>2015</td>\n",
       "      <td>58.0</td>\n",
       "      <td>2.0</td>\n",
       "      <td>0.0</td>\n",
       "      <td>0</td>\n",
       "      <td>Self-employed</td>\n",
       "      <td>Manufacturing</td>\n",
       "      <td>...</td>\n",
       "      <td>1957.0</td>\n",
       "      <td>13.0</td>\n",
       "      <td>2146</td>\n",
       "      <td>1977</td>\n",
       "      <td>39.0</td>\n",
       "      <td>60.0</td>\n",
       "      <td>2.0</td>\n",
       "      <td>0.0</td>\n",
       "      <td>79.721030</td>\n",
       "      <td>302.864777</td>\n",
       "    </tr>\n",
       "    <tr>\n",
       "      <th>5590</th>\n",
       "      <td>SI-983385-01</td>\n",
       "      <td>SI-983385-A</td>\n",
       "      <td>6</td>\n",
       "      <td>2015</td>\n",
       "      <td>60.0</td>\n",
       "      <td>2.0</td>\n",
       "      <td>2.0</td>\n",
       "      <td>1</td>\n",
       "      <td>Self-employed</td>\n",
       "      <td>Agriculture, hunting, forestry, fishing</td>\n",
       "      <td>...</td>\n",
       "      <td>1955.0</td>\n",
       "      <td>16.0</td>\n",
       "      <td>5211</td>\n",
       "      <td>1985</td>\n",
       "      <td>30.0</td>\n",
       "      <td>65.0</td>\n",
       "      <td>5.0</td>\n",
       "      <td>0.0</td>\n",
       "      <td>106.589878</td>\n",
       "      <td>404.941071</td>\n",
       "    </tr>\n",
       "    <tr>\n",
       "      <th>5591</th>\n",
       "      <td>SI-991974-01</td>\n",
       "      <td>SI-991974-A</td>\n",
       "      <td>6</td>\n",
       "      <td>2015</td>\n",
       "      <td>58.0</td>\n",
       "      <td>0.0</td>\n",
       "      <td>0.0</td>\n",
       "      <td>1</td>\n",
       "      <td>Public sector employee</td>\n",
       "      <td>Other community</td>\n",
       "      <td>...</td>\n",
       "      <td>1957.0</td>\n",
       "      <td>11.0</td>\n",
       "      <td>9129</td>\n",
       "      <td>1976</td>\n",
       "      <td>21.0</td>\n",
       "      <td>65.0</td>\n",
       "      <td>7.0</td>\n",
       "      <td>0.0</td>\n",
       "      <td>76.036545</td>\n",
       "      <td>288.918274</td>\n",
       "    </tr>\n",
       "    <tr>\n",
       "      <th>5592</th>\n",
       "      <td>SI-993692-01</td>\n",
       "      <td>SI-993692-A</td>\n",
       "      <td>6</td>\n",
       "      <td>2015</td>\n",
       "      <td>55.0</td>\n",
       "      <td>2.0</td>\n",
       "      <td>0.0</td>\n",
       "      <td>1</td>\n",
       "      <td>Self-employed</td>\n",
       "      <td>Other community</td>\n",
       "      <td>...</td>\n",
       "      <td>1960.0</td>\n",
       "      <td>16.0</td>\n",
       "      <td>2353</td>\n",
       "      <td>1984</td>\n",
       "      <td>32.0</td>\n",
       "      <td>63.0</td>\n",
       "      <td>8.0</td>\n",
       "      <td>0.0</td>\n",
       "      <td>112.548171</td>\n",
       "      <td>427.652557</td>\n",
       "    </tr>\n",
       "    <tr>\n",
       "      <th>5593</th>\n",
       "      <td>SI-994179-01</td>\n",
       "      <td>SI-994179-A</td>\n",
       "      <td>6</td>\n",
       "      <td>2015</td>\n",
       "      <td>56.0</td>\n",
       "      <td>1.0</td>\n",
       "      <td>0.0</td>\n",
       "      <td>1</td>\n",
       "      <td>Private sector employee</td>\n",
       "      <td>Manufacturing</td>\n",
       "      <td>...</td>\n",
       "      <td>1959.0</td>\n",
       "      <td>12.0</td>\n",
       "      <td>3343</td>\n",
       "      <td>1979</td>\n",
       "      <td>36.0</td>\n",
       "      <td>60.0</td>\n",
       "      <td>4.0</td>\n",
       "      <td>0.0</td>\n",
       "      <td>71.858020</td>\n",
       "      <td>273.041016</td>\n",
       "    </tr>\n",
       "  </tbody>\n",
       "</table>\n",
       "<p>5594 rows × 36 columns</p>\n",
       "</div>"
      ],
      "text/plain": [
       "           mergeid         hhid  wave  year   age  nb_children  \\\n",
       "0     AT-009262-01  AT-009262-A     4  2011  56.0          1.0   \n",
       "1     AT-009376-01  AT-009376-A     4  2011  53.0          2.0   \n",
       "2     AT-011070-01  AT-011070-A     4  2011  59.0          2.0   \n",
       "3     AT-018536-01  AT-018536-A     4  2011  51.0          1.0   \n",
       "4     AT-020977-02  AT-020977-A     4  2011  57.0          2.0   \n",
       "...            ...          ...   ...   ...   ...          ...   \n",
       "5589  SI-982513-01  SI-982513-A     6  2015  58.0          2.0   \n",
       "5590  SI-983385-01  SI-983385-A     6  2015  60.0          2.0   \n",
       "5591  SI-991974-01  SI-991974-A     6  2015  58.0          0.0   \n",
       "5592  SI-993692-01  SI-993692-A     6  2015  55.0          2.0   \n",
       "5593  SI-994179-01  SI-994179-A     6  2015  56.0          1.0   \n",
       "\n",
       "      nb_grandchildren  partnerinhh               job_status  \\\n",
       "0                  2.0            1            Self-employed   \n",
       "1                  0.0            1            Civil servant   \n",
       "2                  0.0            1            Civil servant   \n",
       "3                  1.0            0                 Employee   \n",
       "4                  0.0            1            Self-employed   \n",
       "...                ...          ...                      ...   \n",
       "5589               0.0            0            Self-employed   \n",
       "5590               2.0            1            Self-employed   \n",
       "5591               0.0            1   Public sector employee   \n",
       "5592               0.0            1            Self-employed   \n",
       "5593               0.0            1  Private sector employee   \n",
       "\n",
       "                                     industry  ...  yr1country  yrseducation  \\\n",
       "0                  Wholesale and retail trade  ...      1955.0          12.0   \n",
       "1        Transport, storage and communication  ...      1958.0           3.0   \n",
       "2                                   Education  ...      1952.0          14.0   \n",
       "3                               Manufacturing  ...      1960.0          11.0   \n",
       "4                             Other community  ...      1954.0           6.0   \n",
       "...                                       ...  ...         ...           ...   \n",
       "5589                            Manufacturing  ...      1957.0          13.0   \n",
       "5590  Agriculture, hunting, forestry, fishing  ...      1955.0          16.0   \n",
       "5591                          Other community  ...      1957.0          11.0   \n",
       "5592                          Other community  ...      1960.0          16.0   \n",
       "5593                            Manufacturing  ...      1959.0          12.0   \n",
       "\n",
       "      isco  yr1contribution yrscontribution retirement_age  work_horizon  \\\n",
       "0     5211             1973            39.0           60.0           4.0   \n",
       "1     3512             1973            39.0           60.0           7.0   \n",
       "2     2330             1974            38.0           60.0           1.0   \n",
       "3     7211             1975            37.0           60.0           9.0   \n",
       "4     2642             1979            20.0           60.0           3.0   \n",
       "...    ...              ...             ...            ...           ...   \n",
       "5589  2146             1977            39.0           60.0           2.0   \n",
       "5590  5211             1985            30.0           65.0           5.0   \n",
       "5591  9129             1976            21.0           65.0           7.0   \n",
       "5592  2353             1984            32.0           63.0           8.0   \n",
       "5593  3343             1979            36.0           60.0           4.0   \n",
       "\n",
       "     work_horizon_change       dw_w4       my_wgt  \n",
       "0                    0.0  679.236943  1173.063477  \n",
       "1                    0.0  667.741527  1417.228760  \n",
       "2                    0.0  323.719923   559.074463  \n",
       "3                    0.0  719.208342  1526.463013  \n",
       "4                    0.0  559.672543   966.572083  \n",
       "...                  ...         ...          ...  \n",
       "5589                 0.0   79.721030   302.864777  \n",
       "5590                 0.0  106.589878   404.941071  \n",
       "5591                 0.0   76.036545   288.918274  \n",
       "5592                 0.0  112.548171   427.652557  \n",
       "5593                 0.0   71.858020   273.041016  \n",
       "\n",
       "[5594 rows x 36 columns]"
      ]
     },
     "execution_count": 12,
     "metadata": {},
     "output_type": "execute_result"
    }
   ],
   "source": [
    "df"
   ]
  },
  {
   "cell_type": "code",
   "execution_count": 13,
   "metadata": {},
   "outputs": [],
   "source": [
    "df.to_csv(\n",
    "    \"/Users/alexandralugova/Documents/GitHub/MH-old-workers/data/datasets/results/share_clean_w456.csv\",\n",
    "    index=False,\n",
    ")  # Save resulting dataset"
   ]
  }
 ],
 "metadata": {
  "kernelspec": {
   "display_name": "mhold",
   "language": "python",
   "name": "python3"
  },
  "language_info": {
   "codemirror_mode": {
    "name": "ipython",
    "version": 3
   },
   "file_extension": ".py",
   "mimetype": "text/x-python",
   "name": "python",
   "nbconvert_exporter": "python",
   "pygments_lexer": "ipython3",
   "version": "3.11.5"
  }
 },
 "nbformat": 4,
 "nbformat_minor": 2
}
