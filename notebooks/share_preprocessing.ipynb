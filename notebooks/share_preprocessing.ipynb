{
 "cells": [
  {
   "cell_type": "markdown",
   "metadata": {},
   "source": [
    "# MH of older workers, retirement age and working conditions"
   ]
  },
  {
   "cell_type": "markdown",
   "metadata": {},
   "source": [
    "## Preprocessing SHARE data"
   ]
  },
  {
   "cell_type": "markdown",
   "metadata": {},
   "source": [
    "Load libraries"
   ]
  },
  {
   "cell_type": "code",
   "execution_count": 1,
   "metadata": {},
   "outputs": [],
   "source": [
    "import os\n",
    "import sys\n",
    "\n",
    "src_path = os.path.abspath(\"../\")\n",
    "sys.path.append(src_path)\n",
    "\n",
    "from utils.common import *\n",
    "from utils.retirement import *\n",
    "from utils.share import *\n",
    "\n",
    "import_libraries()"
   ]
  },
  {
   "cell_type": "markdown",
   "metadata": {},
   "source": [
    "Preprocess **SHARELIFE data**, apply first filters and create first variables"
   ]
  },
  {
   "cell_type": "code",
   "execution_count": 2,
   "metadata": {},
   "outputs": [],
   "source": [
    "file_names = [\"cv_r.dta\", \"technical_variables.dta\", \"dn.dta\", \"re.dta\"]\n",
    "sharelife = import_share_stata1(file_names=file_names, waves=[7])"
   ]
  },
  {
   "cell_type": "code",
   "execution_count": 3,
   "metadata": {},
   "outputs": [
    {
     "name": "stdout",
     "output_type": "stream",
     "text": [
      "Initial n obs: 63248\n",
      "Gender, country, 1st year in country - formatted, age 50+ filter - applied\n",
      "N obs after processing gender and age: 56486\n",
      "Years of education - calculated\n",
      "N obs after processing education years: 56486\n",
      "Current ISCO - identified\n",
      "N obs after isco job changes: 42255\n",
      "Years of contribution, 1st year of contribution - calculated\n",
      "Those worked less than 10 years / started work before age of 10 - deleted\n",
      "N obs after contribution years: 42255\n"
     ]
    }
   ],
   "source": [
    "sharelife = sharelife_preprocessing(sharelife)"
   ]
  },
  {
   "cell_type": "markdown",
   "metadata": {},
   "source": [
    "Preprocess **additional data from SHARE waves 6-8** where isco is available"
   ]
  },
  {
   "cell_type": "code",
   "execution_count": 4,
   "metadata": {},
   "outputs": [],
   "source": [
    "file_names = [\"cv_r.dta\", \"dn.dta\", \"ep.dta\"]\n",
    "sharelife_add = import_share_stata1(\n",
    "    file_names=file_names, waves=[6, 7, 8], convert_categoricals=False\n",
    ")"
   ]
  },
  {
   "cell_type": "code",
   "execution_count": 5,
   "metadata": {},
   "outputs": [
    {
     "name": "stdout",
     "output_type": "stream",
     "text": [
      "N obs initial: 192020\n",
      "N obs dropping missing isco: 11541\n",
      "N obs after drop already present in Sharelife: 7323\n",
      "Gender, country, 1st year in country - formatted, age 50+ filter - applied\n",
      "N obs after gender and age: 3422\n",
      "Years of education - calculated\n",
      "N obs after education: 3422\n",
      "Current ISCO - identified, those changed job - deleted\n",
      "N obs after job and isco: 2701\n",
      "Years of contribution, 1st year of contribution - calculated\n",
      "Those worked less than 10 years / started work before age of 10 - deleted\n",
      "N obs after contribution years: 2701\n"
     ]
    }
   ],
   "source": [
    "sharelife_add = sharelife_add_preprocessing(sharelife_add, sharelife)"
   ]
  },
  {
   "cell_type": "code",
   "execution_count": 6,
   "metadata": {},
   "outputs": [],
   "source": [
    "# Concat main and additional datasets\n",
    "df = pd.concat([sharelife, sharelife_add], axis=0).reset_index(drop=True)"
   ]
  },
  {
   "cell_type": "markdown",
   "metadata": {},
   "source": [
    "Preprocess **main data from SHARE waves 4-6**"
   ]
  },
  {
   "cell_type": "code",
   "execution_count": 7,
   "metadata": {},
   "outputs": [],
   "source": [
    "file_names = [\"cv_r.dta\", \"dn.dta\", \"ep.dta\", \"ch.dta\", \"gv_health.dta\", \"as.dta\"]\n",
    "share = import_share_stata1(\n",
    "    file_names=file_names, waves=[4, 6], convert_categoricals=True\n",
    ")"
   ]
  },
  {
   "cell_type": "code",
   "execution_count": 8,
   "metadata": {},
   "outputs": [
    {
     "name": "stdout",
     "output_type": "stream",
     "text": [
      "Initial n obs: 126085\n",
      "Those without ISCO codes - deleted\n",
      "N obs with ISCO: 49238\n",
      "N obs after age calculation: 49238\n",
      "N obs after defining number of children: 49238\n",
      "Current year, age, number of children and living with a partner - imputed\n",
      "N obs after defining industry: 49238\n",
      "Job status, industry of employment - added\n",
      "N obs after defining finance: 49238\n",
      "Household income, investments, life insurance - added\n",
      "N obs after dropping missing sphus:49165\n",
      "N obs after dropping missing chronic:49164\n",
      "N obs after dropping missing eurod:47618\n",
      "Physical and mental health indicators - added\n",
      "N obs after health: 47618\n"
     ]
    }
   ],
   "source": [
    "share = share_preprocessing(share, df)"
   ]
  },
  {
   "cell_type": "code",
   "execution_count": 9,
   "metadata": {},
   "outputs": [],
   "source": [
    "# Merge with Sharelife data\n",
    "df = share.merge(df, on=[\"mergeid\"], how=\"left\")"
   ]
  },
  {
   "cell_type": "markdown",
   "metadata": {},
   "source": [
    "Final preprocessing for **full SHARE dataset**"
   ]
  },
  {
   "cell_type": "code",
   "execution_count": 10,
   "metadata": {},
   "outputs": [
    {
     "name": "stdout",
     "output_type": "stream",
     "text": [
      "N obs initial: 47618\n",
      "Current years of contribution - calculated\n",
      "Data types - corrected\n",
      "N obs after data types: 47618\n",
      "N obs retirement age (and filter to be under it): 47618\n",
      "Retirement age, work horizon and work horizon change by reforms - calculated\n",
      "N obs after work horizon change: 6058\n",
      "Longitudinal and crossectional weights - added\n",
      "N obs after weights: 6058\n"
     ]
    }
   ],
   "source": [
    "df = share_final_preprocessing(df)"
   ]
  },
  {
   "cell_type": "code",
   "execution_count": 21,
   "metadata": {},
   "outputs": [
    {
     "data": {
      "text/plain": [
       "0"
      ]
     },
     "execution_count": 21,
     "metadata": {},
     "output_type": "execute_result"
    }
   ],
   "source": [
    "df.duplicated().sum()"
   ]
  },
  {
   "cell_type": "code",
   "execution_count": 22,
   "metadata": {},
   "outputs": [
    {
     "data": {
      "text/plain": [
       "array(['Austria', 'Belgium', 'Czech Republic', 'Switzerland', 'Germany',\n",
       "       'Denmark', 'Estonia', 'Spain', 'France', 'Italy', 'Sweden',\n",
       "       'Slovenia'], dtype=object)"
      ]
     },
     "execution_count": 22,
     "metadata": {},
     "output_type": "execute_result"
    }
   ],
   "source": [
    "df.country.unique()"
   ]
  },
  {
   "cell_type": "code",
   "execution_count": 23,
   "metadata": {},
   "outputs": [
    {
     "data": {
      "text/plain": [
       "3029"
      ]
     },
     "execution_count": 23,
     "metadata": {},
     "output_type": "execute_result"
    }
   ],
   "source": [
    "df.mergeid.nunique()"
   ]
  },
  {
   "cell_type": "code",
   "execution_count": 17,
   "metadata": {},
   "outputs": [
    {
     "data": {
      "text/html": [
       "<div>\n",
       "<style scoped>\n",
       "    .dataframe tbody tr th:only-of-type {\n",
       "        vertical-align: middle;\n",
       "    }\n",
       "\n",
       "    .dataframe tbody tr th {\n",
       "        vertical-align: top;\n",
       "    }\n",
       "\n",
       "    .dataframe thead th {\n",
       "        text-align: right;\n",
       "    }\n",
       "</style>\n",
       "<table border=\"1\" class=\"dataframe\">\n",
       "  <thead>\n",
       "    <tr style=\"text-align: right;\">\n",
       "      <th></th>\n",
       "      <th>count</th>\n",
       "      <th>mean</th>\n",
       "      <th>std</th>\n",
       "      <th>min</th>\n",
       "      <th>25%</th>\n",
       "      <th>50%</th>\n",
       "      <th>75%</th>\n",
       "      <th>max</th>\n",
       "    </tr>\n",
       "    <tr>\n",
       "      <th>country</th>\n",
       "      <th></th>\n",
       "      <th></th>\n",
       "      <th></th>\n",
       "      <th></th>\n",
       "      <th></th>\n",
       "      <th></th>\n",
       "      <th></th>\n",
       "      <th></th>\n",
       "    </tr>\n",
       "  </thead>\n",
       "  <tbody>\n",
       "    <tr>\n",
       "      <th>Austria</th>\n",
       "      <td>604.0</td>\n",
       "      <td>1.993377</td>\n",
       "      <td>0.114992</td>\n",
       "      <td>0.0</td>\n",
       "      <td>2.00</td>\n",
       "      <td>2.00</td>\n",
       "      <td>2.00</td>\n",
       "      <td>2.00</td>\n",
       "    </tr>\n",
       "    <tr>\n",
       "      <th>Belgium</th>\n",
       "      <td>1034.0</td>\n",
       "      <td>1.194391</td>\n",
       "      <td>1.485466</td>\n",
       "      <td>0.0</td>\n",
       "      <td>0.00</td>\n",
       "      <td>0.00</td>\n",
       "      <td>2.00</td>\n",
       "      <td>5.00</td>\n",
       "    </tr>\n",
       "    <tr>\n",
       "      <th>Czech Republic</th>\n",
       "      <td>648.0</td>\n",
       "      <td>4.030340</td>\n",
       "      <td>0.629199</td>\n",
       "      <td>2.0</td>\n",
       "      <td>4.00</td>\n",
       "      <td>4.00</td>\n",
       "      <td>4.00</td>\n",
       "      <td>8.00</td>\n",
       "    </tr>\n",
       "    <tr>\n",
       "      <th>Denmark</th>\n",
       "      <td>354.0</td>\n",
       "      <td>0.000000</td>\n",
       "      <td>0.000000</td>\n",
       "      <td>0.0</td>\n",
       "      <td>0.00</td>\n",
       "      <td>0.00</td>\n",
       "      <td>0.00</td>\n",
       "      <td>0.00</td>\n",
       "    </tr>\n",
       "    <tr>\n",
       "      <th>Estonia</th>\n",
       "      <td>876.0</td>\n",
       "      <td>1.496575</td>\n",
       "      <td>0.071632</td>\n",
       "      <td>0.0</td>\n",
       "      <td>1.50</td>\n",
       "      <td>1.50</td>\n",
       "      <td>1.50</td>\n",
       "      <td>1.50</td>\n",
       "    </tr>\n",
       "    <tr>\n",
       "      <th>France</th>\n",
       "      <td>766.0</td>\n",
       "      <td>0.170444</td>\n",
       "      <td>0.221876</td>\n",
       "      <td>0.0</td>\n",
       "      <td>0.00</td>\n",
       "      <td>0.00</td>\n",
       "      <td>0.34</td>\n",
       "      <td>1.00</td>\n",
       "    </tr>\n",
       "    <tr>\n",
       "      <th>Germany</th>\n",
       "      <td>32.0</td>\n",
       "      <td>0.031875</td>\n",
       "      <td>0.067415</td>\n",
       "      <td>0.0</td>\n",
       "      <td>0.00</td>\n",
       "      <td>0.00</td>\n",
       "      <td>0.00</td>\n",
       "      <td>0.17</td>\n",
       "    </tr>\n",
       "    <tr>\n",
       "      <th>Italy</th>\n",
       "      <td>196.0</td>\n",
       "      <td>2.690816</td>\n",
       "      <td>1.449851</td>\n",
       "      <td>0.0</td>\n",
       "      <td>1.60</td>\n",
       "      <td>3.60</td>\n",
       "      <td>3.75</td>\n",
       "      <td>4.75</td>\n",
       "    </tr>\n",
       "    <tr>\n",
       "      <th>Slovenia</th>\n",
       "      <td>580.0</td>\n",
       "      <td>2.296552</td>\n",
       "      <td>0.671391</td>\n",
       "      <td>2.0</td>\n",
       "      <td>2.00</td>\n",
       "      <td>2.00</td>\n",
       "      <td>2.00</td>\n",
       "      <td>4.00</td>\n",
       "    </tr>\n",
       "    <tr>\n",
       "      <th>Spain</th>\n",
       "      <td>76.0</td>\n",
       "      <td>0.217105</td>\n",
       "      <td>0.085070</td>\n",
       "      <td>0.0</td>\n",
       "      <td>0.25</td>\n",
       "      <td>0.25</td>\n",
       "      <td>0.25</td>\n",
       "      <td>0.25</td>\n",
       "    </tr>\n",
       "    <tr>\n",
       "      <th>Sweden</th>\n",
       "      <td>40.0</td>\n",
       "      <td>0.000000</td>\n",
       "      <td>0.000000</td>\n",
       "      <td>0.0</td>\n",
       "      <td>0.00</td>\n",
       "      <td>0.00</td>\n",
       "      <td>0.00</td>\n",
       "      <td>0.00</td>\n",
       "    </tr>\n",
       "    <tr>\n",
       "      <th>Switzerland</th>\n",
       "      <td>852.0</td>\n",
       "      <td>0.000000</td>\n",
       "      <td>0.000000</td>\n",
       "      <td>0.0</td>\n",
       "      <td>0.00</td>\n",
       "      <td>0.00</td>\n",
       "      <td>0.00</td>\n",
       "      <td>0.00</td>\n",
       "    </tr>\n",
       "  </tbody>\n",
       "</table>\n",
       "</div>"
      ],
      "text/plain": [
       "                 count      mean       std  min   25%   50%   75%   max\n",
       "country                                                                \n",
       "Austria          604.0  1.993377  0.114992  0.0  2.00  2.00  2.00  2.00\n",
       "Belgium         1034.0  1.194391  1.485466  0.0  0.00  0.00  2.00  5.00\n",
       "Czech Republic   648.0  4.030340  0.629199  2.0  4.00  4.00  4.00  8.00\n",
       "Denmark          354.0  0.000000  0.000000  0.0  0.00  0.00  0.00  0.00\n",
       "Estonia          876.0  1.496575  0.071632  0.0  1.50  1.50  1.50  1.50\n",
       "France           766.0  0.170444  0.221876  0.0  0.00  0.00  0.34  1.00\n",
       "Germany           32.0  0.031875  0.067415  0.0  0.00  0.00  0.00  0.17\n",
       "Italy            196.0  2.690816  1.449851  0.0  1.60  3.60  3.75  4.75\n",
       "Slovenia         580.0  2.296552  0.671391  2.0  2.00  2.00  2.00  4.00\n",
       "Spain             76.0  0.217105  0.085070  0.0  0.25  0.25  0.25  0.25\n",
       "Sweden            40.0  0.000000  0.000000  0.0  0.00  0.00  0.00  0.00\n",
       "Switzerland      852.0  0.000000  0.000000  0.0  0.00  0.00  0.00  0.00"
      ]
     },
     "execution_count": 17,
     "metadata": {},
     "output_type": "execute_result"
    }
   ],
   "source": [
    "df.groupby(\"country\").work_horizon_change.describe()"
   ]
  },
  {
   "cell_type": "code",
   "execution_count": 25,
   "metadata": {},
   "outputs": [],
   "source": [
    "df.to_csv(\n",
    "    \"/Users/alexandralugova/Documents/GitHub/MH-old-workers/data/datasets/results/share_clean_w46.csv\",\n",
    "    index=False,\n",
    ")  # Save resulting dataset"
   ]
  }
 ],
 "metadata": {
  "kernelspec": {
   "display_name": "mhold",
   "language": "python",
   "name": "python3"
  },
  "language_info": {
   "codemirror_mode": {
    "name": "ipython",
    "version": 3
   },
   "file_extension": ".py",
   "mimetype": "text/x-python",
   "name": "python",
   "nbconvert_exporter": "python",
   "pygments_lexer": "ipython3",
   "version": "3.11.5"
  }
 },
 "nbformat": 4,
 "nbformat_minor": 2
}
