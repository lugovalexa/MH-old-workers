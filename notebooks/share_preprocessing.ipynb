{
 "cells": [
  {
   "cell_type": "markdown",
   "metadata": {},
   "source": [
    "# MH of older workers, retirement age and working conditions"
   ]
  },
  {
   "cell_type": "markdown",
   "metadata": {},
   "source": [
    "## Preprocessing SHARE data"
   ]
  },
  {
   "cell_type": "markdown",
   "metadata": {},
   "source": [
    "Load libraries"
   ]
  },
  {
   "cell_type": "code",
   "execution_count": 1,
   "metadata": {},
   "outputs": [],
   "source": [
    "import os\n",
    "import sys\n",
    "\n",
    "src_path = os.path.abspath(\"../\")\n",
    "sys.path.append(src_path)\n",
    "\n",
    "from utils.common import *\n",
    "from utils.retirement import *\n",
    "from utils.share import *\n",
    "\n",
    "import_libraries()"
   ]
  },
  {
   "cell_type": "markdown",
   "metadata": {},
   "source": [
    "Preprocess **SHARELIFE data**, apply first filters and create first variables"
   ]
  },
  {
   "cell_type": "code",
   "execution_count": 2,
   "metadata": {},
   "outputs": [],
   "source": [
    "file_names = [\"cv_r.dta\", \"technical_variables.dta\", \"dn.dta\", \"re.dta\"]\n",
    "sharelife = import_share_stata1(file_names=file_names, waves=[7])"
   ]
  },
  {
   "cell_type": "code",
   "execution_count": 3,
   "metadata": {},
   "outputs": [
    {
     "name": "stdout",
     "output_type": "stream",
     "text": [
      "Initial n obs: 63248\n",
      "Gender, country, 1st year in country - formatted, age 50+ filter - applied\n",
      "N obs after processing gender and age: 56486\n",
      "Years of education - calculated\n",
      "N obs after processing education years: 56486\n",
      "Current ISCO - identified\n",
      "N obs after isco job changes: 42255\n",
      "Years of contribution, 1st year of contribution - calculated\n",
      "Those worked less than 10 years / started work before age of 10 - deleted\n",
      "N obs after contribution years: 42255\n"
     ]
    }
   ],
   "source": [
    "sharelife = sharelife_preprocessing(sharelife)"
   ]
  },
  {
   "cell_type": "markdown",
   "metadata": {},
   "source": [
    "Preprocess **additional data from SHARE waves 6-8** where isco is available"
   ]
  },
  {
   "cell_type": "code",
   "execution_count": 4,
   "metadata": {},
   "outputs": [],
   "source": [
    "file_names = [\"cv_r.dta\", \"dn.dta\", \"ep.dta\"]\n",
    "sharelife_add = import_share_stata1(\n",
    "    file_names=file_names, waves=[6, 7, 8], convert_categoricals=True\n",
    ")"
   ]
  },
  {
   "cell_type": "code",
   "execution_count": 5,
   "metadata": {},
   "outputs": [
    {
     "name": "stdout",
     "output_type": "stream",
     "text": [
      "N obs initial: 192020\n",
      "N obs dropping missing isco: 10679\n",
      "N obs after drop already present in Sharelife: 6695\n",
      "Gender, country, 1st year in country - formatted, age 50+ filter - applied\n",
      "N obs after gender and age: 3132\n",
      "Years of education - calculated\n",
      "N obs after education: 3132\n",
      "Current ISCO - identified, those changed job - deleted\n",
      "N obs after job and isco: 2413\n",
      "Years of contribution, 1st year of contribution - calculated\n",
      "Those worked less than 10 years / started work before age of 10 - deleted\n",
      "N obs after contribution years: 2413\n"
     ]
    }
   ],
   "source": [
    "sharelife_add = sharelife_add_preprocessing(sharelife_add, sharelife)"
   ]
  },
  {
   "cell_type": "code",
   "execution_count": 6,
   "metadata": {},
   "outputs": [],
   "source": [
    "# Concat main and additional datasets\n",
    "df = pd.concat([sharelife, sharelife_add], axis=0).reset_index(drop=True)"
   ]
  },
  {
   "cell_type": "markdown",
   "metadata": {},
   "source": [
    "Preprocess **main data from SHARE waves 4-6**"
   ]
  },
  {
   "cell_type": "code",
   "execution_count": 7,
   "metadata": {},
   "outputs": [],
   "source": [
    "file_names = [\"cv_r.dta\", \"dn.dta\", \"ep.dta\", \"ch.dta\", \"gv_health.dta\", \"as.dta\"]\n",
    "share = import_share_stata1(\n",
    "    file_names=file_names, waves=[4, 6], convert_categoricals=True\n",
    ")"
   ]
  },
  {
   "cell_type": "code",
   "execution_count": 8,
   "metadata": {},
   "outputs": [
    {
     "name": "stdout",
     "output_type": "stream",
     "text": [
      "Initial n obs: 126085\n",
      "Those without ISCO codes - deleted\n",
      "N obs with ISCO: 48858\n",
      "N obs after age calculation: 48858\n",
      "N obs after defining number of children: 48858\n",
      "Current year, age, number of children and living with a partner - imputed\n",
      "N obs after leaving only employed: 15142\n",
      "Currently not working (and eligible to special pensions) - deleted\n",
      "N obs after defining industry: 15142\n",
      "Job status, industry of employment - added\n",
      "N obs after defining finance: 15142\n",
      "Household income, investments, life insurance - added\n",
      "N obs after dropping missing sphus:15133\n",
      "N obs after dropping missing chronic:15133\n",
      "N obs after dropping missing eurod:14771\n",
      "Physical and mental health indicators - added\n",
      "N obs after health: 14771\n"
     ]
    }
   ],
   "source": [
    "share = share_preprocessing(share, df)"
   ]
  },
  {
   "cell_type": "code",
   "execution_count": 9,
   "metadata": {},
   "outputs": [],
   "source": [
    "# Merge with Sharelife data\n",
    "df = share.merge(df, on=[\"mergeid\"], how=\"left\")"
   ]
  },
  {
   "cell_type": "markdown",
   "metadata": {},
   "source": [
    "Final preprocessing for **full SHARE dataset**"
   ]
  },
  {
   "cell_type": "code",
   "execution_count": 10,
   "metadata": {},
   "outputs": [
    {
     "name": "stdout",
     "output_type": "stream",
     "text": [
      "N obs initial: 14771\n",
      "Current years of contribution - calculated\n",
      "Data types - corrected\n",
      "N obs after data types: 14771\n",
      "Retirement age, work horizon and work horizon change by reforms - calculated\n",
      "N obs after work horizon change: 9592\n",
      "Longitudinal and crossectional weights - added\n",
      "N obs after weights: 9486\n"
     ]
    }
   ],
   "source": [
    "df = share_final_preprocessing(df)"
   ]
  },
  {
   "cell_type": "code",
   "execution_count": 11,
   "metadata": {},
   "outputs": [
    {
     "data": {
      "text/plain": [
       "array(['Austria', 'Belgium', 'Czech Republic', 'Switzerland', 'Germany',\n",
       "       'Denmark', 'Estonia', 'Spain', 'France', 'Hungary', 'Italy',\n",
       "       'Netherlands', 'Poland', 'Portugal', 'Sweden', 'Slovenia',\n",
       "       'Greece', 'Luxembourg'], dtype=object)"
      ]
     },
     "execution_count": 11,
     "metadata": {},
     "output_type": "execute_result"
    }
   ],
   "source": [
    "df.country.unique()"
   ]
  },
  {
   "cell_type": "code",
   "execution_count": 12,
   "metadata": {},
   "outputs": [
    {
     "data": {
      "text/plain": [
       "6979"
      ]
     },
     "execution_count": 12,
     "metadata": {},
     "output_type": "execute_result"
    }
   ],
   "source": [
    "df.mergeid.nunique()"
   ]
  },
  {
   "cell_type": "code",
   "execution_count": 13,
   "metadata": {},
   "outputs": [
    {
     "data": {
      "text/plain": [
       "count\n",
       "1    4472\n",
       "2    2507\n",
       "Name: count, dtype: int64"
      ]
     },
     "execution_count": 13,
     "metadata": {},
     "output_type": "execute_result"
    }
   ],
   "source": [
    "df[\"mergeid\"].value_counts().value_counts()"
   ]
  },
  {
   "cell_type": "code",
   "execution_count": 14,
   "metadata": {},
   "outputs": [
    {
     "data": {
      "text/html": [
       "<div>\n",
       "<style scoped>\n",
       "    .dataframe tbody tr th:only-of-type {\n",
       "        vertical-align: middle;\n",
       "    }\n",
       "\n",
       "    .dataframe tbody tr th {\n",
       "        vertical-align: top;\n",
       "    }\n",
       "\n",
       "    .dataframe thead th {\n",
       "        text-align: right;\n",
       "    }\n",
       "</style>\n",
       "<table border=\"1\" class=\"dataframe\">\n",
       "  <thead>\n",
       "    <tr style=\"text-align: right;\">\n",
       "      <th></th>\n",
       "      <th>count</th>\n",
       "      <th>mean</th>\n",
       "      <th>std</th>\n",
       "      <th>min</th>\n",
       "      <th>25%</th>\n",
       "      <th>50%</th>\n",
       "      <th>75%</th>\n",
       "      <th>max</th>\n",
       "    </tr>\n",
       "    <tr>\n",
       "      <th>country</th>\n",
       "      <th></th>\n",
       "      <th></th>\n",
       "      <th></th>\n",
       "      <th></th>\n",
       "      <th></th>\n",
       "      <th></th>\n",
       "      <th></th>\n",
       "      <th></th>\n",
       "    </tr>\n",
       "  </thead>\n",
       "  <tbody>\n",
       "    <tr>\n",
       "      <th>Austria</th>\n",
       "      <td>566.0</td>\n",
       "      <td>0.000000</td>\n",
       "      <td>0.000000e+00</td>\n",
       "      <td>0.00</td>\n",
       "      <td>0.00</td>\n",
       "      <td>0.00</td>\n",
       "      <td>0.00</td>\n",
       "      <td>0.00</td>\n",
       "    </tr>\n",
       "    <tr>\n",
       "      <th>Belgium</th>\n",
       "      <td>1271.0</td>\n",
       "      <td>0.000000</td>\n",
       "      <td>0.000000e+00</td>\n",
       "      <td>0.00</td>\n",
       "      <td>0.00</td>\n",
       "      <td>0.00</td>\n",
       "      <td>0.00</td>\n",
       "      <td>0.00</td>\n",
       "    </tr>\n",
       "    <tr>\n",
       "      <th>Czech Republic</th>\n",
       "      <td>642.0</td>\n",
       "      <td>0.882118</td>\n",
       "      <td>3.687782e-01</td>\n",
       "      <td>0.00</td>\n",
       "      <td>0.66</td>\n",
       "      <td>1.00</td>\n",
       "      <td>1.00</td>\n",
       "      <td>4.00</td>\n",
       "    </tr>\n",
       "    <tr>\n",
       "      <th>Denmark</th>\n",
       "      <td>741.0</td>\n",
       "      <td>0.000000</td>\n",
       "      <td>0.000000e+00</td>\n",
       "      <td>0.00</td>\n",
       "      <td>0.00</td>\n",
       "      <td>0.00</td>\n",
       "      <td>0.00</td>\n",
       "      <td>0.00</td>\n",
       "    </tr>\n",
       "    <tr>\n",
       "      <th>Estonia</th>\n",
       "      <td>1214.0</td>\n",
       "      <td>0.904448</td>\n",
       "      <td>7.342274e-01</td>\n",
       "      <td>0.00</td>\n",
       "      <td>0.00</td>\n",
       "      <td>1.50</td>\n",
       "      <td>1.50</td>\n",
       "      <td>1.50</td>\n",
       "    </tr>\n",
       "    <tr>\n",
       "      <th>France</th>\n",
       "      <td>623.0</td>\n",
       "      <td>0.148347</td>\n",
       "      <td>2.101821e-01</td>\n",
       "      <td>0.00</td>\n",
       "      <td>0.00</td>\n",
       "      <td>0.00</td>\n",
       "      <td>0.33</td>\n",
       "      <td>0.50</td>\n",
       "    </tr>\n",
       "    <tr>\n",
       "      <th>Germany</th>\n",
       "      <td>765.0</td>\n",
       "      <td>0.170000</td>\n",
       "      <td>2.499636e-16</td>\n",
       "      <td>0.17</td>\n",
       "      <td>0.17</td>\n",
       "      <td>0.17</td>\n",
       "      <td>0.17</td>\n",
       "      <td>0.17</td>\n",
       "    </tr>\n",
       "    <tr>\n",
       "      <th>Greece</th>\n",
       "      <td>137.0</td>\n",
       "      <td>3.846715</td>\n",
       "      <td>2.443149e+00</td>\n",
       "      <td>0.00</td>\n",
       "      <td>2.00</td>\n",
       "      <td>2.00</td>\n",
       "      <td>7.00</td>\n",
       "      <td>7.00</td>\n",
       "    </tr>\n",
       "    <tr>\n",
       "      <th>Hungary</th>\n",
       "      <td>106.0</td>\n",
       "      <td>0.000000</td>\n",
       "      <td>0.000000e+00</td>\n",
       "      <td>0.00</td>\n",
       "      <td>0.00</td>\n",
       "      <td>0.00</td>\n",
       "      <td>0.00</td>\n",
       "      <td>0.00</td>\n",
       "    </tr>\n",
       "    <tr>\n",
       "      <th>Italy</th>\n",
       "      <td>420.0</td>\n",
       "      <td>1.525000</td>\n",
       "      <td>1.693197e+00</td>\n",
       "      <td>0.00</td>\n",
       "      <td>0.25</td>\n",
       "      <td>0.25</td>\n",
       "      <td>3.75</td>\n",
       "      <td>4.75</td>\n",
       "    </tr>\n",
       "    <tr>\n",
       "      <th>Luxembourg</th>\n",
       "      <td>180.0</td>\n",
       "      <td>0.000000</td>\n",
       "      <td>0.000000e+00</td>\n",
       "      <td>0.00</td>\n",
       "      <td>0.00</td>\n",
       "      <td>0.00</td>\n",
       "      <td>0.00</td>\n",
       "      <td>0.00</td>\n",
       "    </tr>\n",
       "    <tr>\n",
       "      <th>Netherlands</th>\n",
       "      <td>48.0</td>\n",
       "      <td>0.250000</td>\n",
       "      <td>0.000000e+00</td>\n",
       "      <td>0.25</td>\n",
       "      <td>0.25</td>\n",
       "      <td>0.25</td>\n",
       "      <td>0.25</td>\n",
       "      <td>0.25</td>\n",
       "    </tr>\n",
       "    <tr>\n",
       "      <th>Poland</th>\n",
       "      <td>186.0</td>\n",
       "      <td>0.670000</td>\n",
       "      <td>0.000000e+00</td>\n",
       "      <td>0.67</td>\n",
       "      <td>0.67</td>\n",
       "      <td>0.67</td>\n",
       "      <td>0.67</td>\n",
       "      <td>0.67</td>\n",
       "    </tr>\n",
       "    <tr>\n",
       "      <th>Portugal</th>\n",
       "      <td>297.0</td>\n",
       "      <td>1.000000</td>\n",
       "      <td>0.000000e+00</td>\n",
       "      <td>1.00</td>\n",
       "      <td>1.00</td>\n",
       "      <td>1.00</td>\n",
       "      <td>1.00</td>\n",
       "      <td>1.00</td>\n",
       "    </tr>\n",
       "    <tr>\n",
       "      <th>Slovenia</th>\n",
       "      <td>558.0</td>\n",
       "      <td>2.000000</td>\n",
       "      <td>0.000000e+00</td>\n",
       "      <td>2.00</td>\n",
       "      <td>2.00</td>\n",
       "      <td>2.00</td>\n",
       "      <td>2.00</td>\n",
       "      <td>2.00</td>\n",
       "    </tr>\n",
       "    <tr>\n",
       "      <th>Spain</th>\n",
       "      <td>58.0</td>\n",
       "      <td>0.232759</td>\n",
       "      <td>6.390215e-02</td>\n",
       "      <td>0.00</td>\n",
       "      <td>0.25</td>\n",
       "      <td>0.25</td>\n",
       "      <td>0.25</td>\n",
       "      <td>0.25</td>\n",
       "    </tr>\n",
       "    <tr>\n",
       "      <th>Sweden</th>\n",
       "      <td>697.0</td>\n",
       "      <td>0.000000</td>\n",
       "      <td>0.000000e+00</td>\n",
       "      <td>0.00</td>\n",
       "      <td>0.00</td>\n",
       "      <td>0.00</td>\n",
       "      <td>0.00</td>\n",
       "      <td>0.00</td>\n",
       "    </tr>\n",
       "    <tr>\n",
       "      <th>Switzerland</th>\n",
       "      <td>977.0</td>\n",
       "      <td>0.000000</td>\n",
       "      <td>0.000000e+00</td>\n",
       "      <td>0.00</td>\n",
       "      <td>0.00</td>\n",
       "      <td>0.00</td>\n",
       "      <td>0.00</td>\n",
       "      <td>0.00</td>\n",
       "    </tr>\n",
       "  </tbody>\n",
       "</table>\n",
       "</div>"
      ],
      "text/plain": [
       "                 count      mean           std   min   25%   50%   75%   max\n",
       "country                                                                     \n",
       "Austria          566.0  0.000000  0.000000e+00  0.00  0.00  0.00  0.00  0.00\n",
       "Belgium         1271.0  0.000000  0.000000e+00  0.00  0.00  0.00  0.00  0.00\n",
       "Czech Republic   642.0  0.882118  3.687782e-01  0.00  0.66  1.00  1.00  4.00\n",
       "Denmark          741.0  0.000000  0.000000e+00  0.00  0.00  0.00  0.00  0.00\n",
       "Estonia         1214.0  0.904448  7.342274e-01  0.00  0.00  1.50  1.50  1.50\n",
       "France           623.0  0.148347  2.101821e-01  0.00  0.00  0.00  0.33  0.50\n",
       "Germany          765.0  0.170000  2.499636e-16  0.17  0.17  0.17  0.17  0.17\n",
       "Greece           137.0  3.846715  2.443149e+00  0.00  2.00  2.00  7.00  7.00\n",
       "Hungary          106.0  0.000000  0.000000e+00  0.00  0.00  0.00  0.00  0.00\n",
       "Italy            420.0  1.525000  1.693197e+00  0.00  0.25  0.25  3.75  4.75\n",
       "Luxembourg       180.0  0.000000  0.000000e+00  0.00  0.00  0.00  0.00  0.00\n",
       "Netherlands       48.0  0.250000  0.000000e+00  0.25  0.25  0.25  0.25  0.25\n",
       "Poland           186.0  0.670000  0.000000e+00  0.67  0.67  0.67  0.67  0.67\n",
       "Portugal         297.0  1.000000  0.000000e+00  1.00  1.00  1.00  1.00  1.00\n",
       "Slovenia         558.0  2.000000  0.000000e+00  2.00  2.00  2.00  2.00  2.00\n",
       "Spain             58.0  0.232759  6.390215e-02  0.00  0.25  0.25  0.25  0.25\n",
       "Sweden           697.0  0.000000  0.000000e+00  0.00  0.00  0.00  0.00  0.00\n",
       "Switzerland      977.0  0.000000  0.000000e+00  0.00  0.00  0.00  0.00  0.00"
      ]
     },
     "execution_count": 14,
     "metadata": {},
     "output_type": "execute_result"
    }
   ],
   "source": [
    "df.groupby(\"country\").work_horizon_change.describe()"
   ]
  },
  {
   "cell_type": "code",
   "execution_count": 16,
   "metadata": {},
   "outputs": [],
   "source": [
    "df.to_csv(\n",
    "    \"/Users/alexandralugova/Documents/GitHub/MH-old-workers/data/datasets/results/share_clean_w46.csv\",\n",
    "    index=False,\n",
    ")  # Save resulting dataset"
   ]
  }
 ],
 "metadata": {
  "kernelspec": {
   "display_name": "mhold",
   "language": "python",
   "name": "python3"
  },
  "language_info": {
   "codemirror_mode": {
    "name": "ipython",
    "version": 3
   },
   "file_extension": ".py",
   "mimetype": "text/x-python",
   "name": "python",
   "nbconvert_exporter": "python",
   "pygments_lexer": "ipython3",
   "version": "3.11.5"
  }
 },
 "nbformat": 4,
 "nbformat_minor": 2
}
